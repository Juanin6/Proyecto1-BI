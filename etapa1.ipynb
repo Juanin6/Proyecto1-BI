{
 "cells": [
  {
   "cell_type": "markdown",
   "id": "b7c6c41b",
   "metadata": {},
   "source": [
    "# Proyecto 1 (Inteligencia de Negocios)\n",
    "\n",
    "## Roles\n",
    "\n",
    "- Rol --- Juan Nicolas Suarez\n",
    "- Rol --- David Santiago Carillo\n",
    "- Rol --- \n",
    "\n"
   ]
  },
  {
   "cell_type": "markdown",
   "id": "640ffc8e",
   "metadata": {},
   "source": [
    "## Objetivo principal del proyecto\n",
    "\n",
    "- Vincular de forma automática las opiniones de la ciudadanía con los Objetivos de Desarrollo\n",
    "Sostenible (ODS) 1, 3 y 4\n",
    "\n",
    "    **1.“Fin de la pobreza”** \n",
    "\n",
    "    **3.“Salud y bienestar”**\n",
    "\n",
    "    **4.“Educación de calidad”**"
   ]
  },
  {
   "cell_type": "markdown",
   "id": "d766e3d2",
   "metadata": {},
   "source": [
    "## Etapa 1 del Proyecto"
   ]
  },
  {
   "cell_type": "markdown",
   "id": "905d2faa",
   "metadata": {},
   "source": [
    "## Objetivo Etapa 1\n",
    "- Aplicar la metodología de analítica de textos para la construcción de soluciones de analítica alineadas con los objetivos de organizaciones en un contexto de aplicación.\n"
   ]
  },
  {
   "cell_type": "markdown",
   "id": "598c50f2",
   "metadata": {},
   "source": [
    "## Tareas"
   ]
  },
  {
   "cell_type": "markdown",
   "id": "6b578cc2",
   "metadata": {},
   "source": [
    "1. Canvas de aprendizaje automatico"
   ]
  },
  {
   "cell_type": "markdown",
   "id": "7ff9d40c",
   "metadata": {},
   "source": [
    "## Modelo de Machine Learning"
   ]
  },
  {
   "cell_type": "markdown",
   "id": "c2f0fc92",
   "metadata": {},
   "source": [
    "### 1. Instalacion e importacion de librerias"
   ]
  },
  {
   "cell_type": "code",
   "execution_count": 42,
   "id": "05ad46d0",
   "metadata": {},
   "outputs": [],
   "source": [
    "#!pip uninstall -y pandas-profiling\n"
   ]
  },
  {
   "cell_type": "code",
   "execution_count": 43,
   "id": "2144d021",
   "metadata": {},
   "outputs": [],
   "source": [
    "#!pip install -U \"visions[type_image_path]>=0.7.5,<0.8.2\"\n"
   ]
  },
  {
   "cell_type": "code",
   "execution_count": 44,
   "id": "1a555e7f",
   "metadata": {},
   "outputs": [],
   "source": [
    "#!pip install -U ydata-profiling"
   ]
  },
  {
   "cell_type": "code",
   "execution_count": 45,
   "id": "099bd80d",
   "metadata": {},
   "outputs": [],
   "source": [
    "#!pip install numba==0.56.4\n"
   ]
  },
  {
   "cell_type": "code",
   "execution_count": 46,
   "id": "772c9366",
   "metadata": {},
   "outputs": [
    {
     "name": "stdout",
     "output_type": "stream",
     "text": [
      "Collecting numpy==1.26.4\n",
      "  Using cached numpy-1.26.4-cp311-cp311-win_amd64.whl.metadata (61 kB)\n",
      "Using cached numpy-1.26.4-cp311-cp311-win_amd64.whl (15.8 MB)\n",
      "Installing collected packages: numpy\n",
      "  Attempting uninstall: numpy\n",
      "    Found existing installation: numpy 1.24.3\n",
      "    Uninstalling numpy-1.24.3:\n",
      "      Successfully uninstalled numpy-1.24.3\n",
      "Successfully installed numpy-1.26.4\n",
      "Note: you may need to restart the kernel to use updated packages.\n"
     ]
    },
    {
     "name": "stderr",
     "output_type": "stream",
     "text": [
      "ERROR: pip's dependency resolver does not currently take into account all the packages that are installed. This behaviour is the source of the following dependency conflicts.\n",
      "opencv-python 4.12.0.88 requires numpy<2.3.0,>=2; python_version >= \"3.9\", but you have numpy 1.26.4 which is incompatible.\n",
      "\n",
      "[notice] A new release of pip is available: 24.0 -> 25.2\n",
      "[notice] To update, run: C:\\Users\\dscv0\\AppData\\Local\\Microsoft\\WindowsApps\\PythonSoftwareFoundation.Python.3.11_qbz5n2kfra8p0\\python.exe -m pip install --upgrade pip\n"
     ]
    },
    {
     "name": "stdout",
     "output_type": "stream",
     "text": [
      "Requirement already satisfied: nltk in c:\\users\\dscv0\\appdata\\local\\packages\\pythonsoftwarefoundation.python.3.11_qbz5n2kfra8p0\\localcache\\local-packages\\python311\\site-packages (3.9.1)\n",
      "Requirement already satisfied: spacy<3.8 in c:\\users\\dscv0\\appdata\\local\\packages\\pythonsoftwarefoundation.python.3.11_qbz5n2kfra8p0\\localcache\\local-packages\\python311\\site-packages (3.7.5)\n",
      "Requirement already satisfied: click in c:\\users\\dscv0\\appdata\\local\\packages\\pythonsoftwarefoundation.python.3.11_qbz5n2kfra8p0\\localcache\\local-packages\\python311\\site-packages (from nltk) (8.2.1)\n",
      "Requirement already satisfied: joblib in c:\\users\\dscv0\\appdata\\local\\packages\\pythonsoftwarefoundation.python.3.11_qbz5n2kfra8p0\\localcache\\local-packages\\python311\\site-packages (from nltk) (1.5.1)\n",
      "Requirement already satisfied: regex>=2021.8.3 in c:\\users\\dscv0\\appdata\\local\\packages\\pythonsoftwarefoundation.python.3.11_qbz5n2kfra8p0\\localcache\\local-packages\\python311\\site-packages (from nltk) (2025.7.34)\n",
      "Requirement already satisfied: tqdm in c:\\users\\dscv0\\appdata\\local\\packages\\pythonsoftwarefoundation.python.3.11_qbz5n2kfra8p0\\localcache\\local-packages\\python311\\site-packages (from nltk) (4.67.1)\n",
      "Requirement already satisfied: spacy-legacy<3.1.0,>=3.0.11 in c:\\users\\dscv0\\appdata\\local\\packages\\pythonsoftwarefoundation.python.3.11_qbz5n2kfra8p0\\localcache\\local-packages\\python311\\site-packages (from spacy<3.8) (3.0.12)\n",
      "Requirement already satisfied: spacy-loggers<2.0.0,>=1.0.0 in c:\\users\\dscv0\\appdata\\local\\packages\\pythonsoftwarefoundation.python.3.11_qbz5n2kfra8p0\\localcache\\local-packages\\python311\\site-packages (from spacy<3.8) (1.0.5)\n",
      "Requirement already satisfied: murmurhash<1.1.0,>=0.28.0 in c:\\users\\dscv0\\appdata\\local\\packages\\pythonsoftwarefoundation.python.3.11_qbz5n2kfra8p0\\localcache\\local-packages\\python311\\site-packages (from spacy<3.8) (1.0.13)\n",
      "Requirement already satisfied: cymem<2.1.0,>=2.0.2 in c:\\users\\dscv0\\appdata\\local\\packages\\pythonsoftwarefoundation.python.3.11_qbz5n2kfra8p0\\localcache\\local-packages\\python311\\site-packages (from spacy<3.8) (2.0.11)\n",
      "Requirement already satisfied: preshed<3.1.0,>=3.0.2 in c:\\users\\dscv0\\appdata\\local\\packages\\pythonsoftwarefoundation.python.3.11_qbz5n2kfra8p0\\localcache\\local-packages\\python311\\site-packages (from spacy<3.8) (3.0.10)\n",
      "Requirement already satisfied: thinc<8.3.0,>=8.2.2 in c:\\users\\dscv0\\appdata\\local\\packages\\pythonsoftwarefoundation.python.3.11_qbz5n2kfra8p0\\localcache\\local-packages\\python311\\site-packages (from spacy<3.8) (8.2.5)\n",
      "Requirement already satisfied: wasabi<1.2.0,>=0.9.1 in c:\\users\\dscv0\\appdata\\local\\packages\\pythonsoftwarefoundation.python.3.11_qbz5n2kfra8p0\\localcache\\local-packages\\python311\\site-packages (from spacy<3.8) (1.1.3)\n",
      "Requirement already satisfied: srsly<3.0.0,>=2.4.3 in c:\\users\\dscv0\\appdata\\local\\packages\\pythonsoftwarefoundation.python.3.11_qbz5n2kfra8p0\\localcache\\local-packages\\python311\\site-packages (from spacy<3.8) (2.5.1)\n",
      "Requirement already satisfied: catalogue<2.1.0,>=2.0.6 in c:\\users\\dscv0\\appdata\\local\\packages\\pythonsoftwarefoundation.python.3.11_qbz5n2kfra8p0\\localcache\\local-packages\\python311\\site-packages (from spacy<3.8) (2.0.10)\n",
      "Requirement already satisfied: weasel<0.5.0,>=0.1.0 in c:\\users\\dscv0\\appdata\\local\\packages\\pythonsoftwarefoundation.python.3.11_qbz5n2kfra8p0\\localcache\\local-packages\\python311\\site-packages (from spacy<3.8) (0.4.1)\n",
      "Requirement already satisfied: typer<1.0.0,>=0.3.0 in c:\\users\\dscv0\\appdata\\local\\packages\\pythonsoftwarefoundation.python.3.11_qbz5n2kfra8p0\\localcache\\local-packages\\python311\\site-packages (from spacy<3.8) (0.17.4)\n",
      "Requirement already satisfied: requests<3.0.0,>=2.13.0 in c:\\users\\dscv0\\appdata\\local\\packages\\pythonsoftwarefoundation.python.3.11_qbz5n2kfra8p0\\localcache\\local-packages\\python311\\site-packages (from spacy<3.8) (2.32.5)\n",
      "Requirement already satisfied: pydantic!=1.8,!=1.8.1,<3.0.0,>=1.7.4 in c:\\users\\dscv0\\appdata\\local\\packages\\pythonsoftwarefoundation.python.3.11_qbz5n2kfra8p0\\localcache\\local-packages\\python311\\site-packages (from spacy<3.8) (2.11.7)\n",
      "Requirement already satisfied: jinja2 in c:\\users\\dscv0\\appdata\\local\\packages\\pythonsoftwarefoundation.python.3.11_qbz5n2kfra8p0\\localcache\\local-packages\\python311\\site-packages (from spacy<3.8) (3.1.6)\n",
      "Requirement already satisfied: setuptools in c:\\program files\\windowsapps\\pythonsoftwarefoundation.python.3.11_3.11.2544.0_x64__qbz5n2kfra8p0\\lib\\site-packages (from spacy<3.8) (65.5.0)\n",
      "Requirement already satisfied: packaging>=20.0 in c:\\users\\dscv0\\appdata\\local\\packages\\pythonsoftwarefoundation.python.3.11_qbz5n2kfra8p0\\localcache\\local-packages\\python311\\site-packages (from spacy<3.8) (25.0)\n",
      "Requirement already satisfied: langcodes<4.0.0,>=3.2.0 in c:\\users\\dscv0\\appdata\\local\\packages\\pythonsoftwarefoundation.python.3.11_qbz5n2kfra8p0\\localcache\\local-packages\\python311\\site-packages (from spacy<3.8) (3.5.0)\n",
      "Requirement already satisfied: numpy>=1.19.0 in c:\\users\\dscv0\\appdata\\local\\packages\\pythonsoftwarefoundation.python.3.11_qbz5n2kfra8p0\\localcache\\local-packages\\python311\\site-packages (from spacy<3.8) (1.26.4)\n",
      "Requirement already satisfied: language-data>=1.2 in c:\\users\\dscv0\\appdata\\local\\packages\\pythonsoftwarefoundation.python.3.11_qbz5n2kfra8p0\\localcache\\local-packages\\python311\\site-packages (from langcodes<4.0.0,>=3.2.0->spacy<3.8) (1.3.0)\n",
      "Requirement already satisfied: annotated-types>=0.6.0 in c:\\users\\dscv0\\appdata\\local\\packages\\pythonsoftwarefoundation.python.3.11_qbz5n2kfra8p0\\localcache\\local-packages\\python311\\site-packages (from pydantic!=1.8,!=1.8.1,<3.0.0,>=1.7.4->spacy<3.8) (0.7.0)\n",
      "Requirement already satisfied: pydantic-core==2.33.2 in c:\\users\\dscv0\\appdata\\local\\packages\\pythonsoftwarefoundation.python.3.11_qbz5n2kfra8p0\\localcache\\local-packages\\python311\\site-packages (from pydantic!=1.8,!=1.8.1,<3.0.0,>=1.7.4->spacy<3.8) (2.33.2)\n",
      "Requirement already satisfied: typing-extensions>=4.12.2 in c:\\users\\dscv0\\appdata\\local\\packages\\pythonsoftwarefoundation.python.3.11_qbz5n2kfra8p0\\localcache\\local-packages\\python311\\site-packages (from pydantic!=1.8,!=1.8.1,<3.0.0,>=1.7.4->spacy<3.8) (4.14.1)\n",
      "Requirement already satisfied: typing-inspection>=0.4.0 in c:\\users\\dscv0\\appdata\\local\\packages\\pythonsoftwarefoundation.python.3.11_qbz5n2kfra8p0\\localcache\\local-packages\\python311\\site-packages (from pydantic!=1.8,!=1.8.1,<3.0.0,>=1.7.4->spacy<3.8) (0.4.1)\n",
      "Requirement already satisfied: charset_normalizer<4,>=2 in c:\\users\\dscv0\\appdata\\local\\packages\\pythonsoftwarefoundation.python.3.11_qbz5n2kfra8p0\\localcache\\local-packages\\python311\\site-packages (from requests<3.0.0,>=2.13.0->spacy<3.8) (3.4.3)\n",
      "Requirement already satisfied: idna<4,>=2.5 in c:\\users\\dscv0\\appdata\\local\\packages\\pythonsoftwarefoundation.python.3.11_qbz5n2kfra8p0\\localcache\\local-packages\\python311\\site-packages (from requests<3.0.0,>=2.13.0->spacy<3.8) (3.10)\n",
      "Requirement already satisfied: urllib3<3,>=1.21.1 in c:\\users\\dscv0\\appdata\\local\\packages\\pythonsoftwarefoundation.python.3.11_qbz5n2kfra8p0\\localcache\\local-packages\\python311\\site-packages (from requests<3.0.0,>=2.13.0->spacy<3.8) (2.5.0)\n",
      "Requirement already satisfied: certifi>=2017.4.17 in c:\\users\\dscv0\\appdata\\local\\packages\\pythonsoftwarefoundation.python.3.11_qbz5n2kfra8p0\\localcache\\local-packages\\python311\\site-packages (from requests<3.0.0,>=2.13.0->spacy<3.8) (2025.8.3)\n",
      "Requirement already satisfied: blis<0.8.0,>=0.7.8 in c:\\users\\dscv0\\appdata\\local\\packages\\pythonsoftwarefoundation.python.3.11_qbz5n2kfra8p0\\localcache\\local-packages\\python311\\site-packages (from thinc<8.3.0,>=8.2.2->spacy<3.8) (0.7.11)\n",
      "Requirement already satisfied: confection<1.0.0,>=0.0.1 in c:\\users\\dscv0\\appdata\\local\\packages\\pythonsoftwarefoundation.python.3.11_qbz5n2kfra8p0\\localcache\\local-packages\\python311\\site-packages (from thinc<8.3.0,>=8.2.2->spacy<3.8) (0.1.5)\n",
      "Requirement already satisfied: colorama in c:\\users\\dscv0\\appdata\\local\\packages\\pythonsoftwarefoundation.python.3.11_qbz5n2kfra8p0\\localcache\\local-packages\\python311\\site-packages (from tqdm->nltk) (0.4.6)\n",
      "Requirement already satisfied: shellingham>=1.3.0 in c:\\users\\dscv0\\appdata\\local\\packages\\pythonsoftwarefoundation.python.3.11_qbz5n2kfra8p0\\localcache\\local-packages\\python311\\site-packages (from typer<1.0.0,>=0.3.0->spacy<3.8) (1.5.4)\n",
      "Requirement already satisfied: rich>=10.11.0 in c:\\users\\dscv0\\appdata\\local\\packages\\pythonsoftwarefoundation.python.3.11_qbz5n2kfra8p0\\localcache\\local-packages\\python311\\site-packages (from typer<1.0.0,>=0.3.0->spacy<3.8) (14.1.0)\n",
      "Requirement already satisfied: cloudpathlib<1.0.0,>=0.7.0 in c:\\users\\dscv0\\appdata\\local\\packages\\pythonsoftwarefoundation.python.3.11_qbz5n2kfra8p0\\localcache\\local-packages\\python311\\site-packages (from weasel<0.5.0,>=0.1.0->spacy<3.8) (0.22.0)\n",
      "Requirement already satisfied: smart-open<8.0.0,>=5.2.1 in c:\\users\\dscv0\\appdata\\local\\packages\\pythonsoftwarefoundation.python.3.11_qbz5n2kfra8p0\\localcache\\local-packages\\python311\\site-packages (from weasel<0.5.0,>=0.1.0->spacy<3.8) (7.3.1)\n",
      "Requirement already satisfied: MarkupSafe>=2.0 in c:\\users\\dscv0\\appdata\\local\\packages\\pythonsoftwarefoundation.python.3.11_qbz5n2kfra8p0\\localcache\\local-packages\\python311\\site-packages (from jinja2->spacy<3.8) (3.0.2)\n",
      "Requirement already satisfied: marisa-trie>=1.1.0 in c:\\users\\dscv0\\appdata\\local\\packages\\pythonsoftwarefoundation.python.3.11_qbz5n2kfra8p0\\localcache\\local-packages\\python311\\site-packages (from language-data>=1.2->langcodes<4.0.0,>=3.2.0->spacy<3.8) (1.3.1)\n",
      "Requirement already satisfied: markdown-it-py>=2.2.0 in c:\\users\\dscv0\\appdata\\local\\packages\\pythonsoftwarefoundation.python.3.11_qbz5n2kfra8p0\\localcache\\local-packages\\python311\\site-packages (from rich>=10.11.0->typer<1.0.0,>=0.3.0->spacy<3.8) (4.0.0)\n",
      "Requirement already satisfied: pygments<3.0.0,>=2.13.0 in c:\\users\\dscv0\\appdata\\local\\packages\\pythonsoftwarefoundation.python.3.11_qbz5n2kfra8p0\\localcache\\local-packages\\python311\\site-packages (from rich>=10.11.0->typer<1.0.0,>=0.3.0->spacy<3.8) (2.19.2)\n",
      "Requirement already satisfied: wrapt in c:\\users\\dscv0\\appdata\\local\\packages\\pythonsoftwarefoundation.python.3.11_qbz5n2kfra8p0\\localcache\\local-packages\\python311\\site-packages (from smart-open<8.0.0,>=5.2.1->weasel<0.5.0,>=0.1.0->spacy<3.8) (1.17.3)\n",
      "Requirement already satisfied: mdurl~=0.1 in c:\\users\\dscv0\\appdata\\local\\packages\\pythonsoftwarefoundation.python.3.11_qbz5n2kfra8p0\\localcache\\local-packages\\python311\\site-packages (from markdown-it-py>=2.2.0->rich>=10.11.0->typer<1.0.0,>=0.3.0->spacy<3.8) (0.1.2)\n",
      "Note: you may need to restart the kernel to use updated packages.\n"
     ]
    },
    {
     "name": "stderr",
     "output_type": "stream",
     "text": [
      "\n",
      "[notice] A new release of pip is available: 24.0 -> 25.2\n",
      "[notice] To update, run: C:\\Users\\dscv0\\AppData\\Local\\Microsoft\\WindowsApps\\PythonSoftwareFoundation.Python.3.11_qbz5n2kfra8p0\\python.exe -m pip install --upgrade pip\n"
     ]
    }
   ],
   "source": [
    "%pip install \"numpy==1.26.4\"\n",
    "\n",
    "%pip install nltk \"spacy<3.8\"\n",
    "\n",
    "\n"
   ]
  },
  {
   "cell_type": "code",
   "execution_count": 47,
   "id": "9658b3b5",
   "metadata": {},
   "outputs": [
    {
     "name": "stdout",
     "output_type": "stream",
     "text": [
      "Collecting es-core-news-sm==3.7.0\n",
      "  Downloading https://github.com/explosion/spacy-models/releases/download/es_core_news_sm-3.7.0/es_core_news_sm-3.7.0-py3-none-any.whl (12.9 MB)\n",
      "     ---------------------------------------- 0.0/12.9 MB ? eta -:--:--\n",
      "     ---------------------------------------- 0.0/12.9 MB ? eta -:--:--\n",
      "     --------------------------------------- 0.0/12.9 MB 435.7 kB/s eta 0:00:30\n",
      "     --------------------------------------- 0.1/12.9 MB 563.7 kB/s eta 0:00:23\n",
      "      --------------------------------------- 0.3/12.9 MB 1.6 MB/s eta 0:00:08\n",
      "     - -------------------------------------- 0.5/12.9 MB 2.4 MB/s eta 0:00:06\n",
      "     -- ------------------------------------- 0.8/12.9 MB 3.0 MB/s eta 0:00:05\n",
      "     --- ------------------------------------ 1.0/12.9 MB 3.2 MB/s eta 0:00:04\n",
      "     --- ------------------------------------ 1.0/12.9 MB 3.2 MB/s eta 0:00:04\n",
      "     --- ------------------------------------ 1.0/12.9 MB 3.2 MB/s eta 0:00:04\n",
      "     --- ------------------------------------ 1.0/12.9 MB 3.2 MB/s eta 0:00:04\n",
      "     --- ------------------------------------ 1.0/12.9 MB 3.2 MB/s eta 0:00:04\n",
      "     --- ------------------------------------ 1.0/12.9 MB 3.2 MB/s eta 0:00:04\n",
      "     --- ------------------------------------ 1.0/12.9 MB 3.2 MB/s eta 0:00:04\n",
      "     --- ------------------------------------ 1.0/12.9 MB 3.2 MB/s eta 0:00:04\n",
      "     --- ------------------------------------ 1.0/12.9 MB 3.2 MB/s eta 0:00:04\n",
      "     --- ------------------------------------ 1.0/12.9 MB 1.4 MB/s eta 0:00:09\n",
      "     ---- ----------------------------------- 1.3/12.9 MB 1.7 MB/s eta 0:00:07\n",
      "     ---- ----------------------------------- 1.4/12.9 MB 1.7 MB/s eta 0:00:07\n",
      "     ---- ----------------------------------- 1.6/12.9 MB 1.8 MB/s eta 0:00:07\n",
      "     ----- ---------------------------------- 1.7/12.9 MB 1.8 MB/s eta 0:00:07\n",
      "     ----- ---------------------------------- 1.8/12.9 MB 1.9 MB/s eta 0:00:06\n",
      "     ------ --------------------------------- 2.1/12.9 MB 2.1 MB/s eta 0:00:06\n",
      "     ------- -------------------------------- 2.3/12.9 MB 2.2 MB/s eta 0:00:05\n",
      "     ------- -------------------------------- 2.4/12.9 MB 2.2 MB/s eta 0:00:05\n",
      "     ------- -------------------------------- 2.6/12.9 MB 2.3 MB/s eta 0:00:05\n",
      "     -------- ------------------------------- 2.7/12.9 MB 2.3 MB/s eta 0:00:05\n",
      "     -------- ------------------------------- 2.7/12.9 MB 2.2 MB/s eta 0:00:05\n",
      "     --------- ------------------------------ 2.9/12.9 MB 2.3 MB/s eta 0:00:05\n",
      "     --------- ------------------------------ 3.0/12.9 MB 2.3 MB/s eta 0:00:05\n",
      "     --------- ------------------------------ 3.2/12.9 MB 2.3 MB/s eta 0:00:05\n",
      "     --------- ------------------------------ 3.2/12.9 MB 2.3 MB/s eta 0:00:05\n",
      "     ---------- ----------------------------- 3.4/12.9 MB 2.3 MB/s eta 0:00:05\n",
      "     ----------- ---------------------------- 3.6/12.9 MB 2.4 MB/s eta 0:00:04\n",
      "     ------------ --------------------------- 3.9/12.9 MB 2.5 MB/s eta 0:00:04\n",
      "     ------------ --------------------------- 4.2/12.9 MB 2.6 MB/s eta 0:00:04\n",
      "     ------------- -------------------------- 4.4/12.9 MB 2.7 MB/s eta 0:00:04\n",
      "     -------------- ------------------------- 4.8/12.9 MB 2.8 MB/s eta 0:00:03\n",
      "     --------------- ------------------------ 4.9/12.9 MB 2.8 MB/s eta 0:00:03\n",
      "     --------------- ------------------------ 4.9/12.9 MB 2.8 MB/s eta 0:00:03\n",
      "     --------------- ------------------------ 4.9/12.9 MB 2.8 MB/s eta 0:00:03\n",
      "     --------------- ------------------------ 4.9/12.9 MB 2.8 MB/s eta 0:00:03\n",
      "     --------------- ------------------------ 4.9/12.9 MB 2.8 MB/s eta 0:00:03\n",
      "     --------------- ------------------------ 4.9/12.9 MB 2.8 MB/s eta 0:00:03\n",
      "     --------------- ------------------------ 4.9/12.9 MB 2.8 MB/s eta 0:00:03\n",
      "     --------------- ------------------------ 4.9/12.9 MB 2.8 MB/s eta 0:00:03\n",
      "     --------------- ------------------------ 5.1/12.9 MB 2.4 MB/s eta 0:00:04\n",
      "     --------------- ------------------------ 5.1/12.9 MB 2.4 MB/s eta 0:00:04\n",
      "     ---------------- ----------------------- 5.4/12.9 MB 2.4 MB/s eta 0:00:04\n",
      "     ----------------- ---------------------- 5.6/12.9 MB 2.5 MB/s eta 0:00:03\n",
      "     ----------------- ---------------------- 5.8/12.9 MB 2.5 MB/s eta 0:00:03\n",
      "     ----------------- ---------------------- 5.8/12.9 MB 2.5 MB/s eta 0:00:03\n",
      "     ------------------- -------------------- 6.2/12.9 MB 2.6 MB/s eta 0:00:03\n",
      "     ------------------- -------------------- 6.4/12.9 MB 2.6 MB/s eta 0:00:03\n",
      "     --------------------- ------------------ 6.8/12.9 MB 2.7 MB/s eta 0:00:03\n",
      "     --------------------- ------------------ 7.0/12.9 MB 2.8 MB/s eta 0:00:03\n",
      "     ----------------------- ---------------- 7.4/12.9 MB 2.9 MB/s eta 0:00:02\n",
      "     ----------------------- ---------------- 7.6/12.9 MB 2.9 MB/s eta 0:00:02\n",
      "     ------------------------ --------------- 8.0/12.9 MB 3.0 MB/s eta 0:00:02\n",
      "     ------------------------- -------------- 8.3/12.9 MB 3.1 MB/s eta 0:00:02\n",
      "     -------------------------- ------------- 8.7/12.9 MB 3.1 MB/s eta 0:00:02\n",
      "     --------------------------- ------------ 8.9/12.9 MB 3.2 MB/s eta 0:00:02\n",
      "     ---------------------------- ----------- 9.2/12.9 MB 3.2 MB/s eta 0:00:02\n",
      "     ----------------------------- ---------- 9.5/12.9 MB 3.3 MB/s eta 0:00:02\n",
      "     ----------------------------- ---------- 9.6/12.9 MB 3.2 MB/s eta 0:00:02\n",
      "     ------------------------------ --------- 9.9/12.9 MB 3.3 MB/s eta 0:00:01\n",
      "     ------------------------------- -------- 10.3/12.9 MB 3.5 MB/s eta 0:00:01\n",
      "     -------------------------------- ------- 10.5/12.9 MB 3.5 MB/s eta 0:00:01\n",
      "     --------------------------------- ------ 10.7/12.9 MB 3.5 MB/s eta 0:00:01\n",
      "     ---------------------------------- ----- 11.0/12.9 MB 3.5 MB/s eta 0:00:01\n",
      "     ----------------------------------- ---- 11.4/12.9 MB 4.1 MB/s eta 0:00:01\n",
      "     ----------------------------------- ---- 11.4/12.9 MB 4.1 MB/s eta 0:00:01\n",
      "     ----------------------------------- ---- 11.4/12.9 MB 4.1 MB/s eta 0:00:01\n",
      "     ----------------------------------- ---- 11.4/12.9 MB 4.1 MB/s eta 0:00:01\n",
      "     ----------------------------------- ---- 11.4/12.9 MB 4.1 MB/s eta 0:00:01\n",
      "     ----------------------------------- ---- 11.4/12.9 MB 4.1 MB/s eta 0:00:01\n",
      "     ----------------------------------- ---- 11.4/12.9 MB 4.1 MB/s eta 0:00:01\n",
      "     ----------------------------------- ---- 11.4/12.9 MB 4.1 MB/s eta 0:00:01\n",
      "     ----------------------------------- ---- 11.4/12.9 MB 4.1 MB/s eta 0:00:01\n",
      "     ----------------------------------- ---- 11.4/12.9 MB 3.5 MB/s eta 0:00:01\n",
      "     ------------------------------------ --- 11.7/12.9 MB 3.5 MB/s eta 0:00:01\n",
      "     ------------------------------------- -- 12.1/12.9 MB 3.7 MB/s eta 0:00:01\n",
      "     -------------------------------------- - 12.3/12.9 MB 3.7 MB/s eta 0:00:01\n",
      "     -------------------------------------- - 12.5/12.9 MB 3.7 MB/s eta 0:00:01\n",
      "     ---------------------------------------  12.7/12.9 MB 3.7 MB/s eta 0:00:01\n",
      "     ---------------------------------------  12.9/12.9 MB 3.7 MB/s eta 0:00:01\n",
      "     ---------------------------------------- 12.9/12.9 MB 3.7 MB/s eta 0:00:00\n",
      "Requirement already satisfied: spacy<3.8.0,>=3.7.0 in c:\\users\\dscv0\\appdata\\local\\packages\\pythonsoftwarefoundation.python.3.11_qbz5n2kfra8p0\\localcache\\local-packages\\python311\\site-packages (from es-core-news-sm==3.7.0) (3.7.5)\n",
      "Requirement already satisfied: spacy-legacy<3.1.0,>=3.0.11 in c:\\users\\dscv0\\appdata\\local\\packages\\pythonsoftwarefoundation.python.3.11_qbz5n2kfra8p0\\localcache\\local-packages\\python311\\site-packages (from spacy<3.8.0,>=3.7.0->es-core-news-sm==3.7.0) (3.0.12)\n",
      "Requirement already satisfied: spacy-loggers<2.0.0,>=1.0.0 in c:\\users\\dscv0\\appdata\\local\\packages\\pythonsoftwarefoundation.python.3.11_qbz5n2kfra8p0\\localcache\\local-packages\\python311\\site-packages (from spacy<3.8.0,>=3.7.0->es-core-news-sm==3.7.0) (1.0.5)\n",
      "Requirement already satisfied: murmurhash<1.1.0,>=0.28.0 in c:\\users\\dscv0\\appdata\\local\\packages\\pythonsoftwarefoundation.python.3.11_qbz5n2kfra8p0\\localcache\\local-packages\\python311\\site-packages (from spacy<3.8.0,>=3.7.0->es-core-news-sm==3.7.0) (1.0.13)\n",
      "Requirement already satisfied: cymem<2.1.0,>=2.0.2 in c:\\users\\dscv0\\appdata\\local\\packages\\pythonsoftwarefoundation.python.3.11_qbz5n2kfra8p0\\localcache\\local-packages\\python311\\site-packages (from spacy<3.8.0,>=3.7.0->es-core-news-sm==3.7.0) (2.0.11)\n",
      "Requirement already satisfied: preshed<3.1.0,>=3.0.2 in c:\\users\\dscv0\\appdata\\local\\packages\\pythonsoftwarefoundation.python.3.11_qbz5n2kfra8p0\\localcache\\local-packages\\python311\\site-packages (from spacy<3.8.0,>=3.7.0->es-core-news-sm==3.7.0) (3.0.10)\n",
      "Requirement already satisfied: thinc<8.3.0,>=8.2.2 in c:\\users\\dscv0\\appdata\\local\\packages\\pythonsoftwarefoundation.python.3.11_qbz5n2kfra8p0\\localcache\\local-packages\\python311\\site-packages (from spacy<3.8.0,>=3.7.0->es-core-news-sm==3.7.0) (8.2.5)\n",
      "Requirement already satisfied: wasabi<1.2.0,>=0.9.1 in c:\\users\\dscv0\\appdata\\local\\packages\\pythonsoftwarefoundation.python.3.11_qbz5n2kfra8p0\\localcache\\local-packages\\python311\\site-packages (from spacy<3.8.0,>=3.7.0->es-core-news-sm==3.7.0) (1.1.3)\n",
      "Requirement already satisfied: srsly<3.0.0,>=2.4.3 in c:\\users\\dscv0\\appdata\\local\\packages\\pythonsoftwarefoundation.python.3.11_qbz5n2kfra8p0\\localcache\\local-packages\\python311\\site-packages (from spacy<3.8.0,>=3.7.0->es-core-news-sm==3.7.0) (2.5.1)\n",
      "Requirement already satisfied: catalogue<2.1.0,>=2.0.6 in c:\\users\\dscv0\\appdata\\local\\packages\\pythonsoftwarefoundation.python.3.11_qbz5n2kfra8p0\\localcache\\local-packages\\python311\\site-packages (from spacy<3.8.0,>=3.7.0->es-core-news-sm==3.7.0) (2.0.10)\n",
      "Requirement already satisfied: weasel<0.5.0,>=0.1.0 in c:\\users\\dscv0\\appdata\\local\\packages\\pythonsoftwarefoundation.python.3.11_qbz5n2kfra8p0\\localcache\\local-packages\\python311\\site-packages (from spacy<3.8.0,>=3.7.0->es-core-news-sm==3.7.0) (0.4.1)\n",
      "Requirement already satisfied: typer<1.0.0,>=0.3.0 in c:\\users\\dscv0\\appdata\\local\\packages\\pythonsoftwarefoundation.python.3.11_qbz5n2kfra8p0\\localcache\\local-packages\\python311\\site-packages (from spacy<3.8.0,>=3.7.0->es-core-news-sm==3.7.0) (0.17.4)\n",
      "Requirement already satisfied: tqdm<5.0.0,>=4.38.0 in c:\\users\\dscv0\\appdata\\local\\packages\\pythonsoftwarefoundation.python.3.11_qbz5n2kfra8p0\\localcache\\local-packages\\python311\\site-packages (from spacy<3.8.0,>=3.7.0->es-core-news-sm==3.7.0) (4.67.1)\n",
      "Requirement already satisfied: requests<3.0.0,>=2.13.0 in c:\\users\\dscv0\\appdata\\local\\packages\\pythonsoftwarefoundation.python.3.11_qbz5n2kfra8p0\\localcache\\local-packages\\python311\\site-packages (from spacy<3.8.0,>=3.7.0->es-core-news-sm==3.7.0) (2.32.5)\n",
      "Requirement already satisfied: pydantic!=1.8,!=1.8.1,<3.0.0,>=1.7.4 in c:\\users\\dscv0\\appdata\\local\\packages\\pythonsoftwarefoundation.python.3.11_qbz5n2kfra8p0\\localcache\\local-packages\\python311\\site-packages (from spacy<3.8.0,>=3.7.0->es-core-news-sm==3.7.0) (2.11.7)\n",
      "Requirement already satisfied: jinja2 in c:\\users\\dscv0\\appdata\\local\\packages\\pythonsoftwarefoundation.python.3.11_qbz5n2kfra8p0\\localcache\\local-packages\\python311\\site-packages (from spacy<3.8.0,>=3.7.0->es-core-news-sm==3.7.0) (3.1.6)\n",
      "Requirement already satisfied: setuptools in c:\\program files\\windowsapps\\pythonsoftwarefoundation.python.3.11_3.11.2544.0_x64__qbz5n2kfra8p0\\lib\\site-packages (from spacy<3.8.0,>=3.7.0->es-core-news-sm==3.7.0) (65.5.0)\n",
      "Requirement already satisfied: packaging>=20.0 in c:\\users\\dscv0\\appdata\\local\\packages\\pythonsoftwarefoundation.python.3.11_qbz5n2kfra8p0\\localcache\\local-packages\\python311\\site-packages (from spacy<3.8.0,>=3.7.0->es-core-news-sm==3.7.0) (25.0)\n",
      "Requirement already satisfied: langcodes<4.0.0,>=3.2.0 in c:\\users\\dscv0\\appdata\\local\\packages\\pythonsoftwarefoundation.python.3.11_qbz5n2kfra8p0\\localcache\\local-packages\\python311\\site-packages (from spacy<3.8.0,>=3.7.0->es-core-news-sm==3.7.0) (3.5.0)\n",
      "Requirement already satisfied: numpy>=1.19.0 in c:\\users\\dscv0\\appdata\\local\\packages\\pythonsoftwarefoundation.python.3.11_qbz5n2kfra8p0\\localcache\\local-packages\\python311\\site-packages (from spacy<3.8.0,>=3.7.0->es-core-news-sm==3.7.0) (1.26.4)\n",
      "Requirement already satisfied: language-data>=1.2 in c:\\users\\dscv0\\appdata\\local\\packages\\pythonsoftwarefoundation.python.3.11_qbz5n2kfra8p0\\localcache\\local-packages\\python311\\site-packages (from langcodes<4.0.0,>=3.2.0->spacy<3.8.0,>=3.7.0->es-core-news-sm==3.7.0) (1.3.0)\n",
      "Requirement already satisfied: annotated-types>=0.6.0 in c:\\users\\dscv0\\appdata\\local\\packages\\pythonsoftwarefoundation.python.3.11_qbz5n2kfra8p0\\localcache\\local-packages\\python311\\site-packages (from pydantic!=1.8,!=1.8.1,<3.0.0,>=1.7.4->spacy<3.8.0,>=3.7.0->es-core-news-sm==3.7.0) (0.7.0)\n",
      "Requirement already satisfied: pydantic-core==2.33.2 in c:\\users\\dscv0\\appdata\\local\\packages\\pythonsoftwarefoundation.python.3.11_qbz5n2kfra8p0\\localcache\\local-packages\\python311\\site-packages (from pydantic!=1.8,!=1.8.1,<3.0.0,>=1.7.4->spacy<3.8.0,>=3.7.0->es-core-news-sm==3.7.0) (2.33.2)\n",
      "Requirement already satisfied: typing-extensions>=4.12.2 in c:\\users\\dscv0\\appdata\\local\\packages\\pythonsoftwarefoundation.python.3.11_qbz5n2kfra8p0\\localcache\\local-packages\\python311\\site-packages (from pydantic!=1.8,!=1.8.1,<3.0.0,>=1.7.4->spacy<3.8.0,>=3.7.0->es-core-news-sm==3.7.0) (4.14.1)\n",
      "Requirement already satisfied: typing-inspection>=0.4.0 in c:\\users\\dscv0\\appdata\\local\\packages\\pythonsoftwarefoundation.python.3.11_qbz5n2kfra8p0\\localcache\\local-packages\\python311\\site-packages (from pydantic!=1.8,!=1.8.1,<3.0.0,>=1.7.4->spacy<3.8.0,>=3.7.0->es-core-news-sm==3.7.0) (0.4.1)\n",
      "Requirement already satisfied: charset_normalizer<4,>=2 in c:\\users\\dscv0\\appdata\\local\\packages\\pythonsoftwarefoundation.python.3.11_qbz5n2kfra8p0\\localcache\\local-packages\\python311\\site-packages (from requests<3.0.0,>=2.13.0->spacy<3.8.0,>=3.7.0->es-core-news-sm==3.7.0) (3.4.3)\n",
      "Requirement already satisfied: idna<4,>=2.5 in c:\\users\\dscv0\\appdata\\local\\packages\\pythonsoftwarefoundation.python.3.11_qbz5n2kfra8p0\\localcache\\local-packages\\python311\\site-packages (from requests<3.0.0,>=2.13.0->spacy<3.8.0,>=3.7.0->es-core-news-sm==3.7.0) (3.10)\n",
      "Requirement already satisfied: urllib3<3,>=1.21.1 in c:\\users\\dscv0\\appdata\\local\\packages\\pythonsoftwarefoundation.python.3.11_qbz5n2kfra8p0\\localcache\\local-packages\\python311\\site-packages (from requests<3.0.0,>=2.13.0->spacy<3.8.0,>=3.7.0->es-core-news-sm==3.7.0) (2.5.0)\n",
      "Requirement already satisfied: certifi>=2017.4.17 in c:\\users\\dscv0\\appdata\\local\\packages\\pythonsoftwarefoundation.python.3.11_qbz5n2kfra8p0\\localcache\\local-packages\\python311\\site-packages (from requests<3.0.0,>=2.13.0->spacy<3.8.0,>=3.7.0->es-core-news-sm==3.7.0) (2025.8.3)\n",
      "Requirement already satisfied: blis<0.8.0,>=0.7.8 in c:\\users\\dscv0\\appdata\\local\\packages\\pythonsoftwarefoundation.python.3.11_qbz5n2kfra8p0\\localcache\\local-packages\\python311\\site-packages (from thinc<8.3.0,>=8.2.2->spacy<3.8.0,>=3.7.0->es-core-news-sm==3.7.0) (0.7.11)\n",
      "Requirement already satisfied: confection<1.0.0,>=0.0.1 in c:\\users\\dscv0\\appdata\\local\\packages\\pythonsoftwarefoundation.python.3.11_qbz5n2kfra8p0\\localcache\\local-packages\\python311\\site-packages (from thinc<8.3.0,>=8.2.2->spacy<3.8.0,>=3.7.0->es-core-news-sm==3.7.0) (0.1.5)\n",
      "Requirement already satisfied: colorama in c:\\users\\dscv0\\appdata\\local\\packages\\pythonsoftwarefoundation.python.3.11_qbz5n2kfra8p0\\localcache\\local-packages\\python311\\site-packages (from tqdm<5.0.0,>=4.38.0->spacy<3.8.0,>=3.7.0->es-core-news-sm==3.7.0) (0.4.6)\n",
      "Requirement already satisfied: click>=8.0.0 in c:\\users\\dscv0\\appdata\\local\\packages\\pythonsoftwarefoundation.python.3.11_qbz5n2kfra8p0\\localcache\\local-packages\\python311\\site-packages (from typer<1.0.0,>=0.3.0->spacy<3.8.0,>=3.7.0->es-core-news-sm==3.7.0) (8.2.1)\n",
      "Requirement already satisfied: shellingham>=1.3.0 in c:\\users\\dscv0\\appdata\\local\\packages\\pythonsoftwarefoundation.python.3.11_qbz5n2kfra8p0\\localcache\\local-packages\\python311\\site-packages (from typer<1.0.0,>=0.3.0->spacy<3.8.0,>=3.7.0->es-core-news-sm==3.7.0) (1.5.4)\n",
      "Requirement already satisfied: rich>=10.11.0 in c:\\users\\dscv0\\appdata\\local\\packages\\pythonsoftwarefoundation.python.3.11_qbz5n2kfra8p0\\localcache\\local-packages\\python311\\site-packages (from typer<1.0.0,>=0.3.0->spacy<3.8.0,>=3.7.0->es-core-news-sm==3.7.0) (14.1.0)\n",
      "Requirement already satisfied: cloudpathlib<1.0.0,>=0.7.0 in c:\\users\\dscv0\\appdata\\local\\packages\\pythonsoftwarefoundation.python.3.11_qbz5n2kfra8p0\\localcache\\local-packages\\python311\\site-packages (from weasel<0.5.0,>=0.1.0->spacy<3.8.0,>=3.7.0->es-core-news-sm==3.7.0) (0.22.0)\n",
      "Requirement already satisfied: smart-open<8.0.0,>=5.2.1 in c:\\users\\dscv0\\appdata\\local\\packages\\pythonsoftwarefoundation.python.3.11_qbz5n2kfra8p0\\localcache\\local-packages\\python311\\site-packages (from weasel<0.5.0,>=0.1.0->spacy<3.8.0,>=3.7.0->es-core-news-sm==3.7.0) (7.3.1)\n",
      "Requirement already satisfied: MarkupSafe>=2.0 in c:\\users\\dscv0\\appdata\\local\\packages\\pythonsoftwarefoundation.python.3.11_qbz5n2kfra8p0\\localcache\\local-packages\\python311\\site-packages (from jinja2->spacy<3.8.0,>=3.7.0->es-core-news-sm==3.7.0) (3.0.2)\n",
      "Requirement already satisfied: marisa-trie>=1.1.0 in c:\\users\\dscv0\\appdata\\local\\packages\\pythonsoftwarefoundation.python.3.11_qbz5n2kfra8p0\\localcache\\local-packages\\python311\\site-packages (from language-data>=1.2->langcodes<4.0.0,>=3.2.0->spacy<3.8.0,>=3.7.0->es-core-news-sm==3.7.0) (1.3.1)\n",
      "Requirement already satisfied: markdown-it-py>=2.2.0 in c:\\users\\dscv0\\appdata\\local\\packages\\pythonsoftwarefoundation.python.3.11_qbz5n2kfra8p0\\localcache\\local-packages\\python311\\site-packages (from rich>=10.11.0->typer<1.0.0,>=0.3.0->spacy<3.8.0,>=3.7.0->es-core-news-sm==3.7.0) (4.0.0)\n",
      "Requirement already satisfied: pygments<3.0.0,>=2.13.0 in c:\\users\\dscv0\\appdata\\local\\packages\\pythonsoftwarefoundation.python.3.11_qbz5n2kfra8p0\\localcache\\local-packages\\python311\\site-packages (from rich>=10.11.0->typer<1.0.0,>=0.3.0->spacy<3.8.0,>=3.7.0->es-core-news-sm==3.7.0) (2.19.2)\n",
      "Requirement already satisfied: wrapt in c:\\users\\dscv0\\appdata\\local\\packages\\pythonsoftwarefoundation.python.3.11_qbz5n2kfra8p0\\localcache\\local-packages\\python311\\site-packages (from smart-open<8.0.0,>=5.2.1->weasel<0.5.0,>=0.1.0->spacy<3.8.0,>=3.7.0->es-core-news-sm==3.7.0) (1.17.3)\n",
      "Requirement already satisfied: mdurl~=0.1 in c:\\users\\dscv0\\appdata\\local\\packages\\pythonsoftwarefoundation.python.3.11_qbz5n2kfra8p0\\localcache\\local-packages\\python311\\site-packages (from markdown-it-py>=2.2.0->rich>=10.11.0->typer<1.0.0,>=0.3.0->spacy<3.8.0,>=3.7.0->es-core-news-sm==3.7.0) (0.1.2)\n",
      "\u001b[38;5;2m✔ Download and installation successful\u001b[0m\n",
      "You can now load the package via spacy.load('es_core_news_sm')\n"
     ]
    },
    {
     "name": "stderr",
     "output_type": "stream",
     "text": [
      "\n",
      "[notice] A new release of pip is available: 24.0 -> 25.2\n",
      "[notice] To update, run: C:\\Users\\dscv0\\AppData\\Local\\Microsoft\\WindowsApps\\PythonSoftwareFoundation.Python.3.11_qbz5n2kfra8p0\\python.exe -m pip install --upgrade pip\n"
     ]
    }
   ],
   "source": [
    "!python -m spacy download es_core_news_sm"
   ]
  },
  {
   "cell_type": "code",
   "execution_count": 48,
   "id": "0e7dca14",
   "metadata": {},
   "outputs": [
    {
     "name": "stderr",
     "output_type": "stream",
     "text": [
      "[nltk_data] Downloading package punkt to\n",
      "[nltk_data]     C:\\Users\\dscv0\\AppData\\Roaming\\nltk_data...\n",
      "[nltk_data]   Package punkt is already up-to-date!\n"
     ]
    },
    {
     "data": {
      "text/plain": [
       "True"
      ]
     },
     "execution_count": 48,
     "metadata": {},
     "output_type": "execute_result"
    }
   ],
   "source": [
    "# librería Natural Language Toolkit, usada para trabajar con textos\n",
    "import nltk\n",
    "# Punkt permite separar un texto en frases.\n",
    "nltk.download('punkt')"
   ]
  },
  {
   "cell_type": "code",
   "execution_count": 49,
   "id": "0445b1b3",
   "metadata": {},
   "outputs": [
    {
     "name": "stderr",
     "output_type": "stream",
     "text": [
      "[nltk_data] Downloading package punkt_tab to\n",
      "[nltk_data]     C:\\Users\\dscv0\\AppData\\Roaming\\nltk_data...\n",
      "[nltk_data]   Package punkt_tab is already up-to-date!\n"
     ]
    },
    {
     "data": {
      "text/plain": [
       "True"
      ]
     },
     "execution_count": 49,
     "metadata": {},
     "output_type": "execute_result"
    }
   ],
   "source": [
    "nltk.download('punkt_tab')"
   ]
  },
  {
   "cell_type": "markdown",
   "id": "559e579f",
   "metadata": {},
   "source": [
    "### 1.1 Descargar Stopwords y lema de palabras"
   ]
  },
  {
   "cell_type": "code",
   "execution_count": 50,
   "id": "78611856",
   "metadata": {},
   "outputs": [
    {
     "name": "stderr",
     "output_type": "stream",
     "text": [
      "[nltk_data] Downloading package stopwords to\n",
      "[nltk_data]     C:\\Users\\dscv0\\AppData\\Roaming\\nltk_data...\n",
      "[nltk_data]   Package stopwords is already up-to-date!\n"
     ]
    },
    {
     "data": {
      "text/plain": [
       "True"
      ]
     },
     "execution_count": 50,
     "metadata": {},
     "output_type": "execute_result"
    }
   ],
   "source": [
    "# StopWords\n",
    "nltk.download('stopwords')"
   ]
  },
  {
   "cell_type": "code",
   "execution_count": 51,
   "id": "7be5f7d7",
   "metadata": {},
   "outputs": [
    {
     "name": "stderr",
     "output_type": "stream",
     "text": [
      "[nltk_data] Downloading package wordnet to\n",
      "[nltk_data]     C:\\Users\\dscv0\\AppData\\Roaming\\nltk_data...\n",
      "[nltk_data]   Package wordnet is already up-to-date!\n"
     ]
    },
    {
     "data": {
      "text/plain": [
       "True"
      ]
     },
     "execution_count": 51,
     "metadata": {},
     "output_type": "execute_result"
    }
   ],
   "source": [
    "#WordNetLemmatizer (lema)\n",
    "nltk.download('wordnet')"
   ]
  },
  {
   "cell_type": "code",
   "execution_count": 2,
   "id": "ac03b433",
   "metadata": {},
   "outputs": [
    {
     "name": "stderr",
     "output_type": "stream",
     "text": [
      "\"{sys.executable}\" no se reconoce como un comando interno o externo,\n",
      "programa o archivo por lotes ejecutable.\n"
     ]
    }
   ],
   "source": [
    "# Instalación de librerias\n",
    "import pandas as pd\n",
    "import numpy as np\n",
    "import seaborn as sns\n",
    "!{sys.executable} -m pip install pandas-profiling\n",
    "\n",
    "import re, string, unicodedata\n",
    "from nltk import word_tokenize, sent_tokenize\n",
    "from nltk.corpus import stopwords\n",
    "from nltk.stem import LancasterStemmer, WordNetLemmatizer\n",
    "from nltk.stem.snowball import SnowballStemmer\n",
    "import spacy\n",
    "from imblearn.over_sampling import SMOTE\n",
    "\n",
    "from sklearn.linear_model import LogisticRegression\n",
    "from sklearn.model_selection import train_test_split,GridSearchCV, cross_val_score\n",
    "from sklearn.feature_extraction.text import TfidfVectorizer, CountVectorizer, HashingVectorizer\n",
    "from sklearn.pipeline import Pipeline, FeatureUnion\n",
    "from sklearn.svm import SVC\n",
    "from sklearn.ensemble import BaggingClassifier, RandomForestClassifier, AdaBoostClassifier\n",
    "from sklearn.naive_bayes import BernoulliNB\n",
    "from sklearn.metrics import classification_report, confusion_matrix , ConfusionMatrixDisplay , roc_curve, roc_auc_score\n",
    "\n",
    "from collections import Counter\n",
    "\n",
    "\n",
    "from sklearn.base import BaseEstimator, ClassifierMixin\n",
    "#from ydata_profiling import ProfileReport \n",
    "import matplotlib.pyplot as plt"
   ]
  },
  {
   "cell_type": "markdown",
   "id": "c4280ae5",
   "metadata": {},
   "source": []
  },
  {
   "cell_type": "code",
   "execution_count": null,
   "id": "9f69f810",
   "metadata": {},
   "outputs": [
    {
     "name": "stdout",
     "output_type": "stream",
     "text": [
      "3.7.5\n"
     ]
    }
   ],
   "source": [
    "print(spacy.__version__)\n"
   ]
  },
  {
   "cell_type": "markdown",
   "id": "0e030ce4",
   "metadata": {},
   "source": [
    "### 2.Perfilamiento y entendmiento de los datos"
   ]
  },
  {
   "cell_type": "markdown",
   "id": "1faeed6d",
   "metadata": {},
   "source": [
    "### 2.1 Lectura de los datos"
   ]
  },
  {
   "cell_type": "code",
   "execution_count": 3,
   "id": "adfe667c",
   "metadata": {},
   "outputs": [],
   "source": [
    "df_text = pd.read_excel('data/Datos_proyecto.xlsx' )\n",
    "df_textC = df_text"
   ]
  },
  {
   "cell_type": "code",
   "execution_count": 4,
   "id": "e8deefc0",
   "metadata": {},
   "outputs": [
    {
     "data": {
      "text/html": [
       "<div>\n",
       "<style scoped>\n",
       "    .dataframe tbody tr th:only-of-type {\n",
       "        vertical-align: middle;\n",
       "    }\n",
       "\n",
       "    .dataframe tbody tr th {\n",
       "        vertical-align: top;\n",
       "    }\n",
       "\n",
       "    .dataframe thead th {\n",
       "        text-align: right;\n",
       "    }\n",
       "</style>\n",
       "<table border=\"1\" class=\"dataframe\">\n",
       "  <thead>\n",
       "    <tr style=\"text-align: right;\">\n",
       "      <th></th>\n",
       "      <th>textos</th>\n",
       "      <th>labels</th>\n",
       "    </tr>\n",
       "  </thead>\n",
       "  <tbody>\n",
       "    <tr>\n",
       "      <th>0</th>\n",
       "      <td>\"Aprendizaje\" y \"educación\" se consideran sinó...</td>\n",
       "      <td>4</td>\n",
       "    </tr>\n",
       "    <tr>\n",
       "      <th>1</th>\n",
       "      <td>Para los niños más pequeños (bebés y niños peq...</td>\n",
       "      <td>4</td>\n",
       "    </tr>\n",
       "    <tr>\n",
       "      <th>2</th>\n",
       "      <td>Además, la formación de especialistas en medic...</td>\n",
       "      <td>3</td>\n",
       "    </tr>\n",
       "    <tr>\n",
       "      <th>3</th>\n",
       "      <td>En los países de la OCDE se tiende a pasar de ...</td>\n",
       "      <td>4</td>\n",
       "    </tr>\n",
       "    <tr>\n",
       "      <th>4</th>\n",
       "      <td>Este grupo se centró en las personas que padec...</td>\n",
       "      <td>3</td>\n",
       "    </tr>\n",
       "    <tr>\n",
       "      <th>...</th>\n",
       "      <td>...</td>\n",
       "      <td>...</td>\n",
       "    </tr>\n",
       "    <tr>\n",
       "      <th>2419</th>\n",
       "      <td>La tutoría de carrera está diseñada para apoya...</td>\n",
       "      <td>4</td>\n",
       "    </tr>\n",
       "    <tr>\n",
       "      <th>2420</th>\n",
       "      <td>Fuente: Ministerio de Educación. Las Tasas Int...</td>\n",
       "      <td>4</td>\n",
       "    </tr>\n",
       "    <tr>\n",
       "      <th>2421</th>\n",
       "      <td>Y desde 2010, el PNUD ha sido pionero en la pu...</td>\n",
       "      <td>1</td>\n",
       "    </tr>\n",
       "    <tr>\n",
       "      <th>2422</th>\n",
       "      <td>Sin embargo, estas fallas del mercado implican...</td>\n",
       "      <td>3</td>\n",
       "    </tr>\n",
       "    <tr>\n",
       "      <th>2423</th>\n",
       "      <td>Aunque existen programas para convertirse espe...</td>\n",
       "      <td>4</td>\n",
       "    </tr>\n",
       "  </tbody>\n",
       "</table>\n",
       "<p>2424 rows × 2 columns</p>\n",
       "</div>"
      ],
      "text/plain": [
       "                                                 textos  labels\n",
       "0     \"Aprendizaje\" y \"educación\" se consideran sinó...       4\n",
       "1     Para los niños más pequeños (bebés y niños peq...       4\n",
       "2     Además, la formación de especialistas en medic...       3\n",
       "3     En los países de la OCDE se tiende a pasar de ...       4\n",
       "4     Este grupo se centró en las personas que padec...       3\n",
       "...                                                 ...     ...\n",
       "2419  La tutoría de carrera está diseñada para apoya...       4\n",
       "2420  Fuente: Ministerio de Educación. Las Tasas Int...       4\n",
       "2421  Y desde 2010, el PNUD ha sido pionero en la pu...       1\n",
       "2422  Sin embargo, estas fallas del mercado implican...       3\n",
       "2423  Aunque existen programas para convertirse espe...       4\n",
       "\n",
       "[2424 rows x 2 columns]"
      ]
     },
     "execution_count": 4,
     "metadata": {},
     "output_type": "execute_result"
    }
   ],
   "source": [
    "df_textC"
   ]
  },
  {
   "cell_type": "code",
   "execution_count": 5,
   "id": "3e53058f",
   "metadata": {},
   "outputs": [
    {
     "name": "stdout",
     "output_type": "stream",
     "text": [
      "<class 'pandas.core.frame.DataFrame'>\n",
      "RangeIndex: 2424 entries, 0 to 2423\n",
      "Data columns (total 2 columns):\n",
      " #   Column  Non-Null Count  Dtype \n",
      "---  ------  --------------  ----- \n",
      " 0   textos  2424 non-null   object\n",
      " 1   labels  2424 non-null   int64 \n",
      "dtypes: int64(1), object(1)\n",
      "memory usage: 38.0+ KB\n"
     ]
    }
   ],
   "source": [
    "df_textC.info()"
   ]
  },
  {
   "cell_type": "markdown",
   "id": "b709c98c",
   "metadata": {},
   "source": [
    "### 2.2 Estadisticas Descriptivas\n",
    "Vamos a analizar los textos por medio de **maximo** , **minimo** y **moda** "
   ]
  },
  {
   "cell_type": "code",
   "execution_count": 6,
   "id": "7dab7c04",
   "metadata": {},
   "outputs": [],
   "source": [
    "from collections import Counter\n",
    "\n",
    "texts = df_textC.copy()\n",
    "texts['Count'] = [len(x) for x in texts['textos']]\n",
    "texts['Max'] = [[max([len(x) for x in i.split(' ')])][0] for i in texts['textos']]\n",
    "texts['Min'] = [[min([len(x) for x in i.split(' ')])][0] for i in texts['textos']]\n",
    "texts[\"Moda\"] = [Counter(i.split(\" \")).most_common(1)[0][0] for i in texts[\"textos\"] ]\n",
    "#ProfileReport(texts)"
   ]
  },
  {
   "cell_type": "code",
   "execution_count": 7,
   "id": "1fbdfc95",
   "metadata": {},
   "outputs": [
    {
     "data": {
      "text/html": [
       "<div>\n",
       "<style scoped>\n",
       "    .dataframe tbody tr th:only-of-type {\n",
       "        vertical-align: middle;\n",
       "    }\n",
       "\n",
       "    .dataframe tbody tr th {\n",
       "        vertical-align: top;\n",
       "    }\n",
       "\n",
       "    .dataframe thead th {\n",
       "        text-align: right;\n",
       "    }\n",
       "</style>\n",
       "<table border=\"1\" class=\"dataframe\">\n",
       "  <thead>\n",
       "    <tr style=\"text-align: right;\">\n",
       "      <th></th>\n",
       "      <th>textos</th>\n",
       "      <th>labels</th>\n",
       "      <th>Count</th>\n",
       "      <th>Max</th>\n",
       "      <th>Min</th>\n",
       "      <th>Moda</th>\n",
       "    </tr>\n",
       "  </thead>\n",
       "  <tbody>\n",
       "    <tr>\n",
       "      <th>0</th>\n",
       "      <td>\"Aprendizaje\" y \"educación\" se consideran sinó...</td>\n",
       "      <td>4</td>\n",
       "      <td>352</td>\n",
       "      <td>14</td>\n",
       "      <td>1</td>\n",
       "      <td>de</td>\n",
       "    </tr>\n",
       "    <tr>\n",
       "      <th>1</th>\n",
       "      <td>Para los niños más pequeños (bebés y niños peq...</td>\n",
       "      <td>4</td>\n",
       "      <td>516</td>\n",
       "      <td>16</td>\n",
       "      <td>1</td>\n",
       "      <td>y</td>\n",
       "    </tr>\n",
       "    <tr>\n",
       "      <th>2</th>\n",
       "      <td>Además, la formación de especialistas en medic...</td>\n",
       "      <td>3</td>\n",
       "      <td>659</td>\n",
       "      <td>15</td>\n",
       "      <td>1</td>\n",
       "      <td>de</td>\n",
       "    </tr>\n",
       "    <tr>\n",
       "      <th>3</th>\n",
       "      <td>En los países de la OCDE se tiende a pasar de ...</td>\n",
       "      <td>4</td>\n",
       "      <td>693</td>\n",
       "      <td>18</td>\n",
       "      <td>1</td>\n",
       "      <td>de</td>\n",
       "    </tr>\n",
       "    <tr>\n",
       "      <th>4</th>\n",
       "      <td>Este grupo se centró en las personas que padec...</td>\n",
       "      <td>3</td>\n",
       "      <td>608</td>\n",
       "      <td>14</td>\n",
       "      <td>0</td>\n",
       "      <td>de</td>\n",
       "    </tr>\n",
       "    <tr>\n",
       "      <th>...</th>\n",
       "      <td>...</td>\n",
       "      <td>...</td>\n",
       "      <td>...</td>\n",
       "      <td>...</td>\n",
       "      <td>...</td>\n",
       "      <td>...</td>\n",
       "    </tr>\n",
       "    <tr>\n",
       "      <th>2419</th>\n",
       "      <td>La tutoría de carrera está diseñada para apoya...</td>\n",
       "      <td>4</td>\n",
       "      <td>741</td>\n",
       "      <td>16</td>\n",
       "      <td>1</td>\n",
       "      <td>de</td>\n",
       "    </tr>\n",
       "    <tr>\n",
       "      <th>2420</th>\n",
       "      <td>Fuente: Ministerio de Educación. Las Tasas Int...</td>\n",
       "      <td>4</td>\n",
       "      <td>541</td>\n",
       "      <td>15</td>\n",
       "      <td>1</td>\n",
       "      <td>de</td>\n",
       "    </tr>\n",
       "    <tr>\n",
       "      <th>2421</th>\n",
       "      <td>Y desde 2010, el PNUD ha sido pionero en la pu...</td>\n",
       "      <td>1</td>\n",
       "      <td>352</td>\n",
       "      <td>12</td>\n",
       "      <td>1</td>\n",
       "      <td>el</td>\n",
       "    </tr>\n",
       "    <tr>\n",
       "      <th>2422</th>\n",
       "      <td>Sin embargo, estas fallas del mercado implican...</td>\n",
       "      <td>3</td>\n",
       "      <td>754</td>\n",
       "      <td>15</td>\n",
       "      <td>1</td>\n",
       "      <td>el</td>\n",
       "    </tr>\n",
       "    <tr>\n",
       "      <th>2423</th>\n",
       "      <td>Aunque existen programas para convertirse espe...</td>\n",
       "      <td>4</td>\n",
       "      <td>593</td>\n",
       "      <td>25</td>\n",
       "      <td>1</td>\n",
       "      <td>de</td>\n",
       "    </tr>\n",
       "  </tbody>\n",
       "</table>\n",
       "<p>2424 rows × 6 columns</p>\n",
       "</div>"
      ],
      "text/plain": [
       "                                                 textos  labels  Count  Max  \\\n",
       "0     \"Aprendizaje\" y \"educación\" se consideran sinó...       4    352   14   \n",
       "1     Para los niños más pequeños (bebés y niños peq...       4    516   16   \n",
       "2     Además, la formación de especialistas en medic...       3    659   15   \n",
       "3     En los países de la OCDE se tiende a pasar de ...       4    693   18   \n",
       "4     Este grupo se centró en las personas que padec...       3    608   14   \n",
       "...                                                 ...     ...    ...  ...   \n",
       "2419  La tutoría de carrera está diseñada para apoya...       4    741   16   \n",
       "2420  Fuente: Ministerio de Educación. Las Tasas Int...       4    541   15   \n",
       "2421  Y desde 2010, el PNUD ha sido pionero en la pu...       1    352   12   \n",
       "2422  Sin embargo, estas fallas del mercado implican...       3    754   15   \n",
       "2423  Aunque existen programas para convertirse espe...       4    593   25   \n",
       "\n",
       "      Min Moda  \n",
       "0       1   de  \n",
       "1       1    y  \n",
       "2       1   de  \n",
       "3       1   de  \n",
       "4       0   de  \n",
       "...   ...  ...  \n",
       "2419    1   de  \n",
       "2420    1   de  \n",
       "2421    1   el  \n",
       "2422    1   el  \n",
       "2423    1   de  \n",
       "\n",
       "[2424 rows x 6 columns]"
      ]
     },
     "execution_count": 7,
     "metadata": {},
     "output_type": "execute_result"
    }
   ],
   "source": [
    "texts"
   ]
  },
  {
   "cell_type": "markdown",
   "id": "ae33f5ff",
   "metadata": {},
   "source": [
    "### Distribucion de la variable labels"
   ]
  },
  {
   "cell_type": "code",
   "execution_count": 8,
   "id": "58ce2cb2",
   "metadata": {},
   "outputs": [
    {
     "data": {
      "image/png": "[encoded data removed]",
      "text/plain": [
       "<Figure size 640x480 with 1 Axes>"
      ]
     },
     "metadata": {},
     "output_type": "display_data"
    }
   ],
   "source": [
    "sns.countplot(x=\"labels\", data=df_textC)\n",
    "plt.title(\"Distribución de la variable target (1/3/4) \")\n",
    "plt.show()"
   ]
  },
  {
   "cell_type": "markdown",
   "id": "6df89a00",
   "metadata": {},
   "source": [
    "Como podemos ver hay una diferencia notable del label 1 (\"Fin de la pobreza\") con respecto a las demas . Modelaremos asi para pobrar como se comporta el modelo."
   ]
  },
  {
   "cell_type": "markdown",
   "id": "7faf45f8",
   "metadata": {},
   "source": [
    "### 3. Preparación de datos"
   ]
  },
  {
   "cell_type": "markdown",
   "id": "45d65c43",
   "metadata": {},
   "source": [
    "### 3.1 Limpieza de datos"
   ]
  },
  {
   "cell_type": "code",
   "execution_count": 9,
   "id": "ae3d2a92",
   "metadata": {},
   "outputs": [],
   "source": [
    "\"\"\"Remove non-ASCII characters from list of tokenized words\"\"\"\n",
    "def remove_non_ascii(words):\n",
    "    new_words = []\n",
    "    for word in words:\n",
    "        if word is not None:\n",
    "          new_word = unicodedata.normalize('NFKD', word).encode('ascii', 'ignore').decode('utf-8', 'ignore')\n",
    "          new_words.append(new_word)\n",
    "    return new_words\n",
    "\n",
    "\"\"\"Convert all characters to lowercase from list of tokenized words \"\"\"\n",
    "def to_lowercase(words):\n",
    "    return [ word.lower() for word in words]\n",
    "\n",
    "\"\"\"Remove punctuation from list of tokenized words\"\"\"\n",
    "def remove_punctuation(words):\n",
    "    new_words = []\n",
    "    for word in words:\n",
    "        if word is not None:\n",
    "            new_word = re.sub(r'[^\\w\\s]', '', word)\n",
    "            if new_word != '':\n",
    "                new_words.append(new_word)\n",
    "    return new_words\n",
    "\n",
    "\"\"\"Remove stop words from list of tokenized words\"\"\"\n",
    "def remove_stopwords(words):\n",
    "    stop_words = set(stopwords.words(\"spanish\"))\n",
    "    return [w for w in words if w.lower() not in stop_words]\n",
    "  \n",
    "\"\"\"Make all transformations to text\"\"\"\n",
    "def preprocessing(words):\n",
    "    words = to_lowercase(words)\n",
    "    words = remove_punctuation(words)\n",
    "    words = remove_non_ascii(words)\n",
    "    words = remove_stopwords(words)\n",
    "    return words\n",
    "\n",
    "\n",
    "\n",
    "\n"
   ]
  },
  {
   "cell_type": "markdown",
   "id": "d451f513",
   "metadata": {},
   "source": [
    "### 3.2 Tokenizacion\n",
    "Obtenemos todas las palabras separadas para usarlo en el analisis"
   ]
  },
  {
   "cell_type": "code",
   "execution_count": 10,
   "id": "da18aa79",
   "metadata": {},
   "outputs": [
    {
     "data": {
      "text/html": [
       "<div>\n",
       "<style scoped>\n",
       "    .dataframe tbody tr th:only-of-type {\n",
       "        vertical-align: middle;\n",
       "    }\n",
       "\n",
       "    .dataframe tbody tr th {\n",
       "        vertical-align: top;\n",
       "    }\n",
       "\n",
       "    .dataframe thead th {\n",
       "        text-align: right;\n",
       "    }\n",
       "</style>\n",
       "<table border=\"1\" class=\"dataframe\">\n",
       "  <thead>\n",
       "    <tr style=\"text-align: right;\">\n",
       "      <th></th>\n",
       "      <th>textos</th>\n",
       "      <th>labels</th>\n",
       "      <th>palabras</th>\n",
       "    </tr>\n",
       "  </thead>\n",
       "  <tbody>\n",
       "    <tr>\n",
       "      <th>0</th>\n",
       "      <td>\"Aprendizaje\" y \"educación\" se consideran sinó...</td>\n",
       "      <td>4</td>\n",
       "      <td>[``, Aprendizaje, '', y, ``, educación, '', se...</td>\n",
       "    </tr>\n",
       "    <tr>\n",
       "      <th>1</th>\n",
       "      <td>Para los niños más pequeños (bebés y niños peq...</td>\n",
       "      <td>4</td>\n",
       "      <td>[Para, los, niños, más, pequeños, (, bebés, y,...</td>\n",
       "    </tr>\n",
       "    <tr>\n",
       "      <th>2</th>\n",
       "      <td>Además, la formación de especialistas en medic...</td>\n",
       "      <td>3</td>\n",
       "      <td>[Además, ,, la, formación, de, especialistas, ...</td>\n",
       "    </tr>\n",
       "    <tr>\n",
       "      <th>3</th>\n",
       "      <td>En los países de la OCDE se tiende a pasar de ...</td>\n",
       "      <td>4</td>\n",
       "      <td>[En, los, países, de, la, OCDE, se, tiende, a,...</td>\n",
       "    </tr>\n",
       "    <tr>\n",
       "      <th>4</th>\n",
       "      <td>Este grupo se centró en las personas que padec...</td>\n",
       "      <td>3</td>\n",
       "      <td>[Este, grupo, se, centró, en, las, personas, q...</td>\n",
       "    </tr>\n",
       "  </tbody>\n",
       "</table>\n",
       "</div>"
      ],
      "text/plain": [
       "                                              textos  labels  \\\n",
       "0  \"Aprendizaje\" y \"educación\" se consideran sinó...       4   \n",
       "1  Para los niños más pequeños (bebés y niños peq...       4   \n",
       "2  Además, la formación de especialistas en medic...       3   \n",
       "3  En los países de la OCDE se tiende a pasar de ...       4   \n",
       "4  Este grupo se centró en las personas que padec...       3   \n",
       "\n",
       "                                            palabras  \n",
       "0  [``, Aprendizaje, '', y, ``, educación, '', se...  \n",
       "1  [Para, los, niños, más, pequeños, (, bebés, y,...  \n",
       "2  [Además, ,, la, formación, de, especialistas, ...  \n",
       "3  [En, los, países, de, la, OCDE, se, tiende, a,...  \n",
       "4  [Este, grupo, se, centró, en, las, personas, q...  "
      ]
     },
     "execution_count": 10,
     "metadata": {},
     "output_type": "execute_result"
    }
   ],
   "source": [
    "df_textC['palabras'] = df_textC['textos'].apply(word_tokenize)\n",
    "\n",
    "df_textC.head()\n"
   ]
  },
  {
   "cell_type": "markdown",
   "id": "f397b4d7",
   "metadata": {},
   "source": [
    "Le aplicamos el procesamiento para quitar puntuaciones , stopwords y pasar todas las palabras a minuscula."
   ]
  },
  {
   "cell_type": "code",
   "execution_count": 11,
   "id": "7d402129",
   "metadata": {},
   "outputs": [
    {
     "data": {
      "text/html": [
       "<div>\n",
       "<style scoped>\n",
       "    .dataframe tbody tr th:only-of-type {\n",
       "        vertical-align: middle;\n",
       "    }\n",
       "\n",
       "    .dataframe tbody tr th {\n",
       "        vertical-align: top;\n",
       "    }\n",
       "\n",
       "    .dataframe thead th {\n",
       "        text-align: right;\n",
       "    }\n",
       "</style>\n",
       "<table border=\"1\" class=\"dataframe\">\n",
       "  <thead>\n",
       "    <tr style=\"text-align: right;\">\n",
       "      <th></th>\n",
       "      <th>textos</th>\n",
       "      <th>labels</th>\n",
       "      <th>palabras</th>\n",
       "      <th>palabrasProces</th>\n",
       "    </tr>\n",
       "  </thead>\n",
       "  <tbody>\n",
       "    <tr>\n",
       "      <th>0</th>\n",
       "      <td>\"Aprendizaje\" y \"educación\" se consideran sinó...</td>\n",
       "      <td>4</td>\n",
       "      <td>[``, Aprendizaje, '', y, ``, educación, '', se...</td>\n",
       "      <td>[aprendizaje, educacion, consideran, sinonimos...</td>\n",
       "    </tr>\n",
       "    <tr>\n",
       "      <th>1</th>\n",
       "      <td>Para los niños más pequeños (bebés y niños peq...</td>\n",
       "      <td>4</td>\n",
       "      <td>[Para, los, niños, más, pequeños, (, bebés, y,...</td>\n",
       "      <td>[ninos, mas, pequenos, bebes, ninos, pequenos,...</td>\n",
       "    </tr>\n",
       "    <tr>\n",
       "      <th>2</th>\n",
       "      <td>Además, la formación de especialistas en medic...</td>\n",
       "      <td>3</td>\n",
       "      <td>[Además, ,, la, formación, de, especialistas, ...</td>\n",
       "      <td>[ademas, formacion, especialistas, medicina, g...</td>\n",
       "    </tr>\n",
       "    <tr>\n",
       "      <th>3</th>\n",
       "      <td>En los países de la OCDE se tiende a pasar de ...</td>\n",
       "      <td>4</td>\n",
       "      <td>[En, los, países, de, la, OCDE, se, tiende, a,...</td>\n",
       "      <td>[paises, ocde, tiende, pasar, cursos, obligato...</td>\n",
       "    </tr>\n",
       "    <tr>\n",
       "      <th>4</th>\n",
       "      <td>Este grupo se centró en las personas que padec...</td>\n",
       "      <td>3</td>\n",
       "      <td>[Este, grupo, se, centró, en, las, personas, q...</td>\n",
       "      <td>[grupo, centro, personas, padecen, trastornos,...</td>\n",
       "    </tr>\n",
       "  </tbody>\n",
       "</table>\n",
       "</div>"
      ],
      "text/plain": [
       "                                              textos  labels  \\\n",
       "0  \"Aprendizaje\" y \"educación\" se consideran sinó...       4   \n",
       "1  Para los niños más pequeños (bebés y niños peq...       4   \n",
       "2  Además, la formación de especialistas en medic...       3   \n",
       "3  En los países de la OCDE se tiende a pasar de ...       4   \n",
       "4  Este grupo se centró en las personas que padec...       3   \n",
       "\n",
       "                                            palabras  \\\n",
       "0  [``, Aprendizaje, '', y, ``, educación, '', se...   \n",
       "1  [Para, los, niños, más, pequeños, (, bebés, y,...   \n",
       "2  [Además, ,, la, formación, de, especialistas, ...   \n",
       "3  [En, los, países, de, la, OCDE, se, tiende, a,...   \n",
       "4  [Este, grupo, se, centró, en, las, personas, q...   \n",
       "\n",
       "                                      palabrasProces  \n",
       "0  [aprendizaje, educacion, consideran, sinonimos...  \n",
       "1  [ninos, mas, pequenos, bebes, ninos, pequenos,...  \n",
       "2  [ademas, formacion, especialistas, medicina, g...  \n",
       "3  [paises, ocde, tiende, pasar, cursos, obligato...  \n",
       "4  [grupo, centro, personas, padecen, trastornos,...  "
      ]
     },
     "execution_count": 11,
     "metadata": {},
     "output_type": "execute_result"
    }
   ],
   "source": [
    "df_textC['palabrasProces'] = df_textC['palabras'].apply(preprocessing)\n",
    "\n",
    "df_textC.head()"
   ]
  },
  {
   "cell_type": "markdown",
   "id": "c58ec1f1",
   "metadata": {},
   "source": [
    "### 3.2 Normalizacion"
   ]
  },
  {
   "cell_type": "code",
   "execution_count": 12,
   "id": "24c05056",
   "metadata": {},
   "outputs": [
    {
     "name": "stderr",
     "output_type": "stream",
     "text": [
      "C:\\Users\\dscv0\\AppData\\Local\\Packages\\PythonSoftwareFoundation.Python.3.11_qbz5n2kfra8p0\\LocalCache\\local-packages\\Python311\\site-packages\\spacy\\util.py:922: UserWarning: [W095] Model 'es_core_news_sm' (3.7.0) was trained with spaCy v3.7.0 and may not be 100% compatible with the current version (3.8.7). If you see errors or degraded performance, download a newer compatible model or retrain your custom model with the current spaCy version. For more details and available updates, run: python -m spacy validate\n",
      "  warnings.warn(warn_msg)\n"
     ]
    },
    {
     "data": {
      "text/html": [
       "<div>\n",
       "<style scoped>\n",
       "    .dataframe tbody tr th:only-of-type {\n",
       "        vertical-align: middle;\n",
       "    }\n",
       "\n",
       "    .dataframe tbody tr th {\n",
       "        vertical-align: top;\n",
       "    }\n",
       "\n",
       "    .dataframe thead th {\n",
       "        text-align: right;\n",
       "    }\n",
       "</style>\n",
       "<table border=\"1\" class=\"dataframe\">\n",
       "  <thead>\n",
       "    <tr style=\"text-align: right;\">\n",
       "      <th></th>\n",
       "      <th>textos</th>\n",
       "      <th>labels</th>\n",
       "      <th>palabras</th>\n",
       "      <th>palabrasProces</th>\n",
       "    </tr>\n",
       "  </thead>\n",
       "  <tbody>\n",
       "    <tr>\n",
       "      <th>0</th>\n",
       "      <td>\"Aprendizaje\" y \"educación\" se consideran sinó...</td>\n",
       "      <td>4</td>\n",
       "      <td>[aprendizaj, educ, consider, sinon, escolariz,...</td>\n",
       "      <td>[aprendizaje, educacion, consideran, sinonimos...</td>\n",
       "    </tr>\n",
       "    <tr>\n",
       "      <th>1</th>\n",
       "      <td>Para los niños más pequeños (bebés y niños peq...</td>\n",
       "      <td>4</td>\n",
       "      <td>[nin, mas, pequen, beb, nin, pequen, capacit, ...</td>\n",
       "      <td>[ninos, mas, pequenos, bebes, ninos, pequenos,...</td>\n",
       "    </tr>\n",
       "    <tr>\n",
       "      <th>2</th>\n",
       "      <td>Además, la formación de especialistas en medic...</td>\n",
       "      <td>3</td>\n",
       "      <td>[adem, formacion, especial, medicin, general, ...</td>\n",
       "      <td>[ademas, formacion, especialistas, medicina, g...</td>\n",
       "    </tr>\n",
       "    <tr>\n",
       "      <th>3</th>\n",
       "      <td>En los países de la OCDE se tiende a pasar de ...</td>\n",
       "      <td>4</td>\n",
       "      <td>[pais, ocde, tiend, pas, curs, obligatori, opt...</td>\n",
       "      <td>[paises, ocde, tiende, pasar, cursos, obligato...</td>\n",
       "    </tr>\n",
       "    <tr>\n",
       "      <th>4</th>\n",
       "      <td>Este grupo se centró en las personas que padec...</td>\n",
       "      <td>3</td>\n",
       "      <td>[grup, centr, person, padec, trastorn, mental,...</td>\n",
       "      <td>[grupo, centro, personas, padecen, trastornos,...</td>\n",
       "    </tr>\n",
       "  </tbody>\n",
       "</table>\n",
       "</div>"
      ],
      "text/plain": [
       "                                              textos  labels  \\\n",
       "0  \"Aprendizaje\" y \"educación\" se consideran sinó...       4   \n",
       "1  Para los niños más pequeños (bebés y niños peq...       4   \n",
       "2  Además, la formación de especialistas en medic...       3   \n",
       "3  En los países de la OCDE se tiende a pasar de ...       4   \n",
       "4  Este grupo se centró en las personas que padec...       3   \n",
       "\n",
       "                                            palabras  \\\n",
       "0  [aprendizaj, educ, consider, sinon, escolariz,...   \n",
       "1  [nin, mas, pequen, beb, nin, pequen, capacit, ...   \n",
       "2  [adem, formacion, especial, medicin, general, ...   \n",
       "3  [pais, ocde, tiend, pas, curs, obligatori, opt...   \n",
       "4  [grup, centr, person, padec, trastorn, mental,...   \n",
       "\n",
       "                                      palabrasProces  \n",
       "0  [aprendizaje, educacion, consideran, sinonimos...  \n",
       "1  [ninos, mas, pequenos, bebes, ninos, pequenos,...  \n",
       "2  [ademas, formacion, especialistas, medicina, g...  \n",
       "3  [paises, ocde, tiende, pasar, cursos, obligato...  \n",
       "4  [grupo, centro, personas, padecen, trastornos,...  "
      ]
     },
     "execution_count": 12,
     "metadata": {},
     "output_type": "execute_result"
    }
   ],
   "source": [
    "import spacy\n",
    "# Stemmer para palabras en español\n",
    "stemmer = SnowballStemmer(\"spanish\")\n",
    "\n",
    "# Load spaCy Spanish model\n",
    "nlp = spacy.load(\"es_core_news_sm\")\n",
    "\n",
    "\n",
    "\n",
    "def stem_words(words):\n",
    "    \"\"\"Stem words in list of tokenized words (Spanish).\"\"\"\n",
    "    return [stemmer.stem(w) for w in words]\n",
    "\n",
    "def lemmatize_verbs(words):\n",
    "    \"\"\"Lemmatize words in list of tokenized words (Spanish).\"\"\"\n",
    "    doc = nlp(\" \".join(words))\n",
    "    # Return lemmas, focusing on verbs (if you want *all words*, remove the if check)\n",
    "    return [token.lemma_ for token in doc]\n",
    "\n",
    "def stem_and_lemmatize(words):\n",
    "    \"\"\"Combine stems and lemmas (verbs) if needed.\"\"\"\n",
    "    stems = stem_words(words)\n",
    "    lemmas = lemmatize_verbs(words)\n",
    "    return stems + lemmas\n",
    "\n",
    "df_textC['palabras']=df_textC['palabrasProces'].apply(stem_and_lemmatize)\n",
    "\n",
    "df_textC.head()"
   ]
  },
  {
   "cell_type": "code",
   "execution_count": null,
   "id": "6ccd28dd",
   "metadata": {},
   "outputs": [
    {
     "data": {
      "application/vnd.microsoft.datawrangler.viewer.v0+json": {
       "columns": [
        {
         "name": "index",
         "rawType": "int64",
         "type": "integer"
        },
        {
         "name": "textos",
         "rawType": "object",
         "type": "string"
        },
        {
         "name": "labels",
         "rawType": "int64",
         "type": "integer"
        },
        {
         "name": "palabras",
         "rawType": "object",
         "type": "unknown"
        },
        {
         "name": "palabrasProces",
         "rawType": "object",
         "type": "unknown"
        }
       ],
       "ref": "9243d70d-15f6-4d8f-95d7-8d5e87cb6c0a",
       "rows": [
        [
         "137",
         "También detalla un conjunto integral de políticas y prácticas educativas. Algunas de estas políticas y prácticas están diseñadas para abordar los desafíos específicos que enfrentan los inmigrantes al llegar a un nuevo país, otras están diseñadas para fomentar la integración a largo plazo de los inmigrantes y sus hijos. Los estudiantes de origen inmigrante en muchos sistemas educativos corren un mayor riesgo de bajo rendimiento académico, de reportar sentimientos de alienación, alta ansiedad relacionada con el trabajo escolar y baja satisfacción con la vida.",
         "4",
         "['tambi', 'detall', 'conjunt', 'integral', 'polit', 'practic', 'educ', 'polit', 'practic', 'estan', 'disen', 'abord', 'desafi', 'especif', 'enfrent', 'inmigr', 'lleg', 'nuev', 'pais', 'estan', 'disen', 'foment', 'integr', 'larg', 'plaz', 'inmigr', 'hij', 'estudi', 'orig', 'inmigr', 'sistem', 'educ', 'corr', 'mayor', 'riesg', 'baj', 'rendimient', 'academ', 'report', 'sentimient', 'alien', 'alta', 'ansied', 'relacion', 'trabaj', 'escol', 'baj', 'satisfaccion', 'vid', 'tambien', 'detalla', 'conjunto', 'integral', 'politica', 'practica', 'educativo', 'politica', 'practica', 'estar', 'disenada', 'abordar', 'desafio', 'especifico', 'enfrentar', 'inmigrante', 'llegar', 'nuevo', 'pais', 'estar', 'disenada', 'fomentar', 'integracion', 'largo', 'plazo', 'inmigrante', 'hijo', 'estudiant', 'origen', 'inmigrante', 'sistema', 'educativo', 'correr', 'mayor', 'riesgo', 'bajo', 'rendimiento', 'academico', 'reportar', 'sentimiento', 'alienacion', 'alto', 'ansiedad', 'relacionado', 'trabajo', 'escolar', 'bajo', 'satisfaccion', 'vida']",
         "['tambien', 'detalla', 'conjunto', 'integral', 'politicas', 'practicas', 'educativas', 'politicas', 'practicas', 'estan', 'disenadas', 'abordar', 'desafios', 'especificos', 'enfrentan', 'inmigrantes', 'llegar', 'nuevo', 'pais', 'estan', 'disenadas', 'fomentar', 'integracion', 'largo', 'plazo', 'inmigrantes', 'hijos', 'estudiantes', 'origen', 'inmigrante', 'sistemas', 'educativos', 'corren', 'mayor', 'riesgo', 'bajo', 'rendimiento', 'academico', 'reportar', 'sentimientos', 'alienacion', 'alta', 'ansiedad', 'relacionada', 'trabajo', 'escolar', 'baja', 'satisfaccion', 'vida']"
        ],
        [
         "1566",
         "Además, dado que los presupuestos quinquenales implican la planificación del gasto en determinadas áreas dentro de la educación (por ejemplo, la remuneración del personal), existe un mayor margen para la estabilidad en las relaciones laborales con los sindicatos de profesores, en beneficio potencial del funcionamiento diario de las escuelas. De hecho, en este contexto, la remuneración de los profesores no necesitaría negociarse cada año. No obstante, los conflictos con los profesores por los salarios y las condiciones de trabajo son algo habitual (INEEd, 2015).",
         "4",
         "['adem', 'dad', 'presupuest', 'quinquenal', 'implic', 'planif', 'gast', 'determin', 'are', 'dentr', 'educ', 'ejempl', 'remuner', 'personal', 'exist', 'mayor', 'marg', 'estabil', 'relacion', 'laboral', 'sindicat', 'profesor', 'benefici', 'potencial', 'funcion', 'diari', 'escuel', 'hech', 'context', 'remuner', 'profesor', 'necesitari', 'negoci', 'cad', 'ano', 'obstant', 'conflict', 'profesor', 'salari', 'condicion', 'trabaj', 'habitual', 'ine', '2015', 'adema', 'dado', 'presupuesto', 'quinquenal', 'implicar', 'planificacion', 'gasto', 'determinado', 'area', 'dentro', 'educacion', 'ejemplo', 'remuneracion', 'personal', 'existir', 'mayor', 'margen', 'estabilidad', 'relación', 'laboral', 'sindicato', 'profesor', 'beneficio', 'potencial', 'funcionamiento', 'diario', 'escuela', 'hecho', 'contexto', 'remuneracion', 'profesor', 'necesitario', 'negociar él', 'cada', 'ano', 'obstante', 'conflicto', 'profesor', 'salario', 'condición', 'trabajo', 'habitual', 'ineed', '2015']",
         "['ademas', 'dado', 'presupuestos', 'quinquenales', 'implican', 'planificacion', 'gasto', 'determinadas', 'areas', 'dentro', 'educacion', 'ejemplo', 'remuneracion', 'personal', 'existe', 'mayor', 'margen', 'estabilidad', 'relaciones', 'laborales', 'sindicatos', 'profesores', 'beneficio', 'potencial', 'funcionamiento', 'diario', 'escuelas', 'hecho', 'contexto', 'remuneracion', 'profesores', 'necesitaria', 'negociarse', 'cada', 'ano', 'obstante', 'conflictos', 'profesores', 'salarios', 'condiciones', 'trabajo', 'habitual', 'ineed', '2015']"
        ],
        [
         "1099",
         "Alternativamente, los prioritarios racionalizan la graduación como una oportunidad para redistribuir recursos limitados al siguiente grupo de personas que cumplen con los criterios de elegibilidad. La retirada del apoyo debe equilibrarse con la probabilidad de que los beneficiarios vuelvan a caer en la pobreza. Los programas contra la pobreza que utilizan eventos únicos como condiciones de elegibilidad, como el embarazo o la finalización de la educación primaria, pueden no ser efectivos cuando se utilizan como condiciones de salida o de \"graduación\". Más importante aún, la justificación ética de las condiciones de elegibilidad podría no aplicarse en el contexto de las condiciones de salida.",
         "1",
         "['altern', 'prioritari', 'racionaliz', 'graduacion', 'oportun', 'redistribu', 'recurs', 'limit', 'siguient', 'grup', 'person', 'cumpl', 'criteri', 'elegibil', 'retir', 'apoy', 'deb', 'equilibr', 'probabil', 'beneficiari', 'vuelv', 'caer', 'pobrez', 'program', 'pobrez', 'utiliz', 'event', 'unic', 'condicion', 'elegibil', 'embaraz', 'finaliz', 'educ', 'primari', 'pued', 'ser', 'efect', 'utiliz', 'condicion', 'sal', 'graduacion', 'mas', 'import', 'aun', 'justif', 'etic', 'condicion', 'elegibil', 'podri', 'aplic', 'context', 'condicion', 'sal', 'alternativamente', 'prioritario', 'racionalizar', 'graduacion', 'oportunidad', 'redistribuir', 'recurso', 'limitado', 'siguiente', 'grupo', 'persona', 'cumplir', 'criterio', 'elegibilidad', 'retirado', 'apoyo', 'deber', 'equilibrar él', 'probabilidad', 'beneficiario', 'volver', 'caer', 'pobreza', 'programa', 'pobrezo', 'utilizar', 'evento', 'unico', 'condición', 'elegibilidad', 'embarazo', 'finalizacion', 'educacion', 'primaria', 'poder', 'ser', 'efectivo', 'utilizar', 'condición', 'salido', 'graduacion', 'mas', 'importante', 'aun', 'justificacion', 'etico', 'condiciones', 'elegibilidad', 'podrio', 'aplicar él', 'contexto', 'condición', 'salido']",
         "['alternativamente', 'prioritarios', 'racionalizan', 'graduacion', 'oportunidad', 'redistribuir', 'recursos', 'limitados', 'siguiente', 'grupo', 'personas', 'cumplen', 'criterios', 'elegibilidad', 'retirada', 'apoyo', 'debe', 'equilibrarse', 'probabilidad', 'beneficiarios', 'vuelvan', 'caer', 'pobreza', 'programas', 'pobreza', 'utilizan', 'eventos', 'unicos', 'condiciones', 'elegibilidad', 'embarazo', 'finalizacion', 'educacion', 'primaria', 'pueden', 'ser', 'efectivos', 'utilizan', 'condiciones', 'salida', 'graduacion', 'mas', 'importante', 'aun', 'justificacion', 'etica', 'condiciones', 'elegibilidad', 'podria', 'aplicarse', 'contexto', 'condiciones', 'salida']"
        ],
        [
         "654",
         "Sin embargo, la proporción del pago de bolsillo por productos farmacéuticos es alta, representando el 18 % del gasto sanitario actual, en comparación con el promedio de la OCDE del 7 %. Esto sugiere que el acceso a los productos farmacéuticos puede ser un desafío en el país, particularmente entre los grupos de bajos ingresos. Los datos sobre consumo y ventas de productos farmacéuticos son limitados en Letonia, pero los únicos datos disponibles para comparaciones internacionales muestran que las ventas de antibacterianos para uso sistémico medidas en dosis diaria definida (DDD) son aproximadamente un 35 % más bajas que el promedio de la OCDE.",
         "3",
         "['embarg', 'proporcion', 'pag', 'bolsill', 'product', 'farmaceut', 'alta', 'represent', '18', 'gast', 'sanitari', 'actual', 'compar', 'promedi', 'ocde', '7', 'sugier', 'acces', 'product', 'farmaceut', 'pued', 'ser', 'desafi', 'pais', 'particular', 'grup', 'baj', 'ingres', 'dat', 'consum', 'vent', 'product', 'farmaceut', 'limit', 'letoni', 'unic', 'dat', 'dispon', 'compar', 'internacional', 'muestr', 'vent', 'antibacterian', 'uso', 'sistem', 'med', 'dosis', 'diari', 'defin', 'ddd', 'aproxim', '35', 'mas', 'baj', 'promedi', 'ocde', 'embargo', 'proporcion', 'pago', 'bolsillo', 'producto', 'farmaceutico', 'alto', 'representar', '18', 'gasto', 'sanitario', 'actual', 'comparacion', 'promedio', 'ocde', '7', 'sugerir', 'acceso', 'producto', 'farmaceutico', 'poder', 'ser', 'desafio', 'pais', 'particularmente', 'grupo', 'bajo', 'ingreso', 'dato', 'consumo', 'venta', 'producto', 'farmaceutico', 'limitado', 'letonia', 'unico', 'dato', 'disponible', 'comparación', 'internacional', 'mostrar', 'venta', 'antibacteriano', 'uso', 'sistemico', 'medida', 'dosi', 'diario', 'definido', 'ddd', 'aproximadamente', '35', 'mas', 'bajo', 'promedio', 'ocde']",
         "['embargo', 'proporcion', 'pago', 'bolsillo', 'productos', 'farmaceuticos', 'alta', 'representando', '18', 'gasto', 'sanitario', 'actual', 'comparacion', 'promedio', 'ocde', '7', 'sugiere', 'acceso', 'productos', 'farmaceuticos', 'puede', 'ser', 'desafio', 'pais', 'particularmente', 'grupos', 'bajos', 'ingresos', 'datos', 'consumo', 'ventas', 'productos', 'farmaceuticos', 'limitados', 'letonia', 'unicos', 'datos', 'disponibles', 'comparaciones', 'internacionales', 'muestran', 'ventas', 'antibacterianos', 'uso', 'sistemico', 'medidas', 'dosis', 'diaria', 'definida', 'ddd', 'aproximadamente', '35', 'mas', 'bajas', 'promedio', 'ocde']"
        ],
        [
         "2376",
         "Parte de los 400 millones de libras esterlinas comprometidos para mejorar el acceso a las terapias psicológicas ayudará específicamente a personas de comunidades que tienen dificultades para acceder a estos servicios. En 2012/13 Time to Change, el Departamento de Salud financió un programa de salud mental contra el estigma y la discriminación centrado en trabajar con las comunidades africanas y caribeñas, destinar el 25 % del fondo de subvenciones para trabajar con las comunidades de BME y crear asociaciones con BME. organizaciones Es parte de un nuevo acuerdo de gran alcance entre la policía, los fideicomisos de salud mental y los paramédicos. El Concordato reconoce que existen dificultades particulares para lograr mejores resultados de salud mental para las personas en comunidades negras y de minorías étnicas (BME).",
         "3",
         "['part', '400', 'millon', 'libr', 'esterlin', 'compromet', 'mejor', 'acces', 'terapi', 'psicolog', 'ayud', 'especif', 'person', 'comun', 'dificultad', 'acced', 'servici', '201213', 'tim', 'to', 'chang', 'departament', 'salud', 'financi', 'program', 'salud', 'mental', 'estigm', 'discrimin', 'centr', 'trabaj', 'comun', 'african', 'cariben', 'destin', '25', 'fond', 'subvencion', 'trabaj', 'comun', 'bme', 'cre', 'asoci', 'bme', 'organiz', 'part', 'nuev', 'acuerd', 'gran', 'alcanc', 'polici', 'fideicomis', 'salud', 'mental', 'paramed', 'concordat', 'reconoc', 'exist', 'dificultad', 'particular', 'logr', 'mejor', 'result', 'salud', 'mental', 'person', 'comun', 'negr', 'minori', 'etnic', 'bme', 'partir', '400', 'millón', 'librar', 'esterlina', 'comprometido', 'mejorar', 'acceso', 'terapia', 'psicologica', 'ayudar', 'especificamente', 'persona', 'comunidad', 'dificultad', 'acceder', 'servicio', '201213', 'time', 'to', 'change', 'departamento', 'salud', 'financio', 'programa', 'salud', 'mental', 'estigma', 'discriminacion', 'centrado', 'trabajar', 'comunidad', 'africano', 'caribena', 'destinar', '25', 'fondo', 'subvención', 'trabajar', 'comunidad', 'bme', 'crear', 'asociación', 'bme', 'organización', 'parte', 'nuevo', 'acuerdo', 'gran', 'alcance', 'policia', 'fideicomiso', 'salud', 'mental', 'paramedico', 'concordato', 'reconocer', 'existir', 'dificultad', 'particular', 'lograr', 'mejor', 'resultado', 'salud', 'mental', 'persona', 'comunidad', 'negro', 'minoria', 'etnica', 'bme']",
         "['parte', '400', 'millones', 'libras', 'esterlinas', 'comprometidos', 'mejorar', 'acceso', 'terapias', 'psicologicas', 'ayudara', 'especificamente', 'personas', 'comunidades', 'dificultades', 'acceder', 'servicios', '201213', 'time', 'to', 'change', 'departamento', 'salud', 'financio', 'programa', 'salud', 'mental', 'estigma', 'discriminacion', 'centrado', 'trabajar', 'comunidades', 'africanas', 'caribenas', 'destinar', '25', 'fondo', 'subvenciones', 'trabajar', 'comunidades', 'bme', 'crear', 'asociaciones', 'bme', 'organizaciones', 'parte', 'nuevo', 'acuerdo', 'gran', 'alcance', 'policia', 'fideicomisos', 'salud', 'mental', 'paramedicos', 'concordato', 'reconoce', 'existen', 'dificultades', 'particulares', 'lograr', 'mejores', 'resultados', 'salud', 'mental', 'personas', 'comunidades', 'negras', 'minorias', 'etnicas', 'bme']"
        ],
        [
         "712",
         "Los únicos profesores a los que se da la opción de no incorporarse al nuevo sistema son aquellos a los que les falten diez años para jubilarse a partir de 2016. Formación inicial del profesorado: nuevos requisitos para acceder a la formación inicial del profesorado, acreditación obligatoria de los programas de formación inicial del profesorado y evaluación externa de los estudiantes de magisterio antes de su graduación para fundamentar la mejora de los programas de formación del profesorado. Nueva estructura de la carrera profesional: lanzamiento del Sistema Nacional de Inducción para profesores principiantes, creación de una estructura de carrera profesional de varias etapas y desarrollo de un proceso de evaluación del profesorado para determinar la progresión en la estructura de la carrera profesional.",
         "4",
         "['unic', 'profesor', 'da', 'opcion', 'incorpor', 'nuev', 'sistem', 'aquell', 'falt', 'diez', 'anos', 'jubil', 'part', '2016', 'formacion', 'inicial', 'profesor', 'nuev', 'requisit', 'acced', 'formacion', 'inicial', 'profesor', 'acredit', 'obligatori', 'program', 'formacion', 'inicial', 'profesor', 'evalu', 'extern', 'estudi', 'magisteri', 'graduacion', 'fundament', 'mejor', 'program', 'formacion', 'profesor', 'nuev', 'estructur', 'carrer', 'profesional', 'lanzamient', 'sistem', 'nacional', 'induccion', 'profesor', 'principi', 'creacion', 'estructur', 'carrer', 'profesional', 'vari', 'etap', 'desarroll', 'proces', 'evalu', 'profesor', 'determin', 'progresion', 'estructur', 'carrer', 'profesional', 'unico', 'profesor', 'dar', 'opcion', 'incorporar él', 'nuevo', 'sistema', 'aquellos', 'faltir', 'diez', 'ano', 'jubilar él', 'partir', '2016', 'formacion', 'inicial', 'profesorado', 'nuevo', 'requisito', 'acceder', 'formacion', 'inicial', 'profesorado', 'acreditacion', 'obligatorio', 'programa', 'formacion', 'inicial', 'profesorado', 'evaluacion', 'externo', 'estudiantes', 'magisterio', 'graduacion', 'fundamentar', 'mejora', 'programa', 'formacion', 'profesorado', 'nuevo', 'estructura', 'carrero', 'profesional', 'lanzamiento', 'sistema', 'nacional', 'induccion', 'profesor', 'principiant', 'creacion', 'estructura', 'carrera', 'profesional', 'varios', 'etapa', 'desarrollo', 'proceso', 'evaluacion', 'profesorado', 'determinar', 'progresion', 'estructura', 'carrera', 'profesional']",
         "['unicos', 'profesores', 'da', 'opcion', 'incorporarse', 'nuevo', 'sistema', 'aquellos', 'falten', 'diez', 'anos', 'jubilarse', 'partir', '2016', 'formacion', 'inicial', 'profesorado', 'nuevos', 'requisitos', 'acceder', 'formacion', 'inicial', 'profesorado', 'acreditacion', 'obligatoria', 'programas', 'formacion', 'inicial', 'profesorado', 'evaluacion', 'externa', 'estudiantes', 'magisterio', 'graduacion', 'fundamentar', 'mejora', 'programas', 'formacion', 'profesorado', 'nueva', 'estructura', 'carrera', 'profesional', 'lanzamiento', 'sistema', 'nacional', 'induccion', 'profesores', 'principiantes', 'creacion', 'estructura', 'carrera', 'profesional', 'varias', 'etapas', 'desarrollo', 'proceso', 'evaluacion', 'profesorado', 'determinar', 'progresion', 'estructura', 'carrera', 'profesional']"
        ],
        [
         "426",
         "Además, los estudiantes en escuelas de clases pequeñas tienden a sufrir entornos de aprendizaje más pobres. Con respecto a la fuerza laboral docente, las proporciones actuales de alumnos por maestro indican que podría haber un exceso de oferta de maestros en el sistema. La concepción del empleo docente, según la cual la compensación básica se asocia únicamente a la carga docente del docente (sistema stavka), es motivo de preocupación, ya que no reconoce adecuadamente las muchas tareas que realiza un docente más allá de la enseñanza y reduce su compromiso. en actividades escolares.",
         "4",
         "['adem', 'estudi', 'escuel', 'clas', 'pequen', 'tiend', 'sufr', 'entorn', 'aprendizaj', 'mas', 'pobr', 'respect', 'fuerz', 'laboral', 'docent', 'proporcion', 'actual', 'alumn', 'maestr', 'indic', 'podri', 'hab', 'exces', 'ofert', 'maestr', 'sistem', 'concepcion', 'emple', 'docent', 'segun', 'compens', 'basic', 'asoci', 'unic', 'carg', 'docent', 'docent', 'sistem', 'stavk', 'motiv', 'preocup', 'reconoc', 'adecu', 'much', 'tar', 'realiz', 'docent', 'mas', 'alla', 'ensen', 'reduc', 'compromis', 'activ', 'escolar', 'adema', 'estudiant', 'escuela', 'clás', 'pequena', 'tender', 'sufrir', 'entorno', 'aprendizaje', 'mas', 'pobre', 'respecto', 'fuerza', 'laboral', 'docente', 'proporción', 'actual', 'alumno', 'maestro', 'indicar', 'podrio', 'haber', 'exceso', 'oferta', 'maestros', 'sistema', 'concepcion', 'empleo', 'docente', 'segun', 'compensacion', 'basico', 'asocia', 'unicamente', 'carga', 'docente', 'docente', 'sistema', 'stavka', 'motivo', 'preocupacion', 'reconocer', 'adecuadamente', 'mucho', 'tarea', 'realizar', 'docente', 'mas', 'allo', 'ensenanza', 'reducir', 'compromiso', 'actividad', 'escolar']",
         "['ademas', 'estudiantes', 'escuelas', 'clases', 'pequenas', 'tienden', 'sufrir', 'entornos', 'aprendizaje', 'mas', 'pobres', 'respecto', 'fuerza', 'laboral', 'docente', 'proporciones', 'actuales', 'alumnos', 'maestro', 'indican', 'podria', 'haber', 'exceso', 'oferta', 'maestros', 'sistema', 'concepcion', 'empleo', 'docente', 'segun', 'compensacion', 'basica', 'asocia', 'unicamente', 'carga', 'docente', 'docente', 'sistema', 'stavka', 'motivo', 'preocupacion', 'reconoce', 'adecuadamente', 'muchas', 'tareas', 'realiza', 'docente', 'mas', 'alla', 'ensenanza', 'reduce', 'compromiso', 'actividades', 'escolares']"
        ],
        [
         "799",
         "Una gran parte de la ganancia en la esperanza de vida ha sido después de los 65 años, por lo que las mujeres estonias a los 65 años tienen otros 20 años de vida y los hombres más de 15 años (2015). La mortalidad por cáncer es la segunda causa de muerte (representando el 22% de las mujeres y el 27% de los hombres). Las causas externas ocupan el tercer lugar para ambos y representan la muerte de aproximadamente el 10% de los hombres. Sin embargo, durante el mismo período, la mortalidad por cáncer no disminuyó y se mantiene muy por encima de la media de la UE. A pesar de las políticas para combatir el tabaquismo (consulte la Sección 5.1), el cáncer de pulmón sigue siendo la causa más común de mortalidad por cáncer.",
         "3",
         "['gran', 'part', 'gananci', 'esper', 'vid', 'sid', 'despu', '65', 'anos', 'mujer', 'estoni', '65', 'anos', '20', 'anos', 'vid', 'hombr', 'mas', '15', 'anos', '2015', 'mortal', 'canc', 'segund', 'caus', 'muert', 'represent', '22', 'mujer', '27', 'hombr', 'caus', 'extern', 'ocup', 'terc', 'lug', 'ambos', 'represent', 'muert', 'aproxim', '10', 'hombr', 'embarg', 'mism', 'period', 'mortal', 'canc', 'disminu', 'mantien', 'encim', 'medi', 'ue', 'pes', 'polit', 'combat', 'tabaqu', 'consult', 'seccion', '51', 'canc', 'pulmon', 'sig', 'siend', 'caus', 'mas', 'comun', 'mortal', 'canc', 'gran', 'parte', 'ganancia', 'esperanzo', 'vida', 'ser', 'despues', '65', 'ano', 'mujer', 'estonia', '65', 'ano', '20', 'ano', 'vidar', 'hombre', 'mas', '15', 'ano', '2015', 'mortalidad', 'cancer', 'segundo', 'causa', 'muerte', 'representar', '22', 'mujer', '27', 'hombre', 'causa', 'externo', 'ocupar', 'tercer', 'lugar', 'ambos', 'representar', 'muerte', 'aproximadamente', '10', 'hombre', 'embargo', 'mismo', 'periodo', 'mortalidad', 'cancer', 'disminuyo', 'mantener', 'encima', 'medio', 'ue', 'pesar', 'politica', 'combatir', 'tabaquismo', 'consulte', 'seccion', '51', 'cancer', 'pulmon', 'seguir', 'ser', 'causa', 'mas', 'comun', 'mortalidad', 'cancer']",
         "['gran', 'parte', 'ganancia', 'esperanza', 'vida', 'sido', 'despues', '65', 'anos', 'mujeres', 'estonias', '65', 'anos', '20', 'anos', 'vida', 'hombres', 'mas', '15', 'anos', '2015', 'mortalidad', 'cancer', 'segunda', 'causa', 'muerte', 'representando', '22', 'mujeres', '27', 'hombres', 'causas', 'externas', 'ocupan', 'tercer', 'lugar', 'ambos', 'representan', 'muerte', 'aproximadamente', '10', 'hombres', 'embargo', 'mismo', 'periodo', 'mortalidad', 'cancer', 'disminuyo', 'mantiene', 'encima', 'media', 'ue', 'pesar', 'politicas', 'combatir', 'tabaquismo', 'consulte', 'seccion', '51', 'cancer', 'pulmon', 'sigue', 'siendo', 'causa', 'mas', 'comun', 'mortalidad', 'cancer']"
        ],
        [
         "1193",
         "¿Qué ventajas tiene para los alumnos trabajar con distintas estrategias didácticas? Es importante identificar nuestros puntos fuertes y débiles para mejorar nuestra labor docente. ¿Qué información utiliza para evaluar sus prácticas docentes? En nuestra labor pedagógica nos encontramos con alumnos a los que les cuesta participar en clase.",
         "4",
         "['ventaj', 'alumn', 'trabaj', 'distint', 'estrategi', 'didact', 'import', 'identific', 'punt', 'fuert', 'debil', 'mejor', 'labor', 'docent', 'inform', 'utiliz', 'evalu', 'practic', 'docent', 'labor', 'pedagog', 'encontr', 'alumn', 'cuest', 'particip', 'clas', 'ventaja', 'alumno', 'trabajar', 'distinto', 'estrategia', 'didactica', 'importante', 'identificar', 'punto', 'fuerte', 'debil', 'mejorar', 'labor', 'docente', 'informacion', 'utilizar', 'evaluar', 'practica', 'docente', 'labor', 'pedagogico', 'encontrar', 'alumno', 'costar', 'participar', 'clase']",
         "['ventajas', 'alumnos', 'trabajar', 'distintas', 'estrategias', 'didacticas', 'importante', 'identificar', 'puntos', 'fuertes', 'debiles', 'mejorar', 'labor', 'docente', 'informacion', 'utiliza', 'evaluar', 'practicas', 'docentes', 'labor', 'pedagogica', 'encontramos', 'alumnos', 'cuesta', 'participar', 'clase']"
        ],
        [
         "770",
         "Por lo tanto, las microfinanzas están teniendo un impacto modernizador, incluso si ese impacto es involuntario, no reconocido y no reconocido. Los prestatarios aprenden algunos principios básicos de negocios y, con suerte, y tal vez algo de ayuda, pueden volverse más viables e incluso expandirse. Las microfinanzas también brindan a los desempleados ya las personas que viven en la pobreza algunas oportunidades, esperanza y autoestima.",
         "1",
         "['microfin', 'estan', 'impact', 'moderniz', 'inclus', 'si', 'impact', 'involuntari', 'reconoc', 'reconoc', 'prestatari', 'aprend', 'principi', 'basic', 'negoci', 'suert', 'tal', 'vez', 'ayud', 'pued', 'volv', 'mas', 'viabl', 'inclus', 'expand', 'microfin', 'tambi', 'brind', 'desempl', 'person', 'viv', 'pobrez', 'oportun', 'esper', 'autoestim', 'microfinanza', 'estar', 'impacto', 'modernizador', 'incluso', 'si', 'impacto', 'involuntario', 'reconocido', 'reconocido', 'prestatario', 'aprender', 'principio', 'basico', 'negocio', 'surtir', 'tal', 'vez', 'ayuda', 'poder', 'volver él', 'mas', 'viable', 'incluso', 'expandir él', 'microfinanza', 'tambien', 'brindar', 'desempleado', 'persona', 'vivir', 'pobreza', 'oportunidad', 'esperanza', 'autoestima']",
         "['microfinanzas', 'estan', 'impacto', 'modernizador', 'incluso', 'si', 'impacto', 'involuntario', 'reconocido', 'reconocido', 'prestatarios', 'aprenden', 'principios', 'basicos', 'negocios', 'suerte', 'tal', 'vez', 'ayuda', 'pueden', 'volverse', 'mas', 'viables', 'incluso', 'expandirse', 'microfinanzas', 'tambien', 'brindan', 'desempleados', 'personas', 'viven', 'pobreza', 'oportunidades', 'esperanza', 'autoestima']"
        ],
        [
         "1806",
         "Además, el 98,3 % de los profesores flamencos de secundaria inferior habían completado un programa de licenciatura en formación docente, la tercera cifra más alta entre los 34 países participantes en TALIS (frente a una media de TALIS del 89,8 %) (OCDE, 2014b). Los docentes son contratados en las escuelas a través de un procedimiento de contratación abierto organizado a nivel de la junta escolar y con una participación considerable del director de la escuela. Los consejos escolares tienen autonomía en la contratación, selección y nombramiento de docentes y, por lo tanto, actúan como empleadores. Sin embargo, las escuelas deben observar las normas a nivel de la comunidad flamenca con respecto a las calificaciones estándar requeridas para los docentes y los derechos estatutarios del personal docente.",
         "4",
         "['adem', '983', 'profesor', 'flamenc', 'secundari', 'inferior', 'habi', 'complet', 'program', 'licenciatur', 'formacion', 'docent', 'tercer', 'cifr', 'mas', 'alta', '34', 'pais', 'particip', 'talis', 'frent', 'medi', 'talis', '898', 'ocde', '2014b', 'docent', 'contrat', 'escuel', 'trav', 'proced', 'contrat', 'abiert', 'organiz', 'nivel', 'junt', 'escol', 'particip', 'consider', 'director', 'escuel', 'consej', 'escolar', 'autonomi', 'contrat', 'seleccion', 'nombramient', 'docent', 'actu', 'empleador', 'embarg', 'escuel', 'deb', 'observ', 'norm', 'nivel', 'comun', 'flamenc', 'respect', 'calif', 'estand', 'requer', 'docent', 'derech', 'estatutari', 'personal', 'docent', 'adema', '983', 'profesor', 'flamenco', 'secundario', 'inferior', 'habiar', 'completado', 'programa', 'licenciatura', 'formacion', 'docente', 'tercero', 'cifra', 'mas', 'alto', '34', 'país', 'participant', 'tali', 'frente', 'medio', 'talis', '898', 'ocde', '2014b', 'docente', 'contratado', 'escuela', 'trav', 'procedimiento', 'contratacion', 'abierto', 'organizado', 'nivel', 'junto', 'escolar', 'participacion', 'considerable', 'director', 'escuela', 'consejo', 'escolar', 'autonomia', 'contratacion', 'seleccion', 'nombramiento', 'docente', 'actuan', 'empleador', 'embargo', 'escuelas', 'deber', 'observar', 'norma', 'nivel', 'comunidad', 'flamenco', 'respecto', 'calificaciones', 'estandar', 'requerida', 'docente', 'derecho', 'estatutario', 'personal', 'docente']",
         "['ademas', '983', 'profesores', 'flamencos', 'secundaria', 'inferior', 'habian', 'completado', 'programa', 'licenciatura', 'formacion', 'docente', 'tercera', 'cifra', 'mas', 'alta', '34', 'paises', 'participantes', 'talis', 'frente', 'media', 'talis', '898', 'ocde', '2014b', 'docentes', 'contratados', 'escuelas', 'traves', 'procedimiento', 'contratacion', 'abierto', 'organizado', 'nivel', 'junta', 'escolar', 'participacion', 'considerable', 'director', 'escuela', 'consejos', 'escolares', 'autonomia', 'contratacion', 'seleccion', 'nombramiento', 'docentes', 'actuan', 'empleadores', 'embargo', 'escuelas', 'deben', 'observar', 'normas', 'nivel', 'comunidad', 'flamenca', 'respecto', 'calificaciones', 'estandar', 'requeridas', 'docentes', 'derechos', 'estatutarios', 'personal', 'docente']"
        ],
        [
         "1060",
         "Si la educación consistiera en impartir conocimientos sobre contenidos, el desarrollo y la evaluación de la pedagogía consistirían en establecer los mejores métodos para promover la memorización y la comprensión de conocimientos y conceptos. Pero las pedagogías centradas en las disciplinas sólo cubren una parte de lo que un profesor, una escuela o un sistema pueden querer desarrollar en los alumnos, y se ha producido un cambio concertado hacia pedagogías que desarrollan competencias personales y sociales de más alto nivel, impulsado por al menos cuatro factores. En segundo lugar, las sociedades y las industrias basadas en las tecnologías digitales exigen que las personas gestionen y utilicen un conjunto más complejo de información y aumentan el valor de las habilidades sociales. En tercer lugar, los cambios sociales han aumentado la complejidad de las opciones y las tareas a las que se enfrentan los jóvenes en su transición de la adolescencia a la edad adulta. Por último, algunos sectores se han opuesto a la intensificación de las evaluaciones estandarizadas de las capacidades cognitivas.",
         "4",
         "['si', 'educ', 'consist', 'impart', 'conoc', 'conten', 'desarroll', 'evalu', 'pedagogi', 'consistiri', 'establec', 'mejor', 'metod', 'promov', 'memoriz', 'comprension', 'conoc', 'concept', 'pedagogi', 'centr', 'disciplin', 'sol', 'cubr', 'part', 'profesor', 'escuel', 'sistem', 'pued', 'quer', 'desarroll', 'alumn', 'produc', 'cambi', 'concert', 'haci', 'pedagogi', 'desarroll', 'competent', 'personal', 'social', 'mas', 'alto', 'nivel', 'impuls', 'men', 'cuatr', 'factor', 'segund', 'lug', 'sociedad', 'industri', 'bas', 'tecnologi', 'digital', 'exig', 'person', 'gestion', 'utilic', 'conjunt', 'mas', 'complej', 'inform', 'aument', 'valor', 'habil', 'social', 'terc', 'lug', 'cambi', 'social', 'aument', 'complej', 'opcion', 'tar', 'enfrent', 'joven', 'transicion', 'adolescent', 'edad', 'adult', 'ultim', 'sector', 'opuest', 'intensif', 'evalu', 'estandariz', 'capac', 'cognit', 'si', 'educacion', 'consistir', 'impartir', 'conocimiento', 'contenido', 'desarrollo', 'evaluacion', 'pedagogiar', 'consistiriar', 'establecer', 'mejor', 'metodo', 'promover', 'memorizacion', 'comprension', 'conocimiento', 'concepto', 'pedagogia', 'centrado', 'disciplina', 'solo', 'cubrir', 'parte', 'profesor', 'escuela', 'sistema', 'poder', 'querer', 'desarrollar', 'alumno', 'producido', 'cambio', 'concertado', 'hacia', 'pedagogia', 'desarrollar', 'competencia', 'personal', 'social', 'mas', 'alto', 'nivel', 'impulsado', 'menos', 'cuatro', 'factor', 'segundo', 'lugar', 'sociedad', 'industria', 'basado', 'tecnologia', 'digital', 'exigir', 'persona', 'gestionir', 'utilizar', 'conjunto', 'mas', 'complejo', 'informacion', 'aumentar', 'valor', 'habilidades', 'social', 'tercer', 'lugar', 'cambio', 'social', 'aumentado', 'complejidad', 'opción', 'tarea', 'enfrentar', 'joven', 'transicion', 'adolescencia', 'edad', 'adulto', 'ultimo', 'sector', 'opuesto', 'intensificacion', 'evaluación', 'estandarizado', 'capacidad', 'cognitiva']",
         "['si', 'educacion', 'consistiera', 'impartir', 'conocimientos', 'contenidos', 'desarrollo', 'evaluacion', 'pedagogia', 'consistirian', 'establecer', 'mejores', 'metodos', 'promover', 'memorizacion', 'comprension', 'conocimientos', 'conceptos', 'pedagogias', 'centradas', 'disciplinas', 'solo', 'cubren', 'parte', 'profesor', 'escuela', 'sistema', 'pueden', 'querer', 'desarrollar', 'alumnos', 'producido', 'cambio', 'concertado', 'hacia', 'pedagogias', 'desarrollan', 'competencias', 'personales', 'sociales', 'mas', 'alto', 'nivel', 'impulsado', 'menos', 'cuatro', 'factores', 'segundo', 'lugar', 'sociedades', 'industrias', 'basadas', 'tecnologias', 'digitales', 'exigen', 'personas', 'gestionen', 'utilicen', 'conjunto', 'mas', 'complejo', 'informacion', 'aumentan', 'valor', 'habilidades', 'sociales', 'tercer', 'lugar', 'cambios', 'sociales', 'aumentado', 'complejidad', 'opciones', 'tareas', 'enfrentan', 'jovenes', 'transicion', 'adolescencia', 'edad', 'adulta', 'ultimo', 'sectores', 'opuesto', 'intensificacion', 'evaluaciones', 'estandarizadas', 'capacidades', 'cognitivas']"
        ],
        [
         "299",
         "El número de oncólogos también ha aumentado en Francia y Corea. En Noruega, debido a la creciente demanda de atención oncológica, el número de radioterapeutas ha aumentado en los últimos cinco años, y también se ha incrementado el número de puestos de formación en los hospitales para oncólogos y patólogos. Del mismo modo, para hacer frente a una escasez prevista, en Singapur se han formado más radiólogos en los últimos años, y el número de otros especialistas médicos, incluidos los oncólogos médico-quirúrgicos, también ha aumentado desde principios de la década de 2000. Por ejemplo, Canadá desarrolló un programa de certificación en oncología para enfermeras tituladas, y los Países Bajos también utilizan enfermeras especializadas en oncología. Hungría está intentando utilizar a sus profesionales de forma más eficiente, y el personal de atención primaria (es decir, enfermeras y matronas) se encarga ahora de la toma de citologías, que tradicionalmente realizaban los ginecólogos. Esto se hace no sólo para paliar la escasez de médicos oncólogos, sino también para reducir los costes de la atención oncológica.",
         "3",
         "['numer', 'oncolog', 'tambi', 'aument', 'franci', 'core', 'norueg', 'deb', 'crecient', 'demand', 'atencion', 'oncolog', 'numer', 'radioterapeut', 'aument', 'ultim', 'cinc', 'anos', 'tambi', 'increment', 'numer', 'puest', 'formacion', 'hospital', 'oncolog', 'patolog', 'mism', 'mod', 'hac', 'frent', 'escasez', 'previst', 'singapur', 'form', 'mas', 'radiolog', 'ultim', 'anos', 'numer', 'especial', 'medic', 'inclu', 'oncolog', 'medicoquirurg', 'tambi', 'aument', 'principi', 'dec', '2000', 'ejempl', 'can', 'desarroll', 'program', 'certif', 'oncologi', 'enfermer', 'titul', 'pais', 'baj', 'tambi', 'utiliz', 'enfermer', 'especializ', 'oncologi', 'hungri', 'intent', 'utiliz', 'profesional', 'form', 'mas', 'eficient', 'personal', 'atencion', 'primari', 'dec', 'enfermer', 'matron', 'encarg', 'ahor', 'tom', 'citologi', 'tradicional', 'realiz', 'ginecolog', 'hac', 'sol', 'pali', 'escasez', 'medic', 'oncolog', 'sin', 'tambi', 'reduc', 'cost', 'atencion', 'oncolog', 'numero', 'oncologo', 'tambien', 'aumentado', 'francia', 'corea', 'noruego', 'debido', 'creciente', 'demanda', 'atencion', 'oncologico', 'numero', 'radioterapeuta', 'aumentado', 'ultimos', 'cinco', 'ano', 'tambien', 'incrementado', 'numero', 'puesto', 'formacion', 'hospital', 'oncologo', 'patologo', 'mismo', 'modo', 'hacer', 'frente', 'escasez', 'previsto', 'singapur', 'formado', 'mas', 'radiologo', 'ultimos', 'ano', 'numero', 'especialista', 'medico', 'incluido', 'oncologo', 'medicoquirurgico', 'tambien', 'aumentado', 'principio', 'decado', '2000', 'ejemplo', 'canado', 'desarrollo', 'programa', 'certificacion', 'oncologiar', 'enfermera', 'titulado', 'país', 'bajo', 'tambien', 'utilizar', 'enfermera', 'especializado', 'oncologia', 'hungrio', 'intentar', 'utilizar', 'profesional', 'formar', 'mas', 'eficiente', 'personal', 'atencion', 'primaria', 'decir', 'enfermera', 'matrona', 'encargar', 'ahora', 'tomar', 'citologia', 'tradicionalmente', 'realizar', 'ginecologo', 'hacer', 'solo', 'paliar', 'escasez', 'medico', 'oncologo', 'sino', 'tambien', 'reducir', 'coste', 'atencion', 'oncologico']",
         "['numero', 'oncologos', 'tambien', 'aumentado', 'francia', 'corea', 'noruega', 'debido', 'creciente', 'demanda', 'atencion', 'oncologica', 'numero', 'radioterapeutas', 'aumentado', 'ultimos', 'cinco', 'anos', 'tambien', 'incrementado', 'numero', 'puestos', 'formacion', 'hospitales', 'oncologos', 'patologos', 'mismo', 'modo', 'hacer', 'frente', 'escasez', 'prevista', 'singapur', 'formado', 'mas', 'radiologos', 'ultimos', 'anos', 'numero', 'especialistas', 'medicos', 'incluidos', 'oncologos', 'medicoquirurgicos', 'tambien', 'aumentado', 'principios', 'decada', '2000', 'ejemplo', 'canada', 'desarrollo', 'programa', 'certificacion', 'oncologia', 'enfermeras', 'tituladas', 'paises', 'bajos', 'tambien', 'utilizan', 'enfermeras', 'especializadas', 'oncologia', 'hungria', 'intentando', 'utilizar', 'profesionales', 'forma', 'mas', 'eficiente', 'personal', 'atencion', 'primaria', 'decir', 'enfermeras', 'matronas', 'encarga', 'ahora', 'toma', 'citologias', 'tradicionalmente', 'realizaban', 'ginecologos', 'hace', 'solo', 'paliar', 'escasez', 'medicos', 'oncologos', 'sino', 'tambien', 'reducir', 'costes', 'atencion', 'oncologica']"
        ],
        [
         "1094",
         "Un valor de cero indica que no hay diferencia entre las escuelas socioeconómicamente aventajadas y las desfavorecidas en cuanto a la preocupación de los directores por el personal educativo de la escuela, y los valores positivos (mayor equidad) indican que los directores de las escuelas socioeconómicamente aventajadas están más preocupados que los directores de las escuelas desfavorecidas. Por ejemplo, las escuelas con grandes programas de educación especial y más asistentes de enseñanza tienden a tener más maestros, pero la alta proporción de estudiantes por maestro de las escuelas no tiene impacto en el tamaño de las clases regulares. Además, la cantidad de tiempo de preparación por día asignado a los maestros puede variar según las escuelas y los sistemas escolares.",
         "4",
         "['valor', 'cer', 'indic', 'diferent', 'escuel', 'socioeconom', 'aventaj', 'desfavorec', 'cuant', 'preocup', 'director', 'personal', 'educ', 'escuel', 'valor', 'posit', 'mayor', 'equid', 'indic', 'director', 'escuel', 'socioeconom', 'aventaj', 'estan', 'mas', 'preocup', 'director', 'escuel', 'desfavorec', 'ejempl', 'escuel', 'grand', 'program', 'educ', 'especial', 'mas', 'asistent', 'ensen', 'tiend', 'ten', 'mas', 'maestr', 'alta', 'proporcion', 'estudi', 'maestr', 'escuel', 'impact', 'taman', 'clas', 'regular', 'adem', 'cantid', 'tiemp', 'prepar', 'dia', 'asign', 'maestr', 'pued', 'vari', 'segun', 'escuel', 'sistem', 'escolar', 'valor', 'cero', 'indicar', 'diferenciar', 'escuela', 'socioeconomicamente', 'aventajada', 'desfavorecido', 'cuanto', 'preocupacion', 'director', 'personal', 'educativo', 'escuelar', 'valor', 'positivo', 'mayor', 'equidad', 'indicar', 'director', 'escuela', 'socioeconomicamente', 'aventajada', 'estir', 'mas', 'preocupado', 'director', 'escuela', 'desfavorecido', 'ejemplo', 'escuela', 'grande', 'programa', 'educacion', 'especial', 'mas', 'asistente', 'ensenanza', 'tender', 'tener', 'mas', 'maestro', 'alta', 'proporcion', 'estudiantes', 'maestro', 'escuela', 'impacto', 'tamano', 'clase', 'regular', 'adema', 'cantidad', 'tiempo', 'preparacion', 'diar', 'asignado', 'maestro', 'poder', 'variar', 'segun', 'escuela', 'sistema', 'escolar']",
         "['valor', 'cero', 'indica', 'diferencia', 'escuelas', 'socioeconomicamente', 'aventajadas', 'desfavorecidas', 'cuanto', 'preocupacion', 'directores', 'personal', 'educativo', 'escuela', 'valores', 'positivos', 'mayor', 'equidad', 'indican', 'directores', 'escuelas', 'socioeconomicamente', 'aventajadas', 'estan', 'mas', 'preocupados', 'directores', 'escuelas', 'desfavorecidas', 'ejemplo', 'escuelas', 'grandes', 'programas', 'educacion', 'especial', 'mas', 'asistentes', 'ensenanza', 'tienden', 'tener', 'mas', 'maestros', 'alta', 'proporcion', 'estudiantes', 'maestro', 'escuelas', 'impacto', 'tamano', 'clases', 'regulares', 'ademas', 'cantidad', 'tiempo', 'preparacion', 'dia', 'asignado', 'maestros', 'puede', 'variar', 'segun', 'escuelas', 'sistemas', 'escolares']"
        ],
        [
         "1336",
         "La proporción de jóvenes de 15 a 29 años que no estudian ni trabajan (11,5 %) está por debajo del promedio de la OCDE (ver Figura 4), pero hay margen para aumentar la capacidad y la capacidad de respuesta de las habilidades desarrolladas en la educación y formación profesional. Un desafío compartido por los países en este nivel es brindar una educación pertinente que prepare a los jóvenes adultos para el trabajo y, al mismo tiempo, les proporcione capacidad para seguir aprendiendo. En Australia, el 84 % de las personas de 25 a 34 años alcanzaron la educación secundaria superior (por encima del promedio de la OCDE del 82 %, véase la Figura 2). En la mayoría de los casos, los programas generales y profesionales australianos se ofrecen en las escuelas secundarias superiores.",
         "4",
         "['proporcion', 'joven', '15', '29', 'anos', 'estudi', 'trabaj', '115', 'debaj', 'promedi', 'ocde', 'ver', 'figur', '4', 'marg', 'aument', 'capac', 'capac', 'respuest', 'habil', 'desarroll', 'educ', 'formacion', 'profesional', 'desafi', 'compart', 'pais', 'nivel', 'brind', 'educ', 'pertinent', 'prepar', 'joven', 'adult', 'trabaj', 'mism', 'tiemp', 'proporcion', 'capac', 'segu', 'aprend', 'australi', '84', 'person', '25', '34', 'anos', 'alcanz', 'educ', 'secundari', 'superior', 'encim', 'promedi', 'ocde', '82', 'veas', 'figur', '2', 'mayori', 'cas', 'program', 'general', 'profesional', 'australian', 'ofrec', 'escuel', 'secundari', 'superior', 'proporcion', 'joven', '15', '29', 'ano', 'estudiar', 'trabajar', '115', 'debajo', 'promedio', 'ocde', 'ver', 'figura', '4', 'margen', 'aumentar', 'capacidad', 'capacidad', 'respuesta', 'habilidades', 'desarrollado', 'educacion', 'formacion', 'profesional', 'desafio', 'compartido', 'país', 'nivel', 'brindar', 'educacion', 'pertinente', 'prepare', 'joven', 'adulto', 'trabajar', 'mismo', 'tiempo', 'proporcionir', 'capacidad', 'seguir', 'aprender', 'australia', '84', 'persona', '25', '34', 'ano', 'alcanzar', 'educacion', 'secundaria', 'superior', 'encima', 'promedio', 'ocde', '82', 'vease', 'figurar', '2', 'mayoriar', 'caso', 'programa', 'general', 'profesional', 'australiano', 'ofrecer', 'escuela', 'secundario', 'superior']",
         "['proporcion', 'jovenes', '15', '29', 'anos', 'estudian', 'trabajan', '115', 'debajo', 'promedio', 'ocde', 'ver', 'figura', '4', 'margen', 'aumentar', 'capacidad', 'capacidad', 'respuesta', 'habilidades', 'desarrolladas', 'educacion', 'formacion', 'profesional', 'desafio', 'compartido', 'paises', 'nivel', 'brindar', 'educacion', 'pertinente', 'prepare', 'jovenes', 'adultos', 'trabajo', 'mismo', 'tiempo', 'proporcione', 'capacidad', 'seguir', 'aprendiendo', 'australia', '84', 'personas', '25', '34', 'anos', 'alcanzaron', 'educacion', 'secundaria', 'superior', 'encima', 'promedio', 'ocde', '82', 'vease', 'figura', '2', 'mayoria', 'casos', 'programas', 'generales', 'profesionales', 'australianos', 'ofrecen', 'escuelas', 'secundarias', 'superiores']"
        ],
        [
         "2366",
         "Como se señaló anteriormente, los procesos apropiados de implementación para fomentar y mantener entornos de aprendizaje innovadores se identifican en esta sección como una serie de C, que incluyen: cambio cultural, clarificación del enfoque, capacidad, creación, comunidades, colaboración, comunicación, agentes de cambio. , coherencia y consolidación. Mucho depende también de cómo se combinen estos enfoques de manera sistémica en lugar de tratar las políticas como prácticas aisladas o balas únicas. Los ejemplos y estrategias que se describen aquí son ilustrativos, no prescriptivos.",
         "4",
         "['senal', 'anterior', 'proces', 'apropi', 'implement', 'foment', 'manten', 'entorn', 'aprendizaj', 'innov', 'identific', 'seccion', 'seri', 'c', 'inclu', 'cambi', 'cultural', 'clarif', 'enfoqu', 'capac', 'creacion', 'comun', 'colabor', 'comun', 'agent', 'cambi', 'coherent', 'consolid', 'depend', 'tambi', 'combin', 'enfoqu', 'maner', 'sistem', 'lug', 'trat', 'polit', 'practic', 'aisl', 'bal', 'unic', 'ejempl', 'estrategi', 'describ', 'aqui', 'ilustr', 'prescript', 'senalo', 'anteriormente', 'proceso', 'apropiado', 'implementacion', 'fomentar', 'mantener', 'entorno', 'aprendizaje', 'innovador', 'identificar', 'seccion', 'serie', 'c', 'incluir', 'cambio', 'cultural', 'clarificacion', 'enfocar', 'capacidad', 'creacion', 'comunidad', 'colaboracion', 'comunicacion', 'agent', 'cambio', 'coherencia', 'consolidacion', 'depender', 'tambien', 'combinir', 'enfoque', 'manera', 'sistemico', 'lugar', 'tratar', 'politica', 'practica', 'aislado', 'bala', 'unica', 'ejemplo', 'estrategia', 'describir', 'aqui', 'ilustrativo', 'prescriptivo']",
         "['senalo', 'anteriormente', 'procesos', 'apropiados', 'implementacion', 'fomentar', 'mantener', 'entornos', 'aprendizaje', 'innovadores', 'identifican', 'seccion', 'serie', 'c', 'incluyen', 'cambio', 'cultural', 'clarificacion', 'enfoque', 'capacidad', 'creacion', 'comunidades', 'colaboracion', 'comunicacion', 'agentes', 'cambio', 'coherencia', 'consolidacion', 'depende', 'tambien', 'combinen', 'enfoques', 'manera', 'sistemica', 'lugar', 'tratar', 'politicas', 'practicas', 'aisladas', 'balas', 'unicas', 'ejemplos', 'estrategias', 'describen', 'aqui', 'ilustrativos', 'prescriptivos']"
        ],
        [
         "1832",
         "Específicamente, el costo de un beneficio de $2,50 por día para todas las personas mayores de 60 años o más oscila entre el 0,5% y el 2,7% del PIB, siendo el costo mayor para los países más pobres, donde $2,50 representa una mayor proporción del ingreso promedio. El riesgo de pobreza entre las personas mayores ha disminuido, mientras que las tasas de pobreza entre los adultos jóvenes y las familias con niños han aumentado. Sin embargo, debido a que las tasas iniciales de pobreza en la vejez eran muy altas, las personas de 75 años o más siguen siendo el grupo con más probabilidades de ser pobres. Las personas de 66 a 75 años, en cambio, ahora no tienen más probabilidades de ser pobres que la población en su conjunto.",
         "1",
         "['especif', 'cost', 'benefici', '250', 'dia', 'tod', 'person', 'mayor', '60', 'anos', 'mas', 'oscil', '05', '27', 'pib', 'siend', 'cost', 'mayor', 'pais', 'mas', 'pobr', '250', 'represent', 'mayor', 'proporcion', 'ingres', 'promedi', 'riesg', 'pobrez', 'person', 'mayor', 'disminu', 'mientr', 'tas', 'pobrez', 'adult', 'joven', 'famili', 'nin', 'aument', 'embarg', 'deb', 'tas', 'inicial', 'pobrez', 'vejez', 'altas', 'person', '75', 'anos', 'mas', 'sig', 'siend', 'grup', 'mas', 'probabil', 'ser', 'pobr', 'person', '66', '75', 'anos', 'cambi', 'ahor', 'mas', 'probabil', 'ser', 'pobr', 'poblacion', 'conjunt', 'especificamente', 'costo', 'beneficio', '250', 'diar', 'todo', 'persona', 'mayor', '60', 'ano', 'mas', 'oscilar', '05', '27', 'pib', 'ser', 'costo', 'mayor', 'país', 'mas', 'pobre', '250', 'representar', 'mayor', 'proporcion', 'ingreso', 'promedio', 'riesgo', 'pobrecer', 'persona', 'mayor', 'disminuido', 'mientras', 'tasa', 'pobrezar', 'adulto', 'joven', 'familia', 'nino', 'aumentado', 'embargo', 'debido', 'tasa', 'inicial', 'pobrezar', 'vejez', 'alto', 'persona', '75', 'ano', 'mas', 'seguir', 'ser', 'grupo', 'mas', 'probabilidad', 'ser', 'pobre', 'persona', '66', '75', 'ano', 'cambio', 'ahora', 'mas', 'probabilidad', 'ser', 'pobre', 'poblacion', 'conjunto']",
         "['especificamente', 'costo', 'beneficio', '250', 'dia', 'todas', 'personas', 'mayores', '60', 'anos', 'mas', 'oscila', '05', '27', 'pib', 'siendo', 'costo', 'mayor', 'paises', 'mas', 'pobres', '250', 'representa', 'mayor', 'proporcion', 'ingreso', 'promedio', 'riesgo', 'pobreza', 'personas', 'mayores', 'disminuido', 'mientras', 'tasas', 'pobreza', 'adultos', 'jovenes', 'familias', 'ninos', 'aumentado', 'embargo', 'debido', 'tasas', 'iniciales', 'pobreza', 'vejez', 'altas', 'personas', '75', 'anos', 'mas', 'siguen', 'siendo', 'grupo', 'mas', 'probabilidades', 'ser', 'pobres', 'personas', '66', '75', 'anos', 'cambio', 'ahora', 'mas', 'probabilidades', 'ser', 'pobres', 'poblacion', 'conjunto']"
        ],
        [
         "698",
         "En ellos se basan las publicaciones anuales con indicadores sobre la educación a nivel nacional y regional. Tanto el Gobierno central como las regiones preparan ediciones anuales del Informe sobre la Situación del Desarrollo del Sistema Educativo para evaluar los avances hacia sus respectivos objetivos políticos a largo plazo. Asimismo, las referencias internacionales sobre el rendimiento de los alumnos que proporcionan encuestas internacionales sobre estudiantes, como PISA y TIMSS, han influido a la hora de impulsar el desarrollo de políticas a nivel del sistema.",
         "4",
         "['bas', 'public', 'anual', 'indic', 'educ', 'nivel', 'nacional', 'regional', 'gobiern', 'central', 'region', 'prep', 'edicion', 'anual', 'inform', 'situacion', 'desarroll', 'sistem', 'educ', 'evalu', 'avanc', 'haci', 'respect', 'objet', 'polit', 'larg', 'plaz', 'asim', 'referent', 'internacional', 'rendimient', 'alumn', 'proporcion', 'encuest', 'internacional', 'estudi', 'pis', 'timss', 'influ', 'hor', 'impuls', 'desarroll', 'polit', 'nivel', 'sistem', 'basar', 'publicación', 'anual', 'indicador', 'educacion', 'nivel', 'nacional', 'regional', 'gobierno', 'central', 'regiones', 'preparar', 'edición', 'anual', 'informir', 'situacion', 'desarrollo', 'sistema', 'educativo', 'evaluar', 'avance', 'hacia', 'respectivo', 'objetivo', 'politico', 'largo', 'plazo', 'asimismo', 'referencia', 'internacional', 'rendimientir', 'alumno', 'proporcionar', 'encuesta', 'internacional', 'estudiant', 'pisar', 'timss', 'influido', 'hora', 'impulsar', 'desarrollo', 'politica', 'nivel', 'sistema']",
         "['basan', 'publicaciones', 'anuales', 'indicadores', 'educacion', 'nivel', 'nacional', 'regional', 'gobierno', 'central', 'regiones', 'preparan', 'ediciones', 'anuales', 'informe', 'situacion', 'desarrollo', 'sistema', 'educativo', 'evaluar', 'avances', 'hacia', 'respectivos', 'objetivos', 'politicos', 'largo', 'plazo', 'asimismo', 'referencias', 'internacionales', 'rendimiento', 'alumnos', 'proporcionan', 'encuestas', 'internacionales', 'estudiantes', 'pisa', 'timss', 'influido', 'hora', 'impulsar', 'desarrollo', 'politicas', 'nivel', 'sistema']"
        ],
        [
         "2333",
         "Este patrón se verifica en todos los países, aunque el gradiente no es significativo en un pequeño número de países, y con la excepción de Corea, que muestra una relación poco clara entre educación y consumo de alcohol. Casi todos los países muestran un índice negativo que indica que las personas con menos educación y con menores ingresos tienen menos probabilidades de consumir alcohol en los últimos 12 meses. La magnitud de estas desigualdades varía entre países.",
         "3",
         "['patron', 'verif', 'pais', 'aunqu', 'gradient', 'signific', 'pequen', 'numer', 'pais', 'excepcion', 'core', 'muestr', 'relacion', 'clar', 'educ', 'consum', 'alcohol', 'casi', 'pais', 'muestr', 'indic', 'negat', 'indic', 'person', 'men', 'educ', 'menor', 'ingres', 'men', 'probabil', 'consum', 'alcohol', 'ultim', '12', 'mes', 'magnitud', 'desigualdad', 'vari', 'pais', 'patron', 'verifica', 'país', 'aunque', 'gradiente', 'significativo', 'pequeno', 'numero', 'país', 'excepcion', 'corea', 'mostrar', 'relacion', 'claro', 'educacion', 'consumo', 'alcohol', 'casi', 'país', 'mostrar', 'indecir', 'negativo', 'indicar', 'persona', 'menos', 'educacion', 'menor', 'ingreso', 'menos', 'probabilidad', 'consumir', 'alcohol', 'ultimos', '12', 'mes', 'magnitud', 'desigualdad', 'vario', 'país']",
         "['patron', 'verifica', 'paises', 'aunque', 'gradiente', 'significativo', 'pequeno', 'numero', 'paises', 'excepcion', 'corea', 'muestra', 'relacion', 'clara', 'educacion', 'consumo', 'alcohol', 'casi', 'paises', 'muestran', 'indice', 'negativo', 'indica', 'personas', 'menos', 'educacion', 'menores', 'ingresos', 'menos', 'probabilidades', 'consumir', 'alcohol', 'ultimos', '12', 'meses', 'magnitud', 'desigualdades', 'varia', 'paises']"
        ],
        [
         "1155",
         "Será importante avanzar en el aumento de los logros de aprendizaje, en particular en materias STEM (ciencia, tecnología, ingeniería y matemáticas) que están asociadas con salarios más altos, combinado con políticas para abordar las distintas barreras que enfrentan las mujeres para el empleo, incluido el cuidado infantil asequible. más igualdad de oportunidades para mujeres y niñas en Costa Rica. De manera similar, se han realizado importantes esfuerzos para atender a los estudiantes con necesidades especiales en las escuelas regulares, incluido el desarrollo de un programa vocacional adaptado para facilitar la transición al mercado laboral. Se ha prestado menos atención política a la mejora de las oportunidades de los niños y jóvenes de las comunidades de inmigrantes, muchos de los cuales enfrentan barreras significativas para acceder a la educación y otros servicios públicos.",
         "4",
         "['ser', 'import', 'avanz', 'aument', 'logr', 'aprendizaj', 'particul', 'materi', 'stem', 'cienci', 'tecnologi', 'ingenieri', 'matemat', 'estan', 'asoci', 'salari', 'mas', 'altos', 'combin', 'polit', 'abord', 'distint', 'barrer', 'enfrent', 'mujer', 'emple', 'inclu', 'cuid', 'infantil', 'asequ', 'mas', 'iguald', 'oportun', 'mujer', 'nin', 'cost', 'ric', 'maner', 'simil', 'realiz', 'import', 'esfuerz', 'atend', 'estudi', 'neces', 'especial', 'escuel', 'regular', 'inclu', 'desarroll', 'program', 'vocacional', 'adapt', 'facilit', 'transicion', 'merc', 'laboral', 'prest', 'men', 'atencion', 'polit', 'mejor', 'oportun', 'nin', 'joven', 'comun', 'inmigr', 'cual', 'enfrent', 'barrer', 'signific', 'acced', 'educ', 'servici', 'public', 'sera', 'importante', 'avanzar', 'aumento', 'logros', 'aprendizaje', 'particular', 'materia', 'stem', 'ciencia', 'tecnologia', 'ingenierio', 'matematica', 'estar', 'asociado', 'salario', 'mas', 'alto', 'combinado', 'politica', 'abordar', 'distinto', 'barrera', 'enfrentar', 'mujer', 'empleo', 'incluido', 'cuidado', 'infantil', 'asequible', 'mas', 'igualdad', 'oportunidad', 'mujer', 'nina', 'costa', 'rico', 'manera', 'similar', 'realizado', 'importante', 'esfuerzo', 'atender', 'estudiante', 'necesidad', 'especial', 'escuela', 'regular', 'incluido', 'desarrollo', 'programa', 'vocacional', 'adaptado', 'facilitar', 'transicion', 'mercado', 'laboral', 'prestado', 'menos', 'atencion', 'politico', 'mejora', 'oportunidad', 'nino', 'joven', 'comunidad', 'inmigrante', 'cual', 'enfrentar', 'barrera', 'significativo', 'acceder', 'educacion', 'servicio', 'publico']",
         "['sera', 'importante', 'avanzar', 'aumento', 'logros', 'aprendizaje', 'particular', 'materias', 'stem', 'ciencia', 'tecnologia', 'ingenieria', 'matematicas', 'estan', 'asociadas', 'salarios', 'mas', 'altos', 'combinado', 'politicas', 'abordar', 'distintas', 'barreras', 'enfrentan', 'mujeres', 'empleo', 'incluido', 'cuidado', 'infantil', 'asequible', 'mas', 'igualdad', 'oportunidades', 'mujeres', 'ninas', 'costa', 'rica', 'manera', 'similar', 'realizado', 'importantes', 'esfuerzos', 'atender', 'estudiantes', 'necesidades', 'especiales', 'escuelas', 'regulares', 'incluido', 'desarrollo', 'programa', 'vocacional', 'adaptado', 'facilitar', 'transicion', 'mercado', 'laboral', 'prestado', 'menos', 'atencion', 'politica', 'mejora', 'oportunidades', 'ninos', 'jovenes', 'comunidades', 'inmigrantes', 'cuales', 'enfrentan', 'barreras', 'significativas', 'acceder', 'educacion', 'servicios', 'publicos']"
        ]
       ],
       "shape": {
        "columns": 4,
        "rows": 20
       }
      },
      "text/html": [
       "<div>\n",
       "<style scoped>\n",
       "    .dataframe tbody tr th:only-of-type {\n",
       "        vertical-align: middle;\n",
       "    }\n",
       "\n",
       "    .dataframe tbody tr th {\n",
       "        vertical-align: top;\n",
       "    }\n",
       "\n",
       "    .dataframe thead th {\n",
       "        text-align: right;\n",
       "    }\n",
       "</style>\n",
       "<table border=\"1\" class=\"dataframe\">\n",
       "  <thead>\n",
       "    <tr style=\"text-align: right;\">\n",
       "      <th></th>\n",
       "      <th>textos</th>\n",
       "      <th>labels</th>\n",
       "      <th>palabras</th>\n",
       "      <th>palabrasProces</th>\n",
       "    </tr>\n",
       "  </thead>\n",
       "  <tbody>\n",
       "    <tr>\n",
       "      <th>137</th>\n",
       "      <td>También detalla un conjunto integral de políti...</td>\n",
       "      <td>4</td>\n",
       "      <td>[tambi, detall, conjunt, integral, polit, prac...</td>\n",
       "      <td>[tambien, detalla, conjunto, integral, politic...</td>\n",
       "    </tr>\n",
       "    <tr>\n",
       "      <th>1566</th>\n",
       "      <td>Además, dado que los presupuestos quinquenales...</td>\n",
       "      <td>4</td>\n",
       "      <td>[adem, dad, presupuest, quinquenal, implic, pl...</td>\n",
       "      <td>[ademas, dado, presupuestos, quinquenales, imp...</td>\n",
       "    </tr>\n",
       "    <tr>\n",
       "      <th>1099</th>\n",
       "      <td>Alternativamente, los prioritarios racionaliza...</td>\n",
       "      <td>1</td>\n",
       "      <td>[altern, prioritari, racionaliz, graduacion, o...</td>\n",
       "      <td>[alternativamente, prioritarios, racionalizan,...</td>\n",
       "    </tr>\n",
       "    <tr>\n",
       "      <th>654</th>\n",
       "      <td>Sin embargo, la proporción del pago de bolsill...</td>\n",
       "      <td>3</td>\n",
       "      <td>[embarg, proporcion, pag, bolsill, product, fa...</td>\n",
       "      <td>[embargo, proporcion, pago, bolsillo, producto...</td>\n",
       "    </tr>\n",
       "    <tr>\n",
       "      <th>2376</th>\n",
       "      <td>Parte de los 400 millones de libras esterlinas...</td>\n",
       "      <td>3</td>\n",
       "      <td>[part, 400, millon, libr, esterlin, compromet,...</td>\n",
       "      <td>[parte, 400, millones, libras, esterlinas, com...</td>\n",
       "    </tr>\n",
       "    <tr>\n",
       "      <th>712</th>\n",
       "      <td>Los únicos profesores a los que se da la opció...</td>\n",
       "      <td>4</td>\n",
       "      <td>[unic, profesor, da, opcion, incorpor, nuev, s...</td>\n",
       "      <td>[unicos, profesores, da, opcion, incorporarse,...</td>\n",
       "    </tr>\n",
       "    <tr>\n",
       "      <th>426</th>\n",
       "      <td>Además, los estudiantes en escuelas de clases ...</td>\n",
       "      <td>4</td>\n",
       "      <td>[adem, estudi, escuel, clas, pequen, tiend, su...</td>\n",
       "      <td>[ademas, estudiantes, escuelas, clases, pequen...</td>\n",
       "    </tr>\n",
       "    <tr>\n",
       "      <th>799</th>\n",
       "      <td>Una gran parte de la ganancia en la esperanza ...</td>\n",
       "      <td>3</td>\n",
       "      <td>[gran, part, gananci, esper, vid, sid, despu, ...</td>\n",
       "      <td>[gran, parte, ganancia, esperanza, vida, sido,...</td>\n",
       "    </tr>\n",
       "    <tr>\n",
       "      <th>1193</th>\n",
       "      <td>¿Qué ventajas tiene para los alumnos trabajar ...</td>\n",
       "      <td>4</td>\n",
       "      <td>[ventaj, alumn, trabaj, distint, estrategi, di...</td>\n",
       "      <td>[ventajas, alumnos, trabajar, distintas, estra...</td>\n",
       "    </tr>\n",
       "    <tr>\n",
       "      <th>770</th>\n",
       "      <td>Por lo tanto, las microfinanzas están teniendo...</td>\n",
       "      <td>1</td>\n",
       "      <td>[microfin, estan, impact, moderniz, inclus, si...</td>\n",
       "      <td>[microfinanzas, estan, impacto, modernizador, ...</td>\n",
       "    </tr>\n",
       "    <tr>\n",
       "      <th>1806</th>\n",
       "      <td>Además, el 98,3 % de los profesores flamencos ...</td>\n",
       "      <td>4</td>\n",
       "      <td>[adem, 983, profesor, flamenc, secundari, infe...</td>\n",
       "      <td>[ademas, 983, profesores, flamencos, secundari...</td>\n",
       "    </tr>\n",
       "    <tr>\n",
       "      <th>1060</th>\n",
       "      <td>Si la educación consistiera en impartir conoci...</td>\n",
       "      <td>4</td>\n",
       "      <td>[si, educ, consist, impart, conoc, conten, des...</td>\n",
       "      <td>[si, educacion, consistiera, impartir, conocim...</td>\n",
       "    </tr>\n",
       "    <tr>\n",
       "      <th>299</th>\n",
       "      <td>El número de oncólogos también ha aumentado en...</td>\n",
       "      <td>3</td>\n",
       "      <td>[numer, oncolog, tambi, aument, franci, core, ...</td>\n",
       "      <td>[numero, oncologos, tambien, aumentado, franci...</td>\n",
       "    </tr>\n",
       "    <tr>\n",
       "      <th>1094</th>\n",
       "      <td>Un valor de cero indica que no hay diferencia ...</td>\n",
       "      <td>4</td>\n",
       "      <td>[valor, cer, indic, diferent, escuel, socioeco...</td>\n",
       "      <td>[valor, cero, indica, diferencia, escuelas, so...</td>\n",
       "    </tr>\n",
       "    <tr>\n",
       "      <th>1336</th>\n",
       "      <td>La proporción de jóvenes de 15 a 29 años que n...</td>\n",
       "      <td>4</td>\n",
       "      <td>[proporcion, joven, 15, 29, anos, estudi, trab...</td>\n",
       "      <td>[proporcion, jovenes, 15, 29, anos, estudian, ...</td>\n",
       "    </tr>\n",
       "    <tr>\n",
       "      <th>2366</th>\n",
       "      <td>Como se señaló anteriormente, los procesos apr...</td>\n",
       "      <td>4</td>\n",
       "      <td>[senal, anterior, proces, apropi, implement, f...</td>\n",
       "      <td>[senalo, anteriormente, procesos, apropiados, ...</td>\n",
       "    </tr>\n",
       "    <tr>\n",
       "      <th>1832</th>\n",
       "      <td>Específicamente, el costo de un beneficio de $...</td>\n",
       "      <td>1</td>\n",
       "      <td>[especif, cost, benefici, 250, dia, tod, perso...</td>\n",
       "      <td>[especificamente, costo, beneficio, 250, dia, ...</td>\n",
       "    </tr>\n",
       "    <tr>\n",
       "      <th>698</th>\n",
       "      <td>En ellos se basan las publicaciones anuales co...</td>\n",
       "      <td>4</td>\n",
       "      <td>[bas, public, anual, indic, educ, nivel, nacio...</td>\n",
       "      <td>[basan, publicaciones, anuales, indicadores, e...</td>\n",
       "    </tr>\n",
       "    <tr>\n",
       "      <th>2333</th>\n",
       "      <td>Este patrón se verifica en todos los países, a...</td>\n",
       "      <td>3</td>\n",
       "      <td>[patron, verif, pais, aunqu, gradient, signifi...</td>\n",
       "      <td>[patron, verifica, paises, aunque, gradiente, ...</td>\n",
       "    </tr>\n",
       "    <tr>\n",
       "      <th>1155</th>\n",
       "      <td>Será importante avanzar en el aumento de los l...</td>\n",
       "      <td>4</td>\n",
       "      <td>[ser, import, avanz, aument, logr, aprendizaj,...</td>\n",
       "      <td>[sera, importante, avanzar, aumento, logros, a...</td>\n",
       "    </tr>\n",
       "  </tbody>\n",
       "</table>\n",
       "</div>"
      ],
      "text/plain": [
       "                                                 textos  labels  \\\n",
       "137   También detalla un conjunto integral de políti...       4   \n",
       "1566  Además, dado que los presupuestos quinquenales...       4   \n",
       "1099  Alternativamente, los prioritarios racionaliza...       1   \n",
       "654   Sin embargo, la proporción del pago de bolsill...       3   \n",
       "2376  Parte de los 400 millones de libras esterlinas...       3   \n",
       "712   Los únicos profesores a los que se da la opció...       4   \n",
       "426   Además, los estudiantes en escuelas de clases ...       4   \n",
       "799   Una gran parte de la ganancia en la esperanza ...       3   \n",
       "1193  ¿Qué ventajas tiene para los alumnos trabajar ...       4   \n",
       "770   Por lo tanto, las microfinanzas están teniendo...       1   \n",
       "1806  Además, el 98,3 % de los profesores flamencos ...       4   \n",
       "1060  Si la educación consistiera en impartir conoci...       4   \n",
       "299   El número de oncólogos también ha aumentado en...       3   \n",
       "1094  Un valor de cero indica que no hay diferencia ...       4   \n",
       "1336  La proporción de jóvenes de 15 a 29 años que n...       4   \n",
       "2366  Como se señaló anteriormente, los procesos apr...       4   \n",
       "1832  Específicamente, el costo de un beneficio de $...       1   \n",
       "698   En ellos se basan las publicaciones anuales co...       4   \n",
       "2333  Este patrón se verifica en todos los países, a...       3   \n",
       "1155  Será importante avanzar en el aumento de los l...       4   \n",
       "\n",
       "                                               palabras  \\\n",
       "137   [tambi, detall, conjunt, integral, polit, prac...   \n",
       "1566  [adem, dad, presupuest, quinquenal, implic, pl...   \n",
       "1099  [altern, prioritari, racionaliz, graduacion, o...   \n",
       "654   [embarg, proporcion, pag, bolsill, product, fa...   \n",
       "2376  [part, 400, millon, libr, esterlin, compromet,...   \n",
       "712   [unic, profesor, da, opcion, incorpor, nuev, s...   \n",
       "426   [adem, estudi, escuel, clas, pequen, tiend, su...   \n",
       "799   [gran, part, gananci, esper, vid, sid, despu, ...   \n",
       "1193  [ventaj, alumn, trabaj, distint, estrategi, di...   \n",
       "770   [microfin, estan, impact, moderniz, inclus, si...   \n",
       "1806  [adem, 983, profesor, flamenc, secundari, infe...   \n",
       "1060  [si, educ, consist, impart, conoc, conten, des...   \n",
       "299   [numer, oncolog, tambi, aument, franci, core, ...   \n",
       "1094  [valor, cer, indic, diferent, escuel, socioeco...   \n",
       "1336  [proporcion, joven, 15, 29, anos, estudi, trab...   \n",
       "2366  [senal, anterior, proces, apropi, implement, f...   \n",
       "1832  [especif, cost, benefici, 250, dia, tod, perso...   \n",
       "698   [bas, public, anual, indic, educ, nivel, nacio...   \n",
       "2333  [patron, verif, pais, aunqu, gradient, signifi...   \n",
       "1155  [ser, import, avanz, aument, logr, aprendizaj,...   \n",
       "\n",
       "                                         palabrasProces  \n",
       "137   [tambien, detalla, conjunto, integral, politic...  \n",
       "1566  [ademas, dado, presupuestos, quinquenales, imp...  \n",
       "1099  [alternativamente, prioritarios, racionalizan,...  \n",
       "654   [embargo, proporcion, pago, bolsillo, producto...  \n",
       "2376  [parte, 400, millones, libras, esterlinas, com...  \n",
       "712   [unicos, profesores, da, opcion, incorporarse,...  \n",
       "426   [ademas, estudiantes, escuelas, clases, pequen...  \n",
       "799   [gran, parte, ganancia, esperanza, vida, sido,...  \n",
       "1193  [ventajas, alumnos, trabajar, distintas, estra...  \n",
       "770   [microfinanzas, estan, impacto, modernizador, ...  \n",
       "1806  [ademas, 983, profesores, flamencos, secundari...  \n",
       "1060  [si, educacion, consistiera, impartir, conocim...  \n",
       "299   [numero, oncologos, tambien, aumentado, franci...  \n",
       "1094  [valor, cero, indica, diferencia, escuelas, so...  \n",
       "1336  [proporcion, jovenes, 15, 29, anos, estudian, ...  \n",
       "2366  [senalo, anteriormente, procesos, apropiados, ...  \n",
       "1832  [especificamente, costo, beneficio, 250, dia, ...  \n",
       "698   [basan, publicaciones, anuales, indicadores, e...  \n",
       "2333  [patron, verifica, paises, aunque, gradiente, ...  \n",
       "1155  [sera, importante, avanzar, aumento, logros, a...  "
      ]
     },
     "execution_count": 98,
     "metadata": {},
     "output_type": "execute_result"
    }
   ],
   "source": [
    "df_textC.sample(20)"
   ]
  },
  {
   "cell_type": "markdown",
   "id": "543e8ae9",
   "metadata": {},
   "source": [
    "### 3.3 Entrenamiento y split de los datos para testing"
   ]
  },
  {
   "cell_type": "code",
   "execution_count": 15,
   "id": "246b1510",
   "metadata": {},
   "outputs": [],
   "source": [
    "X = df_textC[\"palabras\"]                 # list of tokens per row\n",
    "y = df_textC[\"labels\"].astype(int)     # already numeric; ensure int dtype\n",
    "\n",
    "X_train, X_test, y_train, y_test = train_test_split(\n",
    "    X, y, test_size=0.2, random_state=42, stratify=y\n",
    ")"
   ]
  },
  {
   "cell_type": "markdown",
   "id": "e9118ea6",
   "metadata": {},
   "source": [
    "### 3.4 Vectorizar texto ya tokenizado"
   ]
  },
  {
   "cell_type": "markdown",
   "id": "114e10eb",
   "metadata": {},
   "source": [
    " TF-IDF : Term Frequency-Inverse Document Frequency"
   ]
  },
  {
   "cell_type": "code",
   "execution_count": null,
   "id": "c021e04f",
   "metadata": {},
   "outputs": [],
   "source": [
    "identity = lambda x: x\n",
    "vec_tfidf = TfidfVectorizer(\n",
    "    tokenizer=identity, preprocessor=identity, token_pattern=None,\n",
    "    # sublinear_tf=True, min_df=2, ngram_range=(1,2)\n",
    ")\n",
    "\n",
    "X_train_tfidf = vec_tfidf.fit_transform(X_train)\n",
    "X_test_tfidf  = vec_tfidf.transform(X_test)\n",
    "\n"
   ]
  },
  {
   "cell_type": "markdown",
   "id": "d5cccf7d",
   "metadata": {},
   "source": [
    "### 4.1 Entrenar primer modelo de clasificacion"
   ]
  },
  {
   "cell_type": "markdown",
   "id": "508b07f0",
   "metadata": {},
   "source": [
    "#### 4.1.1 Regresion Logistica (Juan Nicolas)"
   ]
  },
  {
   "cell_type": "code",
   "execution_count": null,
   "id": "14f35984",
   "metadata": {},
   "outputs": [
    {
     "name": "stdout",
     "output_type": "stream",
     "text": [
      "TRAIN:\n",
      "              precision    recall  f1-score   support\n",
      "\n",
      "           1      1.000     0.990     0.995       404\n",
      "           3      0.997     0.996     0.997       715\n",
      "           4      0.993     0.999     0.996       820\n",
      "\n",
      "    accuracy                          0.996      1939\n",
      "   macro avg      0.997     0.995     0.996      1939\n",
      "weighted avg      0.996     0.996     0.996      1939\n",
      "\n",
      "TEST:\n",
      "              precision    recall  f1-score   support\n",
      "\n",
      "           1      0.969     0.921     0.944       101\n",
      "           3      0.961     0.966     0.964       179\n",
      "           4      0.962     0.980     0.971       205\n",
      "\n",
      "    accuracy                          0.963       485\n",
      "   macro avg      0.964     0.956     0.960       485\n",
      "weighted avg      0.963     0.963     0.963       485\n",
      "\n"
     ]
    }
   ],
   "source": [
    "\n",
    "\n",
    "clf = LogisticRegression(max_iter=200, n_jobs=None)  \n",
    "clf.fit(X_train_tfidf, y_train)\n",
    "\n",
    "\n",
    "# Evaluación en TRAIN\n",
    "y_train_pred = clf.predict(X_train_tfidf)\n",
    "print(\"TRAIN:\")\n",
    "print(classification_report(y_train, y_train_pred, digits=3))\n",
    "\n",
    "# Evaluación en TEST\n",
    "y_test_pred = clf.predict(X_test_tfidf) \n",
    "print(\"TEST:\")\n",
    "print(classification_report(y_test, y_test_pred, digits=3))\n"
   ]
  },
  {
   "cell_type": "markdown",
   "id": "82d4f409",
   "metadata": {},
   "source": [
    "1. Como podemos ver el modelo parece estar bien ya que el acuracy tanto en el training como en el test dan muy similares , por lo que no hay inconsistencias .\n",
    "2. Tambien se puede observar que entre el modelo entre clases esta tieniendo un accuracy muy similar. \n",
    "3. El modelo esta dando un accuracy alto para revisar que no sea por la eleccion de los datos de training y de test se probara con cross validation.\n",
    "4. Se creara un modelo con los datos mas balanceados para evitar que el modelo se aprenda los datos."
   ]
  },
  {
   "cell_type": "code",
   "execution_count": null,
   "id": "d7b9620e",
   "metadata": {},
   "outputs": [
    {
     "data": {
      "image/png": "[encoded data removed]",
      "text/plain": [
       "<Figure size 640x480 with 2 Axes>"
      ]
     },
     "metadata": {},
     "output_type": "display_data"
    }
   ],
   "source": [
    "confusion_matrix = confusion_matrix(y_test, y_test_pred)\n",
    "disp=ConfusionMatrixDisplay(confusion_matrix=confusion_matrix)\n",
    "disp.plot(cmap=plt.cm.Blues)\n",
    "plt.show()"
   ]
  },
  {
   "cell_type": "markdown",
   "id": "48075f20",
   "metadata": {},
   "source": [
    "### 4.2 Mismo modelo (Regresion logistica)"
   ]
  },
  {
   "cell_type": "markdown",
   "id": "ed1c94fd",
   "metadata": {},
   "source": [
    "#### 4.22  Regresion logistica con cross validation\n"
   ]
  },
  {
   "cell_type": "code",
   "execution_count": null,
   "id": "04087a5f",
   "metadata": {},
   "outputs": [
    {
     "name": "stdout",
     "output_type": "stream",
     "text": [
      "Cross-validation scores: [0.96494845 0.97938144 0.95670103 0.97525773 0.9731405 ]\n",
      "Promedio del accuracy (CV): 0.970\n"
     ]
    }
   ],
   "source": [
    "# Define el pipeline\n",
    "pipeline = Pipeline([\n",
    "    ('tfidf', TfidfVectorizer(tokenizer=lambda x: x, preprocessor=lambda x: x, token_pattern=None)),  # Vectorización TF-IDF\n",
    "    ('clf', LogisticRegression(max_iter=200))  # Modelo de regresión logística\n",
    "])\n",
    "\n",
    "# Cross-validation (5 pliegues)\n",
    "cv_scores = cross_val_score(pipeline, X, y, cv=5, scoring='accuracy')  # Cambia 'accuracy' por otra métrica si quieres\n",
    "\n",
    "# Resultados\n",
    "print(f\"Cross-validation scores: {cv_scores}\")\n",
    "print(f\"Promedio del accuracy (CV): {cv_scores.mean():.3f}\")"
   ]
  },
  {
   "cell_type": "markdown",
   "id": "465d3bf2",
   "metadata": {},
   "source": [
    "Como podemos ver los resultados del primer modelo si tienen sentido. el promedio del accurracy no varia mucho.\n",
    "\n",
    "A pesar de que esta dando buenos resultados el modelo , decidimos balancear la clase minoritaria para evitar overfitting del modelo."
   ]
  },
  {
   "cell_type": "markdown",
   "id": "b0b71468",
   "metadata": {},
   "source": [
    "### 4.2 Mismo modelo (Regresion logistica)"
   ]
  },
  {
   "cell_type": "markdown",
   "id": "99b9d767",
   "metadata": {},
   "source": [
    "#### 4.2.1  Regresion logistica con SMOTE\n",
    "\n"
   ]
  },
  {
   "cell_type": "code",
   "execution_count": null,
   "id": "480bfafe",
   "metadata": {},
   "outputs": [],
   "source": [
    "X = df_textC[\"palabras\"]\n",
    "y = df_textC[\"labels\"].astype(int)\n",
    "\n",
    "# 1. Vectorización de los textos (TF-IDF)\n",
    "tfidf = TfidfVectorizer(tokenizer=lambda x: x, preprocessor=lambda x: x, token_pattern=None)\n",
    "X_tfidf = tfidf.fit_transform(X)\n",
    "\n",
    "# 2. División en train y test\n",
    "X_train, X_test, y_train, y_test = train_test_split(X_tfidf, y, test_size=0.2, random_state=42, stratify=y)\n"
   ]
  },
  {
   "cell_type": "code",
   "execution_count": null,
   "id": "42a53a76",
   "metadata": {},
   "outputs": [],
   "source": []
  },
  {
   "cell_type": "markdown",
   "id": "ff2f0cb4",
   "metadata": {},
   "source": [
    "#### 4.2.2  Aplicacion de SMOTE\n"
   ]
  },
  {
   "cell_type": "code",
   "execution_count": null,
   "id": "fa8b775b",
   "metadata": {},
   "outputs": [
    {
     "name": "stdout",
     "output_type": "stream",
     "text": [
      "Distribución de clases antes de SMOTE:\n",
      "labels\n",
      "4    820\n",
      "3    715\n",
      "1    404\n",
      "Name: count, dtype: int64\n",
      "Distribución de clases después de SMOTE:\n",
      "labels\n",
      "1    820\n",
      "4    820\n",
      "3    715\n",
      "Name: count, dtype: int64\n"
     ]
    }
   ],
   "source": [
    "# 3. Aplicar SMOTE para balancear las clases en el conjunto de entrenamiento\n",
    "smote = SMOTE(sampling_strategy='minority', random_state=42)\n",
    "X_train_res, y_train_res = smote.fit_resample(X_train, y_train)\n",
    "\n",
    "# Ver las clases antes y después de aplicar SMOTE\n",
    "print(f\"Distribución de clases antes de SMOTE:\\n{y_train.value_counts()}\")\n",
    "print(f\"Distribución de clases después de SMOTE:\\n{y_train_res.value_counts()}\")"
   ]
  },
  {
   "cell_type": "code",
   "execution_count": null,
   "id": "a73b3b58",
   "metadata": {},
   "outputs": [
    {
     "name": "stdout",
     "output_type": "stream",
     "text": [
      "=== Resultados del modelo ===\n",
      "              precision    recall  f1-score   support\n",
      "\n",
      "           1      0.960     0.941     0.950       101\n",
      "           3      0.966     0.966     0.966       179\n",
      "           4      0.966     0.976     0.971       205\n",
      "\n",
      "    accuracy                          0.965       485\n",
      "   macro avg      0.964     0.961     0.962       485\n",
      "weighted avg      0.965     0.965     0.965       485\n",
      "\n"
     ]
    }
   ],
   "source": [
    "# 4. Entrenar el modelo con Logistic Regression\n",
    "clf = LogisticRegression(max_iter=200)\n",
    "clf.fit(X_train_res, y_train_res)\n",
    "\n",
    "# 5. Evaluación del modelo sobre el conjunto de prueba (test)\n",
    "y_pred = clf.predict(X_test)\n",
    "\n",
    "# Resultados de clasificación\n",
    "print(\"=== Resultados del modelo ===\")\n",
    "print(classification_report(y_test, y_pred, digits=3))"
   ]
  },
  {
   "cell_type": "markdown",
   "id": "8a7fc34a",
   "metadata": {},
   "source": [
    "Segundo Modelo \n"
   ]
  },
  {
   "cell_type": "code",
   "execution_count": null,
   "id": "4d00bebf",
   "metadata": {},
   "outputs": [
    {
     "name": "stdout",
     "output_type": "stream",
     "text": [
      "=== Resultados con LinearSVC ===\n",
      "              precision    recall  f1-score   support\n",
      "\n",
      "           1       0.96      0.94      0.95       101\n",
      "           3       0.96      0.98      0.97       179\n",
      "           4       0.99      0.98      0.98       205\n",
      "\n",
      "    accuracy                           0.97       485\n",
      "   macro avg       0.97      0.96      0.97       485\n",
      "weighted avg       0.97      0.97      0.97       485\n",
      "\n",
      "=== Resultados en TRAIN ===\n"
     ]
    },
    {
     "data": {
      "text/html": [
       "<div>\n",
       "<style scoped>\n",
       "    .dataframe tbody tr th:only-of-type {\n",
       "        vertical-align: middle;\n",
       "    }\n",
       "\n",
       "    .dataframe tbody tr th {\n",
       "        vertical-align: top;\n",
       "    }\n",
       "\n",
       "    .dataframe thead th {\n",
       "        text-align: right;\n",
       "    }\n",
       "</style>\n",
       "<table border=\"1\" class=\"dataframe\">\n",
       "  <thead>\n",
       "    <tr style=\"text-align: right;\">\n",
       "      <th></th>\n",
       "      <th>precision</th>\n",
       "      <th>recall</th>\n",
       "      <th>f1-score</th>\n",
       "      <th>support</th>\n",
       "    </tr>\n",
       "  </thead>\n",
       "  <tbody>\n",
       "    <tr>\n",
       "      <th>1</th>\n",
       "      <td>1.0</td>\n",
       "      <td>1.0</td>\n",
       "      <td>1.0</td>\n",
       "      <td>404.0</td>\n",
       "    </tr>\n",
       "    <tr>\n",
       "      <th>3</th>\n",
       "      <td>1.0</td>\n",
       "      <td>1.0</td>\n",
       "      <td>1.0</td>\n",
       "      <td>715.0</td>\n",
       "    </tr>\n",
       "    <tr>\n",
       "      <th>4</th>\n",
       "      <td>1.0</td>\n",
       "      <td>1.0</td>\n",
       "      <td>1.0</td>\n",
       "      <td>820.0</td>\n",
       "    </tr>\n",
       "    <tr>\n",
       "      <th>accuracy</th>\n",
       "      <td>1.0</td>\n",
       "      <td>1.0</td>\n",
       "      <td>1.0</td>\n",
       "      <td>1.0</td>\n",
       "    </tr>\n",
       "    <tr>\n",
       "      <th>macro avg</th>\n",
       "      <td>1.0</td>\n",
       "      <td>1.0</td>\n",
       "      <td>1.0</td>\n",
       "      <td>1939.0</td>\n",
       "    </tr>\n",
       "    <tr>\n",
       "      <th>weighted avg</th>\n",
       "      <td>1.0</td>\n",
       "      <td>1.0</td>\n",
       "      <td>1.0</td>\n",
       "      <td>1939.0</td>\n",
       "    </tr>\n",
       "  </tbody>\n",
       "</table>\n",
       "</div>"
      ],
      "text/plain": [
       "              precision  recall  f1-score  support\n",
       "1                   1.0     1.0       1.0    404.0\n",
       "3                   1.0     1.0       1.0    715.0\n",
       "4                   1.0     1.0       1.0    820.0\n",
       "accuracy            1.0     1.0       1.0      1.0\n",
       "macro avg           1.0     1.0       1.0   1939.0\n",
       "weighted avg        1.0     1.0       1.0   1939.0"
      ]
     },
     "metadata": {},
     "output_type": "display_data"
    },
    {
     "name": "stdout",
     "output_type": "stream",
     "text": [
      "\n",
      "=== Resultados en TEST ===\n"
     ]
    },
    {
     "data": {
      "text/html": [
       "<div>\n",
       "<style scoped>\n",
       "    .dataframe tbody tr th:only-of-type {\n",
       "        vertical-align: middle;\n",
       "    }\n",
       "\n",
       "    .dataframe tbody tr th {\n",
       "        vertical-align: top;\n",
       "    }\n",
       "\n",
       "    .dataframe thead th {\n",
       "        text-align: right;\n",
       "    }\n",
       "</style>\n",
       "<table border=\"1\" class=\"dataframe\">\n",
       "  <thead>\n",
       "    <tr style=\"text-align: right;\">\n",
       "      <th></th>\n",
       "      <th>precision</th>\n",
       "      <th>recall</th>\n",
       "      <th>f1-score</th>\n",
       "      <th>support</th>\n",
       "    </tr>\n",
       "  </thead>\n",
       "  <tbody>\n",
       "    <tr>\n",
       "      <th>1</th>\n",
       "      <td>0.959596</td>\n",
       "      <td>0.940594</td>\n",
       "      <td>0.950000</td>\n",
       "      <td>101.000000</td>\n",
       "    </tr>\n",
       "    <tr>\n",
       "      <th>3</th>\n",
       "      <td>0.956284</td>\n",
       "      <td>0.977654</td>\n",
       "      <td>0.966851</td>\n",
       "      <td>179.000000</td>\n",
       "    </tr>\n",
       "    <tr>\n",
       "      <th>4</th>\n",
       "      <td>0.985222</td>\n",
       "      <td>0.975610</td>\n",
       "      <td>0.980392</td>\n",
       "      <td>205.000000</td>\n",
       "    </tr>\n",
       "    <tr>\n",
       "      <th>accuracy</th>\n",
       "      <td>0.969072</td>\n",
       "      <td>0.969072</td>\n",
       "      <td>0.969072</td>\n",
       "      <td>0.969072</td>\n",
       "    </tr>\n",
       "    <tr>\n",
       "      <th>macro avg</th>\n",
       "      <td>0.967034</td>\n",
       "      <td>0.964619</td>\n",
       "      <td>0.965748</td>\n",
       "      <td>485.000000</td>\n",
       "    </tr>\n",
       "    <tr>\n",
       "      <th>weighted avg</th>\n",
       "      <td>0.969205</td>\n",
       "      <td>0.969072</td>\n",
       "      <td>0.969065</td>\n",
       "      <td>485.000000</td>\n",
       "    </tr>\n",
       "  </tbody>\n",
       "</table>\n",
       "</div>"
      ],
      "text/plain": [
       "              precision    recall  f1-score     support\n",
       "1              0.959596  0.940594  0.950000  101.000000\n",
       "3              0.956284  0.977654  0.966851  179.000000\n",
       "4              0.985222  0.975610  0.980392  205.000000\n",
       "accuracy       0.969072  0.969072  0.969072    0.969072\n",
       "macro avg      0.967034  0.964619  0.965748  485.000000\n",
       "weighted avg   0.969205  0.969072  0.969065  485.000000"
      ]
     },
     "metadata": {},
     "output_type": "display_data"
    },
    {
     "data": {
      "image/png": "[encoded data removed]",
      "text/plain": [
       "<Figure size 640x480 with 2 Axes>"
      ]
     },
     "metadata": {},
     "output_type": "display_data"
    },
    {
     "data": {
      "image/png": "[encoded data removed]",
      "text/plain": [
       "<Figure size 640x480 with 2 Axes>"
      ]
     },
     "metadata": {},
     "output_type": "display_data"
    }
   ],
   "source": [
    "from sklearn.feature_extraction.text import TfidfVectorizer\n",
    "from sklearn.svm import LinearSVC\n",
    "from sklearn.pipeline import Pipeline\n",
    "from sklearn.metrics import classification_report\n",
    "import pandas as pd\n",
    "\n",
    "# Unimos tokens procesados de nuevo en string (TfidfVectorizer espera texto plano)\n",
    "X_train_text = [\" \".join(tokens) for tokens in X_train]\n",
    "X_test_text  = [\" \".join(tokens) for tokens in X_test]\n",
    "\n",
    "# Definir pipeline: TF-IDF + LinearSVC\n",
    "svm_pipeline = Pipeline([\n",
    "    (\"tfidf\", TfidfVectorizer()),\n",
    "    (\"clf\", LinearSVC(random_state=42))\n",
    "])\n",
    "\n",
    "# Entrenar\n",
    "svm_pipeline.fit(X_train_text, y_train)\n",
    "\n",
    "# Predicciones\n",
    "y_train_pred = svm_pipeline.predict(X_train_text)\n",
    "y_test_pred  = svm_pipeline.predict(X_test_text)\n",
    "\n",
    "# Reportes como DataFrame\n",
    "report_train = classification_report(y_train, y_train_pred, output_dict=True)\n",
    "report_test  = classification_report(y_test, y_test_pred, output_dict=True)\n",
    "\n",
    "df_report_train = pd.DataFrame(report_train).transpose()\n",
    "df_report_test  = pd.DataFrame(report_test).transpose()\n",
    "\n",
    "print(\"=== Resultados en TRAIN ===\")\n",
    "display(df_report_train)\n",
    "\n",
    "print(\"\\n=== Resultados en TEST ===\")\n",
    "display(df_report_test)\n"
   ]
  }
 ],
 "metadata": {
  "kernelspec": {
   "display_name": "Python 3",
   "language": "python",
   "name": "python3"
  },
  "language_info": {
   "codemirror_mode": {
    "name": "ipython",
    "version": 3
   },
   "file_extension": ".py",
   "mimetype": "text/x-python",
   "name": "python",
   "nbconvert_exporter": "python",
   "pygments_lexer": "ipython3",
   "version": "3.11.9"
  }
 },
 "nbformat": 4,
 "nbformat_minor": 5
}
