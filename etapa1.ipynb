{
 "cells": [
  {
   "cell_type": "markdown",
   "id": "b7c6c41b",
   "metadata": {},
   "source": [
    "# Proyecto 1 (Inteligencia de Negocios)\n",
    "\n",
    "## Roles\n",
    "\n",
    "- Rol --- Juan Nicolas Suarez\n",
    "- Rol --- David Santiago Carillo\n",
    "- Rol --- \n",
    "\n"
   ]
  },
  {
   "cell_type": "markdown",
   "id": "640ffc8e",
   "metadata": {},
   "source": [
    "## Objetivo principal del proyecto\n",
    "\n",
    "- Vincular de forma automática las opiniones de la ciudadanía con los Objetivos de Desarrollo\n",
    "Sostenible (ODS) 1, 3 y 4\n",
    "\n",
    "    **1.“Fin de la pobreza”** \n",
    "\n",
    "    **3.“Salud y bienestar”**\n",
    "\n",
    "    **4.“Educación de calidad”**"
   ]
  },
  {
   "cell_type": "markdown",
   "id": "d766e3d2",
   "metadata": {},
   "source": [
    "## Etapa 1 del Proyecto"
   ]
  },
  {
   "cell_type": "markdown",
   "id": "905d2faa",
   "metadata": {},
   "source": [
    "## Objetivo Etapa 1\n",
    "- Aplicar la metodología de analítica de textos para la construcción de soluciones de analítica alineadas con los objetivos de organizaciones en un contexto de aplicación.\n"
   ]
  },
  {
   "cell_type": "markdown",
   "id": "598c50f2",
   "metadata": {},
   "source": [
    "## Tareas"
   ]
  },
  {
   "cell_type": "markdown",
   "id": "6b578cc2",
   "metadata": {},
   "source": [
    "1. Canvas de aprendizaje automatico"
   ]
  },
  {
   "cell_type": "markdown",
   "id": "7ff9d40c",
   "metadata": {},
   "source": [
    "## Modelo de Machine Learning"
   ]
  },
  {
   "cell_type": "markdown",
   "id": "c2f0fc92",
   "metadata": {},
   "source": [
    "### 1. Instalacion e importacion de librerias"
   ]
  },
  {
   "cell_type": "code",
   "execution_count": 52,
   "id": "05ad46d0",
   "metadata": {},
   "outputs": [],
   "source": [
    "#!pip uninstall -y pandas-profiling\n"
   ]
  },
  {
   "cell_type": "code",
   "execution_count": 53,
   "id": "2144d021",
   "metadata": {},
   "outputs": [],
   "source": [
    "#!pip install -U \"visions[type_image_path]>=0.7.5,<0.8.2\"\n"
   ]
  },
  {
   "cell_type": "code",
   "execution_count": 54,
   "id": "1a555e7f",
   "metadata": {},
   "outputs": [],
   "source": [
    "#!pip install -U ydata-profiling"
   ]
  },
  {
   "cell_type": "code",
   "execution_count": 55,
   "id": "099bd80d",
   "metadata": {},
   "outputs": [],
   "source": [
    "#!pip install numba==0.56.4\n"
   ]
  },
  {
   "cell_type": "code",
   "execution_count": 56,
   "id": "772c9366",
   "metadata": {},
   "outputs": [
    {
     "name": "stdout",
     "output_type": "stream",
     "text": [
      "Requirement already satisfied: numpy==1.26.4 in c:\\users\\juani\\anaconda3\\lib\\site-packages (1.26.4)\n",
      "Note: you may need to restart the kernel to use updated packages.\n",
      "Requirement already satisfied: nltk in c:\\users\\juani\\anaconda3\\lib\\site-packages (3.9.1)Note: you may need to restart the kernel to use updated packages.\n",
      "\n",
      "Requirement already satisfied: spacy<3.8 in c:\\users\\juani\\anaconda3\\lib\\site-packages (3.7.5)\n",
      "Requirement already satisfied: click in c:\\users\\juani\\anaconda3\\lib\\site-packages (from nltk) (8.1.7)\n",
      "Requirement already satisfied: joblib in c:\\users\\juani\\anaconda3\\lib\\site-packages (from nltk) (1.1.1)\n",
      "Requirement already satisfied: regex>=2021.8.3 in c:\\users\\juani\\anaconda3\\lib\\site-packages (from nltk) (2024.9.11)\n",
      "Requirement already satisfied: tqdm in c:\\users\\juani\\anaconda3\\lib\\site-packages (from nltk) (4.66.5)\n",
      "Requirement already satisfied: spacy-legacy<3.1.0,>=3.0.11 in c:\\users\\juani\\anaconda3\\lib\\site-packages (from spacy<3.8) (3.0.12)\n",
      "Requirement already satisfied: spacy-loggers<2.0.0,>=1.0.0 in c:\\users\\juani\\anaconda3\\lib\\site-packages (from spacy<3.8) (1.0.5)\n",
      "Requirement already satisfied: murmurhash<1.1.0,>=0.28.0 in c:\\users\\juani\\anaconda3\\lib\\site-packages (from spacy<3.8) (1.0.13)\n",
      "Requirement already satisfied: cymem<2.1.0,>=2.0.2 in c:\\users\\juani\\anaconda3\\lib\\site-packages (from spacy<3.8) (2.0.11)\n",
      "Requirement already satisfied: preshed<3.1.0,>=3.0.2 in c:\\users\\juani\\anaconda3\\lib\\site-packages (from spacy<3.8) (3.0.10)\n",
      "Requirement already satisfied: thinc<8.3.0,>=8.2.2 in c:\\users\\juani\\anaconda3\\lib\\site-packages (from spacy<3.8) (8.2.5)\n",
      "Requirement already satisfied: wasabi<1.2.0,>=0.9.1 in c:\\users\\juani\\anaconda3\\lib\\site-packages (from spacy<3.8) (1.1.3)\n",
      "Requirement already satisfied: srsly<3.0.0,>=2.4.3 in c:\\users\\juani\\anaconda3\\lib\\site-packages (from spacy<3.8) (2.5.1)\n",
      "Requirement already satisfied: catalogue<2.1.0,>=2.0.6 in c:\\users\\juani\\anaconda3\\lib\\site-packages (from spacy<3.8) (2.0.10)\n",
      "Requirement already satisfied: weasel<0.5.0,>=0.1.0 in c:\\users\\juani\\anaconda3\\lib\\site-packages (from spacy<3.8) (0.4.1)\n",
      "Requirement already satisfied: typer<1.0.0,>=0.3.0 in c:\\users\\juani\\anaconda3\\lib\\site-packages (from spacy<3.8) (0.9.0)\n",
      "Requirement already satisfied: requests<3.0.0,>=2.13.0 in c:\\users\\juani\\anaconda3\\lib\\site-packages (from spacy<3.8) (2.32.3)\n",
      "Requirement already satisfied: pydantic!=1.8,!=1.8.1,<3.0.0,>=1.7.4 in c:\\users\\juani\\anaconda3\\lib\\site-packages (from spacy<3.8) (2.8.2)\n",
      "Requirement already satisfied: jinja2 in c:\\users\\juani\\anaconda3\\lib\\site-packages (from spacy<3.8) (3.1.4)\n",
      "Requirement already satisfied: setuptools in c:\\users\\juani\\anaconda3\\lib\\site-packages (from spacy<3.8) (75.1.0)\n",
      "Requirement already satisfied: packaging>=20.0 in c:\\users\\juani\\anaconda3\\lib\\site-packages (from spacy<3.8) (24.1)\n",
      "Requirement already satisfied: langcodes<4.0.0,>=3.2.0 in c:\\users\\juani\\anaconda3\\lib\\site-packages (from spacy<3.8) (3.5.0)\n",
      "Requirement already satisfied: numpy>=1.19.0 in c:\\users\\juani\\anaconda3\\lib\\site-packages (from spacy<3.8) (1.26.4)\n",
      "Requirement already satisfied: language-data>=1.2 in c:\\users\\juani\\anaconda3\\lib\\site-packages (from langcodes<4.0.0,>=3.2.0->spacy<3.8) (1.3.0)\n",
      "Requirement already satisfied: annotated-types>=0.4.0 in c:\\users\\juani\\anaconda3\\lib\\site-packages (from pydantic!=1.8,!=1.8.1,<3.0.0,>=1.7.4->spacy<3.8) (0.6.0)\n",
      "Requirement already satisfied: pydantic-core==2.20.1 in c:\\users\\juani\\anaconda3\\lib\\site-packages (from pydantic!=1.8,!=1.8.1,<3.0.0,>=1.7.4->spacy<3.8) (2.20.1)\n",
      "Requirement already satisfied: typing-extensions>=4.6.1 in c:\\users\\juani\\anaconda3\\lib\\site-packages (from pydantic!=1.8,!=1.8.1,<3.0.0,>=1.7.4->spacy<3.8) (4.15.0)\n",
      "Requirement already satisfied: charset-normalizer<4,>=2 in c:\\users\\juani\\anaconda3\\lib\\site-packages (from requests<3.0.0,>=2.13.0->spacy<3.8) (3.3.2)\n",
      "Requirement already satisfied: idna<4,>=2.5 in c:\\users\\juani\\anaconda3\\lib\\site-packages (from requests<3.0.0,>=2.13.0->spacy<3.8) (3.7)\n",
      "Requirement already satisfied: urllib3<3,>=1.21.1 in c:\\users\\juani\\anaconda3\\lib\\site-packages (from requests<3.0.0,>=2.13.0->spacy<3.8) (2.2.3)\n",
      "Requirement already satisfied: certifi>=2017.4.17 in c:\\users\\juani\\anaconda3\\lib\\site-packages (from requests<3.0.0,>=2.13.0->spacy<3.8) (2024.12.14)\n",
      "Requirement already satisfied: blis<0.8.0,>=0.7.8 in c:\\users\\juani\\anaconda3\\lib\\site-packages (from thinc<8.3.0,>=8.2.2->spacy<3.8) (0.7.11)\n",
      "Requirement already satisfied: confection<1.0.0,>=0.0.1 in c:\\users\\juani\\anaconda3\\lib\\site-packages (from thinc<8.3.0,>=8.2.2->spacy<3.8) (0.1.5)\n",
      "Requirement already satisfied: colorama in c:\\users\\juani\\anaconda3\\lib\\site-packages (from tqdm->nltk) (0.4.6)\n",
      "Requirement already satisfied: cloudpathlib<1.0.0,>=0.7.0 in c:\\users\\juani\\anaconda3\\lib\\site-packages (from weasel<0.5.0,>=0.1.0->spacy<3.8) (0.22.0)\n",
      "Requirement already satisfied: smart-open<8.0.0,>=5.2.1 in c:\\users\\juani\\anaconda3\\lib\\site-packages (from weasel<0.5.0,>=0.1.0->spacy<3.8) (5.2.1)\n",
      "Requirement already satisfied: MarkupSafe>=2.0 in c:\\users\\juani\\anaconda3\\lib\\site-packages (from jinja2->spacy<3.8) (2.1.3)\n",
      "Requirement already satisfied: marisa-trie>=1.1.0 in c:\\users\\juani\\anaconda3\\lib\\site-packages (from language-data>=1.2->langcodes<4.0.0,>=3.2.0->spacy<3.8) (1.3.1)\n"
     ]
    }
   ],
   "source": [
    "%pip install \"numpy==1.26.4\"\n",
    "\n",
    "%pip install nltk \"spacy<3.8\"\n",
    "\n",
    "\n"
   ]
  },
  {
   "cell_type": "code",
   "execution_count": 57,
   "id": "9658b3b5",
   "metadata": {},
   "outputs": [
    {
     "name": "stdout",
     "output_type": "stream",
     "text": [
      "Collecting es-core-news-sm==3.7.0\n",
      "  Downloading https://github.com/explosion/spacy-models/releases/download/es_core_news_sm-3.7.0/es_core_news_sm-3.7.0-py3-none-any.whl (12.9 MB)\n",
      "     ---------------------------------------- 0.0/12.9 MB ? eta -:--:--\n",
      "     ------------- -------------------------- 4.2/12.9 MB 22.9 MB/s eta 0:00:01\n",
      "     ---------------------------- ----------- 9.2/12.9 MB 22.8 MB/s eta 0:00:01\n",
      "     --------------------------------------- 12.9/12.9 MB 22.4 MB/s eta 0:00:00\n",
      "Requirement already satisfied: spacy<3.8.0,>=3.7.0 in c:\\users\\juani\\anaconda3\\lib\\site-packages (from es-core-news-sm==3.7.0) (3.7.5)\n",
      "Requirement already satisfied: spacy-legacy<3.1.0,>=3.0.11 in c:\\users\\juani\\anaconda3\\lib\\site-packages (from spacy<3.8.0,>=3.7.0->es-core-news-sm==3.7.0) (3.0.12)\n",
      "Requirement already satisfied: spacy-loggers<2.0.0,>=1.0.0 in c:\\users\\juani\\anaconda3\\lib\\site-packages (from spacy<3.8.0,>=3.7.0->es-core-news-sm==3.7.0) (1.0.5)\n",
      "Requirement already satisfied: murmurhash<1.1.0,>=0.28.0 in c:\\users\\juani\\anaconda3\\lib\\site-packages (from spacy<3.8.0,>=3.7.0->es-core-news-sm==3.7.0) (1.0.13)\n",
      "Requirement already satisfied: cymem<2.1.0,>=2.0.2 in c:\\users\\juani\\anaconda3\\lib\\site-packages (from spacy<3.8.0,>=3.7.0->es-core-news-sm==3.7.0) (2.0.11)\n",
      "Requirement already satisfied: preshed<3.1.0,>=3.0.2 in c:\\users\\juani\\anaconda3\\lib\\site-packages (from spacy<3.8.0,>=3.7.0->es-core-news-sm==3.7.0) (3.0.10)\n",
      "Requirement already satisfied: thinc<8.3.0,>=8.2.2 in c:\\users\\juani\\anaconda3\\lib\\site-packages (from spacy<3.8.0,>=3.7.0->es-core-news-sm==3.7.0) (8.2.5)\n",
      "Requirement already satisfied: wasabi<1.2.0,>=0.9.1 in c:\\users\\juani\\anaconda3\\lib\\site-packages (from spacy<3.8.0,>=3.7.0->es-core-news-sm==3.7.0) (1.1.3)\n",
      "Requirement already satisfied: srsly<3.0.0,>=2.4.3 in c:\\users\\juani\\anaconda3\\lib\\site-packages (from spacy<3.8.0,>=3.7.0->es-core-news-sm==3.7.0) (2.5.1)\n",
      "Requirement already satisfied: catalogue<2.1.0,>=2.0.6 in c:\\users\\juani\\anaconda3\\lib\\site-packages (from spacy<3.8.0,>=3.7.0->es-core-news-sm==3.7.0) (2.0.10)\n",
      "Requirement already satisfied: weasel<0.5.0,>=0.1.0 in c:\\users\\juani\\anaconda3\\lib\\site-packages (from spacy<3.8.0,>=3.7.0->es-core-news-sm==3.7.0) (0.4.1)\n",
      "Requirement already satisfied: typer<1.0.0,>=0.3.0 in c:\\users\\juani\\anaconda3\\lib\\site-packages (from spacy<3.8.0,>=3.7.0->es-core-news-sm==3.7.0) (0.9.0)\n",
      "Requirement already satisfied: tqdm<5.0.0,>=4.38.0 in c:\\users\\juani\\anaconda3\\lib\\site-packages (from spacy<3.8.0,>=3.7.0->es-core-news-sm==3.7.0) (4.66.5)\n",
      "Requirement already satisfied: requests<3.0.0,>=2.13.0 in c:\\users\\juani\\anaconda3\\lib\\site-packages (from spacy<3.8.0,>=3.7.0->es-core-news-sm==3.7.0) (2.32.3)\n",
      "Requirement already satisfied: pydantic!=1.8,!=1.8.1,<3.0.0,>=1.7.4 in c:\\users\\juani\\anaconda3\\lib\\site-packages (from spacy<3.8.0,>=3.7.0->es-core-news-sm==3.7.0) (2.8.2)\n",
      "Requirement already satisfied: jinja2 in c:\\users\\juani\\anaconda3\\lib\\site-packages (from spacy<3.8.0,>=3.7.0->es-core-news-sm==3.7.0) (3.1.4)\n",
      "Requirement already satisfied: setuptools in c:\\users\\juani\\anaconda3\\lib\\site-packages (from spacy<3.8.0,>=3.7.0->es-core-news-sm==3.7.0) (75.1.0)\n",
      "Requirement already satisfied: packaging>=20.0 in c:\\users\\juani\\anaconda3\\lib\\site-packages (from spacy<3.8.0,>=3.7.0->es-core-news-sm==3.7.0) (24.1)\n",
      "Requirement already satisfied: langcodes<4.0.0,>=3.2.0 in c:\\users\\juani\\anaconda3\\lib\\site-packages (from spacy<3.8.0,>=3.7.0->es-core-news-sm==3.7.0) (3.5.0)\n",
      "Requirement already satisfied: numpy>=1.19.0 in c:\\users\\juani\\anaconda3\\lib\\site-packages (from spacy<3.8.0,>=3.7.0->es-core-news-sm==3.7.0) (1.26.4)\n",
      "Requirement already satisfied: language-data>=1.2 in c:\\users\\juani\\anaconda3\\lib\\site-packages (from langcodes<4.0.0,>=3.2.0->spacy<3.8.0,>=3.7.0->es-core-news-sm==3.7.0) (1.3.0)\n",
      "Requirement already satisfied: annotated-types>=0.4.0 in c:\\users\\juani\\anaconda3\\lib\\site-packages (from pydantic!=1.8,!=1.8.1,<3.0.0,>=1.7.4->spacy<3.8.0,>=3.7.0->es-core-news-sm==3.7.0) (0.6.0)\n",
      "Requirement already satisfied: pydantic-core==2.20.1 in c:\\users\\juani\\anaconda3\\lib\\site-packages (from pydantic!=1.8,!=1.8.1,<3.0.0,>=1.7.4->spacy<3.8.0,>=3.7.0->es-core-news-sm==3.7.0) (2.20.1)\n",
      "Requirement already satisfied: typing-extensions>=4.6.1 in c:\\users\\juani\\anaconda3\\lib\\site-packages (from pydantic!=1.8,!=1.8.1,<3.0.0,>=1.7.4->spacy<3.8.0,>=3.7.0->es-core-news-sm==3.7.0) (4.15.0)\n",
      "Requirement already satisfied: charset-normalizer<4,>=2 in c:\\users\\juani\\anaconda3\\lib\\site-packages (from requests<3.0.0,>=2.13.0->spacy<3.8.0,>=3.7.0->es-core-news-sm==3.7.0) (3.3.2)\n",
      "Requirement already satisfied: idna<4,>=2.5 in c:\\users\\juani\\anaconda3\\lib\\site-packages (from requests<3.0.0,>=2.13.0->spacy<3.8.0,>=3.7.0->es-core-news-sm==3.7.0) (3.7)\n",
      "Requirement already satisfied: urllib3<3,>=1.21.1 in c:\\users\\juani\\anaconda3\\lib\\site-packages (from requests<3.0.0,>=2.13.0->spacy<3.8.0,>=3.7.0->es-core-news-sm==3.7.0) (2.2.3)\n",
      "Requirement already satisfied: certifi>=2017.4.17 in c:\\users\\juani\\anaconda3\\lib\\site-packages (from requests<3.0.0,>=2.13.0->spacy<3.8.0,>=3.7.0->es-core-news-sm==3.7.0) (2024.12.14)\n",
      "Requirement already satisfied: blis<0.8.0,>=0.7.8 in c:\\users\\juani\\anaconda3\\lib\\site-packages (from thinc<8.3.0,>=8.2.2->spacy<3.8.0,>=3.7.0->es-core-news-sm==3.7.0) (0.7.11)\n",
      "Requirement already satisfied: confection<1.0.0,>=0.0.1 in c:\\users\\juani\\anaconda3\\lib\\site-packages (from thinc<8.3.0,>=8.2.2->spacy<3.8.0,>=3.7.0->es-core-news-sm==3.7.0) (0.1.5)\n",
      "Requirement already satisfied: colorama in c:\\users\\juani\\anaconda3\\lib\\site-packages (from tqdm<5.0.0,>=4.38.0->spacy<3.8.0,>=3.7.0->es-core-news-sm==3.7.0) (0.4.6)\n",
      "Requirement already satisfied: click<9.0.0,>=7.1.1 in c:\\users\\juani\\anaconda3\\lib\\site-packages (from typer<1.0.0,>=0.3.0->spacy<3.8.0,>=3.7.0->es-core-news-sm==3.7.0) (8.1.7)\n",
      "Requirement already satisfied: cloudpathlib<1.0.0,>=0.7.0 in c:\\users\\juani\\anaconda3\\lib\\site-packages (from weasel<0.5.0,>=0.1.0->spacy<3.8.0,>=3.7.0->es-core-news-sm==3.7.0) (0.22.0)\n",
      "Requirement already satisfied: smart-open<8.0.0,>=5.2.1 in c:\\users\\juani\\anaconda3\\lib\\site-packages (from weasel<0.5.0,>=0.1.0->spacy<3.8.0,>=3.7.0->es-core-news-sm==3.7.0) (5.2.1)\n",
      "Requirement already satisfied: MarkupSafe>=2.0 in c:\\users\\juani\\anaconda3\\lib\\site-packages (from jinja2->spacy<3.8.0,>=3.7.0->es-core-news-sm==3.7.0) (2.1.3)\n",
      "Requirement already satisfied: marisa-trie>=1.1.0 in c:\\users\\juani\\anaconda3\\lib\\site-packages (from language-data>=1.2->langcodes<4.0.0,>=3.2.0->spacy<3.8.0,>=3.7.0->es-core-news-sm==3.7.0) (1.3.1)\n",
      "\u001b[38;5;2m✔ Download and installation successful\u001b[0m\n",
      "You can now load the package via spacy.load('es_core_news_sm')\n"
     ]
    }
   ],
   "source": [
    "!python -m spacy download es_core_news_sm"
   ]
  },
  {
   "cell_type": "code",
   "execution_count": 58,
   "id": "0e7dca14",
   "metadata": {},
   "outputs": [
    {
     "name": "stderr",
     "output_type": "stream",
     "text": [
      "[nltk_data] Downloading package punkt to\n",
      "[nltk_data]     C:\\Users\\juani\\AppData\\Roaming\\nltk_data...\n",
      "[nltk_data]   Package punkt is already up-to-date!\n"
     ]
    },
    {
     "data": {
      "text/plain": [
       "True"
      ]
     },
     "execution_count": 58,
     "metadata": {},
     "output_type": "execute_result"
    }
   ],
   "source": [
    "# librería Natural Language Toolkit, usada para trabajar con textos\n",
    "import nltk\n",
    "# Punkt permite separar un texto en frases.\n",
    "nltk.download('punkt')"
   ]
  },
  {
   "cell_type": "code",
   "execution_count": 59,
   "id": "0445b1b3",
   "metadata": {},
   "outputs": [
    {
     "name": "stderr",
     "output_type": "stream",
     "text": [
      "[nltk_data] Downloading package punkt_tab to\n",
      "[nltk_data]     C:\\Users\\juani\\AppData\\Roaming\\nltk_data...\n",
      "[nltk_data]   Package punkt_tab is already up-to-date!\n"
     ]
    },
    {
     "data": {
      "text/plain": [
       "True"
      ]
     },
     "execution_count": 59,
     "metadata": {},
     "output_type": "execute_result"
    }
   ],
   "source": [
    "nltk.download('punkt_tab')"
   ]
  },
  {
   "cell_type": "markdown",
   "id": "559e579f",
   "metadata": {},
   "source": [
    "### 1.1 Descargar Stopwords y lema de palabras"
   ]
  },
  {
   "cell_type": "code",
   "execution_count": 60,
   "id": "78611856",
   "metadata": {},
   "outputs": [
    {
     "name": "stderr",
     "output_type": "stream",
     "text": [
      "[nltk_data] Downloading package stopwords to\n",
      "[nltk_data]     C:\\Users\\juani\\AppData\\Roaming\\nltk_data...\n",
      "[nltk_data]   Package stopwords is already up-to-date!\n"
     ]
    },
    {
     "data": {
      "text/plain": [
       "True"
      ]
     },
     "execution_count": 60,
     "metadata": {},
     "output_type": "execute_result"
    }
   ],
   "source": [
    "# StopWords\n",
    "nltk.download('stopwords')"
   ]
  },
  {
   "cell_type": "code",
   "execution_count": 61,
   "id": "7be5f7d7",
   "metadata": {},
   "outputs": [
    {
     "name": "stderr",
     "output_type": "stream",
     "text": [
      "[nltk_data] Downloading package wordnet to\n",
      "[nltk_data]     C:\\Users\\juani\\AppData\\Roaming\\nltk_data...\n",
      "[nltk_data]   Package wordnet is already up-to-date!\n"
     ]
    },
    {
     "data": {
      "text/plain": [
       "True"
      ]
     },
     "execution_count": 61,
     "metadata": {},
     "output_type": "execute_result"
    }
   ],
   "source": [
    "#WordNetLemmatizer (lema)\n",
    "nltk.download('wordnet')"
   ]
  },
  {
   "cell_type": "code",
   "execution_count": 62,
   "id": "ac03b433",
   "metadata": {},
   "outputs": [
    {
     "name": "stdout",
     "output_type": "stream",
     "text": [
      "Requirement already satisfied: pandas-profiling in c:\\users\\juani\\anaconda3\\lib\\site-packages (3.2.0)\n",
      "Requirement already satisfied: joblib~=1.1.0 in c:\\users\\juani\\anaconda3\\lib\\site-packages (from pandas-profiling) (1.1.1)\n",
      "Requirement already satisfied: scipy>=1.4.1 in c:\\users\\juani\\anaconda3\\lib\\site-packages (from pandas-profiling) (1.13.1)\n",
      "Requirement already satisfied: pandas!=1.0.0,!=1.0.1,!=1.0.2,!=1.1.0,>=0.25.3 in c:\\users\\juani\\anaconda3\\lib\\site-packages (from pandas-profiling) (2.2.2)\n",
      "Requirement already satisfied: matplotlib>=3.2.0 in c:\\users\\juani\\anaconda3\\lib\\site-packages (from pandas-profiling) (3.9.2)\n",
      "Requirement already satisfied: pydantic>=1.8.1 in c:\\users\\juani\\anaconda3\\lib\\site-packages (from pandas-profiling) (2.8.2)\n",
      "Requirement already satisfied: PyYAML>=5.0.0 in c:\\users\\juani\\anaconda3\\lib\\site-packages (from pandas-profiling) (6.0.1)\n",
      "Requirement already satisfied: jinja2>=2.11.1 in c:\\users\\juani\\anaconda3\\lib\\site-packages (from pandas-profiling) (3.1.4)\n",
      "Requirement already satisfied: markupsafe~=2.1.1 in c:\\users\\juani\\anaconda3\\lib\\site-packages (from pandas-profiling) (2.1.3)\n",
      "Requirement already satisfied: visions==0.7.4 in c:\\users\\juani\\anaconda3\\lib\\site-packages (from visions[type_image_path]==0.7.4->pandas-profiling) (0.7.4)\n",
      "Requirement already satisfied: numpy>=1.16.0 in c:\\users\\juani\\anaconda3\\lib\\site-packages (from pandas-profiling) (1.26.4)\n",
      "Requirement already satisfied: htmlmin>=0.1.12 in c:\\users\\juani\\anaconda3\\lib\\site-packages (from pandas-profiling) (0.1.12)\n",
      "Requirement already satisfied: missingno>=0.4.2 in c:\\users\\juani\\anaconda3\\lib\\site-packages (from pandas-profiling) (0.5.2)\n",
      "Requirement already satisfied: phik>=0.11.1 in c:\\users\\juani\\anaconda3\\lib\\site-packages (from pandas-profiling) (0.12.5)\n",
      "Requirement already satisfied: tangled-up-in-unicode==0.2.0 in c:\\users\\juani\\anaconda3\\lib\\site-packages (from pandas-profiling) (0.2.0)\n",
      "Requirement already satisfied: requests>=2.24.0 in c:\\users\\juani\\anaconda3\\lib\\site-packages (from pandas-profiling) (2.32.3)\n",
      "Requirement already satisfied: tqdm>=4.48.2 in c:\\users\\juani\\anaconda3\\lib\\site-packages (from pandas-profiling) (4.66.5)\n",
      "Requirement already satisfied: seaborn>=0.10.1 in c:\\users\\juani\\anaconda3\\lib\\site-packages (from pandas-profiling) (0.13.2)\n",
      "Requirement already satisfied: multimethod>=1.4 in c:\\users\\juani\\anaconda3\\lib\\site-packages (from pandas-profiling) (1.12)\n",
      "Requirement already satisfied: attrs>=19.3.0 in c:\\users\\juani\\anaconda3\\lib\\site-packages (from visions==0.7.4->visions[type_image_path]==0.7.4->pandas-profiling) (23.1.0)\n",
      "Requirement already satisfied: networkx>=2.4 in c:\\users\\juani\\anaconda3\\lib\\site-packages (from visions==0.7.4->visions[type_image_path]==0.7.4->pandas-profiling) (3.3)\n",
      "Requirement already satisfied: imagehash in c:\\users\\juani\\anaconda3\\lib\\site-packages (from visions[type_image_path]==0.7.4->pandas-profiling) (4.3.1)\n",
      "Requirement already satisfied: Pillow in c:\\users\\juani\\anaconda3\\lib\\site-packages (from visions[type_image_path]==0.7.4->pandas-profiling) (10.4.0)\n",
      "Requirement already satisfied: contourpy>=1.0.1 in c:\\users\\juani\\anaconda3\\lib\\site-packages (from matplotlib>=3.2.0->pandas-profiling) (1.2.0)\n",
      "Requirement already satisfied: cycler>=0.10 in c:\\users\\juani\\anaconda3\\lib\\site-packages (from matplotlib>=3.2.0->pandas-profiling) (0.11.0)\n",
      "Requirement already satisfied: fonttools>=4.22.0 in c:\\users\\juani\\anaconda3\\lib\\site-packages (from matplotlib>=3.2.0->pandas-profiling) (4.51.0)\n",
      "Requirement already satisfied: kiwisolver>=1.3.1 in c:\\users\\juani\\anaconda3\\lib\\site-packages (from matplotlib>=3.2.0->pandas-profiling) (1.4.4)\n",
      "Requirement already satisfied: packaging>=20.0 in c:\\users\\juani\\anaconda3\\lib\\site-packages (from matplotlib>=3.2.0->pandas-profiling) (24.1)\n",
      "Requirement already satisfied: pyparsing>=2.3.1 in c:\\users\\juani\\anaconda3\\lib\\site-packages (from matplotlib>=3.2.0->pandas-profiling) (3.1.2)\n",
      "Requirement already satisfied: python-dateutil>=2.7 in c:\\users\\juani\\anaconda3\\lib\\site-packages (from matplotlib>=3.2.0->pandas-profiling) (2.9.0.post0)\n",
      "Requirement already satisfied: pytz>=2020.1 in c:\\users\\juani\\anaconda3\\lib\\site-packages (from pandas!=1.0.0,!=1.0.1,!=1.0.2,!=1.1.0,>=0.25.3->pandas-profiling) (2024.1)\n",
      "Requirement already satisfied: tzdata>=2022.7 in c:\\users\\juani\\anaconda3\\lib\\site-packages (from pandas!=1.0.0,!=1.0.1,!=1.0.2,!=1.1.0,>=0.25.3->pandas-profiling) (2023.3)\n",
      "Requirement already satisfied: annotated-types>=0.4.0 in c:\\users\\juani\\anaconda3\\lib\\site-packages (from pydantic>=1.8.1->pandas-profiling) (0.6.0)\n",
      "Requirement already satisfied: pydantic-core==2.20.1 in c:\\users\\juani\\anaconda3\\lib\\site-packages (from pydantic>=1.8.1->pandas-profiling) (2.20.1)\n",
      "Requirement already satisfied: typing-extensions>=4.6.1 in c:\\users\\juani\\anaconda3\\lib\\site-packages (from pydantic>=1.8.1->pandas-profiling) (4.15.0)\n",
      "Requirement already satisfied: charset-normalizer<4,>=2 in c:\\users\\juani\\anaconda3\\lib\\site-packages (from requests>=2.24.0->pandas-profiling) (3.3.2)\n",
      "Requirement already satisfied: idna<4,>=2.5 in c:\\users\\juani\\anaconda3\\lib\\site-packages (from requests>=2.24.0->pandas-profiling) (3.7)\n",
      "Requirement already satisfied: urllib3<3,>=1.21.1 in c:\\users\\juani\\anaconda3\\lib\\site-packages (from requests>=2.24.0->pandas-profiling) (2.2.3)\n",
      "Requirement already satisfied: certifi>=2017.4.17 in c:\\users\\juani\\anaconda3\\lib\\site-packages (from requests>=2.24.0->pandas-profiling) (2024.12.14)\n",
      "Requirement already satisfied: colorama in c:\\users\\juani\\anaconda3\\lib\\site-packages (from tqdm>=4.48.2->pandas-profiling) (0.4.6)\n",
      "Requirement already satisfied: six>=1.5 in c:\\users\\juani\\anaconda3\\lib\\site-packages (from python-dateutil>=2.7->matplotlib>=3.2.0->pandas-profiling) (1.16.0)\n",
      "Requirement already satisfied: PyWavelets in c:\\users\\juani\\anaconda3\\lib\\site-packages (from imagehash->visions[type_image_path]==0.7.4->pandas-profiling) (1.7.0)\n"
     ]
    }
   ],
   "source": [
    "# Instalación de librerias\n",
    "import pandas as pd\n",
    "import numpy as np\n",
    "import sys\n",
    "!{sys.executable} -m pip install pandas-profiling\n",
    "\n",
    "import re, string, unicodedata\n",
    "from nltk import word_tokenize, sent_tokenize\n",
    "from nltk.corpus import stopwords\n",
    "from nltk.stem import LancasterStemmer, WordNetLemmatizer\n",
    "from nltk.stem.snowball import SnowballStemmer\n",
    "import spacy\n",
    "\n",
    "from sklearn.linear_model import LogisticRegression\n",
    "from sklearn.model_selection import train_test_split,GridSearchCV\n",
    "from sklearn.feature_extraction.text import TfidfVectorizer, CountVectorizer, HashingVectorizer\n",
    "from sklearn.pipeline import Pipeline, FeatureUnion\n",
    "from sklearn.svm import SVC\n",
    "from sklearn.ensemble import BaggingClassifier, RandomForestClassifier, AdaBoostClassifier\n",
    "from sklearn.naive_bayes import BernoulliNB\n",
    "from sklearn.metrics import classification_report, confusion_matrix , ConfusionMatrixDisplay\n",
    "\n",
    "from collections import Counter\n",
    "\n",
    "\n",
    "from sklearn.base import BaseEstimator, ClassifierMixin\n",
    "#from ydata_profiling import ProfileReport \n",
    "import matplotlib.pyplot as plt"
   ]
  },
  {
   "cell_type": "markdown",
   "id": "c4280ae5",
   "metadata": {},
   "source": []
  },
  {
   "cell_type": "code",
   "execution_count": 63,
   "id": "9f69f810",
   "metadata": {},
   "outputs": [
    {
     "name": "stdout",
     "output_type": "stream",
     "text": [
      "3.7.5\n"
     ]
    }
   ],
   "source": [
    "print(spacy.__version__)\n"
   ]
  },
  {
   "cell_type": "markdown",
   "id": "0e030ce4",
   "metadata": {},
   "source": [
    "### 2.Perfilamiento y entendmiento de los datos"
   ]
  },
  {
   "cell_type": "markdown",
   "id": "1faeed6d",
   "metadata": {},
   "source": [
    "### 2.1 Lectura de los datos"
   ]
  },
  {
   "cell_type": "code",
   "execution_count": 64,
   "id": "adfe667c",
   "metadata": {},
   "outputs": [],
   "source": [
    "df_text = pd.read_excel('data/Datos_proyecto.xlsx' )\n",
    "df_textC = df_text"
   ]
  },
  {
   "cell_type": "code",
   "execution_count": 65,
   "id": "e8deefc0",
   "metadata": {},
   "outputs": [
    {
     "data": {
      "application/vnd.microsoft.datawrangler.viewer.v0+json": {
       "columns": [
        {
         "name": "index",
         "rawType": "int64",
         "type": "integer"
        },
        {
         "name": "textos",
         "rawType": "object",
         "type": "string"
        },
        {
         "name": "labels",
         "rawType": "int64",
         "type": "integer"
        }
       ],
       "ref": "9257733b-95a4-4e9c-8aee-5f2e97050051",
       "rows": [
        [
         "0",
         "\"Aprendizaje\" y \"educación\" se consideran sinónimos de escolarización formal. Las organizaciones auxiliares, como las editoriales de educación, las juntas examinadoras y las organizaciones de formación de docentes, se consideran extensiones de los acuerdos establecidos por los gobiernos. Este marco de comprensión se ha vuelto cada vez más inadecuado.",
         "4"
        ],
        [
         "1",
         "Para los niños más pequeños (bebés y niños pequeños), la capacitación especializada y práctica parece estar más fuertemente asociada con la calidad pedagógica y los resultados cognitivos y sociales. Los educadores de la primera infancia se encuentran con entornos sociales cada vez más complejos y se encuentran con una multiplicidad de antecedentes y experiencias familiares. Estos factores crean imperativos para adoptar nuevas pedagogías y prácticas organizacionales para acomodar este pluralismo (Elliott, 2006).",
         "4"
        ],
        [
         "2",
         "Además, la formación de especialistas en medicina general también incluye tareas que requieren un conocimiento más profundo de problemas comunes de salud pública, incluida la salud mental (Cuestionario de salud mental de la OCDE, 2013). Dado que no hay control en la atención primaria para limitar el acceso a los servicios de salud (mental) especializados, muchos pacientes que necesitan tratamiento (para trastornos mentales graves en particular) pueden buscar atención de nivel especializado directamente. Los servicios de especialistas en psiquiatría se brindan principalmente en las salas ambulatorias de psiquiatría ubicadas en los hospitales generales.",
         "3"
        ],
        [
         "3",
         "En los países de la OCDE se tiende a pasar de los cursos obligatorios a los optativos, abiertos a estudiantes de distintas facultades y escuelas. Este planteamiento facilita la formación de equipos de estudiantes con distintas formaciones e intereses. El trabajo en equipos interdisciplinares permite a los individuos concentrarse en lo que mejor saben y les gusta y, al mismo tiempo, familiarizarse con nuevos conocimientos que pueden asociarse a una nueva forma de resolver un problema o crear un nuevo producto o servicio. No está claro hasta qué punto estos cursos utilizan métodos pedagógicos creativos y se adaptan a las necesidades de los estudiantes de grado, postgrado y licenciatura.",
         "4"
        ],
        [
         "4",
         "Este grupo se centró en las personas que padecen trastornos mentales con comorbilidad de abuso de sustancias (mientras que la demencia, la discapacidad intelectual y el abuso de sustancias por sà solos quedaron excluidos del ámbito de análisis). Con 90 millones de euros de financiación, la comisión dispuso de tres años para \"iniciar y apoyar el desarrollo de proyectos a todos los niveles (tratamiento médico, mejora de los servicios, proyectos de vivienda, mejoras legislativas y organizativas) y proponer las medidas necesarias para elevar de forma permanente el nivel de los servicios de salud mental\". ",
         "3"
        ],
        [
         "5",
         "Los datos a nivel del sistema que no se derivan del cuestionario para estudiantes o escuelas de PISA 2015 se extraen de la publicación anual de la OCDE. Panorama de la educación, para aquellos países y economías que participan en esa recopilación periódica de datos. Para otros países y economías, se llevó a cabo una recopilación de datos a nivel de sistema especial en colaboración con los miembros de la Junta de Gobierno de PISA y los directores de proyectos nacionales.",
         "4"
        ],
        [
         "6",
         "La principal ventaja de las evaluaciones externas es su fiabilidad. Garantizan que todos los estudiantes son evaluados en las mismas tareas y que los resultados se miden con los mismos estándares. Además, las evaluaciones externas suelen realizarse bajo supervisión, lo que garantiza que lo que se evalúa es el propio trabajo de los estudiantes.",
         "4"
        ],
        [
         "7",
         "Los pacientes pueden elegir a cualquier médico de cabecera, pero como no hay un sistema de control, también pueden elegir visitar directamente a cualquier especialista médico. Hay pocos contactos ambulatorios por persona (58 en 2015) y una gobernanza de atención primaria débil (por ejemplo, falta de inspección estatal, políticas de atención primaria de apoyo). También existe un relativo subdesarrollo de la fuerza laboral de atención primaria con bajos niveles de ingresos en relación con los especialistas. Más positivamente, se ha juzgado que el sistema de atención primaria es relativamente efectivo y eficiente con respecto a la coordinación y la integralidad de la atención (Ktingos et al, 2015, Kringosetal, 2013).",
         "3"
        ],
        [
         "8",
         "De hecho, es probable que la designación de la universidad como universidad APEX aleje aún más a la institución del compromiso regional. Brindan acceso a un gran número de estudiantes y estudiantes graduados de la región, muchos de los cuales permanecen dentro de la región en busca de empleo. A través de la participación de los estudiantes en la región a través de pasantías, actividades de voluntariado y otras formas, las instituciones tienen un impacto en la región. Excepto por la información básica sobre el número de admisiones, matriculación y graduados, no se disponía de información sustantiva sobre la sucursal de UiTM en Penang, los dos politécnicos, los cuatro colegios comunitarios y las instituciones privadas en Penang y sobre las instituciones de educación superior en los otros tres estados. (Perlis, Kedah y Perak) en la Región Económica del Corredor Norte más grande. Por lo tanto, los hallazgos y observaciones se basan en una perspectiva limitada de las instituciones de educación superior en la región.",
         "4"
        ],
        [
         "9",
         "De hecho, aunque Chile y Uruguay tienen índices de pobreza similares, la pobreza infantil en Chile es 1,8 veces mayor que la de la población adulta, mientras que en Uruguay es 3,1 veces mayor. Esto produciría tasas de pobreza infantil artificialmente altas. Esta línea representa el costo de satisfacer las necesidades básicas de una persona. Medir la pobreza de esta manera supone que el costo per cápita de satisfacer las necesidades básicas de un individuo no se ve afectado por el número de personas que viven en un hogar o por las características demográficas del hogar.",
         "1"
        ],
        [
         "10",
         "Según el Informe sobre el Consumo de Drogas en las Américas de 2015,3' se informó que la prevalencia anual de cannabis entre los estudiantes de secundaria en América Central fue más alta en Belice, con un 15,8 %, y más baja en Honduras, con un poco más del 1 %. centavo. Se informaron tasas de prevalencia de menos del 5 por ciento en Antigua y Barbuda, Barbados, Dominica, República Dominicana, El Salvador, Guyana, Haití, Honduras, Panamá, Saint Kitts y Nevis y San Vicente y las Granadinas. Según el Informe sobre el Consumo de Drogas en las Américas de 2015, la prevalencia anual del uso indebido de cocaína entre estudiantes de secundaria en el Caribe oscila entre el 0,5 % y un poco más del 2 %.",
         "3"
        ],
        [
         "11",
         "El acuerdo de desempeño describe los objetivos clave que la institución debe esforzarse por lograr en el transcurso de un período de tres años. El ministerio se reúne con cada institución durante el año para discutir el progreso hacia el logro de estos objetivos. Se requiere que cada institución al final del año reporte datos a la Base de Datos de Estadísticas de Educación Superior (DBH) y presente un informe anual al ministerio. Esta información es utilizada por el ministerio para desarrollar un informe anual sobre el estado de la educación superior y para desarrollar una carta de retroalimentación anual para las instituciones sobre su desempeño anual (Larsen et al.,",
         "4"
        ],
        [
         "12",
         "Los únicos países que exigen un máster para enseñar preescolar son Inglaterra, Francia, Islandia e Italia. Este nivel de formación se exige para enseñar primaria en 11 de los 35 países de los que se dispone de datos, para enseñar estudios generales de primer ciclo de secundaria en 16 países y para enseñar segundo ciclo de secundaria en 22 países (véase la tabla D6.1 a, b, c y d). En cambio, casi el 40% de los profesores se sienten insuficientemente preparados para los aspectos pedagógicos de la enseñanza, que es la proporción más alta en cualquiera de los 34 países que participaron en la encuesta TALIS (véase el gráfico D6.a). En Francia, la proporción era inferior (76%), y aún más baja en los centros privados (sólo el 69%, frente a una media TALIS del 86%).",
         "4"
        ],
        [
         "13",
         "Hay una tendencia creciente de una mayor proporción de graduados en artes en comparación con las corrientes técnicas y científicas. Al mismo tiempo, las escuelas técnicas y vocacionales están produciendo un número decreciente de graduados. Hay un reconocimiento creciente de la necesidad de fortalecer estos programas de capacitación en Penang. Por ejemplo, el centro de desarrollo de habilidades de Penang (PSDC) se estableció en 1989.",
         "4"
        ],
        [
         "14",
         "Esto podría involucrar un sistema de acreditación para certificar a las escuelas como capaces de administrar un presupuesto para gastos operativos como parte de los procesos de evaluación escolar por medio de inspecciones (ver Capítulo 4). El otorgamiento de autonomía debe entonces estar asociado con un monitoreo relevante y enfocado, especialmente el monitoreo de los resultados (ver también el Capítulo 2). Se les debe exigir que desarrollen un plan de desarrollo escolar que vincule las prioridades educativas de la escuela con sus intenciones de gasto en colaboración con la comunidad escolar.",
         "4"
        ],
        [
         "15",
         "Un estudiante pobre en Costa Rica tiene menos de uno en diez posibilidades de llegar a la universidad, una brecha de oportunidades mucho mayor que en la mayoría de los países de la OCDE. Pero los impulsores clave de la mejora en los sistemas educativos que mejoran más rápidamente (un impulso concertado para expandir la educación en los primeros años, altas expectativas profesionales para los maestros, liderazgo para la mejora por parte de las escuelas y sólidos sistemas de información y evaluación que pueden guiar la reforma) aún no se han logrado. ganó el impulso necesario en Costa Rica. Su papel en la nivelación del campo de juego para los niños de las familias más desfavorecidas es particularmente crítico.",
         "4"
        ],
        [
         "16",
         "De los gráficos se puede ver que el 73,4 por ciento de los niños no están privados en absoluto en uno de estos tres dominios, mientras que el 1,9 por ciento de los niños están privados simultáneamente en los tres. Aproximadamente el 3,5 por ciento de los niños belgas están privados de ocio y educación solo frente al 11 por ciento en la comunidad únicamente. Existen privaciones superpuestas en ocio y comunidad para el 1,5 por ciento, en educación y comunidad para el 1,3 por ciento, y en ocio y educación para el 3,5 por ciento. En general, podemos concluir que relativamente pocos de los niños que viven en Bélgica se enfrentan a múltiples privaciones superpuestas mientras que, para aquellos que sufren privaciones, predomina la privación en el ámbito comunitario.",
         "1"
        ],
        [
         "17",
         "El personal docente está formado por miembros cristianos, judíos y musulmanes. Los programas de estudio integran práctica, educación y teoría. Las tasas de matrícula son altas y los estudiantes pagan USD 2 500. Para 2010, el presupuesto de la universidad es de USD 1,8 millones: el 50 % del presupuesto está cubierto por el consejo de administración (principalmente del estado de Illinois y Austria), el 25 % de las tasas de matrícula, el resto por la comunidad árabe local.",
         "4"
        ],
        [
         "18",
         "En Portugal, los indicadores de la experiencia del paciente figuran entre los utilizados para contratar la asistencia sanitaria \"primaria\". Aunque la mayoría de los sistemas sanitarios de la OCDE cuentan al menos con algunas encuestas para recoger las PREM, a menudo no se hace de forma estandarizada (como se observa en Corea y Australia) y se suele recoger con poca frecuencia (en Japón, por ejemplo, las PREM se recogen una vez cada tres años). En un sistema en el que los datos de PROM se hacen públicos, pueden utilizarse para ayudar a los pacientes a tomar decisiones mejor informadas. Lo ideal sería que los datos de PROM se transmitieran a los médicos para ayudarles a mejorar la atención y los resultados de los pacientes.",
         "3"
        ],
        [
         "19",
         "Pocos países ya han logrado construir EPR. El proyecto del Reino Unido (Connecting for Health) se ha retrasado varias veces. Uno de los pocos éxitos lo ha logrado la provincia canadiense de Alberta, que tiene una población ligeramente menor que la de Finlandia. La información también podría usarse para promover aún más la medicina basada en la evidencia y comparar a los proveedores, como en el Hospital Benchmarking Project desarrollado desde 1996 (Hakkinen, 2010).",
         "3"
        ],
        [
         "20",
         "Por otro lado, aunque el consumo general de alcohol es alto, las tasas de consumo excesivo de alcohol1 en Austria (19 %) están ligeramente por debajo de la media de la UE (20 %) Entre los adolescentes en 2013-14, el 20 % de las niñas de 15 años y el de los chicos de 15 años declararon haberse emborrachado al menos dos veces en su vida, una proporción similar a la media de la UE. Si bien esta proporción sigue siendo más baja que en la mayoría de los demás países de la UE, ha aumentado sustancialmente desde 1999, cuando solo el 9 % de los adultos austriacos eran obesos. Los adultos austriacos se encuentran entre los más activos físicamente de la UE, pero la inactividad física entre los jóvenes de 15 años es relativamente alta.",
         "3"
        ],
        [
         "21",
         "Este último tema es particularmente importante cuando el material curricular o las tareas educativas tienen poca relevancia o significado para los grupos dentro de la población estudiantil, incluidos los estudiantes indígenas (Young, 2010). En comparación con otros estudiantes en sus propios países, los tres grupos de bajo rendimiento realizan menos tareas cada semana, y este indicador es particularmente pronunciado entre los alumnos de bajo rendimiento en Australia (Figura 6.3).",
         "4"
        ],
        [
         "22",
         "Por lo tanto, la educación y el cuidado de la primera infancia (EAPI) de alta calidad pueden generar mejores resultados en las etapas posteriores de la vida. Por ejemplo, el número de años pasados ​​en la EAPI es un fuerte predictor del nivel de desempeño dentro y fuera de las escuelas alcanzado en etapas posteriores. Del mismo modo, los niños de origen inmigrante y los niños más desfavorecidos a nivel mundial pueden beneficiarse al máximo de asistir a una EAPI de alta calidad. Sin embargo, los beneficios de asistir a ECEC no se limitan a los resultados del aprendizaje.",
         "4"
        ],
        [
         "23",
         "Los solicitantes también deben estar buscando trabajo activamente y, en la mayoría de los casos, el desempleo debe ser involuntario, aunque esto puede ser difícil de observar en la práctica y la definición varía según los países. La duración de los beneficios está limitada en la mayoría de los países, pero no en todos. El seguro es obligatorio para la mayoría de los empleados, pero voluntario en algunos países nórdicos. Los buscadores de empleo cuyo derecho a las prestaciones del seguro de desempleo haya expirado, o cuyo historial laboral sea insuficiente para hacerlos elegibles en primer lugar, pueden tener derecho a la asistencia por desempleo. En algunos países, la asistencia por desempleo es la principal prestación por desempleo.",
         "1"
        ],
        [
         "24",
         "La Sección 3 investiga estrategias para promover una formación profesional de calidad, incluidos los aprendizajes, mientras que la Sección 4 se centra en el apoyo a los estudiantes en riesgo. Para una descripción más detallada y una evaluación del sistema educativo de Letonia, véase OCDE (2015e). El Ministerio de Educación y Ciencia (MoES) nacional tiene la función de supervisión y, a través del Centro Nacional de Educación subordinado, establece los estándares educativos nacionales y determina los planes de estudio y los procedimientos de examen. Proporciona el marco regulatorio para la provisión de educación vocacional y emplea a los directores de los establecimientos VET.1 También mantiene el registro de estándares ocupacionales y estudia las demandas de habilidades del mercado laboral.",
         "4"
        ],
        [
         "25",
         "Las personas con entre siete y nueve años de escolaridad tienen un índice de pobreza similar al promedio. Como era de esperar, el porcentaje de pobres es mayor entre los desempleados que entre los ocupados y los económicamente inactivos. Además, entre los ocupados, la tasa de pobreza es menor para los asalariados que para los trabajadores por cuenta propia, quienes en varios países tienen una tasa de pobreza similar a la de la población económicamente inactiva. Esto plantea la pregunta de si las políticas públicas para el alivio de la pobreza están poniendo suficiente énfasis en el logro de estándares mínimos. Una mirada más amplia a la pobreza, incluidas las deficiencias en esferas como la protección social y los ingresos, explora la relación entre las diferentes dimensiones de la privación. En particular, explora conceptual y empíricamente diferentes dimensiones, umbrales y formas de sumar dimensiones para avanzar hacia la construcción de un índice de pobreza multidimensional relevante y aplicable en toda la región.",
         "1"
        ],
        [
         "26",
         "En algunos países, los alumnos son segregados en diferentes vías a edades tempranas, reflejando la noción de que sólo algunos niños pueden alcanzar niveles de clase mundial. Pero PISA muestra que esa selección está relacionada con grandes disparidades sociales. Por el contrario, en países tan diferentes como Estonia, Canadá, Finlandia y Japón, padres y profesores están comprometidos con la creencia de que todos los alumnos pueden alcanzar altos niveles.",
         "4"
        ],
        [
         "27",
         "Es esencial garantizar que el acceso a los servicios de salud no se vuelva menos equitativo como resultado de las intervenciones de GHP. Los nuevos GHPS deben introducirse solo cuando respalden estos objetivos. De esta manera, las intervenciones de GHP pueden responder a las características específicas de los sistemas de salud domésticos y sus respectivas necesidades.",
         "3"
        ],
        [
         "28",
         "Se cree que un currículo integrado de este tipo contribuye a una EPI de alta calidad y a un mejor comportamiento social (Tabla 1.2) (Bennett, 2004, Siraj-Blatchford, 2010). Por ejemplo, se considera que Suecia tiene una educación de la primera infancia de alta calidad, en parte porque los contenidos de su currículo conceden el mismo valor al aprendizaje social y cognitivo (Sheridan et al., 2010). ",
         "4"
        ],
        [
         "29",
         "En la mayoría de los países, el ingreso familiar también incluye el valor de alquiler imputado de las viviendas ocupadas por sus propietarios. En Chile, la pobreza disminuyó levemente entre 2006 y 2009, y la tasa de indigencia permaneció básicamente sin cambios.3 Las tasas de pobreza e indigencia en El Salvador no cambiaron entre 2004 y 2009. Para Chile, las cifras aquí presentadas difieren por primera vez de las estimaciones oficiales del país (MIDEPLAN.",
         "1"
        ],
        [
         "30",
         "Según los directores de escuela que participaron en PISA 2015, el estudiante promedio en los países de la OCDE asiste a una escuela donde el 84 % de los docentes han obtenido la certificación completa, pero esta proporción varía ampliamente, desde el 100 % en Macao (China) hasta alrededor del 10 % en Colombia. Los hallazgos muestran que la proporción de docentes que han sido certificados para enseñar se asocia positivamente con el desempeño de los estudiantes en solo unos pocos países seleccionados, tanto antes como después de tener en cuenta el perfil socioeconómico de los estudiantes y las escuelas (Figura 1.9). Este débil impacto general no es sorprendente, dados los diferentes estándares utilizados en diferentes países para certificar a los docentes y el hecho de que la mayoría de los países tienen un alto porcentaje de docentes certificados.",
         "4"
        ],
        [
         "31",
         "La ventaja relativamente pequeña de las mujeres en África en 2010-2015 es principalmente una consecuencia del impacto diferencial de la epidemia de VIH/SIDA en los niveles de mortalidad por sexo, con una prevalencia estimada del VIH mayor entre las mujeres que entre los hombres. En las regiones más desarrolladas, la ventaja femenina es mayor en Europa (7,4 años o 11,3 por ciento) que en América del Norte (4,7 años o 6,1 por ciento) y Oceanía, que incluye Australia y Nueva Zelanda. La tasa de mortalidad infantil, también conocida como \"tasa de mortalidad de menores de cinco años\"1, disminuyó a un ritmo notable de alrededor del 3 por ciento anual entre 1990 y 2015.",
         "3"
        ],
        [
         "32",
         "En el MEP se reconoce que la evaluación reformada debe pasar de evaluar el conocimiento de los contenidos a examinar las habilidades de los estudiantes para aplicar y utilizar los conocimientos de forma que demuestren competencias de orden superior. Esto supondrá una mejora significativa con respecto a la evaluación anterior, que sólo captaba una gama limitada de actividades de aprendizaje. Pero la nueva evaluación debe incluir también otras modificaciones.",
         "4"
        ],
        [
         "33",
         "Un incidente de gran importancia en la historia de la atención de la salud mental en Japón fue el ataque con cuchillo del entonces embajador de EE. UU. en Japón, Edwin Reischauer, por parte de una persona con esquizofrenia en 1964. Este ataque generó una alarma pública significativa y contribuyó a aumentar el estigma de las enfermedades mentales. , impulsado por una campaña en los medios de comunicación, además de los altos niveles existentes de estigma dirigido hacia los trastornos mentales. Este incidente también contribuyó a la revisión de 1965 de la Ley de Higiene Mental discutida anteriormente. En 1993, la Ley de Salud Mental fue enmendada nuevamente, con un enfoque particular en la atención en la comunidad, incluida la autorización de la construcción de hogares grupales en la comunidad para personas con trastornos mentales (Tatara y Okamoto, 2009). La Ley de Atención de Salud Comunitaria introducida en 1994 y apoyó aún más el establecimiento de un sistema de salud mental basado en la comunidad.",
         "3"
        ],
        [
         "34",
         "El liderazgo en particular, factor clave de la eficacia escolar, no parece figurar con fuerza en los marcos de evaluación. El proyecto \"Estrategias de desarrollo del liderazgo escolar\" de la asociación nacional Smarter Schools, que está llevando a cabo la AITSL, pretende desarrollar un enfoque nacional para mejorar la capacidad de liderazgo escolar. Típicamente, una revisión escolar va seguida de la formulación de recomendaciones de mejora que se supone que la escuela debe aplicar tras la preparación de un plan de mejora. Sin embargo, el Equipo de Revisión se formó la opinión de que el grado de seguimiento por parte de las autoridades de revisión escolar era variable, incluso dentro de una misma jurisdicción educativa, dependiendo de la capacidad de las redes regionales.",
         "4"
        ],
        [
         "35",
         "Sin embargo, los resultados empíricos sugieren que se puede obtener un uso de los recursos educativos que aumente la equidad a través de políticas que proporcionen las señales pertinentes a las escuelas y los docentes: por ejemplo, brindar incentivos financieros a los docentes calificados puede resultar una herramienta eficaz para dirigirse a los estudiantes desfavorecidos. o áreas. En tercer lugar, este trabajo llena un vacío en la investigación empírica al proporcionar evidencia entre países (a diferencia de países específicos) sobre la importancia de la política de intervención temprana para atenuar las desigualdades socioeconómicas intergeneracionales en las oportunidades educativas. Sugiere que las políticas de cuidado infantil e intervención temprana podrían ser efectivas para alcanzar este objetivo. Finalmente, el análisis entre países intenta descubrir el papel que juegan las políticas sociales y del mercado laboral para influir en la igualdad de oportunidades educativas, dada la relación positiva entre la desigualdad intergeneracional y transversal (de ingresos).",
         "4"
        ],
        [
         "36",
         "En 2016 se publicó el primer informe del Consejo Asesor para el Desarrollo de Indicadores de Calidad y se estableció un sistema de seguimiento público de los indicadores de calidad. Desde 2002, EHIF ha llevado a cabo cinco auditorías clínicas en colaboración con expertos cada año. Los ejemplos de 2013 sugieren que el 67,5 % de las visitas a especialistas por hipertensión y el 20 % de las visitas a especialistas por diabetes podrían considerarse 'evitables' y manejarse de manera más adecuada en la atención primaria.",
         "3"
        ],
        [
         "37",
         "El sistema educativo tiene una serie de características que promueven la equidad, incluida una alta proporción de estudiantes matriculados en educación de la primera infancia, baja repetición de grado y escolarización integral hasta los 16 años. Las tasas de graduación de la secundaria superior son altas, al igual que las tasas de matriculación en educación y formación profesional. (FP), pero el abandono de la FP también es alto. La educación terciaria es accesible para todos, a través de políticas como un plan de subvenciones y préstamos financiado con fondos públicos. En la Encuesta de habilidades de adultos de la OCDE, los adultos en Dinamarca demuestran habilidades de alfabetización por debajo del promedio y habilidades de aritmética por encima del promedio en comparación con el promedio en los países participantes, y los adultos más jóvenes obtienen puntajes alrededor del promedio.",
         "4"
        ],
        [
         "38",
         "La mayoría de las personas de 25 a 64 años en Alemania (55 %) han obtenido una cualificación profesional en el nivel secundario superior o postsecundario, la cuarta proporción más grande entre los países con datos disponibles (el promedio de la OCDE es del 33 %). Debido a la alta incidencia de cualificaciones profesionales y al hecho de que un título general (principalmente Abitur) se dedica a la educación superior y no a la entrada directa en el mercado laboral, solo el 3 % de los adultos obtienen una cualificación general de secundaria superior o postsecundaria como grado más alto, una de las proporciones más bajas entre los países de la OCDE (el promedio de la OCDE es del 12 %) (Tabla Al. Entre 2005 y 2012, las tasas de desempleo se redujeron en 7 puntos porcentuales entre los adultos sin educación secundaria superior (del 20,1 % al 12,8 %) , en 6 puntos porcentuales entre los que tienen educación secundaria superior o postsecundaria no terciaria (del 11,0 % al 5,3 %) y en 3 puntos porcentuales entre los que tienen un título terciario (del 5,6 % al 2,4 %).",
         "4"
        ],
        [
         "39",
         "Una excelente atención médica será fundamental para lograrlo. Hasta ahora, la atención médica japonesa ha tenido un buen desempeño: la esperanza de vida es larga, 83,2 años en comparación con un promedio de la OCDE de 80,2 años, mientras que el gasto en salud es de USD 3 649 PPA per cápita por año, ligeramente superior a USD 3 484 en promedio. . Una característica llamativa del sistema de salud japonés es su apertura y flexibilidad.",
         "3"
        ],
        [
         "40",
         "Para consolidar aún más el marco de evaluación y evaluación, hay espacio para incorporar enfoques de evaluación y evaluación con objetivos educativos más amplios, continuar construyendo sobre el profesionalismo docente y construir redes y capacidad para una evaluación y evaluación efectivas y con visión de futuro, en particular en las áreas de la evaluación de los alumnos en el aula, la evaluación de los docentes y la autoevaluación de la escuela. Después de esta descripción general, los capítulos siguientes (3-6) analizarán los problemas relacionados con cada componente individual con mayor profundidad. El término \"evaluación\" se utiliza para referirse a los juicios sobre el desempeño individual de los estudiantes y el logro de las metas de aprendizaje.",
         "4"
        ],
        [
         "41",
         "Este capítulo comienza con una descripción general de las reformas de Tailandia relacionadas con el uso de las TIC en la educación, y luego proporciona un análisis de los problemas de política relacionados con esta área, presentando recomendaciones para mejorar para apoyar el uso de las TIC para mejorar la calidad y la equidad de la educación. sistema educativo en su conjunto. El objetivo de estas estrategias ha sido utilizar las TIC para crear una \"Tailandia inteligente\": una sociedad que sea \"inteligente y alfabetizada en información\", donde el conocimiento beneficie a los ciudadanos y a la \"sociedad en su conjunto\" (Ministerio de TIC, 2009a). La educación ha sido un pilar clave en estos esfuerzos.",
         "4"
        ],
        [
         "42",
         "Primero, el programa de Fortalecimiento de la Gestión Escolar, que invertirá MEX 41 millones en 595 escuelas, busca apoyar a los líderes escolares en la gestión de los recursos escolares (Gobiemo de Morelos, 2016a). Con una ambición similar, el programa Escuelas de Calidad (Programa Escuelas de Cualidad) tiene como objetivo fortalecer la autonomía de las instituciones de educación básica en la gestión de los recursos, al tiempo que apoya a cada escuela y su Consejo Técnico Escolar en la adopción de mejores prácticas que pueden ayudarlos a cumplir con la planificación. , evaluación y asignación de responsabilidades presupuestarias de manera efectiva. A través de una inversión de MEX 26.57 millones en 2015-16, un total de 475 escuelas se benefician del programa que, en comparación con el año anterior, representa una expansión a 55 escuelas nuevas (Gobiemo de Morelos, 2016a). Otro componente del programa Escuelas de Calidad implica la evaluación de los maestros en la instrucción de sus salones de clase y de los directores en su capacidad para liderar, así como actividades para aumentar la participación de los padres en el aprendizaje de sus hijos. Es probable que los costos de instrucción de los niños desfavorecidos sean más altos que los de los más acomodados y Morelos está tomando medidas positivas para paliar esas necesidades.",
         "4"
        ],
        [
         "43",
         "Actualmente existen en el país más de 4.500 centros de tratamiento y rehabilitación privados y alrededor de 600 públicos. Según las estadísticas oficiales, en 2014 había un total de 65.216 personas registradas como consumidores de drogas en Kazajstán, Kirguistán, Tayikistán y Uzbekistán, frente a un total de 73.345 personas en 2013. Número de drogodependientes registrados oficialmente en Kazajstán en 2014 se situó en 34.221 personas, lo que representa una disminución significativa en comparación con las 40.224 personas en 2013. En Kirguistán, 9.024 personas se registraron oficialmente como drogodependientes en 2014, lo que representa un 8,8% menos que en 2013.",
         "3"
        ],
        [
         "44",
         "La información contenida en este documento se relaciona con el área bajo el control efectivo del Gobierno de la República de Chipre. Andrade y O.F.A. Bueno (2008), \"Contribución de la Educación, la Ocupación y las Actividades de Estimulación Cognitiva a la Formación de la Reserva Cognitiva\", Dementia and Neuropsychologia, Vo\\. 2, No. Working Paper ROA-RM-2010/1, Centro de Investigación para la Educación y el Mercado Laboral (ROA), Maastricht.",
         "4"
        ],
        [
         "45",
         "El personal docente de Lituania, aunque tiene una formación de grado, muestra habilidades numéricas más bajas que las de otros graduados de educación terciaria y más bajas que el nivel promedio de los docentes en los países miembros de la OCDE que participan en la Encuesta de Habilidades de Adultos (Figura 3.5). Los puntajes competitivos utilizados en las admisiones a la educación superior, que se basan en los puntajes de los exámenes matura, muestran que el puntaje mínimo requerido para ingresar a los programas de formación docente es consistentemente mucho más bajo que el requerido para el campo más popular y selectivo, la medicina (Tabla 3.6). El principal proveedor de programas de formación de docentes, la universidad pedagógica del país, ha recibido una aprobación institucional limitada del organismo de garantía de la calidad de la educación superior del país, y hay debates en curso sobre la forma en que los programas y las instituciones pueden desempeñar mejor sus funciones iniciales. formación docente.",
         "4"
        ],
        [
         "46",
         "La innovación que aproveche estas nuevas oportunidades se beneficiará del intercambio de conocimientos y prácticas sobre cómo implementar reformas con éxito. Esta investigación enfatiza particularmente la necesidad de utilizar diversas estrategias para enseñar y aprender en diferentes circunstancias. Esto significa que incluso si este informe se centra en los REA, es decir, en los recursos educativos y, en particular, en los medios educativos, intentará mantener el foco en la interacción de los procesos y la infraestructura organizativos, los medios para utilizar las redes y la colaboración, y los conocimientos (dados y perdidos). ) de la investigación.",
         "4"
        ],
        [
         "47",
         "El fortalecimiento de la atención primaria pública y comunitaria también daría como resultado menos autorreferencias a los departamentos de emergencia de los hospitales por dolencias y afecciones menores en las que los costos del tratamiento son mucho más altos. Finalmente, un mejor manejo de las condiciones crónicas en los entornos de atención primaria contribuiría a prevenir el deterioro y la necesidad de atención hospitalaria. Por ejemplo, los médicos de cabecera y los médicos de familia privados vinculados al sistema myHealth ahora pueden hacer derivaciones para servicios que antes solo podían solicitar los especialistas del hospital. Además, la gama de servicios prestados en la atención primaria se ha ampliado para incluir, por ejemplo, clínicas de gestión de enfermedades crónicas y clínicas de estilo de vida saludable.",
         "3"
        ],
        [
         "48",
         "Las microrregiones en Hungría son subregiones estadísticas. Hay 149 microrregiones en total y Budapest no está incluida en el sistema. La atención diurna comprende los servicios de atención de la salud que se brindan a los pacientes que ingresan formalmente en hospitales, establecimientos ambulatorios o centros autónomos, pero con la intención de dar de alta al paciente el mismo día.",
         "3"
        ],
        [
         "49",
         "El piloto tuvo tanto éxito que ahora estamos construyendo una plataforma digital permanente para él. Lo mismo ocurre en todos los países: los países con mejor desempeño en PISA, como Japón, Singapur y Corea del Sur en Asia, Estonia y Finlandia en Europa, y Canadá en América del Norte, también obtuvieron los primeros lugares en la evaluación PISA de resolución colaborativa de problemas. Por ejemplo, a los estudiantes japoneses les fue muy bien en esas materias, pero les fue aún mejor en la resolución colaborativa de problemas.",
         "4"
        ]
       ],
       "shape": {
        "columns": 2,
        "rows": 2424
       }
      },
      "text/html": [
       "<div>\n",
       "<style scoped>\n",
       "    .dataframe tbody tr th:only-of-type {\n",
       "        vertical-align: middle;\n",
       "    }\n",
       "\n",
       "    .dataframe tbody tr th {\n",
       "        vertical-align: top;\n",
       "    }\n",
       "\n",
       "    .dataframe thead th {\n",
       "        text-align: right;\n",
       "    }\n",
       "</style>\n",
       "<table border=\"1\" class=\"dataframe\">\n",
       "  <thead>\n",
       "    <tr style=\"text-align: right;\">\n",
       "      <th></th>\n",
       "      <th>textos</th>\n",
       "      <th>labels</th>\n",
       "    </tr>\n",
       "  </thead>\n",
       "  <tbody>\n",
       "    <tr>\n",
       "      <th>0</th>\n",
       "      <td>\"Aprendizaje\" y \"educación\" se consideran sinó...</td>\n",
       "      <td>4</td>\n",
       "    </tr>\n",
       "    <tr>\n",
       "      <th>1</th>\n",
       "      <td>Para los niños más pequeños (bebés y niños peq...</td>\n",
       "      <td>4</td>\n",
       "    </tr>\n",
       "    <tr>\n",
       "      <th>2</th>\n",
       "      <td>Además, la formación de especialistas en medic...</td>\n",
       "      <td>3</td>\n",
       "    </tr>\n",
       "    <tr>\n",
       "      <th>3</th>\n",
       "      <td>En los países de la OCDE se tiende a pasar de ...</td>\n",
       "      <td>4</td>\n",
       "    </tr>\n",
       "    <tr>\n",
       "      <th>4</th>\n",
       "      <td>Este grupo se centró en las personas que padec...</td>\n",
       "      <td>3</td>\n",
       "    </tr>\n",
       "    <tr>\n",
       "      <th>...</th>\n",
       "      <td>...</td>\n",
       "      <td>...</td>\n",
       "    </tr>\n",
       "    <tr>\n",
       "      <th>2419</th>\n",
       "      <td>La tutoría de carrera está diseñada para apoya...</td>\n",
       "      <td>4</td>\n",
       "    </tr>\n",
       "    <tr>\n",
       "      <th>2420</th>\n",
       "      <td>Fuente: Ministerio de Educación. Las Tasas Int...</td>\n",
       "      <td>4</td>\n",
       "    </tr>\n",
       "    <tr>\n",
       "      <th>2421</th>\n",
       "      <td>Y desde 2010, el PNUD ha sido pionero en la pu...</td>\n",
       "      <td>1</td>\n",
       "    </tr>\n",
       "    <tr>\n",
       "      <th>2422</th>\n",
       "      <td>Sin embargo, estas fallas del mercado implican...</td>\n",
       "      <td>3</td>\n",
       "    </tr>\n",
       "    <tr>\n",
       "      <th>2423</th>\n",
       "      <td>Aunque existen programas para convertirse espe...</td>\n",
       "      <td>4</td>\n",
       "    </tr>\n",
       "  </tbody>\n",
       "</table>\n",
       "<p>2424 rows × 2 columns</p>\n",
       "</div>"
      ],
      "text/plain": [
       "                                                 textos  labels\n",
       "0     \"Aprendizaje\" y \"educación\" se consideran sinó...       4\n",
       "1     Para los niños más pequeños (bebés y niños peq...       4\n",
       "2     Además, la formación de especialistas en medic...       3\n",
       "3     En los países de la OCDE se tiende a pasar de ...       4\n",
       "4     Este grupo se centró en las personas que padec...       3\n",
       "...                                                 ...     ...\n",
       "2419  La tutoría de carrera está diseñada para apoya...       4\n",
       "2420  Fuente: Ministerio de Educación. Las Tasas Int...       4\n",
       "2421  Y desde 2010, el PNUD ha sido pionero en la pu...       1\n",
       "2422  Sin embargo, estas fallas del mercado implican...       3\n",
       "2423  Aunque existen programas para convertirse espe...       4\n",
       "\n",
       "[2424 rows x 2 columns]"
      ]
     },
     "execution_count": 65,
     "metadata": {},
     "output_type": "execute_result"
    }
   ],
   "source": [
    "df_textC"
   ]
  },
  {
   "cell_type": "code",
   "execution_count": 66,
   "id": "3e53058f",
   "metadata": {},
   "outputs": [
    {
     "name": "stdout",
     "output_type": "stream",
     "text": [
      "<class 'pandas.core.frame.DataFrame'>\n",
      "RangeIndex: 2424 entries, 0 to 2423\n",
      "Data columns (total 2 columns):\n",
      " #   Column  Non-Null Count  Dtype \n",
      "---  ------  --------------  ----- \n",
      " 0   textos  2424 non-null   object\n",
      " 1   labels  2424 non-null   int64 \n",
      "dtypes: int64(1), object(1)\n",
      "memory usage: 38.0+ KB\n"
     ]
    }
   ],
   "source": [
    "df_textC.info()"
   ]
  },
  {
   "cell_type": "markdown",
   "id": "b709c98c",
   "metadata": {},
   "source": [
    "### 2.2 Estadisticas Descriptivas\n",
    "Vamos a analizar los textos por medio de **maximo** , **minimo** y **moda** "
   ]
  },
  {
   "cell_type": "code",
   "execution_count": 67,
   "id": "7dab7c04",
   "metadata": {},
   "outputs": [],
   "source": [
    "from collections import Counter\n",
    "\n",
    "texts = df_textC.copy()\n",
    "texts['Count'] = [len(x) for x in texts['textos']]\n",
    "texts['Max'] = [[max([len(x) for x in i.split(' ')])][0] for i in texts['textos']]\n",
    "texts['Min'] = [[min([len(x) for x in i.split(' ')])][0] for i in texts['textos']]\n",
    "texts[\"Moda\"] = [Counter(i.split(\" \")).most_common(1)[0][0] for i in texts[\"textos\"] ]\n",
    "#ProfileReport(texts)"
   ]
  },
  {
   "cell_type": "code",
   "execution_count": 68,
   "id": "1fbdfc95",
   "metadata": {},
   "outputs": [
    {
     "data": {
      "application/vnd.microsoft.datawrangler.viewer.v0+json": {
       "columns": [
        {
         "name": "index",
         "rawType": "int64",
         "type": "integer"
        },
        {
         "name": "textos",
         "rawType": "object",
         "type": "string"
        },
        {
         "name": "labels",
         "rawType": "int64",
         "type": "integer"
        },
        {
         "name": "Count",
         "rawType": "int64",
         "type": "integer"
        },
        {
         "name": "Max",
         "rawType": "int64",
         "type": "integer"
        },
        {
         "name": "Min",
         "rawType": "int64",
         "type": "integer"
        },
        {
         "name": "Moda",
         "rawType": "object",
         "type": "string"
        }
       ],
       "ref": "c4d7d355-382a-42cd-86e7-9afe70469a4f",
       "rows": [
        [
         "0",
         "\"Aprendizaje\" y \"educación\" se consideran sinónimos de escolarización formal. Las organizaciones auxiliares, como las editoriales de educación, las juntas examinadoras y las organizaciones de formación de docentes, se consideran extensiones de los acuerdos establecidos por los gobiernos. Este marco de comprensión se ha vuelto cada vez más inadecuado.",
         "4",
         "352",
         "14",
         "1",
         "de"
        ],
        [
         "1",
         "Para los niños más pequeños (bebés y niños pequeños), la capacitación especializada y práctica parece estar más fuertemente asociada con la calidad pedagógica y los resultados cognitivos y sociales. Los educadores de la primera infancia se encuentran con entornos sociales cada vez más complejos y se encuentran con una multiplicidad de antecedentes y experiencias familiares. Estos factores crean imperativos para adoptar nuevas pedagogías y prácticas organizacionales para acomodar este pluralismo (Elliott, 2006).",
         "4",
         "516",
         "16",
         "1",
         "y"
        ],
        [
         "2",
         "Además, la formación de especialistas en medicina general también incluye tareas que requieren un conocimiento más profundo de problemas comunes de salud pública, incluida la salud mental (Cuestionario de salud mental de la OCDE, 2013). Dado que no hay control en la atención primaria para limitar el acceso a los servicios de salud (mental) especializados, muchos pacientes que necesitan tratamiento (para trastornos mentales graves en particular) pueden buscar atención de nivel especializado directamente. Los servicios de especialistas en psiquiatría se brindan principalmente en las salas ambulatorias de psiquiatría ubicadas en los hospitales generales.",
         "3",
         "659",
         "15",
         "1",
         "de"
        ],
        [
         "3",
         "En los países de la OCDE se tiende a pasar de los cursos obligatorios a los optativos, abiertos a estudiantes de distintas facultades y escuelas. Este planteamiento facilita la formación de equipos de estudiantes con distintas formaciones e intereses. El trabajo en equipos interdisciplinares permite a los individuos concentrarse en lo que mejor saben y les gusta y, al mismo tiempo, familiarizarse con nuevos conocimientos que pueden asociarse a una nueva forma de resolver un problema o crear un nuevo producto o servicio. No está claro hasta qué punto estos cursos utilizan métodos pedagógicos creativos y se adaptan a las necesidades de los estudiantes de grado, postgrado y licenciatura.",
         "4",
         "693",
         "18",
         "1",
         "de"
        ],
        [
         "4",
         "Este grupo se centró en las personas que padecen trastornos mentales con comorbilidad de abuso de sustancias (mientras que la demencia, la discapacidad intelectual y el abuso de sustancias por sà solos quedaron excluidos del ámbito de análisis). Con 90 millones de euros de financiación, la comisión dispuso de tres años para \"iniciar y apoyar el desarrollo de proyectos a todos los niveles (tratamiento médico, mejora de los servicios, proyectos de vivienda, mejoras legislativas y organizativas) y proponer las medidas necesarias para elevar de forma permanente el nivel de los servicios de salud mental\". ",
         "3",
         "608",
         "14",
         "0",
         "de"
        ],
        [
         "5",
         "Los datos a nivel del sistema que no se derivan del cuestionario para estudiantes o escuelas de PISA 2015 se extraen de la publicación anual de la OCDE. Panorama de la educación, para aquellos países y economías que participan en esa recopilación periódica de datos. Para otros países y economías, se llevó a cabo una recopilación de datos a nivel de sistema especial en colaboración con los miembros de la Junta de Gobierno de PISA y los directores de proyectos nacionales.",
         "4",
         "474",
         "12",
         "1",
         "de"
        ],
        [
         "6",
         "La principal ventaja de las evaluaciones externas es su fiabilidad. Garantizan que todos los estudiantes son evaluados en las mismas tareas y que los resultados se miden con los mismos estándares. Además, las evaluaciones externas suelen realizarse bajo supervisión, lo que garantiza que lo que se evalúa es el propio trabajo de los estudiantes.",
         "4",
         "345",
         "12",
         "1",
         "que"
        ],
        [
         "7",
         "Los pacientes pueden elegir a cualquier médico de cabecera, pero como no hay un sistema de control, también pueden elegir visitar directamente a cualquier especialista médico. Hay pocos contactos ambulatorios por persona (58 en 2015) y una gobernanza de atención primaria débil (por ejemplo, falta de inspección estatal, políticas de atención primaria de apoyo). También existe un relativo subdesarrollo de la fuerza laboral de atención primaria con bajos niveles de ingresos en relación con los especialistas. Más positivamente, se ha juzgado que el sistema de atención primaria es relativamente efectivo y eficiente con respecto a la coordinación y la integralidad de la atención (Ktingos et al, 2015, Kringosetal, 2013).",
         "3",
         "723",
         "14",
         "1",
         "de"
        ],
        [
         "8",
         "De hecho, es probable que la designación de la universidad como universidad APEX aleje aún más a la institución del compromiso regional. Brindan acceso a un gran número de estudiantes y estudiantes graduados de la región, muchos de los cuales permanecen dentro de la región en busca de empleo. A través de la participación de los estudiantes en la región a través de pasantías, actividades de voluntariado y otras formas, las instituciones tienen un impacto en la región. Excepto por la información básica sobre el número de admisiones, matriculación y graduados, no se disponía de información sustantiva sobre la sucursal de UiTM en Penang, los dos politécnicos, los cuatro colegios comunitarios y las instituciones privadas en Penang y sobre las instituciones de educación superior en los otros tres estados. (Perlis, Kedah y Perak) en la Región Económica del Corredor Norte más grande. Por lo tanto, los hallazgos y observaciones se basan en una perspectiva limitada de las instituciones de educación superior en la región.",
         "4",
         "1026",
         "13",
         "1",
         "de"
        ],
        [
         "9",
         "De hecho, aunque Chile y Uruguay tienen índices de pobreza similares, la pobreza infantil en Chile es 1,8 veces mayor que la de la población adulta, mientras que en Uruguay es 3,1 veces mayor. Esto produciría tasas de pobreza infantil artificialmente altas. Esta línea representa el costo de satisfacer las necesidades básicas de una persona. Medir la pobreza de esta manera supone que el costo per cápita de satisfacer las necesidades básicas de un individuo no se ve afectado por el número de personas que viven en un hogar o por las características demográficas del hogar.",
         "1",
         "575",
         "15",
         "1",
         "de"
        ],
        [
         "10",
         "Según el Informe sobre el Consumo de Drogas en las Américas de 2015,3' se informó que la prevalencia anual de cannabis entre los estudiantes de secundaria en América Central fue más alta en Belice, con un 15,8 %, y más baja en Honduras, con un poco más del 1 %. centavo. Se informaron tasas de prevalencia de menos del 5 por ciento en Antigua y Barbuda, Barbados, Dominica, República Dominicana, El Salvador, Guyana, Haití, Honduras, Panamá, Saint Kitts y Nevis y San Vicente y las Granadinas. Según el Informe sobre el Consumo de Drogas en las Américas de 2015, la prevalencia anual del uso indebido de cocaína entre estudiantes de secundaria en el Caribe oscila entre el 0,5 % y un poco más del 2 %.",
         "3",
         "701",
         "11",
         "1",
         "de"
        ],
        [
         "11",
         "El acuerdo de desempeño describe los objetivos clave que la institución debe esforzarse por lograr en el transcurso de un período de tres años. El ministerio se reúne con cada institución durante el año para discutir el progreso hacia el logro de estos objetivos. Se requiere que cada institución al final del año reporte datos a la Base de Datos de Estadísticas de Educación Superior (DBH) y presente un informe anual al ministerio. Esta información es utilizada por el ministerio para desarrollar un informe anual sobre el estado de la educación superior y para desarrollar una carta de retroalimentación anual para las instituciones sobre su desempeño anual (Larsen et al.,",
         "4",
         "676",
         "17",
         "1",
         "de"
        ],
        [
         "12",
         "Los únicos países que exigen un máster para enseñar preescolar son Inglaterra, Francia, Islandia e Italia. Este nivel de formación se exige para enseñar primaria en 11 de los 35 países de los que se dispone de datos, para enseñar estudios generales de primer ciclo de secundaria en 16 países y para enseñar segundo ciclo de secundaria en 22 países (véase la tabla D6.1 a, b, c y d). En cambio, casi el 40% de los profesores se sienten insuficientemente preparados para los aspectos pedagógicos de la enseñanza, que es la proporción más alta en cualquiera de los 34 países que participaron en la encuesta TALIS (véase el gráfico D6.a). En Francia, la proporción era inferior (76%), y aún más baja en los centros privados (sólo el 69%, frente a una media TALIS del 86%).",
         "4",
         "768",
         "17",
         "1",
         "de"
        ],
        [
         "13",
         "Hay una tendencia creciente de una mayor proporción de graduados en artes en comparación con las corrientes técnicas y científicas. Al mismo tiempo, las escuelas técnicas y vocacionales están produciendo un número decreciente de graduados. Hay un reconocimiento creciente de la necesidad de fortalecer estos programas de capacitación en Penang. Por ejemplo, el centro de desarrollo de habilidades de Penang (PSDC) se estableció en 1989.",
         "4",
         "436",
         "14",
         "1",
         "de"
        ],
        [
         "14",
         "Esto podría involucrar un sistema de acreditación para certificar a las escuelas como capaces de administrar un presupuesto para gastos operativos como parte de los procesos de evaluación escolar por medio de inspecciones (ver Capítulo 4). El otorgamiento de autonomía debe entonces estar asociado con un monitoreo relevante y enfocado, especialmente el monitoreo de los resultados (ver también el Capítulo 2). Se les debe exigir que desarrollen un plan de desarrollo escolar que vincule las prioridades educativas de la escuela con sus intenciones de gasto en colaboración con la comunidad escolar.",
         "4",
         "599",
         "13",
         "1",
         "de"
        ],
        [
         "15",
         "Un estudiante pobre en Costa Rica tiene menos de uno en diez posibilidades de llegar a la universidad, una brecha de oportunidades mucho mayor que en la mayoría de los países de la OCDE. Pero los impulsores clave de la mejora en los sistemas educativos que mejoran más rápidamente (un impulso concertado para expandir la educación en los primeros años, altas expectativas profesionales para los maestros, liderazgo para la mejora por parte de las escuelas y sólidos sistemas de información y evaluación que pueden guiar la reforma) aún no se han logrado. ganó el impulso necesario en Costa Rica. Su papel en la nivelación del campo de juego para los niños de las familias más desfavorecidas es particularmente crítico.",
         "4",
         "718",
         "15",
         "1",
         "de"
        ],
        [
         "16",
         "De los gráficos se puede ver que el 73,4 por ciento de los niños no están privados en absoluto en uno de estos tres dominios, mientras que el 1,9 por ciento de los niños están privados simultáneamente en los tres. Aproximadamente el 3,5 por ciento de los niños belgas están privados de ocio y educación solo frente al 11 por ciento en la comunidad únicamente. Existen privaciones superpuestas en ocio y comunidad para el 1,5 por ciento, en educación y comunidad para el 1,3 por ciento, y en ocio y educación para el 3,5 por ciento. En general, podemos concluir que relativamente pocos de los niños que viven en Bélgica se enfrentan a múltiples privaciones superpuestas mientras que, para aquellos que sufren privaciones, predomina la privación en el ámbito comunitario.",
         "1",
         "769",
         "15",
         "1",
         "en"
        ],
        [
         "17",
         "El personal docente está formado por miembros cristianos, judíos y musulmanes. Los programas de estudio integran práctica, educación y teoría. Las tasas de matrícula son altas y los estudiantes pagan USD 2 500. Para 2010, el presupuesto de la universidad es de USD 1,8 millones: el 50 % del presupuesto está cubierto por el consejo de administración (principalmente del estado de Illinois y Austria), el 25 % de las tasas de matrícula, el resto por la comunidad árabe local.",
         "4",
         "474",
         "15",
         "1",
         "de"
        ],
        [
         "18",
         "En Portugal, los indicadores de la experiencia del paciente figuran entre los utilizados para contratar la asistencia sanitaria \"primaria\". Aunque la mayoría de los sistemas sanitarios de la OCDE cuentan al menos con algunas encuestas para recoger las PREM, a menudo no se hace de forma estandarizada (como se observa en Corea y Australia) y se suele recoger con poca frecuencia (en Japón, por ejemplo, las PREM se recogen una vez cada tres años). En un sistema en el que los datos de PROM se hacen públicos, pueden utilizarse para ayudar a los pacientes a tomar decisiones mejor informadas. Lo ideal sería que los datos de PROM se transmitieran a los médicos para ayudarles a mejorar la atención y los resultados de los pacientes.",
         "3",
         "731",
         "13",
         "1",
         "los"
        ],
        [
         "19",
         "Pocos países ya han logrado construir EPR. El proyecto del Reino Unido (Connecting for Health) se ha retrasado varias veces. Uno de los pocos éxitos lo ha logrado la provincia canadiense de Alberta, que tiene una población ligeramente menor que la de Finlandia. La información también podría usarse para promover aún más la medicina basada en la evidencia y comparar a los proveedores, como en el Hospital Benchmarking Project desarrollado desde 1996 (Hakkinen, 2010).",
         "3",
         "468",
         "12",
         "1",
         "la"
        ],
        [
         "20",
         "Por otro lado, aunque el consumo general de alcohol es alto, las tasas de consumo excesivo de alcohol1 en Austria (19 %) están ligeramente por debajo de la media de la UE (20 %) Entre los adolescentes en 2013-14, el 20 % de las niñas de 15 años y el de los chicos de 15 años declararon haberse emborrachado al menos dos veces en su vida, una proporción similar a la media de la UE. Si bien esta proporción sigue siendo más baja que en la mayoría de los demás países de la UE, ha aumentado sustancialmente desde 1999, cuando solo el 9 % de los adultos austriacos eran obesos. Los adultos austriacos se encuentran entre los más activos físicamente de la UE, pero la inactividad física entre los jóvenes de 15 años es relativamente alta.",
         "3",
         "734",
         "15",
         "1",
         "de"
        ],
        [
         "21",
         "Este último tema es particularmente importante cuando el material curricular o las tareas educativas tienen poca relevancia o significado para los grupos dentro de la población estudiantil, incluidos los estudiantes indígenas (Young, 2010). En comparación con otros estudiantes en sus propios países, los tres grupos de bajo rendimiento realizan menos tareas cada semana, y este indicador es particularmente pronunciado entre los alumnos de bajo rendimiento en Australia (Figura 6.3).",
         "4",
         "484",
         "15",
         "1",
         "los"
        ],
        [
         "22",
         "Por lo tanto, la educación y el cuidado de la primera infancia (EAPI) de alta calidad pueden generar mejores resultados en las etapas posteriores de la vida. Por ejemplo, el número de años pasados ​​en la EAPI es un fuerte predictor del nivel de desempeño dentro y fuera de las escuelas alcanzado en etapas posteriores. Del mismo modo, los niños de origen inmigrante y los niños más desfavorecidos a nivel mundial pueden beneficiarse al máximo de asistir a una EAPI de alta calidad. Sin embargo, los beneficios de asistir a ECEC no se limitan a los resultados del aprendizaje.",
         "4",
         "576",
         "14",
         "1",
         "de"
        ],
        [
         "23",
         "Los solicitantes también deben estar buscando trabajo activamente y, en la mayoría de los casos, el desempleo debe ser involuntario, aunque esto puede ser difícil de observar en la práctica y la definición varía según los países. La duración de los beneficios está limitada en la mayoría de los países, pero no en todos. El seguro es obligatorio para la mayoría de los empleados, pero voluntario en algunos países nórdicos. Los buscadores de empleo cuyo derecho a las prestaciones del seguro de desempleo haya expirado, o cuyo historial laboral sea insuficiente para hacerlos elegibles en primer lugar, pueden tener derecho a la asistencia por desempleo. En algunos países, la asistencia por desempleo es la principal prestación por desempleo.",
         "1",
         "743",
         "13",
         "1",
         "la"
        ],
        [
         "24",
         "La Sección 3 investiga estrategias para promover una formación profesional de calidad, incluidos los aprendizajes, mientras que la Sección 4 se centra en el apoyo a los estudiantes en riesgo. Para una descripción más detallada y una evaluación del sistema educativo de Letonia, véase OCDE (2015e). El Ministerio de Educación y Ciencia (MoES) nacional tiene la función de supervisión y, a través del Centro Nacional de Educación subordinado, establece los estándares educativos nacionales y determina los planes de estudio y los procedimientos de examen. Proporciona el marco regulatorio para la provisión de educación vocacional y emplea a los directores de los establecimientos VET.1 También mantiene el registro de estándares ocupacionales y estudia las demandas de habilidades del mercado laboral.",
         "4",
         "800",
         "16",
         "1",
         "de"
        ],
        [
         "25",
         "Las personas con entre siete y nueve años de escolaridad tienen un índice de pobreza similar al promedio. Como era de esperar, el porcentaje de pobres es mayor entre los desempleados que entre los ocupados y los económicamente inactivos. Además, entre los ocupados, la tasa de pobreza es menor para los asalariados que para los trabajadores por cuenta propia, quienes en varios países tienen una tasa de pobreza similar a la de la población económicamente inactiva. Esto plantea la pregunta de si las políticas públicas para el alivio de la pobreza están poniendo suficiente énfasis en el logro de estándares mínimos. Una mirada más amplia a la pobreza, incluidas las deficiencias en esferas como la protección social y los ingresos, explora la relación entre las diferentes dimensiones de la privación. En particular, explora conceptual y empíricamente diferentes dimensiones, umbrales y formas de sumar dimensiones para avanzar hacia la construcción de un índice de pobreza multidimensional relevante y aplicable en toda la región.",
         "1",
         "1033",
         "16",
         "1",
         "de"
        ],
        [
         "26",
         "En algunos países, los alumnos son segregados en diferentes vías a edades tempranas, reflejando la noción de que sólo algunos niños pueden alcanzar niveles de clase mundial. Pero PISA muestra que esa selección está relacionada con grandes disparidades sociales. Por el contrario, en países tan diferentes como Estonia, Canadá, Finlandia y Japón, padres y profesores están comprometidos con la creencia de que todos los alumnos pueden alcanzar altos niveles.",
         "4",
         "457",
         "13",
         "1",
         "de"
        ],
        [
         "27",
         "Es esencial garantizar que el acceso a los servicios de salud no se vuelva menos equitativo como resultado de las intervenciones de GHP. Los nuevos GHPS deben introducirse solo cuando respalden estos objetivos. De esta manera, las intervenciones de GHP pueden responder a las características específicas de los sistemas de salud domésticos y sus respectivas necesidades.",
         "3",
         "370",
         "15",
         "1",
         "de"
        ],
        [
         "28",
         "Se cree que un currículo integrado de este tipo contribuye a una EPI de alta calidad y a un mejor comportamiento social (Tabla 1.2) (Bennett, 2004, Siraj-Blatchford, 2010). Por ejemplo, se considera que Suecia tiene una educación de la primera infancia de alta calidad, en parte porque los contenidos de su currículo conceden el mismo valor al aprendizaje social y cognitivo (Sheridan et al., 2010). ",
         "4",
         "400",
         "17",
         "0",
         "de"
        ],
        [
         "29",
         "En la mayoría de los países, el ingreso familiar también incluye el valor de alquiler imputado de las viviendas ocupadas por sus propietarios. En Chile, la pobreza disminuyó levemente entre 2006 y 2009, y la tasa de indigencia permaneció básicamente sin cambios.3 Las tasas de pobreza e indigencia en El Salvador no cambiaron entre 2004 y 2009. Para Chile, las cifras aquí presentadas difieren por primera vez de las estimaciones oficiales del país (MIDEPLAN.",
         "1",
         "459",
         "13",
         "1",
         "de"
        ],
        [
         "30",
         "Según los directores de escuela que participaron en PISA 2015, el estudiante promedio en los países de la OCDE asiste a una escuela donde el 84 % de los docentes han obtenido la certificación completa, pero esta proporción varía ampliamente, desde el 100 % en Macao (China) hasta alrededor del 10 % en Colombia. Los hallazgos muestran que la proporción de docentes que han sido certificados para enseñar se asocia positivamente con el desempeño de los estudiantes en solo unos pocos países seleccionados, tanto antes como después de tener en cuenta el perfil socioeconómico de los estudiantes y las escuelas (Figura 1.9). Este débil impacto general no es sorprendente, dados los diferentes estándares utilizados en diferentes países para certificar a los docentes y el hecho de que la mayoría de los países tienen un alto porcentaje de docentes certificados.",
         "4",
         "858",
         "14",
         "1",
         "de"
        ],
        [
         "31",
         "La ventaja relativamente pequeña de las mujeres en África en 2010-2015 es principalmente una consecuencia del impacto diferencial de la epidemia de VIH/SIDA en los niveles de mortalidad por sexo, con una prevalencia estimada del VIH mayor entre las mujeres que entre los hombres. En las regiones más desarrolladas, la ventaja femenina es mayor en Europa (7,4 años o 11,3 por ciento) que en América del Norte (4,7 años o 6,1 por ciento) y Oceanía, que incluye Australia y Nueva Zelanda. La tasa de mortalidad infantil, también conocida como \"tasa de mortalidad de menores de cinco años\"1, disminuyó a un ritmo notable de alrededor del 3 por ciento anual entre 1990 y 2015.",
         "3",
         "671",
         "14",
         "1",
         "de"
        ],
        [
         "32",
         "En el MEP se reconoce que la evaluación reformada debe pasar de evaluar el conocimiento de los contenidos a examinar las habilidades de los estudiantes para aplicar y utilizar los conocimientos de forma que demuestren competencias de orden superior. Esto supondrá una mejora significativa con respecto a la evaluación anterior, que sólo captaba una gama limitada de actividades de aprendizaje. Pero la nueva evaluación debe incluir también otras modificaciones.",
         "4",
         "461",
         "15",
         "1",
         "de"
        ],
        [
         "33",
         "Un incidente de gran importancia en la historia de la atención de la salud mental en Japón fue el ataque con cuchillo del entonces embajador de EE. UU. en Japón, Edwin Reischauer, por parte de una persona con esquizofrenia en 1964. Este ataque generó una alarma pública significativa y contribuyó a aumentar el estigma de las enfermedades mentales. , impulsado por una campaña en los medios de comunicación, además de los altos niveles existentes de estigma dirigido hacia los trastornos mentales. Este incidente también contribuyó a la revisión de 1965 de la Ley de Higiene Mental discutida anteriormente. En 1993, la Ley de Salud Mental fue enmendada nuevamente, con un enfoque particular en la atención en la comunidad, incluida la autorización de la construcción de hogares grupales en la comunidad para personas con trastornos mentales (Tatara y Okamoto, 2009). La Ley de Atención de Salud Comunitaria introducida en 1994 y apoyó aún más el establecimiento de un sistema de salud mental basado en la comunidad.",
         "3",
         "1015",
         "15",
         "1",
         "de"
        ],
        [
         "34",
         "El liderazgo en particular, factor clave de la eficacia escolar, no parece figurar con fuerza en los marcos de evaluación. El proyecto \"Estrategias de desarrollo del liderazgo escolar\" de la asociación nacional Smarter Schools, que está llevando a cabo la AITSL, pretende desarrollar un enfoque nacional para mejorar la capacidad de liderazgo escolar. Típicamente, una revisión escolar va seguida de la formulación de recomendaciones de mejora que se supone que la escuela debe aplicar tras la preparación de un plan de mejora. Sin embargo, el Equipo de Revisión se formó la opinión de que el grado de seguimiento por parte de las autoridades de revisión escolar era variable, incluso dentro de una misma jurisdicción educativa, dependiendo de la capacidad de las redes regionales.",
         "4",
         "781",
         "15",
         "1",
         "de"
        ],
        [
         "35",
         "Sin embargo, los resultados empíricos sugieren que se puede obtener un uso de los recursos educativos que aumente la equidad a través de políticas que proporcionen las señales pertinentes a las escuelas y los docentes: por ejemplo, brindar incentivos financieros a los docentes calificados puede resultar una herramienta eficaz para dirigirse a los estudiantes desfavorecidos. o áreas. En tercer lugar, este trabajo llena un vacío en la investigación empírica al proporcionar evidencia entre países (a diferencia de países específicos) sobre la importancia de la política de intervención temprana para atenuar las desigualdades socioeconómicas intergeneracionales en las oportunidades educativas. Sugiere que las políticas de cuidado infantil e intervención temprana podrían ser efectivas para alcanzar este objetivo. Finalmente, el análisis entre países intenta descubrir el papel que juegan las políticas sociales y del mercado laboral para influir en la igualdad de oportunidades educativas, dada la relación positiva entre la desigualdad intergeneracional y transversal (de ingresos).",
         "4",
         "1088",
         "19",
         "1",
         "de"
        ],
        [
         "36",
         "En 2016 se publicó el primer informe del Consejo Asesor para el Desarrollo de Indicadores de Calidad y se estableció un sistema de seguimiento público de los indicadores de calidad. Desde 2002, EHIF ha llevado a cabo cinco auditorías clínicas en colaboración con expertos cada año. Los ejemplos de 2013 sugieren que el 67,5 % de las visitas a especialistas por hipertensión y el 20 % de las visitas a especialistas por diabetes podrían considerarse 'evitables' y manejarse de manera más adecuada en la atención primaria.",
         "3",
         "520",
         "13",
         "1",
         "de"
        ],
        [
         "37",
         "El sistema educativo tiene una serie de características que promueven la equidad, incluida una alta proporción de estudiantes matriculados en educación de la primera infancia, baja repetición de grado y escolarización integral hasta los 16 años. Las tasas de graduación de la secundaria superior son altas, al igual que las tasas de matriculación en educación y formación profesional. (FP), pero el abandono de la FP también es alto. La educación terciaria es accesible para todos, a través de políticas como un plan de subvenciones y préstamos financiado con fondos públicos. En la Encuesta de habilidades de adultos de la OCDE, los adultos en Dinamarca demuestran habilidades de alfabetización por debajo del promedio y habilidades de aritmética por encima del promedio en comparación con el promedio en los países participantes, y los adultos más jóvenes obtienen puntajes alrededor del promedio.",
         "4",
         "899",
         "15",
         "1",
         "de"
        ],
        [
         "38",
         "La mayoría de las personas de 25 a 64 años en Alemania (55 %) han obtenido una cualificación profesional en el nivel secundario superior o postsecundario, la cuarta proporción más grande entre los países con datos disponibles (el promedio de la OCDE es del 33 %). Debido a la alta incidencia de cualificaciones profesionales y al hecho de que un título general (principalmente Abitur) se dedica a la educación superior y no a la entrada directa en el mercado laboral, solo el 3 % de los adultos obtienen una cualificación general de secundaria superior o postsecundaria como grado más alto, una de las proporciones más bajas entre los países de la OCDE (el promedio de la OCDE es del 12 %) (Tabla Al. Entre 2005 y 2012, las tasas de desempleo se redujeron en 7 puntos porcentuales entre los adultos sin educación secundaria superior (del 20,1 % al 12,8 %) , en 6 puntos porcentuales entre los que tienen educación secundaria superior o postsecundaria no terciaria (del 11,0 % al 5,3 %) y en 3 puntos porcentuales entre los que tienen un título terciario (del 5,6 % al 2,4 %).",
         "4",
         "1075",
         "15",
         "1",
         "de"
        ],
        [
         "39",
         "Una excelente atención médica será fundamental para lograrlo. Hasta ahora, la atención médica japonesa ha tenido un buen desempeño: la esperanza de vida es larga, 83,2 años en comparación con un promedio de la OCDE de 80,2 años, mientras que el gasto en salud es de USD 3 649 PPA per cápita por año, ligeramente superior a USD 3 484 en promedio. . Una característica llamativa del sistema de salud japonés es su apertura y flexibilidad.",
         "3",
         "436",
         "14",
         "1",
         "de"
        ],
        [
         "40",
         "Para consolidar aún más el marco de evaluación y evaluación, hay espacio para incorporar enfoques de evaluación y evaluación con objetivos educativos más amplios, continuar construyendo sobre el profesionalismo docente y construir redes y capacidad para una evaluación y evaluación efectivas y con visión de futuro, en particular en las áreas de la evaluación de los alumnos en el aula, la evaluación de los docentes y la autoevaluación de la escuela. Después de esta descripción general, los capítulos siguientes (3-6) analizarán los problemas relacionados con cada componente individual con mayor profundidad. El término \"evaluación\" se utiliza para referirse a los juicios sobre el desempeño individual de los estudiantes y el logro de las metas de aprendizaje.",
         "4",
         "764",
         "15",
         "1",
         "de"
        ],
        [
         "41",
         "Este capítulo comienza con una descripción general de las reformas de Tailandia relacionadas con el uso de las TIC en la educación, y luego proporciona un análisis de los problemas de política relacionados con esta área, presentando recomendaciones para mejorar para apoyar el uso de las TIC para mejorar la calidad y la equidad de la educación. sistema educativo en su conjunto. El objetivo de estas estrategias ha sido utilizar las TIC para crear una \"Tailandia inteligente\": una sociedad que sea \"inteligente y alfabetizada en información\", donde el conocimiento beneficie a los ciudadanos y a la \"sociedad en su conjunto\" (Ministerio de TIC, 2009a). La educación ha sido un pilar clave en estos esfuerzos.",
         "4",
         "709",
         "15",
         "1",
         "de"
        ],
        [
         "42",
         "Primero, el programa de Fortalecimiento de la Gestión Escolar, que invertirá MEX 41 millones en 595 escuelas, busca apoyar a los líderes escolares en la gestión de los recursos escolares (Gobiemo de Morelos, 2016a). Con una ambición similar, el programa Escuelas de Calidad (Programa Escuelas de Cualidad) tiene como objetivo fortalecer la autonomía de las instituciones de educación básica en la gestión de los recursos, al tiempo que apoya a cada escuela y su Consejo Técnico Escolar en la adopción de mejores prácticas que pueden ayudarlos a cumplir con la planificación. , evaluación y asignación de responsabilidades presupuestarias de manera efectiva. A través de una inversión de MEX 26.57 millones en 2015-16, un total de 475 escuelas se benefician del programa que, en comparación con el año anterior, representa una expansión a 55 escuelas nuevas (Gobiemo de Morelos, 2016a). Otro componente del programa Escuelas de Calidad implica la evaluación de los maestros en la instrucción de sus salones de clase y de los directores en su capacidad para liderar, así como actividades para aumentar la participación de los padres en el aprendizaje de sus hijos. Es probable que los costos de instrucción de los niños desfavorecidos sean más altos que los de los más acomodados y Morelos está tomando medidas positivas para paliar esas necesidades.",
         "4",
         "1348",
         "17",
         "1",
         "de"
        ],
        [
         "43",
         "Actualmente existen en el país más de 4.500 centros de tratamiento y rehabilitación privados y alrededor de 600 públicos. Según las estadísticas oficiales, en 2014 había un total de 65.216 personas registradas como consumidores de drogas en Kazajstán, Kirguistán, Tayikistán y Uzbekistán, frente a un total de 73.345 personas en 2013. Número de drogodependientes registrados oficialmente en Kazajstán en 2014 se situó en 34.221 personas, lo que representa una disminución significativa en comparación con las 40.224 personas en 2013. En Kirguistán, 9.024 personas se registraron oficialmente como drogodependientes en 2014, lo que representa un 8,8% menos que en 2013.",
         "3",
         "668",
         "17",
         "1",
         "en"
        ],
        [
         "44",
         "La información contenida en este documento se relaciona con el área bajo el control efectivo del Gobierno de la República de Chipre. Andrade y O.F.A. Bueno (2008), \"Contribución de la Educación, la Ocupación y las Actividades de Estimulación Cognitiva a la Formación de la Reserva Cognitiva\", Dementia and Neuropsychologia, Vo\\. 2, No. Working Paper ROA-RM-2010/1, Centro de Investigación para la Educación y el Mercado Laboral (ROA), Maastricht.",
         "4",
         "446",
         "17",
         "1",
         "de"
        ],
        [
         "45",
         "El personal docente de Lituania, aunque tiene una formación de grado, muestra habilidades numéricas más bajas que las de otros graduados de educación terciaria y más bajas que el nivel promedio de los docentes en los países miembros de la OCDE que participan en la Encuesta de Habilidades de Adultos (Figura 3.5). Los puntajes competitivos utilizados en las admisiones a la educación superior, que se basan en los puntajes de los exámenes matura, muestran que el puntaje mínimo requerido para ingresar a los programas de formación docente es consistentemente mucho más bajo que el requerido para el campo más popular y selectivo, la medicina (Tabla 3.6). El principal proveedor de programas de formación de docentes, la universidad pedagógica del país, ha recibido una aprobación institucional limitada del organismo de garantía de la calidad de la educación superior del país, y hay debates en curso sobre la forma en que los programas y las instituciones pueden desempeñar mejor sus funciones iniciales. formación docente.",
         "4",
         "1024",
         "16",
         "1",
         "de"
        ],
        [
         "46",
         "La innovación que aproveche estas nuevas oportunidades se beneficiará del intercambio de conocimientos y prácticas sobre cómo implementar reformas con éxito. Esta investigación enfatiza particularmente la necesidad de utilizar diversas estrategias para enseñar y aprender en diferentes circunstancias. Esto significa que incluso si este informe se centra en los REA, es decir, en los recursos educativos y, en particular, en los medios educativos, intentará mantener el foco en la interacción de los procesos y la infraestructura organizativos, los medios para utilizar las redes y la colaboración, y los conocimientos (dados y perdidos). ) de la investigación.",
         "4",
         "661",
         "15",
         "1",
         "y"
        ],
        [
         "47",
         "El fortalecimiento de la atención primaria pública y comunitaria también daría como resultado menos autorreferencias a los departamentos de emergencia de los hospitales por dolencias y afecciones menores en las que los costos del tratamiento son mucho más altos. Finalmente, un mejor manejo de las condiciones crónicas en los entornos de atención primaria contribuiría a prevenir el deterioro y la necesidad de atención hospitalaria. Por ejemplo, los médicos de cabecera y los médicos de familia privados vinculados al sistema myHealth ahora pueden hacer derivaciones para servicios que antes solo podían solicitar los especialistas del hospital. Además, la gama de servicios prestados en la atención primaria se ha ampliado para incluir, por ejemplo, clínicas de gestión de enfermedades crónicas y clínicas de estilo de vida saludable.",
         "3",
         "836",
         "16",
         "1",
         "de"
        ],
        [
         "48",
         "Las microrregiones en Hungría son subregiones estadísticas. Hay 149 microrregiones en total y Budapest no está incluida en el sistema. La atención diurna comprende los servicios de atención de la salud que se brindan a los pacientes que ingresan formalmente en hospitales, establecimientos ambulatorios o centros autónomos, pero con la intención de dar de alta al paciente el mismo día.",
         "3",
         "386",
         "16",
         "1",
         "en"
        ],
        [
         "49",
         "El piloto tuvo tanto éxito que ahora estamos construyendo una plataforma digital permanente para él. Lo mismo ocurre en todos los países: los países con mejor desempeño en PISA, como Japón, Singapur y Corea del Sur en Asia, Estonia y Finlandia en Europa, y Canadá en América del Norte, también obtuvieron los primeros lugares en la evaluación PISA de resolución colaborativa de problemas. Por ejemplo, a los estudiantes japoneses les fue muy bien en esas materias, pero les fue aún mejor en la resolución colaborativa de problemas.",
         "4",
         "531",
         "12",
         "1",
         "en"
        ]
       ],
       "shape": {
        "columns": 6,
        "rows": 2424
       }
      },
      "text/html": [
       "<div>\n",
       "<style scoped>\n",
       "    .dataframe tbody tr th:only-of-type {\n",
       "        vertical-align: middle;\n",
       "    }\n",
       "\n",
       "    .dataframe tbody tr th {\n",
       "        vertical-align: top;\n",
       "    }\n",
       "\n",
       "    .dataframe thead th {\n",
       "        text-align: right;\n",
       "    }\n",
       "</style>\n",
       "<table border=\"1\" class=\"dataframe\">\n",
       "  <thead>\n",
       "    <tr style=\"text-align: right;\">\n",
       "      <th></th>\n",
       "      <th>textos</th>\n",
       "      <th>labels</th>\n",
       "      <th>Count</th>\n",
       "      <th>Max</th>\n",
       "      <th>Min</th>\n",
       "      <th>Moda</th>\n",
       "    </tr>\n",
       "  </thead>\n",
       "  <tbody>\n",
       "    <tr>\n",
       "      <th>0</th>\n",
       "      <td>\"Aprendizaje\" y \"educación\" se consideran sinó...</td>\n",
       "      <td>4</td>\n",
       "      <td>352</td>\n",
       "      <td>14</td>\n",
       "      <td>1</td>\n",
       "      <td>de</td>\n",
       "    </tr>\n",
       "    <tr>\n",
       "      <th>1</th>\n",
       "      <td>Para los niños más pequeños (bebés y niños peq...</td>\n",
       "      <td>4</td>\n",
       "      <td>516</td>\n",
       "      <td>16</td>\n",
       "      <td>1</td>\n",
       "      <td>y</td>\n",
       "    </tr>\n",
       "    <tr>\n",
       "      <th>2</th>\n",
       "      <td>Además, la formación de especialistas en medic...</td>\n",
       "      <td>3</td>\n",
       "      <td>659</td>\n",
       "      <td>15</td>\n",
       "      <td>1</td>\n",
       "      <td>de</td>\n",
       "    </tr>\n",
       "    <tr>\n",
       "      <th>3</th>\n",
       "      <td>En los países de la OCDE se tiende a pasar de ...</td>\n",
       "      <td>4</td>\n",
       "      <td>693</td>\n",
       "      <td>18</td>\n",
       "      <td>1</td>\n",
       "      <td>de</td>\n",
       "    </tr>\n",
       "    <tr>\n",
       "      <th>4</th>\n",
       "      <td>Este grupo se centró en las personas que padec...</td>\n",
       "      <td>3</td>\n",
       "      <td>608</td>\n",
       "      <td>14</td>\n",
       "      <td>0</td>\n",
       "      <td>de</td>\n",
       "    </tr>\n",
       "    <tr>\n",
       "      <th>...</th>\n",
       "      <td>...</td>\n",
       "      <td>...</td>\n",
       "      <td>...</td>\n",
       "      <td>...</td>\n",
       "      <td>...</td>\n",
       "      <td>...</td>\n",
       "    </tr>\n",
       "    <tr>\n",
       "      <th>2419</th>\n",
       "      <td>La tutoría de carrera está diseñada para apoya...</td>\n",
       "      <td>4</td>\n",
       "      <td>741</td>\n",
       "      <td>16</td>\n",
       "      <td>1</td>\n",
       "      <td>de</td>\n",
       "    </tr>\n",
       "    <tr>\n",
       "      <th>2420</th>\n",
       "      <td>Fuente: Ministerio de Educación. Las Tasas Int...</td>\n",
       "      <td>4</td>\n",
       "      <td>541</td>\n",
       "      <td>15</td>\n",
       "      <td>1</td>\n",
       "      <td>de</td>\n",
       "    </tr>\n",
       "    <tr>\n",
       "      <th>2421</th>\n",
       "      <td>Y desde 2010, el PNUD ha sido pionero en la pu...</td>\n",
       "      <td>1</td>\n",
       "      <td>352</td>\n",
       "      <td>12</td>\n",
       "      <td>1</td>\n",
       "      <td>el</td>\n",
       "    </tr>\n",
       "    <tr>\n",
       "      <th>2422</th>\n",
       "      <td>Sin embargo, estas fallas del mercado implican...</td>\n",
       "      <td>3</td>\n",
       "      <td>754</td>\n",
       "      <td>15</td>\n",
       "      <td>1</td>\n",
       "      <td>el</td>\n",
       "    </tr>\n",
       "    <tr>\n",
       "      <th>2423</th>\n",
       "      <td>Aunque existen programas para convertirse espe...</td>\n",
       "      <td>4</td>\n",
       "      <td>593</td>\n",
       "      <td>25</td>\n",
       "      <td>1</td>\n",
       "      <td>de</td>\n",
       "    </tr>\n",
       "  </tbody>\n",
       "</table>\n",
       "<p>2424 rows × 6 columns</p>\n",
       "</div>"
      ],
      "text/plain": [
       "                                                 textos  labels  Count  Max  \\\n",
       "0     \"Aprendizaje\" y \"educación\" se consideran sinó...       4    352   14   \n",
       "1     Para los niños más pequeños (bebés y niños peq...       4    516   16   \n",
       "2     Además, la formación de especialistas en medic...       3    659   15   \n",
       "3     En los países de la OCDE se tiende a pasar de ...       4    693   18   \n",
       "4     Este grupo se centró en las personas que padec...       3    608   14   \n",
       "...                                                 ...     ...    ...  ...   \n",
       "2419  La tutoría de carrera está diseñada para apoya...       4    741   16   \n",
       "2420  Fuente: Ministerio de Educación. Las Tasas Int...       4    541   15   \n",
       "2421  Y desde 2010, el PNUD ha sido pionero en la pu...       1    352   12   \n",
       "2422  Sin embargo, estas fallas del mercado implican...       3    754   15   \n",
       "2423  Aunque existen programas para convertirse espe...       4    593   25   \n",
       "\n",
       "      Min Moda  \n",
       "0       1   de  \n",
       "1       1    y  \n",
       "2       1   de  \n",
       "3       1   de  \n",
       "4       0   de  \n",
       "...   ...  ...  \n",
       "2419    1   de  \n",
       "2420    1   de  \n",
       "2421    1   el  \n",
       "2422    1   el  \n",
       "2423    1   de  \n",
       "\n",
       "[2424 rows x 6 columns]"
      ]
     },
     "execution_count": 68,
     "metadata": {},
     "output_type": "execute_result"
    }
   ],
   "source": [
    "texts"
   ]
  },
  {
   "cell_type": "markdown",
   "id": "7faf45f8",
   "metadata": {},
   "source": [
    "### 3. Preparación de datos"
   ]
  },
  {
   "cell_type": "markdown",
   "id": "45d65c43",
   "metadata": {},
   "source": [
    "### 3.1 Limpieza de datos"
   ]
  },
  {
   "cell_type": "code",
   "execution_count": 69,
   "id": "ae3d2a92",
   "metadata": {},
   "outputs": [],
   "source": [
    "\"\"\"Remove non-ASCII characters from list of tokenized words\"\"\"\n",
    "def remove_non_ascii(words):\n",
    "    new_words = []\n",
    "    for word in words:\n",
    "        if word is not None:\n",
    "          new_word = unicodedata.normalize('NFKD', word).encode('ascii', 'ignore').decode('utf-8', 'ignore')\n",
    "          new_words.append(new_word)\n",
    "    return new_words\n",
    "\n",
    "\"\"\"Convert all characters to lowercase from list of tokenized words \"\"\"\n",
    "def to_lowercase(words):\n",
    "    return [ word.lower() for word in words]\n",
    "\n",
    "\"\"\"Remove punctuation from list of tokenized words\"\"\"\n",
    "def remove_punctuation(words):\n",
    "    new_words = []\n",
    "    for word in words:\n",
    "        if word is not None:\n",
    "            new_word = re.sub(r'[^\\w\\s]', '', word)\n",
    "            if new_word != '':\n",
    "                new_words.append(new_word)\n",
    "    return new_words\n",
    "\n",
    "\"\"\"Remove stop words from list of tokenized words\"\"\"\n",
    "def remove_stopwords(words):\n",
    "    stop_words = set(stopwords.words(\"spanish\"))\n",
    "    return [w for w in words if w.lower() not in stop_words]\n",
    "  \n",
    "\"\"\"Make all transformations to text\"\"\"\n",
    "def preprocessing(words):\n",
    "    words = to_lowercase(words)\n",
    "    words = remove_punctuation(words)\n",
    "    words = remove_non_ascii(words)\n",
    "    words = remove_stopwords(words)\n",
    "    return words\n",
    "\n",
    "\n",
    "\n",
    "\n"
   ]
  },
  {
   "cell_type": "markdown",
   "id": "d451f513",
   "metadata": {},
   "source": [
    "### 3.2 Tokenizacion\n",
    "Obtenemos todas las palabras separadas para usarlo en el analisis"
   ]
  },
  {
   "cell_type": "code",
   "execution_count": 70,
   "id": "da18aa79",
   "metadata": {},
   "outputs": [
    {
     "data": {
      "application/vnd.microsoft.datawrangler.viewer.v0+json": {
       "columns": [
        {
         "name": "index",
         "rawType": "int64",
         "type": "integer"
        },
        {
         "name": "textos",
         "rawType": "object",
         "type": "string"
        },
        {
         "name": "labels",
         "rawType": "int64",
         "type": "integer"
        },
        {
         "name": "palabras",
         "rawType": "object",
         "type": "unknown"
        }
       ],
       "ref": "f2d4d305-2b90-45a1-8af9-57695a0749d7",
       "rows": [
        [
         "0",
         "\"Aprendizaje\" y \"educación\" se consideran sinónimos de escolarización formal. Las organizaciones auxiliares, como las editoriales de educación, las juntas examinadoras y las organizaciones de formación de docentes, se consideran extensiones de los acuerdos establecidos por los gobiernos. Este marco de comprensión se ha vuelto cada vez más inadecuado.",
         "4",
         "['``', 'Aprendizaje', \"''\", 'y', '``', 'educación', \"''\", 'se', 'consideran', 'sinónimos', 'de', 'escolarización', 'formal', '.', 'Las', 'organizaciones', 'auxiliares', ',', 'como', 'las', 'editoriales', 'de', 'educación', ',', 'las', 'juntas', 'examinadoras', 'y', 'las', 'organizaciones', 'de', 'formación', 'de', 'docentes', ',', 'se', 'consideran', 'extensiones', 'de', 'los', 'acuerdos', 'establecidos', 'por', 'los', 'gobiernos', '.', 'Este', 'marco', 'de', 'comprensión', 'se', 'ha', 'vuelto', 'cada', 'vez', 'más', 'inadecuado', '.']"
        ],
        [
         "1",
         "Para los niños más pequeños (bebés y niños pequeños), la capacitación especializada y práctica parece estar más fuertemente asociada con la calidad pedagógica y los resultados cognitivos y sociales. Los educadores de la primera infancia se encuentran con entornos sociales cada vez más complejos y se encuentran con una multiplicidad de antecedentes y experiencias familiares. Estos factores crean imperativos para adoptar nuevas pedagogías y prácticas organizacionales para acomodar este pluralismo (Elliott, 2006).",
         "4",
         "['Para', 'los', 'niños', 'más', 'pequeños', '(', 'bebés', 'y', 'niños', 'pequeños', ')', ',', 'la', 'capacitación', 'especializada', 'y', 'práctica', 'parece', 'estar', 'más', 'fuertemente', 'asociada', 'con', 'la', 'calidad', 'pedagógica', 'y', 'los', 'resultados', 'cognitivos', 'y', 'sociales', '.', 'Los', 'educadores', 'de', 'la', 'primera', 'infancia', 'se', 'encuentran', 'con', 'entornos', 'sociales', 'cada', 'vez', 'más', 'complejos', 'y', 'se', 'encuentran', 'con', 'una', 'multiplicidad', 'de', 'antecedentes', 'y', 'experiencias', 'familiares', '.', 'Estos', 'factores', 'crean', 'imperativos', 'para', 'adoptar', 'nuevas', 'pedagogías', 'y', 'prácticas', 'organizacionales', 'para', 'acomodar', 'este', 'pluralismo', '(', 'Elliott', ',', '2006', ')', '.']"
        ],
        [
         "2",
         "Además, la formación de especialistas en medicina general también incluye tareas que requieren un conocimiento más profundo de problemas comunes de salud pública, incluida la salud mental (Cuestionario de salud mental de la OCDE, 2013). Dado que no hay control en la atención primaria para limitar el acceso a los servicios de salud (mental) especializados, muchos pacientes que necesitan tratamiento (para trastornos mentales graves en particular) pueden buscar atención de nivel especializado directamente. Los servicios de especialistas en psiquiatría se brindan principalmente en las salas ambulatorias de psiquiatría ubicadas en los hospitales generales.",
         "3",
         "['Además', ',', 'la', 'formación', 'de', 'especialistas', 'en', 'medicina', 'general', 'también', 'incluye', 'tareas', 'que', 'requieren', 'un', 'conocimiento', 'más', 'profundo', 'de', 'problemas', 'comunes', 'de', 'salud', 'pública', ',', 'incluida', 'la', 'salud', 'mental', '(', 'Cuestionario', 'de', 'salud', 'mental', 'de', 'la', 'OCDE', ',', '2013', ')', '.', 'Dado', 'que', 'no', 'hay', 'control', 'en', 'la', 'atención', 'primaria', 'para', 'limitar', 'el', 'acceso', 'a', 'los', 'servicios', 'de', 'salud', '(', 'mental', ')', 'especializados', ',', 'muchos', 'pacientes', 'que', 'necesitan', 'tratamiento', '(', 'para', 'trastornos', 'mentales', 'graves', 'en', 'particular', ')', 'pueden', 'buscar', 'atención', 'de', 'nivel', 'especializado', 'directamente', '.', 'Los', 'servicios', 'de', 'especialistas', 'en', 'psiquiatría', 'se', 'brindan', 'principalmente', 'en', 'las', 'salas', 'ambulatorias', 'de', 'psiquiatría', 'ubicadas', 'en', 'los', 'hospitales', 'generales', '.']"
        ],
        [
         "3",
         "En los países de la OCDE se tiende a pasar de los cursos obligatorios a los optativos, abiertos a estudiantes de distintas facultades y escuelas. Este planteamiento facilita la formación de equipos de estudiantes con distintas formaciones e intereses. El trabajo en equipos interdisciplinares permite a los individuos concentrarse en lo que mejor saben y les gusta y, al mismo tiempo, familiarizarse con nuevos conocimientos que pueden asociarse a una nueva forma de resolver un problema o crear un nuevo producto o servicio. No está claro hasta qué punto estos cursos utilizan métodos pedagógicos creativos y se adaptan a las necesidades de los estudiantes de grado, postgrado y licenciatura.",
         "4",
         "['En', 'los', 'países', 'de', 'la', 'OCDE', 'se', 'tiende', 'a', 'pasar', 'de', 'los', 'cursos', 'obligatorios', 'a', 'los', 'optativos', ',', 'abiertos', 'a', 'estudiantes', 'de', 'distintas', 'facultades', 'y', 'escuelas', '.', 'Este', 'planteamiento', 'facilita', 'la', 'formación', 'de', 'equipos', 'de', 'estudiantes', 'con', 'distintas', 'formaciones', 'e', 'intereses', '.', 'El', 'trabajo', 'en', 'equipos', 'interdisciplinares', 'permite', 'a', 'los', 'individuos', 'concentrarse', 'en', 'lo', 'que', 'mejor', 'saben', 'y', 'les', 'gusta', 'y', ',', 'al', 'mismo', 'tiempo', ',', 'familiarizarse', 'con', 'nuevos', 'conocimientos', 'que', 'pueden', 'asociarse', 'a', 'una', 'nueva', 'forma', 'de', 'resolver', 'un', 'problema', 'o', 'crear', 'un', 'nuevo', 'producto', 'o', 'servicio', '.', 'No', 'está', 'claro', 'hasta', 'qué', 'punto', 'estos', 'cursos', 'utilizan', 'métodos', 'pedagógicos', 'creativos', 'y', 'se', 'adaptan', 'a', 'las', 'necesidades', 'de', 'los', 'estudiantes', 'de', 'grado', ',', 'postgrado', 'y', 'licenciatura', '.']"
        ],
        [
         "4",
         "Este grupo se centró en las personas que padecen trastornos mentales con comorbilidad de abuso de sustancias (mientras que la demencia, la discapacidad intelectual y el abuso de sustancias por sà solos quedaron excluidos del ámbito de análisis). Con 90 millones de euros de financiación, la comisión dispuso de tres años para \"iniciar y apoyar el desarrollo de proyectos a todos los niveles (tratamiento médico, mejora de los servicios, proyectos de vivienda, mejoras legislativas y organizativas) y proponer las medidas necesarias para elevar de forma permanente el nivel de los servicios de salud mental\". ",
         "3",
         "['Este', 'grupo', 'se', 'centró', 'en', 'las', 'personas', 'que', 'padecen', 'trastornos', 'mentales', 'con', 'comorbilidad', 'de', 'abuso', 'de', 'sustancias', '(', 'mientras', 'que', 'la', 'demencia', ',', 'la', 'discapacidad', 'intelectual', 'y', 'el', 'abuso', 'de', 'sustancias', 'por', 'sà', 'solos', 'quedaron', 'excluidos', 'del', 'ámbito', 'de', 'análisis', ')', '.', 'Con', '90', 'millones', 'de', 'euros', 'de', 'financiación', ',', 'la', 'comisión', 'dispuso', 'de', 'tres', 'años', 'para', '``', 'iniciar', 'y', 'apoyar', 'el', 'desarrollo', 'de', 'proyectos', 'a', 'todos', 'los', 'niveles', '(', 'tratamiento', 'médico', ',', 'mejora', 'de', 'los', 'servicios', ',', 'proyectos', 'de', 'vivienda', ',', 'mejoras', 'legislativas', 'y', 'organizativas', ')', 'y', 'proponer', 'las', 'medidas', 'necesarias', 'para', 'elevar', 'de', 'forma', 'permanente', 'el', 'nivel', 'de', 'los', 'servicios', 'de', 'salud', 'mental', \"''\", '.']"
        ]
       ],
       "shape": {
        "columns": 3,
        "rows": 5
       }
      },
      "text/html": [
       "<div>\n",
       "<style scoped>\n",
       "    .dataframe tbody tr th:only-of-type {\n",
       "        vertical-align: middle;\n",
       "    }\n",
       "\n",
       "    .dataframe tbody tr th {\n",
       "        vertical-align: top;\n",
       "    }\n",
       "\n",
       "    .dataframe thead th {\n",
       "        text-align: right;\n",
       "    }\n",
       "</style>\n",
       "<table border=\"1\" class=\"dataframe\">\n",
       "  <thead>\n",
       "    <tr style=\"text-align: right;\">\n",
       "      <th></th>\n",
       "      <th>textos</th>\n",
       "      <th>labels</th>\n",
       "      <th>palabras</th>\n",
       "    </tr>\n",
       "  </thead>\n",
       "  <tbody>\n",
       "    <tr>\n",
       "      <th>0</th>\n",
       "      <td>\"Aprendizaje\" y \"educación\" se consideran sinó...</td>\n",
       "      <td>4</td>\n",
       "      <td>[``, Aprendizaje, '', y, ``, educación, '', se...</td>\n",
       "    </tr>\n",
       "    <tr>\n",
       "      <th>1</th>\n",
       "      <td>Para los niños más pequeños (bebés y niños peq...</td>\n",
       "      <td>4</td>\n",
       "      <td>[Para, los, niños, más, pequeños, (, bebés, y,...</td>\n",
       "    </tr>\n",
       "    <tr>\n",
       "      <th>2</th>\n",
       "      <td>Además, la formación de especialistas en medic...</td>\n",
       "      <td>3</td>\n",
       "      <td>[Además, ,, la, formación, de, especialistas, ...</td>\n",
       "    </tr>\n",
       "    <tr>\n",
       "      <th>3</th>\n",
       "      <td>En los países de la OCDE se tiende a pasar de ...</td>\n",
       "      <td>4</td>\n",
       "      <td>[En, los, países, de, la, OCDE, se, tiende, a,...</td>\n",
       "    </tr>\n",
       "    <tr>\n",
       "      <th>4</th>\n",
       "      <td>Este grupo se centró en las personas que padec...</td>\n",
       "      <td>3</td>\n",
       "      <td>[Este, grupo, se, centró, en, las, personas, q...</td>\n",
       "    </tr>\n",
       "  </tbody>\n",
       "</table>\n",
       "</div>"
      ],
      "text/plain": [
       "                                              textos  labels  \\\n",
       "0  \"Aprendizaje\" y \"educación\" se consideran sinó...       4   \n",
       "1  Para los niños más pequeños (bebés y niños peq...       4   \n",
       "2  Además, la formación de especialistas en medic...       3   \n",
       "3  En los países de la OCDE se tiende a pasar de ...       4   \n",
       "4  Este grupo se centró en las personas que padec...       3   \n",
       "\n",
       "                                            palabras  \n",
       "0  [``, Aprendizaje, '', y, ``, educación, '', se...  \n",
       "1  [Para, los, niños, más, pequeños, (, bebés, y,...  \n",
       "2  [Además, ,, la, formación, de, especialistas, ...  \n",
       "3  [En, los, países, de, la, OCDE, se, tiende, a,...  \n",
       "4  [Este, grupo, se, centró, en, las, personas, q...  "
      ]
     },
     "execution_count": 70,
     "metadata": {},
     "output_type": "execute_result"
    }
   ],
   "source": [
    "df_textC['palabras'] = df_textC['textos'].apply(word_tokenize)\n",
    "\n",
    "df_textC.head()\n"
   ]
  },
  {
   "cell_type": "markdown",
   "id": "f397b4d7",
   "metadata": {},
   "source": [
    "Le aplicamos el procesamiento para quitar puntuaciones , stopwords y pasar todas las palabras a minuscula."
   ]
  },
  {
   "cell_type": "code",
   "execution_count": 71,
   "id": "7d402129",
   "metadata": {},
   "outputs": [
    {
     "data": {
      "application/vnd.microsoft.datawrangler.viewer.v0+json": {
       "columns": [
        {
         "name": "index",
         "rawType": "int64",
         "type": "integer"
        },
        {
         "name": "textos",
         "rawType": "object",
         "type": "string"
        },
        {
         "name": "labels",
         "rawType": "int64",
         "type": "integer"
        },
        {
         "name": "palabras",
         "rawType": "object",
         "type": "unknown"
        },
        {
         "name": "palabrasProces",
         "rawType": "object",
         "type": "unknown"
        }
       ],
       "ref": "668fc91e-5286-41ff-860f-93067fe7e89c",
       "rows": [
        [
         "0",
         "\"Aprendizaje\" y \"educación\" se consideran sinónimos de escolarización formal. Las organizaciones auxiliares, como las editoriales de educación, las juntas examinadoras y las organizaciones de formación de docentes, se consideran extensiones de los acuerdos establecidos por los gobiernos. Este marco de comprensión se ha vuelto cada vez más inadecuado.",
         "4",
         "['``', 'Aprendizaje', \"''\", 'y', '``', 'educación', \"''\", 'se', 'consideran', 'sinónimos', 'de', 'escolarización', 'formal', '.', 'Las', 'organizaciones', 'auxiliares', ',', 'como', 'las', 'editoriales', 'de', 'educación', ',', 'las', 'juntas', 'examinadoras', 'y', 'las', 'organizaciones', 'de', 'formación', 'de', 'docentes', ',', 'se', 'consideran', 'extensiones', 'de', 'los', 'acuerdos', 'establecidos', 'por', 'los', 'gobiernos', '.', 'Este', 'marco', 'de', 'comprensión', 'se', 'ha', 'vuelto', 'cada', 'vez', 'más', 'inadecuado', '.']",
         "['aprendizaje', 'educacion', 'consideran', 'sinonimos', 'escolarizacion', 'formal', 'organizaciones', 'auxiliares', 'editoriales', 'educacion', 'juntas', 'examinadoras', 'organizaciones', 'formacion', 'docentes', 'consideran', 'extensiones', 'acuerdos', 'establecidos', 'gobiernos', 'marco', 'comprension', 'vuelto', 'cada', 'vez', 'mas', 'inadecuado']"
        ],
        [
         "1",
         "Para los niños más pequeños (bebés y niños pequeños), la capacitación especializada y práctica parece estar más fuertemente asociada con la calidad pedagógica y los resultados cognitivos y sociales. Los educadores de la primera infancia se encuentran con entornos sociales cada vez más complejos y se encuentran con una multiplicidad de antecedentes y experiencias familiares. Estos factores crean imperativos para adoptar nuevas pedagogías y prácticas organizacionales para acomodar este pluralismo (Elliott, 2006).",
         "4",
         "['Para', 'los', 'niños', 'más', 'pequeños', '(', 'bebés', 'y', 'niños', 'pequeños', ')', ',', 'la', 'capacitación', 'especializada', 'y', 'práctica', 'parece', 'estar', 'más', 'fuertemente', 'asociada', 'con', 'la', 'calidad', 'pedagógica', 'y', 'los', 'resultados', 'cognitivos', 'y', 'sociales', '.', 'Los', 'educadores', 'de', 'la', 'primera', 'infancia', 'se', 'encuentran', 'con', 'entornos', 'sociales', 'cada', 'vez', 'más', 'complejos', 'y', 'se', 'encuentran', 'con', 'una', 'multiplicidad', 'de', 'antecedentes', 'y', 'experiencias', 'familiares', '.', 'Estos', 'factores', 'crean', 'imperativos', 'para', 'adoptar', 'nuevas', 'pedagogías', 'y', 'prácticas', 'organizacionales', 'para', 'acomodar', 'este', 'pluralismo', '(', 'Elliott', ',', '2006', ')', '.']",
         "['ninos', 'mas', 'pequenos', 'bebes', 'ninos', 'pequenos', 'capacitacion', 'especializada', 'practica', 'parece', 'mas', 'fuertemente', 'asociada', 'calidad', 'pedagogica', 'resultados', 'cognitivos', 'sociales', 'educadores', 'primera', 'infancia', 'encuentran', 'entornos', 'sociales', 'cada', 'vez', 'mas', 'complejos', 'encuentran', 'multiplicidad', 'antecedentes', 'experiencias', 'familiares', 'factores', 'crean', 'imperativos', 'adoptar', 'nuevas', 'pedagogias', 'practicas', 'organizacionales', 'acomodar', 'pluralismo', 'elliott', '2006']"
        ],
        [
         "2",
         "Además, la formación de especialistas en medicina general también incluye tareas que requieren un conocimiento más profundo de problemas comunes de salud pública, incluida la salud mental (Cuestionario de salud mental de la OCDE, 2013). Dado que no hay control en la atención primaria para limitar el acceso a los servicios de salud (mental) especializados, muchos pacientes que necesitan tratamiento (para trastornos mentales graves en particular) pueden buscar atención de nivel especializado directamente. Los servicios de especialistas en psiquiatría se brindan principalmente en las salas ambulatorias de psiquiatría ubicadas en los hospitales generales.",
         "3",
         "['Además', ',', 'la', 'formación', 'de', 'especialistas', 'en', 'medicina', 'general', 'también', 'incluye', 'tareas', 'que', 'requieren', 'un', 'conocimiento', 'más', 'profundo', 'de', 'problemas', 'comunes', 'de', 'salud', 'pública', ',', 'incluida', 'la', 'salud', 'mental', '(', 'Cuestionario', 'de', 'salud', 'mental', 'de', 'la', 'OCDE', ',', '2013', ')', '.', 'Dado', 'que', 'no', 'hay', 'control', 'en', 'la', 'atención', 'primaria', 'para', 'limitar', 'el', 'acceso', 'a', 'los', 'servicios', 'de', 'salud', '(', 'mental', ')', 'especializados', ',', 'muchos', 'pacientes', 'que', 'necesitan', 'tratamiento', '(', 'para', 'trastornos', 'mentales', 'graves', 'en', 'particular', ')', 'pueden', 'buscar', 'atención', 'de', 'nivel', 'especializado', 'directamente', '.', 'Los', 'servicios', 'de', 'especialistas', 'en', 'psiquiatría', 'se', 'brindan', 'principalmente', 'en', 'las', 'salas', 'ambulatorias', 'de', 'psiquiatría', 'ubicadas', 'en', 'los', 'hospitales', 'generales', '.']",
         "['ademas', 'formacion', 'especialistas', 'medicina', 'general', 'tambien', 'incluye', 'tareas', 'requieren', 'conocimiento', 'mas', 'profundo', 'problemas', 'comunes', 'salud', 'publica', 'incluida', 'salud', 'mental', 'cuestionario', 'salud', 'mental', 'ocde', '2013', 'dado', 'control', 'atencion', 'primaria', 'limitar', 'acceso', 'servicios', 'salud', 'mental', 'especializados', 'pacientes', 'necesitan', 'tratamiento', 'trastornos', 'mentales', 'graves', 'particular', 'pueden', 'buscar', 'atencion', 'nivel', 'especializado', 'directamente', 'servicios', 'especialistas', 'psiquiatria', 'brindan', 'principalmente', 'salas', 'ambulatorias', 'psiquiatria', 'ubicadas', 'hospitales', 'generales']"
        ],
        [
         "3",
         "En los países de la OCDE se tiende a pasar de los cursos obligatorios a los optativos, abiertos a estudiantes de distintas facultades y escuelas. Este planteamiento facilita la formación de equipos de estudiantes con distintas formaciones e intereses. El trabajo en equipos interdisciplinares permite a los individuos concentrarse en lo que mejor saben y les gusta y, al mismo tiempo, familiarizarse con nuevos conocimientos que pueden asociarse a una nueva forma de resolver un problema o crear un nuevo producto o servicio. No está claro hasta qué punto estos cursos utilizan métodos pedagógicos creativos y se adaptan a las necesidades de los estudiantes de grado, postgrado y licenciatura.",
         "4",
         "['En', 'los', 'países', 'de', 'la', 'OCDE', 'se', 'tiende', 'a', 'pasar', 'de', 'los', 'cursos', 'obligatorios', 'a', 'los', 'optativos', ',', 'abiertos', 'a', 'estudiantes', 'de', 'distintas', 'facultades', 'y', 'escuelas', '.', 'Este', 'planteamiento', 'facilita', 'la', 'formación', 'de', 'equipos', 'de', 'estudiantes', 'con', 'distintas', 'formaciones', 'e', 'intereses', '.', 'El', 'trabajo', 'en', 'equipos', 'interdisciplinares', 'permite', 'a', 'los', 'individuos', 'concentrarse', 'en', 'lo', 'que', 'mejor', 'saben', 'y', 'les', 'gusta', 'y', ',', 'al', 'mismo', 'tiempo', ',', 'familiarizarse', 'con', 'nuevos', 'conocimientos', 'que', 'pueden', 'asociarse', 'a', 'una', 'nueva', 'forma', 'de', 'resolver', 'un', 'problema', 'o', 'crear', 'un', 'nuevo', 'producto', 'o', 'servicio', '.', 'No', 'está', 'claro', 'hasta', 'qué', 'punto', 'estos', 'cursos', 'utilizan', 'métodos', 'pedagógicos', 'creativos', 'y', 'se', 'adaptan', 'a', 'las', 'necesidades', 'de', 'los', 'estudiantes', 'de', 'grado', ',', 'postgrado', 'y', 'licenciatura', '.']",
         "['paises', 'ocde', 'tiende', 'pasar', 'cursos', 'obligatorios', 'optativos', 'abiertos', 'estudiantes', 'distintas', 'facultades', 'escuelas', 'planteamiento', 'facilita', 'formacion', 'equipos', 'estudiantes', 'distintas', 'formaciones', 'intereses', 'trabajo', 'equipos', 'interdisciplinares', 'permite', 'individuos', 'concentrarse', 'mejor', 'saben', 'gusta', 'mismo', 'tiempo', 'familiarizarse', 'nuevos', 'conocimientos', 'pueden', 'asociarse', 'nueva', 'forma', 'resolver', 'problema', 'crear', 'nuevo', 'producto', 'servicio', 'claro', 'punto', 'cursos', 'utilizan', 'metodos', 'pedagogicos', 'creativos', 'adaptan', 'necesidades', 'estudiantes', 'grado', 'postgrado', 'licenciatura']"
        ],
        [
         "4",
         "Este grupo se centró en las personas que padecen trastornos mentales con comorbilidad de abuso de sustancias (mientras que la demencia, la discapacidad intelectual y el abuso de sustancias por sà solos quedaron excluidos del ámbito de análisis). Con 90 millones de euros de financiación, la comisión dispuso de tres años para \"iniciar y apoyar el desarrollo de proyectos a todos los niveles (tratamiento médico, mejora de los servicios, proyectos de vivienda, mejoras legislativas y organizativas) y proponer las medidas necesarias para elevar de forma permanente el nivel de los servicios de salud mental\". ",
         "3",
         "['Este', 'grupo', 'se', 'centró', 'en', 'las', 'personas', 'que', 'padecen', 'trastornos', 'mentales', 'con', 'comorbilidad', 'de', 'abuso', 'de', 'sustancias', '(', 'mientras', 'que', 'la', 'demencia', ',', 'la', 'discapacidad', 'intelectual', 'y', 'el', 'abuso', 'de', 'sustancias', 'por', 'sà', 'solos', 'quedaron', 'excluidos', 'del', 'ámbito', 'de', 'análisis', ')', '.', 'Con', '90', 'millones', 'de', 'euros', 'de', 'financiación', ',', 'la', 'comisión', 'dispuso', 'de', 'tres', 'años', 'para', '``', 'iniciar', 'y', 'apoyar', 'el', 'desarrollo', 'de', 'proyectos', 'a', 'todos', 'los', 'niveles', '(', 'tratamiento', 'médico', ',', 'mejora', 'de', 'los', 'servicios', ',', 'proyectos', 'de', 'vivienda', ',', 'mejoras', 'legislativas', 'y', 'organizativas', ')', 'y', 'proponer', 'las', 'medidas', 'necesarias', 'para', 'elevar', 'de', 'forma', 'permanente', 'el', 'nivel', 'de', 'los', 'servicios', 'de', 'salud', 'mental', \"''\", '.']",
         "['grupo', 'centro', 'personas', 'padecen', 'trastornos', 'mentales', 'comorbilidad', 'abuso', 'sustancias', 'mientras', 'demencia', 'discapacidad', 'intelectual', 'abuso', 'sustancias', 'sa', 'solos', 'quedaron', 'excluidos', 'ambito', 'analisis', '90', 'millones', 'euros', 'financiacion', 'comision', 'dispuso', 'tres', 'anos', 'iniciar', 'apoyar', 'desarrollo', 'proyectos', 'niveles', 'tratamiento', 'medico', 'mejora', 'servicios', 'proyectos', 'vivienda', 'mejoras', 'legislativas', 'organizativas', 'proponer', 'medidas', 'necesarias', 'elevar', 'forma', 'permanente', 'nivel', 'servicios', 'salud', 'mental']"
        ]
       ],
       "shape": {
        "columns": 4,
        "rows": 5
       }
      },
      "text/html": [
       "<div>\n",
       "<style scoped>\n",
       "    .dataframe tbody tr th:only-of-type {\n",
       "        vertical-align: middle;\n",
       "    }\n",
       "\n",
       "    .dataframe tbody tr th {\n",
       "        vertical-align: top;\n",
       "    }\n",
       "\n",
       "    .dataframe thead th {\n",
       "        text-align: right;\n",
       "    }\n",
       "</style>\n",
       "<table border=\"1\" class=\"dataframe\">\n",
       "  <thead>\n",
       "    <tr style=\"text-align: right;\">\n",
       "      <th></th>\n",
       "      <th>textos</th>\n",
       "      <th>labels</th>\n",
       "      <th>palabras</th>\n",
       "      <th>palabrasProces</th>\n",
       "    </tr>\n",
       "  </thead>\n",
       "  <tbody>\n",
       "    <tr>\n",
       "      <th>0</th>\n",
       "      <td>\"Aprendizaje\" y \"educación\" se consideran sinó...</td>\n",
       "      <td>4</td>\n",
       "      <td>[``, Aprendizaje, '', y, ``, educación, '', se...</td>\n",
       "      <td>[aprendizaje, educacion, consideran, sinonimos...</td>\n",
       "    </tr>\n",
       "    <tr>\n",
       "      <th>1</th>\n",
       "      <td>Para los niños más pequeños (bebés y niños peq...</td>\n",
       "      <td>4</td>\n",
       "      <td>[Para, los, niños, más, pequeños, (, bebés, y,...</td>\n",
       "      <td>[ninos, mas, pequenos, bebes, ninos, pequenos,...</td>\n",
       "    </tr>\n",
       "    <tr>\n",
       "      <th>2</th>\n",
       "      <td>Además, la formación de especialistas en medic...</td>\n",
       "      <td>3</td>\n",
       "      <td>[Además, ,, la, formación, de, especialistas, ...</td>\n",
       "      <td>[ademas, formacion, especialistas, medicina, g...</td>\n",
       "    </tr>\n",
       "    <tr>\n",
       "      <th>3</th>\n",
       "      <td>En los países de la OCDE se tiende a pasar de ...</td>\n",
       "      <td>4</td>\n",
       "      <td>[En, los, países, de, la, OCDE, se, tiende, a,...</td>\n",
       "      <td>[paises, ocde, tiende, pasar, cursos, obligato...</td>\n",
       "    </tr>\n",
       "    <tr>\n",
       "      <th>4</th>\n",
       "      <td>Este grupo se centró en las personas que padec...</td>\n",
       "      <td>3</td>\n",
       "      <td>[Este, grupo, se, centró, en, las, personas, q...</td>\n",
       "      <td>[grupo, centro, personas, padecen, trastornos,...</td>\n",
       "    </tr>\n",
       "  </tbody>\n",
       "</table>\n",
       "</div>"
      ],
      "text/plain": [
       "                                              textos  labels  \\\n",
       "0  \"Aprendizaje\" y \"educación\" se consideran sinó...       4   \n",
       "1  Para los niños más pequeños (bebés y niños peq...       4   \n",
       "2  Además, la formación de especialistas en medic...       3   \n",
       "3  En los países de la OCDE se tiende a pasar de ...       4   \n",
       "4  Este grupo se centró en las personas que padec...       3   \n",
       "\n",
       "                                            palabras  \\\n",
       "0  [``, Aprendizaje, '', y, ``, educación, '', se...   \n",
       "1  [Para, los, niños, más, pequeños, (, bebés, y,...   \n",
       "2  [Además, ,, la, formación, de, especialistas, ...   \n",
       "3  [En, los, países, de, la, OCDE, se, tiende, a,...   \n",
       "4  [Este, grupo, se, centró, en, las, personas, q...   \n",
       "\n",
       "                                      palabrasProces  \n",
       "0  [aprendizaje, educacion, consideran, sinonimos...  \n",
       "1  [ninos, mas, pequenos, bebes, ninos, pequenos,...  \n",
       "2  [ademas, formacion, especialistas, medicina, g...  \n",
       "3  [paises, ocde, tiende, pasar, cursos, obligato...  \n",
       "4  [grupo, centro, personas, padecen, trastornos,...  "
      ]
     },
     "execution_count": 71,
     "metadata": {},
     "output_type": "execute_result"
    }
   ],
   "source": [
    "df_textC['palabrasProces'] = df_textC['palabras'].apply(preprocessing)\n",
    "\n",
    "df_textC.head()"
   ]
  },
  {
   "cell_type": "markdown",
   "id": "c58ec1f1",
   "metadata": {},
   "source": [
    "### 3.2 Normalizacion"
   ]
  },
  {
   "cell_type": "code",
   "execution_count": 72,
   "id": "24c05056",
   "metadata": {},
   "outputs": [
    {
     "data": {
      "application/vnd.microsoft.datawrangler.viewer.v0+json": {
       "columns": [
        {
         "name": "index",
         "rawType": "int64",
         "type": "integer"
        },
        {
         "name": "textos",
         "rawType": "object",
         "type": "string"
        },
        {
         "name": "labels",
         "rawType": "int64",
         "type": "integer"
        },
        {
         "name": "palabras",
         "rawType": "object",
         "type": "unknown"
        },
        {
         "name": "palabrasProces",
         "rawType": "object",
         "type": "unknown"
        }
       ],
       "ref": "dc88375a-11d2-4fd1-bdcc-c1a211666c70",
       "rows": [
        [
         "0",
         "\"Aprendizaje\" y \"educación\" se consideran sinónimos de escolarización formal. Las organizaciones auxiliares, como las editoriales de educación, las juntas examinadoras y las organizaciones de formación de docentes, se consideran extensiones de los acuerdos establecidos por los gobiernos. Este marco de comprensión se ha vuelto cada vez más inadecuado.",
         "4",
         "['aprendizaj', 'educ', 'consider', 'sinon', 'escolariz', 'formal', 'organiz', 'auxiliar', 'editorial', 'educ', 'junt', 'examin', 'organiz', 'formacion', 'docent', 'consider', 'extension', 'acuerd', 'establec', 'gobi', 'marc', 'comprension', 'vuelt', 'cad', 'vez', 'mas', 'inadecu', 'aprendizaje', 'educacion', 'considerar', 'sinonimo', 'escolarizacion', 'formal', 'organización', 'auxiliar', 'editorial', 'educacion', 'junto', 'examinadora', 'organización', 'formacion', 'docente', 'considerar', 'extensión', 'acuerdo', 'establecido', 'gobierno', 'marco', 'comprension', 'vuelto', 'cada', 'vez', 'mas', 'inadecuado']",
         "['aprendizaje', 'educacion', 'consideran', 'sinonimos', 'escolarizacion', 'formal', 'organizaciones', 'auxiliares', 'editoriales', 'educacion', 'juntas', 'examinadoras', 'organizaciones', 'formacion', 'docentes', 'consideran', 'extensiones', 'acuerdos', 'establecidos', 'gobiernos', 'marco', 'comprension', 'vuelto', 'cada', 'vez', 'mas', 'inadecuado']"
        ],
        [
         "1",
         "Para los niños más pequeños (bebés y niños pequeños), la capacitación especializada y práctica parece estar más fuertemente asociada con la calidad pedagógica y los resultados cognitivos y sociales. Los educadores de la primera infancia se encuentran con entornos sociales cada vez más complejos y se encuentran con una multiplicidad de antecedentes y experiencias familiares. Estos factores crean imperativos para adoptar nuevas pedagogías y prácticas organizacionales para acomodar este pluralismo (Elliott, 2006).",
         "4",
         "['nin', 'mas', 'pequen', 'beb', 'nin', 'pequen', 'capacit', 'especializ', 'practic', 'parec', 'mas', 'fuertement', 'asoci', 'calid', 'pedagog', 'result', 'cognit', 'social', 'educ', 'primer', 'infanci', 'encuentr', 'entorn', 'social', 'cad', 'vez', 'mas', 'complej', 'encuentr', 'multipl', 'antecedent', 'experient', 'familiar', 'factor', 'cre', 'imper', 'adopt', 'nuev', 'pedagogi', 'practic', 'organizacional', 'acomod', 'plural', 'elliott', '2006', 'nino', 'mas', 'pequeno', 'beb', 'ninos', 'pequenos', 'capacitacion', 'especializado', 'practica', 'parecer', 'mas', 'fuertemente', 'asociado', 'calidad', 'pedagogico', 'resultado', 'cognitivo', 'social', 'educador', 'primero', 'infancia', 'encontrar', 'entorno', 'social', 'cada', 'vez', 'mas', 'complejo', 'encontrar', 'multiplicidad', 'antecedente', 'experiencia', 'familiar', 'factor', 'crear', 'imperativo', 'adoptar', 'nuevo', 'pedagogia', 'practica', 'organizacional', 'acomodar', 'pluralismo', 'elliott', '2006']",
         "['ninos', 'mas', 'pequenos', 'bebes', 'ninos', 'pequenos', 'capacitacion', 'especializada', 'practica', 'parece', 'mas', 'fuertemente', 'asociada', 'calidad', 'pedagogica', 'resultados', 'cognitivos', 'sociales', 'educadores', 'primera', 'infancia', 'encuentran', 'entornos', 'sociales', 'cada', 'vez', 'mas', 'complejos', 'encuentran', 'multiplicidad', 'antecedentes', 'experiencias', 'familiares', 'factores', 'crean', 'imperativos', 'adoptar', 'nuevas', 'pedagogias', 'practicas', 'organizacionales', 'acomodar', 'pluralismo', 'elliott', '2006']"
        ],
        [
         "2",
         "Además, la formación de especialistas en medicina general también incluye tareas que requieren un conocimiento más profundo de problemas comunes de salud pública, incluida la salud mental (Cuestionario de salud mental de la OCDE, 2013). Dado que no hay control en la atención primaria para limitar el acceso a los servicios de salud (mental) especializados, muchos pacientes que necesitan tratamiento (para trastornos mentales graves en particular) pueden buscar atención de nivel especializado directamente. Los servicios de especialistas en psiquiatría se brindan principalmente en las salas ambulatorias de psiquiatría ubicadas en los hospitales generales.",
         "3",
         "['adem', 'formacion', 'especial', 'medicin', 'general', 'tambi', 'inclu', 'tar', 'requier', 'conoc', 'mas', 'profund', 'problem', 'comun', 'salud', 'public', 'inclu', 'salud', 'mental', 'cuestionari', 'salud', 'mental', 'ocde', '2013', 'dad', 'control', 'atencion', 'primari', 'limit', 'acces', 'servici', 'salud', 'mental', 'especializ', 'pacient', 'necesit', 'tratamient', 'trastorn', 'mental', 'grav', 'particul', 'pued', 'busc', 'atencion', 'nivel', 'especializ', 'direct', 'servici', 'especial', 'psiquiatri', 'brind', 'principal', 'sal', 'ambulatori', 'psiquiatri', 'ubic', 'hospital', 'general', 'adema', 'formacion', 'especialista', 'medicina', 'general', 'tambien', 'incluir', 'tarea', 'requerir', 'conocimiento', 'mas', 'profundo', 'problema', 'común', 'salud', 'publicar', 'incluido', 'salud', 'mental', 'cuestionario', 'salud', 'mental', 'ocde', '2013', 'dado', 'control', 'atencion', 'primario', 'limitar', 'acceso', 'servicio', 'salud', 'mental', 'especializado', 'paciente', 'necesitar', 'tratamiento', 'trastorno', 'mental', 'grave', 'particular', 'poder', 'buscar', 'atencion', 'nivel', 'especializado', 'directamente', 'servicio', 'especialista', 'psiquiatrio', 'brindar', 'principalmente', 'sala', 'ambulatoria', 'psiquiatria', 'ubicado', 'hospital', 'general']",
         "['ademas', 'formacion', 'especialistas', 'medicina', 'general', 'tambien', 'incluye', 'tareas', 'requieren', 'conocimiento', 'mas', 'profundo', 'problemas', 'comunes', 'salud', 'publica', 'incluida', 'salud', 'mental', 'cuestionario', 'salud', 'mental', 'ocde', '2013', 'dado', 'control', 'atencion', 'primaria', 'limitar', 'acceso', 'servicios', 'salud', 'mental', 'especializados', 'pacientes', 'necesitan', 'tratamiento', 'trastornos', 'mentales', 'graves', 'particular', 'pueden', 'buscar', 'atencion', 'nivel', 'especializado', 'directamente', 'servicios', 'especialistas', 'psiquiatria', 'brindan', 'principalmente', 'salas', 'ambulatorias', 'psiquiatria', 'ubicadas', 'hospitales', 'generales']"
        ],
        [
         "3",
         "En los países de la OCDE se tiende a pasar de los cursos obligatorios a los optativos, abiertos a estudiantes de distintas facultades y escuelas. Este planteamiento facilita la formación de equipos de estudiantes con distintas formaciones e intereses. El trabajo en equipos interdisciplinares permite a los individuos concentrarse en lo que mejor saben y les gusta y, al mismo tiempo, familiarizarse con nuevos conocimientos que pueden asociarse a una nueva forma de resolver un problema o crear un nuevo producto o servicio. No está claro hasta qué punto estos cursos utilizan métodos pedagógicos creativos y se adaptan a las necesidades de los estudiantes de grado, postgrado y licenciatura.",
         "4",
         "['pais', 'ocde', 'tiend', 'pas', 'curs', 'obligatori', 'optat', 'abiert', 'estudi', 'distint', 'facultad', 'escuel', 'planteamient', 'facilit', 'formacion', 'equip', 'estudi', 'distint', 'formacion', 'interes', 'trabaj', 'equip', 'interdisciplinar', 'permit', 'individu', 'concentr', 'mejor', 'sab', 'gust', 'mism', 'tiemp', 'familiariz', 'nuev', 'conoc', 'pued', 'asoci', 'nuev', 'form', 'resolv', 'problem', 'cre', 'nuev', 'product', 'servici', 'clar', 'punt', 'curs', 'utiliz', 'metod', 'pedagog', 'creativ', 'adapt', 'neces', 'estudi', 'grad', 'postgr', 'licenciatur', 'país', 'ocde', 'tender', 'pasar', 'curso', 'obligatorio', 'optativo', 'abierto', 'estudiante', 'distinto', 'facultad', 'escuela', 'planteamiento', 'facilitar', 'formacion', 'equipo', 'estudiant', 'distinto', 'formación', 'interés', 'trabajo', 'equipo', 'interdisciplinar', 'permitir', 'individuo', 'concentrar él', 'mejor', 'saber', 'gustar', 'mismo', 'tiempo', 'familiarizar él', 'nuevo', 'conocimiento', 'poder', 'asociar él', 'nuevo', 'forma', 'resolver', 'problema', 'crear', 'nuevo', 'producto', 'servicio', 'claro', 'punto', 'curso', 'utilizar', 'metodo', 'pedagogico', 'creativo', 'adaptar', 'necesidad', 'estudiant', 'grado', 'postgrado', 'licenciatura']",
         "['paises', 'ocde', 'tiende', 'pasar', 'cursos', 'obligatorios', 'optativos', 'abiertos', 'estudiantes', 'distintas', 'facultades', 'escuelas', 'planteamiento', 'facilita', 'formacion', 'equipos', 'estudiantes', 'distintas', 'formaciones', 'intereses', 'trabajo', 'equipos', 'interdisciplinares', 'permite', 'individuos', 'concentrarse', 'mejor', 'saben', 'gusta', 'mismo', 'tiempo', 'familiarizarse', 'nuevos', 'conocimientos', 'pueden', 'asociarse', 'nueva', 'forma', 'resolver', 'problema', 'crear', 'nuevo', 'producto', 'servicio', 'claro', 'punto', 'cursos', 'utilizan', 'metodos', 'pedagogicos', 'creativos', 'adaptan', 'necesidades', 'estudiantes', 'grado', 'postgrado', 'licenciatura']"
        ],
        [
         "4",
         "Este grupo se centró en las personas que padecen trastornos mentales con comorbilidad de abuso de sustancias (mientras que la demencia, la discapacidad intelectual y el abuso de sustancias por sà solos quedaron excluidos del ámbito de análisis). Con 90 millones de euros de financiación, la comisión dispuso de tres años para \"iniciar y apoyar el desarrollo de proyectos a todos los niveles (tratamiento médico, mejora de los servicios, proyectos de vivienda, mejoras legislativas y organizativas) y proponer las medidas necesarias para elevar de forma permanente el nivel de los servicios de salud mental\". ",
         "3",
         "['grup', 'centr', 'person', 'padec', 'trastorn', 'mental', 'comorbil', 'abus', 'sustanci', 'mientr', 'demenci', 'discapac', 'intelectual', 'abus', 'sustanci', 'sa', 'sol', 'qued', 'exclu', 'ambit', 'analisis', '90', 'millon', 'eur', 'financi', 'comision', 'dispus', 'tres', 'anos', 'inici', 'apoy', 'desarroll', 'proyect', 'nivel', 'tratamient', 'medic', 'mejor', 'servici', 'proyect', 'viviend', 'mejor', 'legisl', 'organiz', 'propon', 'med', 'necesari', 'elev', 'form', 'permanent', 'nivel', 'servici', 'salud', 'mental', 'grupo', 'centro', 'persona', 'padecer', 'trastorno', 'mental', 'comorbilidad', 'abuso', 'sustancia', 'mientras', 'demencia', 'discapacidad', 'intelectual', 'abuso', 'sustancia', 'sa', 'solo', 'quedar', 'excluido', 'ambito', 'analisis', '90', 'millón', 'euros', 'financiacion', 'comision', 'disponer', 'tres', 'ano', 'iniciar', 'apoyar', 'desarrollo', 'proyecto', 'nivel', 'tratamiento', 'medico', 'mejorar', 'servicio', 'proyecto', 'viviendar', 'mejora', 'legislativo', 'organizativo', 'proponer', 'medida', 'necesario', 'elevar', 'forma', 'permanente', 'nivel', 'servicio', 'salud', 'mental']",
         "['grupo', 'centro', 'personas', 'padecen', 'trastornos', 'mentales', 'comorbilidad', 'abuso', 'sustancias', 'mientras', 'demencia', 'discapacidad', 'intelectual', 'abuso', 'sustancias', 'sa', 'solos', 'quedaron', 'excluidos', 'ambito', 'analisis', '90', 'millones', 'euros', 'financiacion', 'comision', 'dispuso', 'tres', 'anos', 'iniciar', 'apoyar', 'desarrollo', 'proyectos', 'niveles', 'tratamiento', 'medico', 'mejora', 'servicios', 'proyectos', 'vivienda', 'mejoras', 'legislativas', 'organizativas', 'proponer', 'medidas', 'necesarias', 'elevar', 'forma', 'permanente', 'nivel', 'servicios', 'salud', 'mental']"
        ]
       ],
       "shape": {
        "columns": 4,
        "rows": 5
       }
      },
      "text/html": [
       "<div>\n",
       "<style scoped>\n",
       "    .dataframe tbody tr th:only-of-type {\n",
       "        vertical-align: middle;\n",
       "    }\n",
       "\n",
       "    .dataframe tbody tr th {\n",
       "        vertical-align: top;\n",
       "    }\n",
       "\n",
       "    .dataframe thead th {\n",
       "        text-align: right;\n",
       "    }\n",
       "</style>\n",
       "<table border=\"1\" class=\"dataframe\">\n",
       "  <thead>\n",
       "    <tr style=\"text-align: right;\">\n",
       "      <th></th>\n",
       "      <th>textos</th>\n",
       "      <th>labels</th>\n",
       "      <th>palabras</th>\n",
       "      <th>palabrasProces</th>\n",
       "    </tr>\n",
       "  </thead>\n",
       "  <tbody>\n",
       "    <tr>\n",
       "      <th>0</th>\n",
       "      <td>\"Aprendizaje\" y \"educación\" se consideran sinó...</td>\n",
       "      <td>4</td>\n",
       "      <td>[aprendizaj, educ, consider, sinon, escolariz,...</td>\n",
       "      <td>[aprendizaje, educacion, consideran, sinonimos...</td>\n",
       "    </tr>\n",
       "    <tr>\n",
       "      <th>1</th>\n",
       "      <td>Para los niños más pequeños (bebés y niños peq...</td>\n",
       "      <td>4</td>\n",
       "      <td>[nin, mas, pequen, beb, nin, pequen, capacit, ...</td>\n",
       "      <td>[ninos, mas, pequenos, bebes, ninos, pequenos,...</td>\n",
       "    </tr>\n",
       "    <tr>\n",
       "      <th>2</th>\n",
       "      <td>Además, la formación de especialistas en medic...</td>\n",
       "      <td>3</td>\n",
       "      <td>[adem, formacion, especial, medicin, general, ...</td>\n",
       "      <td>[ademas, formacion, especialistas, medicina, g...</td>\n",
       "    </tr>\n",
       "    <tr>\n",
       "      <th>3</th>\n",
       "      <td>En los países de la OCDE se tiende a pasar de ...</td>\n",
       "      <td>4</td>\n",
       "      <td>[pais, ocde, tiend, pas, curs, obligatori, opt...</td>\n",
       "      <td>[paises, ocde, tiende, pasar, cursos, obligato...</td>\n",
       "    </tr>\n",
       "    <tr>\n",
       "      <th>4</th>\n",
       "      <td>Este grupo se centró en las personas que padec...</td>\n",
       "      <td>3</td>\n",
       "      <td>[grup, centr, person, padec, trastorn, mental,...</td>\n",
       "      <td>[grupo, centro, personas, padecen, trastornos,...</td>\n",
       "    </tr>\n",
       "  </tbody>\n",
       "</table>\n",
       "</div>"
      ],
      "text/plain": [
       "                                              textos  labels  \\\n",
       "0  \"Aprendizaje\" y \"educación\" se consideran sinó...       4   \n",
       "1  Para los niños más pequeños (bebés y niños peq...       4   \n",
       "2  Además, la formación de especialistas en medic...       3   \n",
       "3  En los países de la OCDE se tiende a pasar de ...       4   \n",
       "4  Este grupo se centró en las personas que padec...       3   \n",
       "\n",
       "                                            palabras  \\\n",
       "0  [aprendizaj, educ, consider, sinon, escolariz,...   \n",
       "1  [nin, mas, pequen, beb, nin, pequen, capacit, ...   \n",
       "2  [adem, formacion, especial, medicin, general, ...   \n",
       "3  [pais, ocde, tiend, pas, curs, obligatori, opt...   \n",
       "4  [grup, centr, person, padec, trastorn, mental,...   \n",
       "\n",
       "                                      palabrasProces  \n",
       "0  [aprendizaje, educacion, consideran, sinonimos...  \n",
       "1  [ninos, mas, pequenos, bebes, ninos, pequenos,...  \n",
       "2  [ademas, formacion, especialistas, medicina, g...  \n",
       "3  [paises, ocde, tiende, pasar, cursos, obligato...  \n",
       "4  [grupo, centro, personas, padecen, trastornos,...  "
      ]
     },
     "execution_count": 72,
     "metadata": {},
     "output_type": "execute_result"
    }
   ],
   "source": [
    "import spacy\n",
    "# Stemmer para palabras en español\n",
    "stemmer = SnowballStemmer(\"spanish\")\n",
    "\n",
    "# Load spaCy Spanish model\n",
    "nlp = spacy.load(\"es_core_news_sm\")\n",
    "\n",
    "\n",
    "\n",
    "def stem_words(words):\n",
    "    \"\"\"Stem words in list of tokenized words (Spanish).\"\"\"\n",
    "    return [stemmer.stem(w) for w in words]\n",
    "\n",
    "def lemmatize_verbs(words):\n",
    "    \"\"\"Lemmatize words in list of tokenized words (Spanish).\"\"\"\n",
    "    doc = nlp(\" \".join(words))\n",
    "    # Return lemmas, focusing on verbs (if you want *all words*, remove the if check)\n",
    "    return [token.lemma_ for token in doc]\n",
    "\n",
    "def stem_and_lemmatize(words):\n",
    "    \"\"\"Combine stems and lemmas (verbs) if needed.\"\"\"\n",
    "    stems = stem_words(words)\n",
    "    lemmas = lemmatize_verbs(words)\n",
    "    return stems + lemmas\n",
    "\n",
    "df_textC['palabras']=df_textC['palabrasProces'].apply(stem_and_lemmatize)\n",
    "\n",
    "df_textC.head()"
   ]
  },
  {
   "cell_type": "code",
   "execution_count": 73,
   "id": "6ccd28dd",
   "metadata": {},
   "outputs": [
    {
     "data": {
      "application/vnd.microsoft.datawrangler.viewer.v0+json": {
       "columns": [
        {
         "name": "index",
         "rawType": "int64",
         "type": "integer"
        },
        {
         "name": "textos",
         "rawType": "object",
         "type": "string"
        },
        {
         "name": "labels",
         "rawType": "int64",
         "type": "integer"
        },
        {
         "name": "palabras",
         "rawType": "object",
         "type": "unknown"
        },
        {
         "name": "palabrasProces",
         "rawType": "object",
         "type": "unknown"
        }
       ],
       "ref": "a3ca3498-47b1-44a6-a963-b169cbe10304",
       "rows": [
        [
         "681",
         "Si bien es probable que la tarea tenga efectos positivos en los estudiantes de entornos socioeconómicos más aventajados, que normalmente se desempeñan relativamente bien al principio, es posible que no tenga ningún efecto en el aprendizaje de los estudiantes de entornos menos aventajados. Al respecto, Falch y Ronning (2012) argumentan que el tipo de tarea importa. La tarea parece tener un mayor efecto positivo cuando tiene la forma de repetición y sirve como complemento del aprendizaje en clase en lugar de ser un sustituto del aprendizaje en la escuela en el sentido de que los temas que se supone que se enseñan en la escuela se dan como tarea.",
         "4",
         "['si', 'bien', 'probabl', 'tare', 'efect', 'posit', 'estudi', 'entorn', 'socioeconom', 'mas', 'aventaj', 'normal', 'desempen', 'relat', 'bien', 'principi', 'posibl', 'ningun', 'efect', 'aprendizaj', 'estudi', 'entorn', 'men', 'aventaj', 'respect', 'falch', 'ronning', '2012', 'argument', 'tip', 'tare', 'import', 'tare', 'parec', 'ten', 'mayor', 'efect', 'posit', 'form', 'repeticion', 'sirv', 'complement', 'aprendizaj', 'clas', 'lug', 'ser', 'sustitut', 'aprendizaj', 'escuel', 'tem', 'supon', 'ensen', 'escuel', 'dan', 'tare', 'si', 'bien', 'probable', 'tarea', 'efecto', 'positivo', 'estudiante', 'entorno', 'socioeconomico', 'mas', 'aventajado', 'normalmente', 'desempenar', 'relativamente', 'bien', 'principio', 'posible', 'ningun', 'efecto', 'aprendizaje', 'estudiantes', 'entorno', 'menos', 'aventajado', 'respecto', 'falch', 'ronning', '2012', 'argumentar', 'tipo', 'tarea', 'importo', 'tarea', 'parecer', 'tener', 'mayor', 'efecto', 'positivo', 'forma', 'repeticion', 'servir', 'complemento', 'aprendizaje', 'clase', 'lugar', 'ser', 'sustituto', 'aprendizaje', 'escuela', 'temas', 'suponer', 'ensenar', 'escuela', 'dar', 'tarea']",
         "['si', 'bien', 'probable', 'tarea', 'efectos', 'positivos', 'estudiantes', 'entornos', 'socioeconomicos', 'mas', 'aventajados', 'normalmente', 'desempenan', 'relativamente', 'bien', 'principio', 'posible', 'ningun', 'efecto', 'aprendizaje', 'estudiantes', 'entornos', 'menos', 'aventajados', 'respecto', 'falch', 'ronning', '2012', 'argumentan', 'tipo', 'tarea', 'importa', 'tarea', 'parece', 'tener', 'mayor', 'efecto', 'positivo', 'forma', 'repeticion', 'sirve', 'complemento', 'aprendizaje', 'clase', 'lugar', 'ser', 'sustituto', 'aprendizaje', 'escuela', 'temas', 'supone', 'ensenan', 'escuela', 'dan', 'tarea']"
        ],
        [
         "514",
         "Los programas de almuerzo gratis o los libros de texto gratuitos para familias desfavorecidas son ejemplos de estas políticas. Una combinación de políticas dirigidas al bajo rendimiento y la desventaja socioeconómica puede ser más eficaz en estos casos, ya que las políticas universales pueden ser menos eficaces para mejorar tanto la equidad como el rendimiento simultáneamente. Como se señaló anteriormente, PISA constantemente encuentra que el alto rendimiento y una mayor equidad en las oportunidades y resultados educativos no son mutuamente excluyentes.",
         "4",
         "['program', 'almuerz', 'gratis', 'libr', 'text', 'gratuit', 'famili', 'desfavorec', 'ejempl', 'polit', 'combin', 'polit', 'dirig', 'baj', 'rendimient', 'desventaj', 'socioeconom', 'pued', 'ser', 'mas', 'eficaz', 'cas', 'polit', 'universal', 'pued', 'ser', 'men', 'eficac', 'mejor', 'equid', 'rendimient', 'simultan', 'senal', 'anterior', 'pis', 'constant', 'encuentr', 'alto', 'rendimient', 'mayor', 'equid', 'oportun', 'result', 'educ', 'mutu', 'excluyent', 'programa', 'almuerzo', 'gratis', 'libro', 'texto', 'gratuito', 'familia', 'desfavorecido', 'ejemplo', 'politica', 'combinacion', 'politica', 'dirigido', 'bajo', 'rendimiento', 'desventaja', 'socioeconomico', 'poder', 'ser', 'mas', 'eficaz', 'caso', 'politica', 'universal', 'poder', 'ser', 'menos', 'eficaz', 'mejorar', 'equidad', 'rendimiento', 'simultaneamente', 'senalo', 'anteriormente', 'pisar', 'constantemente', 'encontrar', 'alto', 'rendimiento', 'mayor', 'equidad', 'oportunidad', 'resultado', 'educativo', 'mutuamente', 'excluyente']",
         "['programas', 'almuerzo', 'gratis', 'libros', 'texto', 'gratuitos', 'familias', 'desfavorecidas', 'ejemplos', 'politicas', 'combinacion', 'politicas', 'dirigidas', 'bajo', 'rendimiento', 'desventaja', 'socioeconomica', 'puede', 'ser', 'mas', 'eficaz', 'casos', 'politicas', 'universales', 'pueden', 'ser', 'menos', 'eficaces', 'mejorar', 'equidad', 'rendimiento', 'simultaneamente', 'senalo', 'anteriormente', 'pisa', 'constantemente', 'encuentra', 'alto', 'rendimiento', 'mayor', 'equidad', 'oportunidades', 'resultados', 'educativos', 'mutuamente', 'excluyentes']"
        ],
        [
         "14",
         "Esto podría involucrar un sistema de acreditación para certificar a las escuelas como capaces de administrar un presupuesto para gastos operativos como parte de los procesos de evaluación escolar por medio de inspecciones (ver Capítulo 4). El otorgamiento de autonomía debe entonces estar asociado con un monitoreo relevante y enfocado, especialmente el monitoreo de los resultados (ver también el Capítulo 2). Se les debe exigir que desarrollen un plan de desarrollo escolar que vincule las prioridades educativas de la escuela con sus intenciones de gasto en colaboración con la comunidad escolar.",
         "4",
         "['podri', 'involucr', 'sistem', 'acredit', 'certific', 'escuel', 'capac', 'administr', 'presupuest', 'gast', 'oper', 'part', 'proces', 'evalu', 'escol', 'medi', 'inspeccion', 'ver', 'capitul', '4', 'otorg', 'autonomi', 'deb', 'entonc', 'asoci', 'monitore', 'relev', 'enfoc', 'especial', 'monitore', 'result', 'ver', 'tambi', 'capitul', '2', 'deb', 'exig', 'desarroll', 'plan', 'desarroll', 'escol', 'vincul', 'prioridad', 'educ', 'escuel', 'intencion', 'gast', 'colabor', 'comun', 'escol', 'podrio', 'involucrar', 'sistema', 'acreditacion', 'certificar', 'escuela', 'capaz', 'administrar', 'presupuesto', 'gasto', 'operativo', 'parte', 'proceso', 'evaluacion', 'escolar', 'medio', 'inspección', 'ver', 'capitulo', '4', 'otorgamiento', 'autonomio', 'deber', 'entonces', 'asociado', 'monitoreo', 'relevante', 'enfocado', 'especialmente', 'monitoreo', 'resultado', 'ver', 'tambien', 'capitulo', '2', 'deber', 'exigir', 'desarrollar', 'plan', 'desarrollo', 'escolar', 'vinculir', 'prioridad', 'educativo', 'escuela', 'intención', 'gasto', 'colaboracion', 'comunidad', 'escolar']",
         "['podria', 'involucrar', 'sistema', 'acreditacion', 'certificar', 'escuelas', 'capaces', 'administrar', 'presupuesto', 'gastos', 'operativos', 'parte', 'procesos', 'evaluacion', 'escolar', 'medio', 'inspecciones', 'ver', 'capitulo', '4', 'otorgamiento', 'autonomia', 'debe', 'entonces', 'asociado', 'monitoreo', 'relevante', 'enfocado', 'especialmente', 'monitoreo', 'resultados', 'ver', 'tambien', 'capitulo', '2', 'debe', 'exigir', 'desarrollen', 'plan', 'desarrollo', 'escolar', 'vincule', 'prioridades', 'educativas', 'escuela', 'intenciones', 'gasto', 'colaboracion', 'comunidad', 'escolar']"
        ],
        [
         "702",
         "Luego, el índice se utilizó para explicar las puntuaciones de PISA de los estudiantes inmigrantes, así como su bienestar. Lo que es más importante, la regresión explica la distancia geográfica y cultural entre los dos países e incluye efectos fijos del país anfitrión y de origen, por lo que el efecto de la distancia deportiva está aislado de otros posibles factores de confusión. Los resultados muestran que para los niños inmigrantes, un aumento de 1 punto en el índice de distancia deportiva reduce las puntuaciones de ciencias de PISA en más de 1 punto.",
         "4",
         "['lueg', 'indic', 'utiliz', 'explic', 'puntuacion', 'pis', 'estudi', 'inmigr', 'asi', 'bienest', 'mas', 'import', 'regresion', 'explic', 'distanci', 'geograf', 'cultural', 'dos', 'pais', 'inclu', 'efect', 'fij', 'pais', 'anfitrion', 'orig', 'efect', 'distanci', 'deport', 'aisl', 'posibl', 'factor', 'confusion', 'result', 'muestr', 'nin', 'inmigr', 'aument', '1', 'punt', 'indic', 'distanci', 'deport', 'reduc', 'puntuacion', 'cienci', 'pis', 'mas', '1', 'punt', 'luego', 'indicar', 'utilizo', 'explicar', 'puntuación', 'pisar', 'estudiante', 'inmigrante', 'asi', 'bienestar', 'mas', 'importante', 'regresion', 'explicar', 'distancia', 'geografico', 'cultural', 'dos', 'país', 'incluir', 'efecto', 'fijo', 'pais', 'anfitrion', 'origen', 'efecto', 'distancia', 'deportivo', 'aislado', 'posible', 'factor', 'confusion', 'resultado', 'mostrar', 'nino', 'inmigrante', 'aumento', '1', 'punto', 'indecir', 'distancia', 'deportivo', 'reducir', 'puntuación', 'ciencia', 'pisar', 'mas', '1', 'punto']",
         "['luego', 'indice', 'utilizo', 'explicar', 'puntuaciones', 'pisa', 'estudiantes', 'inmigrantes', 'asi', 'bienestar', 'mas', 'importante', 'regresion', 'explica', 'distancia', 'geografica', 'cultural', 'dos', 'paises', 'incluye', 'efectos', 'fijos', 'pais', 'anfitrion', 'origen', 'efecto', 'distancia', 'deportiva', 'aislado', 'posibles', 'factores', 'confusion', 'resultados', 'muestran', 'ninos', 'inmigrantes', 'aumento', '1', 'punto', 'indice', 'distancia', 'deportiva', 'reduce', 'puntuaciones', 'ciencias', 'pisa', 'mas', '1', 'punto']"
        ],
        [
         "1680",
         "Mientras que el efecto crecimiento predominó en prácticamente todos los casos de disminución apreciable de la pobreza, la contribución del efecto distribución fue superior al 25% en otros seis. Para complementar la caracterización de la pobreza por ingresos en América Latina, se presentan resultados actualizados para algunos grupos de población relevantes para el análisis de la pobreza. Las tasas de pobreza de los menores de 15 años pueden ser entre 1,1 y 2,0 veces superiores a las de la población total4 , registrándose las diferencias más notables en los países con menores niveles de pobreza.",
         "1",
         "['mientr', 'efect', 'crecimient', 'predomin', 'practic', 'cas', 'disminucion', 'apreci', 'pobrez', 'contribucion', 'efect', 'distribucion', 'superior', '25', 'seis', 'complement', 'caracteriz', 'pobrez', 'ingres', 'amer', 'latin', 'present', 'result', 'actualiz', 'grup', 'poblacion', 'relev', 'analisis', 'pobrez', 'tas', 'pobrez', 'menor', '15', 'anos', 'pued', 'ser', '11', '20', 'vec', 'superior', 'poblacion', 'total4', 'registr', 'diferent', 'mas', 'notabl', 'pais', 'menor', 'nivel', 'pobrez', 'mientras', 'efecto', 'crecimiento', 'predomino', 'practicamente', 'caso', 'disminucion', 'apreciable', 'pobreza', 'contribucion', 'efecto', 'distribucion', 'superior', '25', 'seis', 'complementar', 'caracterizacion', 'pobrecer', 'ingreso', 'americo', 'latino', 'presentar', 'resultado', 'actualizado', 'grupo', 'poblacion', 'relevante', 'analisis', 'pobrezar', 'tasa', 'pobreza', 'menor', '15', 'ano', 'poder', 'ser', '11', '20', 'vez', 'superior', 'poblacion', 'total4', 'registrar él', 'diferencia', 'mas', 'notable', 'país', 'menor', 'nivel', 'pobreza']",
         "['mientras', 'efecto', 'crecimiento', 'predomino', 'practicamente', 'casos', 'disminucion', 'apreciable', 'pobreza', 'contribucion', 'efecto', 'distribucion', 'superior', '25', 'seis', 'complementar', 'caracterizacion', 'pobreza', 'ingresos', 'america', 'latina', 'presentan', 'resultados', 'actualizados', 'grupos', 'poblacion', 'relevantes', 'analisis', 'pobreza', 'tasas', 'pobreza', 'menores', '15', 'anos', 'pueden', 'ser', '11', '20', 'veces', 'superiores', 'poblacion', 'total4', 'registrandose', 'diferencias', 'mas', 'notables', 'paises', 'menores', 'niveles', 'pobreza']"
        ],
        [
         "558",
         "Alrededor del 10,5 por ciento de ellos viven con el VIH. Datos a nivel nacional, sin embargo. A medida que la evidencia sobre la efectividad de los diferentes servicios y programas de tratamiento (programas de agujas y jeringas, terapia de sustitución de opiáceos, terapia antirretroviral y provisión de naloxona) sea más aceptada en los países, se espera que se implementen programas de servicios más específicos en la región. . La prestación de servicios de tratamiento psicológico se ha ampliado en algunos países de la región para responder a la demanda de tratamiento por consumo de estimulantes de tipo anfetamínico.",
         "3",
         "['alrededor', '105', 'cient', 'viv', 'vih', 'dat', 'nivel', 'nacional', 'embarg', 'med', 'evident', 'efect', 'diferent', 'servici', 'program', 'tratamient', 'program', 'aguj', 'jering', 'terapi', 'sustitucion', 'opiace', 'terapi', 'antirretroviral', 'provision', 'naloxon', 'mas', 'acept', 'pais', 'esper', 'implement', 'program', 'servici', 'mas', 'especif', 'region', 'prestacion', 'servici', 'tratamient', 'psicolog', 'ampli', 'pais', 'region', 'respond', 'demand', 'tratamient', 'consum', 'estimul', 'tip', 'anfetamin', 'alrededor', '105', 'ciento', 'vivir', 'vih', 'datos', 'nivel', 'nacional', 'embargo', 'medido', 'evidenciar', 'efectividad', 'diferente', 'servicio', 'programa', 'tratamiento', 'programa', 'aguja', 'jeringa', 'terapia', 'sustitucion', 'opiaceos', 'terapia', 'antirretroviral', 'provision', 'naloxonar', 'mas', 'aceptado', 'país', 'esperar', 'implementar', 'programa', 'servicio', 'mas', 'especifico', 'region', 'prestacion', 'servicio', 'tratamiento', 'psicologico', 'ampliado', 'país', 'region', 'responder', 'demanda', 'tratamiento', 'consumo', 'estimulante', 'tipo', 'anfetaminico']",
         "['alrededor', '105', 'ciento', 'viven', 'vih', 'datos', 'nivel', 'nacional', 'embargo', 'medida', 'evidencia', 'efectividad', 'diferentes', 'servicios', 'programas', 'tratamiento', 'programas', 'agujas', 'jeringas', 'terapia', 'sustitucion', 'opiaceos', 'terapia', 'antirretroviral', 'provision', 'naloxona', 'mas', 'aceptada', 'paises', 'espera', 'implementen', 'programas', 'servicios', 'mas', 'especificos', 'region', 'prestacion', 'servicios', 'tratamiento', 'psicologico', 'ampliado', 'paises', 'region', 'responder', 'demanda', 'tratamiento', 'consumo', 'estimulantes', 'tipo', 'anfetaminico']"
        ],
        [
         "1287",
         "A pesar de esto, aún persiste una incertidumbre considerable sobre i) qué políticas funcionan mejor para brindar una atención médica segura y efectiva que brinde una buena experiencia al paciente, y ii) qué estrategias de mejora de la calidad pueden ayudar a brindar la mejor atención al menor costo. Los hallazgos presentados en este informe de síntesis se reunieron a través de una revisión sistemática de las políticas e instituciones descritas en cada Revisión de la calidad de la atención médica de la OCDE, para identificar desafíos comunes, respuestas y prácticas de vanguardia. Este material se complementó con las estadísticas de salud de la OCDE y otros informes de la OCDE cuando correspondía. Los gobiernos deben alentar y, cuando corresponda, exigir que los sistemas de atención médica y los proveedores de atención médica sean abiertos sobre la eficacia, la seguridad y la atención centrada en el paciente que brindan.",
         "3",
         "['pes', 'aun', 'pers', 'incertidumbr', 'consider', 'i', 'polit', 'funcion', 'mejor', 'brind', 'atencion', 'medic', 'segur', 'efect', 'brind', 'buen', 'experient', 'pacient', 'ii', 'estrategi', 'mejor', 'calid', 'pued', 'ayud', 'brind', 'mejor', 'atencion', 'menor', 'cost', 'hallazg', 'present', 'inform', 'sintesis', 'reun', 'trav', 'revision', 'sistemat', 'polit', 'institu', 'descrit', 'cad', 'revision', 'calid', 'atencion', 'medic', 'ocde', 'identific', 'desafi', 'comun', 'respuest', 'practic', 'vanguardi', 'material', 'complement', 'estadist', 'salud', 'ocde', 'inform', 'ocde', 'correspondi', 'gobi', 'deb', 'alent', 'correspond', 'exig', 'sistem', 'atencion', 'medic', 'proveedor', 'atencion', 'medic', 'abiert', 'eficaci', 'segur', 'atencion', 'centr', 'pacient', 'brind', 'pesar', 'aun', 'persistir', 'incertidumbre', 'considerable', 'i', 'politica', 'funcionar', 'mejor', 'brindar', 'atencion', 'medica', 'seguro', 'efectivo', 'brinde', 'buen', 'experiencia', 'paciente', 'ii', 'estrategia', 'mejor', 'calidad', 'poder', 'ayudar', 'brindar', 'mejor', 'atencion', 'menor', 'costo', 'hallazgo', 'presentado', 'informir', 'sintesi', 'reunir', 'trav', 'revision', 'sistematico', 'politica', 'institución', 'descrito', 'cada', 'revision', 'calidad', 'atencion', 'medica', 'ocde', 'identificar', 'desafio', 'común', 'respuesta', 'practica', 'vanguardia', 'material', 'complemento', 'estadistica', 'salud', 'ocde', 'informes', 'ocde', 'correspondia', 'gobierno', 'deber', 'alentar', 'correspondo', 'exigir', 'sistema', 'atencion', 'medica', 'proveedor', 'atencion', 'medica', 'abierto', 'eficacia', 'seguridad', 'atencion', 'centrado', 'paciente', 'brindar']",
         "['pesar', 'aun', 'persiste', 'incertidumbre', 'considerable', 'i', 'politicas', 'funcionan', 'mejor', 'brindar', 'atencion', 'medica', 'segura', 'efectiva', 'brinde', 'buena', 'experiencia', 'paciente', 'ii', 'estrategias', 'mejora', 'calidad', 'pueden', 'ayudar', 'brindar', 'mejor', 'atencion', 'menor', 'costo', 'hallazgos', 'presentados', 'informe', 'sintesis', 'reunieron', 'traves', 'revision', 'sistematica', 'politicas', 'instituciones', 'descritas', 'cada', 'revision', 'calidad', 'atencion', 'medica', 'ocde', 'identificar', 'desafios', 'comunes', 'respuestas', 'practicas', 'vanguardia', 'material', 'complemento', 'estadisticas', 'salud', 'ocde', 'informes', 'ocde', 'correspondia', 'gobiernos', 'deben', 'alentar', 'corresponda', 'exigir', 'sistemas', 'atencion', 'medica', 'proveedores', 'atencion', 'medica', 'abiertos', 'eficacia', 'seguridad', 'atencion', 'centrada', 'paciente', 'brindan']"
        ],
        [
         "1873",
         "Esto fue ligeramente más alto que el promedio de la OCDE de 1600 horas para la educación primaria y 1618 horas para la educación secundaria inferior. El tiempo de enseñanza neto ascendió a 662 horas por año escolar, que fue menos que en muchos otros países de la OCDE (promedio de la OCDE: 772 horas para primaria y 694 horas para educación secundaria inferior) (ver Figura 4.1, OCDE, 2015a).1 Con la implementación de la reforma Folkeskole de 2014, se espera que los docentes enseñen en promedio 80 horas más durante un año escolar. Un año escolar suele ser de 40 semanas en Dinamarca. Los países están clasificados en orden descendente del número de horas lectivas por año en educación secundaria inferior. Los profesores de secundaria inferior informaron que dedican una media de 18,9 horas a la semana a la enseñanza, alrededor de la media de TALIS de 19,3 horas, y 7,9 horas a la planificación o preparación individual (ya sea en la escuela o fuera de la escuela), un poco más que la media de TALIS de 7,1 horas ( ver Figura 4.2).",
         "4",
         "['liger', 'mas', 'alto', 'promedi', 'ocde', '1600', 'hor', 'educ', 'primari', '1618', 'hor', 'educ', 'secundari', 'inferior', 'tiemp', 'ensen', 'net', 'ascendi', '662', 'hor', 'ano', 'escol', 'men', 'pais', 'ocde', 'promedi', 'ocde', '772', 'hor', 'primari', '694', 'hor', 'educ', 'secundari', 'inferior', 'ver', 'figur', '41', 'ocde', '2015a', '1', 'implement', 'reform', 'folkeskol', '2014', 'esper', 'docent', 'ensen', 'promedi', '80', 'hor', 'mas', 'ano', 'escol', 'ano', 'escol', 'suel', 'ser', '40', 'seman', 'dinamarc', 'pais', 'estan', 'clasific', 'orden', 'descendent', 'numer', 'hor', 'lectiv', 'ano', 'educ', 'secundari', 'inferior', 'profesor', 'secundari', 'inferior', 'inform', 'dedic', 'medi', '189', 'hor', 'seman', 'ensen', 'alrededor', 'medi', 'talis', '193', 'hor', '79', 'hor', 'planif', 'prepar', 'individual', 'escuel', 'escuel', 'mas', 'medi', 'talis', '71', 'hor', 'ver', 'figur', '42', 'ligeramente', 'mas', 'alto', 'promedio', 'ocde', '1600', 'horas', 'educacion', 'primaria', '1618', 'hora', 'educacion', 'secundaria', 'inferior', 'tiempo', 'ensenanza', 'neto', 'ascendio', '662', 'hora', 'ano', 'escolar', 'menos', 'país', 'ocde', 'promedio', 'ocde', '772', 'hora', 'primario', '694', 'hora', 'educacion', 'secundaria', 'inferior', 'ver', 'figura', '41', 'ocde', '2015a', '1', 'implementacion', 'reforma', 'folkeskole', '2014', 'esperar', 'docente', 'ensenir', 'promedio', '80', 'hora', 'mas', 'ano', 'escolar', 'ano', 'escolar', 'soler', 'ser', '40', 'semana', 'dinamarca', 'país', 'estar', 'clasificado', 'orden', 'descendente', 'numero', 'hora', 'lectiva', 'ano', 'educacion', 'secundario', 'inferior', 'profesor', 'secundario', 'inferior', 'informar', 'dedicar', 'medio', '189', 'hora', 'semán', 'ensenanza', 'alrededor', 'medio', 'talis', '193', 'hora', '79', 'hora', 'planificacion', 'preparacion', 'individual', 'escuela', 'escuela', 'mas', 'medio', 'talis', '71', 'hora', 'ver', 'figura', '42']",
         "['ligeramente', 'mas', 'alto', 'promedio', 'ocde', '1600', 'horas', 'educacion', 'primaria', '1618', 'horas', 'educacion', 'secundaria', 'inferior', 'tiempo', 'ensenanza', 'neto', 'ascendio', '662', 'horas', 'ano', 'escolar', 'menos', 'paises', 'ocde', 'promedio', 'ocde', '772', 'horas', 'primaria', '694', 'horas', 'educacion', 'secundaria', 'inferior', 'ver', 'figura', '41', 'ocde', '2015a', '1', 'implementacion', 'reforma', 'folkeskole', '2014', 'espera', 'docentes', 'ensenen', 'promedio', '80', 'horas', 'mas', 'ano', 'escolar', 'ano', 'escolar', 'suele', 'ser', '40', 'semanas', 'dinamarca', 'paises', 'estan', 'clasificados', 'orden', 'descendente', 'numero', 'horas', 'lectivas', 'ano', 'educacion', 'secundaria', 'inferior', 'profesores', 'secundaria', 'inferior', 'informaron', 'dedican', 'media', '189', 'horas', 'semana', 'ensenanza', 'alrededor', 'media', 'talis', '193', 'horas', '79', 'horas', 'planificacion', 'preparacion', 'individual', 'escuela', 'escuela', 'mas', 'media', 'talis', '71', 'horas', 'ver', 'figura', '42']"
        ],
        [
         "2299",
         "Para la mayoría de los niños, las transiciones son satisfactorias y gratificantes, pero para algunos niños pueden ser desafiantes y estresantes (Jindal-Snape, 2010). Por lo tanto, la naturaleza y la fluidez de estas transiciones pueden verse fuertemente influenciadas por decisiones sobre aspectos pedagógicos (y programáticos) durante la etapa de transición (Neuman, 2002, Sink, Edwards y Weir, 2007). En la literatura educativa, la pedagogía ha sido conceptualizada como la \"base científica para el arte de enseñar\" y definida como el conjunto de técnicas y estrategias de instrucción que permiten que el aprendizaje de los niños tenga lugar en entornos educativos (OCDE, 2012, Siraj-Blatchford, 2010). La pedagogía se refiere no solo a las prácticas reales y las acciones directas de un profesional, sino también a la forma en que un profesional implementa las prácticas, cómo interviene o participa en actividades y se comunica con los niños, la forma en que se organizan los grupos y las prácticas, y cómo el horario diario está planificado.",
         "4",
         "['mayori', 'nin', 'transicion', 'satisfactori', 'gratif', 'nin', 'pued', 'ser', 'desafi', 'estres', 'jindalsnap', '2010', 'naturalez', 'fluidez', 'transicion', 'pued', 'vers', 'fuertement', 'influenci', 'decision', 'aspect', 'pedagog', 'programat', 'etap', 'transicion', 'neum', '2002', 'sink', 'edwards', 'weir', '2007', 'literatur', 'educ', 'pedagogi', 'sid', 'conceptualiz', 'bas', 'cientif', 'arte', 'ensen', 'defin', 'conjunt', 'tecnic', 'estrategi', 'instruccion', 'permit', 'aprendizaj', 'nin', 'lug', 'entorn', 'educ', 'ocde', '2012', 'sirajblatchford', '2010', 'pedagogi', 'refier', 'sol', 'practic', 'real', 'accion', 'direct', 'profesional', 'sin', 'tambi', 'form', 'profesional', 'implement', 'practic', 'intervien', 'particip', 'activ', 'comun', 'nin', 'form', 'organiz', 'grup', 'practic', 'horari', 'diari', 'planific', 'mayorio', 'nino', 'transición', 'satisfactorio', 'gratificante', 'nino', 'poder', 'ser', 'desafiant', 'estresant', 'jindalsnape', '2010', 'naturaleza', 'fluidez', 'transición', 'poder', 'ver él', 'fuertemente', 'influenciada', 'decisión', 'aspecto', 'pedagogico', 'programatico', 'etapa', 'transicion', 'neumar', '2002', 'sink', 'edwards', 'weir', '2007', 'literatura', 'educativo', 'pedagogia', 'ser', 'conceptualizar', 'base', 'cientifico', 'arte', 'ensenar', 'definido', 'conjunto', 'tecnica', 'estrategia', 'instruccion', 'permitir', 'aprendizaje', 'nino', 'lugar', 'entorno', 'educativo', 'ocde', '2012', 'sirajblatchford', '2010', 'pedagogiar', 'referir', 'solo', 'practica', 'real', 'acción', 'directo', 'profesional', 'sino', 'tambien', 'forma', 'profesional', 'implementar', 'practica', 'interviene', 'participar', 'actividad', 'comunicar', 'nino', 'forma', 'organizar', 'grupo', 'practica', 'horario', 'diario', 'planificado']",
         "['mayoria', 'ninos', 'transiciones', 'satisfactorias', 'gratificantes', 'ninos', 'pueden', 'ser', 'desafiantes', 'estresantes', 'jindalsnape', '2010', 'naturaleza', 'fluidez', 'transiciones', 'pueden', 'verse', 'fuertemente', 'influenciadas', 'decisiones', 'aspectos', 'pedagogicos', 'programaticos', 'etapa', 'transicion', 'neuman', '2002', 'sink', 'edwards', 'weir', '2007', 'literatura', 'educativa', 'pedagogia', 'sido', 'conceptualizada', 'base', 'cientifica', 'arte', 'ensenar', 'definida', 'conjunto', 'tecnicas', 'estrategias', 'instruccion', 'permiten', 'aprendizaje', 'ninos', 'lugar', 'entornos', 'educativos', 'ocde', '2012', 'sirajblatchford', '2010', 'pedagogia', 'refiere', 'solo', 'practicas', 'reales', 'acciones', 'directas', 'profesional', 'sino', 'tambien', 'forma', 'profesional', 'implementa', 'practicas', 'interviene', 'participa', 'actividades', 'comunica', 'ninos', 'forma', 'organizan', 'grupos', 'practicas', 'horario', 'diario', 'planificado']"
        ],
        [
         "2270",
         "Los datos se refieren a la duración promedio de la estadía para atención curativa (aguda) (lo que resulta en una subestimación). Fuente: Estadísticas de salud de la OCDE (2016), http://dx.doi.org/10.1787/health-data-en. En comparación con el sector hospitalario, existe un déficit importante de información sobre los patrones de atención y los resultados en la atención primaria.",
         "3",
         "['dat', 'refier', 'duracion', 'promedi', 'estadi', 'atencion', 'curat', 'agud', 'result', 'subestim', 'fuent', 'estadist', 'salud', 'ocde', '2016', 'http', 'dxdoiorg101787healthdat', 'compar', 'sector', 'hospitalari', 'exist', 'deficit', 'import', 'inform', 'patron', 'atencion', 'result', 'atencion', 'primari', 'dato', 'referir', 'duracion', 'promedio', 'estadia', 'atencion', 'curativo', 'agudo', 'resultar', 'subestimacion', 'fuente', 'estadistica', 'salud', 'ocde', '2016', 'http', 'dxdoiorg101787healthdataen', 'comparacion', 'sector', 'hospitalario', 'existir', 'deficit', 'importante', 'informacion', 'patrones', 'atencion', 'resultado', 'atencion', 'primaria']",
         "['datos', 'refieren', 'duracion', 'promedio', 'estadia', 'atencion', 'curativa', 'aguda', 'resulta', 'subestimacion', 'fuente', 'estadisticas', 'salud', 'ocde', '2016', 'http', 'dxdoiorg101787healthdataen', 'comparacion', 'sector', 'hospitalario', 'existe', 'deficit', 'importante', 'informacion', 'patrones', 'atencion', 'resultados', 'atencion', 'primaria']"
        ],
        [
         "9",
         "De hecho, aunque Chile y Uruguay tienen índices de pobreza similares, la pobreza infantil en Chile es 1,8 veces mayor que la de la población adulta, mientras que en Uruguay es 3,1 veces mayor. Esto produciría tasas de pobreza infantil artificialmente altas. Esta línea representa el costo de satisfacer las necesidades básicas de una persona. Medir la pobreza de esta manera supone que el costo per cápita de satisfacer las necesidades básicas de un individuo no se ve afectado por el número de personas que viven en un hogar o por las características demográficas del hogar.",
         "1",
         "['hech', 'aunqu', 'chil', 'uruguay', 'indic', 'pobrez', 'similar', 'pobrez', 'infantil', 'chil', '18', 'vec', 'mayor', 'poblacion', 'adult', 'mientr', 'uruguay', '31', 'vec', 'mayor', 'produciri', 'tas', 'pobrez', 'infantil', 'artificial', 'altas', 'line', 'represent', 'cost', 'satisfac', 'neces', 'basic', 'person', 'med', 'pobrez', 'maner', 'supon', 'cost', 'per', 'capit', 'satisfac', 'neces', 'basic', 'individu', 've', 'afect', 'numer', 'person', 'viv', 'hog', 'caracterist', 'demograf', 'hog', 'hecho', 'aunque', 'chile', 'uruguay', 'indiz', 'pobreza', 'similar', 'pobreza', 'infantil', 'chile', '18', 'vez', 'mayor', 'poblacion', 'adulto', 'mientras', 'uruguay', '31', 'vez', 'mayor', 'producirio', 'tasa', 'pobreza', 'infantil', 'artificialmente', 'alto', 'linea', 'representar', 'costo', 'satisfacer', 'necesidad', 'basica', 'persona', 'medir', 'pobreza', 'manera', 'suponer', 'costo', 'per', 'capita', 'satisfacer', 'necesidad', 'basica', 'individuo', 'ver', 'afectado', 'numero', 'persona', 'vivir', 'hogar', 'caracteristica', 'demografica', 'hogar']",
         "['hecho', 'aunque', 'chile', 'uruguay', 'indices', 'pobreza', 'similares', 'pobreza', 'infantil', 'chile', '18', 'veces', 'mayor', 'poblacion', 'adulta', 'mientras', 'uruguay', '31', 'veces', 'mayor', 'produciria', 'tasas', 'pobreza', 'infantil', 'artificialmente', 'altas', 'linea', 'representa', 'costo', 'satisfacer', 'necesidades', 'basicas', 'persona', 'medir', 'pobreza', 'manera', 'supone', 'costo', 'per', 'capita', 'satisfacer', 'necesidades', 'basicas', 'individuo', 've', 'afectado', 'numero', 'personas', 'viven', 'hogar', 'caracteristicas', 'demograficas', 'hogar']"
        ],
        [
         "1897",
         "Ha habido racionalizaciones generalizadas del gasto en todos los sectores del sistema de salud y recortes permanentes en los salarios de los trabajadores del sector público, incluidos los de los profesionales de la salud, desde 2010, en un esfuerzo por reducir los costos. Estas presiones, combinadas con el hecho de que el gasto privado ya es alto (Figura 12) y es poco probable que pueda extenderse más, crean preocupaciones tangibles sobre la idoneidad de la financiación del sistema de salud, especialmente a largo plazo. En respuesta, el sector ha visto una serie de medidas basadas en evidencia destinadas a asegurar ahorros y mejorar la eficiencia (Cuadro 4). Sin embargo, a pesar de las enormes reducciones, el gasto actual en medicamentos recetados y de venta libre representa más de una cuarta parte ( 26%) de todo el gasto en salud, y se encuentra entre los más altos de la UE. Antes de la crisis, la alta capacidad privada combinada con el débil poder de negociación del fondo de enfermedad, los procedimientos de pago deficientes, la falta de protocolos/directrices clínicas y la falta de control del uso de las pruebas de diagnóstico por parte de los médicos crearon una estructura de incentivos que conducía al consumo excesivo y al despilfarro.",
         "3",
         "['racionaliz', 'generaliz', 'gast', 'sector', 'sistem', 'salud', 'recort', 'permanent', 'salari', 'trabaj', 'sector', 'public', 'inclu', 'profesional', 'salud', '2010', 'esfuerz', 'reduc', 'cost', 'presion', 'combin', 'hech', 'gast', 'priv', 'alto', 'figur', '12', 'probabl', 'pued', 'extend', 'mas', 'cre', 'preocup', 'tangibl', 'idon', 'financi', 'sistem', 'salud', 'especial', 'larg', 'plaz', 'respuest', 'sector', 'vist', 'seri', 'med', 'bas', 'evident', 'destin', 'asegur', 'ahorr', 'mejor', 'eficient', 'cuadr', '4', 'embarg', 'pes', 'enorm', 'reduccion', 'gast', 'actual', 'medicament', 'recet', 'vent', 'libr', 'represent', 'mas', 'cuart', 'part', '26', 'gast', 'salud', 'encuentr', 'mas', 'altos', 'ue', 'crisis', 'alta', 'capac', 'priv', 'combin', 'debil', 'pod', 'negoci', 'fond', 'enfermed', 'proced', 'pag', 'deficient', 'falt', 'protocolosdirectric', 'clinic', 'falt', 'control', 'uso', 'prueb', 'diagnost', 'part', 'medic', 'cre', 'estructur', 'incent', 'conduci', 'consum', 'exces', 'despilfarr', 'racionalización', 'generalizado', 'gasto', 'sector', 'sistema', 'salud', 'recorte', 'permanente', 'salario', 'trabajador', 'sector', 'publico', 'incluido', 'profesional', 'salud', '2010', 'esfuerzo', 'reducir', 'costo', 'presión', 'combinado', 'hecho', 'gasto', 'privado', 'alto', 'figura', '12', 'probable', 'poder', 'extender él', 'mas', 'crear', 'preocupación', 'tangible', 'idoneidad', 'financiacion', 'sistema', 'salud', 'especialmente', 'largo', 'plazo', 'respuesta', 'sector', 'visto', 'serie', 'medida', 'basado', 'evidenciar', 'destinado', 'asegurar', 'ahorro', 'mejorar', 'eficiencia', 'cuadro', '4', 'embargo', 'pesar', 'enorme', 'reducción', 'gasto', 'actual', 'medicamento', 'recetado', 'venta', 'libre', 'representar', 'mas', 'cuarto', 'parte', '26', 'gasto', 'salud', 'encontrar', 'mas', 'alto', 'ue', 'crisis', 'alto', 'capacidad', 'privado', 'combinado', 'debil', 'poder', 'negociacion', 'fondo', 'enfermedad', 'procedimiento', 'pago', 'deficiente', 'faltar', 'protocolosdirectriz', 'clinica', 'faltar', 'control', 'uso', 'pruebas', 'diagnostico', 'parte', 'medico', 'crear', 'estructura', 'incentivo', 'conduciar', 'consumo', 'excesivo', 'despilfarro']",
         "['racionalizaciones', 'generalizadas', 'gasto', 'sectores', 'sistema', 'salud', 'recortes', 'permanentes', 'salarios', 'trabajadores', 'sector', 'publico', 'incluidos', 'profesionales', 'salud', '2010', 'esfuerzo', 'reducir', 'costos', 'presiones', 'combinadas', 'hecho', 'gasto', 'privado', 'alto', 'figura', '12', 'probable', 'pueda', 'extenderse', 'mas', 'crean', 'preocupaciones', 'tangibles', 'idoneidad', 'financiacion', 'sistema', 'salud', 'especialmente', 'largo', 'plazo', 'respuesta', 'sector', 'visto', 'serie', 'medidas', 'basadas', 'evidencia', 'destinadas', 'asegurar', 'ahorros', 'mejorar', 'eficiencia', 'cuadro', '4', 'embargo', 'pesar', 'enormes', 'reducciones', 'gasto', 'actual', 'medicamentos', 'recetados', 'venta', 'libre', 'representa', 'mas', 'cuarta', 'parte', '26', 'gasto', 'salud', 'encuentra', 'mas', 'altos', 'ue', 'crisis', 'alta', 'capacidad', 'privada', 'combinada', 'debil', 'poder', 'negociacion', 'fondo', 'enfermedad', 'procedimientos', 'pago', 'deficientes', 'falta', 'protocolosdirectrices', 'clinicas', 'falta', 'control', 'uso', 'pruebas', 'diagnostico', 'parte', 'medicos', 'crearon', 'estructura', 'incentivos', 'conducia', 'consumo', 'excesivo', 'despilfarro']"
        ],
        [
         "412",
         "Uno de los principales mensajes del informe conjunto de 2015 fue que la apertura comercial o el crecimiento del comercio por sí solos pueden no ser suficientes para acabar con la pobreza extrema. Las personas en situación de pobreza extrema enfrentan limitaciones específicas, debido al hecho de que tienden a trabajar en áreas rurales, en el sector informal, viven en estados frágiles y enfrentan desigualdad de género, que pueden limitar su capacidad para beneficiarse de ganancias económicas más amplias inducidas por el comercio. . Continúa centrándose en los vínculos entre el comercio y la pobreza extrema en lugar de los efectos distributivos más amplios del comercio y la agenda de prosperidad compartida.",
         "1",
         "['principal', 'mensaj', 'inform', 'conjunt', '2015', 'apertur', 'comercial', 'crecimient', 'comerci', 'si', 'sol', 'pued', 'ser', 'suficient', 'acab', 'pobrez', 'extrem', 'person', 'situacion', 'pobrez', 'extrem', 'enfrent', 'limit', 'especif', 'deb', 'hech', 'tiend', 'trabaj', 'are', 'rural', 'sector', 'informal', 'viv', 'fragil', 'enfrent', 'desiguald', 'gener', 'pued', 'limit', 'capac', 'benefici', 'gananci', 'econom', 'mas', 'ampli', 'induc', 'comerci', 'continu', 'centr', 'vincul', 'comerci', 'pobrez', 'extrem', 'lug', 'efect', 'distribut', 'mas', 'ampli', 'comerci', 'agend', 'prosper', 'compart', 'principal', 'mensaje', 'informe', 'conjunto', '2015', 'apertura', 'comercial', 'crecimiento', 'comercio', 'si', 'solo', 'poder', 'ser', 'suficiente', 'acabar', 'pobreza', 'extremo', 'persona', 'situacion', 'pobreza', 'extremo', 'enfrentar', 'limitación', 'especifico', 'debido', 'hecho', 'tender', 'trabajar', 'area', 'rural', 'sector', 'informal', 'vivir', 'fragil', 'enfrentar', 'desigualdad', 'genero', 'poder', 'limitar', 'capacidad', 'beneficiar él', 'ganancia', 'economica', 'mas', 'amplio', 'inducida', 'comercio', 'continuo', 'centrar él', 'vinculo', 'comercio', 'pobreza', 'extremo', 'lugar', 'efecto', 'distributivo', 'mas', 'amplio', 'comercio', 'agendo', 'prosperidad', 'compartido']",
         "['principales', 'mensajes', 'informe', 'conjunto', '2015', 'apertura', 'comercial', 'crecimiento', 'comercio', 'si', 'solos', 'pueden', 'ser', 'suficientes', 'acabar', 'pobreza', 'extrema', 'personas', 'situacion', 'pobreza', 'extrema', 'enfrentan', 'limitaciones', 'especificas', 'debido', 'hecho', 'tienden', 'trabajar', 'areas', 'rurales', 'sector', 'informal', 'viven', 'fragiles', 'enfrentan', 'desigualdad', 'genero', 'pueden', 'limitar', 'capacidad', 'beneficiarse', 'ganancias', 'economicas', 'mas', 'amplias', 'inducidas', 'comercio', 'continua', 'centrandose', 'vinculos', 'comercio', 'pobreza', 'extrema', 'lugar', 'efectos', 'distributivos', 'mas', 'amplios', 'comercio', 'agenda', 'prosperidad', 'compartida']"
        ],
        [
         "457",
         "La educación se identificó como un objetivo independiente (ODS 4). Las comunidades epistémicas han documentado una serie de vínculos entre la educación y otras áreas de los ODS, y los formuladores de políticas han reconocido muchos de ellos durante mucho tiempo. Sobre la base de un análisis exhaustivo del contenido de 40 informes mundiales, este documento examina qué tan bien están representados esos vínculos en las principales publicaciones del sistema de las Naciones Unidas.",
         "4",
         "['educ', 'identif', 'objet', 'independient', 'ods', '4', 'comun', 'epistem', 'document', 'seri', 'vincul', 'educ', 'are', 'ods', 'formul', 'polit', 'reconoc', 'tiemp', 'bas', 'analisis', 'exhaust', 'conten', '40', 'inform', 'mundial', 'document', 'examin', 'tan', 'bien', 'estan', 'represent', 'vincul', 'principal', 'public', 'sistem', 'nacion', 'unid', 'educacion', 'identifico', 'objetivo', 'independiente', 'ods', '4', 'comunidad', 'epistemica', 'documentado', 'serie', 'vinculos', 'educacion', 'areas', 'ods', 'formulador', 'politica', 'reconocido', 'tiempo', 'basar', 'analisis', 'exhaustivo', 'contenido', '40', 'informe', 'mundial', 'documento', 'examina', 'tanto', 'bien', 'estar', 'representado', 'vinculo', 'principal', 'publicación', 'sistema', 'naciones', 'unidas']",
         "['educacion', 'identifico', 'objetivo', 'independiente', 'ods', '4', 'comunidades', 'epistemicas', 'documentado', 'serie', 'vinculos', 'educacion', 'areas', 'ods', 'formuladores', 'politicas', 'reconocido', 'tiempo', 'base', 'analisis', 'exhaustivo', 'contenido', '40', 'informes', 'mundiales', 'documento', 'examina', 'tan', 'bien', 'estan', 'representados', 'vinculos', 'principales', 'publicaciones', 'sistema', 'naciones', 'unidas']"
        ],
        [
         "297",
         "La revisión que se presenta a continuación no ofrece una relación y un análisis detallados de los métodos adoptados en cada estudio, pero se puede afirmar que todas las conclusiones principales de la revisión están respaldadas por al menos un análisis econométrico sólido que apoya la naturaleza causal de los vínculos evaluados (por ejemplo, en el caso de las penalizaciones salariales asociadas a la obesidad y el tabaquismo, las diferencias salariales para personas con distintos niveles de consumo de alcohol, las diferencias de empleo para los obesos, los bebedores empedernidos y los fumadores, etc.). Se centra en cómo los factores de riesgo y las enfermedades crónicas afectan al empleo, los salarios, la productividad laboral y el abandono prematuro del mercado de trabajo. También proporciona una visión del valor de la producción potencialmente perdida por enfermedad y por resultados adversos en el mercado laboral.",
         "3",
         "['revision', 'present', 'continu', 'ofrec', 'relacion', 'analisis', 'detall', 'metod', 'adopt', 'cad', 'estudi', 'pued', 'afirm', 'tod', 'conclusion', 'principal', 'revision', 'estan', 'respald', 'men', 'analisis', 'econometr', 'sol', 'apoy', 'naturalez', 'causal', 'vincul', 'evalu', 'ejempl', 'cas', 'penaliz', 'salarial', 'asoci', 'obes', 'tabaqu', 'diferent', 'salarial', 'person', 'distint', 'nivel', 'consum', 'alcohol', 'diferent', 'emple', 'obes', 'bebedor', 'empedern', 'fumador', 'etc', 'centr', 'factor', 'riesg', 'enfermedad', 'cronic', 'afect', 'emple', 'salari', 'product', 'laboral', 'abandon', 'prematur', 'merc', 'trabaj', 'tambi', 'proporcion', 'vision', 'valor', 'produccion', 'potencial', 'perd', 'enfermed', 'result', 'advers', 'merc', 'laboral', 'revision', 'presentar', 'continuacion', 'ofrecer', 'relacion', 'analisis', 'detallado', 'metodo', 'adoptado', 'cada', 'estudio', 'poder', 'afirmar', 'todo', 'conclusión', 'principal', 'revision', 'estar', 'respaldada', 'menos', 'analisis', 'econometrico', 'solido', 'apoyar', 'naturaleza', 'causal', 'vinculo', 'evaluado', 'ejemplo', 'caso', 'penalización', 'salarial', 'asociado', 'obesidad', 'tabaquismo', 'diferencia', 'salarial', 'persona', 'distinto', 'nivel', 'consumo', 'alcohol', 'diferencia', 'empleo', 'obeso', 'bebedor', 'empedernido', 'fumador', 'etc', 'centrar', 'factor', 'riesgo', 'enfermedad', 'cronica', 'afectar', 'empleo', 'salario', 'productividad', 'laboral', 'abandono', 'prematuro', 'mercado', 'trabajo', 'tambien', 'proporciona', 'vision', 'valor', 'produccion', 'potencialmente', 'perdido', 'enfermedad', 'resultado', 'adversos', 'mercado', 'laboral']",
         "['revision', 'presenta', 'continuacion', 'ofrece', 'relacion', 'analisis', 'detallados', 'metodos', 'adoptados', 'cada', 'estudio', 'puede', 'afirmar', 'todas', 'conclusiones', 'principales', 'revision', 'estan', 'respaldadas', 'menos', 'analisis', 'econometrico', 'solido', 'apoya', 'naturaleza', 'causal', 'vinculos', 'evaluados', 'ejemplo', 'caso', 'penalizaciones', 'salariales', 'asociadas', 'obesidad', 'tabaquismo', 'diferencias', 'salariales', 'personas', 'distintos', 'niveles', 'consumo', 'alcohol', 'diferencias', 'empleo', 'obesos', 'bebedores', 'empedernidos', 'fumadores', 'etc', 'centra', 'factores', 'riesgo', 'enfermedades', 'cronicas', 'afectan', 'empleo', 'salarios', 'productividad', 'laboral', 'abandono', 'prematuro', 'mercado', 'trabajo', 'tambien', 'proporciona', 'vision', 'valor', 'produccion', 'potencialmente', 'perdida', 'enfermedad', 'resultados', 'adversos', 'mercado', 'laboral']"
        ],
        [
         "1165",
         "Student Loans Company es una agencia de propiedad del gobierno que se estableció en 1989 y es responsable de administrar todos los préstamos y subvenciones a estudiantes en universidades y colegios en el Reino Unido. En los últimos años, el Reino Unido se ha alejado de las subvenciones y se ha inclinado hacia los préstamos condicionados a los ingresos para estudiantes, principalmente debido a su menor costo público (Figura 3.1). En relación con las subvenciones, los préstamos también pueden hacer que los estudiantes respondan mejor a las señales del mercado en la selección de su título, ya que la mayoría de los estudiantes finalmente deben devolver el dinero, a diferencia de las subvenciones. En 2015, el gobierno anunció que pondría fin a las subvenciones para estudiantes de hogares de bajos ingresos, pero aumentaría el apoyo financiero total a través de préstamos condicionados a los ingresos.",
         "4",
         "['student', 'loans', 'company', 'agenci', 'propied', 'gobiern', 'estableci', '1989', 'respons', 'administr', 'prest', 'subvencion', 'estudi', 'univers', 'colegi', 'rein', 'unid', 'ultim', 'anos', 'rein', 'unid', 'alej', 'subvencion', 'inclin', 'haci', 'prest', 'condicion', 'ingres', 'estudi', 'principal', 'deb', 'menor', 'cost', 'public', 'figur', '31', 'relacion', 'subvencion', 'prest', 'tambi', 'pued', 'hac', 'estudi', 'respond', 'mejor', 'senal', 'merc', 'seleccion', 'titul', 'mayori', 'estudi', 'final', 'deb', 'devolv', 'diner', 'diferent', 'subvencion', '2015', 'gobiern', 'anunci', 'pondri', 'fin', 'subvencion', 'estudi', 'hogar', 'baj', 'ingres', 'aumentari', 'apoy', 'financier', 'total', 'trav', 'prest', 'condicion', 'ingres', 'student', 'loan', 'company', 'agencio', 'propiedad', 'gobierno', 'establecio', '1989', 'responsable', 'administrar', 'prestamo', 'subvención', 'estudiant', 'universidades', 'colegio', 'reino', 'unido', 'ultimos', 'ano', 'reino', 'unido', 'alejado', 'subvención', 'inclinado', 'hacia', 'prestamo', 'condicionado', 'ingreso', 'estudiant', 'principalmente', 'debido', 'menor', 'costo', 'publico', 'figurar', '31', 'relacion', 'subvenciones', 'prestar', 'tambien', 'poder', 'hacer', 'estudiante', 'responder', 'mejor', 'senal', 'mercado', 'seleccion', 'titulo', 'mayoria', 'estudiantes', 'finalmente', 'deber', 'devolver', 'dinero', 'diferenciar', 'subvención', '2015', 'gobierno', 'anuncio', 'pondria', 'fin', 'subvención', 'estudiant', 'hogar', 'bajo', 'ingreso', 'aumentario', 'apoyo', 'financiero', 'total', 'traves', 'prestar', 'condicionado', 'ingreso']",
         "['student', 'loans', 'company', 'agencia', 'propiedad', 'gobierno', 'establecio', '1989', 'responsable', 'administrar', 'prestamos', 'subvenciones', 'estudiantes', 'universidades', 'colegios', 'reino', 'unido', 'ultimos', 'anos', 'reino', 'unido', 'alejado', 'subvenciones', 'inclinado', 'hacia', 'prestamos', 'condicionados', 'ingresos', 'estudiantes', 'principalmente', 'debido', 'menor', 'costo', 'publico', 'figura', '31', 'relacion', 'subvenciones', 'prestamos', 'tambien', 'pueden', 'hacer', 'estudiantes', 'respondan', 'mejor', 'senales', 'mercado', 'seleccion', 'titulo', 'mayoria', 'estudiantes', 'finalmente', 'deben', 'devolver', 'dinero', 'diferencia', 'subvenciones', '2015', 'gobierno', 'anuncio', 'pondria', 'fin', 'subvenciones', 'estudiantes', 'hogares', 'bajos', 'ingresos', 'aumentaria', 'apoyo', 'financiero', 'total', 'traves', 'prestamos', 'condicionados', 'ingresos']"
        ],
        [
         "37",
         "El sistema educativo tiene una serie de características que promueven la equidad, incluida una alta proporción de estudiantes matriculados en educación de la primera infancia, baja repetición de grado y escolarización integral hasta los 16 años. Las tasas de graduación de la secundaria superior son altas, al igual que las tasas de matriculación en educación y formación profesional. (FP), pero el abandono de la FP también es alto. La educación terciaria es accesible para todos, a través de políticas como un plan de subvenciones y préstamos financiado con fondos públicos. En la Encuesta de habilidades de adultos de la OCDE, los adultos en Dinamarca demuestran habilidades de alfabetización por debajo del promedio y habilidades de aritmética por encima del promedio en comparación con el promedio en los países participantes, y los adultos más jóvenes obtienen puntajes alrededor del promedio.",
         "4",
         "['sistem', 'educ', 'seri', 'caracterist', 'promuev', 'equid', 'inclu', 'alta', 'proporcion', 'estudi', 'matricul', 'educ', 'primer', 'infanci', 'baj', 'repeticion', 'grad', 'escolariz', 'integral', '16', 'anos', 'tas', 'graduacion', 'secundari', 'superior', 'altas', 'igual', 'tas', 'matricul', 'educ', 'formacion', 'profesional', 'fp', 'abandon', 'fp', 'tambi', 'alto', 'educ', 'terciari', 'acces', 'trav', 'polit', 'plan', 'subvencion', 'prest', 'financi', 'fond', 'public', 'encuest', 'habil', 'adult', 'ocde', 'adult', 'dinamarc', 'demuestr', 'habil', 'alfabetiz', 'debaj', 'promedi', 'habil', 'aritmet', 'encim', 'promedi', 'compar', 'promedi', 'pais', 'particip', 'adult', 'mas', 'joven', 'obtien', 'puntaj', 'alrededor', 'promedi', 'sistema', 'educativo', 'serie', 'caracteristica', 'promover', 'equidad', 'incluido', 'alto', 'proporcion', 'estudiante', 'matriculado', 'educacion', 'primero', 'infancia', 'bajo', 'repeticion', 'grado', 'escolarizacion', 'integral', '16', 'ano', 'tasas', 'graduacion', 'secundaria', 'superior', 'alto', 'igual', 'tasa', 'matriculacion', 'educacion', 'formacion', 'profesional', 'fp', 'abandono', 'fp', 'tambien', 'alto', 'educacion', 'terciaria', 'accesible', 'trav', 'politica', 'plar', 'subvención', 'prestamo', 'financiado', 'fondo', 'publico', 'encuesta', 'habilidadser', 'adulto', 'ocde', 'adulto', 'dinamarca', 'demostrar', 'habilidad', 'alfabetizacion', 'debajo', 'promedio', 'habilidades', 'aritmetico', 'encima', 'promedio', 'comparacion', 'promedio', 'país', 'participant', 'adulto', 'mas', 'joven', 'obtener', 'puntaj', 'alrededor', 'promedio']",
         "['sistema', 'educativo', 'serie', 'caracteristicas', 'promueven', 'equidad', 'incluida', 'alta', 'proporcion', 'estudiantes', 'matriculados', 'educacion', 'primera', 'infancia', 'baja', 'repeticion', 'grado', 'escolarizacion', 'integral', '16', 'anos', 'tasas', 'graduacion', 'secundaria', 'superior', 'altas', 'igual', 'tasas', 'matriculacion', 'educacion', 'formacion', 'profesional', 'fp', 'abandono', 'fp', 'tambien', 'alto', 'educacion', 'terciaria', 'accesible', 'traves', 'politicas', 'plan', 'subvenciones', 'prestamos', 'financiado', 'fondos', 'publicos', 'encuesta', 'habilidades', 'adultos', 'ocde', 'adultos', 'dinamarca', 'demuestran', 'habilidades', 'alfabetizacion', 'debajo', 'promedio', 'habilidades', 'aritmetica', 'encima', 'promedio', 'comparacion', 'promedio', 'paises', 'participantes', 'adultos', 'mas', 'jovenes', 'obtienen', 'puntajes', 'alrededor', 'promedio']"
        ],
        [
         "1966",
         "No está claro por qué no se mantuvieron las variables ficticias incluidas en modelos anteriores para representar directamente la organización del sistema sanitario. Por lo tanto, habría una expansión de la morbilidad a lo largo del tiempo con el aumento de la esperanza de vida. Los resultados de la regresión, aunque se muestran para todos los modelos anteriores, no se muestran para este último modelo. No se discuten las razones por las que se eligió este modelo final. ",
         "3",
         "['clar', 'mantuv', 'variabl', 'fictici', 'inclu', 'model', 'anterior', 'represent', 'direct', 'organiz', 'sistem', 'sanitari', 'habri', 'expansion', 'morbil', 'larg', 'tiemp', 'aument', 'esper', 'vid', 'result', 'regresion', 'aunqu', 'muestr', 'model', 'anterior', 'muestr', 'ultim', 'model', 'discut', 'razon', 'eligi', 'model', 'final', 'claro', 'mantener', 'variable', 'ficticia', 'incluido', 'modelo', 'anterior', 'representar', 'directamente', 'organizacion', 'sistema', 'sanitario', 'habria', 'expansion', 'morbilidad', 'largo', 'tiempo', 'aumento', 'esperanza', 'vido', 'resultado', 'regresion', 'aunque', 'mostrar', 'modelo', 'anterior', 'mostrar', 'ultimo', 'modelo', 'discutir', 'razón', 'eligio', 'modelo', 'final']",
         "['claro', 'mantuvieron', 'variables', 'ficticias', 'incluidas', 'modelos', 'anteriores', 'representar', 'directamente', 'organizacion', 'sistema', 'sanitario', 'habria', 'expansion', 'morbilidad', 'largo', 'tiempo', 'aumento', 'esperanza', 'vida', 'resultados', 'regresion', 'aunque', 'muestran', 'modelos', 'anteriores', 'muestran', 'ultimo', 'modelo', 'discuten', 'razones', 'eligio', 'modelo', 'final']"
        ],
        [
         "1667",
         "Este desafío ha sido reconocido por el MoES en su análisis y planificación de políticas. Las características de las escuelas, como la ubicación y el tamaño de la escuela, se tienen en cuenta para el cálculo de la canasta de estudiantes, por lo que las escuelas pequeñas en áreas rurales reciben una mayor financiación por alumno que sus contrapartes urbanas. Sin embargo, la desventaja socioeconómica per se no es un elemento en la metodología de la canasta de estudiantes, y la Revisión de Recursos Escolares de la OCDE para Lituania recomendó asignar pesos en la metodología de la canasta de estudiantes a los estudiantes con desventajas socioeconómicas (Shewbridge et al.,",
         "4",
         "['desafi', 'sid', 'reconoc', 'moes', 'analisis', 'planif', 'polit', 'caracterist', 'escuel', 'ubic', 'taman', 'escuel', 'cuent', 'calcul', 'canast', 'estudi', 'escuel', 'pequen', 'are', 'rural', 'recib', 'mayor', 'financi', 'alumn', 'contrapart', 'urban', 'embarg', 'desventaj', 'socioeconom', 'per', 'element', 'metodologi', 'canast', 'estudi', 'revision', 'recurs', 'escolar', 'ocde', 'lituani', 'recomend', 'asign', 'pes', 'metodologi', 'canast', 'estudi', 'estudi', 'desventaj', 'socioeconom', 'shewbridg', 'et', 'desafio', 'ser', 'reconocer', 'mo', 'analisis', 'planificacion', 'politica', 'caracteristica', 'escuela', 'ubicacion', 'tamano', 'escuela', 'contar', 'calculo', 'canasta', 'estudiante', 'escuelas', 'pequena', 'area', 'rural', 'recibir', 'mayor', 'financiacion', 'alumno', 'contrapart', 'urbano', 'embargo', 'desventaja', 'socioeconomico', 'per', 'elemento', 'metodologia', 'canasta', 'estudiante', 'revision', 'recurso', 'escolar', 'ocde', 'lituania', 'recomendo', 'asignar', 'pesos', 'metodologia', 'canasta', 'estudiante', 'estudiantes', 'desventaja', 'socioeconomica', 'shewbridge', 'et']",
         "['desafio', 'sido', 'reconocido', 'moes', 'analisis', 'planificacion', 'politicas', 'caracteristicas', 'escuelas', 'ubicacion', 'tamano', 'escuela', 'cuenta', 'calculo', 'canasta', 'estudiantes', 'escuelas', 'pequenas', 'areas', 'rurales', 'reciben', 'mayor', 'financiacion', 'alumno', 'contrapartes', 'urbanas', 'embargo', 'desventaja', 'socioeconomica', 'per', 'elemento', 'metodologia', 'canasta', 'estudiantes', 'revision', 'recursos', 'escolares', 'ocde', 'lituania', 'recomendo', 'asignar', 'pesos', 'metodologia', 'canasta', 'estudiantes', 'estudiantes', 'desventajas', 'socioeconomicas', 'shewbridge', 'et']"
        ],
        [
         "2160",
         "Se necesita un enfoque multifacético relacionado con la enfermedad para reducir este exceso de mortalidad, incluida la prevención de la mala salud física en la atención primaria entre las personas con trastornos mentales, una mejor integración de la atención de la salud física y mental, intervenciones conductuales y esfuerzos para cambiar las actitudes profesionales. El uso de planes de atención individual (ICP) podría ayudar a los pacientes y a sus proveedores de atención a asegurar el paquete de atención que necesitan con el tiempo. En varios países de la OCDE (especialmente en Noruega y Japón), los ICP no se explotan plenamente como una herramienta para promover una buena coordinación y una buena calidad de atención entre la salud física y mental (OCDE, 2014d, 2015f). Existe margen para aumentar la conciencia profesional sobre la necesidad de atender las necesidades de salud física de las personas con problemas de salud mental.",
         "3",
         "['necesit', 'enfoqu', 'multifacet', 'relacion', 'enfermed', 'reduc', 'exces', 'mortal', 'inclu', 'prevencion', 'mal', 'salud', 'fisic', 'atencion', 'primari', 'person', 'trastorn', 'mental', 'mejor', 'integr', 'atencion', 'salud', 'fisic', 'mental', 'intervencion', 'conductual', 'esfuerz', 'cambi', 'actitud', 'profesional', 'uso', 'plan', 'atencion', 'individual', 'icp', 'podri', 'ayud', 'pacient', 'proveedor', 'atencion', 'asegur', 'paquet', 'atencion', 'necesit', 'tiemp', 'vari', 'pais', 'ocde', 'especial', 'norueg', 'japon', 'icp', 'explot', 'plen', 'herramient', 'promov', 'buen', 'coordin', 'buen', 'calid', 'atencion', 'salud', 'fisic', 'mental', 'ocde', '2014d', '2015f', 'exist', 'marg', 'aument', 'concienci', 'profesional', 'neces', 'atend', 'neces', 'salud', 'fisic', 'person', 'problem', 'salud', 'mental', 'necesitar', 'enfoque', 'multifacetico', 'relacionado', 'enfermedad', 'reducir', 'exceso', 'mortalidad', 'incluido', 'prevencion', 'malo', 'salud', 'fisico', 'atencion', 'primario', 'persona', 'trastorno', 'mental', 'mejor', 'integracion', 'atencion', 'salud', 'fisico', 'mental', 'intervención', 'conductual', 'esfuerzo', 'cambiar', 'actitud', 'profesional', 'uso', 'plan', 'atencion', 'individual', 'icp', 'podrio', 'ayudar', 'paciente', 'proveedor', 'atencion', 'asegurar', 'paquete', 'atencion', 'necesitar', 'tiempo', 'varios', 'país', 'ocde', 'especialmente', 'noruego', 'japon', 'icp', 'explotar', 'plenamente', 'herramientar', 'promover', 'buen', 'coordinacion', 'buen', 'calidad', 'atencion', 'salud', 'fisico', 'mental', 'ocde', '2014d', '2015f', 'existir', 'margen', 'aumentar', 'conciencia', 'profesional', 'necesidad', 'atender', 'necesidad', 'salud', 'fisico', 'persona', 'problema', 'salud', 'mental']",
         "['necesita', 'enfoque', 'multifacetico', 'relacionado', 'enfermedad', 'reducir', 'exceso', 'mortalidad', 'incluida', 'prevencion', 'mala', 'salud', 'fisica', 'atencion', 'primaria', 'personas', 'trastornos', 'mentales', 'mejor', 'integracion', 'atencion', 'salud', 'fisica', 'mental', 'intervenciones', 'conductuales', 'esfuerzos', 'cambiar', 'actitudes', 'profesionales', 'uso', 'planes', 'atencion', 'individual', 'icp', 'podria', 'ayudar', 'pacientes', 'proveedores', 'atencion', 'asegurar', 'paquete', 'atencion', 'necesitan', 'tiempo', 'varios', 'paises', 'ocde', 'especialmente', 'noruega', 'japon', 'icp', 'explotan', 'plenamente', 'herramienta', 'promover', 'buena', 'coordinacion', 'buena', 'calidad', 'atencion', 'salud', 'fisica', 'mental', 'ocde', '2014d', '2015f', 'existe', 'margen', 'aumentar', 'conciencia', 'profesional', 'necesidad', 'atender', 'necesidades', 'salud', 'fisica', 'personas', 'problemas', 'salud', 'mental']"
        ]
       ],
       "shape": {
        "columns": 4,
        "rows": 20
       }
      },
      "text/html": [
       "<div>\n",
       "<style scoped>\n",
       "    .dataframe tbody tr th:only-of-type {\n",
       "        vertical-align: middle;\n",
       "    }\n",
       "\n",
       "    .dataframe tbody tr th {\n",
       "        vertical-align: top;\n",
       "    }\n",
       "\n",
       "    .dataframe thead th {\n",
       "        text-align: right;\n",
       "    }\n",
       "</style>\n",
       "<table border=\"1\" class=\"dataframe\">\n",
       "  <thead>\n",
       "    <tr style=\"text-align: right;\">\n",
       "      <th></th>\n",
       "      <th>textos</th>\n",
       "      <th>labels</th>\n",
       "      <th>palabras</th>\n",
       "      <th>palabrasProces</th>\n",
       "    </tr>\n",
       "  </thead>\n",
       "  <tbody>\n",
       "    <tr>\n",
       "      <th>681</th>\n",
       "      <td>Si bien es probable que la tarea tenga efectos...</td>\n",
       "      <td>4</td>\n",
       "      <td>[si, bien, probabl, tare, efect, posit, estudi...</td>\n",
       "      <td>[si, bien, probable, tarea, efectos, positivos...</td>\n",
       "    </tr>\n",
       "    <tr>\n",
       "      <th>514</th>\n",
       "      <td>Los programas de almuerzo gratis o los libros ...</td>\n",
       "      <td>4</td>\n",
       "      <td>[program, almuerz, gratis, libr, text, gratuit...</td>\n",
       "      <td>[programas, almuerzo, gratis, libros, texto, g...</td>\n",
       "    </tr>\n",
       "    <tr>\n",
       "      <th>14</th>\n",
       "      <td>Esto podría involucrar un sistema de acreditac...</td>\n",
       "      <td>4</td>\n",
       "      <td>[podri, involucr, sistem, acredit, certific, e...</td>\n",
       "      <td>[podria, involucrar, sistema, acreditacion, ce...</td>\n",
       "    </tr>\n",
       "    <tr>\n",
       "      <th>702</th>\n",
       "      <td>Luego, el índice se utilizó para explicar las ...</td>\n",
       "      <td>4</td>\n",
       "      <td>[lueg, indic, utiliz, explic, puntuacion, pis,...</td>\n",
       "      <td>[luego, indice, utilizo, explicar, puntuacione...</td>\n",
       "    </tr>\n",
       "    <tr>\n",
       "      <th>1680</th>\n",
       "      <td>Mientras que el efecto crecimiento predominó e...</td>\n",
       "      <td>1</td>\n",
       "      <td>[mientr, efect, crecimient, predomin, practic,...</td>\n",
       "      <td>[mientras, efecto, crecimiento, predomino, pra...</td>\n",
       "    </tr>\n",
       "    <tr>\n",
       "      <th>558</th>\n",
       "      <td>Alrededor del 10,5 por ciento de ellos viven c...</td>\n",
       "      <td>3</td>\n",
       "      <td>[alrededor, 105, cient, viv, vih, dat, nivel, ...</td>\n",
       "      <td>[alrededor, 105, ciento, viven, vih, datos, ni...</td>\n",
       "    </tr>\n",
       "    <tr>\n",
       "      <th>1287</th>\n",
       "      <td>A pesar de esto, aún persiste una incertidumbr...</td>\n",
       "      <td>3</td>\n",
       "      <td>[pes, aun, pers, incertidumbr, consider, i, po...</td>\n",
       "      <td>[pesar, aun, persiste, incertidumbre, consider...</td>\n",
       "    </tr>\n",
       "    <tr>\n",
       "      <th>1873</th>\n",
       "      <td>Esto fue ligeramente más alto que el promedio ...</td>\n",
       "      <td>4</td>\n",
       "      <td>[liger, mas, alto, promedi, ocde, 1600, hor, e...</td>\n",
       "      <td>[ligeramente, mas, alto, promedio, ocde, 1600,...</td>\n",
       "    </tr>\n",
       "    <tr>\n",
       "      <th>2299</th>\n",
       "      <td>Para la mayoría de los niños, las transiciones...</td>\n",
       "      <td>4</td>\n",
       "      <td>[mayori, nin, transicion, satisfactori, gratif...</td>\n",
       "      <td>[mayoria, ninos, transiciones, satisfactorias,...</td>\n",
       "    </tr>\n",
       "    <tr>\n",
       "      <th>2270</th>\n",
       "      <td>Los datos se refieren a la duración promedio d...</td>\n",
       "      <td>3</td>\n",
       "      <td>[dat, refier, duracion, promedi, estadi, atenc...</td>\n",
       "      <td>[datos, refieren, duracion, promedio, estadia,...</td>\n",
       "    </tr>\n",
       "    <tr>\n",
       "      <th>9</th>\n",
       "      <td>De hecho, aunque Chile y Uruguay tienen índice...</td>\n",
       "      <td>1</td>\n",
       "      <td>[hech, aunqu, chil, uruguay, indic, pobrez, si...</td>\n",
       "      <td>[hecho, aunque, chile, uruguay, indices, pobre...</td>\n",
       "    </tr>\n",
       "    <tr>\n",
       "      <th>1897</th>\n",
       "      <td>Ha habido racionalizaciones generalizadas del ...</td>\n",
       "      <td>3</td>\n",
       "      <td>[racionaliz, generaliz, gast, sector, sistem, ...</td>\n",
       "      <td>[racionalizaciones, generalizadas, gasto, sect...</td>\n",
       "    </tr>\n",
       "    <tr>\n",
       "      <th>412</th>\n",
       "      <td>Uno de los principales mensajes del informe co...</td>\n",
       "      <td>1</td>\n",
       "      <td>[principal, mensaj, inform, conjunt, 2015, ape...</td>\n",
       "      <td>[principales, mensajes, informe, conjunto, 201...</td>\n",
       "    </tr>\n",
       "    <tr>\n",
       "      <th>457</th>\n",
       "      <td>La educación se identificó como un objetivo in...</td>\n",
       "      <td>4</td>\n",
       "      <td>[educ, identif, objet, independient, ods, 4, c...</td>\n",
       "      <td>[educacion, identifico, objetivo, independient...</td>\n",
       "    </tr>\n",
       "    <tr>\n",
       "      <th>297</th>\n",
       "      <td>La revisión que se presenta a continuación no ...</td>\n",
       "      <td>3</td>\n",
       "      <td>[revision, present, continu, ofrec, relacion, ...</td>\n",
       "      <td>[revision, presenta, continuacion, ofrece, rel...</td>\n",
       "    </tr>\n",
       "    <tr>\n",
       "      <th>1165</th>\n",
       "      <td>Student Loans Company es una agencia de propie...</td>\n",
       "      <td>4</td>\n",
       "      <td>[student, loans, company, agenci, propied, gob...</td>\n",
       "      <td>[student, loans, company, agencia, propiedad, ...</td>\n",
       "    </tr>\n",
       "    <tr>\n",
       "      <th>37</th>\n",
       "      <td>El sistema educativo tiene una serie de caract...</td>\n",
       "      <td>4</td>\n",
       "      <td>[sistem, educ, seri, caracterist, promuev, equ...</td>\n",
       "      <td>[sistema, educativo, serie, caracteristicas, p...</td>\n",
       "    </tr>\n",
       "    <tr>\n",
       "      <th>1966</th>\n",
       "      <td>No está claro por qué no se mantuvieron las va...</td>\n",
       "      <td>3</td>\n",
       "      <td>[clar, mantuv, variabl, fictici, inclu, model,...</td>\n",
       "      <td>[claro, mantuvieron, variables, ficticias, inc...</td>\n",
       "    </tr>\n",
       "    <tr>\n",
       "      <th>1667</th>\n",
       "      <td>Este desafío ha sido reconocido por el MoES en...</td>\n",
       "      <td>4</td>\n",
       "      <td>[desafi, sid, reconoc, moes, analisis, planif,...</td>\n",
       "      <td>[desafio, sido, reconocido, moes, analisis, pl...</td>\n",
       "    </tr>\n",
       "    <tr>\n",
       "      <th>2160</th>\n",
       "      <td>Se necesita un enfoque multifacético relaciona...</td>\n",
       "      <td>3</td>\n",
       "      <td>[necesit, enfoqu, multifacet, relacion, enferm...</td>\n",
       "      <td>[necesita, enfoque, multifacetico, relacionado...</td>\n",
       "    </tr>\n",
       "  </tbody>\n",
       "</table>\n",
       "</div>"
      ],
      "text/plain": [
       "                                                 textos  labels  \\\n",
       "681   Si bien es probable que la tarea tenga efectos...       4   \n",
       "514   Los programas de almuerzo gratis o los libros ...       4   \n",
       "14    Esto podría involucrar un sistema de acreditac...       4   \n",
       "702   Luego, el índice se utilizó para explicar las ...       4   \n",
       "1680  Mientras que el efecto crecimiento predominó e...       1   \n",
       "558   Alrededor del 10,5 por ciento de ellos viven c...       3   \n",
       "1287  A pesar de esto, aún persiste una incertidumbr...       3   \n",
       "1873  Esto fue ligeramente más alto que el promedio ...       4   \n",
       "2299  Para la mayoría de los niños, las transiciones...       4   \n",
       "2270  Los datos se refieren a la duración promedio d...       3   \n",
       "9     De hecho, aunque Chile y Uruguay tienen índice...       1   \n",
       "1897  Ha habido racionalizaciones generalizadas del ...       3   \n",
       "412   Uno de los principales mensajes del informe co...       1   \n",
       "457   La educación se identificó como un objetivo in...       4   \n",
       "297   La revisión que se presenta a continuación no ...       3   \n",
       "1165  Student Loans Company es una agencia de propie...       4   \n",
       "37    El sistema educativo tiene una serie de caract...       4   \n",
       "1966  No está claro por qué no se mantuvieron las va...       3   \n",
       "1667  Este desafío ha sido reconocido por el MoES en...       4   \n",
       "2160  Se necesita un enfoque multifacético relaciona...       3   \n",
       "\n",
       "                                               palabras  \\\n",
       "681   [si, bien, probabl, tare, efect, posit, estudi...   \n",
       "514   [program, almuerz, gratis, libr, text, gratuit...   \n",
       "14    [podri, involucr, sistem, acredit, certific, e...   \n",
       "702   [lueg, indic, utiliz, explic, puntuacion, pis,...   \n",
       "1680  [mientr, efect, crecimient, predomin, practic,...   \n",
       "558   [alrededor, 105, cient, viv, vih, dat, nivel, ...   \n",
       "1287  [pes, aun, pers, incertidumbr, consider, i, po...   \n",
       "1873  [liger, mas, alto, promedi, ocde, 1600, hor, e...   \n",
       "2299  [mayori, nin, transicion, satisfactori, gratif...   \n",
       "2270  [dat, refier, duracion, promedi, estadi, atenc...   \n",
       "9     [hech, aunqu, chil, uruguay, indic, pobrez, si...   \n",
       "1897  [racionaliz, generaliz, gast, sector, sistem, ...   \n",
       "412   [principal, mensaj, inform, conjunt, 2015, ape...   \n",
       "457   [educ, identif, objet, independient, ods, 4, c...   \n",
       "297   [revision, present, continu, ofrec, relacion, ...   \n",
       "1165  [student, loans, company, agenci, propied, gob...   \n",
       "37    [sistem, educ, seri, caracterist, promuev, equ...   \n",
       "1966  [clar, mantuv, variabl, fictici, inclu, model,...   \n",
       "1667  [desafi, sid, reconoc, moes, analisis, planif,...   \n",
       "2160  [necesit, enfoqu, multifacet, relacion, enferm...   \n",
       "\n",
       "                                         palabrasProces  \n",
       "681   [si, bien, probable, tarea, efectos, positivos...  \n",
       "514   [programas, almuerzo, gratis, libros, texto, g...  \n",
       "14    [podria, involucrar, sistema, acreditacion, ce...  \n",
       "702   [luego, indice, utilizo, explicar, puntuacione...  \n",
       "1680  [mientras, efecto, crecimiento, predomino, pra...  \n",
       "558   [alrededor, 105, ciento, viven, vih, datos, ni...  \n",
       "1287  [pesar, aun, persiste, incertidumbre, consider...  \n",
       "1873  [ligeramente, mas, alto, promedio, ocde, 1600,...  \n",
       "2299  [mayoria, ninos, transiciones, satisfactorias,...  \n",
       "2270  [datos, refieren, duracion, promedio, estadia,...  \n",
       "9     [hecho, aunque, chile, uruguay, indices, pobre...  \n",
       "1897  [racionalizaciones, generalizadas, gasto, sect...  \n",
       "412   [principales, mensajes, informe, conjunto, 201...  \n",
       "457   [educacion, identifico, objetivo, independient...  \n",
       "297   [revision, presenta, continuacion, ofrece, rel...  \n",
       "1165  [student, loans, company, agencia, propiedad, ...  \n",
       "37    [sistema, educativo, serie, caracteristicas, p...  \n",
       "1966  [claro, mantuvieron, variables, ficticias, inc...  \n",
       "1667  [desafio, sido, reconocido, moes, analisis, pl...  \n",
       "2160  [necesita, enfoque, multifacetico, relacionado...  "
      ]
     },
     "execution_count": 73,
     "metadata": {},
     "output_type": "execute_result"
    }
   ],
   "source": [
    "df_textC.sample(20)"
   ]
  },
  {
   "cell_type": "markdown",
   "id": "543e8ae9",
   "metadata": {},
   "source": [
    "### 3.3 Entrenamiento y split de los datos para testing"
   ]
  },
  {
   "cell_type": "code",
   "execution_count": 74,
   "id": "246b1510",
   "metadata": {},
   "outputs": [],
   "source": [
    "X = df_textC[\"palabras\"]                 # list of tokens per row\n",
    "y = df_textC[\"labels\"].astype(int)     # already numeric; ensure int dtype\n",
    "\n",
    "X_train, X_test, y_train, y_test = train_test_split(\n",
    "    X, y, test_size=0.2, random_state=42, stratify=y\n",
    ")"
   ]
  },
  {
   "cell_type": "markdown",
   "id": "e9118ea6",
   "metadata": {},
   "source": [
    "### 3.4 Vectorizar texto ya tokenizado"
   ]
  },
  {
   "cell_type": "markdown",
   "id": "114e10eb",
   "metadata": {},
   "source": [
    " TF-IDF : Term Frequency-Inverse Document Frequency"
   ]
  },
  {
   "cell_type": "code",
   "execution_count": 75,
   "id": "c021e04f",
   "metadata": {},
   "outputs": [],
   "source": [
    "identity = lambda x: x\n",
    "vec_tfidf = TfidfVectorizer(\n",
    "    tokenizer=identity, preprocessor=identity, token_pattern=None,\n",
    "    # sublinear_tf=True, min_df=2, ngram_range=(1,2)\n",
    ")\n",
    "\n",
    "X_train_tfidf = vec_tfidf.fit_transform(X_train)\n",
    "X_test_tfidf  = vec_tfidf.transform(X_test)\n",
    "\n"
   ]
  },
  {
   "cell_type": "markdown",
   "id": "d5cccf7d",
   "metadata": {},
   "source": [
    "### 4.1 Entrenar primer modelo de clasificacion"
   ]
  },
  {
   "cell_type": "markdown",
   "id": "508b07f0",
   "metadata": {},
   "source": [
    "#### 4.1.1 Regresion Logistica (Juan Nicolas)"
   ]
  },
  {
   "cell_type": "code",
   "execution_count": 76,
   "id": "14f35984",
   "metadata": {},
   "outputs": [
    {
     "name": "stdout",
     "output_type": "stream",
     "text": [
      "              precision    recall  f1-score   support\n",
      "\n",
      "           1      0.969     0.921     0.944       101\n",
      "           3      0.961     0.966     0.964       179\n",
      "           4      0.962     0.980     0.971       205\n",
      "\n",
      "    accuracy                          0.963       485\n",
      "   macro avg      0.964     0.956     0.960       485\n",
      "weighted avg      0.963     0.963     0.963       485\n",
      "\n"
     ]
    }
   ],
   "source": [
    "\n",
    "\n",
    "clf = LogisticRegression(max_iter=200, n_jobs=None)  # n_jobs not in LR; keep default\n",
    "clf.fit(X_train_tfidf, y_train)\n",
    "\n",
    "y_pred = clf.predict(X_test_tfidf)\n",
    "print(classification_report(y_test, y_pred, digits=3))\n"
   ]
  },
  {
   "cell_type": "code",
   "execution_count": 79,
   "id": "d7b9620e",
   "metadata": {},
   "outputs": [
    {
     "data": {
      "image/png": "[encoded data removed]",
      "text/plain": [
       "<Figure size 640x480 with 2 Axes>"
      ]
     },
     "metadata": {},
     "output_type": "display_data"
    }
   ],
   "source": [
    "confusion_matrix =confusion_matrix(y_test, y_pred)\n",
    "disp=ConfusionMatrixDisplay(confusion_matrix=confusion_matrix)\n",
    "disp.plot(cmap=plt.cm.Blues)\n",
    "plt.show()"
   ]
  }
 ],
 "metadata": {
  "kernelspec": {
   "display_name": "base",
   "language": "python",
   "name": "python3"
  },
  "language_info": {
   "codemirror_mode": {
    "name": "ipython",
    "version": 3
   },
   "file_extension": ".py",
   "mimetype": "text/x-python",
   "name": "python",
   "nbconvert_exporter": "python",
   "pygments_lexer": "ipython3",
   "version": "3.12.7"
  }
 },
 "nbformat": 4,
 "nbformat_minor": 5
}
