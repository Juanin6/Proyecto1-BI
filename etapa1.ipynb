{
 "cells": [
  {
   "cell_type": "markdown",
   "id": "b7c6c41b",
   "metadata": {},
   "source": [
    "# Proyecto 1 (Inteligencia de Negocios)\n",
    "\n",
    "## Roles\n",
    "\n",
    "- **Lider de Datos** --- Juan Nicolas Suarez\n",
    "- **Lider de Analitica** --- David Santiago Carillo\n",
    "- **Lider de Negocio** --- Mauricio Martinez Urbaneja\n",
    "\n"
   ]
  },
  {
   "cell_type": "markdown",
   "id": "640ffc8e",
   "metadata": {},
   "source": [
    "## Objetivo principal del proyecto\n",
    "\n",
    "- Vincular de forma automática las opiniones de la ciudadanía con los Objetivos de Desarrollo\n",
    "Sostenible (ODS) 1, 3 y 4\n",
    "\n",
    "    **1.“Fin de la pobreza”** \n",
    "\n",
    "    **3.“Salud y bienestar”**\n",
    "\n",
    "    **4.“Educación de calidad”**"
   ]
  },
  {
   "cell_type": "markdown",
   "id": "d766e3d2",
   "metadata": {},
   "source": [
    "## Etapa 1 del Proyecto"
   ]
  },
  {
   "cell_type": "markdown",
   "id": "905d2faa",
   "metadata": {},
   "source": [
    "## Objetivo Etapa 1\n",
    "- Aplicar la metodología de analítica de textos para la construcción de soluciones de analítica alineadas con los objetivos de organizaciones en un contexto de aplicación.\n"
   ]
  },
  {
   "cell_type": "markdown",
   "id": "598c50f2",
   "metadata": {},
   "source": [
    "## Tareas"
   ]
  },
  {
   "cell_type": "markdown",
   "id": "6b578cc2",
   "metadata": {},
   "source": [
    "1. Canvas de aprendizaje automatico"
   ]
  },
  {
   "cell_type": "markdown",
   "id": "7ff9d40c",
   "metadata": {},
   "source": [
    "## Modelo de Machine Learning"
   ]
  },
  {
   "cell_type": "markdown",
   "id": "c2f0fc92",
   "metadata": {},
   "source": [
    "### 1. Instalacion e importacion de librerias"
   ]
  },
  {
   "cell_type": "code",
   "execution_count": 148,
   "id": "05ad46d0",
   "metadata": {},
   "outputs": [],
   "source": [
    "#!pip uninstall -y pandas-profiling\n"
   ]
  },
  {
   "cell_type": "code",
   "execution_count": 149,
   "id": "2144d021",
   "metadata": {},
   "outputs": [],
   "source": [
    "#!pip install -U \"visions[type_image_path]>=0.7.5,<0.8.2\"\n"
   ]
  },
  {
   "cell_type": "code",
   "execution_count": 150,
   "id": "1a555e7f",
   "metadata": {},
   "outputs": [],
   "source": [
    "#!pip install -U ydata-profiling"
   ]
  },
  {
   "cell_type": "code",
   "execution_count": 151,
   "id": "099bd80d",
   "metadata": {},
   "outputs": [],
   "source": [
    "#!pip install numba==0.56.4\n"
   ]
  },
  {
   "cell_type": "code",
   "execution_count": 152,
   "id": "772c9366",
   "metadata": {},
   "outputs": [],
   "source": [
    "#%pip install \"numpy==1.26.4\"\n",
    "\n",
    "#%pip install nltk \"spacy<3.8\"\n",
    "\n",
    "\n"
   ]
  },
  {
   "cell_type": "code",
   "execution_count": 153,
   "id": "9658b3b5",
   "metadata": {},
   "outputs": [],
   "source": [
    "#!python -m spacy download es_core_news_sm"
   ]
  },
  {
   "cell_type": "code",
   "execution_count": 154,
   "id": "0e7dca14",
   "metadata": {},
   "outputs": [
    {
     "name": "stderr",
     "output_type": "stream",
     "text": [
      "[nltk_data] Downloading package punkt to\n",
      "[nltk_data]     C:\\Users\\juani\\AppData\\Roaming\\nltk_data...\n",
      "[nltk_data]   Package punkt is already up-to-date!\n"
     ]
    },
    {
     "data": {
      "text/plain": [
       "True"
      ]
     },
     "execution_count": 154,
     "metadata": {},
     "output_type": "execute_result"
    }
   ],
   "source": [
    "# librería Natural Language Toolkit, usada para trabajar con textos\n",
    "import nltk\n",
    "# Punkt permite separar un texto en frases.\n",
    "nltk.download('punkt')"
   ]
  },
  {
   "cell_type": "code",
   "execution_count": 155,
   "id": "0445b1b3",
   "metadata": {},
   "outputs": [
    {
     "name": "stderr",
     "output_type": "stream",
     "text": [
      "[nltk_data] Downloading package punkt_tab to\n",
      "[nltk_data]     C:\\Users\\juani\\AppData\\Roaming\\nltk_data...\n",
      "[nltk_data]   Package punkt_tab is already up-to-date!\n"
     ]
    },
    {
     "data": {
      "text/plain": [
       "True"
      ]
     },
     "execution_count": 155,
     "metadata": {},
     "output_type": "execute_result"
    }
   ],
   "source": [
    "nltk.download('punkt_tab')"
   ]
  },
  {
   "cell_type": "markdown",
   "id": "559e579f",
   "metadata": {},
   "source": [
    "### 1.1 Descargar Stopwords y lema de palabras"
   ]
  },
  {
   "cell_type": "code",
   "execution_count": 156,
   "id": "78611856",
   "metadata": {},
   "outputs": [
    {
     "name": "stderr",
     "output_type": "stream",
     "text": [
      "[nltk_data] Downloading package stopwords to\n",
      "[nltk_data]     C:\\Users\\juani\\AppData\\Roaming\\nltk_data...\n",
      "[nltk_data]   Package stopwords is already up-to-date!\n"
     ]
    },
    {
     "data": {
      "text/plain": [
       "True"
      ]
     },
     "execution_count": 156,
     "metadata": {},
     "output_type": "execute_result"
    }
   ],
   "source": [
    "# StopWords\n",
    "nltk.download('stopwords')"
   ]
  },
  {
   "cell_type": "code",
   "execution_count": 157,
   "id": "7be5f7d7",
   "metadata": {},
   "outputs": [
    {
     "name": "stderr",
     "output_type": "stream",
     "text": [
      "[nltk_data] Downloading package wordnet to\n",
      "[nltk_data]     C:\\Users\\juani\\AppData\\Roaming\\nltk_data...\n",
      "[nltk_data]   Package wordnet is already up-to-date!\n"
     ]
    },
    {
     "data": {
      "text/plain": [
       "True"
      ]
     },
     "execution_count": 157,
     "metadata": {},
     "output_type": "execute_result"
    }
   ],
   "source": [
    "#WordNetLemmatizer (lema)\n",
    "nltk.download('wordnet')"
   ]
  },
  {
   "cell_type": "code",
   "execution_count": 158,
   "id": "ac03b433",
   "metadata": {},
   "outputs": [
    {
     "name": "stderr",
     "output_type": "stream",
     "text": [
      "'{sys.executable}' is not recognized as an internal or external command,\n",
      "operable program or batch file.\n"
     ]
    }
   ],
   "source": [
    "# Instalación de librerias\n",
    "import pandas as pd\n",
    "import numpy as np\n",
    "import seaborn as sns\n",
    "!{sys.executable} -m pip install pandas-profiling\n",
    "\n",
    "import re, string, unicodedata\n",
    "from nltk import word_tokenize, sent_tokenize\n",
    "from nltk.corpus import stopwords\n",
    "from nltk.stem import LancasterStemmer, WordNetLemmatizer\n",
    "from nltk.stem.snowball import SnowballStemmer\n",
    "import spacy\n",
    "from imblearn.over_sampling import SMOTE\n",
    "from imblearn.pipeline import Pipeline as ImbPipeline   # OJO: de imblearn, no de sklearn\n",
    "\n",
    "\n",
    "from sklearn.linear_model import LogisticRegression\n",
    "from sklearn.model_selection import train_test_split,GridSearchCV, cross_val_score\n",
    "from sklearn.feature_extraction.text import TfidfVectorizer, CountVectorizer, HashingVectorizer\n",
    "from sklearn.pipeline import Pipeline, FeatureUnion\n",
    "from sklearn.svm import SVC\n",
    "from sklearn.ensemble import BaggingClassifier, RandomForestClassifier, AdaBoostClassifier\n",
    "from sklearn.naive_bayes import BernoulliNB\n",
    "from sklearn.metrics import classification_report, confusion_matrix , ConfusionMatrixDisplay , roc_curve, roc_auc_score\n",
    "\n",
    "from collections import Counter\n",
    "\n",
    "\n",
    "from sklearn.base import BaseEstimator, ClassifierMixin\n",
    "#from ydata_profiling import ProfileReport \n",
    "import matplotlib.pyplot as plt"
   ]
  },
  {
   "cell_type": "markdown",
   "id": "c4280ae5",
   "metadata": {},
   "source": []
  },
  {
   "cell_type": "code",
   "execution_count": 159,
   "id": "9f69f810",
   "metadata": {},
   "outputs": [
    {
     "name": "stdout",
     "output_type": "stream",
     "text": [
      "3.7.5\n"
     ]
    }
   ],
   "source": [
    "print(spacy.__version__)\n"
   ]
  },
  {
   "cell_type": "markdown",
   "id": "0e030ce4",
   "metadata": {},
   "source": [
    "### 2.Perfilamiento y entendmiento de los datos"
   ]
  },
  {
   "cell_type": "markdown",
   "id": "1faeed6d",
   "metadata": {},
   "source": [
    "### 2.1 Lectura de los datos"
   ]
  },
  {
   "cell_type": "code",
   "execution_count": 160,
   "id": "adfe667c",
   "metadata": {},
   "outputs": [],
   "source": [
    "df_text = pd.read_excel('data/Datos_proyecto.xlsx' )\n",
    "df_textC = df_text"
   ]
  },
  {
   "cell_type": "code",
   "execution_count": 161,
   "id": "e8deefc0",
   "metadata": {},
   "outputs": [
    {
     "data": {
      "application/vnd.microsoft.datawrangler.viewer.v0+json": {
       "columns": [
        {
         "name": "index",
         "rawType": "int64",
         "type": "integer"
        },
        {
         "name": "textos",
         "rawType": "object",
         "type": "string"
        },
        {
         "name": "labels",
         "rawType": "int64",
         "type": "integer"
        }
       ],
       "ref": "a287a6c9-dc73-4765-9cd2-68d9dd5edb87",
       "rows": [
        [
         "0",
         "\"Aprendizaje\" y \"educación\" se consideran sinónimos de escolarización formal. Las organizaciones auxiliares, como las editoriales de educación, las juntas examinadoras y las organizaciones de formación de docentes, se consideran extensiones de los acuerdos establecidos por los gobiernos. Este marco de comprensión se ha vuelto cada vez más inadecuado.",
         "4"
        ],
        [
         "1",
         "Para los niños más pequeños (bebés y niños pequeños), la capacitación especializada y práctica parece estar más fuertemente asociada con la calidad pedagógica y los resultados cognitivos y sociales. Los educadores de la primera infancia se encuentran con entornos sociales cada vez más complejos y se encuentran con una multiplicidad de antecedentes y experiencias familiares. Estos factores crean imperativos para adoptar nuevas pedagogías y prácticas organizacionales para acomodar este pluralismo (Elliott, 2006).",
         "4"
        ],
        [
         "2",
         "Además, la formación de especialistas en medicina general también incluye tareas que requieren un conocimiento más profundo de problemas comunes de salud pública, incluida la salud mental (Cuestionario de salud mental de la OCDE, 2013). Dado que no hay control en la atención primaria para limitar el acceso a los servicios de salud (mental) especializados, muchos pacientes que necesitan tratamiento (para trastornos mentales graves en particular) pueden buscar atención de nivel especializado directamente. Los servicios de especialistas en psiquiatría se brindan principalmente en las salas ambulatorias de psiquiatría ubicadas en los hospitales generales.",
         "3"
        ],
        [
         "3",
         "En los países de la OCDE se tiende a pasar de los cursos obligatorios a los optativos, abiertos a estudiantes de distintas facultades y escuelas. Este planteamiento facilita la formación de equipos de estudiantes con distintas formaciones e intereses. El trabajo en equipos interdisciplinares permite a los individuos concentrarse en lo que mejor saben y les gusta y, al mismo tiempo, familiarizarse con nuevos conocimientos que pueden asociarse a una nueva forma de resolver un problema o crear un nuevo producto o servicio. No está claro hasta qué punto estos cursos utilizan métodos pedagógicos creativos y se adaptan a las necesidades de los estudiantes de grado, postgrado y licenciatura.",
         "4"
        ],
        [
         "4",
         "Este grupo se centró en las personas que padecen trastornos mentales con comorbilidad de abuso de sustancias (mientras que la demencia, la discapacidad intelectual y el abuso de sustancias por sà solos quedaron excluidos del ámbito de análisis). Con 90 millones de euros de financiación, la comisión dispuso de tres años para \"iniciar y apoyar el desarrollo de proyectos a todos los niveles (tratamiento médico, mejora de los servicios, proyectos de vivienda, mejoras legislativas y organizativas) y proponer las medidas necesarias para elevar de forma permanente el nivel de los servicios de salud mental\". ",
         "3"
        ],
        [
         "5",
         "Los datos a nivel del sistema que no se derivan del cuestionario para estudiantes o escuelas de PISA 2015 se extraen de la publicación anual de la OCDE. Panorama de la educación, para aquellos países y economías que participan en esa recopilación periódica de datos. Para otros países y economías, se llevó a cabo una recopilación de datos a nivel de sistema especial en colaboración con los miembros de la Junta de Gobierno de PISA y los directores de proyectos nacionales.",
         "4"
        ],
        [
         "6",
         "La principal ventaja de las evaluaciones externas es su fiabilidad. Garantizan que todos los estudiantes son evaluados en las mismas tareas y que los resultados se miden con los mismos estándares. Además, las evaluaciones externas suelen realizarse bajo supervisión, lo que garantiza que lo que se evalúa es el propio trabajo de los estudiantes.",
         "4"
        ],
        [
         "7",
         "Los pacientes pueden elegir a cualquier médico de cabecera, pero como no hay un sistema de control, también pueden elegir visitar directamente a cualquier especialista médico. Hay pocos contactos ambulatorios por persona (58 en 2015) y una gobernanza de atención primaria débil (por ejemplo, falta de inspección estatal, políticas de atención primaria de apoyo). También existe un relativo subdesarrollo de la fuerza laboral de atención primaria con bajos niveles de ingresos en relación con los especialistas. Más positivamente, se ha juzgado que el sistema de atención primaria es relativamente efectivo y eficiente con respecto a la coordinación y la integralidad de la atención (Ktingos et al, 2015, Kringosetal, 2013).",
         "3"
        ],
        [
         "8",
         "De hecho, es probable que la designación de la universidad como universidad APEX aleje aún más a la institución del compromiso regional. Brindan acceso a un gran número de estudiantes y estudiantes graduados de la región, muchos de los cuales permanecen dentro de la región en busca de empleo. A través de la participación de los estudiantes en la región a través de pasantías, actividades de voluntariado y otras formas, las instituciones tienen un impacto en la región. Excepto por la información básica sobre el número de admisiones, matriculación y graduados, no se disponía de información sustantiva sobre la sucursal de UiTM en Penang, los dos politécnicos, los cuatro colegios comunitarios y las instituciones privadas en Penang y sobre las instituciones de educación superior en los otros tres estados. (Perlis, Kedah y Perak) en la Región Económica del Corredor Norte más grande. Por lo tanto, los hallazgos y observaciones se basan en una perspectiva limitada de las instituciones de educación superior en la región.",
         "4"
        ],
        [
         "9",
         "De hecho, aunque Chile y Uruguay tienen índices de pobreza similares, la pobreza infantil en Chile es 1,8 veces mayor que la de la población adulta, mientras que en Uruguay es 3,1 veces mayor. Esto produciría tasas de pobreza infantil artificialmente altas. Esta línea representa el costo de satisfacer las necesidades básicas de una persona. Medir la pobreza de esta manera supone que el costo per cápita de satisfacer las necesidades básicas de un individuo no se ve afectado por el número de personas que viven en un hogar o por las características demográficas del hogar.",
         "1"
        ],
        [
         "10",
         "Según el Informe sobre el Consumo de Drogas en las Américas de 2015,3' se informó que la prevalencia anual de cannabis entre los estudiantes de secundaria en América Central fue más alta en Belice, con un 15,8 %, y más baja en Honduras, con un poco más del 1 %. centavo. Se informaron tasas de prevalencia de menos del 5 por ciento en Antigua y Barbuda, Barbados, Dominica, República Dominicana, El Salvador, Guyana, Haití, Honduras, Panamá, Saint Kitts y Nevis y San Vicente y las Granadinas. Según el Informe sobre el Consumo de Drogas en las Américas de 2015, la prevalencia anual del uso indebido de cocaína entre estudiantes de secundaria en el Caribe oscila entre el 0,5 % y un poco más del 2 %.",
         "3"
        ],
        [
         "11",
         "El acuerdo de desempeño describe los objetivos clave que la institución debe esforzarse por lograr en el transcurso de un período de tres años. El ministerio se reúne con cada institución durante el año para discutir el progreso hacia el logro de estos objetivos. Se requiere que cada institución al final del año reporte datos a la Base de Datos de Estadísticas de Educación Superior (DBH) y presente un informe anual al ministerio. Esta información es utilizada por el ministerio para desarrollar un informe anual sobre el estado de la educación superior y para desarrollar una carta de retroalimentación anual para las instituciones sobre su desempeño anual (Larsen et al.,",
         "4"
        ],
        [
         "12",
         "Los únicos países que exigen un máster para enseñar preescolar son Inglaterra, Francia, Islandia e Italia. Este nivel de formación se exige para enseñar primaria en 11 de los 35 países de los que se dispone de datos, para enseñar estudios generales de primer ciclo de secundaria en 16 países y para enseñar segundo ciclo de secundaria en 22 países (véase la tabla D6.1 a, b, c y d). En cambio, casi el 40% de los profesores se sienten insuficientemente preparados para los aspectos pedagógicos de la enseñanza, que es la proporción más alta en cualquiera de los 34 países que participaron en la encuesta TALIS (véase el gráfico D6.a). En Francia, la proporción era inferior (76%), y aún más baja en los centros privados (sólo el 69%, frente a una media TALIS del 86%).",
         "4"
        ],
        [
         "13",
         "Hay una tendencia creciente de una mayor proporción de graduados en artes en comparación con las corrientes técnicas y científicas. Al mismo tiempo, las escuelas técnicas y vocacionales están produciendo un número decreciente de graduados. Hay un reconocimiento creciente de la necesidad de fortalecer estos programas de capacitación en Penang. Por ejemplo, el centro de desarrollo de habilidades de Penang (PSDC) se estableció en 1989.",
         "4"
        ],
        [
         "14",
         "Esto podría involucrar un sistema de acreditación para certificar a las escuelas como capaces de administrar un presupuesto para gastos operativos como parte de los procesos de evaluación escolar por medio de inspecciones (ver Capítulo 4). El otorgamiento de autonomía debe entonces estar asociado con un monitoreo relevante y enfocado, especialmente el monitoreo de los resultados (ver también el Capítulo 2). Se les debe exigir que desarrollen un plan de desarrollo escolar que vincule las prioridades educativas de la escuela con sus intenciones de gasto en colaboración con la comunidad escolar.",
         "4"
        ],
        [
         "15",
         "Un estudiante pobre en Costa Rica tiene menos de uno en diez posibilidades de llegar a la universidad, una brecha de oportunidades mucho mayor que en la mayoría de los países de la OCDE. Pero los impulsores clave de la mejora en los sistemas educativos que mejoran más rápidamente (un impulso concertado para expandir la educación en los primeros años, altas expectativas profesionales para los maestros, liderazgo para la mejora por parte de las escuelas y sólidos sistemas de información y evaluación que pueden guiar la reforma) aún no se han logrado. ganó el impulso necesario en Costa Rica. Su papel en la nivelación del campo de juego para los niños de las familias más desfavorecidas es particularmente crítico.",
         "4"
        ],
        [
         "16",
         "De los gráficos se puede ver que el 73,4 por ciento de los niños no están privados en absoluto en uno de estos tres dominios, mientras que el 1,9 por ciento de los niños están privados simultáneamente en los tres. Aproximadamente el 3,5 por ciento de los niños belgas están privados de ocio y educación solo frente al 11 por ciento en la comunidad únicamente. Existen privaciones superpuestas en ocio y comunidad para el 1,5 por ciento, en educación y comunidad para el 1,3 por ciento, y en ocio y educación para el 3,5 por ciento. En general, podemos concluir que relativamente pocos de los niños que viven en Bélgica se enfrentan a múltiples privaciones superpuestas mientras que, para aquellos que sufren privaciones, predomina la privación en el ámbito comunitario.",
         "1"
        ],
        [
         "17",
         "El personal docente está formado por miembros cristianos, judíos y musulmanes. Los programas de estudio integran práctica, educación y teoría. Las tasas de matrícula son altas y los estudiantes pagan USD 2 500. Para 2010, el presupuesto de la universidad es de USD 1,8 millones: el 50 % del presupuesto está cubierto por el consejo de administración (principalmente del estado de Illinois y Austria), el 25 % de las tasas de matrícula, el resto por la comunidad árabe local.",
         "4"
        ],
        [
         "18",
         "En Portugal, los indicadores de la experiencia del paciente figuran entre los utilizados para contratar la asistencia sanitaria \"primaria\". Aunque la mayoría de los sistemas sanitarios de la OCDE cuentan al menos con algunas encuestas para recoger las PREM, a menudo no se hace de forma estandarizada (como se observa en Corea y Australia) y se suele recoger con poca frecuencia (en Japón, por ejemplo, las PREM se recogen una vez cada tres años). En un sistema en el que los datos de PROM se hacen públicos, pueden utilizarse para ayudar a los pacientes a tomar decisiones mejor informadas. Lo ideal sería que los datos de PROM se transmitieran a los médicos para ayudarles a mejorar la atención y los resultados de los pacientes.",
         "3"
        ],
        [
         "19",
         "Pocos países ya han logrado construir EPR. El proyecto del Reino Unido (Connecting for Health) se ha retrasado varias veces. Uno de los pocos éxitos lo ha logrado la provincia canadiense de Alberta, que tiene una población ligeramente menor que la de Finlandia. La información también podría usarse para promover aún más la medicina basada en la evidencia y comparar a los proveedores, como en el Hospital Benchmarking Project desarrollado desde 1996 (Hakkinen, 2010).",
         "3"
        ],
        [
         "20",
         "Por otro lado, aunque el consumo general de alcohol es alto, las tasas de consumo excesivo de alcohol1 en Austria (19 %) están ligeramente por debajo de la media de la UE (20 %) Entre los adolescentes en 2013-14, el 20 % de las niñas de 15 años y el de los chicos de 15 años declararon haberse emborrachado al menos dos veces en su vida, una proporción similar a la media de la UE. Si bien esta proporción sigue siendo más baja que en la mayoría de los demás países de la UE, ha aumentado sustancialmente desde 1999, cuando solo el 9 % de los adultos austriacos eran obesos. Los adultos austriacos se encuentran entre los más activos físicamente de la UE, pero la inactividad física entre los jóvenes de 15 años es relativamente alta.",
         "3"
        ],
        [
         "21",
         "Este último tema es particularmente importante cuando el material curricular o las tareas educativas tienen poca relevancia o significado para los grupos dentro de la población estudiantil, incluidos los estudiantes indígenas (Young, 2010). En comparación con otros estudiantes en sus propios países, los tres grupos de bajo rendimiento realizan menos tareas cada semana, y este indicador es particularmente pronunciado entre los alumnos de bajo rendimiento en Australia (Figura 6.3).",
         "4"
        ],
        [
         "22",
         "Por lo tanto, la educación y el cuidado de la primera infancia (EAPI) de alta calidad pueden generar mejores resultados en las etapas posteriores de la vida. Por ejemplo, el número de años pasados ​​en la EAPI es un fuerte predictor del nivel de desempeño dentro y fuera de las escuelas alcanzado en etapas posteriores. Del mismo modo, los niños de origen inmigrante y los niños más desfavorecidos a nivel mundial pueden beneficiarse al máximo de asistir a una EAPI de alta calidad. Sin embargo, los beneficios de asistir a ECEC no se limitan a los resultados del aprendizaje.",
         "4"
        ],
        [
         "23",
         "Los solicitantes también deben estar buscando trabajo activamente y, en la mayoría de los casos, el desempleo debe ser involuntario, aunque esto puede ser difícil de observar en la práctica y la definición varía según los países. La duración de los beneficios está limitada en la mayoría de los países, pero no en todos. El seguro es obligatorio para la mayoría de los empleados, pero voluntario en algunos países nórdicos. Los buscadores de empleo cuyo derecho a las prestaciones del seguro de desempleo haya expirado, o cuyo historial laboral sea insuficiente para hacerlos elegibles en primer lugar, pueden tener derecho a la asistencia por desempleo. En algunos países, la asistencia por desempleo es la principal prestación por desempleo.",
         "1"
        ],
        [
         "24",
         "La Sección 3 investiga estrategias para promover una formación profesional de calidad, incluidos los aprendizajes, mientras que la Sección 4 se centra en el apoyo a los estudiantes en riesgo. Para una descripción más detallada y una evaluación del sistema educativo de Letonia, véase OCDE (2015e). El Ministerio de Educación y Ciencia (MoES) nacional tiene la función de supervisión y, a través del Centro Nacional de Educación subordinado, establece los estándares educativos nacionales y determina los planes de estudio y los procedimientos de examen. Proporciona el marco regulatorio para la provisión de educación vocacional y emplea a los directores de los establecimientos VET.1 También mantiene el registro de estándares ocupacionales y estudia las demandas de habilidades del mercado laboral.",
         "4"
        ],
        [
         "25",
         "Las personas con entre siete y nueve años de escolaridad tienen un índice de pobreza similar al promedio. Como era de esperar, el porcentaje de pobres es mayor entre los desempleados que entre los ocupados y los económicamente inactivos. Además, entre los ocupados, la tasa de pobreza es menor para los asalariados que para los trabajadores por cuenta propia, quienes en varios países tienen una tasa de pobreza similar a la de la población económicamente inactiva. Esto plantea la pregunta de si las políticas públicas para el alivio de la pobreza están poniendo suficiente énfasis en el logro de estándares mínimos. Una mirada más amplia a la pobreza, incluidas las deficiencias en esferas como la protección social y los ingresos, explora la relación entre las diferentes dimensiones de la privación. En particular, explora conceptual y empíricamente diferentes dimensiones, umbrales y formas de sumar dimensiones para avanzar hacia la construcción de un índice de pobreza multidimensional relevante y aplicable en toda la región.",
         "1"
        ],
        [
         "26",
         "En algunos países, los alumnos son segregados en diferentes vías a edades tempranas, reflejando la noción de que sólo algunos niños pueden alcanzar niveles de clase mundial. Pero PISA muestra que esa selección está relacionada con grandes disparidades sociales. Por el contrario, en países tan diferentes como Estonia, Canadá, Finlandia y Japón, padres y profesores están comprometidos con la creencia de que todos los alumnos pueden alcanzar altos niveles.",
         "4"
        ],
        [
         "27",
         "Es esencial garantizar que el acceso a los servicios de salud no se vuelva menos equitativo como resultado de las intervenciones de GHP. Los nuevos GHPS deben introducirse solo cuando respalden estos objetivos. De esta manera, las intervenciones de GHP pueden responder a las características específicas de los sistemas de salud domésticos y sus respectivas necesidades.",
         "3"
        ],
        [
         "28",
         "Se cree que un currículo integrado de este tipo contribuye a una EPI de alta calidad y a un mejor comportamiento social (Tabla 1.2) (Bennett, 2004, Siraj-Blatchford, 2010). Por ejemplo, se considera que Suecia tiene una educación de la primera infancia de alta calidad, en parte porque los contenidos de su currículo conceden el mismo valor al aprendizaje social y cognitivo (Sheridan et al., 2010). ",
         "4"
        ],
        [
         "29",
         "En la mayoría de los países, el ingreso familiar también incluye el valor de alquiler imputado de las viviendas ocupadas por sus propietarios. En Chile, la pobreza disminuyó levemente entre 2006 y 2009, y la tasa de indigencia permaneció básicamente sin cambios.3 Las tasas de pobreza e indigencia en El Salvador no cambiaron entre 2004 y 2009. Para Chile, las cifras aquí presentadas difieren por primera vez de las estimaciones oficiales del país (MIDEPLAN.",
         "1"
        ],
        [
         "30",
         "Según los directores de escuela que participaron en PISA 2015, el estudiante promedio en los países de la OCDE asiste a una escuela donde el 84 % de los docentes han obtenido la certificación completa, pero esta proporción varía ampliamente, desde el 100 % en Macao (China) hasta alrededor del 10 % en Colombia. Los hallazgos muestran que la proporción de docentes que han sido certificados para enseñar se asocia positivamente con el desempeño de los estudiantes en solo unos pocos países seleccionados, tanto antes como después de tener en cuenta el perfil socioeconómico de los estudiantes y las escuelas (Figura 1.9). Este débil impacto general no es sorprendente, dados los diferentes estándares utilizados en diferentes países para certificar a los docentes y el hecho de que la mayoría de los países tienen un alto porcentaje de docentes certificados.",
         "4"
        ],
        [
         "31",
         "La ventaja relativamente pequeña de las mujeres en África en 2010-2015 es principalmente una consecuencia del impacto diferencial de la epidemia de VIH/SIDA en los niveles de mortalidad por sexo, con una prevalencia estimada del VIH mayor entre las mujeres que entre los hombres. En las regiones más desarrolladas, la ventaja femenina es mayor en Europa (7,4 años o 11,3 por ciento) que en América del Norte (4,7 años o 6,1 por ciento) y Oceanía, que incluye Australia y Nueva Zelanda. La tasa de mortalidad infantil, también conocida como \"tasa de mortalidad de menores de cinco años\"1, disminuyó a un ritmo notable de alrededor del 3 por ciento anual entre 1990 y 2015.",
         "3"
        ],
        [
         "32",
         "En el MEP se reconoce que la evaluación reformada debe pasar de evaluar el conocimiento de los contenidos a examinar las habilidades de los estudiantes para aplicar y utilizar los conocimientos de forma que demuestren competencias de orden superior. Esto supondrá una mejora significativa con respecto a la evaluación anterior, que sólo captaba una gama limitada de actividades de aprendizaje. Pero la nueva evaluación debe incluir también otras modificaciones.",
         "4"
        ],
        [
         "33",
         "Un incidente de gran importancia en la historia de la atención de la salud mental en Japón fue el ataque con cuchillo del entonces embajador de EE. UU. en Japón, Edwin Reischauer, por parte de una persona con esquizofrenia en 1964. Este ataque generó una alarma pública significativa y contribuyó a aumentar el estigma de las enfermedades mentales. , impulsado por una campaña en los medios de comunicación, además de los altos niveles existentes de estigma dirigido hacia los trastornos mentales. Este incidente también contribuyó a la revisión de 1965 de la Ley de Higiene Mental discutida anteriormente. En 1993, la Ley de Salud Mental fue enmendada nuevamente, con un enfoque particular en la atención en la comunidad, incluida la autorización de la construcción de hogares grupales en la comunidad para personas con trastornos mentales (Tatara y Okamoto, 2009). La Ley de Atención de Salud Comunitaria introducida en 1994 y apoyó aún más el establecimiento de un sistema de salud mental basado en la comunidad.",
         "3"
        ],
        [
         "34",
         "El liderazgo en particular, factor clave de la eficacia escolar, no parece figurar con fuerza en los marcos de evaluación. El proyecto \"Estrategias de desarrollo del liderazgo escolar\" de la asociación nacional Smarter Schools, que está llevando a cabo la AITSL, pretende desarrollar un enfoque nacional para mejorar la capacidad de liderazgo escolar. Típicamente, una revisión escolar va seguida de la formulación de recomendaciones de mejora que se supone que la escuela debe aplicar tras la preparación de un plan de mejora. Sin embargo, el Equipo de Revisión se formó la opinión de que el grado de seguimiento por parte de las autoridades de revisión escolar era variable, incluso dentro de una misma jurisdicción educativa, dependiendo de la capacidad de las redes regionales.",
         "4"
        ],
        [
         "35",
         "Sin embargo, los resultados empíricos sugieren que se puede obtener un uso de los recursos educativos que aumente la equidad a través de políticas que proporcionen las señales pertinentes a las escuelas y los docentes: por ejemplo, brindar incentivos financieros a los docentes calificados puede resultar una herramienta eficaz para dirigirse a los estudiantes desfavorecidos. o áreas. En tercer lugar, este trabajo llena un vacío en la investigación empírica al proporcionar evidencia entre países (a diferencia de países específicos) sobre la importancia de la política de intervención temprana para atenuar las desigualdades socioeconómicas intergeneracionales en las oportunidades educativas. Sugiere que las políticas de cuidado infantil e intervención temprana podrían ser efectivas para alcanzar este objetivo. Finalmente, el análisis entre países intenta descubrir el papel que juegan las políticas sociales y del mercado laboral para influir en la igualdad de oportunidades educativas, dada la relación positiva entre la desigualdad intergeneracional y transversal (de ingresos).",
         "4"
        ],
        [
         "36",
         "En 2016 se publicó el primer informe del Consejo Asesor para el Desarrollo de Indicadores de Calidad y se estableció un sistema de seguimiento público de los indicadores de calidad. Desde 2002, EHIF ha llevado a cabo cinco auditorías clínicas en colaboración con expertos cada año. Los ejemplos de 2013 sugieren que el 67,5 % de las visitas a especialistas por hipertensión y el 20 % de las visitas a especialistas por diabetes podrían considerarse 'evitables' y manejarse de manera más adecuada en la atención primaria.",
         "3"
        ],
        [
         "37",
         "El sistema educativo tiene una serie de características que promueven la equidad, incluida una alta proporción de estudiantes matriculados en educación de la primera infancia, baja repetición de grado y escolarización integral hasta los 16 años. Las tasas de graduación de la secundaria superior son altas, al igual que las tasas de matriculación en educación y formación profesional. (FP), pero el abandono de la FP también es alto. La educación terciaria es accesible para todos, a través de políticas como un plan de subvenciones y préstamos financiado con fondos públicos. En la Encuesta de habilidades de adultos de la OCDE, los adultos en Dinamarca demuestran habilidades de alfabetización por debajo del promedio y habilidades de aritmética por encima del promedio en comparación con el promedio en los países participantes, y los adultos más jóvenes obtienen puntajes alrededor del promedio.",
         "4"
        ],
        [
         "38",
         "La mayoría de las personas de 25 a 64 años en Alemania (55 %) han obtenido una cualificación profesional en el nivel secundario superior o postsecundario, la cuarta proporción más grande entre los países con datos disponibles (el promedio de la OCDE es del 33 %). Debido a la alta incidencia de cualificaciones profesionales y al hecho de que un título general (principalmente Abitur) se dedica a la educación superior y no a la entrada directa en el mercado laboral, solo el 3 % de los adultos obtienen una cualificación general de secundaria superior o postsecundaria como grado más alto, una de las proporciones más bajas entre los países de la OCDE (el promedio de la OCDE es del 12 %) (Tabla Al. Entre 2005 y 2012, las tasas de desempleo se redujeron en 7 puntos porcentuales entre los adultos sin educación secundaria superior (del 20,1 % al 12,8 %) , en 6 puntos porcentuales entre los que tienen educación secundaria superior o postsecundaria no terciaria (del 11,0 % al 5,3 %) y en 3 puntos porcentuales entre los que tienen un título terciario (del 5,6 % al 2,4 %).",
         "4"
        ],
        [
         "39",
         "Una excelente atención médica será fundamental para lograrlo. Hasta ahora, la atención médica japonesa ha tenido un buen desempeño: la esperanza de vida es larga, 83,2 años en comparación con un promedio de la OCDE de 80,2 años, mientras que el gasto en salud es de USD 3 649 PPA per cápita por año, ligeramente superior a USD 3 484 en promedio. . Una característica llamativa del sistema de salud japonés es su apertura y flexibilidad.",
         "3"
        ],
        [
         "40",
         "Para consolidar aún más el marco de evaluación y evaluación, hay espacio para incorporar enfoques de evaluación y evaluación con objetivos educativos más amplios, continuar construyendo sobre el profesionalismo docente y construir redes y capacidad para una evaluación y evaluación efectivas y con visión de futuro, en particular en las áreas de la evaluación de los alumnos en el aula, la evaluación de los docentes y la autoevaluación de la escuela. Después de esta descripción general, los capítulos siguientes (3-6) analizarán los problemas relacionados con cada componente individual con mayor profundidad. El término \"evaluación\" se utiliza para referirse a los juicios sobre el desempeño individual de los estudiantes y el logro de las metas de aprendizaje.",
         "4"
        ],
        [
         "41",
         "Este capítulo comienza con una descripción general de las reformas de Tailandia relacionadas con el uso de las TIC en la educación, y luego proporciona un análisis de los problemas de política relacionados con esta área, presentando recomendaciones para mejorar para apoyar el uso de las TIC para mejorar la calidad y la equidad de la educación. sistema educativo en su conjunto. El objetivo de estas estrategias ha sido utilizar las TIC para crear una \"Tailandia inteligente\": una sociedad que sea \"inteligente y alfabetizada en información\", donde el conocimiento beneficie a los ciudadanos y a la \"sociedad en su conjunto\" (Ministerio de TIC, 2009a). La educación ha sido un pilar clave en estos esfuerzos.",
         "4"
        ],
        [
         "42",
         "Primero, el programa de Fortalecimiento de la Gestión Escolar, que invertirá MEX 41 millones en 595 escuelas, busca apoyar a los líderes escolares en la gestión de los recursos escolares (Gobiemo de Morelos, 2016a). Con una ambición similar, el programa Escuelas de Calidad (Programa Escuelas de Cualidad) tiene como objetivo fortalecer la autonomía de las instituciones de educación básica en la gestión de los recursos, al tiempo que apoya a cada escuela y su Consejo Técnico Escolar en la adopción de mejores prácticas que pueden ayudarlos a cumplir con la planificación. , evaluación y asignación de responsabilidades presupuestarias de manera efectiva. A través de una inversión de MEX 26.57 millones en 2015-16, un total de 475 escuelas se benefician del programa que, en comparación con el año anterior, representa una expansión a 55 escuelas nuevas (Gobiemo de Morelos, 2016a). Otro componente del programa Escuelas de Calidad implica la evaluación de los maestros en la instrucción de sus salones de clase y de los directores en su capacidad para liderar, así como actividades para aumentar la participación de los padres en el aprendizaje de sus hijos. Es probable que los costos de instrucción de los niños desfavorecidos sean más altos que los de los más acomodados y Morelos está tomando medidas positivas para paliar esas necesidades.",
         "4"
        ],
        [
         "43",
         "Actualmente existen en el país más de 4.500 centros de tratamiento y rehabilitación privados y alrededor de 600 públicos. Según las estadísticas oficiales, en 2014 había un total de 65.216 personas registradas como consumidores de drogas en Kazajstán, Kirguistán, Tayikistán y Uzbekistán, frente a un total de 73.345 personas en 2013. Número de drogodependientes registrados oficialmente en Kazajstán en 2014 se situó en 34.221 personas, lo que representa una disminución significativa en comparación con las 40.224 personas en 2013. En Kirguistán, 9.024 personas se registraron oficialmente como drogodependientes en 2014, lo que representa un 8,8% menos que en 2013.",
         "3"
        ],
        [
         "44",
         "La información contenida en este documento se relaciona con el área bajo el control efectivo del Gobierno de la República de Chipre. Andrade y O.F.A. Bueno (2008), \"Contribución de la Educación, la Ocupación y las Actividades de Estimulación Cognitiva a la Formación de la Reserva Cognitiva\", Dementia and Neuropsychologia, Vo\\. 2, No. Working Paper ROA-RM-2010/1, Centro de Investigación para la Educación y el Mercado Laboral (ROA), Maastricht.",
         "4"
        ],
        [
         "45",
         "El personal docente de Lituania, aunque tiene una formación de grado, muestra habilidades numéricas más bajas que las de otros graduados de educación terciaria y más bajas que el nivel promedio de los docentes en los países miembros de la OCDE que participan en la Encuesta de Habilidades de Adultos (Figura 3.5). Los puntajes competitivos utilizados en las admisiones a la educación superior, que se basan en los puntajes de los exámenes matura, muestran que el puntaje mínimo requerido para ingresar a los programas de formación docente es consistentemente mucho más bajo que el requerido para el campo más popular y selectivo, la medicina (Tabla 3.6). El principal proveedor de programas de formación de docentes, la universidad pedagógica del país, ha recibido una aprobación institucional limitada del organismo de garantía de la calidad de la educación superior del país, y hay debates en curso sobre la forma en que los programas y las instituciones pueden desempeñar mejor sus funciones iniciales. formación docente.",
         "4"
        ],
        [
         "46",
         "La innovación que aproveche estas nuevas oportunidades se beneficiará del intercambio de conocimientos y prácticas sobre cómo implementar reformas con éxito. Esta investigación enfatiza particularmente la necesidad de utilizar diversas estrategias para enseñar y aprender en diferentes circunstancias. Esto significa que incluso si este informe se centra en los REA, es decir, en los recursos educativos y, en particular, en los medios educativos, intentará mantener el foco en la interacción de los procesos y la infraestructura organizativos, los medios para utilizar las redes y la colaboración, y los conocimientos (dados y perdidos). ) de la investigación.",
         "4"
        ],
        [
         "47",
         "El fortalecimiento de la atención primaria pública y comunitaria también daría como resultado menos autorreferencias a los departamentos de emergencia de los hospitales por dolencias y afecciones menores en las que los costos del tratamiento son mucho más altos. Finalmente, un mejor manejo de las condiciones crónicas en los entornos de atención primaria contribuiría a prevenir el deterioro y la necesidad de atención hospitalaria. Por ejemplo, los médicos de cabecera y los médicos de familia privados vinculados al sistema myHealth ahora pueden hacer derivaciones para servicios que antes solo podían solicitar los especialistas del hospital. Además, la gama de servicios prestados en la atención primaria se ha ampliado para incluir, por ejemplo, clínicas de gestión de enfermedades crónicas y clínicas de estilo de vida saludable.",
         "3"
        ],
        [
         "48",
         "Las microrregiones en Hungría son subregiones estadísticas. Hay 149 microrregiones en total y Budapest no está incluida en el sistema. La atención diurna comprende los servicios de atención de la salud que se brindan a los pacientes que ingresan formalmente en hospitales, establecimientos ambulatorios o centros autónomos, pero con la intención de dar de alta al paciente el mismo día.",
         "3"
        ],
        [
         "49",
         "El piloto tuvo tanto éxito que ahora estamos construyendo una plataforma digital permanente para él. Lo mismo ocurre en todos los países: los países con mejor desempeño en PISA, como Japón, Singapur y Corea del Sur en Asia, Estonia y Finlandia en Europa, y Canadá en América del Norte, también obtuvieron los primeros lugares en la evaluación PISA de resolución colaborativa de problemas. Por ejemplo, a los estudiantes japoneses les fue muy bien en esas materias, pero les fue aún mejor en la resolución colaborativa de problemas.",
         "4"
        ]
       ],
       "shape": {
        "columns": 2,
        "rows": 2424
       }
      },
      "text/html": [
       "<div>\n",
       "<style scoped>\n",
       "    .dataframe tbody tr th:only-of-type {\n",
       "        vertical-align: middle;\n",
       "    }\n",
       "\n",
       "    .dataframe tbody tr th {\n",
       "        vertical-align: top;\n",
       "    }\n",
       "\n",
       "    .dataframe thead th {\n",
       "        text-align: right;\n",
       "    }\n",
       "</style>\n",
       "<table border=\"1\" class=\"dataframe\">\n",
       "  <thead>\n",
       "    <tr style=\"text-align: right;\">\n",
       "      <th></th>\n",
       "      <th>textos</th>\n",
       "      <th>labels</th>\n",
       "    </tr>\n",
       "  </thead>\n",
       "  <tbody>\n",
       "    <tr>\n",
       "      <th>0</th>\n",
       "      <td>\"Aprendizaje\" y \"educación\" se consideran sinó...</td>\n",
       "      <td>4</td>\n",
       "    </tr>\n",
       "    <tr>\n",
       "      <th>1</th>\n",
       "      <td>Para los niños más pequeños (bebés y niños peq...</td>\n",
       "      <td>4</td>\n",
       "    </tr>\n",
       "    <tr>\n",
       "      <th>2</th>\n",
       "      <td>Además, la formación de especialistas en medic...</td>\n",
       "      <td>3</td>\n",
       "    </tr>\n",
       "    <tr>\n",
       "      <th>3</th>\n",
       "      <td>En los países de la OCDE se tiende a pasar de ...</td>\n",
       "      <td>4</td>\n",
       "    </tr>\n",
       "    <tr>\n",
       "      <th>4</th>\n",
       "      <td>Este grupo se centró en las personas que padec...</td>\n",
       "      <td>3</td>\n",
       "    </tr>\n",
       "    <tr>\n",
       "      <th>...</th>\n",
       "      <td>...</td>\n",
       "      <td>...</td>\n",
       "    </tr>\n",
       "    <tr>\n",
       "      <th>2419</th>\n",
       "      <td>La tutoría de carrera está diseñada para apoya...</td>\n",
       "      <td>4</td>\n",
       "    </tr>\n",
       "    <tr>\n",
       "      <th>2420</th>\n",
       "      <td>Fuente: Ministerio de Educación. Las Tasas Int...</td>\n",
       "      <td>4</td>\n",
       "    </tr>\n",
       "    <tr>\n",
       "      <th>2421</th>\n",
       "      <td>Y desde 2010, el PNUD ha sido pionero en la pu...</td>\n",
       "      <td>1</td>\n",
       "    </tr>\n",
       "    <tr>\n",
       "      <th>2422</th>\n",
       "      <td>Sin embargo, estas fallas del mercado implican...</td>\n",
       "      <td>3</td>\n",
       "    </tr>\n",
       "    <tr>\n",
       "      <th>2423</th>\n",
       "      <td>Aunque existen programas para convertirse espe...</td>\n",
       "      <td>4</td>\n",
       "    </tr>\n",
       "  </tbody>\n",
       "</table>\n",
       "<p>2424 rows × 2 columns</p>\n",
       "</div>"
      ],
      "text/plain": [
       "                                                 textos  labels\n",
       "0     \"Aprendizaje\" y \"educación\" se consideran sinó...       4\n",
       "1     Para los niños más pequeños (bebés y niños peq...       4\n",
       "2     Además, la formación de especialistas en medic...       3\n",
       "3     En los países de la OCDE se tiende a pasar de ...       4\n",
       "4     Este grupo se centró en las personas que padec...       3\n",
       "...                                                 ...     ...\n",
       "2419  La tutoría de carrera está diseñada para apoya...       4\n",
       "2420  Fuente: Ministerio de Educación. Las Tasas Int...       4\n",
       "2421  Y desde 2010, el PNUD ha sido pionero en la pu...       1\n",
       "2422  Sin embargo, estas fallas del mercado implican...       3\n",
       "2423  Aunque existen programas para convertirse espe...       4\n",
       "\n",
       "[2424 rows x 2 columns]"
      ]
     },
     "execution_count": 161,
     "metadata": {},
     "output_type": "execute_result"
    }
   ],
   "source": [
    "df_textC"
   ]
  },
  {
   "cell_type": "code",
   "execution_count": 162,
   "id": "3e53058f",
   "metadata": {},
   "outputs": [
    {
     "name": "stdout",
     "output_type": "stream",
     "text": [
      "<class 'pandas.core.frame.DataFrame'>\n",
      "RangeIndex: 2424 entries, 0 to 2423\n",
      "Data columns (total 2 columns):\n",
      " #   Column  Non-Null Count  Dtype \n",
      "---  ------  --------------  ----- \n",
      " 0   textos  2424 non-null   object\n",
      " 1   labels  2424 non-null   int64 \n",
      "dtypes: int64(1), object(1)\n",
      "memory usage: 38.0+ KB\n"
     ]
    }
   ],
   "source": [
    "df_textC.info()"
   ]
  },
  {
   "cell_type": "markdown",
   "id": "b709c98c",
   "metadata": {},
   "source": [
    "### 2.2 Estadisticas Descriptivas\n",
    "Vamos a analizar los textos por medio de **maximo** , **minimo** y **moda** "
   ]
  },
  {
   "cell_type": "code",
   "execution_count": 163,
   "id": "7dab7c04",
   "metadata": {},
   "outputs": [],
   "source": [
    "from collections import Counter\n",
    "\n",
    "texts = df_textC.copy()\n",
    "texts['Count'] = [len(x) for x in texts['textos']]\n",
    "texts['Max'] = [[max([len(x) for x in i.split(' ')])][0] for i in texts['textos']]\n",
    "texts['Min'] = [[min([len(x) for x in i.split(' ')])][0] for i in texts['textos']]\n",
    "texts[\"Moda\"] = [Counter(i.split(\" \")).most_common(1)[0][0] for i in texts[\"textos\"] ]\n",
    "#ProfileReport(texts)"
   ]
  },
  {
   "cell_type": "code",
   "execution_count": 164,
   "id": "1fbdfc95",
   "metadata": {},
   "outputs": [
    {
     "data": {
      "application/vnd.microsoft.datawrangler.viewer.v0+json": {
       "columns": [
        {
         "name": "index",
         "rawType": "int64",
         "type": "integer"
        },
        {
         "name": "textos",
         "rawType": "object",
         "type": "string"
        },
        {
         "name": "labels",
         "rawType": "int64",
         "type": "integer"
        },
        {
         "name": "Count",
         "rawType": "int64",
         "type": "integer"
        },
        {
         "name": "Max",
         "rawType": "int64",
         "type": "integer"
        },
        {
         "name": "Min",
         "rawType": "int64",
         "type": "integer"
        },
        {
         "name": "Moda",
         "rawType": "object",
         "type": "string"
        }
       ],
       "ref": "ac99cabb-5420-48ec-9171-e8d1778cf04e",
       "rows": [
        [
         "0",
         "\"Aprendizaje\" y \"educación\" se consideran sinónimos de escolarización formal. Las organizaciones auxiliares, como las editoriales de educación, las juntas examinadoras y las organizaciones de formación de docentes, se consideran extensiones de los acuerdos establecidos por los gobiernos. Este marco de comprensión se ha vuelto cada vez más inadecuado.",
         "4",
         "352",
         "14",
         "1",
         "de"
        ],
        [
         "1",
         "Para los niños más pequeños (bebés y niños pequeños), la capacitación especializada y práctica parece estar más fuertemente asociada con la calidad pedagógica y los resultados cognitivos y sociales. Los educadores de la primera infancia se encuentran con entornos sociales cada vez más complejos y se encuentran con una multiplicidad de antecedentes y experiencias familiares. Estos factores crean imperativos para adoptar nuevas pedagogías y prácticas organizacionales para acomodar este pluralismo (Elliott, 2006).",
         "4",
         "516",
         "16",
         "1",
         "y"
        ],
        [
         "2",
         "Además, la formación de especialistas en medicina general también incluye tareas que requieren un conocimiento más profundo de problemas comunes de salud pública, incluida la salud mental (Cuestionario de salud mental de la OCDE, 2013). Dado que no hay control en la atención primaria para limitar el acceso a los servicios de salud (mental) especializados, muchos pacientes que necesitan tratamiento (para trastornos mentales graves en particular) pueden buscar atención de nivel especializado directamente. Los servicios de especialistas en psiquiatría se brindan principalmente en las salas ambulatorias de psiquiatría ubicadas en los hospitales generales.",
         "3",
         "659",
         "15",
         "1",
         "de"
        ],
        [
         "3",
         "En los países de la OCDE se tiende a pasar de los cursos obligatorios a los optativos, abiertos a estudiantes de distintas facultades y escuelas. Este planteamiento facilita la formación de equipos de estudiantes con distintas formaciones e intereses. El trabajo en equipos interdisciplinares permite a los individuos concentrarse en lo que mejor saben y les gusta y, al mismo tiempo, familiarizarse con nuevos conocimientos que pueden asociarse a una nueva forma de resolver un problema o crear un nuevo producto o servicio. No está claro hasta qué punto estos cursos utilizan métodos pedagógicos creativos y se adaptan a las necesidades de los estudiantes de grado, postgrado y licenciatura.",
         "4",
         "693",
         "18",
         "1",
         "de"
        ],
        [
         "4",
         "Este grupo se centró en las personas que padecen trastornos mentales con comorbilidad de abuso de sustancias (mientras que la demencia, la discapacidad intelectual y el abuso de sustancias por sà solos quedaron excluidos del ámbito de análisis). Con 90 millones de euros de financiación, la comisión dispuso de tres años para \"iniciar y apoyar el desarrollo de proyectos a todos los niveles (tratamiento médico, mejora de los servicios, proyectos de vivienda, mejoras legislativas y organizativas) y proponer las medidas necesarias para elevar de forma permanente el nivel de los servicios de salud mental\". ",
         "3",
         "608",
         "14",
         "0",
         "de"
        ],
        [
         "5",
         "Los datos a nivel del sistema que no se derivan del cuestionario para estudiantes o escuelas de PISA 2015 se extraen de la publicación anual de la OCDE. Panorama de la educación, para aquellos países y economías que participan en esa recopilación periódica de datos. Para otros países y economías, se llevó a cabo una recopilación de datos a nivel de sistema especial en colaboración con los miembros de la Junta de Gobierno de PISA y los directores de proyectos nacionales.",
         "4",
         "474",
         "12",
         "1",
         "de"
        ],
        [
         "6",
         "La principal ventaja de las evaluaciones externas es su fiabilidad. Garantizan que todos los estudiantes son evaluados en las mismas tareas y que los resultados se miden con los mismos estándares. Además, las evaluaciones externas suelen realizarse bajo supervisión, lo que garantiza que lo que se evalúa es el propio trabajo de los estudiantes.",
         "4",
         "345",
         "12",
         "1",
         "que"
        ],
        [
         "7",
         "Los pacientes pueden elegir a cualquier médico de cabecera, pero como no hay un sistema de control, también pueden elegir visitar directamente a cualquier especialista médico. Hay pocos contactos ambulatorios por persona (58 en 2015) y una gobernanza de atención primaria débil (por ejemplo, falta de inspección estatal, políticas de atención primaria de apoyo). También existe un relativo subdesarrollo de la fuerza laboral de atención primaria con bajos niveles de ingresos en relación con los especialistas. Más positivamente, se ha juzgado que el sistema de atención primaria es relativamente efectivo y eficiente con respecto a la coordinación y la integralidad de la atención (Ktingos et al, 2015, Kringosetal, 2013).",
         "3",
         "723",
         "14",
         "1",
         "de"
        ],
        [
         "8",
         "De hecho, es probable que la designación de la universidad como universidad APEX aleje aún más a la institución del compromiso regional. Brindan acceso a un gran número de estudiantes y estudiantes graduados de la región, muchos de los cuales permanecen dentro de la región en busca de empleo. A través de la participación de los estudiantes en la región a través de pasantías, actividades de voluntariado y otras formas, las instituciones tienen un impacto en la región. Excepto por la información básica sobre el número de admisiones, matriculación y graduados, no se disponía de información sustantiva sobre la sucursal de UiTM en Penang, los dos politécnicos, los cuatro colegios comunitarios y las instituciones privadas en Penang y sobre las instituciones de educación superior en los otros tres estados. (Perlis, Kedah y Perak) en la Región Económica del Corredor Norte más grande. Por lo tanto, los hallazgos y observaciones se basan en una perspectiva limitada de las instituciones de educación superior en la región.",
         "4",
         "1026",
         "13",
         "1",
         "de"
        ],
        [
         "9",
         "De hecho, aunque Chile y Uruguay tienen índices de pobreza similares, la pobreza infantil en Chile es 1,8 veces mayor que la de la población adulta, mientras que en Uruguay es 3,1 veces mayor. Esto produciría tasas de pobreza infantil artificialmente altas. Esta línea representa el costo de satisfacer las necesidades básicas de una persona. Medir la pobreza de esta manera supone que el costo per cápita de satisfacer las necesidades básicas de un individuo no se ve afectado por el número de personas que viven en un hogar o por las características demográficas del hogar.",
         "1",
         "575",
         "15",
         "1",
         "de"
        ],
        [
         "10",
         "Según el Informe sobre el Consumo de Drogas en las Américas de 2015,3' se informó que la prevalencia anual de cannabis entre los estudiantes de secundaria en América Central fue más alta en Belice, con un 15,8 %, y más baja en Honduras, con un poco más del 1 %. centavo. Se informaron tasas de prevalencia de menos del 5 por ciento en Antigua y Barbuda, Barbados, Dominica, República Dominicana, El Salvador, Guyana, Haití, Honduras, Panamá, Saint Kitts y Nevis y San Vicente y las Granadinas. Según el Informe sobre el Consumo de Drogas en las Américas de 2015, la prevalencia anual del uso indebido de cocaína entre estudiantes de secundaria en el Caribe oscila entre el 0,5 % y un poco más del 2 %.",
         "3",
         "701",
         "11",
         "1",
         "de"
        ],
        [
         "11",
         "El acuerdo de desempeño describe los objetivos clave que la institución debe esforzarse por lograr en el transcurso de un período de tres años. El ministerio se reúne con cada institución durante el año para discutir el progreso hacia el logro de estos objetivos. Se requiere que cada institución al final del año reporte datos a la Base de Datos de Estadísticas de Educación Superior (DBH) y presente un informe anual al ministerio. Esta información es utilizada por el ministerio para desarrollar un informe anual sobre el estado de la educación superior y para desarrollar una carta de retroalimentación anual para las instituciones sobre su desempeño anual (Larsen et al.,",
         "4",
         "676",
         "17",
         "1",
         "de"
        ],
        [
         "12",
         "Los únicos países que exigen un máster para enseñar preescolar son Inglaterra, Francia, Islandia e Italia. Este nivel de formación se exige para enseñar primaria en 11 de los 35 países de los que se dispone de datos, para enseñar estudios generales de primer ciclo de secundaria en 16 países y para enseñar segundo ciclo de secundaria en 22 países (véase la tabla D6.1 a, b, c y d). En cambio, casi el 40% de los profesores se sienten insuficientemente preparados para los aspectos pedagógicos de la enseñanza, que es la proporción más alta en cualquiera de los 34 países que participaron en la encuesta TALIS (véase el gráfico D6.a). En Francia, la proporción era inferior (76%), y aún más baja en los centros privados (sólo el 69%, frente a una media TALIS del 86%).",
         "4",
         "768",
         "17",
         "1",
         "de"
        ],
        [
         "13",
         "Hay una tendencia creciente de una mayor proporción de graduados en artes en comparación con las corrientes técnicas y científicas. Al mismo tiempo, las escuelas técnicas y vocacionales están produciendo un número decreciente de graduados. Hay un reconocimiento creciente de la necesidad de fortalecer estos programas de capacitación en Penang. Por ejemplo, el centro de desarrollo de habilidades de Penang (PSDC) se estableció en 1989.",
         "4",
         "436",
         "14",
         "1",
         "de"
        ],
        [
         "14",
         "Esto podría involucrar un sistema de acreditación para certificar a las escuelas como capaces de administrar un presupuesto para gastos operativos como parte de los procesos de evaluación escolar por medio de inspecciones (ver Capítulo 4). El otorgamiento de autonomía debe entonces estar asociado con un monitoreo relevante y enfocado, especialmente el monitoreo de los resultados (ver también el Capítulo 2). Se les debe exigir que desarrollen un plan de desarrollo escolar que vincule las prioridades educativas de la escuela con sus intenciones de gasto en colaboración con la comunidad escolar.",
         "4",
         "599",
         "13",
         "1",
         "de"
        ],
        [
         "15",
         "Un estudiante pobre en Costa Rica tiene menos de uno en diez posibilidades de llegar a la universidad, una brecha de oportunidades mucho mayor que en la mayoría de los países de la OCDE. Pero los impulsores clave de la mejora en los sistemas educativos que mejoran más rápidamente (un impulso concertado para expandir la educación en los primeros años, altas expectativas profesionales para los maestros, liderazgo para la mejora por parte de las escuelas y sólidos sistemas de información y evaluación que pueden guiar la reforma) aún no se han logrado. ganó el impulso necesario en Costa Rica. Su papel en la nivelación del campo de juego para los niños de las familias más desfavorecidas es particularmente crítico.",
         "4",
         "718",
         "15",
         "1",
         "de"
        ],
        [
         "16",
         "De los gráficos se puede ver que el 73,4 por ciento de los niños no están privados en absoluto en uno de estos tres dominios, mientras que el 1,9 por ciento de los niños están privados simultáneamente en los tres. Aproximadamente el 3,5 por ciento de los niños belgas están privados de ocio y educación solo frente al 11 por ciento en la comunidad únicamente. Existen privaciones superpuestas en ocio y comunidad para el 1,5 por ciento, en educación y comunidad para el 1,3 por ciento, y en ocio y educación para el 3,5 por ciento. En general, podemos concluir que relativamente pocos de los niños que viven en Bélgica se enfrentan a múltiples privaciones superpuestas mientras que, para aquellos que sufren privaciones, predomina la privación en el ámbito comunitario.",
         "1",
         "769",
         "15",
         "1",
         "en"
        ],
        [
         "17",
         "El personal docente está formado por miembros cristianos, judíos y musulmanes. Los programas de estudio integran práctica, educación y teoría. Las tasas de matrícula son altas y los estudiantes pagan USD 2 500. Para 2010, el presupuesto de la universidad es de USD 1,8 millones: el 50 % del presupuesto está cubierto por el consejo de administración (principalmente del estado de Illinois y Austria), el 25 % de las tasas de matrícula, el resto por la comunidad árabe local.",
         "4",
         "474",
         "15",
         "1",
         "de"
        ],
        [
         "18",
         "En Portugal, los indicadores de la experiencia del paciente figuran entre los utilizados para contratar la asistencia sanitaria \"primaria\". Aunque la mayoría de los sistemas sanitarios de la OCDE cuentan al menos con algunas encuestas para recoger las PREM, a menudo no se hace de forma estandarizada (como se observa en Corea y Australia) y se suele recoger con poca frecuencia (en Japón, por ejemplo, las PREM se recogen una vez cada tres años). En un sistema en el que los datos de PROM se hacen públicos, pueden utilizarse para ayudar a los pacientes a tomar decisiones mejor informadas. Lo ideal sería que los datos de PROM se transmitieran a los médicos para ayudarles a mejorar la atención y los resultados de los pacientes.",
         "3",
         "731",
         "13",
         "1",
         "los"
        ],
        [
         "19",
         "Pocos países ya han logrado construir EPR. El proyecto del Reino Unido (Connecting for Health) se ha retrasado varias veces. Uno de los pocos éxitos lo ha logrado la provincia canadiense de Alberta, que tiene una población ligeramente menor que la de Finlandia. La información también podría usarse para promover aún más la medicina basada en la evidencia y comparar a los proveedores, como en el Hospital Benchmarking Project desarrollado desde 1996 (Hakkinen, 2010).",
         "3",
         "468",
         "12",
         "1",
         "la"
        ],
        [
         "20",
         "Por otro lado, aunque el consumo general de alcohol es alto, las tasas de consumo excesivo de alcohol1 en Austria (19 %) están ligeramente por debajo de la media de la UE (20 %) Entre los adolescentes en 2013-14, el 20 % de las niñas de 15 años y el de los chicos de 15 años declararon haberse emborrachado al menos dos veces en su vida, una proporción similar a la media de la UE. Si bien esta proporción sigue siendo más baja que en la mayoría de los demás países de la UE, ha aumentado sustancialmente desde 1999, cuando solo el 9 % de los adultos austriacos eran obesos. Los adultos austriacos se encuentran entre los más activos físicamente de la UE, pero la inactividad física entre los jóvenes de 15 años es relativamente alta.",
         "3",
         "734",
         "15",
         "1",
         "de"
        ],
        [
         "21",
         "Este último tema es particularmente importante cuando el material curricular o las tareas educativas tienen poca relevancia o significado para los grupos dentro de la población estudiantil, incluidos los estudiantes indígenas (Young, 2010). En comparación con otros estudiantes en sus propios países, los tres grupos de bajo rendimiento realizan menos tareas cada semana, y este indicador es particularmente pronunciado entre los alumnos de bajo rendimiento en Australia (Figura 6.3).",
         "4",
         "484",
         "15",
         "1",
         "los"
        ],
        [
         "22",
         "Por lo tanto, la educación y el cuidado de la primera infancia (EAPI) de alta calidad pueden generar mejores resultados en las etapas posteriores de la vida. Por ejemplo, el número de años pasados ​​en la EAPI es un fuerte predictor del nivel de desempeño dentro y fuera de las escuelas alcanzado en etapas posteriores. Del mismo modo, los niños de origen inmigrante y los niños más desfavorecidos a nivel mundial pueden beneficiarse al máximo de asistir a una EAPI de alta calidad. Sin embargo, los beneficios de asistir a ECEC no se limitan a los resultados del aprendizaje.",
         "4",
         "576",
         "14",
         "1",
         "de"
        ],
        [
         "23",
         "Los solicitantes también deben estar buscando trabajo activamente y, en la mayoría de los casos, el desempleo debe ser involuntario, aunque esto puede ser difícil de observar en la práctica y la definición varía según los países. La duración de los beneficios está limitada en la mayoría de los países, pero no en todos. El seguro es obligatorio para la mayoría de los empleados, pero voluntario en algunos países nórdicos. Los buscadores de empleo cuyo derecho a las prestaciones del seguro de desempleo haya expirado, o cuyo historial laboral sea insuficiente para hacerlos elegibles en primer lugar, pueden tener derecho a la asistencia por desempleo. En algunos países, la asistencia por desempleo es la principal prestación por desempleo.",
         "1",
         "743",
         "13",
         "1",
         "la"
        ],
        [
         "24",
         "La Sección 3 investiga estrategias para promover una formación profesional de calidad, incluidos los aprendizajes, mientras que la Sección 4 se centra en el apoyo a los estudiantes en riesgo. Para una descripción más detallada y una evaluación del sistema educativo de Letonia, véase OCDE (2015e). El Ministerio de Educación y Ciencia (MoES) nacional tiene la función de supervisión y, a través del Centro Nacional de Educación subordinado, establece los estándares educativos nacionales y determina los planes de estudio y los procedimientos de examen. Proporciona el marco regulatorio para la provisión de educación vocacional y emplea a los directores de los establecimientos VET.1 También mantiene el registro de estándares ocupacionales y estudia las demandas de habilidades del mercado laboral.",
         "4",
         "800",
         "16",
         "1",
         "de"
        ],
        [
         "25",
         "Las personas con entre siete y nueve años de escolaridad tienen un índice de pobreza similar al promedio. Como era de esperar, el porcentaje de pobres es mayor entre los desempleados que entre los ocupados y los económicamente inactivos. Además, entre los ocupados, la tasa de pobreza es menor para los asalariados que para los trabajadores por cuenta propia, quienes en varios países tienen una tasa de pobreza similar a la de la población económicamente inactiva. Esto plantea la pregunta de si las políticas públicas para el alivio de la pobreza están poniendo suficiente énfasis en el logro de estándares mínimos. Una mirada más amplia a la pobreza, incluidas las deficiencias en esferas como la protección social y los ingresos, explora la relación entre las diferentes dimensiones de la privación. En particular, explora conceptual y empíricamente diferentes dimensiones, umbrales y formas de sumar dimensiones para avanzar hacia la construcción de un índice de pobreza multidimensional relevante y aplicable en toda la región.",
         "1",
         "1033",
         "16",
         "1",
         "de"
        ],
        [
         "26",
         "En algunos países, los alumnos son segregados en diferentes vías a edades tempranas, reflejando la noción de que sólo algunos niños pueden alcanzar niveles de clase mundial. Pero PISA muestra que esa selección está relacionada con grandes disparidades sociales. Por el contrario, en países tan diferentes como Estonia, Canadá, Finlandia y Japón, padres y profesores están comprometidos con la creencia de que todos los alumnos pueden alcanzar altos niveles.",
         "4",
         "457",
         "13",
         "1",
         "de"
        ],
        [
         "27",
         "Es esencial garantizar que el acceso a los servicios de salud no se vuelva menos equitativo como resultado de las intervenciones de GHP. Los nuevos GHPS deben introducirse solo cuando respalden estos objetivos. De esta manera, las intervenciones de GHP pueden responder a las características específicas de los sistemas de salud domésticos y sus respectivas necesidades.",
         "3",
         "370",
         "15",
         "1",
         "de"
        ],
        [
         "28",
         "Se cree que un currículo integrado de este tipo contribuye a una EPI de alta calidad y a un mejor comportamiento social (Tabla 1.2) (Bennett, 2004, Siraj-Blatchford, 2010). Por ejemplo, se considera que Suecia tiene una educación de la primera infancia de alta calidad, en parte porque los contenidos de su currículo conceden el mismo valor al aprendizaje social y cognitivo (Sheridan et al., 2010). ",
         "4",
         "400",
         "17",
         "0",
         "de"
        ],
        [
         "29",
         "En la mayoría de los países, el ingreso familiar también incluye el valor de alquiler imputado de las viviendas ocupadas por sus propietarios. En Chile, la pobreza disminuyó levemente entre 2006 y 2009, y la tasa de indigencia permaneció básicamente sin cambios.3 Las tasas de pobreza e indigencia en El Salvador no cambiaron entre 2004 y 2009. Para Chile, las cifras aquí presentadas difieren por primera vez de las estimaciones oficiales del país (MIDEPLAN.",
         "1",
         "459",
         "13",
         "1",
         "de"
        ],
        [
         "30",
         "Según los directores de escuela que participaron en PISA 2015, el estudiante promedio en los países de la OCDE asiste a una escuela donde el 84 % de los docentes han obtenido la certificación completa, pero esta proporción varía ampliamente, desde el 100 % en Macao (China) hasta alrededor del 10 % en Colombia. Los hallazgos muestran que la proporción de docentes que han sido certificados para enseñar se asocia positivamente con el desempeño de los estudiantes en solo unos pocos países seleccionados, tanto antes como después de tener en cuenta el perfil socioeconómico de los estudiantes y las escuelas (Figura 1.9). Este débil impacto general no es sorprendente, dados los diferentes estándares utilizados en diferentes países para certificar a los docentes y el hecho de que la mayoría de los países tienen un alto porcentaje de docentes certificados.",
         "4",
         "858",
         "14",
         "1",
         "de"
        ],
        [
         "31",
         "La ventaja relativamente pequeña de las mujeres en África en 2010-2015 es principalmente una consecuencia del impacto diferencial de la epidemia de VIH/SIDA en los niveles de mortalidad por sexo, con una prevalencia estimada del VIH mayor entre las mujeres que entre los hombres. En las regiones más desarrolladas, la ventaja femenina es mayor en Europa (7,4 años o 11,3 por ciento) que en América del Norte (4,7 años o 6,1 por ciento) y Oceanía, que incluye Australia y Nueva Zelanda. La tasa de mortalidad infantil, también conocida como \"tasa de mortalidad de menores de cinco años\"1, disminuyó a un ritmo notable de alrededor del 3 por ciento anual entre 1990 y 2015.",
         "3",
         "671",
         "14",
         "1",
         "de"
        ],
        [
         "32",
         "En el MEP se reconoce que la evaluación reformada debe pasar de evaluar el conocimiento de los contenidos a examinar las habilidades de los estudiantes para aplicar y utilizar los conocimientos de forma que demuestren competencias de orden superior. Esto supondrá una mejora significativa con respecto a la evaluación anterior, que sólo captaba una gama limitada de actividades de aprendizaje. Pero la nueva evaluación debe incluir también otras modificaciones.",
         "4",
         "461",
         "15",
         "1",
         "de"
        ],
        [
         "33",
         "Un incidente de gran importancia en la historia de la atención de la salud mental en Japón fue el ataque con cuchillo del entonces embajador de EE. UU. en Japón, Edwin Reischauer, por parte de una persona con esquizofrenia en 1964. Este ataque generó una alarma pública significativa y contribuyó a aumentar el estigma de las enfermedades mentales. , impulsado por una campaña en los medios de comunicación, además de los altos niveles existentes de estigma dirigido hacia los trastornos mentales. Este incidente también contribuyó a la revisión de 1965 de la Ley de Higiene Mental discutida anteriormente. En 1993, la Ley de Salud Mental fue enmendada nuevamente, con un enfoque particular en la atención en la comunidad, incluida la autorización de la construcción de hogares grupales en la comunidad para personas con trastornos mentales (Tatara y Okamoto, 2009). La Ley de Atención de Salud Comunitaria introducida en 1994 y apoyó aún más el establecimiento de un sistema de salud mental basado en la comunidad.",
         "3",
         "1015",
         "15",
         "1",
         "de"
        ],
        [
         "34",
         "El liderazgo en particular, factor clave de la eficacia escolar, no parece figurar con fuerza en los marcos de evaluación. El proyecto \"Estrategias de desarrollo del liderazgo escolar\" de la asociación nacional Smarter Schools, que está llevando a cabo la AITSL, pretende desarrollar un enfoque nacional para mejorar la capacidad de liderazgo escolar. Típicamente, una revisión escolar va seguida de la formulación de recomendaciones de mejora que se supone que la escuela debe aplicar tras la preparación de un plan de mejora. Sin embargo, el Equipo de Revisión se formó la opinión de que el grado de seguimiento por parte de las autoridades de revisión escolar era variable, incluso dentro de una misma jurisdicción educativa, dependiendo de la capacidad de las redes regionales.",
         "4",
         "781",
         "15",
         "1",
         "de"
        ],
        [
         "35",
         "Sin embargo, los resultados empíricos sugieren que se puede obtener un uso de los recursos educativos que aumente la equidad a través de políticas que proporcionen las señales pertinentes a las escuelas y los docentes: por ejemplo, brindar incentivos financieros a los docentes calificados puede resultar una herramienta eficaz para dirigirse a los estudiantes desfavorecidos. o áreas. En tercer lugar, este trabajo llena un vacío en la investigación empírica al proporcionar evidencia entre países (a diferencia de países específicos) sobre la importancia de la política de intervención temprana para atenuar las desigualdades socioeconómicas intergeneracionales en las oportunidades educativas. Sugiere que las políticas de cuidado infantil e intervención temprana podrían ser efectivas para alcanzar este objetivo. Finalmente, el análisis entre países intenta descubrir el papel que juegan las políticas sociales y del mercado laboral para influir en la igualdad de oportunidades educativas, dada la relación positiva entre la desigualdad intergeneracional y transversal (de ingresos).",
         "4",
         "1088",
         "19",
         "1",
         "de"
        ],
        [
         "36",
         "En 2016 se publicó el primer informe del Consejo Asesor para el Desarrollo de Indicadores de Calidad y se estableció un sistema de seguimiento público de los indicadores de calidad. Desde 2002, EHIF ha llevado a cabo cinco auditorías clínicas en colaboración con expertos cada año. Los ejemplos de 2013 sugieren que el 67,5 % de las visitas a especialistas por hipertensión y el 20 % de las visitas a especialistas por diabetes podrían considerarse 'evitables' y manejarse de manera más adecuada en la atención primaria.",
         "3",
         "520",
         "13",
         "1",
         "de"
        ],
        [
         "37",
         "El sistema educativo tiene una serie de características que promueven la equidad, incluida una alta proporción de estudiantes matriculados en educación de la primera infancia, baja repetición de grado y escolarización integral hasta los 16 años. Las tasas de graduación de la secundaria superior son altas, al igual que las tasas de matriculación en educación y formación profesional. (FP), pero el abandono de la FP también es alto. La educación terciaria es accesible para todos, a través de políticas como un plan de subvenciones y préstamos financiado con fondos públicos. En la Encuesta de habilidades de adultos de la OCDE, los adultos en Dinamarca demuestran habilidades de alfabetización por debajo del promedio y habilidades de aritmética por encima del promedio en comparación con el promedio en los países participantes, y los adultos más jóvenes obtienen puntajes alrededor del promedio.",
         "4",
         "899",
         "15",
         "1",
         "de"
        ],
        [
         "38",
         "La mayoría de las personas de 25 a 64 años en Alemania (55 %) han obtenido una cualificación profesional en el nivel secundario superior o postsecundario, la cuarta proporción más grande entre los países con datos disponibles (el promedio de la OCDE es del 33 %). Debido a la alta incidencia de cualificaciones profesionales y al hecho de que un título general (principalmente Abitur) se dedica a la educación superior y no a la entrada directa en el mercado laboral, solo el 3 % de los adultos obtienen una cualificación general de secundaria superior o postsecundaria como grado más alto, una de las proporciones más bajas entre los países de la OCDE (el promedio de la OCDE es del 12 %) (Tabla Al. Entre 2005 y 2012, las tasas de desempleo se redujeron en 7 puntos porcentuales entre los adultos sin educación secundaria superior (del 20,1 % al 12,8 %) , en 6 puntos porcentuales entre los que tienen educación secundaria superior o postsecundaria no terciaria (del 11,0 % al 5,3 %) y en 3 puntos porcentuales entre los que tienen un título terciario (del 5,6 % al 2,4 %).",
         "4",
         "1075",
         "15",
         "1",
         "de"
        ],
        [
         "39",
         "Una excelente atención médica será fundamental para lograrlo. Hasta ahora, la atención médica japonesa ha tenido un buen desempeño: la esperanza de vida es larga, 83,2 años en comparación con un promedio de la OCDE de 80,2 años, mientras que el gasto en salud es de USD 3 649 PPA per cápita por año, ligeramente superior a USD 3 484 en promedio. . Una característica llamativa del sistema de salud japonés es su apertura y flexibilidad.",
         "3",
         "436",
         "14",
         "1",
         "de"
        ],
        [
         "40",
         "Para consolidar aún más el marco de evaluación y evaluación, hay espacio para incorporar enfoques de evaluación y evaluación con objetivos educativos más amplios, continuar construyendo sobre el profesionalismo docente y construir redes y capacidad para una evaluación y evaluación efectivas y con visión de futuro, en particular en las áreas de la evaluación de los alumnos en el aula, la evaluación de los docentes y la autoevaluación de la escuela. Después de esta descripción general, los capítulos siguientes (3-6) analizarán los problemas relacionados con cada componente individual con mayor profundidad. El término \"evaluación\" se utiliza para referirse a los juicios sobre el desempeño individual de los estudiantes y el logro de las metas de aprendizaje.",
         "4",
         "764",
         "15",
         "1",
         "de"
        ],
        [
         "41",
         "Este capítulo comienza con una descripción general de las reformas de Tailandia relacionadas con el uso de las TIC en la educación, y luego proporciona un análisis de los problemas de política relacionados con esta área, presentando recomendaciones para mejorar para apoyar el uso de las TIC para mejorar la calidad y la equidad de la educación. sistema educativo en su conjunto. El objetivo de estas estrategias ha sido utilizar las TIC para crear una \"Tailandia inteligente\": una sociedad que sea \"inteligente y alfabetizada en información\", donde el conocimiento beneficie a los ciudadanos y a la \"sociedad en su conjunto\" (Ministerio de TIC, 2009a). La educación ha sido un pilar clave en estos esfuerzos.",
         "4",
         "709",
         "15",
         "1",
         "de"
        ],
        [
         "42",
         "Primero, el programa de Fortalecimiento de la Gestión Escolar, que invertirá MEX 41 millones en 595 escuelas, busca apoyar a los líderes escolares en la gestión de los recursos escolares (Gobiemo de Morelos, 2016a). Con una ambición similar, el programa Escuelas de Calidad (Programa Escuelas de Cualidad) tiene como objetivo fortalecer la autonomía de las instituciones de educación básica en la gestión de los recursos, al tiempo que apoya a cada escuela y su Consejo Técnico Escolar en la adopción de mejores prácticas que pueden ayudarlos a cumplir con la planificación. , evaluación y asignación de responsabilidades presupuestarias de manera efectiva. A través de una inversión de MEX 26.57 millones en 2015-16, un total de 475 escuelas se benefician del programa que, en comparación con el año anterior, representa una expansión a 55 escuelas nuevas (Gobiemo de Morelos, 2016a). Otro componente del programa Escuelas de Calidad implica la evaluación de los maestros en la instrucción de sus salones de clase y de los directores en su capacidad para liderar, así como actividades para aumentar la participación de los padres en el aprendizaje de sus hijos. Es probable que los costos de instrucción de los niños desfavorecidos sean más altos que los de los más acomodados y Morelos está tomando medidas positivas para paliar esas necesidades.",
         "4",
         "1348",
         "17",
         "1",
         "de"
        ],
        [
         "43",
         "Actualmente existen en el país más de 4.500 centros de tratamiento y rehabilitación privados y alrededor de 600 públicos. Según las estadísticas oficiales, en 2014 había un total de 65.216 personas registradas como consumidores de drogas en Kazajstán, Kirguistán, Tayikistán y Uzbekistán, frente a un total de 73.345 personas en 2013. Número de drogodependientes registrados oficialmente en Kazajstán en 2014 se situó en 34.221 personas, lo que representa una disminución significativa en comparación con las 40.224 personas en 2013. En Kirguistán, 9.024 personas se registraron oficialmente como drogodependientes en 2014, lo que representa un 8,8% menos que en 2013.",
         "3",
         "668",
         "17",
         "1",
         "en"
        ],
        [
         "44",
         "La información contenida en este documento se relaciona con el área bajo el control efectivo del Gobierno de la República de Chipre. Andrade y O.F.A. Bueno (2008), \"Contribución de la Educación, la Ocupación y las Actividades de Estimulación Cognitiva a la Formación de la Reserva Cognitiva\", Dementia and Neuropsychologia, Vo\\. 2, No. Working Paper ROA-RM-2010/1, Centro de Investigación para la Educación y el Mercado Laboral (ROA), Maastricht.",
         "4",
         "446",
         "17",
         "1",
         "de"
        ],
        [
         "45",
         "El personal docente de Lituania, aunque tiene una formación de grado, muestra habilidades numéricas más bajas que las de otros graduados de educación terciaria y más bajas que el nivel promedio de los docentes en los países miembros de la OCDE que participan en la Encuesta de Habilidades de Adultos (Figura 3.5). Los puntajes competitivos utilizados en las admisiones a la educación superior, que se basan en los puntajes de los exámenes matura, muestran que el puntaje mínimo requerido para ingresar a los programas de formación docente es consistentemente mucho más bajo que el requerido para el campo más popular y selectivo, la medicina (Tabla 3.6). El principal proveedor de programas de formación de docentes, la universidad pedagógica del país, ha recibido una aprobación institucional limitada del organismo de garantía de la calidad de la educación superior del país, y hay debates en curso sobre la forma en que los programas y las instituciones pueden desempeñar mejor sus funciones iniciales. formación docente.",
         "4",
         "1024",
         "16",
         "1",
         "de"
        ],
        [
         "46",
         "La innovación que aproveche estas nuevas oportunidades se beneficiará del intercambio de conocimientos y prácticas sobre cómo implementar reformas con éxito. Esta investigación enfatiza particularmente la necesidad de utilizar diversas estrategias para enseñar y aprender en diferentes circunstancias. Esto significa que incluso si este informe se centra en los REA, es decir, en los recursos educativos y, en particular, en los medios educativos, intentará mantener el foco en la interacción de los procesos y la infraestructura organizativos, los medios para utilizar las redes y la colaboración, y los conocimientos (dados y perdidos). ) de la investigación.",
         "4",
         "661",
         "15",
         "1",
         "y"
        ],
        [
         "47",
         "El fortalecimiento de la atención primaria pública y comunitaria también daría como resultado menos autorreferencias a los departamentos de emergencia de los hospitales por dolencias y afecciones menores en las que los costos del tratamiento son mucho más altos. Finalmente, un mejor manejo de las condiciones crónicas en los entornos de atención primaria contribuiría a prevenir el deterioro y la necesidad de atención hospitalaria. Por ejemplo, los médicos de cabecera y los médicos de familia privados vinculados al sistema myHealth ahora pueden hacer derivaciones para servicios que antes solo podían solicitar los especialistas del hospital. Además, la gama de servicios prestados en la atención primaria se ha ampliado para incluir, por ejemplo, clínicas de gestión de enfermedades crónicas y clínicas de estilo de vida saludable.",
         "3",
         "836",
         "16",
         "1",
         "de"
        ],
        [
         "48",
         "Las microrregiones en Hungría son subregiones estadísticas. Hay 149 microrregiones en total y Budapest no está incluida en el sistema. La atención diurna comprende los servicios de atención de la salud que se brindan a los pacientes que ingresan formalmente en hospitales, establecimientos ambulatorios o centros autónomos, pero con la intención de dar de alta al paciente el mismo día.",
         "3",
         "386",
         "16",
         "1",
         "en"
        ],
        [
         "49",
         "El piloto tuvo tanto éxito que ahora estamos construyendo una plataforma digital permanente para él. Lo mismo ocurre en todos los países: los países con mejor desempeño en PISA, como Japón, Singapur y Corea del Sur en Asia, Estonia y Finlandia en Europa, y Canadá en América del Norte, también obtuvieron los primeros lugares en la evaluación PISA de resolución colaborativa de problemas. Por ejemplo, a los estudiantes japoneses les fue muy bien en esas materias, pero les fue aún mejor en la resolución colaborativa de problemas.",
         "4",
         "531",
         "12",
         "1",
         "en"
        ]
       ],
       "shape": {
        "columns": 6,
        "rows": 2424
       }
      },
      "text/html": [
       "<div>\n",
       "<style scoped>\n",
       "    .dataframe tbody tr th:only-of-type {\n",
       "        vertical-align: middle;\n",
       "    }\n",
       "\n",
       "    .dataframe tbody tr th {\n",
       "        vertical-align: top;\n",
       "    }\n",
       "\n",
       "    .dataframe thead th {\n",
       "        text-align: right;\n",
       "    }\n",
       "</style>\n",
       "<table border=\"1\" class=\"dataframe\">\n",
       "  <thead>\n",
       "    <tr style=\"text-align: right;\">\n",
       "      <th></th>\n",
       "      <th>textos</th>\n",
       "      <th>labels</th>\n",
       "      <th>Count</th>\n",
       "      <th>Max</th>\n",
       "      <th>Min</th>\n",
       "      <th>Moda</th>\n",
       "    </tr>\n",
       "  </thead>\n",
       "  <tbody>\n",
       "    <tr>\n",
       "      <th>0</th>\n",
       "      <td>\"Aprendizaje\" y \"educación\" se consideran sinó...</td>\n",
       "      <td>4</td>\n",
       "      <td>352</td>\n",
       "      <td>14</td>\n",
       "      <td>1</td>\n",
       "      <td>de</td>\n",
       "    </tr>\n",
       "    <tr>\n",
       "      <th>1</th>\n",
       "      <td>Para los niños más pequeños (bebés y niños peq...</td>\n",
       "      <td>4</td>\n",
       "      <td>516</td>\n",
       "      <td>16</td>\n",
       "      <td>1</td>\n",
       "      <td>y</td>\n",
       "    </tr>\n",
       "    <tr>\n",
       "      <th>2</th>\n",
       "      <td>Además, la formación de especialistas en medic...</td>\n",
       "      <td>3</td>\n",
       "      <td>659</td>\n",
       "      <td>15</td>\n",
       "      <td>1</td>\n",
       "      <td>de</td>\n",
       "    </tr>\n",
       "    <tr>\n",
       "      <th>3</th>\n",
       "      <td>En los países de la OCDE se tiende a pasar de ...</td>\n",
       "      <td>4</td>\n",
       "      <td>693</td>\n",
       "      <td>18</td>\n",
       "      <td>1</td>\n",
       "      <td>de</td>\n",
       "    </tr>\n",
       "    <tr>\n",
       "      <th>4</th>\n",
       "      <td>Este grupo se centró en las personas que padec...</td>\n",
       "      <td>3</td>\n",
       "      <td>608</td>\n",
       "      <td>14</td>\n",
       "      <td>0</td>\n",
       "      <td>de</td>\n",
       "    </tr>\n",
       "    <tr>\n",
       "      <th>...</th>\n",
       "      <td>...</td>\n",
       "      <td>...</td>\n",
       "      <td>...</td>\n",
       "      <td>...</td>\n",
       "      <td>...</td>\n",
       "      <td>...</td>\n",
       "    </tr>\n",
       "    <tr>\n",
       "      <th>2419</th>\n",
       "      <td>La tutoría de carrera está diseñada para apoya...</td>\n",
       "      <td>4</td>\n",
       "      <td>741</td>\n",
       "      <td>16</td>\n",
       "      <td>1</td>\n",
       "      <td>de</td>\n",
       "    </tr>\n",
       "    <tr>\n",
       "      <th>2420</th>\n",
       "      <td>Fuente: Ministerio de Educación. Las Tasas Int...</td>\n",
       "      <td>4</td>\n",
       "      <td>541</td>\n",
       "      <td>15</td>\n",
       "      <td>1</td>\n",
       "      <td>de</td>\n",
       "    </tr>\n",
       "    <tr>\n",
       "      <th>2421</th>\n",
       "      <td>Y desde 2010, el PNUD ha sido pionero en la pu...</td>\n",
       "      <td>1</td>\n",
       "      <td>352</td>\n",
       "      <td>12</td>\n",
       "      <td>1</td>\n",
       "      <td>el</td>\n",
       "    </tr>\n",
       "    <tr>\n",
       "      <th>2422</th>\n",
       "      <td>Sin embargo, estas fallas del mercado implican...</td>\n",
       "      <td>3</td>\n",
       "      <td>754</td>\n",
       "      <td>15</td>\n",
       "      <td>1</td>\n",
       "      <td>el</td>\n",
       "    </tr>\n",
       "    <tr>\n",
       "      <th>2423</th>\n",
       "      <td>Aunque existen programas para convertirse espe...</td>\n",
       "      <td>4</td>\n",
       "      <td>593</td>\n",
       "      <td>25</td>\n",
       "      <td>1</td>\n",
       "      <td>de</td>\n",
       "    </tr>\n",
       "  </tbody>\n",
       "</table>\n",
       "<p>2424 rows × 6 columns</p>\n",
       "</div>"
      ],
      "text/plain": [
       "                                                 textos  labels  Count  Max  \\\n",
       "0     \"Aprendizaje\" y \"educación\" se consideran sinó...       4    352   14   \n",
       "1     Para los niños más pequeños (bebés y niños peq...       4    516   16   \n",
       "2     Además, la formación de especialistas en medic...       3    659   15   \n",
       "3     En los países de la OCDE se tiende a pasar de ...       4    693   18   \n",
       "4     Este grupo se centró en las personas que padec...       3    608   14   \n",
       "...                                                 ...     ...    ...  ...   \n",
       "2419  La tutoría de carrera está diseñada para apoya...       4    741   16   \n",
       "2420  Fuente: Ministerio de Educación. Las Tasas Int...       4    541   15   \n",
       "2421  Y desde 2010, el PNUD ha sido pionero en la pu...       1    352   12   \n",
       "2422  Sin embargo, estas fallas del mercado implican...       3    754   15   \n",
       "2423  Aunque existen programas para convertirse espe...       4    593   25   \n",
       "\n",
       "      Min Moda  \n",
       "0       1   de  \n",
       "1       1    y  \n",
       "2       1   de  \n",
       "3       1   de  \n",
       "4       0   de  \n",
       "...   ...  ...  \n",
       "2419    1   de  \n",
       "2420    1   de  \n",
       "2421    1   el  \n",
       "2422    1   el  \n",
       "2423    1   de  \n",
       "\n",
       "[2424 rows x 6 columns]"
      ]
     },
     "execution_count": 164,
     "metadata": {},
     "output_type": "execute_result"
    }
   ],
   "source": [
    "texts"
   ]
  },
  {
   "cell_type": "markdown",
   "id": "ae33f5ff",
   "metadata": {},
   "source": [
    "### Distribucion de la variable labels"
   ]
  },
  {
   "cell_type": "code",
   "execution_count": 165,
   "id": "58ce2cb2",
   "metadata": {},
   "outputs": [
    {
     "data": {
      "image/png": "[encoded data removed]",
      "text/plain": [
       "<Figure size 640x480 with 1 Axes>"
      ]
     },
     "metadata": {},
     "output_type": "display_data"
    }
   ],
   "source": [
    "sns.countplot(x=\"labels\", data=df_textC)\n",
    "plt.title(\"Distribución de la variable target (1/3/4) \")\n",
    "plt.show()"
   ]
  },
  {
   "cell_type": "markdown",
   "id": "6df89a00",
   "metadata": {},
   "source": [
    "Como podemos ver hay una diferencia notable del label 1 (\"Fin de la pobreza\") con respecto a las demas . Modelaremos asi para pobrar como se comporta el modelo."
   ]
  },
  {
   "cell_type": "markdown",
   "id": "7faf45f8",
   "metadata": {},
   "source": [
    "### 3. Preparación de datos"
   ]
  },
  {
   "cell_type": "markdown",
   "id": "45d65c43",
   "metadata": {},
   "source": [
    "### 3.1 Limpieza de datos"
   ]
  },
  {
   "cell_type": "code",
   "execution_count": 166,
   "id": "ae3d2a92",
   "metadata": {},
   "outputs": [],
   "source": [
    "\"\"\"Remove non-ASCII characters from list of tokenized words\"\"\"\n",
    "def remove_non_ascii(words):\n",
    "    new_words = []\n",
    "    for word in words:\n",
    "        if word is not None:\n",
    "          new_word = unicodedata.normalize('NFKD', word).encode('ascii', 'ignore').decode('utf-8', 'ignore')\n",
    "          new_words.append(new_word)\n",
    "    return new_words\n",
    "\n",
    "\"\"\"Convert all characters to lowercase from list of tokenized words \"\"\"\n",
    "def to_lowercase(words):\n",
    "    return [ word.lower() for word in words]\n",
    "\n",
    "\"\"\"Remove punctuation from list of tokenized words\"\"\"\n",
    "def remove_punctuation(words):\n",
    "    new_words = []\n",
    "    for word in words:\n",
    "        if word is not None:\n",
    "            new_word = re.sub(r'[^\\w\\s]', '', word)\n",
    "            if new_word != '':\n",
    "                new_words.append(new_word)\n",
    "    return new_words\n",
    "\n",
    "\"\"\"Remove stop words from list of tokenized words\"\"\"\n",
    "def remove_stopwords(words):\n",
    "    stop_words = set(stopwords.words(\"spanish\"))\n",
    "    return [w for w in words if w.lower() not in stop_words]\n",
    "  \n",
    "\"\"\"Make all transformations to text\"\"\"\n",
    "def preprocessing(words):\n",
    "    words = to_lowercase(words)\n",
    "    words = remove_punctuation(words)\n",
    "    words = remove_non_ascii(words)\n",
    "    words = remove_stopwords(words)\n",
    "    return words\n",
    "\n",
    "\n",
    "\n",
    "\n"
   ]
  },
  {
   "cell_type": "markdown",
   "id": "d451f513",
   "metadata": {},
   "source": [
    "### 3.2 Tokenizacion\n",
    "Obtenemos todas las palabras separadas para usarlo en el analisis"
   ]
  },
  {
   "cell_type": "code",
   "execution_count": 167,
   "id": "da18aa79",
   "metadata": {},
   "outputs": [
    {
     "data": {
      "application/vnd.microsoft.datawrangler.viewer.v0+json": {
       "columns": [
        {
         "name": "index",
         "rawType": "int64",
         "type": "integer"
        },
        {
         "name": "textos",
         "rawType": "object",
         "type": "string"
        },
        {
         "name": "labels",
         "rawType": "int64",
         "type": "integer"
        },
        {
         "name": "palabras",
         "rawType": "object",
         "type": "unknown"
        }
       ],
       "ref": "5ad3e44f-d27d-4e43-bc4e-2220b8f3978d",
       "rows": [
        [
         "0",
         "\"Aprendizaje\" y \"educación\" se consideran sinónimos de escolarización formal. Las organizaciones auxiliares, como las editoriales de educación, las juntas examinadoras y las organizaciones de formación de docentes, se consideran extensiones de los acuerdos establecidos por los gobiernos. Este marco de comprensión se ha vuelto cada vez más inadecuado.",
         "4",
         "['``', 'Aprendizaje', \"''\", 'y', '``', 'educación', \"''\", 'se', 'consideran', 'sinónimos', 'de', 'escolarización', 'formal', '.', 'Las', 'organizaciones', 'auxiliares', ',', 'como', 'las', 'editoriales', 'de', 'educación', ',', 'las', 'juntas', 'examinadoras', 'y', 'las', 'organizaciones', 'de', 'formación', 'de', 'docentes', ',', 'se', 'consideran', 'extensiones', 'de', 'los', 'acuerdos', 'establecidos', 'por', 'los', 'gobiernos', '.', 'Este', 'marco', 'de', 'comprensión', 'se', 'ha', 'vuelto', 'cada', 'vez', 'más', 'inadecuado', '.']"
        ],
        [
         "1",
         "Para los niños más pequeños (bebés y niños pequeños), la capacitación especializada y práctica parece estar más fuertemente asociada con la calidad pedagógica y los resultados cognitivos y sociales. Los educadores de la primera infancia se encuentran con entornos sociales cada vez más complejos y se encuentran con una multiplicidad de antecedentes y experiencias familiares. Estos factores crean imperativos para adoptar nuevas pedagogías y prácticas organizacionales para acomodar este pluralismo (Elliott, 2006).",
         "4",
         "['Para', 'los', 'niños', 'más', 'pequeños', '(', 'bebés', 'y', 'niños', 'pequeños', ')', ',', 'la', 'capacitación', 'especializada', 'y', 'práctica', 'parece', 'estar', 'más', 'fuertemente', 'asociada', 'con', 'la', 'calidad', 'pedagógica', 'y', 'los', 'resultados', 'cognitivos', 'y', 'sociales', '.', 'Los', 'educadores', 'de', 'la', 'primera', 'infancia', 'se', 'encuentran', 'con', 'entornos', 'sociales', 'cada', 'vez', 'más', 'complejos', 'y', 'se', 'encuentran', 'con', 'una', 'multiplicidad', 'de', 'antecedentes', 'y', 'experiencias', 'familiares', '.', 'Estos', 'factores', 'crean', 'imperativos', 'para', 'adoptar', 'nuevas', 'pedagogías', 'y', 'prácticas', 'organizacionales', 'para', 'acomodar', 'este', 'pluralismo', '(', 'Elliott', ',', '2006', ')', '.']"
        ],
        [
         "2",
         "Además, la formación de especialistas en medicina general también incluye tareas que requieren un conocimiento más profundo de problemas comunes de salud pública, incluida la salud mental (Cuestionario de salud mental de la OCDE, 2013). Dado que no hay control en la atención primaria para limitar el acceso a los servicios de salud (mental) especializados, muchos pacientes que necesitan tratamiento (para trastornos mentales graves en particular) pueden buscar atención de nivel especializado directamente. Los servicios de especialistas en psiquiatría se brindan principalmente en las salas ambulatorias de psiquiatría ubicadas en los hospitales generales.",
         "3",
         "['Además', ',', 'la', 'formación', 'de', 'especialistas', 'en', 'medicina', 'general', 'también', 'incluye', 'tareas', 'que', 'requieren', 'un', 'conocimiento', 'más', 'profundo', 'de', 'problemas', 'comunes', 'de', 'salud', 'pública', ',', 'incluida', 'la', 'salud', 'mental', '(', 'Cuestionario', 'de', 'salud', 'mental', 'de', 'la', 'OCDE', ',', '2013', ')', '.', 'Dado', 'que', 'no', 'hay', 'control', 'en', 'la', 'atención', 'primaria', 'para', 'limitar', 'el', 'acceso', 'a', 'los', 'servicios', 'de', 'salud', '(', 'mental', ')', 'especializados', ',', 'muchos', 'pacientes', 'que', 'necesitan', 'tratamiento', '(', 'para', 'trastornos', 'mentales', 'graves', 'en', 'particular', ')', 'pueden', 'buscar', 'atención', 'de', 'nivel', 'especializado', 'directamente', '.', 'Los', 'servicios', 'de', 'especialistas', 'en', 'psiquiatría', 'se', 'brindan', 'principalmente', 'en', 'las', 'salas', 'ambulatorias', 'de', 'psiquiatría', 'ubicadas', 'en', 'los', 'hospitales', 'generales', '.']"
        ],
        [
         "3",
         "En los países de la OCDE se tiende a pasar de los cursos obligatorios a los optativos, abiertos a estudiantes de distintas facultades y escuelas. Este planteamiento facilita la formación de equipos de estudiantes con distintas formaciones e intereses. El trabajo en equipos interdisciplinares permite a los individuos concentrarse en lo que mejor saben y les gusta y, al mismo tiempo, familiarizarse con nuevos conocimientos que pueden asociarse a una nueva forma de resolver un problema o crear un nuevo producto o servicio. No está claro hasta qué punto estos cursos utilizan métodos pedagógicos creativos y se adaptan a las necesidades de los estudiantes de grado, postgrado y licenciatura.",
         "4",
         "['En', 'los', 'países', 'de', 'la', 'OCDE', 'se', 'tiende', 'a', 'pasar', 'de', 'los', 'cursos', 'obligatorios', 'a', 'los', 'optativos', ',', 'abiertos', 'a', 'estudiantes', 'de', 'distintas', 'facultades', 'y', 'escuelas', '.', 'Este', 'planteamiento', 'facilita', 'la', 'formación', 'de', 'equipos', 'de', 'estudiantes', 'con', 'distintas', 'formaciones', 'e', 'intereses', '.', 'El', 'trabajo', 'en', 'equipos', 'interdisciplinares', 'permite', 'a', 'los', 'individuos', 'concentrarse', 'en', 'lo', 'que', 'mejor', 'saben', 'y', 'les', 'gusta', 'y', ',', 'al', 'mismo', 'tiempo', ',', 'familiarizarse', 'con', 'nuevos', 'conocimientos', 'que', 'pueden', 'asociarse', 'a', 'una', 'nueva', 'forma', 'de', 'resolver', 'un', 'problema', 'o', 'crear', 'un', 'nuevo', 'producto', 'o', 'servicio', '.', 'No', 'está', 'claro', 'hasta', 'qué', 'punto', 'estos', 'cursos', 'utilizan', 'métodos', 'pedagógicos', 'creativos', 'y', 'se', 'adaptan', 'a', 'las', 'necesidades', 'de', 'los', 'estudiantes', 'de', 'grado', ',', 'postgrado', 'y', 'licenciatura', '.']"
        ],
        [
         "4",
         "Este grupo se centró en las personas que padecen trastornos mentales con comorbilidad de abuso de sustancias (mientras que la demencia, la discapacidad intelectual y el abuso de sustancias por sà solos quedaron excluidos del ámbito de análisis). Con 90 millones de euros de financiación, la comisión dispuso de tres años para \"iniciar y apoyar el desarrollo de proyectos a todos los niveles (tratamiento médico, mejora de los servicios, proyectos de vivienda, mejoras legislativas y organizativas) y proponer las medidas necesarias para elevar de forma permanente el nivel de los servicios de salud mental\". ",
         "3",
         "['Este', 'grupo', 'se', 'centró', 'en', 'las', 'personas', 'que', 'padecen', 'trastornos', 'mentales', 'con', 'comorbilidad', 'de', 'abuso', 'de', 'sustancias', '(', 'mientras', 'que', 'la', 'demencia', ',', 'la', 'discapacidad', 'intelectual', 'y', 'el', 'abuso', 'de', 'sustancias', 'por', 'sà', 'solos', 'quedaron', 'excluidos', 'del', 'ámbito', 'de', 'análisis', ')', '.', 'Con', '90', 'millones', 'de', 'euros', 'de', 'financiación', ',', 'la', 'comisión', 'dispuso', 'de', 'tres', 'años', 'para', '``', 'iniciar', 'y', 'apoyar', 'el', 'desarrollo', 'de', 'proyectos', 'a', 'todos', 'los', 'niveles', '(', 'tratamiento', 'médico', ',', 'mejora', 'de', 'los', 'servicios', ',', 'proyectos', 'de', 'vivienda', ',', 'mejoras', 'legislativas', 'y', 'organizativas', ')', 'y', 'proponer', 'las', 'medidas', 'necesarias', 'para', 'elevar', 'de', 'forma', 'permanente', 'el', 'nivel', 'de', 'los', 'servicios', 'de', 'salud', 'mental', \"''\", '.']"
        ]
       ],
       "shape": {
        "columns": 3,
        "rows": 5
       }
      },
      "text/html": [
       "<div>\n",
       "<style scoped>\n",
       "    .dataframe tbody tr th:only-of-type {\n",
       "        vertical-align: middle;\n",
       "    }\n",
       "\n",
       "    .dataframe tbody tr th {\n",
       "        vertical-align: top;\n",
       "    }\n",
       "\n",
       "    .dataframe thead th {\n",
       "        text-align: right;\n",
       "    }\n",
       "</style>\n",
       "<table border=\"1\" class=\"dataframe\">\n",
       "  <thead>\n",
       "    <tr style=\"text-align: right;\">\n",
       "      <th></th>\n",
       "      <th>textos</th>\n",
       "      <th>labels</th>\n",
       "      <th>palabras</th>\n",
       "    </tr>\n",
       "  </thead>\n",
       "  <tbody>\n",
       "    <tr>\n",
       "      <th>0</th>\n",
       "      <td>\"Aprendizaje\" y \"educación\" se consideran sinó...</td>\n",
       "      <td>4</td>\n",
       "      <td>[``, Aprendizaje, '', y, ``, educación, '', se...</td>\n",
       "    </tr>\n",
       "    <tr>\n",
       "      <th>1</th>\n",
       "      <td>Para los niños más pequeños (bebés y niños peq...</td>\n",
       "      <td>4</td>\n",
       "      <td>[Para, los, niños, más, pequeños, (, bebés, y,...</td>\n",
       "    </tr>\n",
       "    <tr>\n",
       "      <th>2</th>\n",
       "      <td>Además, la formación de especialistas en medic...</td>\n",
       "      <td>3</td>\n",
       "      <td>[Además, ,, la, formación, de, especialistas, ...</td>\n",
       "    </tr>\n",
       "    <tr>\n",
       "      <th>3</th>\n",
       "      <td>En los países de la OCDE se tiende a pasar de ...</td>\n",
       "      <td>4</td>\n",
       "      <td>[En, los, países, de, la, OCDE, se, tiende, a,...</td>\n",
       "    </tr>\n",
       "    <tr>\n",
       "      <th>4</th>\n",
       "      <td>Este grupo se centró en las personas que padec...</td>\n",
       "      <td>3</td>\n",
       "      <td>[Este, grupo, se, centró, en, las, personas, q...</td>\n",
       "    </tr>\n",
       "  </tbody>\n",
       "</table>\n",
       "</div>"
      ],
      "text/plain": [
       "                                              textos  labels  \\\n",
       "0  \"Aprendizaje\" y \"educación\" se consideran sinó...       4   \n",
       "1  Para los niños más pequeños (bebés y niños peq...       4   \n",
       "2  Además, la formación de especialistas en medic...       3   \n",
       "3  En los países de la OCDE se tiende a pasar de ...       4   \n",
       "4  Este grupo se centró en las personas que padec...       3   \n",
       "\n",
       "                                            palabras  \n",
       "0  [``, Aprendizaje, '', y, ``, educación, '', se...  \n",
       "1  [Para, los, niños, más, pequeños, (, bebés, y,...  \n",
       "2  [Además, ,, la, formación, de, especialistas, ...  \n",
       "3  [En, los, países, de, la, OCDE, se, tiende, a,...  \n",
       "4  [Este, grupo, se, centró, en, las, personas, q...  "
      ]
     },
     "execution_count": 167,
     "metadata": {},
     "output_type": "execute_result"
    }
   ],
   "source": [
    "df_textC['palabras'] = df_textC['textos'].apply(word_tokenize)\n",
    "\n",
    "df_textC.head()\n"
   ]
  },
  {
   "cell_type": "markdown",
   "id": "f397b4d7",
   "metadata": {},
   "source": [
    "Le aplicamos el procesamiento para quitar puntuaciones , stopwords y pasar todas las palabras a minuscula."
   ]
  },
  {
   "cell_type": "code",
   "execution_count": 168,
   "id": "7d402129",
   "metadata": {},
   "outputs": [
    {
     "data": {
      "application/vnd.microsoft.datawrangler.viewer.v0+json": {
       "columns": [
        {
         "name": "index",
         "rawType": "int64",
         "type": "integer"
        },
        {
         "name": "textos",
         "rawType": "object",
         "type": "string"
        },
        {
         "name": "labels",
         "rawType": "int64",
         "type": "integer"
        },
        {
         "name": "palabras",
         "rawType": "object",
         "type": "unknown"
        },
        {
         "name": "palabrasProces",
         "rawType": "object",
         "type": "unknown"
        }
       ],
       "ref": "cfb410cb-feea-4464-ad8f-3be066bc7a98",
       "rows": [
        [
         "0",
         "\"Aprendizaje\" y \"educación\" se consideran sinónimos de escolarización formal. Las organizaciones auxiliares, como las editoriales de educación, las juntas examinadoras y las organizaciones de formación de docentes, se consideran extensiones de los acuerdos establecidos por los gobiernos. Este marco de comprensión se ha vuelto cada vez más inadecuado.",
         "4",
         "['``', 'Aprendizaje', \"''\", 'y', '``', 'educación', \"''\", 'se', 'consideran', 'sinónimos', 'de', 'escolarización', 'formal', '.', 'Las', 'organizaciones', 'auxiliares', ',', 'como', 'las', 'editoriales', 'de', 'educación', ',', 'las', 'juntas', 'examinadoras', 'y', 'las', 'organizaciones', 'de', 'formación', 'de', 'docentes', ',', 'se', 'consideran', 'extensiones', 'de', 'los', 'acuerdos', 'establecidos', 'por', 'los', 'gobiernos', '.', 'Este', 'marco', 'de', 'comprensión', 'se', 'ha', 'vuelto', 'cada', 'vez', 'más', 'inadecuado', '.']",
         "['aprendizaje', 'educacion', 'consideran', 'sinonimos', 'escolarizacion', 'formal', 'organizaciones', 'auxiliares', 'editoriales', 'educacion', 'juntas', 'examinadoras', 'organizaciones', 'formacion', 'docentes', 'consideran', 'extensiones', 'acuerdos', 'establecidos', 'gobiernos', 'marco', 'comprension', 'vuelto', 'cada', 'vez', 'mas', 'inadecuado']"
        ],
        [
         "1",
         "Para los niños más pequeños (bebés y niños pequeños), la capacitación especializada y práctica parece estar más fuertemente asociada con la calidad pedagógica y los resultados cognitivos y sociales. Los educadores de la primera infancia se encuentran con entornos sociales cada vez más complejos y se encuentran con una multiplicidad de antecedentes y experiencias familiares. Estos factores crean imperativos para adoptar nuevas pedagogías y prácticas organizacionales para acomodar este pluralismo (Elliott, 2006).",
         "4",
         "['Para', 'los', 'niños', 'más', 'pequeños', '(', 'bebés', 'y', 'niños', 'pequeños', ')', ',', 'la', 'capacitación', 'especializada', 'y', 'práctica', 'parece', 'estar', 'más', 'fuertemente', 'asociada', 'con', 'la', 'calidad', 'pedagógica', 'y', 'los', 'resultados', 'cognitivos', 'y', 'sociales', '.', 'Los', 'educadores', 'de', 'la', 'primera', 'infancia', 'se', 'encuentran', 'con', 'entornos', 'sociales', 'cada', 'vez', 'más', 'complejos', 'y', 'se', 'encuentran', 'con', 'una', 'multiplicidad', 'de', 'antecedentes', 'y', 'experiencias', 'familiares', '.', 'Estos', 'factores', 'crean', 'imperativos', 'para', 'adoptar', 'nuevas', 'pedagogías', 'y', 'prácticas', 'organizacionales', 'para', 'acomodar', 'este', 'pluralismo', '(', 'Elliott', ',', '2006', ')', '.']",
         "['ninos', 'mas', 'pequenos', 'bebes', 'ninos', 'pequenos', 'capacitacion', 'especializada', 'practica', 'parece', 'mas', 'fuertemente', 'asociada', 'calidad', 'pedagogica', 'resultados', 'cognitivos', 'sociales', 'educadores', 'primera', 'infancia', 'encuentran', 'entornos', 'sociales', 'cada', 'vez', 'mas', 'complejos', 'encuentran', 'multiplicidad', 'antecedentes', 'experiencias', 'familiares', 'factores', 'crean', 'imperativos', 'adoptar', 'nuevas', 'pedagogias', 'practicas', 'organizacionales', 'acomodar', 'pluralismo', 'elliott', '2006']"
        ],
        [
         "2",
         "Además, la formación de especialistas en medicina general también incluye tareas que requieren un conocimiento más profundo de problemas comunes de salud pública, incluida la salud mental (Cuestionario de salud mental de la OCDE, 2013). Dado que no hay control en la atención primaria para limitar el acceso a los servicios de salud (mental) especializados, muchos pacientes que necesitan tratamiento (para trastornos mentales graves en particular) pueden buscar atención de nivel especializado directamente. Los servicios de especialistas en psiquiatría se brindan principalmente en las salas ambulatorias de psiquiatría ubicadas en los hospitales generales.",
         "3",
         "['Además', ',', 'la', 'formación', 'de', 'especialistas', 'en', 'medicina', 'general', 'también', 'incluye', 'tareas', 'que', 'requieren', 'un', 'conocimiento', 'más', 'profundo', 'de', 'problemas', 'comunes', 'de', 'salud', 'pública', ',', 'incluida', 'la', 'salud', 'mental', '(', 'Cuestionario', 'de', 'salud', 'mental', 'de', 'la', 'OCDE', ',', '2013', ')', '.', 'Dado', 'que', 'no', 'hay', 'control', 'en', 'la', 'atención', 'primaria', 'para', 'limitar', 'el', 'acceso', 'a', 'los', 'servicios', 'de', 'salud', '(', 'mental', ')', 'especializados', ',', 'muchos', 'pacientes', 'que', 'necesitan', 'tratamiento', '(', 'para', 'trastornos', 'mentales', 'graves', 'en', 'particular', ')', 'pueden', 'buscar', 'atención', 'de', 'nivel', 'especializado', 'directamente', '.', 'Los', 'servicios', 'de', 'especialistas', 'en', 'psiquiatría', 'se', 'brindan', 'principalmente', 'en', 'las', 'salas', 'ambulatorias', 'de', 'psiquiatría', 'ubicadas', 'en', 'los', 'hospitales', 'generales', '.']",
         "['ademas', 'formacion', 'especialistas', 'medicina', 'general', 'tambien', 'incluye', 'tareas', 'requieren', 'conocimiento', 'mas', 'profundo', 'problemas', 'comunes', 'salud', 'publica', 'incluida', 'salud', 'mental', 'cuestionario', 'salud', 'mental', 'ocde', '2013', 'dado', 'control', 'atencion', 'primaria', 'limitar', 'acceso', 'servicios', 'salud', 'mental', 'especializados', 'pacientes', 'necesitan', 'tratamiento', 'trastornos', 'mentales', 'graves', 'particular', 'pueden', 'buscar', 'atencion', 'nivel', 'especializado', 'directamente', 'servicios', 'especialistas', 'psiquiatria', 'brindan', 'principalmente', 'salas', 'ambulatorias', 'psiquiatria', 'ubicadas', 'hospitales', 'generales']"
        ],
        [
         "3",
         "En los países de la OCDE se tiende a pasar de los cursos obligatorios a los optativos, abiertos a estudiantes de distintas facultades y escuelas. Este planteamiento facilita la formación de equipos de estudiantes con distintas formaciones e intereses. El trabajo en equipos interdisciplinares permite a los individuos concentrarse en lo que mejor saben y les gusta y, al mismo tiempo, familiarizarse con nuevos conocimientos que pueden asociarse a una nueva forma de resolver un problema o crear un nuevo producto o servicio. No está claro hasta qué punto estos cursos utilizan métodos pedagógicos creativos y se adaptan a las necesidades de los estudiantes de grado, postgrado y licenciatura.",
         "4",
         "['En', 'los', 'países', 'de', 'la', 'OCDE', 'se', 'tiende', 'a', 'pasar', 'de', 'los', 'cursos', 'obligatorios', 'a', 'los', 'optativos', ',', 'abiertos', 'a', 'estudiantes', 'de', 'distintas', 'facultades', 'y', 'escuelas', '.', 'Este', 'planteamiento', 'facilita', 'la', 'formación', 'de', 'equipos', 'de', 'estudiantes', 'con', 'distintas', 'formaciones', 'e', 'intereses', '.', 'El', 'trabajo', 'en', 'equipos', 'interdisciplinares', 'permite', 'a', 'los', 'individuos', 'concentrarse', 'en', 'lo', 'que', 'mejor', 'saben', 'y', 'les', 'gusta', 'y', ',', 'al', 'mismo', 'tiempo', ',', 'familiarizarse', 'con', 'nuevos', 'conocimientos', 'que', 'pueden', 'asociarse', 'a', 'una', 'nueva', 'forma', 'de', 'resolver', 'un', 'problema', 'o', 'crear', 'un', 'nuevo', 'producto', 'o', 'servicio', '.', 'No', 'está', 'claro', 'hasta', 'qué', 'punto', 'estos', 'cursos', 'utilizan', 'métodos', 'pedagógicos', 'creativos', 'y', 'se', 'adaptan', 'a', 'las', 'necesidades', 'de', 'los', 'estudiantes', 'de', 'grado', ',', 'postgrado', 'y', 'licenciatura', '.']",
         "['paises', 'ocde', 'tiende', 'pasar', 'cursos', 'obligatorios', 'optativos', 'abiertos', 'estudiantes', 'distintas', 'facultades', 'escuelas', 'planteamiento', 'facilita', 'formacion', 'equipos', 'estudiantes', 'distintas', 'formaciones', 'intereses', 'trabajo', 'equipos', 'interdisciplinares', 'permite', 'individuos', 'concentrarse', 'mejor', 'saben', 'gusta', 'mismo', 'tiempo', 'familiarizarse', 'nuevos', 'conocimientos', 'pueden', 'asociarse', 'nueva', 'forma', 'resolver', 'problema', 'crear', 'nuevo', 'producto', 'servicio', 'claro', 'punto', 'cursos', 'utilizan', 'metodos', 'pedagogicos', 'creativos', 'adaptan', 'necesidades', 'estudiantes', 'grado', 'postgrado', 'licenciatura']"
        ],
        [
         "4",
         "Este grupo se centró en las personas que padecen trastornos mentales con comorbilidad de abuso de sustancias (mientras que la demencia, la discapacidad intelectual y el abuso de sustancias por sà solos quedaron excluidos del ámbito de análisis). Con 90 millones de euros de financiación, la comisión dispuso de tres años para \"iniciar y apoyar el desarrollo de proyectos a todos los niveles (tratamiento médico, mejora de los servicios, proyectos de vivienda, mejoras legislativas y organizativas) y proponer las medidas necesarias para elevar de forma permanente el nivel de los servicios de salud mental\". ",
         "3",
         "['Este', 'grupo', 'se', 'centró', 'en', 'las', 'personas', 'que', 'padecen', 'trastornos', 'mentales', 'con', 'comorbilidad', 'de', 'abuso', 'de', 'sustancias', '(', 'mientras', 'que', 'la', 'demencia', ',', 'la', 'discapacidad', 'intelectual', 'y', 'el', 'abuso', 'de', 'sustancias', 'por', 'sà', 'solos', 'quedaron', 'excluidos', 'del', 'ámbito', 'de', 'análisis', ')', '.', 'Con', '90', 'millones', 'de', 'euros', 'de', 'financiación', ',', 'la', 'comisión', 'dispuso', 'de', 'tres', 'años', 'para', '``', 'iniciar', 'y', 'apoyar', 'el', 'desarrollo', 'de', 'proyectos', 'a', 'todos', 'los', 'niveles', '(', 'tratamiento', 'médico', ',', 'mejora', 'de', 'los', 'servicios', ',', 'proyectos', 'de', 'vivienda', ',', 'mejoras', 'legislativas', 'y', 'organizativas', ')', 'y', 'proponer', 'las', 'medidas', 'necesarias', 'para', 'elevar', 'de', 'forma', 'permanente', 'el', 'nivel', 'de', 'los', 'servicios', 'de', 'salud', 'mental', \"''\", '.']",
         "['grupo', 'centro', 'personas', 'padecen', 'trastornos', 'mentales', 'comorbilidad', 'abuso', 'sustancias', 'mientras', 'demencia', 'discapacidad', 'intelectual', 'abuso', 'sustancias', 'sa', 'solos', 'quedaron', 'excluidos', 'ambito', 'analisis', '90', 'millones', 'euros', 'financiacion', 'comision', 'dispuso', 'tres', 'anos', 'iniciar', 'apoyar', 'desarrollo', 'proyectos', 'niveles', 'tratamiento', 'medico', 'mejora', 'servicios', 'proyectos', 'vivienda', 'mejoras', 'legislativas', 'organizativas', 'proponer', 'medidas', 'necesarias', 'elevar', 'forma', 'permanente', 'nivel', 'servicios', 'salud', 'mental']"
        ]
       ],
       "shape": {
        "columns": 4,
        "rows": 5
       }
      },
      "text/html": [
       "<div>\n",
       "<style scoped>\n",
       "    .dataframe tbody tr th:only-of-type {\n",
       "        vertical-align: middle;\n",
       "    }\n",
       "\n",
       "    .dataframe tbody tr th {\n",
       "        vertical-align: top;\n",
       "    }\n",
       "\n",
       "    .dataframe thead th {\n",
       "        text-align: right;\n",
       "    }\n",
       "</style>\n",
       "<table border=\"1\" class=\"dataframe\">\n",
       "  <thead>\n",
       "    <tr style=\"text-align: right;\">\n",
       "      <th></th>\n",
       "      <th>textos</th>\n",
       "      <th>labels</th>\n",
       "      <th>palabras</th>\n",
       "      <th>palabrasProces</th>\n",
       "    </tr>\n",
       "  </thead>\n",
       "  <tbody>\n",
       "    <tr>\n",
       "      <th>0</th>\n",
       "      <td>\"Aprendizaje\" y \"educación\" se consideran sinó...</td>\n",
       "      <td>4</td>\n",
       "      <td>[``, Aprendizaje, '', y, ``, educación, '', se...</td>\n",
       "      <td>[aprendizaje, educacion, consideran, sinonimos...</td>\n",
       "    </tr>\n",
       "    <tr>\n",
       "      <th>1</th>\n",
       "      <td>Para los niños más pequeños (bebés y niños peq...</td>\n",
       "      <td>4</td>\n",
       "      <td>[Para, los, niños, más, pequeños, (, bebés, y,...</td>\n",
       "      <td>[ninos, mas, pequenos, bebes, ninos, pequenos,...</td>\n",
       "    </tr>\n",
       "    <tr>\n",
       "      <th>2</th>\n",
       "      <td>Además, la formación de especialistas en medic...</td>\n",
       "      <td>3</td>\n",
       "      <td>[Además, ,, la, formación, de, especialistas, ...</td>\n",
       "      <td>[ademas, formacion, especialistas, medicina, g...</td>\n",
       "    </tr>\n",
       "    <tr>\n",
       "      <th>3</th>\n",
       "      <td>En los países de la OCDE se tiende a pasar de ...</td>\n",
       "      <td>4</td>\n",
       "      <td>[En, los, países, de, la, OCDE, se, tiende, a,...</td>\n",
       "      <td>[paises, ocde, tiende, pasar, cursos, obligato...</td>\n",
       "    </tr>\n",
       "    <tr>\n",
       "      <th>4</th>\n",
       "      <td>Este grupo se centró en las personas que padec...</td>\n",
       "      <td>3</td>\n",
       "      <td>[Este, grupo, se, centró, en, las, personas, q...</td>\n",
       "      <td>[grupo, centro, personas, padecen, trastornos,...</td>\n",
       "    </tr>\n",
       "  </tbody>\n",
       "</table>\n",
       "</div>"
      ],
      "text/plain": [
       "                                              textos  labels  \\\n",
       "0  \"Aprendizaje\" y \"educación\" se consideran sinó...       4   \n",
       "1  Para los niños más pequeños (bebés y niños peq...       4   \n",
       "2  Además, la formación de especialistas en medic...       3   \n",
       "3  En los países de la OCDE se tiende a pasar de ...       4   \n",
       "4  Este grupo se centró en las personas que padec...       3   \n",
       "\n",
       "                                            palabras  \\\n",
       "0  [``, Aprendizaje, '', y, ``, educación, '', se...   \n",
       "1  [Para, los, niños, más, pequeños, (, bebés, y,...   \n",
       "2  [Además, ,, la, formación, de, especialistas, ...   \n",
       "3  [En, los, países, de, la, OCDE, se, tiende, a,...   \n",
       "4  [Este, grupo, se, centró, en, las, personas, q...   \n",
       "\n",
       "                                      palabrasProces  \n",
       "0  [aprendizaje, educacion, consideran, sinonimos...  \n",
       "1  [ninos, mas, pequenos, bebes, ninos, pequenos,...  \n",
       "2  [ademas, formacion, especialistas, medicina, g...  \n",
       "3  [paises, ocde, tiende, pasar, cursos, obligato...  \n",
       "4  [grupo, centro, personas, padecen, trastornos,...  "
      ]
     },
     "execution_count": 168,
     "metadata": {},
     "output_type": "execute_result"
    }
   ],
   "source": [
    "df_textC['palabrasProces'] = df_textC['palabras'].apply(preprocessing)\n",
    "\n",
    "df_textC.head()"
   ]
  },
  {
   "cell_type": "markdown",
   "id": "c58ec1f1",
   "metadata": {},
   "source": [
    "### 3.2 Normalizacion"
   ]
  },
  {
   "cell_type": "code",
   "execution_count": 169,
   "id": "24c05056",
   "metadata": {},
   "outputs": [
    {
     "data": {
      "application/vnd.microsoft.datawrangler.viewer.v0+json": {
       "columns": [
        {
         "name": "index",
         "rawType": "int64",
         "type": "integer"
        },
        {
         "name": "textos",
         "rawType": "object",
         "type": "string"
        },
        {
         "name": "labels",
         "rawType": "int64",
         "type": "integer"
        },
        {
         "name": "palabras",
         "rawType": "object",
         "type": "unknown"
        },
        {
         "name": "palabrasProces",
         "rawType": "object",
         "type": "unknown"
        }
       ],
       "ref": "80293384-49c9-400b-8ee5-7a845ee83ec7",
       "rows": [
        [
         "0",
         "\"Aprendizaje\" y \"educación\" se consideran sinónimos de escolarización formal. Las organizaciones auxiliares, como las editoriales de educación, las juntas examinadoras y las organizaciones de formación de docentes, se consideran extensiones de los acuerdos establecidos por los gobiernos. Este marco de comprensión se ha vuelto cada vez más inadecuado.",
         "4",
         "['aprendizaj', 'educ', 'consider', 'sinon', 'escolariz', 'formal', 'organiz', 'auxiliar', 'editorial', 'educ', 'junt', 'examin', 'organiz', 'formacion', 'docent', 'consider', 'extension', 'acuerd', 'establec', 'gobi', 'marc', 'comprension', 'vuelt', 'cad', 'vez', 'mas', 'inadecu', 'aprendizaje', 'educacion', 'considerar', 'sinonimo', 'escolarizacion', 'formal', 'organización', 'auxiliar', 'editorial', 'educacion', 'junto', 'examinadora', 'organización', 'formacion', 'docente', 'considerar', 'extensión', 'acuerdo', 'establecido', 'gobierno', 'marco', 'comprension', 'vuelto', 'cada', 'vez', 'mas', 'inadecuado']",
         "['aprendizaje', 'educacion', 'consideran', 'sinonimos', 'escolarizacion', 'formal', 'organizaciones', 'auxiliares', 'editoriales', 'educacion', 'juntas', 'examinadoras', 'organizaciones', 'formacion', 'docentes', 'consideran', 'extensiones', 'acuerdos', 'establecidos', 'gobiernos', 'marco', 'comprension', 'vuelto', 'cada', 'vez', 'mas', 'inadecuado']"
        ],
        [
         "1",
         "Para los niños más pequeños (bebés y niños pequeños), la capacitación especializada y práctica parece estar más fuertemente asociada con la calidad pedagógica y los resultados cognitivos y sociales. Los educadores de la primera infancia se encuentran con entornos sociales cada vez más complejos y se encuentran con una multiplicidad de antecedentes y experiencias familiares. Estos factores crean imperativos para adoptar nuevas pedagogías y prácticas organizacionales para acomodar este pluralismo (Elliott, 2006).",
         "4",
         "['nin', 'mas', 'pequen', 'beb', 'nin', 'pequen', 'capacit', 'especializ', 'practic', 'parec', 'mas', 'fuertement', 'asoci', 'calid', 'pedagog', 'result', 'cognit', 'social', 'educ', 'primer', 'infanci', 'encuentr', 'entorn', 'social', 'cad', 'vez', 'mas', 'complej', 'encuentr', 'multipl', 'antecedent', 'experient', 'familiar', 'factor', 'cre', 'imper', 'adopt', 'nuev', 'pedagogi', 'practic', 'organizacional', 'acomod', 'plural', 'elliott', '2006', 'nino', 'mas', 'pequeno', 'beb', 'ninos', 'pequenos', 'capacitacion', 'especializado', 'practica', 'parecer', 'mas', 'fuertemente', 'asociado', 'calidad', 'pedagogico', 'resultado', 'cognitivo', 'social', 'educador', 'primero', 'infancia', 'encontrar', 'entorno', 'social', 'cada', 'vez', 'mas', 'complejo', 'encontrar', 'multiplicidad', 'antecedente', 'experiencia', 'familiar', 'factor', 'crear', 'imperativo', 'adoptar', 'nuevo', 'pedagogia', 'practica', 'organizacional', 'acomodar', 'pluralismo', 'elliott', '2006']",
         "['ninos', 'mas', 'pequenos', 'bebes', 'ninos', 'pequenos', 'capacitacion', 'especializada', 'practica', 'parece', 'mas', 'fuertemente', 'asociada', 'calidad', 'pedagogica', 'resultados', 'cognitivos', 'sociales', 'educadores', 'primera', 'infancia', 'encuentran', 'entornos', 'sociales', 'cada', 'vez', 'mas', 'complejos', 'encuentran', 'multiplicidad', 'antecedentes', 'experiencias', 'familiares', 'factores', 'crean', 'imperativos', 'adoptar', 'nuevas', 'pedagogias', 'practicas', 'organizacionales', 'acomodar', 'pluralismo', 'elliott', '2006']"
        ],
        [
         "2",
         "Además, la formación de especialistas en medicina general también incluye tareas que requieren un conocimiento más profundo de problemas comunes de salud pública, incluida la salud mental (Cuestionario de salud mental de la OCDE, 2013). Dado que no hay control en la atención primaria para limitar el acceso a los servicios de salud (mental) especializados, muchos pacientes que necesitan tratamiento (para trastornos mentales graves en particular) pueden buscar atención de nivel especializado directamente. Los servicios de especialistas en psiquiatría se brindan principalmente en las salas ambulatorias de psiquiatría ubicadas en los hospitales generales.",
         "3",
         "['adem', 'formacion', 'especial', 'medicin', 'general', 'tambi', 'inclu', 'tar', 'requier', 'conoc', 'mas', 'profund', 'problem', 'comun', 'salud', 'public', 'inclu', 'salud', 'mental', 'cuestionari', 'salud', 'mental', 'ocde', '2013', 'dad', 'control', 'atencion', 'primari', 'limit', 'acces', 'servici', 'salud', 'mental', 'especializ', 'pacient', 'necesit', 'tratamient', 'trastorn', 'mental', 'grav', 'particul', 'pued', 'busc', 'atencion', 'nivel', 'especializ', 'direct', 'servici', 'especial', 'psiquiatri', 'brind', 'principal', 'sal', 'ambulatori', 'psiquiatri', 'ubic', 'hospital', 'general', 'adema', 'formacion', 'especialista', 'medicina', 'general', 'tambien', 'incluir', 'tarea', 'requerir', 'conocimiento', 'mas', 'profundo', 'problema', 'común', 'salud', 'publicar', 'incluido', 'salud', 'mental', 'cuestionario', 'salud', 'mental', 'ocde', '2013', 'dado', 'control', 'atencion', 'primario', 'limitar', 'acceso', 'servicio', 'salud', 'mental', 'especializado', 'paciente', 'necesitar', 'tratamiento', 'trastorno', 'mental', 'grave', 'particular', 'poder', 'buscar', 'atencion', 'nivel', 'especializado', 'directamente', 'servicio', 'especialista', 'psiquiatrio', 'brindar', 'principalmente', 'sala', 'ambulatoria', 'psiquiatria', 'ubicado', 'hospital', 'general']",
         "['ademas', 'formacion', 'especialistas', 'medicina', 'general', 'tambien', 'incluye', 'tareas', 'requieren', 'conocimiento', 'mas', 'profundo', 'problemas', 'comunes', 'salud', 'publica', 'incluida', 'salud', 'mental', 'cuestionario', 'salud', 'mental', 'ocde', '2013', 'dado', 'control', 'atencion', 'primaria', 'limitar', 'acceso', 'servicios', 'salud', 'mental', 'especializados', 'pacientes', 'necesitan', 'tratamiento', 'trastornos', 'mentales', 'graves', 'particular', 'pueden', 'buscar', 'atencion', 'nivel', 'especializado', 'directamente', 'servicios', 'especialistas', 'psiquiatria', 'brindan', 'principalmente', 'salas', 'ambulatorias', 'psiquiatria', 'ubicadas', 'hospitales', 'generales']"
        ],
        [
         "3",
         "En los países de la OCDE se tiende a pasar de los cursos obligatorios a los optativos, abiertos a estudiantes de distintas facultades y escuelas. Este planteamiento facilita la formación de equipos de estudiantes con distintas formaciones e intereses. El trabajo en equipos interdisciplinares permite a los individuos concentrarse en lo que mejor saben y les gusta y, al mismo tiempo, familiarizarse con nuevos conocimientos que pueden asociarse a una nueva forma de resolver un problema o crear un nuevo producto o servicio. No está claro hasta qué punto estos cursos utilizan métodos pedagógicos creativos y se adaptan a las necesidades de los estudiantes de grado, postgrado y licenciatura.",
         "4",
         "['pais', 'ocde', 'tiend', 'pas', 'curs', 'obligatori', 'optat', 'abiert', 'estudi', 'distint', 'facultad', 'escuel', 'planteamient', 'facilit', 'formacion', 'equip', 'estudi', 'distint', 'formacion', 'interes', 'trabaj', 'equip', 'interdisciplinar', 'permit', 'individu', 'concentr', 'mejor', 'sab', 'gust', 'mism', 'tiemp', 'familiariz', 'nuev', 'conoc', 'pued', 'asoci', 'nuev', 'form', 'resolv', 'problem', 'cre', 'nuev', 'product', 'servici', 'clar', 'punt', 'curs', 'utiliz', 'metod', 'pedagog', 'creativ', 'adapt', 'neces', 'estudi', 'grad', 'postgr', 'licenciatur', 'país', 'ocde', 'tender', 'pasar', 'curso', 'obligatorio', 'optativo', 'abierto', 'estudiante', 'distinto', 'facultad', 'escuela', 'planteamiento', 'facilitar', 'formacion', 'equipo', 'estudiant', 'distinto', 'formación', 'interés', 'trabajo', 'equipo', 'interdisciplinar', 'permitir', 'individuo', 'concentrar él', 'mejor', 'saber', 'gustar', 'mismo', 'tiempo', 'familiarizar él', 'nuevo', 'conocimiento', 'poder', 'asociar él', 'nuevo', 'forma', 'resolver', 'problema', 'crear', 'nuevo', 'producto', 'servicio', 'claro', 'punto', 'curso', 'utilizar', 'metodo', 'pedagogico', 'creativo', 'adaptar', 'necesidad', 'estudiant', 'grado', 'postgrado', 'licenciatura']",
         "['paises', 'ocde', 'tiende', 'pasar', 'cursos', 'obligatorios', 'optativos', 'abiertos', 'estudiantes', 'distintas', 'facultades', 'escuelas', 'planteamiento', 'facilita', 'formacion', 'equipos', 'estudiantes', 'distintas', 'formaciones', 'intereses', 'trabajo', 'equipos', 'interdisciplinares', 'permite', 'individuos', 'concentrarse', 'mejor', 'saben', 'gusta', 'mismo', 'tiempo', 'familiarizarse', 'nuevos', 'conocimientos', 'pueden', 'asociarse', 'nueva', 'forma', 'resolver', 'problema', 'crear', 'nuevo', 'producto', 'servicio', 'claro', 'punto', 'cursos', 'utilizan', 'metodos', 'pedagogicos', 'creativos', 'adaptan', 'necesidades', 'estudiantes', 'grado', 'postgrado', 'licenciatura']"
        ],
        [
         "4",
         "Este grupo se centró en las personas que padecen trastornos mentales con comorbilidad de abuso de sustancias (mientras que la demencia, la discapacidad intelectual y el abuso de sustancias por sà solos quedaron excluidos del ámbito de análisis). Con 90 millones de euros de financiación, la comisión dispuso de tres años para \"iniciar y apoyar el desarrollo de proyectos a todos los niveles (tratamiento médico, mejora de los servicios, proyectos de vivienda, mejoras legislativas y organizativas) y proponer las medidas necesarias para elevar de forma permanente el nivel de los servicios de salud mental\". ",
         "3",
         "['grup', 'centr', 'person', 'padec', 'trastorn', 'mental', 'comorbil', 'abus', 'sustanci', 'mientr', 'demenci', 'discapac', 'intelectual', 'abus', 'sustanci', 'sa', 'sol', 'qued', 'exclu', 'ambit', 'analisis', '90', 'millon', 'eur', 'financi', 'comision', 'dispus', 'tres', 'anos', 'inici', 'apoy', 'desarroll', 'proyect', 'nivel', 'tratamient', 'medic', 'mejor', 'servici', 'proyect', 'viviend', 'mejor', 'legisl', 'organiz', 'propon', 'med', 'necesari', 'elev', 'form', 'permanent', 'nivel', 'servici', 'salud', 'mental', 'grupo', 'centro', 'persona', 'padecer', 'trastorno', 'mental', 'comorbilidad', 'abuso', 'sustancia', 'mientras', 'demencia', 'discapacidad', 'intelectual', 'abuso', 'sustancia', 'sa', 'solo', 'quedar', 'excluido', 'ambito', 'analisis', '90', 'millón', 'euros', 'financiacion', 'comision', 'disponer', 'tres', 'ano', 'iniciar', 'apoyar', 'desarrollo', 'proyecto', 'nivel', 'tratamiento', 'medico', 'mejorar', 'servicio', 'proyecto', 'viviendar', 'mejora', 'legislativo', 'organizativo', 'proponer', 'medida', 'necesario', 'elevar', 'forma', 'permanente', 'nivel', 'servicio', 'salud', 'mental']",
         "['grupo', 'centro', 'personas', 'padecen', 'trastornos', 'mentales', 'comorbilidad', 'abuso', 'sustancias', 'mientras', 'demencia', 'discapacidad', 'intelectual', 'abuso', 'sustancias', 'sa', 'solos', 'quedaron', 'excluidos', 'ambito', 'analisis', '90', 'millones', 'euros', 'financiacion', 'comision', 'dispuso', 'tres', 'anos', 'iniciar', 'apoyar', 'desarrollo', 'proyectos', 'niveles', 'tratamiento', 'medico', 'mejora', 'servicios', 'proyectos', 'vivienda', 'mejoras', 'legislativas', 'organizativas', 'proponer', 'medidas', 'necesarias', 'elevar', 'forma', 'permanente', 'nivel', 'servicios', 'salud', 'mental']"
        ]
       ],
       "shape": {
        "columns": 4,
        "rows": 5
       }
      },
      "text/html": [
       "<div>\n",
       "<style scoped>\n",
       "    .dataframe tbody tr th:only-of-type {\n",
       "        vertical-align: middle;\n",
       "    }\n",
       "\n",
       "    .dataframe tbody tr th {\n",
       "        vertical-align: top;\n",
       "    }\n",
       "\n",
       "    .dataframe thead th {\n",
       "        text-align: right;\n",
       "    }\n",
       "</style>\n",
       "<table border=\"1\" class=\"dataframe\">\n",
       "  <thead>\n",
       "    <tr style=\"text-align: right;\">\n",
       "      <th></th>\n",
       "      <th>textos</th>\n",
       "      <th>labels</th>\n",
       "      <th>palabras</th>\n",
       "      <th>palabrasProces</th>\n",
       "    </tr>\n",
       "  </thead>\n",
       "  <tbody>\n",
       "    <tr>\n",
       "      <th>0</th>\n",
       "      <td>\"Aprendizaje\" y \"educación\" se consideran sinó...</td>\n",
       "      <td>4</td>\n",
       "      <td>[aprendizaj, educ, consider, sinon, escolariz,...</td>\n",
       "      <td>[aprendizaje, educacion, consideran, sinonimos...</td>\n",
       "    </tr>\n",
       "    <tr>\n",
       "      <th>1</th>\n",
       "      <td>Para los niños más pequeños (bebés y niños peq...</td>\n",
       "      <td>4</td>\n",
       "      <td>[nin, mas, pequen, beb, nin, pequen, capacit, ...</td>\n",
       "      <td>[ninos, mas, pequenos, bebes, ninos, pequenos,...</td>\n",
       "    </tr>\n",
       "    <tr>\n",
       "      <th>2</th>\n",
       "      <td>Además, la formación de especialistas en medic...</td>\n",
       "      <td>3</td>\n",
       "      <td>[adem, formacion, especial, medicin, general, ...</td>\n",
       "      <td>[ademas, formacion, especialistas, medicina, g...</td>\n",
       "    </tr>\n",
       "    <tr>\n",
       "      <th>3</th>\n",
       "      <td>En los países de la OCDE se tiende a pasar de ...</td>\n",
       "      <td>4</td>\n",
       "      <td>[pais, ocde, tiend, pas, curs, obligatori, opt...</td>\n",
       "      <td>[paises, ocde, tiende, pasar, cursos, obligato...</td>\n",
       "    </tr>\n",
       "    <tr>\n",
       "      <th>4</th>\n",
       "      <td>Este grupo se centró en las personas que padec...</td>\n",
       "      <td>3</td>\n",
       "      <td>[grup, centr, person, padec, trastorn, mental,...</td>\n",
       "      <td>[grupo, centro, personas, padecen, trastornos,...</td>\n",
       "    </tr>\n",
       "  </tbody>\n",
       "</table>\n",
       "</div>"
      ],
      "text/plain": [
       "                                              textos  labels  \\\n",
       "0  \"Aprendizaje\" y \"educación\" se consideran sinó...       4   \n",
       "1  Para los niños más pequeños (bebés y niños peq...       4   \n",
       "2  Además, la formación de especialistas en medic...       3   \n",
       "3  En los países de la OCDE se tiende a pasar de ...       4   \n",
       "4  Este grupo se centró en las personas que padec...       3   \n",
       "\n",
       "                                            palabras  \\\n",
       "0  [aprendizaj, educ, consider, sinon, escolariz,...   \n",
       "1  [nin, mas, pequen, beb, nin, pequen, capacit, ...   \n",
       "2  [adem, formacion, especial, medicin, general, ...   \n",
       "3  [pais, ocde, tiend, pas, curs, obligatori, opt...   \n",
       "4  [grup, centr, person, padec, trastorn, mental,...   \n",
       "\n",
       "                                      palabrasProces  \n",
       "0  [aprendizaje, educacion, consideran, sinonimos...  \n",
       "1  [ninos, mas, pequenos, bebes, ninos, pequenos,...  \n",
       "2  [ademas, formacion, especialistas, medicina, g...  \n",
       "3  [paises, ocde, tiende, pasar, cursos, obligato...  \n",
       "4  [grupo, centro, personas, padecen, trastornos,...  "
      ]
     },
     "execution_count": 169,
     "metadata": {},
     "output_type": "execute_result"
    }
   ],
   "source": [
    "import spacy\n",
    "# Stemmer para palabras en español\n",
    "stemmer = SnowballStemmer(\"spanish\")\n",
    "\n",
    "# Load spaCy Spanish model\n",
    "nlp = spacy.load(\"es_core_news_sm\")\n",
    "\n",
    "\n",
    "\n",
    "def stem_words(words):\n",
    "    \"\"\"Stem words in list of tokenized words (Spanish).\"\"\"\n",
    "    return [stemmer.stem(w) for w in words]\n",
    "\n",
    "def lemmatize_verbs(words):\n",
    "    \"\"\"Lemmatize words in list of tokenized words (Spanish).\"\"\"\n",
    "    doc = nlp(\" \".join(words))\n",
    "    # Return lemmas, focusing on verbs (if you want *all words*, remove the if check)\n",
    "    return [token.lemma_ for token in doc]\n",
    "\n",
    "def stem_and_lemmatize(words):\n",
    "    \"\"\"Combine stems and lemmas (verbs) if needed.\"\"\"\n",
    "    stems = stem_words(words)\n",
    "    lemmas = lemmatize_verbs(words)\n",
    "    return stems + lemmas\n",
    "\n",
    "df_textC['palabras']=df_textC['palabrasProces'].apply(stem_and_lemmatize)\n",
    "\n",
    "df_textC.head()"
   ]
  },
  {
   "cell_type": "code",
   "execution_count": 170,
   "id": "6ccd28dd",
   "metadata": {},
   "outputs": [
    {
     "data": {
      "application/vnd.microsoft.datawrangler.viewer.v0+json": {
       "columns": [
        {
         "name": "index",
         "rawType": "int64",
         "type": "integer"
        },
        {
         "name": "textos",
         "rawType": "object",
         "type": "string"
        },
        {
         "name": "labels",
         "rawType": "int64",
         "type": "integer"
        },
        {
         "name": "palabras",
         "rawType": "object",
         "type": "unknown"
        },
        {
         "name": "palabrasProces",
         "rawType": "object",
         "type": "unknown"
        }
       ],
       "ref": "43fce0aa-7613-448d-87e8-c23b77f3dce7",
       "rows": [
        [
         "1430",
         "Esto implica que el número de pobres se redujo en aproximadamente 6 millones en 2012, mientras que el número de indigentes se mantuvo prácticamente constante. La pobreza extrema también se redujo apreciablemente (en 8,0 puntos porcentuales) desde 2002, aunque en este caso el ritmo de reducción se ha desacelerado en los últimos años, debido principalmente a un aumento más pronunciado del costo de los alimentos que de la inflación general. El segundo subperíodo, que se inició en 2007, muestra una desaceleración en el ritmo de reducción del número de pobres por ingresos, que se redujo a 2,5% anual en el caso de la pobreza y a 0,9% anual en el caso de la indigencia.",
         "1",
         "['implic', 'numer', 'pobr', 'reduj', 'aproxim', '6', 'millon', '2012', 'mientr', 'numer', 'indigent', 'mantuv', 'practic', 'constant', 'pobrez', 'extrem', 'tambi', 'reduj', 'apreci', '80', 'punt', 'porcentual', '2002', 'aunqu', 'cas', 'ritm', 'reduccion', 'desaceler', 'ultim', 'anos', 'deb', 'principal', 'aument', 'mas', 'pronunci', 'cost', 'aliment', 'inflacion', 'general', 'segund', 'subperiod', 'inici', '2007', 'muestr', 'desaceler', 'ritm', 'reduccion', 'numer', 'pobr', 'ingres', 'reduj', '25', 'anual', 'cas', 'pobrez', '09', 'anual', 'cas', 'indigent', 'implicar', 'numero', 'pobre', 'reducir', 'aproximadamente', '6', 'millón', '2012', 'mientras', 'numero', 'indigent', 'mantener', 'practicamente', 'constante', 'pobreza', 'extremo', 'tambien', 'reducir', 'apreciablemente', '80', 'punto', 'porcentual', '2002', 'aunque', 'caso', 'ritmo', 'reduccion', 'desacelerado', 'ultimos', 'ano', 'debido', 'principalmente', 'aumento', 'mas', 'pronunciado', 'costo', 'alimento', 'inflacion', 'general', 'segundo', 'subperiodo', 'inicio', '2007', 'mostrar', 'desaceleracion', 'ritmo', 'reduccion', 'numero', 'pobre', 'ingreso', 'reducir', '25', 'anual', 'caso', 'pobrezar', '09', 'anual', 'caso', 'indigencio']",
         "['implica', 'numero', 'pobres', 'redujo', 'aproximadamente', '6', 'millones', '2012', 'mientras', 'numero', 'indigentes', 'mantuvo', 'practicamente', 'constante', 'pobreza', 'extrema', 'tambien', 'redujo', 'apreciablemente', '80', 'puntos', 'porcentuales', '2002', 'aunque', 'caso', 'ritmo', 'reduccion', 'desacelerado', 'ultimos', 'anos', 'debido', 'principalmente', 'aumento', 'mas', 'pronunciado', 'costo', 'alimentos', 'inflacion', 'general', 'segundo', 'subperiodo', 'inicio', '2007', 'muestra', 'desaceleracion', 'ritmo', 'reduccion', 'numero', 'pobres', 'ingresos', 'redujo', '25', 'anual', 'caso', 'pobreza', '09', 'anual', 'caso', 'indigencia']"
        ],
        [
         "1483",
         "También es necesario garantizar que profesores y alumnos dispongan de los materiales que necesitan en las escuelas rurales. Además, hay argumentos de peso para reorganizar las escuelas pequeñas de modo que sirvan mejor a sus alumnos. Sin embargo, esta reorganización debe llevarse a cabo de forma que no ponga en peligro la continuidad de los alumnos en el sistema educativo. El gobierno puede considerar la posibilidad de ampliar o revisar los programas de refuerzo que existen para los estudiantes que están en la transición a la enseñanza secundaria superior y asegurarse de que los estudiantes procedentes de zonas rurales reciben una atención especial. Sin embargo, no está claro si todos los alumnos con necesidades educativas especiales se están beneficiando del programa y hay algunas necesidades especiales que podrían estar sobrediagnosticadas. El fracaso en el diagnóstico de los niños con necesidades especiales tiene costes elevados, tanto para los alumnos individuales como para el sistema educativo en su conjunto.",
         "4",
         "['tambi', 'necesari', 'garantiz', 'profesor', 'alumn', 'dispong', 'material', 'necesit', 'escuel', 'rural', 'adem', 'argument', 'pes', 'reorganiz', 'escuel', 'pequen', 'mod', 'sirv', 'mejor', 'alumn', 'embarg', 'reorganiz', 'deb', 'llev', 'cab', 'form', 'pong', 'peligr', 'continu', 'alumn', 'sistem', 'educ', 'gobiern', 'pued', 'consider', 'posibil', 'ampli', 'revis', 'program', 'refuerz', 'exist', 'estudi', 'estan', 'transicion', 'ensen', 'secundari', 'superior', 'asegur', 'estudi', 'procedent', 'zon', 'rural', 'recib', 'atencion', 'especial', 'embarg', 'clar', 'si', 'alumn', 'neces', 'educ', 'especial', 'estan', 'benefici', 'program', 'neces', 'especial', 'podri', 'sobrediagnostic', 'fracas', 'diagnost', 'nin', 'neces', 'especial', 'cost', 'elev', 'alumn', 'individual', 'sistem', 'educ', 'conjunt', 'tambien', 'necesario', 'garantizar', 'profesor', 'alumno', 'dispongar', 'material', 'necesitar', 'escuela', 'rural', 'adema', 'argumento', 'peso', 'reorganizar', 'escuela', 'pequena', 'modo', 'servir', 'mejor', 'alumno', 'embargo', 'reorganizacion', 'deber', 'llevar él', 'cabo', 'forma', 'poner', 'peligro', 'continuidad', 'alumno', 'sistema', 'educativo', 'gobierno', 'poder', 'considerar', 'posibilidad', 'ampliar', 'revisar', 'programa', 'refuerzo', 'existir', 'estudiante', 'estan', 'transicion', 'ensenanza', 'secundario', 'superior', 'asegurar él', 'estudiante', 'procedente', 'zona', 'rural', 'recibir', 'atencion', 'especial', 'embargo', 'claro', 'si', 'alumno', 'necesidad', 'educativo', 'especial', 'estar', 'beneficiar', 'programa', 'necesidad', 'especial', 'podriar', 'sobrediagnosticada', 'fracaso', 'diagnostico', 'nino', 'necesidad', 'especial', 'coste', 'elevado', 'alumno', 'individual', 'sistema', 'educativo', 'conjunto']",
         "['tambien', 'necesario', 'garantizar', 'profesores', 'alumnos', 'dispongan', 'materiales', 'necesitan', 'escuelas', 'rurales', 'ademas', 'argumentos', 'peso', 'reorganizar', 'escuelas', 'pequenas', 'modo', 'sirvan', 'mejor', 'alumnos', 'embargo', 'reorganizacion', 'debe', 'llevarse', 'cabo', 'forma', 'ponga', 'peligro', 'continuidad', 'alumnos', 'sistema', 'educativo', 'gobierno', 'puede', 'considerar', 'posibilidad', 'ampliar', 'revisar', 'programas', 'refuerzo', 'existen', 'estudiantes', 'estan', 'transicion', 'ensenanza', 'secundaria', 'superior', 'asegurarse', 'estudiantes', 'procedentes', 'zonas', 'rurales', 'reciben', 'atencion', 'especial', 'embargo', 'claro', 'si', 'alumnos', 'necesidades', 'educativas', 'especiales', 'estan', 'beneficiando', 'programa', 'necesidades', 'especiales', 'podrian', 'sobrediagnosticadas', 'fracaso', 'diagnostico', 'ninos', 'necesidades', 'especiales', 'costes', 'elevados', 'alumnos', 'individuales', 'sistema', 'educativo', 'conjunto']"
        ],
        [
         "1426",
         "Sólo en Chile, Paraguay y Perú hubo un efecto distributivo positivo, lo que reforzó la contribución del efecto crecimiento a la reducción de la pobreza. En Ecuador y El Salvador, el empeoramiento de la distribución del ingreso frenó los efectos positivos de la caída de la tasa de pobreza provocada por el efecto crecimiento. En la República Bolivariana de Venezuela y Colombia, por su parte, el efecto distributivo fue nulo (ver gráfico 1.4).",
         "1",
         "['sol', 'chil', 'paraguay', 'peru', 'efect', 'distribut', 'posit', 'reforz', 'contribucion', 'efect', 'crecimient', 'reduccion', 'pobrez', 'ecuador', 'salvador', 'empeor', 'distribucion', 'ingres', 'fren', 'efect', 'posit', 'caid', 'tas', 'pobrez', 'provoc', 'efect', 'crecimient', 'republ', 'bolivarian', 'venezuel', 'colombi', 'part', 'efect', 'distribut', 'nul', 'ver', 'grafic', '14', 'solo', 'chile', 'paraguay', 'peru', 'efecto', 'distributivo', 'positivo', 'reforzo', 'contribucion', 'efecto', 'crecimiento', 'reduccion', 'pobreza', 'ecuador', 'salvador', 'empeoramiento', 'distribucion', 'ingreso', 'freno', 'efecto', 'positivo', 'caido', 'tasa', 'pobreza', 'provocado', 'efecto', 'crecimiento', 'republico', 'bolivarián', 'venezuela', 'colombia', 'parte', 'efecto', 'distributivo', 'nulo', 'ver', 'grafico', '14']",
         "['solo', 'chile', 'paraguay', 'peru', 'efecto', 'distributivo', 'positivo', 'reforzo', 'contribucion', 'efecto', 'crecimiento', 'reduccion', 'pobreza', 'ecuador', 'salvador', 'empeoramiento', 'distribucion', 'ingreso', 'freno', 'efectos', 'positivos', 'caida', 'tasa', 'pobreza', 'provocada', 'efecto', 'crecimiento', 'republica', 'bolivariana', 'venezuela', 'colombia', 'parte', 'efecto', 'distributivo', 'nulo', 'ver', 'grafico', '14']"
        ],
        [
         "2302",
         "Incluso después de tener en cuenta factores sociodemográficos como el sexo, la edad, la condición de nacido en el extranjero y la cantidad de años que el encuestado ha estado trabajando para un empleador actual o ha trabajado por cuenta propia, sigue existiendo una brecha en las habilidades de alfabetización en todos los países que participan en el estudio. la encuesta (OCDE, 2016a). Las brechas son particularmente altas en Israel, Reino Unido (Inglaterra), Estados Unidos, Grecia, República Eslovaca, Polonia, Eslovenia y Chile (OCDE, 2016a). Esto sugiere que los adultos con padres más educados se han beneficiado de mejores oportunidades de aprendizaje y apoyo que aquellos cuyos padres no tienen la misma educación.",
         "4",
         "['inclus', 'despu', 'ten', 'cuent', 'factor', 'sociodemograf', 'sex', 'edad', 'condicion', 'nac', 'extranjer', 'cantid', 'anos', 'encuest', 'trabaj', 'empleador', 'actual', 'trabaj', 'cuent', 'propi', 'sig', 'exist', 'brech', 'habil', 'alfabetiz', 'pais', 'particip', 'estudi', 'encuest', 'ocde', '2016a', 'brech', 'particular', 'altas', 'israel', 'rein', 'unid', 'inglaterr', 'unid', 'greci', 'republ', 'eslovac', 'poloni', 'esloveni', 'chil', 'ocde', '2016a', 'sugier', 'adult', 'padr', 'mas', 'educ', 'benefici', 'mejor', 'oportun', 'aprendizaj', 'apoy', 'aquell', 'cuy', 'padr', 'mism', 'educ', 'incluso', 'despues', 'tener', 'cuenta', 'factor', 'sociodemografico', 'sexo', 'edad', 'condicion', 'nacido', 'extranjero', 'cantidad', 'ano', 'encuestado', 'trabajar', 'empleador', 'actual', 'trabajado', 'contar', 'propio', 'seguir', 'existir', 'brecho', 'habilidad', 'alfabetizacion', 'país', 'participar', 'estudio', 'encuesta', 'ocde', '2016a', 'brecha', 'particularmente', 'alto', 'israel', 'reino', 'unido', 'inglaterra', 'unido', 'grecia', 'republico', 'eslovacar', 'polonia', 'eslovenia', 'chile', 'ocde', '2016a', 'sugerir', 'adulto', 'padr', 'mas', 'educado', 'beneficiado', 'mejor', 'oportunidad', 'aprendizaje', 'apoyo', 'aquel', 'cuyo', 'padre', 'mismo', 'educacion']",
         "['incluso', 'despues', 'tener', 'cuenta', 'factores', 'sociodemograficos', 'sexo', 'edad', 'condicion', 'nacido', 'extranjero', 'cantidad', 'anos', 'encuestado', 'trabajando', 'empleador', 'actual', 'trabajado', 'cuenta', 'propia', 'sigue', 'existiendo', 'brecha', 'habilidades', 'alfabetizacion', 'paises', 'participan', 'estudio', 'encuesta', 'ocde', '2016a', 'brechas', 'particularmente', 'altas', 'israel', 'reino', 'unido', 'inglaterra', 'unidos', 'grecia', 'republica', 'eslovaca', 'polonia', 'eslovenia', 'chile', 'ocde', '2016a', 'sugiere', 'adultos', 'padres', 'mas', 'educados', 'beneficiado', 'mejores', 'oportunidades', 'aprendizaje', 'apoyo', 'aquellos', 'cuyos', 'padres', 'misma', 'educacion']"
        ],
        [
         "1986",
         "Se están realizando esfuerzos integrales para aumentar el atractivo de la EFP, incluidos cambios en la gobernanza de las escuelas de EFP que fortalecerán la participación de la comunidad y la colaboración empresarial, mejoras en la fuerza laboral de capacitación vocacional a través de la educación profesional continua, inversiones a gran escala en una red nacional de centros de capacitación práctica sectorial que proporcionar instalaciones de última generación para la formación profesional, información mejorada sobre los resultados del mercado laboral a través de un nuevo sistema de información de recursos humanos y esfuerzos para aclarar la base legal de los aprendizajes y proporcionar subsidios a los empleadores, para que los empleadores puedan crear más oportunidades de aprendizaje. La evidencia preliminar sugiere pocos avances para aumentar el atractivo de la EFP para estudiantes o empleadores. Implementar el sistema de seguimiento de recursos humanos recientemente autorizado y utilizarlo para proporcionar evidencia de los beneficios de VET a los futuros estudiantes. Aumentar la capacidad escolar y los incentivos para la formación de aprendices, y aclarar el alcance de los incentivos de los empleadores para la creación de contratos de aprendizaje.",
         "4",
         "['estan', 'realiz', 'esfuerz', 'integral', 'aument', 'atract', 'efp', 'inclu', 'cambi', 'gobern', 'escuel', 'efp', 'fortalecer', 'particip', 'comun', 'colabor', 'empresarial', 'mejor', 'fuerz', 'laboral', 'capacit', 'vocacional', 'trav', 'educ', 'profesional', 'continu', 'inversion', 'gran', 'escal', 'red', 'nacional', 'centr', 'capacit', 'practic', 'sectorial', 'proporcion', 'instal', 'ultim', 'gener', 'formacion', 'profesional', 'inform', 'mejor', 'result', 'merc', 'laboral', 'trav', 'nuev', 'sistem', 'inform', 'recurs', 'human', 'esfuerz', 'aclar', 'bas', 'legal', 'aprendizaj', 'proporcion', 'subsidi', 'empleador', 'empleador', 'pued', 'cre', 'mas', 'oportun', 'aprendizaj', 'evident', 'prelimin', 'sugier', 'poc', 'avanc', 'aument', 'atract', 'efp', 'estudi', 'empleador', 'implement', 'sistem', 'seguimient', 'recurs', 'human', 'recient', 'autoriz', 'utiliz', 'proporcion', 'evident', 'benefici', 'vet', 'futur', 'estudi', 'aument', 'capac', 'escol', 'incent', 'formacion', 'aprendic', 'aclar', 'alcanc', 'incent', 'empleador', 'creacion', 'contrat', 'aprendizaj', 'estar', 'realizar', 'esfuerzo', 'integral', 'aumentar', 'atractivo', 'efp', 'incluido', 'cambio', 'gobernanza', 'escuela', 'efp', 'fortalecerar', 'participacion', 'comunidad', 'colaboracion', 'empresarial', 'mejora', 'fuerza', 'laboral', 'capacitacion', 'vocacional', 'traves', 'educacion', 'profesional', 'continuo', 'inversión', 'gran', 'escala', 'red', 'nacional', 'centro', 'capacitacion', 'practico', 'sectorial', 'proporcionar', 'instalación', 'ultimo', 'generacion', 'formacion', 'profesional', 'informacion', 'mejorado', 'resultado', 'mercado', 'laboral', 'traves', 'nuevo', 'sistema', 'informacion', 'recurso', 'humano', 'esfuerzo', 'aclarar', 'base', 'legal', 'aprendizaje', 'proporcionar', 'subsidio', 'empleador', 'empleador', 'poder', 'crear', 'mas', 'oportunidad', 'aprendizaje', 'evidenciar', 'preliminar', 'sugerir', 'poco', 'avance', 'aumentar', 'atractivo', 'efp', 'estudiante', 'empleador', 'implementar', 'sistema', 'seguimiento', 'recurso', 'humano', 'recientemente', 'autorizado', 'utilizar él', 'proporcionar', 'evidencia', 'beneficio', 'vet', 'futuro', 'estudiante', 'aumentar', 'capacidad', 'escolar', 'incentivo', 'formacion', 'aprendices', 'aclarar', 'alcance', 'incentivo', 'empleador', 'creacion', 'contrato', 'aprendizaje']",
         "['estan', 'realizando', 'esfuerzos', 'integrales', 'aumentar', 'atractivo', 'efp', 'incluidos', 'cambios', 'gobernanza', 'escuelas', 'efp', 'fortaleceran', 'participacion', 'comunidad', 'colaboracion', 'empresarial', 'mejoras', 'fuerza', 'laboral', 'capacitacion', 'vocacional', 'traves', 'educacion', 'profesional', 'continua', 'inversiones', 'gran', 'escala', 'red', 'nacional', 'centros', 'capacitacion', 'practica', 'sectorial', 'proporcionar', 'instalaciones', 'ultima', 'generacion', 'formacion', 'profesional', 'informacion', 'mejorada', 'resultados', 'mercado', 'laboral', 'traves', 'nuevo', 'sistema', 'informacion', 'recursos', 'humanos', 'esfuerzos', 'aclarar', 'base', 'legal', 'aprendizajes', 'proporcionar', 'subsidios', 'empleadores', 'empleadores', 'puedan', 'crear', 'mas', 'oportunidades', 'aprendizaje', 'evidencia', 'preliminar', 'sugiere', 'pocos', 'avances', 'aumentar', 'atractivo', 'efp', 'estudiantes', 'empleadores', 'implementar', 'sistema', 'seguimiento', 'recursos', 'humanos', 'recientemente', 'autorizado', 'utilizarlo', 'proporcionar', 'evidencia', 'beneficios', 'vet', 'futuros', 'estudiantes', 'aumentar', 'capacidad', 'escolar', 'incentivos', 'formacion', 'aprendices', 'aclarar', 'alcance', 'incentivos', 'empleadores', 'creacion', 'contratos', 'aprendizaje']"
        ],
        [
         "1830",
         "Los cursos suelen ser por la noche e incluyen temas generales, de gestión y temas teóricos y prácticos de formación profesional. Suiza ha abierto las Fachhochschulen a los graduados del sistema de aprendizaje dual a través de la creación de un examen de matriculación profesional específico (el Berufsmaturitat), que debe completarse en paralelo a un programa de aprendizaje, y proporcionando acceso a la educación terciaria: alrededor del 12 % de todos los aprendices graduados obtienen la Berufsmaturitat y representan la mitad de los estudiantes de las Fachhochschulen (Fazekas y Field, 2013a). (El acceso a Fachhochschulen también es posible mediante el reconocimiento del aprendizaje previo).",
         "4",
         "['curs', 'suel', 'ser', 'noch', 'inclu', 'tem', 'general', 'gestion', 'tem', 'teoric', 'practic', 'formacion', 'profesional', 'suiz', 'abiert', 'fachhochschul', 'gradu', 'sistem', 'aprendizaj', 'dual', 'trav', 'creacion', 'exam', 'matricul', 'profesional', 'especif', 'berufsmaturitat', 'deb', 'complet', 'paralel', 'program', 'aprendizaj', 'proporcion', 'acces', 'educ', 'terciari', 'alrededor', '12', 'aprendic', 'gradu', 'obtien', 'berufsmaturitat', 'represent', 'mit', 'estudi', 'fachhochschul', 'fazek', 'field', '2013a', 'acces', 'fachhochschul', 'tambi', 'posibl', 'mediant', 'reconoc', 'aprendizaj', 'previ', 'curso', 'soler', 'ser', 'noche', 'incluir', 'tema', 'general', 'gestion', 'tema', 'teorico', 'practico', 'formacion', 'profesional', 'suiza', 'abierto', 'fachhochschulen', 'graduado', 'sistema', 'aprendizaje', 'dual', 'traves', 'creacion', 'examir', 'matriculacion', 'profesional', 'especifico', 'berufsmaturitat', 'deber', 'completar él', 'paralelo', 'programa', 'aprendizaje', 'proporcionar', 'acceso', 'educacion', 'terciaria', 'alrededor', '12', 'aprendiz', 'graduado', 'obtienen', 'berufsmaturitat', 'representar', 'mitad', 'estudiante', 'fachhochschulen', 'fazekas', 'field', '2013a', 'acceso', 'fachhochschulir', 'tambien', 'posible', 'mediante', 'reconocimiento', 'aprendizaje', 'previo']",
         "['cursos', 'suelen', 'ser', 'noche', 'incluyen', 'temas', 'generales', 'gestion', 'temas', 'teoricos', 'practicos', 'formacion', 'profesional', 'suiza', 'abierto', 'fachhochschulen', 'graduados', 'sistema', 'aprendizaje', 'dual', 'traves', 'creacion', 'examen', 'matriculacion', 'profesional', 'especifico', 'berufsmaturitat', 'debe', 'completarse', 'paralelo', 'programa', 'aprendizaje', 'proporcionando', 'acceso', 'educacion', 'terciaria', 'alrededor', '12', 'aprendices', 'graduados', 'obtienen', 'berufsmaturitat', 'representan', 'mitad', 'estudiantes', 'fachhochschulen', 'fazekas', 'field', '2013a', 'acceso', 'fachhochschulen', 'tambien', 'posible', 'mediante', 'reconocimiento', 'aprendizaje', 'previo']"
        ],
        [
         "1970",
         "Cuando se considera la utilización de servicios psiquiátricos y otros servicios médicos en relación con el desempleo, se ha encontrado repetidamente que el desempleo, el subempleo y la discapacidad están estrechamente relacionados con el uso del servicio. Un análisis de todas las hospitalizaciones psiquiátricas en Suiza entre 2000 y 2004 mostró un riesgo de hospitalización de hasta 17 veces para las personas desempleadas en comparación con los pacientes empleados a tiempo completo (Kuhl y Herdt, 2007). En este análisis, la diferencia relacionada con el trabajo en los días de hospitalización es sustancial.",
         "3",
         "['consider', 'utiliz', 'servici', 'psiquiatr', 'servici', 'medic', 'relacion', 'desemple', 'encontr', 'repetid', 'desemple', 'subemple', 'discapac', 'estan', 'estrech', 'relacion', 'uso', 'servici', 'analisis', 'tod', 'hospitaliz', 'psiquiatr', 'suiz', '2000', '2004', 'mostr', 'riesg', 'hospitaliz', '17', 'vec', 'person', 'desempl', 'compar', 'pacient', 'emple', 'tiemp', 'complet', 'kuhl', 'herdt', '2007', 'analisis', 'diferent', 'relacion', 'trabaj', 'dias', 'hospitaliz', 'sustancial', 'considerar', 'utilizacion', 'servicio', 'psiquiatrico', 'servicio', 'medico', 'relacion', 'desempleo', 'encontrado', 'repetidamente', 'desempleo', 'subempleo', 'discapacidad', 'estar', 'estrechamente', 'relacionado', 'uso', 'servicio', 'analisis', 'todo', 'hospitalización', 'psiquiatrica', 'suizo', '2000', '2004', 'mostro', 'riesgo', 'hospitalizacion', '17', 'vez', 'persona', 'desempleado', 'comparacion', 'paciente', 'empleado', 'tiempo', 'completo', 'kuhl', 'herdt', '2007', 'analisis', 'diferenciar', 'relacionado', 'trabajo', 'dia', 'hospitalizacion', 'sustancial']",
         "['considera', 'utilizacion', 'servicios', 'psiquiatricos', 'servicios', 'medicos', 'relacion', 'desempleo', 'encontrado', 'repetidamente', 'desempleo', 'subempleo', 'discapacidad', 'estan', 'estrechamente', 'relacionados', 'uso', 'servicio', 'analisis', 'todas', 'hospitalizaciones', 'psiquiatricas', 'suiza', '2000', '2004', 'mostro', 'riesgo', 'hospitalizacion', '17', 'veces', 'personas', 'desempleadas', 'comparacion', 'pacientes', 'empleados', 'tiempo', 'completo', 'kuhl', 'herdt', '2007', 'analisis', 'diferencia', 'relacionada', 'trabajo', 'dias', 'hospitalizacion', 'sustancial']"
        ],
        [
         "2061",
         "Esto exige la adopción de responsabilidades claras para la financiación de inversiones que tengan más en cuenta el panorama general. Se reduce cuando intervienen varios niveles de gobierno en las decisiones clave en materia de asistencia sanitaria, como ocurre, por ejemplo, con la financiación de la construcción de nuevos hospitales y el equipamiento de alto coste en varios países, entre ellos Polonia (OCDE, 2010a). Según Zukowski, la NFZ debería desempeñar ese papel de coordinación, incluida la planificación de las necesidades a largo plazo, la prevención y la supervisión financiera y de calidad.",
         "3",
         "['exig', 'adopcion', 'respons', 'clar', 'financi', 'inversion', 'mas', 'cuent', 'panoram', 'general', 'reduc', 'intervien', 'vari', 'nivel', 'gobiern', 'decision', 'clav', 'materi', 'asistent', 'sanitari', 'ocurr', 'ejempl', 'financi', 'construccion', 'nuev', 'hospital', 'equip', 'alto', 'cost', 'vari', 'pais', 'poloni', 'ocde', '2010a', 'segun', 'zukowski', 'nfz', 'deberi', 'desempen', 'papel', 'coordin', 'inclu', 'planif', 'neces', 'larg', 'plaz', 'prevencion', 'supervision', 'financ', 'calid', 'exigir', 'adopcion', 'responsabilidad', 'claro', 'financiacion', 'inversión', 'mas', 'contar', 'panorama', 'general', 'reducir', 'intervenir', 'varios', 'nivel', 'gobierno', 'decisión', 'clave', 'materia', 'asistencia', 'sanitario', 'ocurrir', 'ejemplo', 'financiacion', 'construccion', 'nuevo', 'hospital', 'equipamiento', 'alto', 'coste', 'varios', 'país', 'polonia', 'ocde', '2010a', 'segun', 'zukowski', 'nfz', 'deberio', 'desempenar', 'papel', 'coordinacion', 'incluido', 'planificacion', 'necesidad', 'largo', 'plazo', 'prevencion', 'supervision', 'financiero', 'calidad']",
         "['exige', 'adopcion', 'responsabilidades', 'claras', 'financiacion', 'inversiones', 'mas', 'cuenta', 'panorama', 'general', 'reduce', 'intervienen', 'varios', 'niveles', 'gobierno', 'decisiones', 'clave', 'materia', 'asistencia', 'sanitaria', 'ocurre', 'ejemplo', 'financiacion', 'construccion', 'nuevos', 'hospitales', 'equipamiento', 'alto', 'coste', 'varios', 'paises', 'polonia', 'ocde', '2010a', 'segun', 'zukowski', 'nfz', 'deberia', 'desempenar', 'papel', 'coordinacion', 'incluida', 'planificacion', 'necesidades', 'largo', 'plazo', 'prevencion', 'supervision', 'financiera', 'calidad']"
        ],
        [
         "461",
         "La Estrategia para las microrregiones, introducida en 2001, ha mejorado los esfuerzos de coordinación ministerial para ayudar a un número seleccionado de regiones rurales caracterizadas por altos niveles de marginación. La estrategia contempla una combinación de medidas que combinan la atención de la emergencia social, la mejora de la infraestructura de los servicios públicos y básicos como la salud, la educación, la electricidad y el agua, la mejora de la vivienda y el apoyo a la competitividad de las actividades locales. Se ha puesto especial énfasis en los 125 municipios más pobres del país, muchos de los cuales tienen una alta proporción de población indígena. El Programa para el Desarrollo de Zonas Prioritarias ha sido la principal iniciativa de la estrategia de la microrregión.",
         "1",
         "['estrategi', 'microrregion', 'introduc', '2001', 'mejor', 'esfuerz', 'coordin', 'ministerial', 'ayud', 'numer', 'seleccion', 'region', 'rural', 'caracteriz', 'altos', 'nivel', 'margin', 'estrategi', 'contempl', 'combin', 'med', 'combin', 'atencion', 'emergent', 'social', 'mejor', 'infraestructur', 'servici', 'public', 'basic', 'salud', 'educ', 'electr', 'agu', 'mejor', 'viviend', 'apoy', 'competit', 'activ', 'local', 'puest', 'especial', 'enfasis', '125', 'municipi', 'mas', 'pobr', 'pais', 'cual', 'alta', 'proporcion', 'poblacion', 'indigen', 'program', 'desarroll', 'zon', 'prioritari', 'sid', 'principal', 'inici', 'estrategi', 'microrregion', 'estrategia', 'microrregiones', 'introducido', '2001', 'mejorado', 'esfuerzo', 'coordinacion', 'ministerial', 'ayudar', 'numero', 'seleccionado', 'región', 'rural', 'caracterizado', 'alto', 'nivel', 'marginacion', 'estrategia', 'contemplar', 'combinacion', 'medida', 'combinar', 'atencion', 'emergencia', 'social', 'mejora', 'infraestructuro', 'servicio', 'publico', 'basico', 'salud', 'educacion', 'electricidad', 'agua', 'mejor', 'viviendo', 'apoyo', 'competitividad', 'actividad', 'local', 'puesto', 'especial', 'enfasis', '125', 'municipio', 'mas', 'pobre', 'pais', 'cual', 'altar', 'proporcion', 'poblacion', 'indigén', 'programa', 'desarrollo', 'zona', 'prioritario', 'ser', 'principal', 'iniciativo', 'estrategia', 'microrregion']",
         "['estrategia', 'microrregiones', 'introducida', '2001', 'mejorado', 'esfuerzos', 'coordinacion', 'ministerial', 'ayudar', 'numero', 'seleccionado', 'regiones', 'rurales', 'caracterizadas', 'altos', 'niveles', 'marginacion', 'estrategia', 'contempla', 'combinacion', 'medidas', 'combinan', 'atencion', 'emergencia', 'social', 'mejora', 'infraestructura', 'servicios', 'publicos', 'basicos', 'salud', 'educacion', 'electricidad', 'agua', 'mejora', 'vivienda', 'apoyo', 'competitividad', 'actividades', 'locales', 'puesto', 'especial', 'enfasis', '125', 'municipios', 'mas', 'pobres', 'pais', 'cuales', 'alta', 'proporcion', 'poblacion', 'indigena', 'programa', 'desarrollo', 'zonas', 'prioritarias', 'sido', 'principal', 'iniciativa', 'estrategia', 'microrregion']"
        ],
        [
         "2090",
         "El sistema inglés de atención a la salud mental, que opera predominantemente bajo el Servicio Nacional de Salud, pero también bajo Salud Pública de Inglaterra y junto a las Autoridades Locales gubernamentales, se compone de atención primaria y especializada (\"atención secundaria\" y \"atención terciaria\"), y atención social. Es probable que la atención integral de la salud mental incluya también cierta intervención de los servicios de atención social, tanto de los servicios financiados y gestionados por Public Health England como de los servicios sociales locales gestionados por las Autoridades Locales. Los servicios de atención de salud mental financiados por el gobierno y gestionados por el estado se complementan a veces con servicios voluntarios y con servicios privados pagados por el NHS, especialmente para la atención de seguridad media y baja (véanse la sección 3.2 y la sección 4.3.ii).",
         "3",
         "['sistem', 'ingles', 'atencion', 'salud', 'mental', 'oper', 'predomin', 'baj', 'servici', 'nacional', 'salud', 'tambi', 'baj', 'salud', 'public', 'inglaterr', 'junt', 'autor', 'local', 'gubernamental', 'compon', 'atencion', 'primari', 'especializ', 'atencion', 'secundari', 'atencion', 'terciari', 'atencion', 'social', 'probabl', 'atencion', 'integral', 'salud', 'mental', 'inclu', 'tambi', 'ciert', 'intervencion', 'servici', 'atencion', 'social', 'servici', 'financi', 'gestion', 'public', 'health', 'england', 'servici', 'social', 'local', 'gestion', 'autor', 'local', 'servici', 'atencion', 'salud', 'mental', 'financi', 'gobiern', 'gestion', 'complement', 'vec', 'servici', 'voluntari', 'servici', 'priv', 'pag', 'nhs', 'especial', 'atencion', 'segur', 'medi', 'baj', 'veans', 'seccion', '32', 'seccion', '43ii', 'sistema', 'ingl', 'atencion', 'salud', 'mental', 'operar', 'predominantemente', 'bajo', 'servicio', 'nacional', 'salud', 'tambien', 'bajo', 'salud', 'publicar', 'inglaterra', 'junto', 'autoridad', 'local', 'gubernamental', 'componer', 'atencion', 'primario', 'especializado', 'atencion', 'secundaria', 'atencion', 'terciaria', 'atencion', 'social', 'probable', 'atencion', 'integral', 'salud', 'mental', 'incluir', 'tambien', 'cierto', 'intervencion', 'servicios', 'atencion', 'social', 'servicio', 'financiado', 'gestionado', 'public', 'health', 'england', 'servicio', 'social', 'local', 'gestionado', 'autoridad', 'local', 'servicio', 'atencion', 'salud', 'mental', 'financiado', 'gobierno', 'gestionado', 'complementar', 'vez', 'servicio', 'voluntario', 'servicio', 'privado', 'pagado', 'nhs', 'especialmente', 'atencion', 'seguridad', 'medio', 'baja', 'veanse', 'seccion', '32', 'seccion', '43ii']",
         "['sistema', 'ingles', 'atencion', 'salud', 'mental', 'opera', 'predominantemente', 'bajo', 'servicio', 'nacional', 'salud', 'tambien', 'bajo', 'salud', 'publica', 'inglaterra', 'junto', 'autoridades', 'locales', 'gubernamentales', 'compone', 'atencion', 'primaria', 'especializada', 'atencion', 'secundaria', 'atencion', 'terciaria', 'atencion', 'social', 'probable', 'atencion', 'integral', 'salud', 'mental', 'incluya', 'tambien', 'cierta', 'intervencion', 'servicios', 'atencion', 'social', 'servicios', 'financiados', 'gestionados', 'public', 'health', 'england', 'servicios', 'sociales', 'locales', 'gestionados', 'autoridades', 'locales', 'servicios', 'atencion', 'salud', 'mental', 'financiados', 'gobierno', 'gestionados', 'complementan', 'veces', 'servicios', 'voluntarios', 'servicios', 'privados', 'pagados', 'nhs', 'especialmente', 'atencion', 'seguridad', 'media', 'baja', 'veanse', 'seccion', '32', 'seccion', '43ii']"
        ],
        [
         "1068",
         "Un análisis de estudios de cohortes británicos (Bynner y Parsons, 2006) encontró que una vez que las personas eran conscientes de las debilidades en sus habilidades básicas, tendían a interesarse en mejorarlas. Esto está en línea con un estudio anterior de estudiantes de Educación Superior (FE, por sus siglas en inglés) (Basic Skills Agency, 1997), que encontró que una barrera importante para aceptar el apoyo de habilidades básicas era que muchas personas no sabían que las habilidades básicas eran esenciales para el finalización exitosa de su curso. Por el contrario, algunos de los que saben que tienen problemas de lectoescritura y aritmética son reacios a admitirlo.",
         "4",
         "['analisis', 'estudi', 'cohort', 'britan', 'bynner', 'parsons', '2006', 'encontr', 'vez', 'person', 'conscient', 'debil', 'habil', 'basic', 'tendi', 'interes', 'mejor', 'line', 'estudi', 'anterior', 'estudi', 'educ', 'superior', 'fe', 'sigl', 'ingles', 'basic', 'skills', 'agency', '1997', 'encontr', 'barrer', 'import', 'acept', 'apoy', 'habil', 'basic', 'much', 'person', 'sabi', 'habil', 'basic', 'esencial', 'finaliz', 'exit', 'curs', 'contrari', 'sab', 'problem', 'lectoescritur', 'aritmet', 'reaci', 'admit', 'analisis', 'estudio', 'cohort', 'britanico', 'bynner', 'parsons', '2006', 'encontro', 'vez', 'persona', 'consciente', 'debilidad', 'habilidades', 'basica', 'tendiar', 'interesar él', 'mejorarla', 'line', 'estudio', 'anterior', 'estudiante', 'educacion', 'superior', 'fe', 'sigla', 'ingl', 'basic', 'skills', 'agency', '1997', 'encontro', 'barrera', 'importante', 'aceptar', 'apoyo', 'habilidad', 'basica', 'mucho', 'persona', 'sabiar', 'habilidad', 'basica', 'esencial', 'finalizacion', 'exitoso', 'curso', 'contrario', 'saber', 'problema', 'lectoescritura', 'aritmetico', 'reacio', 'admitir él']",
         "['analisis', 'estudios', 'cohortes', 'britanicos', 'bynner', 'parsons', '2006', 'encontro', 'vez', 'personas', 'conscientes', 'debilidades', 'habilidades', 'basicas', 'tendian', 'interesarse', 'mejorarlas', 'linea', 'estudio', 'anterior', 'estudiantes', 'educacion', 'superior', 'fe', 'siglas', 'ingles', 'basic', 'skills', 'agency', '1997', 'encontro', 'barrera', 'importante', 'aceptar', 'apoyo', 'habilidades', 'basicas', 'muchas', 'personas', 'sabian', 'habilidades', 'basicas', 'esenciales', 'finalizacion', 'exitosa', 'curso', 'contrario', 'saben', 'problemas', 'lectoescritura', 'aritmetica', 'reacios', 'admitirlo']"
        ],
        [
         "2226",
         "Dos tercios del gasto en salud se financian con fondos públicos, pero la proporción del gasto de bolsillo ha aumentado. Sin embargo, una gama de exenciones de copago garantiza la protección financiera y la asequibilidad de los servicios para los grupos vulnerables. Portugal tiene una de las tasas de ingresos hospitalarios evitables más bajas de la UE.",
         "3",
         "['dos', 'terci', 'gast', 'salud', 'financi', 'fond', 'public', 'proporcion', 'gast', 'bolsill', 'aument', 'embarg', 'gam', 'exencion', 'copag', 'garantiz', 'proteccion', 'financ', 'asequibil', 'servici', 'grup', 'vulner', 'portugal', 'tas', 'ingres', 'hospitalari', 'evit', 'mas', 'baj', 'ue', 'dos', 'tercio', 'gasto', 'salud', 'financiar', 'fondo', 'publico', 'proporcion', 'gasto', 'bolsillo', 'aumentado', 'embargo', 'gamar', 'exención', 'copago', 'garantizar', 'proteccion', 'financiero', 'asequibilidad', 'servicio', 'grupo', 'vulnerable', 'portugal', 'tasa', 'ingreso', 'hospitalario', 'evitabl', 'mas', 'bajo', 'ue']",
         "['dos', 'tercios', 'gasto', 'salud', 'financian', 'fondos', 'publicos', 'proporcion', 'gasto', 'bolsillo', 'aumentado', 'embargo', 'gama', 'exenciones', 'copago', 'garantiza', 'proteccion', 'financiera', 'asequibilidad', 'servicios', 'grupos', 'vulnerables', 'portugal', 'tasas', 'ingresos', 'hospitalarios', 'evitables', 'mas', 'bajas', 'ue']"
        ],
        [
         "1195",
         "Esto incluye los costos directos de los servicios, la pérdida de productividad en el trabajo y la reducción de la calidad de vida. El coste de una mala salud mental para las empresas es de poco más de 1000 libras esterlinas por empleado al año, o casi 26 000 millones de libras esterlinas en toda la economía del Reino Unido (Centro de Salud Mental, 2010). Para los períodos anteriores a 2011, se entenderá por autoridades comisionantes los Fideicomisos de Atención Primaria, dependientes de Autoridades Estratégicas de Salud.",
         "3",
         "['inclu', 'cost', 'direct', 'servici', 'perd', 'product', 'trabaj', 'reduccion', 'calid', 'vid', 'cost', 'mal', 'salud', 'mental', 'empres', 'mas', '1000', 'libr', 'esterlin', 'emple', 'ano', 'casi', '26', '000', 'millon', 'libr', 'esterlin', 'tod', 'economi', 'rein', 'unid', 'centr', 'salud', 'mental', '2010', 'period', 'anterior', '2011', 'entender', 'autor', 'comision', 'fideicomis', 'atencion', 'primari', 'dependient', 'autor', 'estrateg', 'salud', 'incluir', 'costo', 'directo', 'servicio', 'perdido', 'productividad', 'trabajo', 'reduccion', 'calidad', 'vida', 'coste', 'malo', 'salud', 'mental', 'empresa', 'mas', '1000', 'libros', 'esterlina', 'empleado', 'ano', 'casi', '26', '000', 'millón', 'libra', 'esterlina', 'todo', 'economia', 'reino', 'unido', 'centro', 'salud', 'mental', '2010', 'periodo', 'anterior', '2011', 'entendera', 'autoridad', 'comisionant', 'fideicomiso', 'atencion', 'primaria', 'dependiente', 'autoridad', 'estrategica', 'salud']",
         "['incluye', 'costos', 'directos', 'servicios', 'perdida', 'productividad', 'trabajo', 'reduccion', 'calidad', 'vida', 'coste', 'mala', 'salud', 'mental', 'empresas', 'mas', '1000', 'libras', 'esterlinas', 'empleado', 'ano', 'casi', '26', '000', 'millones', 'libras', 'esterlinas', 'toda', 'economia', 'reino', 'unido', 'centro', 'salud', 'mental', '2010', 'periodos', 'anteriores', '2011', 'entendera', 'autoridades', 'comisionantes', 'fideicomisos', 'atencion', 'primaria', 'dependientes', 'autoridades', 'estrategicas', 'salud']"
        ],
        [
         "1524",
         "Ambas condiciones son importantes para el estado de salud actual y, más aún, como predictores de condiciones médicas en el futuro. El sobrepeso y la obesidad no se mantuvieron como indicadores primarios ya que se refieren a resultados de salud que no son necesariamente graves, pero dado que se sabe que son factores de riesgo importantes para enfermedades graves, como hipertensión, colesterol alto, diabetes, enfermedades cardiovasculares, problemas respiratorios (asma ), enfermedades musculoesqueléticas (artritis) y muchas otras, se mantuvieron como indicadores secundarios. Una advertencia sobre el uso de indicadores de sobrepeso y obesidad es que las asociaciones entre estos indicadores, los porcentajes de grasa corporal y los riesgos para la salud pueden diferir para algunos grupos étnicos y poblaciones.",
         "3",
         "['ambas', 'condicion', 'import', 'salud', 'actual', 'mas', 'aun', 'predictor', 'condicion', 'medic', 'futur', 'sobrepes', 'obes', 'mantuv', 'indic', 'primari', 'refier', 'result', 'salud', 'necesari', 'grav', 'dad', 'sab', 'factor', 'riesg', 'import', 'enfermedad', 'grav', 'hipertension', 'colesterol', 'alto', 'diabet', 'enfermedad', 'cardiovascular', 'problem', 'respiratori', 'asma', 'enfermedad', 'musculoesquelet', 'artritis', 'much', 'mantuv', 'indic', 'secundari', 'advertent', 'uso', 'indic', 'sobrepes', 'obes', 'asoci', 'indic', 'porcentaj', 'gras', 'corporal', 'riesg', 'salud', 'pued', 'difer', 'grup', 'etnic', 'poblacion', 'ambos', 'condición', 'importante', 'salud', 'actual', 'mas', 'aun', 'predictor', 'condición', 'medica', 'futuro', 'sobrepeso', 'obesidad', 'mantener', 'indicador', 'primario', 'referir', 'resultado', 'salud', 'necesariamente', 'grave', 'dado', 'saber', 'factor', 'riesgo', 'importante', 'enfermedad', 'grave', 'hipertension', 'colesterol', 'alto', 'diabet', 'enfermedad', 'cardiovascular', 'problema', 'respiratorio', 'asma', 'enfermedad', 'musculoesqueletica', 'artritis', 'mucho', 'mantener', 'indicador', 'secundario', 'advertencia', 'uso', 'indicador', 'sobrepeso', 'obesidad', 'asociación', 'indicador', 'porcentaj', 'grasar', 'corporal', 'riesgo', 'salud', 'poder', 'diferir', 'grupo', 'etnico', 'población']",
         "['ambas', 'condiciones', 'importantes', 'salud', 'actual', 'mas', 'aun', 'predictores', 'condiciones', 'medicas', 'futuro', 'sobrepeso', 'obesidad', 'mantuvieron', 'indicadores', 'primarios', 'refieren', 'resultados', 'salud', 'necesariamente', 'graves', 'dado', 'sabe', 'factores', 'riesgo', 'importantes', 'enfermedades', 'graves', 'hipertension', 'colesterol', 'alto', 'diabetes', 'enfermedades', 'cardiovasculares', 'problemas', 'respiratorios', 'asma', 'enfermedades', 'musculoesqueleticas', 'artritis', 'muchas', 'mantuvieron', 'indicadores', 'secundarios', 'advertencia', 'uso', 'indicadores', 'sobrepeso', 'obesidad', 'asociaciones', 'indicadores', 'porcentajes', 'grasa', 'corporal', 'riesgos', 'salud', 'pueden', 'diferir', 'grupos', 'etnicos', 'poblaciones']"
        ],
        [
         "2180",
         "Sin embargo, hay muchos obstáculos. El Consejo de Educación Superior prohíbe el reconocimiento de carreras técnicas como las que ofrece el INA en casi todas las universidades a excepción de la Universidad Técnica Nacional (INA, 2014). Sus objetivos son: coordinar la actividad de las instituciones de formación y atender las necesidades del sector productivo, promover la educación técnica, colaborar en la atracción de inversiones de alta tecnología y asesorar al gobierno en el campo de la educación técnica ( eurodiputado, 2014:27).",
         "4",
         "['embarg', 'obstacul', 'consej', 'educ', 'superior', 'prohib', 'reconoc', 'carrer', 'tecnic', 'ofrec', 'ina', 'casi', 'tod', 'univers', 'excepcion', 'univers', 'tecnic', 'nacional', 'ina', '2014', 'objet', 'coordin', 'activ', 'institu', 'formacion', 'atend', 'neces', 'sector', 'product', 'promov', 'educ', 'tecnic', 'colabor', 'atraccion', 'inversion', 'alta', 'tecnologi', 'asesor', 'gobiern', 'camp', 'educ', 'tecnic', 'eurodiput', '201427', 'embargo', 'obstaculo', 'consejo', 'educacion', 'superior', 'prohibir', 'reconocimiento', 'carrera', 'tecnica', 'ofrecer', 'ina', 'casi', 'todo', 'universidades', 'excepcion', 'universidad', 'tecnico', 'nacional', 'ina', '2014', 'objetivo', 'coordinar', 'actividad', 'institución', 'formacion', 'atender', 'necesidad', 'sector', 'productivo', 'promover', 'educacion', 'tecnico', 'colaborar', 'atraccion', 'inversión', 'alto', 'tecnologia', 'asesorar', 'gobierno', 'campo', 'educacion', 'tecnico', 'eurodiputado', '201427']",
         "['embargo', 'obstaculos', 'consejo', 'educacion', 'superior', 'prohibe', 'reconocimiento', 'carreras', 'tecnicas', 'ofrece', 'ina', 'casi', 'todas', 'universidades', 'excepcion', 'universidad', 'tecnica', 'nacional', 'ina', '2014', 'objetivos', 'coordinar', 'actividad', 'instituciones', 'formacion', 'atender', 'necesidades', 'sector', 'productivo', 'promover', 'educacion', 'tecnica', 'colaborar', 'atraccion', 'inversiones', 'alta', 'tecnologia', 'asesorar', 'gobierno', 'campo', 'educacion', 'tecnica', 'eurodiputado', '201427']"
        ],
        [
         "1552",
         "El cuarto ODS tiene como objetivo \"Garantizar una educación de calidad inclusiva y equitativa y promover oportunidades de aprendizaje permanente para todos\". un planeta sostenible, próspero y equitativo que el incumplimiento de este ODS en particular pone en riesgo el logro de los 17 ODS en su conjunto.",
         "4",
         "['cuart', 'ods', 'objet', 'garantiz', 'educ', 'calid', 'inclus', 'equit', 'promov', 'oportun', 'aprendizaj', 'permanent', 'planet', 'sosten', 'prosper', 'equit', 'incumpl', 'ods', 'particul', 'pon', 'riesg', 'logr', '17', 'ods', 'conjunt', 'cuarto', 'ods', 'objetivo', 'garantizar', 'educacion', 'calidad', 'inclusivo', 'equitativo', 'promover', 'oportunidad', 'aprendizaje', 'permanente', 'planeta', 'sostenible', 'prospero', 'equitativo', 'incumplimiento', 'ods', 'particular', 'poner', 'riesgo', 'logro', '17', 'ods', 'conjunto']",
         "['cuarto', 'ods', 'objetivo', 'garantizar', 'educacion', 'calidad', 'inclusiva', 'equitativa', 'promover', 'oportunidades', 'aprendizaje', 'permanente', 'planeta', 'sostenible', 'prospero', 'equitativo', 'incumplimiento', 'ods', 'particular', 'pone', 'riesgo', 'logro', '17', 'ods', 'conjunto']"
        ],
        [
         "2182",
         "Este aumento coincidió con un aumento de los ingresos de los grupos con rentas más bajas, que se tradujo en una reducción de la pobreza relativa (gráfico 3.3). El gasto en ayudas a la vivienda y a los servicios públicos, sujetas a la comprobación de los ingresos, destinadas a las familias con ingresos inferiores al nivel de subsistencia ascendió únicamente al 0,2% del PIB (una fracción de todo el gasto en ayudas a la vivienda, véase más arriba), mientras que el gasto en ayudas a los desempleados fue incluso inferior en 2008, aunque dichas ayudas aumentaron en 2009 (Capítulo 2). El limitado gasto en prestaciones familiares y, en general, en la población pobre en edad de trabajar se refleja en unas tasas de pobreza relativamente más elevadas entre los niños y los jóvenes (las pensiones sociales y los complementos a las pensiones sociales que también pueden pagarse, por ejemplo, a los discapacitados, se tratan en el Capítulo 4). No se dispone de datos exhaustivos sobre otras ayudas sociales a la población en edad de trabajar en todas las regiones, pero los datos disponibles sugieren que ese gasto tampoco es elevado.",
         "1",
         "['aument', 'coincidi', 'aument', 'ingres', 'grup', 'rent', 'mas', 'baj', 'traduj', 'reduccion', 'pobrez', 'relat', 'grafic', '33', 'gast', 'ayud', 'viviend', 'servici', 'public', 'sujet', 'comprob', 'ingres', 'destin', 'famili', 'ingres', 'inferior', 'nivel', 'subsistent', 'ascendi', 'unic', '02', 'pib', 'fraccion', 'gast', 'ayud', 'viviend', 'veas', 'mas', 'arrib', 'mientr', 'gast', 'ayud', 'desempl', 'inclus', 'inferior', '2008', 'aunqu', 'dich', 'ayud', 'aument', '2009', 'capitul', '2', 'limit', 'gast', 'prestacion', 'familiar', 'general', 'poblacion', 'pobr', 'edad', 'trabaj', 'reflej', 'unas', 'tas', 'pobrez', 'relat', 'mas', 'elev', 'nin', 'joven', 'pension', 'social', 'complement', 'pension', 'social', 'tambi', 'pued', 'pag', 'ejempl', 'discapacit', 'trat', 'capitul', '4', 'dispon', 'dat', 'exhaust', 'ayud', 'social', 'poblacion', 'edad', 'trabaj', 'tod', 'region', 'dat', 'dispon', 'sugier', 'gast', 'tampoc', 'elev', 'aumento', 'coincidio', 'aumento', 'ingreso', 'grupo', 'renta', 'mas', 'bajo', 'traducir', 'reduccion', 'pobreza', 'relativo', 'grafico', '33', 'gasto', 'ayuda', 'vivienda', 'servicio', 'publico', 'sujeto', 'comprobacion', 'ingreso', 'destinado', 'familia', 'ingreso', 'inferior', 'nivel', 'subsistenciar', 'ascendio', 'unicamente', '02', 'pib', 'fraccion', 'gasto', 'ayuda', 'vivienda', 'vear', 'mas', 'arriba', 'mientras', 'gasto', 'ayuda', 'desempleado', 'incluso', 'inferior', '2008', 'aunque', 'dicho', 'ayuda', 'aumentar', '2009', 'capitulo', '2', 'limitado', 'gasto', 'prestación', 'familiar', 'general', 'poblacion', 'pobre', 'edad', 'trabajar', 'reflejar', 'uno', 'tasa', 'pobreza', 'relativamente', 'mas', 'elevado', 'nino', 'joven', 'pensión', 'social', 'complemento', 'pensión', 'social', 'tambien', 'poder', 'pagar él', 'ejemplo', 'discapacitado', 'tratar', 'capitulo', '4', 'disponer', 'dato', 'exhaustivo', 'ayuda', 'social', 'poblacion', 'edad', 'trabajar', 'todo', 'región', 'dato', 'disponible', 'sugerir', 'gasto', 'tampoco', 'elevado']",
         "['aumento', 'coincidio', 'aumento', 'ingresos', 'grupos', 'rentas', 'mas', 'bajas', 'tradujo', 'reduccion', 'pobreza', 'relativa', 'grafico', '33', 'gasto', 'ayudas', 'vivienda', 'servicios', 'publicos', 'sujetas', 'comprobacion', 'ingresos', 'destinadas', 'familias', 'ingresos', 'inferiores', 'nivel', 'subsistencia', 'ascendio', 'unicamente', '02', 'pib', 'fraccion', 'gasto', 'ayudas', 'vivienda', 'vease', 'mas', 'arriba', 'mientras', 'gasto', 'ayudas', 'desempleados', 'incluso', 'inferior', '2008', 'aunque', 'dichas', 'ayudas', 'aumentaron', '2009', 'capitulo', '2', 'limitado', 'gasto', 'prestaciones', 'familiares', 'general', 'poblacion', 'pobre', 'edad', 'trabajar', 'refleja', 'unas', 'tasas', 'pobreza', 'relativamente', 'mas', 'elevadas', 'ninos', 'jovenes', 'pensiones', 'sociales', 'complementos', 'pensiones', 'sociales', 'tambien', 'pueden', 'pagarse', 'ejemplo', 'discapacitados', 'tratan', 'capitulo', '4', 'dispone', 'datos', 'exhaustivos', 'ayudas', 'sociales', 'poblacion', 'edad', 'trabajar', 'todas', 'regiones', 'datos', 'disponibles', 'sugieren', 'gasto', 'tampoco', 'elevado']"
        ],
        [
         "1923",
         "Al hacerlo, también ayuda a las escuelas a retener maestros efectivos y hace que la docencia sea una opción profesional atractiva. Si bien la investigación ha producido resultados mixtos, parece haber acuerdo en que el diseño y la implementación de recompensas basadas en el desempeño son cruciales para su éxito. Los desafíos incluyen desarrollar indicadores de desempeño justos y confiables, capacitar a los evaluadores para que apliquen estos indicadores de manera justa y articular cómo y con qué criterios se evalúa a los maestros. Las autoridades de Creek deben proseguir con su iniciativa de evaluación escolar y todas las unidades escolares deben participar en este proceso.",
         "4",
         "['hac', 'tambi', 'ayud', 'escuel', 'reten', 'maestr', 'efect', 'hac', 'docenci', 'opcion', 'profesional', 'atract', 'si', 'bien', 'investig', 'produc', 'result', 'mixt', 'parec', 'hab', 'acuerd', 'disen', 'implement', 'recompens', 'bas', 'desempen', 'crucial', 'exit', 'desafi', 'inclu', 'desarroll', 'indic', 'desempen', 'just', 'confiabl', 'capacit', 'evalu', 'apliqu', 'indic', 'maner', 'just', 'articul', 'criteri', 'evalu', 'maestr', 'autor', 'creek', 'deb', 'prosegu', 'inici', 'evalu', 'escol', 'tod', 'unidad', 'escolar', 'deb', 'particip', 'proces', 'hacer él', 'tambien', 'ayuda', 'escuela', 'retener', 'maestro', 'efectivo', 'hacer', 'docencia', 'opcion', 'profesional', 'atractivo', 'si', 'bien', 'investigacion', 'producido', 'resultado', 'mixto', 'parecer', 'haber', 'acuerdo', 'diseno', 'implementacion', 'recompensa', 'basado', 'desempeno', 'crucial', 'exito', 'desafio', 'incluir', 'desarrollar', 'indicador', 'desempeno', 'justos', 'confiable', 'capacitar', 'evaluador', 'aplicar', 'indicador', 'manera', 'justo', 'articular', 'criterio', 'evalua', 'maestros', 'autoridades', 'creek', 'deber', 'proseguir', 'iniciativo', 'evaluacion', 'escolar', 'todo', 'unidad', 'escolar', 'deber', 'participar', 'proceso']",
         "['hacerlo', 'tambien', 'ayuda', 'escuelas', 'retener', 'maestros', 'efectivos', 'hace', 'docencia', 'opcion', 'profesional', 'atractiva', 'si', 'bien', 'investigacion', 'producido', 'resultados', 'mixtos', 'parece', 'haber', 'acuerdo', 'diseno', 'implementacion', 'recompensas', 'basadas', 'desempeno', 'cruciales', 'exito', 'desafios', 'incluyen', 'desarrollar', 'indicadores', 'desempeno', 'justos', 'confiables', 'capacitar', 'evaluadores', 'apliquen', 'indicadores', 'manera', 'justa', 'articular', 'criterios', 'evalua', 'maestros', 'autoridades', 'creek', 'deben', 'proseguir', 'iniciativa', 'evaluacion', 'escolar', 'todas', 'unidades', 'escolares', 'deben', 'participar', 'proceso']"
        ],
        [
         "1565",
         "El objetivo es colaborar más estrechamente con los socios comunitarios para atender las diversas necesidades de las familias necesitadas de apoyo. El programa se está ampliando a otras 15 comunidades y organizaciones de toda la provincia. Varios de los profesores con los que nos reunimos hablaron de la tensión a la que se ven sometidos en entornos aislados y de la creciente atención que se presta a la salud mental y física de los docentes. Uno de los enfoques que se está desarrollando es el programa Mindfulness, accesible en línea para todos los profesores.",
         "4",
         "['objet', 'colabor', 'mas', 'estrech', 'soci', 'comunitari', 'atend', 'divers', 'neces', 'famili', 'necesit', 'apoy', 'program', 'ampli', '15', 'comun', 'organiz', 'tod', 'provinci', 'vari', 'profesor', 'reun', 'habl', 'tension', 'ven', 'somet', 'entorn', 'aisl', 'crecient', 'atencion', 'prest', 'salud', 'mental', 'fisic', 'docent', 'enfoqu', 'desarroll', 'program', 'mindfulness', 'acces', 'line', 'profesor', 'objetivo', 'colaborar', 'mas', 'estrechamente', 'socio', 'comunitario', 'atender', 'diverso', 'necesidad', 'familia', 'necesitado', 'apoyo', 'programa', 'ampliar', '15', 'comunidad', 'organización', 'todo', 'provincia', 'varios', 'profesor', 'reunir', 'hablar', 'tension', 'ver', 'sometido', 'entorno', 'aislado', 'creciente', 'atencion', 'prestar', 'salud', 'mental', 'fisico', 'docente', 'enfoque', 'desarrollar', 'programa', 'mindfulness', 'accesible', 'linea', 'profesor']",
         "['objetivo', 'colaborar', 'mas', 'estrechamente', 'socios', 'comunitarios', 'atender', 'diversas', 'necesidades', 'familias', 'necesitadas', 'apoyo', 'programa', 'ampliando', '15', 'comunidades', 'organizaciones', 'toda', 'provincia', 'varios', 'profesores', 'reunimos', 'hablaron', 'tension', 'ven', 'sometidos', 'entornos', 'aislados', 'creciente', 'atencion', 'presta', 'salud', 'mental', 'fisica', 'docentes', 'enfoques', 'desarrollando', 'programa', 'mindfulness', 'accesible', 'linea', 'profesores']"
        ],
        [
         "1852",
         "Hoioeuer, las tasas de finalización de la enseñanza secundaria inferior y superior siguen siendo insatisfactorias, mientras que las tasas de repetición son muy altas en comparación internacional. Los niveles de rendimiento de los alumnos han disminuido en los últimos años, pero siguen estando por encima de la media regional. Por último, el estatus socioeconómico de los estudiantes y de las escuelas tiene un fuerte impacto en el rendimiento de los estudiantes. También incluye una descripción detallada del sistema escolar uruguayo, incluida su gobernanza.",
         "4",
         "['hoioeu', 'tas', 'finaliz', 'ensen', 'secundari', 'inferior', 'superior', 'sig', 'siend', 'insatisfactori', 'mientr', 'tas', 'repeticion', 'altas', 'compar', 'internacional', 'nivel', 'rendimient', 'alumn', 'disminu', 'ultim', 'anos', 'sig', 'encim', 'medi', 'regional', 'ultim', 'estatus', 'socioeconom', 'estudi', 'escuel', 'fuert', 'impact', 'rendimient', 'estudi', 'tambi', 'inclu', 'descripcion', 'detall', 'sistem', 'escol', 'uruguay', 'inclu', 'gobern', 'hoioeuer', 'tasas', 'finalizacion', 'ensenanza', 'secundario', 'inferior', 'superior', 'seguir', 'ser', 'insatisfactoria', 'mientras', 'tasa', 'repeticion', 'alto', 'comparacion', 'internacional', 'nivel', 'rendimiento', 'alumno', 'disminuido', 'ultimos', 'ano', 'seguir', 'encima', 'medio', 'regional', 'ultimo', 'estatus', 'socioeconomico', 'estudiante', 'escuela', 'fuerte', 'impacto', 'rendimiento', 'estudiant', 'tambien', 'incluir', 'descripcion', 'detallado', 'sistema', 'escolar', 'uruguayo', 'incluido', 'gobernanza']",
         "['hoioeuer', 'tasas', 'finalizacion', 'ensenanza', 'secundaria', 'inferior', 'superior', 'siguen', 'siendo', 'insatisfactorias', 'mientras', 'tasas', 'repeticion', 'altas', 'comparacion', 'internacional', 'niveles', 'rendimiento', 'alumnos', 'disminuido', 'ultimos', 'anos', 'siguen', 'encima', 'media', 'regional', 'ultimo', 'estatus', 'socioeconomico', 'estudiantes', 'escuelas', 'fuerte', 'impacto', 'rendimiento', 'estudiantes', 'tambien', 'incluye', 'descripcion', 'detallada', 'sistema', 'escolar', 'uruguayo', 'incluida', 'gobernanza']"
        ]
       ],
       "shape": {
        "columns": 4,
        "rows": 20
       }
      },
      "text/html": [
       "<div>\n",
       "<style scoped>\n",
       "    .dataframe tbody tr th:only-of-type {\n",
       "        vertical-align: middle;\n",
       "    }\n",
       "\n",
       "    .dataframe tbody tr th {\n",
       "        vertical-align: top;\n",
       "    }\n",
       "\n",
       "    .dataframe thead th {\n",
       "        text-align: right;\n",
       "    }\n",
       "</style>\n",
       "<table border=\"1\" class=\"dataframe\">\n",
       "  <thead>\n",
       "    <tr style=\"text-align: right;\">\n",
       "      <th></th>\n",
       "      <th>textos</th>\n",
       "      <th>labels</th>\n",
       "      <th>palabras</th>\n",
       "      <th>palabrasProces</th>\n",
       "    </tr>\n",
       "  </thead>\n",
       "  <tbody>\n",
       "    <tr>\n",
       "      <th>1430</th>\n",
       "      <td>Esto implica que el número de pobres se redujo...</td>\n",
       "      <td>1</td>\n",
       "      <td>[implic, numer, pobr, reduj, aproxim, 6, millo...</td>\n",
       "      <td>[implica, numero, pobres, redujo, aproximadame...</td>\n",
       "    </tr>\n",
       "    <tr>\n",
       "      <th>1483</th>\n",
       "      <td>También es necesario garantizar que profesores...</td>\n",
       "      <td>4</td>\n",
       "      <td>[tambi, necesari, garantiz, profesor, alumn, d...</td>\n",
       "      <td>[tambien, necesario, garantizar, profesores, a...</td>\n",
       "    </tr>\n",
       "    <tr>\n",
       "      <th>1426</th>\n",
       "      <td>Sólo en Chile, Paraguay y Perú hubo un efecto ...</td>\n",
       "      <td>1</td>\n",
       "      <td>[sol, chil, paraguay, peru, efect, distribut, ...</td>\n",
       "      <td>[solo, chile, paraguay, peru, efecto, distribu...</td>\n",
       "    </tr>\n",
       "    <tr>\n",
       "      <th>2302</th>\n",
       "      <td>Incluso después de tener en cuenta factores so...</td>\n",
       "      <td>4</td>\n",
       "      <td>[inclus, despu, ten, cuent, factor, sociodemog...</td>\n",
       "      <td>[incluso, despues, tener, cuenta, factores, so...</td>\n",
       "    </tr>\n",
       "    <tr>\n",
       "      <th>1986</th>\n",
       "      <td>Se están realizando esfuerzos integrales para ...</td>\n",
       "      <td>4</td>\n",
       "      <td>[estan, realiz, esfuerz, integral, aument, atr...</td>\n",
       "      <td>[estan, realizando, esfuerzos, integrales, aum...</td>\n",
       "    </tr>\n",
       "    <tr>\n",
       "      <th>1830</th>\n",
       "      <td>Los cursos suelen ser por la noche e incluyen ...</td>\n",
       "      <td>4</td>\n",
       "      <td>[curs, suel, ser, noch, inclu, tem, general, g...</td>\n",
       "      <td>[cursos, suelen, ser, noche, incluyen, temas, ...</td>\n",
       "    </tr>\n",
       "    <tr>\n",
       "      <th>1970</th>\n",
       "      <td>Cuando se considera la utilización de servicio...</td>\n",
       "      <td>3</td>\n",
       "      <td>[consider, utiliz, servici, psiquiatr, servici...</td>\n",
       "      <td>[considera, utilizacion, servicios, psiquiatri...</td>\n",
       "    </tr>\n",
       "    <tr>\n",
       "      <th>2061</th>\n",
       "      <td>Esto exige la adopción de responsabilidades cl...</td>\n",
       "      <td>3</td>\n",
       "      <td>[exig, adopcion, respons, clar, financi, inver...</td>\n",
       "      <td>[exige, adopcion, responsabilidades, claras, f...</td>\n",
       "    </tr>\n",
       "    <tr>\n",
       "      <th>461</th>\n",
       "      <td>La Estrategia para las microrregiones, introdu...</td>\n",
       "      <td>1</td>\n",
       "      <td>[estrategi, microrregion, introduc, 2001, mejo...</td>\n",
       "      <td>[estrategia, microrregiones, introducida, 2001...</td>\n",
       "    </tr>\n",
       "    <tr>\n",
       "      <th>2090</th>\n",
       "      <td>El sistema inglés de atención a la salud menta...</td>\n",
       "      <td>3</td>\n",
       "      <td>[sistem, ingles, atencion, salud, mental, oper...</td>\n",
       "      <td>[sistema, ingles, atencion, salud, mental, ope...</td>\n",
       "    </tr>\n",
       "    <tr>\n",
       "      <th>1068</th>\n",
       "      <td>Un análisis de estudios de cohortes británicos...</td>\n",
       "      <td>4</td>\n",
       "      <td>[analisis, estudi, cohort, britan, bynner, par...</td>\n",
       "      <td>[analisis, estudios, cohortes, britanicos, byn...</td>\n",
       "    </tr>\n",
       "    <tr>\n",
       "      <th>2226</th>\n",
       "      <td>Dos tercios del gasto en salud se financian co...</td>\n",
       "      <td>3</td>\n",
       "      <td>[dos, terci, gast, salud, financi, fond, publi...</td>\n",
       "      <td>[dos, tercios, gasto, salud, financian, fondos...</td>\n",
       "    </tr>\n",
       "    <tr>\n",
       "      <th>1195</th>\n",
       "      <td>Esto incluye los costos directos de los servic...</td>\n",
       "      <td>3</td>\n",
       "      <td>[inclu, cost, direct, servici, perd, product, ...</td>\n",
       "      <td>[incluye, costos, directos, servicios, perdida...</td>\n",
       "    </tr>\n",
       "    <tr>\n",
       "      <th>1524</th>\n",
       "      <td>Ambas condiciones son importantes para el esta...</td>\n",
       "      <td>3</td>\n",
       "      <td>[ambas, condicion, import, salud, actual, mas,...</td>\n",
       "      <td>[ambas, condiciones, importantes, salud, actua...</td>\n",
       "    </tr>\n",
       "    <tr>\n",
       "      <th>2180</th>\n",
       "      <td>Sin embargo, hay muchos obstáculos. El Consejo...</td>\n",
       "      <td>4</td>\n",
       "      <td>[embarg, obstacul, consej, educ, superior, pro...</td>\n",
       "      <td>[embargo, obstaculos, consejo, educacion, supe...</td>\n",
       "    </tr>\n",
       "    <tr>\n",
       "      <th>1552</th>\n",
       "      <td>El cuarto ODS tiene como objetivo \"Garantizar ...</td>\n",
       "      <td>4</td>\n",
       "      <td>[cuart, ods, objet, garantiz, educ, calid, inc...</td>\n",
       "      <td>[cuarto, ods, objetivo, garantizar, educacion,...</td>\n",
       "    </tr>\n",
       "    <tr>\n",
       "      <th>2182</th>\n",
       "      <td>Este aumento coincidió con un aumento de los i...</td>\n",
       "      <td>1</td>\n",
       "      <td>[aument, coincidi, aument, ingres, grup, rent,...</td>\n",
       "      <td>[aumento, coincidio, aumento, ingresos, grupos...</td>\n",
       "    </tr>\n",
       "    <tr>\n",
       "      <th>1923</th>\n",
       "      <td>Al hacerlo, también ayuda a las escuelas a ret...</td>\n",
       "      <td>4</td>\n",
       "      <td>[hac, tambi, ayud, escuel, reten, maestr, efec...</td>\n",
       "      <td>[hacerlo, tambien, ayuda, escuelas, retener, m...</td>\n",
       "    </tr>\n",
       "    <tr>\n",
       "      <th>1565</th>\n",
       "      <td>El objetivo es colaborar más estrechamente con...</td>\n",
       "      <td>4</td>\n",
       "      <td>[objet, colabor, mas, estrech, soci, comunitar...</td>\n",
       "      <td>[objetivo, colaborar, mas, estrechamente, soci...</td>\n",
       "    </tr>\n",
       "    <tr>\n",
       "      <th>1852</th>\n",
       "      <td>Hoioeuer, las tasas de finalización de la ense...</td>\n",
       "      <td>4</td>\n",
       "      <td>[hoioeu, tas, finaliz, ensen, secundari, infer...</td>\n",
       "      <td>[hoioeuer, tasas, finalizacion, ensenanza, sec...</td>\n",
       "    </tr>\n",
       "  </tbody>\n",
       "</table>\n",
       "</div>"
      ],
      "text/plain": [
       "                                                 textos  labels  \\\n",
       "1430  Esto implica que el número de pobres se redujo...       1   \n",
       "1483  También es necesario garantizar que profesores...       4   \n",
       "1426  Sólo en Chile, Paraguay y Perú hubo un efecto ...       1   \n",
       "2302  Incluso después de tener en cuenta factores so...       4   \n",
       "1986  Se están realizando esfuerzos integrales para ...       4   \n",
       "1830  Los cursos suelen ser por la noche e incluyen ...       4   \n",
       "1970  Cuando se considera la utilización de servicio...       3   \n",
       "2061  Esto exige la adopción de responsabilidades cl...       3   \n",
       "461   La Estrategia para las microrregiones, introdu...       1   \n",
       "2090  El sistema inglés de atención a la salud menta...       3   \n",
       "1068  Un análisis de estudios de cohortes británicos...       4   \n",
       "2226  Dos tercios del gasto en salud se financian co...       3   \n",
       "1195  Esto incluye los costos directos de los servic...       3   \n",
       "1524  Ambas condiciones son importantes para el esta...       3   \n",
       "2180  Sin embargo, hay muchos obstáculos. El Consejo...       4   \n",
       "1552  El cuarto ODS tiene como objetivo \"Garantizar ...       4   \n",
       "2182  Este aumento coincidió con un aumento de los i...       1   \n",
       "1923  Al hacerlo, también ayuda a las escuelas a ret...       4   \n",
       "1565  El objetivo es colaborar más estrechamente con...       4   \n",
       "1852  Hoioeuer, las tasas de finalización de la ense...       4   \n",
       "\n",
       "                                               palabras  \\\n",
       "1430  [implic, numer, pobr, reduj, aproxim, 6, millo...   \n",
       "1483  [tambi, necesari, garantiz, profesor, alumn, d...   \n",
       "1426  [sol, chil, paraguay, peru, efect, distribut, ...   \n",
       "2302  [inclus, despu, ten, cuent, factor, sociodemog...   \n",
       "1986  [estan, realiz, esfuerz, integral, aument, atr...   \n",
       "1830  [curs, suel, ser, noch, inclu, tem, general, g...   \n",
       "1970  [consider, utiliz, servici, psiquiatr, servici...   \n",
       "2061  [exig, adopcion, respons, clar, financi, inver...   \n",
       "461   [estrategi, microrregion, introduc, 2001, mejo...   \n",
       "2090  [sistem, ingles, atencion, salud, mental, oper...   \n",
       "1068  [analisis, estudi, cohort, britan, bynner, par...   \n",
       "2226  [dos, terci, gast, salud, financi, fond, publi...   \n",
       "1195  [inclu, cost, direct, servici, perd, product, ...   \n",
       "1524  [ambas, condicion, import, salud, actual, mas,...   \n",
       "2180  [embarg, obstacul, consej, educ, superior, pro...   \n",
       "1552  [cuart, ods, objet, garantiz, educ, calid, inc...   \n",
       "2182  [aument, coincidi, aument, ingres, grup, rent,...   \n",
       "1923  [hac, tambi, ayud, escuel, reten, maestr, efec...   \n",
       "1565  [objet, colabor, mas, estrech, soci, comunitar...   \n",
       "1852  [hoioeu, tas, finaliz, ensen, secundari, infer...   \n",
       "\n",
       "                                         palabrasProces  \n",
       "1430  [implica, numero, pobres, redujo, aproximadame...  \n",
       "1483  [tambien, necesario, garantizar, profesores, a...  \n",
       "1426  [solo, chile, paraguay, peru, efecto, distribu...  \n",
       "2302  [incluso, despues, tener, cuenta, factores, so...  \n",
       "1986  [estan, realizando, esfuerzos, integrales, aum...  \n",
       "1830  [cursos, suelen, ser, noche, incluyen, temas, ...  \n",
       "1970  [considera, utilizacion, servicios, psiquiatri...  \n",
       "2061  [exige, adopcion, responsabilidades, claras, f...  \n",
       "461   [estrategia, microrregiones, introducida, 2001...  \n",
       "2090  [sistema, ingles, atencion, salud, mental, ope...  \n",
       "1068  [analisis, estudios, cohortes, britanicos, byn...  \n",
       "2226  [dos, tercios, gasto, salud, financian, fondos...  \n",
       "1195  [incluye, costos, directos, servicios, perdida...  \n",
       "1524  [ambas, condiciones, importantes, salud, actua...  \n",
       "2180  [embargo, obstaculos, consejo, educacion, supe...  \n",
       "1552  [cuarto, ods, objetivo, garantizar, educacion,...  \n",
       "2182  [aumento, coincidio, aumento, ingresos, grupos...  \n",
       "1923  [hacerlo, tambien, ayuda, escuelas, retener, m...  \n",
       "1565  [objetivo, colaborar, mas, estrechamente, soci...  \n",
       "1852  [hoioeuer, tasas, finalizacion, ensenanza, sec...  "
      ]
     },
     "execution_count": 170,
     "metadata": {},
     "output_type": "execute_result"
    }
   ],
   "source": [
    "df_textC.sample(20)"
   ]
  },
  {
   "cell_type": "markdown",
   "id": "543e8ae9",
   "metadata": {},
   "source": [
    "### 3.3 Entrenamiento y split de los datos para testing"
   ]
  },
  {
   "cell_type": "code",
   "execution_count": 171,
   "id": "246b1510",
   "metadata": {},
   "outputs": [],
   "source": [
    "X = df_textC[\"palabras\"]                 # list of tokens per row\n",
    "y = df_textC[\"labels\"].astype(int)     # already numeric; ensure int dtype\n",
    "\n",
    "X_train, X_test, y_train, y_test = train_test_split(\n",
    "    X, y, test_size=0.2, random_state=42, stratify=y\n",
    ")"
   ]
  },
  {
   "cell_type": "markdown",
   "id": "e9118ea6",
   "metadata": {},
   "source": [
    "### 3.4 Vectorizar texto ya tokenizado"
   ]
  },
  {
   "cell_type": "markdown",
   "id": "114e10eb",
   "metadata": {},
   "source": [
    " TF-IDF : Term Frequency-Inverse Document Frequency"
   ]
  },
  {
   "cell_type": "code",
   "execution_count": 172,
   "id": "c021e04f",
   "metadata": {},
   "outputs": [],
   "source": [
    "identity = lambda x: x\n",
    "vec_tfidf = TfidfVectorizer(\n",
    "    tokenizer=identity, preprocessor=identity, token_pattern=None,\n",
    "    # sublinear_tf=True, min_df=2, ngram_range=(1,2)\n",
    ")\n",
    "\n",
    "X_train_tfidf = vec_tfidf.fit_transform(X_train)\n",
    "X_test_tfidf  = vec_tfidf.transform(X_test)\n",
    "\n"
   ]
  },
  {
   "cell_type": "markdown",
   "id": "d5cccf7d",
   "metadata": {},
   "source": [
    "### 4.1 Entrenar primer modelo de clasificacion"
   ]
  },
  {
   "cell_type": "markdown",
   "id": "508b07f0",
   "metadata": {},
   "source": [
    "#### 4.1.1 Regresion Logistica (Juan Nicolas)"
   ]
  },
  {
   "cell_type": "code",
   "execution_count": 173,
   "id": "14f35984",
   "metadata": {},
   "outputs": [
    {
     "name": "stdout",
     "output_type": "stream",
     "text": [
      "TRAIN:\n",
      "              precision    recall  f1-score   support\n",
      "\n",
      "           1      1.000     0.990     0.995       404\n",
      "           3      0.997     0.996     0.997       715\n",
      "           4      0.993     0.999     0.996       820\n",
      "\n",
      "    accuracy                          0.996      1939\n",
      "   macro avg      0.997     0.995     0.996      1939\n",
      "weighted avg      0.996     0.996     0.996      1939\n",
      "\n",
      "TEST:\n",
      "              precision    recall  f1-score   support\n",
      "\n",
      "           1      0.969     0.921     0.944       101\n",
      "           3      0.961     0.966     0.964       179\n",
      "           4      0.962     0.980     0.971       205\n",
      "\n",
      "    accuracy                          0.963       485\n",
      "   macro avg      0.964     0.956     0.960       485\n",
      "weighted avg      0.963     0.963     0.963       485\n",
      "\n"
     ]
    }
   ],
   "source": [
    "\n",
    "\n",
    "clf = LogisticRegression(max_iter=200, n_jobs=None)  \n",
    "clf.fit(X_train_tfidf, y_train)\n",
    "\n",
    "\n",
    "# Evaluación en TRAIN\n",
    "y_train_pred = clf.predict(X_train_tfidf)\n",
    "print(\"TRAIN:\")\n",
    "print(classification_report(y_train, y_train_pred, digits=3))\n",
    "\n",
    "# Evaluación en TEST\n",
    "y_test_pred = clf.predict(X_test_tfidf) \n",
    "print(\"TEST:\")\n",
    "print(classification_report(y_test, y_test_pred, digits=3))\n"
   ]
  },
  {
   "cell_type": "markdown",
   "id": "82d4f409",
   "metadata": {},
   "source": [
    "1. Los resultados muestran que el modelo se desempeña de manera consistente, ya que el accuracy en entrenamiento (99.6%) y en prueba (96.3%) es muy similar, lo que indica que no hay señales evidentes de sobreajuste.\n",
    "2. El rendimiento entre las distintas clases también es equilibrado: las métricas de precisión, recall y f1-score se mantienen altas y sin grandes diferencias entre categorías, lo que evidencia que el modelo no está favoreciendo a una clase en particular.\n",
    "3. El alto nivel de accuracy alcanzado justifica realizar una validación adicional mediante cross-validation, con el fin de confirmar que el buen desempeño no se deba únicamente a la partición específica entre entrenamiento y prueba.\n",
    "4. Finalmente, se propone reforzar el entrenamiento con datos balanceados para reducir posibles sesgos en la distribución de clases y garantizar que el modelo generalice mejor en futuros escenarios."
   ]
  },
  {
   "cell_type": "code",
   "execution_count": 174,
   "id": "d7b9620e",
   "metadata": {},
   "outputs": [
    {
     "data": {
      "image/png": "[encoded data removed]",
      "text/plain": [
       "<Figure size 640x480 with 2 Axes>"
      ]
     },
     "metadata": {},
     "output_type": "display_data"
    }
   ],
   "source": [
    "cm = confusion_matrix(y_test, y_test_pred)\n",
    "disp=ConfusionMatrixDisplay(confusion_matrix=cm)\n",
    "disp.plot(cmap=plt.cm.Blues)\n",
    "plt.show()"
   ]
  },
  {
   "cell_type": "markdown",
   "id": "48075f20",
   "metadata": {},
   "source": [
    "### 4.2 Mismo modelo (Regresion logistica)"
   ]
  },
  {
   "cell_type": "markdown",
   "id": "ed1c94fd",
   "metadata": {},
   "source": [
    "#### 4.22  Regresion logistica con cross validation\n"
   ]
  },
  {
   "cell_type": "code",
   "execution_count": 175,
   "id": "04087a5f",
   "metadata": {},
   "outputs": [
    {
     "name": "stdout",
     "output_type": "stream",
     "text": [
      "Cross-validation scores: [0.96494845 0.97938144 0.95670103 0.97525773 0.9731405 ]\n",
      "Promedio del accuracy (CV): 0.970\n"
     ]
    }
   ],
   "source": [
    "# Define el pipeline\n",
    "pipeline = Pipeline([\n",
    "    ('tfidf', TfidfVectorizer(tokenizer=lambda x: x, preprocessor=lambda x: x, token_pattern=None)),  # Vectorización TF-IDF\n",
    "    ('clf', LogisticRegression(max_iter=200))  # Modelo de regresión logística\n",
    "])\n",
    "\n",
    "# Cross-validation (5 pliegues)\n",
    "cv_scores = cross_val_score(pipeline, X, y, cv=5, scoring='accuracy')  # Cambia 'accuracy' por otra métrica si quieres\n",
    "\n",
    "# Resultados\n",
    "print(f\"Cross-validation scores: {cv_scores}\")\n",
    "print(f\"Promedio del accuracy (CV): {cv_scores.mean():.3f}\")"
   ]
  },
  {
   "cell_type": "markdown",
   "id": "465d3bf2",
   "metadata": {},
   "source": [
    "Como podemos ver los resultados del primer modelo si tienen sentido. el promedio del accurracy no varia mucho.\n",
    "\n",
    "A pesar de que esta dando buenos resultados el modelo , decidimos balancear la clase minoritaria para evitar overfitting del modelo."
   ]
  },
  {
   "cell_type": "markdown",
   "id": "b0b71468",
   "metadata": {},
   "source": [
    "### 4.2 Mismo modelo (Regresion logistica)"
   ]
  },
  {
   "cell_type": "markdown",
   "id": "99b9d767",
   "metadata": {},
   "source": [
    "#### 4.2.1  Regresion logistica con SMOTE\n",
    "\n"
   ]
  },
  {
   "cell_type": "code",
   "execution_count": 176,
   "id": "480bfafe",
   "metadata": {},
   "outputs": [],
   "source": [
    "X = df_textC[\"palabras\"]\n",
    "y = df_textC[\"labels\"].astype(int)\n",
    "\n",
    "# 1. Definir el pipeline\n",
    "pipelineLogisticReg = ImbPipeline([\n",
    "    ('tfidf', TfidfVectorizer(tokenizer=lambda x: x, preprocessor=lambda x: x, token_pattern=None)),\n",
    "    ('smote', SMOTE(sampling_strategy='minority', random_state=42)),\n",
    "    ('clf', LogisticRegression(max_iter=200))\n",
    "])\n",
    "\n"
   ]
  },
  {
   "cell_type": "code",
   "execution_count": 177,
   "id": "42a53a76",
   "metadata": {},
   "outputs": [],
   "source": [
    "# 2. Dividir en train/test\n",
    "X_train, X_test, y_train, y_test = train_test_split(\n",
    "    X, y, test_size=0.2, random_state=42, stratify=y\n",
    ")"
   ]
  },
  {
   "cell_type": "markdown",
   "id": "ff2f0cb4",
   "metadata": {},
   "source": [
    "#### 4.2.2  Aplicacion de SMOTE\n"
   ]
  },
  {
   "cell_type": "code",
   "execution_count": 178,
   "id": "fa8b775b",
   "metadata": {},
   "outputs": [
    {
     "name": "stdout",
     "output_type": "stream",
     "text": [
      "Antes de SMOTE:\n",
      "labels\n",
      "4    820\n",
      "3    715\n",
      "1    404\n",
      "Name: count, dtype: int64\n",
      "\n",
      "Después de SMOTE:\n",
      "labels\n",
      "1    820\n",
      "4    820\n",
      "3    715\n",
      "Name: count, dtype: int64\n"
     ]
    }
   ],
   "source": [
    "\n",
    "tfidf = pipelineLogisticReg.named_steps['tfidf']\n",
    "smote_step = pipelineLogisticReg.named_steps['smote']\n",
    "\n",
    "X_tfidf = tfidf.fit_transform(X_train)        \n",
    "X_res, y_res = smote_step.fit_resample(X_tfidf, y_train)  # aplicar smote\n",
    "\n",
    "print(\"Antes de SMOTE:\")\n",
    "print(y_train.value_counts())\n",
    "print(\"\\nDespués de SMOTE:\")\n",
    "print(y_res.value_counts())\n",
    "\n"
   ]
  },
  {
   "cell_type": "code",
   "execution_count": 179,
   "id": "a73b3b58",
   "metadata": {},
   "outputs": [
    {
     "name": "stdout",
     "output_type": "stream",
     "text": [
      "TRAIN:\n",
      "              precision    recall  f1-score   support\n",
      "\n",
      "           1      0.985     0.995     0.990       404\n",
      "           3      0.997     0.992     0.994       715\n",
      "           4      0.996     0.996     0.996       820\n",
      "\n",
      "    accuracy                          0.994      1939\n",
      "   macro avg      0.993     0.994     0.994      1939\n",
      "weighted avg      0.994     0.994     0.994      1939\n",
      "\n",
      "TEST:\n",
      "              precision    recall  f1-score   support\n",
      "\n",
      "           1      0.960     0.941     0.950       101\n",
      "           3      0.966     0.966     0.966       179\n",
      "           4      0.966     0.976     0.971       205\n",
      "\n",
      "    accuracy                          0.965       485\n",
      "   macro avg      0.964     0.961     0.962       485\n",
      "weighted avg      0.965     0.965     0.965       485\n",
      "\n"
     ]
    }
   ],
   "source": [
    "# 3. Entrenar pipeline\n",
    "pipelineLogisticReg.fit(X_train, y_train)\n",
    "\n",
    "## Resultados\n",
    "# Evaluación en TRAIN\n",
    "y_train_pred = pipelineLogisticReg.predict(X_train)\n",
    "print(\"TRAIN:\")\n",
    "print(classification_report(y_train, y_train_pred, digits=3))\n",
    "\n",
    "\n",
    "\n",
    "\n",
    "# 4. Evaluación en test\n",
    "y_pred = pipelineLogisticReg.predict(X_test)\n",
    "print(\"TEST:\")\n",
    "print(classification_report(y_test, y_pred, digits=3))"
   ]
  },
  {
   "cell_type": "markdown",
   "id": "d58c7043",
   "metadata": {},
   "source": [
    "Después de aplicar SMOTE para balancear las clases y entrenar un modelo de Regresión Logística con cross validation, los resultados muestran un desempeño sólido y consistente. El modelo alcanza un accuracy del 99.4% en entrenamiento y 96.5% en prueba, con métricas de precisión, recall y f1-score equilibradas entre las clases, lo que indica ausencia de sobreajuste y buena capacidad de generalización; en conjunto."
   ]
  },
  {
   "cell_type": "markdown",
   "id": "a9f80ae3",
   "metadata": {},
   "source": [
    "### Palabras mas utilizadas por el en TF-IDF"
   ]
  },
  {
   "cell_type": "markdown",
   "id": "26f1df1e",
   "metadata": {},
   "source": [
    "Queremos ver que palabras usa el modelo para clasificar la clase."
   ]
  },
  {
   "cell_type": "code",
   "execution_count": 193,
   "id": "a80bc147",
   "metadata": {},
   "outputs": [
    {
     "name": "stdout",
     "output_type": "stream",
     "text": [
      "\n",
      "Clase 1:\n",
      "Palabras más asociadas:\n",
      "- ingres\n",
      "- ingreso\n",
      "- proteccion\n",
      "- privacion\n",
      "- social\n",
      "- hogar\n",
      "- pobr\n",
      "- pobre\n",
      "- pobreza\n",
      "- pobrez\n",
      "Palabras menos asociadas:\n",
      "- salud\n",
      "- atencion\n",
      "- ocde\n",
      "- educ\n",
      "- escuel\n",
      "- escuela\n",
      "- enfermedad\n",
      "- estudi\n",
      "- profesional\n",
      "- personal\n",
      "\n",
      "Clase 3:\n",
      "Palabras más asociadas:\n",
      "- paciente\n",
      "- sanitari\n",
      "- medico\n",
      "- alcohol\n",
      "- hospital\n",
      "- mental\n",
      "- medic\n",
      "- enfermedad\n",
      "- atencion\n",
      "- salud\n",
      "Palabras menos asociadas:\n",
      "- pobrez\n",
      "- educ\n",
      "- pobreza\n",
      "- educacion\n",
      "- escuel\n",
      "- estudi\n",
      "- escolar\n",
      "- pobr\n",
      "- pobre\n",
      "- escuela\n",
      "\n",
      "Clase 4:\n",
      "Palabras más asociadas:\n",
      "- docent\n",
      "- estudiante\n",
      "- educativo\n",
      "- profesor\n",
      "- escolar\n",
      "- escuela\n",
      "- estudi\n",
      "- educacion\n",
      "- escuel\n",
      "- educ\n",
      "Palabras menos asociadas:\n",
      "- salud\n",
      "- pobrez\n",
      "- pobreza\n",
      "- atencion\n",
      "- hogar\n",
      "- social\n",
      "- enfermedad\n",
      "- pobre\n",
      "- pobr\n",
      "- medic\n"
     ]
    }
   ],
   "source": [
    "def show_words(list_words):\n",
    "    \"\"\"Muestra las palabras más y menos asociadas a cada clase.\"\"\"\n",
    "    for i in (list_words):\n",
    "        print(f\"- {i}\")\n",
    "    \n",
    "\n",
    "\n",
    "vectorizer = pipelineLogisticReg.named_steps['tfidf']\n",
    "clf = pipelineLogisticReg.named_steps['clf']\n",
    "\n",
    "\n",
    "feature_names = vectorizer.get_feature_names_out()\n",
    "for i, clase in enumerate(clf.classes_):\n",
    "    coef = clf.coef_[i]\n",
    "    top_pos = np.argsort(coef)[-10:]   # top 10 positivas\n",
    "    top_neg = np.argsort(coef)[:10]    # top 10 negativas\n",
    "    print(f\"\\nClase {clase}:\")\n",
    "    print(\"Palabras más asociadas:\")\n",
    "    show_words(feature_names[top_pos])\n",
    "    print(\"Palabras menos asociadas:\")\n",
    "    show_words(feature_names[top_neg])"
   ]
  },
  {
   "cell_type": "markdown",
   "id": "8a7fc34a",
   "metadata": {},
   "source": [
    "## Segundo Modelo \n"
   ]
  },
  {
   "cell_type": "code",
   "execution_count": 180,
   "id": "4d00bebf",
   "metadata": {},
   "outputs": [
    {
     "name": "stdout",
     "output_type": "stream",
     "text": [
      "=== Resultados en TRAIN ===\n"
     ]
    },
    {
     "data": {
      "application/vnd.microsoft.datawrangler.viewer.v0+json": {
       "columns": [
        {
         "name": "index",
         "rawType": "object",
         "type": "string"
        },
        {
         "name": "precision",
         "rawType": "float64",
         "type": "float"
        },
        {
         "name": "recall",
         "rawType": "float64",
         "type": "float"
        },
        {
         "name": "f1-score",
         "rawType": "float64",
         "type": "float"
        },
        {
         "name": "support",
         "rawType": "float64",
         "type": "float"
        }
       ],
       "ref": "bd1088fa-43df-44ef-8750-da49bd6d4b2a",
       "rows": [
        [
         "1",
         "1.0",
         "1.0",
         "1.0",
         "404.0"
        ],
        [
         "3",
         "1.0",
         "1.0",
         "1.0",
         "715.0"
        ],
        [
         "4",
         "1.0",
         "1.0",
         "1.0",
         "820.0"
        ],
        [
         "accuracy",
         "1.0",
         "1.0",
         "1.0",
         "1.0"
        ],
        [
         "macro avg",
         "1.0",
         "1.0",
         "1.0",
         "1939.0"
        ],
        [
         "weighted avg",
         "1.0",
         "1.0",
         "1.0",
         "1939.0"
        ]
       ],
       "shape": {
        "columns": 4,
        "rows": 6
       }
      },
      "text/html": [
       "<div>\n",
       "<style scoped>\n",
       "    .dataframe tbody tr th:only-of-type {\n",
       "        vertical-align: middle;\n",
       "    }\n",
       "\n",
       "    .dataframe tbody tr th {\n",
       "        vertical-align: top;\n",
       "    }\n",
       "\n",
       "    .dataframe thead th {\n",
       "        text-align: right;\n",
       "    }\n",
       "</style>\n",
       "<table border=\"1\" class=\"dataframe\">\n",
       "  <thead>\n",
       "    <tr style=\"text-align: right;\">\n",
       "      <th></th>\n",
       "      <th>precision</th>\n",
       "      <th>recall</th>\n",
       "      <th>f1-score</th>\n",
       "      <th>support</th>\n",
       "    </tr>\n",
       "  </thead>\n",
       "  <tbody>\n",
       "    <tr>\n",
       "      <th>1</th>\n",
       "      <td>1.0</td>\n",
       "      <td>1.0</td>\n",
       "      <td>1.0</td>\n",
       "      <td>404.0</td>\n",
       "    </tr>\n",
       "    <tr>\n",
       "      <th>3</th>\n",
       "      <td>1.0</td>\n",
       "      <td>1.0</td>\n",
       "      <td>1.0</td>\n",
       "      <td>715.0</td>\n",
       "    </tr>\n",
       "    <tr>\n",
       "      <th>4</th>\n",
       "      <td>1.0</td>\n",
       "      <td>1.0</td>\n",
       "      <td>1.0</td>\n",
       "      <td>820.0</td>\n",
       "    </tr>\n",
       "    <tr>\n",
       "      <th>accuracy</th>\n",
       "      <td>1.0</td>\n",
       "      <td>1.0</td>\n",
       "      <td>1.0</td>\n",
       "      <td>1.0</td>\n",
       "    </tr>\n",
       "    <tr>\n",
       "      <th>macro avg</th>\n",
       "      <td>1.0</td>\n",
       "      <td>1.0</td>\n",
       "      <td>1.0</td>\n",
       "      <td>1939.0</td>\n",
       "    </tr>\n",
       "    <tr>\n",
       "      <th>weighted avg</th>\n",
       "      <td>1.0</td>\n",
       "      <td>1.0</td>\n",
       "      <td>1.0</td>\n",
       "      <td>1939.0</td>\n",
       "    </tr>\n",
       "  </tbody>\n",
       "</table>\n",
       "</div>"
      ],
      "text/plain": [
       "              precision  recall  f1-score  support\n",
       "1                   1.0     1.0       1.0    404.0\n",
       "3                   1.0     1.0       1.0    715.0\n",
       "4                   1.0     1.0       1.0    820.0\n",
       "accuracy            1.0     1.0       1.0      1.0\n",
       "macro avg           1.0     1.0       1.0   1939.0\n",
       "weighted avg        1.0     1.0       1.0   1939.0"
      ]
     },
     "metadata": {},
     "output_type": "display_data"
    },
    {
     "name": "stdout",
     "output_type": "stream",
     "text": [
      "\n",
      "=== Resultados en TEST ===\n"
     ]
    },
    {
     "data": {
      "application/vnd.microsoft.datawrangler.viewer.v0+json": {
       "columns": [
        {
         "name": "index",
         "rawType": "object",
         "type": "string"
        },
        {
         "name": "precision",
         "rawType": "float64",
         "type": "float"
        },
        {
         "name": "recall",
         "rawType": "float64",
         "type": "float"
        },
        {
         "name": "f1-score",
         "rawType": "float64",
         "type": "float"
        },
        {
         "name": "support",
         "rawType": "float64",
         "type": "float"
        }
       ],
       "ref": "26d65a91-c1a4-4621-8669-8545bf41f8c4",
       "rows": [
        [
         "1",
         "0.9595959595959596",
         "0.9405940594059405",
         "0.95",
         "101.0"
        ],
        [
         "3",
         "0.9562841530054644",
         "0.9776536312849162",
         "0.9668508287292817",
         "179.0"
        ],
        [
         "4",
         "0.9852216748768473",
         "0.975609756097561",
         "0.9803921568627451",
         "205.0"
        ],
        [
         "accuracy",
         "0.9690721649484536",
         "0.9690721649484536",
         "0.9690721649484536",
         "0.9690721649484536"
        ],
        [
         "macro avg",
         "0.9670339291594238",
         "0.9646191489294725",
         "0.965747661864009",
         "485.0"
        ],
        [
         "weighted avg",
         "0.9692051518699459",
         "0.9690721649484536",
         "0.9690653412358848",
         "485.0"
        ]
       ],
       "shape": {
        "columns": 4,
        "rows": 6
       }
      },
      "text/html": [
       "<div>\n",
       "<style scoped>\n",
       "    .dataframe tbody tr th:only-of-type {\n",
       "        vertical-align: middle;\n",
       "    }\n",
       "\n",
       "    .dataframe tbody tr th {\n",
       "        vertical-align: top;\n",
       "    }\n",
       "\n",
       "    .dataframe thead th {\n",
       "        text-align: right;\n",
       "    }\n",
       "</style>\n",
       "<table border=\"1\" class=\"dataframe\">\n",
       "  <thead>\n",
       "    <tr style=\"text-align: right;\">\n",
       "      <th></th>\n",
       "      <th>precision</th>\n",
       "      <th>recall</th>\n",
       "      <th>f1-score</th>\n",
       "      <th>support</th>\n",
       "    </tr>\n",
       "  </thead>\n",
       "  <tbody>\n",
       "    <tr>\n",
       "      <th>1</th>\n",
       "      <td>0.959596</td>\n",
       "      <td>0.940594</td>\n",
       "      <td>0.950000</td>\n",
       "      <td>101.000000</td>\n",
       "    </tr>\n",
       "    <tr>\n",
       "      <th>3</th>\n",
       "      <td>0.956284</td>\n",
       "      <td>0.977654</td>\n",
       "      <td>0.966851</td>\n",
       "      <td>179.000000</td>\n",
       "    </tr>\n",
       "    <tr>\n",
       "      <th>4</th>\n",
       "      <td>0.985222</td>\n",
       "      <td>0.975610</td>\n",
       "      <td>0.980392</td>\n",
       "      <td>205.000000</td>\n",
       "    </tr>\n",
       "    <tr>\n",
       "      <th>accuracy</th>\n",
       "      <td>0.969072</td>\n",
       "      <td>0.969072</td>\n",
       "      <td>0.969072</td>\n",
       "      <td>0.969072</td>\n",
       "    </tr>\n",
       "    <tr>\n",
       "      <th>macro avg</th>\n",
       "      <td>0.967034</td>\n",
       "      <td>0.964619</td>\n",
       "      <td>0.965748</td>\n",
       "      <td>485.000000</td>\n",
       "    </tr>\n",
       "    <tr>\n",
       "      <th>weighted avg</th>\n",
       "      <td>0.969205</td>\n",
       "      <td>0.969072</td>\n",
       "      <td>0.969065</td>\n",
       "      <td>485.000000</td>\n",
       "    </tr>\n",
       "  </tbody>\n",
       "</table>\n",
       "</div>"
      ],
      "text/plain": [
       "              precision    recall  f1-score     support\n",
       "1              0.959596  0.940594  0.950000  101.000000\n",
       "3              0.956284  0.977654  0.966851  179.000000\n",
       "4              0.985222  0.975610  0.980392  205.000000\n",
       "accuracy       0.969072  0.969072  0.969072    0.969072\n",
       "macro avg      0.967034  0.964619  0.965748  485.000000\n",
       "weighted avg   0.969205  0.969072  0.969065  485.000000"
      ]
     },
     "metadata": {},
     "output_type": "display_data"
    }
   ],
   "source": [
    "from sklearn.feature_extraction.text import TfidfVectorizer\n",
    "from sklearn.svm import LinearSVC\n",
    "from sklearn.pipeline import Pipeline\n",
    "from sklearn.metrics import classification_report\n",
    "import pandas as pd\n",
    "\n",
    "# Unimos tokens procesados de nuevo en string (TfidfVectorizer espera texto plano)\n",
    "X_train_text = [\" \".join(tokens) for tokens in X_train]\n",
    "X_test_text  = [\" \".join(tokens) for tokens in X_test]\n",
    "\n",
    "# Definir pipeline: TF-IDF + LinearSVC\n",
    "svm_pipeline = Pipeline([\n",
    "    (\"tfidf\", TfidfVectorizer()),\n",
    "    (\"clf\", LinearSVC(random_state=42))\n",
    "])\n",
    "\n",
    "# Entrenar\n",
    "svm_pipeline.fit(X_train_text, y_train)\n",
    "\n",
    "# Predicciones\n",
    "y_train_pred = svm_pipeline.predict(X_train_text)\n",
    "y_test_pred  = svm_pipeline.predict(X_test_text)\n",
    "\n",
    "# Reportes como DataFrame\n",
    "report_train = classification_report(y_train, y_train_pred, output_dict=True)\n",
    "report_test  = classification_report(y_test, y_test_pred, output_dict=True)\n",
    "\n",
    "df_report_train = pd.DataFrame(report_train).transpose()\n",
    "df_report_test  = pd.DataFrame(report_test).transpose()\n",
    "\n",
    "print(\"=== Resultados en TRAIN ===\")\n",
    "display(df_report_train)\n",
    "\n",
    "print(\"\\n=== Resultados en TEST ===\")\n",
    "display(df_report_test)\n"
   ]
  },
  {
   "cell_type": "markdown",
   "id": "2357f890",
   "metadata": {},
   "source": [
    "### 4.3 Entrenamiento del tercer modelo de clasificación (KNN)"
   ]
  },
  {
   "cell_type": "markdown",
   "id": "d2c5eea9",
   "metadata": {},
   "source": [
    "#### 4.3.1 Construcción del modelo"
   ]
  },
  {
   "cell_type": "code",
   "execution_count": 181,
   "id": "a36b0682",
   "metadata": {},
   "outputs": [
    {
     "name": "stdout",
     "output_type": "stream",
     "text": [
      "TRAIN:\n",
      "              precision    recall  f1-score   support\n",
      "\n",
      "           1      0.925     0.953     0.939       404\n",
      "           3      0.987     0.961     0.974       715\n",
      "           4      0.966     0.974     0.970       820\n",
      "\n",
      "    accuracy                          0.965      1939\n",
      "   macro avg      0.960     0.963     0.961      1939\n",
      "weighted avg      0.965     0.965     0.965      1939\n",
      "\n",
      "TEST:\n",
      "              precision    recall  f1-score   support\n",
      "\n",
      "           1      0.848     0.941     0.892       101\n",
      "           3      0.949     0.939     0.944       179\n",
      "           4      0.964     0.922     0.943       205\n",
      "\n",
      "    accuracy                          0.932       485\n",
      "   macro avg      0.921     0.934     0.926       485\n",
      "weighted avg      0.935     0.932     0.933       485\n",
      "\n"
     ]
    }
   ],
   "source": [
    "from sklearn.neighbors import KNeighborsClassifier\n",
    "from sklearn.metrics import classification_report\n",
    "\n",
    "clf2=KNeighborsClassifier(n_neighbors=5)\n",
    "clf2.fit(X_train_tfidf, y_train)\n",
    "\n",
    "y_train_pred= clf2.predict(X_train_tfidf)\n",
    "print(\"TRAIN:\")\n",
    "print(classification_report(y_train, y_train_pred, digits=3))\n",
    "\n",
    "y_test_pred= clf2.predict(X_test_tfidf)\n",
    "print(\"TEST:\")\n",
    "print(classification_report(y_test, y_test_pred, digits=3))"
   ]
  },
  {
   "cell_type": "markdown",
   "id": "cff21682",
   "metadata": {},
   "source": [
    "Tanto el de prueba como de entrenamiento cuenta con un % de precisión alto y similares."
   ]
  },
  {
   "cell_type": "code",
   "execution_count": 182,
   "id": "030ef61f",
   "metadata": {},
   "outputs": [
    {
     "data": {
      "image/png": "[encoded data removed]",
      "text/plain": [
       "<Figure size 640x480 with 2 Axes>"
      ]
     },
     "metadata": {},
     "output_type": "display_data"
    }
   ],
   "source": [
    "cm = confusion_matrix(y_test, y_test_pred)\n",
    "disp = ConfusionMatrixDisplay(confusion_matrix=cm)\n",
    "disp.plot(cmap=plt.cm.Blues)\n",
    "plt.show()"
   ]
  },
  {
   "cell_type": "markdown",
   "id": "9911db48",
   "metadata": {},
   "source": [
    "#### 4.3.2 Crossvalidation segun el número de vecinos"
   ]
  },
  {
   "cell_type": "code",
   "execution_count": 183,
   "id": "5be99185",
   "metadata": {},
   "outputs": [
    {
     "data": {
      "image/png": "[encoded data removed]",
      "text/plain": [
       "<Figure size 640x480 with 1 Axes>"
      ]
     },
     "metadata": {},
     "output_type": "display_data"
    }
   ],
   "source": [
    "neighbors = range(1, 21)\n",
    "scores = [cross_val_score(KNeighborsClassifier(n_neighbors=k), X_train_tfidf, y_train, cv=5, scoring=\"f1_macro\").mean() for k in neighbors]\n",
    "plt.plot(neighbors, scores, marker=\"o\")\n",
    "plt.xlabel(\"Número de vecinos (k)\")\n",
    "plt.ylabel(\"F1-macro promedio\")\n",
    "plt.title(\"Selección de K en KNN\")\n",
    "plt.show()"
   ]
  },
  {
   "cell_type": "markdown",
   "id": "c5866481",
   "metadata": {},
   "source": [
    "El anterior gráfico demuestra que se puede mejorar dicho modelo. Para el primer modelo, se llegaron a utilizar 5 vecinos. Al hacer la cross-validation, se llega a ver como al utilizar 19 vecinos se llega a un mejor f1-promedio."
   ]
  },
  {
   "cell_type": "markdown",
   "id": "4749a1db",
   "metadata": {},
   "source": [
    "#### 4.3.3 Balanceo de clases (SMOTE)"
   ]
  },
  {
   "cell_type": "code",
   "execution_count": 184,
   "id": "a4fab444",
   "metadata": {},
   "outputs": [
    {
     "name": "stdout",
     "output_type": "stream",
     "text": [
      "Antes de SMOTE: Counter({4: 820, 3: 715, 1: 404})\n"
     ]
    }
   ],
   "source": [
    "from collections import Counter\n",
    "print(\"Antes de SMOTE:\", Counter(y_train))"
   ]
  },
  {
   "cell_type": "code",
   "execution_count": 185,
   "id": "b1331970",
   "metadata": {},
   "outputs": [],
   "source": [
    "smote = SMOTE(random_state=42)\n",
    "X_train_res, y_train_res = smote.fit_resample(X_train_tfidf, y_train)"
   ]
  },
  {
   "cell_type": "code",
   "execution_count": 186,
   "id": "7f6f3ae1",
   "metadata": {},
   "outputs": [
    {
     "name": "stdout",
     "output_type": "stream",
     "text": [
      "Después de SMOTE: Counter({3: 820, 1: 820, 4: 820})\n"
     ]
    }
   ],
   "source": [
    "print(\"Después de SMOTE:\", Counter(y_train_res))"
   ]
  },
  {
   "cell_type": "code",
   "execution_count": 187,
   "id": "4987976f",
   "metadata": {},
   "outputs": [
    {
     "name": "stdout",
     "output_type": "stream",
     "text": [
      "=== Resultados del modelo con SMOTE ===\n",
      "              precision    recall  f1-score   support\n",
      "\n",
      "           1      0.792     0.980     0.876       101\n",
      "           3      0.964     0.911     0.937       179\n",
      "           4      0.969     0.902     0.934       205\n",
      "\n",
      "    accuracy                          0.922       485\n",
      "   macro avg      0.908     0.931     0.916       485\n",
      "weighted avg      0.930     0.922     0.923       485\n",
      "\n"
     ]
    }
   ],
   "source": [
    "knn_clf = KNeighborsClassifier(n_neighbors=5, weights=\"distance\", metric=\"cosine\", n_jobs=-1)\n",
    "knn_clf.fit(X_train_res, y_train_res)\n",
    "y_pred = knn_clf.predict(X_test_tfidf)\n",
    "# Resultados de clasificación\n",
    "print(\"=== Resultados del modelo con SMOTE ===\")\n",
    "print(classification_report(y_test, y_pred, digits=3))"
   ]
  },
  {
   "cell_type": "markdown",
   "id": "5a102d4c",
   "metadata": {},
   "source": [
    "#### 4.3.4 Optimización de hiperparámetros"
   ]
  },
  {
   "cell_type": "code",
   "execution_count": 188,
   "id": "9a51f747",
   "metadata": {},
   "outputs": [
    {
     "data": {
      "text/html": [
       "<style>#sk-container-id-2 {\n",
       "  /* Definition of color scheme common for light and dark mode */\n",
       "  --sklearn-color-text: black;\n",
       "  --sklearn-color-line: gray;\n",
       "  /* Definition of color scheme for unfitted estimators */\n",
       "  --sklearn-color-unfitted-level-0: #fff5e6;\n",
       "  --sklearn-color-unfitted-level-1: #f6e4d2;\n",
       "  --sklearn-color-unfitted-level-2: #ffe0b3;\n",
       "  --sklearn-color-unfitted-level-3: chocolate;\n",
       "  /* Definition of color scheme for fitted estimators */\n",
       "  --sklearn-color-fitted-level-0: #f0f8ff;\n",
       "  --sklearn-color-fitted-level-1: #d4ebff;\n",
       "  --sklearn-color-fitted-level-2: #b3dbfd;\n",
       "  --sklearn-color-fitted-level-3: cornflowerblue;\n",
       "\n",
       "  /* Specific color for light theme */\n",
       "  --sklearn-color-text-on-default-background: var(--sg-text-color, var(--theme-code-foreground, var(--jp-content-font-color1, black)));\n",
       "  --sklearn-color-background: var(--sg-background-color, var(--theme-background, var(--jp-layout-color0, white)));\n",
       "  --sklearn-color-border-box: var(--sg-text-color, var(--theme-code-foreground, var(--jp-content-font-color1, black)));\n",
       "  --sklearn-color-icon: #696969;\n",
       "\n",
       "  @media (prefers-color-scheme: dark) {\n",
       "    /* Redefinition of color scheme for dark theme */\n",
       "    --sklearn-color-text-on-default-background: var(--sg-text-color, var(--theme-code-foreground, var(--jp-content-font-color1, white)));\n",
       "    --sklearn-color-background: var(--sg-background-color, var(--theme-background, var(--jp-layout-color0, #111)));\n",
       "    --sklearn-color-border-box: var(--sg-text-color, var(--theme-code-foreground, var(--jp-content-font-color1, white)));\n",
       "    --sklearn-color-icon: #878787;\n",
       "  }\n",
       "}\n",
       "\n",
       "#sk-container-id-2 {\n",
       "  color: var(--sklearn-color-text);\n",
       "}\n",
       "\n",
       "#sk-container-id-2 pre {\n",
       "  padding: 0;\n",
       "}\n",
       "\n",
       "#sk-container-id-2 input.sk-hidden--visually {\n",
       "  border: 0;\n",
       "  clip: rect(1px 1px 1px 1px);\n",
       "  clip: rect(1px, 1px, 1px, 1px);\n",
       "  height: 1px;\n",
       "  margin: -1px;\n",
       "  overflow: hidden;\n",
       "  padding: 0;\n",
       "  position: absolute;\n",
       "  width: 1px;\n",
       "}\n",
       "\n",
       "#sk-container-id-2 div.sk-dashed-wrapped {\n",
       "  border: 1px dashed var(--sklearn-color-line);\n",
       "  margin: 0 0.4em 0.5em 0.4em;\n",
       "  box-sizing: border-box;\n",
       "  padding-bottom: 0.4em;\n",
       "  background-color: var(--sklearn-color-background);\n",
       "}\n",
       "\n",
       "#sk-container-id-2 div.sk-container {\n",
       "  /* jupyter's `normalize.less` sets `[hidden] { display: none; }`\n",
       "     but bootstrap.min.css set `[hidden] { display: none !important; }`\n",
       "     so we also need the `!important` here to be able to override the\n",
       "     default hidden behavior on the sphinx rendered scikit-learn.org.\n",
       "     See: https://github.com/scikit-learn/scikit-learn/issues/21755 */\n",
       "  display: inline-block !important;\n",
       "  position: relative;\n",
       "}\n",
       "\n",
       "#sk-container-id-2 div.sk-text-repr-fallback {\n",
       "  display: none;\n",
       "}\n",
       "\n",
       "div.sk-parallel-item,\n",
       "div.sk-serial,\n",
       "div.sk-item {\n",
       "  /* draw centered vertical line to link estimators */\n",
       "  background-image: linear-gradient(var(--sklearn-color-text-on-default-background), var(--sklearn-color-text-on-default-background));\n",
       "  background-size: 2px 100%;\n",
       "  background-repeat: no-repeat;\n",
       "  background-position: center center;\n",
       "}\n",
       "\n",
       "/* Parallel-specific style estimator block */\n",
       "\n",
       "#sk-container-id-2 div.sk-parallel-item::after {\n",
       "  content: \"\";\n",
       "  width: 100%;\n",
       "  border-bottom: 2px solid var(--sklearn-color-text-on-default-background);\n",
       "  flex-grow: 1;\n",
       "}\n",
       "\n",
       "#sk-container-id-2 div.sk-parallel {\n",
       "  display: flex;\n",
       "  align-items: stretch;\n",
       "  justify-content: center;\n",
       "  background-color: var(--sklearn-color-background);\n",
       "  position: relative;\n",
       "}\n",
       "\n",
       "#sk-container-id-2 div.sk-parallel-item {\n",
       "  display: flex;\n",
       "  flex-direction: column;\n",
       "}\n",
       "\n",
       "#sk-container-id-2 div.sk-parallel-item:first-child::after {\n",
       "  align-self: flex-end;\n",
       "  width: 50%;\n",
       "}\n",
       "\n",
       "#sk-container-id-2 div.sk-parallel-item:last-child::after {\n",
       "  align-self: flex-start;\n",
       "  width: 50%;\n",
       "}\n",
       "\n",
       "#sk-container-id-2 div.sk-parallel-item:only-child::after {\n",
       "  width: 0;\n",
       "}\n",
       "\n",
       "/* Serial-specific style estimator block */\n",
       "\n",
       "#sk-container-id-2 div.sk-serial {\n",
       "  display: flex;\n",
       "  flex-direction: column;\n",
       "  align-items: center;\n",
       "  background-color: var(--sklearn-color-background);\n",
       "  padding-right: 1em;\n",
       "  padding-left: 1em;\n",
       "}\n",
       "\n",
       "\n",
       "/* Toggleable style: style used for estimator/Pipeline/ColumnTransformer box that is\n",
       "clickable and can be expanded/collapsed.\n",
       "- Pipeline and ColumnTransformer use this feature and define the default style\n",
       "- Estimators will overwrite some part of the style using the `sk-estimator` class\n",
       "*/\n",
       "\n",
       "/* Pipeline and ColumnTransformer style (default) */\n",
       "\n",
       "#sk-container-id-2 div.sk-toggleable {\n",
       "  /* Default theme specific background. It is overwritten whether we have a\n",
       "  specific estimator or a Pipeline/ColumnTransformer */\n",
       "  background-color: var(--sklearn-color-background);\n",
       "}\n",
       "\n",
       "/* Toggleable label */\n",
       "#sk-container-id-2 label.sk-toggleable__label {\n",
       "  cursor: pointer;\n",
       "  display: block;\n",
       "  width: 100%;\n",
       "  margin-bottom: 0;\n",
       "  padding: 0.5em;\n",
       "  box-sizing: border-box;\n",
       "  text-align: center;\n",
       "}\n",
       "\n",
       "#sk-container-id-2 label.sk-toggleable__label-arrow:before {\n",
       "  /* Arrow on the left of the label */\n",
       "  content: \"▸\";\n",
       "  float: left;\n",
       "  margin-right: 0.25em;\n",
       "  color: var(--sklearn-color-icon);\n",
       "}\n",
       "\n",
       "#sk-container-id-2 label.sk-toggleable__label-arrow:hover:before {\n",
       "  color: var(--sklearn-color-text);\n",
       "}\n",
       "\n",
       "/* Toggleable content - dropdown */\n",
       "\n",
       "#sk-container-id-2 div.sk-toggleable__content {\n",
       "  max-height: 0;\n",
       "  max-width: 0;\n",
       "  overflow: hidden;\n",
       "  text-align: left;\n",
       "  /* unfitted */\n",
       "  background-color: var(--sklearn-color-unfitted-level-0);\n",
       "}\n",
       "\n",
       "#sk-container-id-2 div.sk-toggleable__content.fitted {\n",
       "  /* fitted */\n",
       "  background-color: var(--sklearn-color-fitted-level-0);\n",
       "}\n",
       "\n",
       "#sk-container-id-2 div.sk-toggleable__content pre {\n",
       "  margin: 0.2em;\n",
       "  border-radius: 0.25em;\n",
       "  color: var(--sklearn-color-text);\n",
       "  /* unfitted */\n",
       "  background-color: var(--sklearn-color-unfitted-level-0);\n",
       "}\n",
       "\n",
       "#sk-container-id-2 div.sk-toggleable__content.fitted pre {\n",
       "  /* unfitted */\n",
       "  background-color: var(--sklearn-color-fitted-level-0);\n",
       "}\n",
       "\n",
       "#sk-container-id-2 input.sk-toggleable__control:checked~div.sk-toggleable__content {\n",
       "  /* Expand drop-down */\n",
       "  max-height: 200px;\n",
       "  max-width: 100%;\n",
       "  overflow: auto;\n",
       "}\n",
       "\n",
       "#sk-container-id-2 input.sk-toggleable__control:checked~label.sk-toggleable__label-arrow:before {\n",
       "  content: \"▾\";\n",
       "}\n",
       "\n",
       "/* Pipeline/ColumnTransformer-specific style */\n",
       "\n",
       "#sk-container-id-2 div.sk-label input.sk-toggleable__control:checked~label.sk-toggleable__label {\n",
       "  color: var(--sklearn-color-text);\n",
       "  background-color: var(--sklearn-color-unfitted-level-2);\n",
       "}\n",
       "\n",
       "#sk-container-id-2 div.sk-label.fitted input.sk-toggleable__control:checked~label.sk-toggleable__label {\n",
       "  background-color: var(--sklearn-color-fitted-level-2);\n",
       "}\n",
       "\n",
       "/* Estimator-specific style */\n",
       "\n",
       "/* Colorize estimator box */\n",
       "#sk-container-id-2 div.sk-estimator input.sk-toggleable__control:checked~label.sk-toggleable__label {\n",
       "  /* unfitted */\n",
       "  background-color: var(--sklearn-color-unfitted-level-2);\n",
       "}\n",
       "\n",
       "#sk-container-id-2 div.sk-estimator.fitted input.sk-toggleable__control:checked~label.sk-toggleable__label {\n",
       "  /* fitted */\n",
       "  background-color: var(--sklearn-color-fitted-level-2);\n",
       "}\n",
       "\n",
       "#sk-container-id-2 div.sk-label label.sk-toggleable__label,\n",
       "#sk-container-id-2 div.sk-label label {\n",
       "  /* The background is the default theme color */\n",
       "  color: var(--sklearn-color-text-on-default-background);\n",
       "}\n",
       "\n",
       "/* On hover, darken the color of the background */\n",
       "#sk-container-id-2 div.sk-label:hover label.sk-toggleable__label {\n",
       "  color: var(--sklearn-color-text);\n",
       "  background-color: var(--sklearn-color-unfitted-level-2);\n",
       "}\n",
       "\n",
       "/* Label box, darken color on hover, fitted */\n",
       "#sk-container-id-2 div.sk-label.fitted:hover label.sk-toggleable__label.fitted {\n",
       "  color: var(--sklearn-color-text);\n",
       "  background-color: var(--sklearn-color-fitted-level-2);\n",
       "}\n",
       "\n",
       "/* Estimator label */\n",
       "\n",
       "#sk-container-id-2 div.sk-label label {\n",
       "  font-family: monospace;\n",
       "  font-weight: bold;\n",
       "  display: inline-block;\n",
       "  line-height: 1.2em;\n",
       "}\n",
       "\n",
       "#sk-container-id-2 div.sk-label-container {\n",
       "  text-align: center;\n",
       "}\n",
       "\n",
       "/* Estimator-specific */\n",
       "#sk-container-id-2 div.sk-estimator {\n",
       "  font-family: monospace;\n",
       "  border: 1px dotted var(--sklearn-color-border-box);\n",
       "  border-radius: 0.25em;\n",
       "  box-sizing: border-box;\n",
       "  margin-bottom: 0.5em;\n",
       "  /* unfitted */\n",
       "  background-color: var(--sklearn-color-unfitted-level-0);\n",
       "}\n",
       "\n",
       "#sk-container-id-2 div.sk-estimator.fitted {\n",
       "  /* fitted */\n",
       "  background-color: var(--sklearn-color-fitted-level-0);\n",
       "}\n",
       "\n",
       "/* on hover */\n",
       "#sk-container-id-2 div.sk-estimator:hover {\n",
       "  /* unfitted */\n",
       "  background-color: var(--sklearn-color-unfitted-level-2);\n",
       "}\n",
       "\n",
       "#sk-container-id-2 div.sk-estimator.fitted:hover {\n",
       "  /* fitted */\n",
       "  background-color: var(--sklearn-color-fitted-level-2);\n",
       "}\n",
       "\n",
       "/* Specification for estimator info (e.g. \"i\" and \"?\") */\n",
       "\n",
       "/* Common style for \"i\" and \"?\" */\n",
       "\n",
       ".sk-estimator-doc-link,\n",
       "a:link.sk-estimator-doc-link,\n",
       "a:visited.sk-estimator-doc-link {\n",
       "  float: right;\n",
       "  font-size: smaller;\n",
       "  line-height: 1em;\n",
       "  font-family: monospace;\n",
       "  background-color: var(--sklearn-color-background);\n",
       "  border-radius: 1em;\n",
       "  height: 1em;\n",
       "  width: 1em;\n",
       "  text-decoration: none !important;\n",
       "  margin-left: 1ex;\n",
       "  /* unfitted */\n",
       "  border: var(--sklearn-color-unfitted-level-1) 1pt solid;\n",
       "  color: var(--sklearn-color-unfitted-level-1);\n",
       "}\n",
       "\n",
       ".sk-estimator-doc-link.fitted,\n",
       "a:link.sk-estimator-doc-link.fitted,\n",
       "a:visited.sk-estimator-doc-link.fitted {\n",
       "  /* fitted */\n",
       "  border: var(--sklearn-color-fitted-level-1) 1pt solid;\n",
       "  color: var(--sklearn-color-fitted-level-1);\n",
       "}\n",
       "\n",
       "/* On hover */\n",
       "div.sk-estimator:hover .sk-estimator-doc-link:hover,\n",
       ".sk-estimator-doc-link:hover,\n",
       "div.sk-label-container:hover .sk-estimator-doc-link:hover,\n",
       ".sk-estimator-doc-link:hover {\n",
       "  /* unfitted */\n",
       "  background-color: var(--sklearn-color-unfitted-level-3);\n",
       "  color: var(--sklearn-color-background);\n",
       "  text-decoration: none;\n",
       "}\n",
       "\n",
       "div.sk-estimator.fitted:hover .sk-estimator-doc-link.fitted:hover,\n",
       ".sk-estimator-doc-link.fitted:hover,\n",
       "div.sk-label-container:hover .sk-estimator-doc-link.fitted:hover,\n",
       ".sk-estimator-doc-link.fitted:hover {\n",
       "  /* fitted */\n",
       "  background-color: var(--sklearn-color-fitted-level-3);\n",
       "  color: var(--sklearn-color-background);\n",
       "  text-decoration: none;\n",
       "}\n",
       "\n",
       "/* Span, style for the box shown on hovering the info icon */\n",
       ".sk-estimator-doc-link span {\n",
       "  display: none;\n",
       "  z-index: 9999;\n",
       "  position: relative;\n",
       "  font-weight: normal;\n",
       "  right: .2ex;\n",
       "  padding: .5ex;\n",
       "  margin: .5ex;\n",
       "  width: min-content;\n",
       "  min-width: 20ex;\n",
       "  max-width: 50ex;\n",
       "  color: var(--sklearn-color-text);\n",
       "  box-shadow: 2pt 2pt 4pt #999;\n",
       "  /* unfitted */\n",
       "  background: var(--sklearn-color-unfitted-level-0);\n",
       "  border: .5pt solid var(--sklearn-color-unfitted-level-3);\n",
       "}\n",
       "\n",
       ".sk-estimator-doc-link.fitted span {\n",
       "  /* fitted */\n",
       "  background: var(--sklearn-color-fitted-level-0);\n",
       "  border: var(--sklearn-color-fitted-level-3);\n",
       "}\n",
       "\n",
       ".sk-estimator-doc-link:hover span {\n",
       "  display: block;\n",
       "}\n",
       "\n",
       "/* \"?\"-specific style due to the `<a>` HTML tag */\n",
       "\n",
       "#sk-container-id-2 a.estimator_doc_link {\n",
       "  float: right;\n",
       "  font-size: 1rem;\n",
       "  line-height: 1em;\n",
       "  font-family: monospace;\n",
       "  background-color: var(--sklearn-color-background);\n",
       "  border-radius: 1rem;\n",
       "  height: 1rem;\n",
       "  width: 1rem;\n",
       "  text-decoration: none;\n",
       "  /* unfitted */\n",
       "  color: var(--sklearn-color-unfitted-level-1);\n",
       "  border: var(--sklearn-color-unfitted-level-1) 1pt solid;\n",
       "}\n",
       "\n",
       "#sk-container-id-2 a.estimator_doc_link.fitted {\n",
       "  /* fitted */\n",
       "  border: var(--sklearn-color-fitted-level-1) 1pt solid;\n",
       "  color: var(--sklearn-color-fitted-level-1);\n",
       "}\n",
       "\n",
       "/* On hover */\n",
       "#sk-container-id-2 a.estimator_doc_link:hover {\n",
       "  /* unfitted */\n",
       "  background-color: var(--sklearn-color-unfitted-level-3);\n",
       "  color: var(--sklearn-color-background);\n",
       "  text-decoration: none;\n",
       "}\n",
       "\n",
       "#sk-container-id-2 a.estimator_doc_link.fitted:hover {\n",
       "  /* fitted */\n",
       "  background-color: var(--sklearn-color-fitted-level-3);\n",
       "}\n",
       "</style><div id=\"sk-container-id-2\" class=\"sk-top-container\"><div class=\"sk-text-repr-fallback\"><pre>GridSearchCV(cv=KFold(n_splits=5, random_state=0, shuffle=True),\n",
       "             estimator=KNeighborsClassifier(), n_jobs=-1,\n",
       "             param_grid={&#x27;metric&#x27;: [&#x27;euclidean&#x27;, &#x27;manhattan&#x27;, &#x27;cosine&#x27;],\n",
       "                         &#x27;n_neighbors&#x27;: [3, 5, 7, 9, 11, 13, 17, 19],\n",
       "                         &#x27;weights&#x27;: [&#x27;uniform&#x27;, &#x27;distance&#x27;]},\n",
       "             scoring=&#x27;f1_macro&#x27;)</pre><b>In a Jupyter environment, please rerun this cell to show the HTML representation or trust the notebook. <br />On GitHub, the HTML representation is unable to render, please try loading this page with nbviewer.org.</b></div><div class=\"sk-container\" hidden><div class=\"sk-item sk-dashed-wrapped\"><div class=\"sk-label-container\"><div class=\"sk-label fitted sk-toggleable\"><input class=\"sk-toggleable__control sk-hidden--visually\" id=\"sk-estimator-id-4\" type=\"checkbox\" ><label for=\"sk-estimator-id-4\" class=\"sk-toggleable__label fitted sk-toggleable__label-arrow fitted\">&nbsp;&nbsp;GridSearchCV<a class=\"sk-estimator-doc-link fitted\" rel=\"noreferrer\" target=\"_blank\" href=\"https://scikit-learn.org/1.5/modules/generated/sklearn.model_selection.GridSearchCV.html\">?<span>Documentation for GridSearchCV</span></a><span class=\"sk-estimator-doc-link fitted\">i<span>Fitted</span></span></label><div class=\"sk-toggleable__content fitted\"><pre>GridSearchCV(cv=KFold(n_splits=5, random_state=0, shuffle=True),\n",
       "             estimator=KNeighborsClassifier(), n_jobs=-1,\n",
       "             param_grid={&#x27;metric&#x27;: [&#x27;euclidean&#x27;, &#x27;manhattan&#x27;, &#x27;cosine&#x27;],\n",
       "                         &#x27;n_neighbors&#x27;: [3, 5, 7, 9, 11, 13, 17, 19],\n",
       "                         &#x27;weights&#x27;: [&#x27;uniform&#x27;, &#x27;distance&#x27;]},\n",
       "             scoring=&#x27;f1_macro&#x27;)</pre></div> </div></div><div class=\"sk-parallel\"><div class=\"sk-parallel-item\"><div class=\"sk-item\"><div class=\"sk-label-container\"><div class=\"sk-label fitted sk-toggleable\"><input class=\"sk-toggleable__control sk-hidden--visually\" id=\"sk-estimator-id-5\" type=\"checkbox\" ><label for=\"sk-estimator-id-5\" class=\"sk-toggleable__label fitted sk-toggleable__label-arrow fitted\">best_estimator_: KNeighborsClassifier</label><div class=\"sk-toggleable__content fitted\"><pre>KNeighborsClassifier(metric=&#x27;cosine&#x27;, n_neighbors=13, weights=&#x27;distance&#x27;)</pre></div> </div></div><div class=\"sk-serial\"><div class=\"sk-item\"><div class=\"sk-estimator fitted sk-toggleable\"><input class=\"sk-toggleable__control sk-hidden--visually\" id=\"sk-estimator-id-6\" type=\"checkbox\" ><label for=\"sk-estimator-id-6\" class=\"sk-toggleable__label fitted sk-toggleable__label-arrow fitted\">&nbsp;KNeighborsClassifier<a class=\"sk-estimator-doc-link fitted\" rel=\"noreferrer\" target=\"_blank\" href=\"https://scikit-learn.org/1.5/modules/generated/sklearn.neighbors.KNeighborsClassifier.html\">?<span>Documentation for KNeighborsClassifier</span></a></label><div class=\"sk-toggleable__content fitted\"><pre>KNeighborsClassifier(metric=&#x27;cosine&#x27;, n_neighbors=13, weights=&#x27;distance&#x27;)</pre></div> </div></div></div></div></div></div></div></div></div>"
      ],
      "text/plain": [
       "GridSearchCV(cv=KFold(n_splits=5, random_state=0, shuffle=True),\n",
       "             estimator=KNeighborsClassifier(), n_jobs=-1,\n",
       "             param_grid={'metric': ['euclidean', 'manhattan', 'cosine'],\n",
       "                         'n_neighbors': [3, 5, 7, 9, 11, 13, 17, 19],\n",
       "                         'weights': ['uniform', 'distance']},\n",
       "             scoring='f1_macro')"
      ]
     },
     "execution_count": 188,
     "metadata": {},
     "output_type": "execute_result"
    }
   ],
   "source": [
    "from sklearn.model_selection import KFold\n",
    "# Parametros a probar\n",
    "param_grid = {\n",
    "    \"n_neighbors\": [3, 5, 7, 9, 11, 13, 17, 19],  # número de vecinos\n",
    "    \"weights\": [\"uniform\", \"distance\"],         # todos iguales o ponderados por distancia\n",
    "    \"metric\": [\"euclidean\", \"manhattan\", \"cosine\"]  # diferentes métricas de distancia\n",
    "}\n",
    "particiones = KFold(n_splits=5, shuffle=True, random_state = 0)\n",
    "# GridSearchCV con 5 particiones y F1-macro como métrica\n",
    "mejor_modelo = GridSearchCV(KNeighborsClassifier(), param_grid, cv=particiones, scoring=\"f1_macro\", n_jobs=-1)\n",
    "mejor_modelo.fit(X_train_res, y_train_res)"
   ]
  },
  {
   "cell_type": "code",
   "execution_count": 189,
   "id": "96835a3b",
   "metadata": {},
   "outputs": [
    {
     "data": {
      "text/plain": [
       "{'metric': 'cosine', 'n_neighbors': 13, 'weights': 'distance'}"
      ]
     },
     "execution_count": 189,
     "metadata": {},
     "output_type": "execute_result"
    }
   ],
   "source": [
    "mejor_modelo.best_params_"
   ]
  },
  {
   "cell_type": "code",
   "execution_count": 190,
   "id": "313835bc",
   "metadata": {},
   "outputs": [
    {
     "name": "stdout",
     "output_type": "stream",
     "text": [
      "=== Resultados del mejor modelo ===\n",
      "              precision    recall  f1-score   support\n",
      "\n",
      "           1      0.795     1.000     0.886       101\n",
      "           3      0.964     0.894     0.928       179\n",
      "           4      0.969     0.907     0.937       205\n",
      "\n",
      "    accuracy                          0.922       485\n",
      "   macro avg      0.909     0.934     0.917       485\n",
      "weighted avg      0.931     0.922     0.923       485\n",
      "\n"
     ]
    }
   ],
   "source": [
    "knn_final = mejor_modelo.best_estimator_\n",
    "y_pred = knn_final.predict(X_test_tfidf)\n",
    "print(\"=== Resultados del mejor modelo ===\")\n",
    "print(classification_report(y_test, y_pred, digits=3))\n"
   ]
  },
  {
   "cell_type": "markdown",
   "id": "16175030",
   "metadata": {},
   "source": [
    "### Resultados"
   ]
  },
  {
   "cell_type": "markdown",
   "id": "a23c97ad",
   "metadata": {},
   "source": [
    "Despues de aplicar los 3 modelos se selecciono el de regresion logistica , con cross validation y Smote , ya que es el que da un valor mejor valor de accuracy y es consistente entre clases para clasificar."
   ]
  },
  {
   "cell_type": "code",
   "execution_count": 191,
   "id": "516aa17a",
   "metadata": {},
   "outputs": [],
   "source": [
    "df_test = pd.read_excel('data/Datos de prueba_proyecto.xlsx')\n",
    "df_process = df_test.copy()\n",
    "\n",
    "\"\"\"Remove non-ASCII characters from list of tokenized words\"\"\"\n",
    "def remove_non_ascii(words):\n",
    "    new_words = []\n",
    "    for word in words:\n",
    "        if word is not None:\n",
    "          new_word = unicodedata.normalize('NFKD', word).encode('ascii', 'ignore').decode('utf-8', 'ignore')\n",
    "          new_words.append(new_word)\n",
    "    return new_words\n",
    "\n",
    "\"\"\"Convert all characters to lowercase from list of tokenized words \"\"\"\n",
    "def to_lowercase(words):\n",
    "    return [ word.lower() for word in words]\n",
    "\n",
    "\"\"\"Remove punctuation from list of tokenized words\"\"\"\n",
    "def remove_punctuation(words):\n",
    "    new_words = []\n",
    "    for word in words:\n",
    "        if word is not None:\n",
    "            new_word = re.sub(r'[^\\w\\s]', '', word)\n",
    "            if new_word != '':\n",
    "                new_words.append(new_word)\n",
    "    return new_words\n",
    "\n",
    "\"\"\"Remove stop words from list of tokenized words\"\"\"\n",
    "def remove_stopwords(words):\n",
    "    stop_words = set(stopwords.words(\"spanish\"))\n",
    "    return [w for w in words if w.lower() not in stop_words]\n",
    "  \n",
    "\"\"\"Make all transformations to text\"\"\"\n",
    "def preprocessing(words):\n",
    "    words = to_lowercase(words)\n",
    "    words = remove_punctuation(words)\n",
    "    words = remove_non_ascii(words)\n",
    "    words = remove_stopwords(words)\n",
    "    return words\n",
    "\n",
    "\n",
    "df_process['palabras'] = df_process['Textos_espanol'].apply(word_tokenize)\n",
    "df_process['palabras'] = df_process['palabras'].apply(preprocessing)\n",
    "\n",
    "#Textos es el texto largo\n",
    "df_process['palabrasProces'] = df_process['palabras'].apply(preprocessing)\n",
    "\n",
    "stemmer = SnowballStemmer(\"spanish\")\n",
    "\n",
    "# Load spaCy Spanish model\n",
    "nlp = spacy.load(\"es_core_news_sm\")\n",
    "\n",
    "\n",
    "\n",
    "def stem_words(words):\n",
    "    \"\"\"Stem words in list of tokenized words (Spanish).\"\"\"\n",
    "    return [stemmer.stem(w) for w in words]\n",
    "\n",
    "def lemmatize_verbs(words):\n",
    "    \"\"\"Lemmatize words in list of tokenized words (Spanish).\"\"\"\n",
    "    doc = nlp(\" \".join(words))\n",
    "    # Return lemmas, focusing on verbs (if you want *all words*, remove the if check)\n",
    "    return [token.lemma_ for token in doc]\n",
    "\n",
    "def stem_and_lemmatize(words):\n",
    "    \"\"\"Combine stems and lemmas (verbs) if needed.\"\"\"\n",
    "    stems = stem_words(words)\n",
    "    lemmas = lemmatize_verbs(words)\n",
    "    return stems + lemmas\n",
    "\n",
    "df_process['palabras'] = df_process['palabrasProces'].apply(stem_and_lemmatize)\n",
    "\n",
    "df_test['labels'] = pipelineLogisticReg.predict(df_process['palabras'])\n",
    "df_test.to_csv(\"predicciones_ONU.csv\", index=False, encoding=\"utf-8\")\n",
    "\n",
    "\n",
    "\n",
    "\n"
   ]
  }
 ],
 "metadata": {
  "kernelspec": {
   "display_name": "base",
   "language": "python",
   "name": "python3"
  },
  "language_info": {
   "codemirror_mode": {
    "name": "ipython",
    "version": 3
   },
   "file_extension": ".py",
   "mimetype": "text/x-python",
   "name": "python",
   "nbconvert_exporter": "python",
   "pygments_lexer": "ipython3",
   "version": "3.12.7"
  }
 },
 "nbformat": 4,
 "nbformat_minor": 5
}
