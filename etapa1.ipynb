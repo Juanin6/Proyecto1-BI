{
 "cells": [
  {
   "cell_type": "markdown",
   "id": "b7c6c41b",
   "metadata": {},
   "source": [
    "# Proyecto 1 (Inteligencia de Negocios)\n",
    "\n",
    "## Roles\n",
    "\n",
    "- **Lider de Datos** --- Juan Nicolas Suarez\n",
    "- **Lider de Analitica** --- David Santiago Carillo\n",
    "- **Lider de Negocio** --- Mauricio Martinez Urbaneja\n",
    "\n"
   ]
  },
  {
   "cell_type": "markdown",
   "id": "640ffc8e",
   "metadata": {},
   "source": [
    "## Objetivo principal del proyecto\n",
    "\n",
    "- Vincular de forma automática las opiniones de la ciudadanía con los Objetivos de Desarrollo\n",
    "Sostenible (ODS) 1, 3 y 4\n",
    "\n",
    "    **1.“Fin de la pobreza”** \n",
    "\n",
    "    **3.“Salud y bienestar”**\n",
    "\n",
    "    **4.“Educación de calidad”**"
   ]
  },
  {
   "cell_type": "markdown",
   "id": "d766e3d2",
   "metadata": {},
   "source": [
    "## Etapa 1 del Proyecto"
   ]
  },
  {
   "cell_type": "markdown",
   "id": "905d2faa",
   "metadata": {},
   "source": [
    "## Objetivo Etapa 1\n",
    "- Aplicar la metodología de analítica de textos para la construcción de soluciones de analítica alineadas con los objetivos de organizaciones en un contexto de aplicación.\n"
   ]
  },
  {
   "cell_type": "markdown",
   "id": "598c50f2",
   "metadata": {},
   "source": [
    "## Tareas"
   ]
  },
  {
   "cell_type": "markdown",
   "id": "6b578cc2",
   "metadata": {},
   "source": [
    "1. Canvas de aprendizaje automatico"
   ]
  },
  {
   "cell_type": "markdown",
   "id": "7ff9d40c",
   "metadata": {},
   "source": [
    "## Modelo de Machine Learning"
   ]
  },
  {
   "cell_type": "markdown",
   "id": "c2f0fc92",
   "metadata": {},
   "source": [
    "### 1. Instalacion e importacion de librerias"
   ]
  },
  {
   "cell_type": "code",
   "execution_count": 55,
   "id": "05ad46d0",
   "metadata": {},
   "outputs": [],
   "source": [
    "#!pip uninstall -y pandas-profiling\n"
   ]
  },
  {
   "cell_type": "code",
   "execution_count": 56,
   "id": "2144d021",
   "metadata": {},
   "outputs": [],
   "source": [
    "#!pip install -U \"visions[type_image_path]>=0.7.5,<0.8.2\"\n"
   ]
  },
  {
   "cell_type": "code",
   "execution_count": 57,
   "id": "1a555e7f",
   "metadata": {},
   "outputs": [],
   "source": [
    "#!pip install -U ydata-profiling"
   ]
  },
  {
   "cell_type": "code",
   "execution_count": 58,
   "id": "099bd80d",
   "metadata": {},
   "outputs": [],
   "source": [
    "#!pip install numba==0.56.4\n"
   ]
  },
  {
   "cell_type": "code",
   "execution_count": 59,
   "id": "772c9366",
   "metadata": {},
   "outputs": [],
   "source": [
    "#%pip install \"numpy==1.26.4\"\n",
    "\n",
    "#%pip install nltk \"spacy<3.8\"\n",
    "\n",
    "\n"
   ]
  },
  {
   "cell_type": "code",
   "execution_count": 60,
   "id": "9658b3b5",
   "metadata": {},
   "outputs": [],
   "source": [
    "#!python -m spacy download es_core_news_sm"
   ]
  },
  {
   "cell_type": "code",
   "execution_count": 61,
   "id": "0e7dca14",
   "metadata": {},
   "outputs": [
    {
     "name": "stderr",
     "output_type": "stream",
     "text": [
      "[nltk_data] Downloading package punkt to\n",
      "[nltk_data]     C:\\Users\\juani\\AppData\\Roaming\\nltk_data...\n",
      "[nltk_data]   Package punkt is already up-to-date!\n"
     ]
    },
    {
     "data": {
      "text/plain": [
       "True"
      ]
     },
     "execution_count": 61,
     "metadata": {},
     "output_type": "execute_result"
    }
   ],
   "source": [
    "# librería Natural Language Toolkit, usada para trabajar con textos\n",
    "import nltk\n",
    "# Punkt permite separar un texto en frases.\n",
    "nltk.download('punkt')"
   ]
  },
  {
   "cell_type": "code",
   "execution_count": 62,
   "id": "0445b1b3",
   "metadata": {},
   "outputs": [
    {
     "name": "stderr",
     "output_type": "stream",
     "text": [
      "[nltk_data] Downloading package punkt_tab to\n",
      "[nltk_data]     C:\\Users\\juani\\AppData\\Roaming\\nltk_data...\n",
      "[nltk_data]   Package punkt_tab is already up-to-date!\n"
     ]
    },
    {
     "data": {
      "text/plain": [
       "True"
      ]
     },
     "execution_count": 62,
     "metadata": {},
     "output_type": "execute_result"
    }
   ],
   "source": [
    "nltk.download('punkt_tab')"
   ]
  },
  {
   "cell_type": "markdown",
   "id": "559e579f",
   "metadata": {},
   "source": [
    "### 1.1 Descargar Stopwords y lema de palabras"
   ]
  },
  {
   "cell_type": "code",
   "execution_count": 63,
   "id": "78611856",
   "metadata": {},
   "outputs": [
    {
     "name": "stderr",
     "output_type": "stream",
     "text": [
      "[nltk_data] Downloading package stopwords to\n",
      "[nltk_data]     C:\\Users\\juani\\AppData\\Roaming\\nltk_data...\n",
      "[nltk_data]   Package stopwords is already up-to-date!\n"
     ]
    },
    {
     "data": {
      "text/plain": [
       "True"
      ]
     },
     "execution_count": 63,
     "metadata": {},
     "output_type": "execute_result"
    }
   ],
   "source": [
    "# StopWords\n",
    "nltk.download('stopwords')"
   ]
  },
  {
   "cell_type": "code",
   "execution_count": 64,
   "id": "7be5f7d7",
   "metadata": {},
   "outputs": [
    {
     "name": "stderr",
     "output_type": "stream",
     "text": [
      "[nltk_data] Downloading package wordnet to\n",
      "[nltk_data]     C:\\Users\\juani\\AppData\\Roaming\\nltk_data...\n",
      "[nltk_data]   Package wordnet is already up-to-date!\n"
     ]
    },
    {
     "data": {
      "text/plain": [
       "True"
      ]
     },
     "execution_count": 64,
     "metadata": {},
     "output_type": "execute_result"
    }
   ],
   "source": [
    "#WordNetLemmatizer (lema)\n",
    "nltk.download('wordnet')"
   ]
  },
  {
   "cell_type": "code",
   "execution_count": 65,
   "id": "ac03b433",
   "metadata": {},
   "outputs": [
    {
     "name": "stderr",
     "output_type": "stream",
     "text": [
      "'{sys.executable}' is not recognized as an internal or external command,\n",
      "operable program or batch file.\n"
     ]
    }
   ],
   "source": [
    "# Instalación de librerias\n",
    "import pandas as pd\n",
    "import numpy as np\n",
    "import seaborn as sns\n",
    "!{sys.executable} -m pip install pandas-profiling\n",
    "\n",
    "import re, string, unicodedata\n",
    "from nltk import word_tokenize, sent_tokenize\n",
    "from nltk.corpus import stopwords\n",
    "from nltk.stem import LancasterStemmer, WordNetLemmatizer\n",
    "from nltk.stem.snowball import SnowballStemmer\n",
    "import spacy\n",
    "from imblearn.over_sampling import SMOTE\n",
    "from imblearn.pipeline import Pipeline as ImbPipeline   # OJO: de imblearn, no de sklearn\n",
    "\n",
    "\n",
    "from sklearn.linear_model import LogisticRegression\n",
    "from sklearn.model_selection import train_test_split,GridSearchCV, cross_val_score\n",
    "from sklearn.feature_extraction.text import TfidfVectorizer, CountVectorizer, HashingVectorizer\n",
    "from sklearn.pipeline import Pipeline, FeatureUnion\n",
    "from sklearn.svm import SVC\n",
    "from sklearn.ensemble import BaggingClassifier, RandomForestClassifier, AdaBoostClassifier\n",
    "from sklearn.naive_bayes import BernoulliNB\n",
    "from sklearn.metrics import classification_report, confusion_matrix , ConfusionMatrixDisplay , roc_curve, roc_auc_score\n",
    "\n",
    "from collections import Counter\n",
    "\n",
    "\n",
    "from sklearn.base import BaseEstimator, ClassifierMixin\n",
    "#from ydata_profiling import ProfileReport \n",
    "import matplotlib.pyplot as plt"
   ]
  },
  {
   "cell_type": "markdown",
   "id": "c4280ae5",
   "metadata": {},
   "source": []
  },
  {
   "cell_type": "code",
   "execution_count": 66,
   "id": "9f69f810",
   "metadata": {},
   "outputs": [
    {
     "name": "stdout",
     "output_type": "stream",
     "text": [
      "3.7.5\n"
     ]
    }
   ],
   "source": [
    "print(spacy.__version__)\n"
   ]
  },
  {
   "cell_type": "markdown",
   "id": "0e030ce4",
   "metadata": {},
   "source": [
    "### 2.Perfilamiento y entendmiento de los datos"
   ]
  },
  {
   "cell_type": "markdown",
   "id": "1faeed6d",
   "metadata": {},
   "source": [
    "### 2.1 Lectura de los datos"
   ]
  },
  {
   "cell_type": "code",
   "execution_count": 67,
   "id": "adfe667c",
   "metadata": {},
   "outputs": [],
   "source": [
    "df_text = pd.read_excel('data/Datos_proyecto.xlsx' )\n",
    "df_textC = df_text"
   ]
  },
  {
   "cell_type": "code",
   "execution_count": 68,
   "id": "e8deefc0",
   "metadata": {},
   "outputs": [
    {
     "data": {
      "application/vnd.microsoft.datawrangler.viewer.v0+json": {
       "columns": [
        {
         "name": "index",
         "rawType": "int64",
         "type": "integer"
        },
        {
         "name": "textos",
         "rawType": "object",
         "type": "string"
        },
        {
         "name": "labels",
         "rawType": "int64",
         "type": "integer"
        }
       ],
       "ref": "2c7db943-a365-4728-bcdf-58caccc7a526",
       "rows": [
        [
         "0",
         "\"Aprendizaje\" y \"educación\" se consideran sinónimos de escolarización formal. Las organizaciones auxiliares, como las editoriales de educación, las juntas examinadoras y las organizaciones de formación de docentes, se consideran extensiones de los acuerdos establecidos por los gobiernos. Este marco de comprensión se ha vuelto cada vez más inadecuado.",
         "4"
        ],
        [
         "1",
         "Para los niños más pequeños (bebés y niños pequeños), la capacitación especializada y práctica parece estar más fuertemente asociada con la calidad pedagógica y los resultados cognitivos y sociales. Los educadores de la primera infancia se encuentran con entornos sociales cada vez más complejos y se encuentran con una multiplicidad de antecedentes y experiencias familiares. Estos factores crean imperativos para adoptar nuevas pedagogías y prácticas organizacionales para acomodar este pluralismo (Elliott, 2006).",
         "4"
        ],
        [
         "2",
         "Además, la formación de especialistas en medicina general también incluye tareas que requieren un conocimiento más profundo de problemas comunes de salud pública, incluida la salud mental (Cuestionario de salud mental de la OCDE, 2013). Dado que no hay control en la atención primaria para limitar el acceso a los servicios de salud (mental) especializados, muchos pacientes que necesitan tratamiento (para trastornos mentales graves en particular) pueden buscar atención de nivel especializado directamente. Los servicios de especialistas en psiquiatría se brindan principalmente en las salas ambulatorias de psiquiatría ubicadas en los hospitales generales.",
         "3"
        ],
        [
         "3",
         "En los países de la OCDE se tiende a pasar de los cursos obligatorios a los optativos, abiertos a estudiantes de distintas facultades y escuelas. Este planteamiento facilita la formación de equipos de estudiantes con distintas formaciones e intereses. El trabajo en equipos interdisciplinares permite a los individuos concentrarse en lo que mejor saben y les gusta y, al mismo tiempo, familiarizarse con nuevos conocimientos que pueden asociarse a una nueva forma de resolver un problema o crear un nuevo producto o servicio. No está claro hasta qué punto estos cursos utilizan métodos pedagógicos creativos y se adaptan a las necesidades de los estudiantes de grado, postgrado y licenciatura.",
         "4"
        ],
        [
         "4",
         "Este grupo se centró en las personas que padecen trastornos mentales con comorbilidad de abuso de sustancias (mientras que la demencia, la discapacidad intelectual y el abuso de sustancias por sà solos quedaron excluidos del ámbito de análisis). Con 90 millones de euros de financiación, la comisión dispuso de tres años para \"iniciar y apoyar el desarrollo de proyectos a todos los niveles (tratamiento médico, mejora de los servicios, proyectos de vivienda, mejoras legislativas y organizativas) y proponer las medidas necesarias para elevar de forma permanente el nivel de los servicios de salud mental\". ",
         "3"
        ],
        [
         "5",
         "Los datos a nivel del sistema que no se derivan del cuestionario para estudiantes o escuelas de PISA 2015 se extraen de la publicación anual de la OCDE. Panorama de la educación, para aquellos países y economías que participan en esa recopilación periódica de datos. Para otros países y economías, se llevó a cabo una recopilación de datos a nivel de sistema especial en colaboración con los miembros de la Junta de Gobierno de PISA y los directores de proyectos nacionales.",
         "4"
        ],
        [
         "6",
         "La principal ventaja de las evaluaciones externas es su fiabilidad. Garantizan que todos los estudiantes son evaluados en las mismas tareas y que los resultados se miden con los mismos estándares. Además, las evaluaciones externas suelen realizarse bajo supervisión, lo que garantiza que lo que se evalúa es el propio trabajo de los estudiantes.",
         "4"
        ],
        [
         "7",
         "Los pacientes pueden elegir a cualquier médico de cabecera, pero como no hay un sistema de control, también pueden elegir visitar directamente a cualquier especialista médico. Hay pocos contactos ambulatorios por persona (58 en 2015) y una gobernanza de atención primaria débil (por ejemplo, falta de inspección estatal, políticas de atención primaria de apoyo). También existe un relativo subdesarrollo de la fuerza laboral de atención primaria con bajos niveles de ingresos en relación con los especialistas. Más positivamente, se ha juzgado que el sistema de atención primaria es relativamente efectivo y eficiente con respecto a la coordinación y la integralidad de la atención (Ktingos et al, 2015, Kringosetal, 2013).",
         "3"
        ],
        [
         "8",
         "De hecho, es probable que la designación de la universidad como universidad APEX aleje aún más a la institución del compromiso regional. Brindan acceso a un gran número de estudiantes y estudiantes graduados de la región, muchos de los cuales permanecen dentro de la región en busca de empleo. A través de la participación de los estudiantes en la región a través de pasantías, actividades de voluntariado y otras formas, las instituciones tienen un impacto en la región. Excepto por la información básica sobre el número de admisiones, matriculación y graduados, no se disponía de información sustantiva sobre la sucursal de UiTM en Penang, los dos politécnicos, los cuatro colegios comunitarios y las instituciones privadas en Penang y sobre las instituciones de educación superior en los otros tres estados. (Perlis, Kedah y Perak) en la Región Económica del Corredor Norte más grande. Por lo tanto, los hallazgos y observaciones se basan en una perspectiva limitada de las instituciones de educación superior en la región.",
         "4"
        ],
        [
         "9",
         "De hecho, aunque Chile y Uruguay tienen índices de pobreza similares, la pobreza infantil en Chile es 1,8 veces mayor que la de la población adulta, mientras que en Uruguay es 3,1 veces mayor. Esto produciría tasas de pobreza infantil artificialmente altas. Esta línea representa el costo de satisfacer las necesidades básicas de una persona. Medir la pobreza de esta manera supone que el costo per cápita de satisfacer las necesidades básicas de un individuo no se ve afectado por el número de personas que viven en un hogar o por las características demográficas del hogar.",
         "1"
        ],
        [
         "10",
         "Según el Informe sobre el Consumo de Drogas en las Américas de 2015,3' se informó que la prevalencia anual de cannabis entre los estudiantes de secundaria en América Central fue más alta en Belice, con un 15,8 %, y más baja en Honduras, con un poco más del 1 %. centavo. Se informaron tasas de prevalencia de menos del 5 por ciento en Antigua y Barbuda, Barbados, Dominica, República Dominicana, El Salvador, Guyana, Haití, Honduras, Panamá, Saint Kitts y Nevis y San Vicente y las Granadinas. Según el Informe sobre el Consumo de Drogas en las Américas de 2015, la prevalencia anual del uso indebido de cocaína entre estudiantes de secundaria en el Caribe oscila entre el 0,5 % y un poco más del 2 %.",
         "3"
        ],
        [
         "11",
         "El acuerdo de desempeño describe los objetivos clave que la institución debe esforzarse por lograr en el transcurso de un período de tres años. El ministerio se reúne con cada institución durante el año para discutir el progreso hacia el logro de estos objetivos. Se requiere que cada institución al final del año reporte datos a la Base de Datos de Estadísticas de Educación Superior (DBH) y presente un informe anual al ministerio. Esta información es utilizada por el ministerio para desarrollar un informe anual sobre el estado de la educación superior y para desarrollar una carta de retroalimentación anual para las instituciones sobre su desempeño anual (Larsen et al.,",
         "4"
        ],
        [
         "12",
         "Los únicos países que exigen un máster para enseñar preescolar son Inglaterra, Francia, Islandia e Italia. Este nivel de formación se exige para enseñar primaria en 11 de los 35 países de los que se dispone de datos, para enseñar estudios generales de primer ciclo de secundaria en 16 países y para enseñar segundo ciclo de secundaria en 22 países (véase la tabla D6.1 a, b, c y d). En cambio, casi el 40% de los profesores se sienten insuficientemente preparados para los aspectos pedagógicos de la enseñanza, que es la proporción más alta en cualquiera de los 34 países que participaron en la encuesta TALIS (véase el gráfico D6.a). En Francia, la proporción era inferior (76%), y aún más baja en los centros privados (sólo el 69%, frente a una media TALIS del 86%).",
         "4"
        ],
        [
         "13",
         "Hay una tendencia creciente de una mayor proporción de graduados en artes en comparación con las corrientes técnicas y científicas. Al mismo tiempo, las escuelas técnicas y vocacionales están produciendo un número decreciente de graduados. Hay un reconocimiento creciente de la necesidad de fortalecer estos programas de capacitación en Penang. Por ejemplo, el centro de desarrollo de habilidades de Penang (PSDC) se estableció en 1989.",
         "4"
        ],
        [
         "14",
         "Esto podría involucrar un sistema de acreditación para certificar a las escuelas como capaces de administrar un presupuesto para gastos operativos como parte de los procesos de evaluación escolar por medio de inspecciones (ver Capítulo 4). El otorgamiento de autonomía debe entonces estar asociado con un monitoreo relevante y enfocado, especialmente el monitoreo de los resultados (ver también el Capítulo 2). Se les debe exigir que desarrollen un plan de desarrollo escolar que vincule las prioridades educativas de la escuela con sus intenciones de gasto en colaboración con la comunidad escolar.",
         "4"
        ],
        [
         "15",
         "Un estudiante pobre en Costa Rica tiene menos de uno en diez posibilidades de llegar a la universidad, una brecha de oportunidades mucho mayor que en la mayoría de los países de la OCDE. Pero los impulsores clave de la mejora en los sistemas educativos que mejoran más rápidamente (un impulso concertado para expandir la educación en los primeros años, altas expectativas profesionales para los maestros, liderazgo para la mejora por parte de las escuelas y sólidos sistemas de información y evaluación que pueden guiar la reforma) aún no se han logrado. ganó el impulso necesario en Costa Rica. Su papel en la nivelación del campo de juego para los niños de las familias más desfavorecidas es particularmente crítico.",
         "4"
        ],
        [
         "16",
         "De los gráficos se puede ver que el 73,4 por ciento de los niños no están privados en absoluto en uno de estos tres dominios, mientras que el 1,9 por ciento de los niños están privados simultáneamente en los tres. Aproximadamente el 3,5 por ciento de los niños belgas están privados de ocio y educación solo frente al 11 por ciento en la comunidad únicamente. Existen privaciones superpuestas en ocio y comunidad para el 1,5 por ciento, en educación y comunidad para el 1,3 por ciento, y en ocio y educación para el 3,5 por ciento. En general, podemos concluir que relativamente pocos de los niños que viven en Bélgica se enfrentan a múltiples privaciones superpuestas mientras que, para aquellos que sufren privaciones, predomina la privación en el ámbito comunitario.",
         "1"
        ],
        [
         "17",
         "El personal docente está formado por miembros cristianos, judíos y musulmanes. Los programas de estudio integran práctica, educación y teoría. Las tasas de matrícula son altas y los estudiantes pagan USD 2 500. Para 2010, el presupuesto de la universidad es de USD 1,8 millones: el 50 % del presupuesto está cubierto por el consejo de administración (principalmente del estado de Illinois y Austria), el 25 % de las tasas de matrícula, el resto por la comunidad árabe local.",
         "4"
        ],
        [
         "18",
         "En Portugal, los indicadores de la experiencia del paciente figuran entre los utilizados para contratar la asistencia sanitaria \"primaria\". Aunque la mayoría de los sistemas sanitarios de la OCDE cuentan al menos con algunas encuestas para recoger las PREM, a menudo no se hace de forma estandarizada (como se observa en Corea y Australia) y se suele recoger con poca frecuencia (en Japón, por ejemplo, las PREM se recogen una vez cada tres años). En un sistema en el que los datos de PROM se hacen públicos, pueden utilizarse para ayudar a los pacientes a tomar decisiones mejor informadas. Lo ideal sería que los datos de PROM se transmitieran a los médicos para ayudarles a mejorar la atención y los resultados de los pacientes.",
         "3"
        ],
        [
         "19",
         "Pocos países ya han logrado construir EPR. El proyecto del Reino Unido (Connecting for Health) se ha retrasado varias veces. Uno de los pocos éxitos lo ha logrado la provincia canadiense de Alberta, que tiene una población ligeramente menor que la de Finlandia. La información también podría usarse para promover aún más la medicina basada en la evidencia y comparar a los proveedores, como en el Hospital Benchmarking Project desarrollado desde 1996 (Hakkinen, 2010).",
         "3"
        ],
        [
         "20",
         "Por otro lado, aunque el consumo general de alcohol es alto, las tasas de consumo excesivo de alcohol1 en Austria (19 %) están ligeramente por debajo de la media de la UE (20 %) Entre los adolescentes en 2013-14, el 20 % de las niñas de 15 años y el de los chicos de 15 años declararon haberse emborrachado al menos dos veces en su vida, una proporción similar a la media de la UE. Si bien esta proporción sigue siendo más baja que en la mayoría de los demás países de la UE, ha aumentado sustancialmente desde 1999, cuando solo el 9 % de los adultos austriacos eran obesos. Los adultos austriacos se encuentran entre los más activos físicamente de la UE, pero la inactividad física entre los jóvenes de 15 años es relativamente alta.",
         "3"
        ],
        [
         "21",
         "Este último tema es particularmente importante cuando el material curricular o las tareas educativas tienen poca relevancia o significado para los grupos dentro de la población estudiantil, incluidos los estudiantes indígenas (Young, 2010). En comparación con otros estudiantes en sus propios países, los tres grupos de bajo rendimiento realizan menos tareas cada semana, y este indicador es particularmente pronunciado entre los alumnos de bajo rendimiento en Australia (Figura 6.3).",
         "4"
        ],
        [
         "22",
         "Por lo tanto, la educación y el cuidado de la primera infancia (EAPI) de alta calidad pueden generar mejores resultados en las etapas posteriores de la vida. Por ejemplo, el número de años pasados ​​en la EAPI es un fuerte predictor del nivel de desempeño dentro y fuera de las escuelas alcanzado en etapas posteriores. Del mismo modo, los niños de origen inmigrante y los niños más desfavorecidos a nivel mundial pueden beneficiarse al máximo de asistir a una EAPI de alta calidad. Sin embargo, los beneficios de asistir a ECEC no se limitan a los resultados del aprendizaje.",
         "4"
        ],
        [
         "23",
         "Los solicitantes también deben estar buscando trabajo activamente y, en la mayoría de los casos, el desempleo debe ser involuntario, aunque esto puede ser difícil de observar en la práctica y la definición varía según los países. La duración de los beneficios está limitada en la mayoría de los países, pero no en todos. El seguro es obligatorio para la mayoría de los empleados, pero voluntario en algunos países nórdicos. Los buscadores de empleo cuyo derecho a las prestaciones del seguro de desempleo haya expirado, o cuyo historial laboral sea insuficiente para hacerlos elegibles en primer lugar, pueden tener derecho a la asistencia por desempleo. En algunos países, la asistencia por desempleo es la principal prestación por desempleo.",
         "1"
        ],
        [
         "24",
         "La Sección 3 investiga estrategias para promover una formación profesional de calidad, incluidos los aprendizajes, mientras que la Sección 4 se centra en el apoyo a los estudiantes en riesgo. Para una descripción más detallada y una evaluación del sistema educativo de Letonia, véase OCDE (2015e). El Ministerio de Educación y Ciencia (MoES) nacional tiene la función de supervisión y, a través del Centro Nacional de Educación subordinado, establece los estándares educativos nacionales y determina los planes de estudio y los procedimientos de examen. Proporciona el marco regulatorio para la provisión de educación vocacional y emplea a los directores de los establecimientos VET.1 También mantiene el registro de estándares ocupacionales y estudia las demandas de habilidades del mercado laboral.",
         "4"
        ],
        [
         "25",
         "Las personas con entre siete y nueve años de escolaridad tienen un índice de pobreza similar al promedio. Como era de esperar, el porcentaje de pobres es mayor entre los desempleados que entre los ocupados y los económicamente inactivos. Además, entre los ocupados, la tasa de pobreza es menor para los asalariados que para los trabajadores por cuenta propia, quienes en varios países tienen una tasa de pobreza similar a la de la población económicamente inactiva. Esto plantea la pregunta de si las políticas públicas para el alivio de la pobreza están poniendo suficiente énfasis en el logro de estándares mínimos. Una mirada más amplia a la pobreza, incluidas las deficiencias en esferas como la protección social y los ingresos, explora la relación entre las diferentes dimensiones de la privación. En particular, explora conceptual y empíricamente diferentes dimensiones, umbrales y formas de sumar dimensiones para avanzar hacia la construcción de un índice de pobreza multidimensional relevante y aplicable en toda la región.",
         "1"
        ],
        [
         "26",
         "En algunos países, los alumnos son segregados en diferentes vías a edades tempranas, reflejando la noción de que sólo algunos niños pueden alcanzar niveles de clase mundial. Pero PISA muestra que esa selección está relacionada con grandes disparidades sociales. Por el contrario, en países tan diferentes como Estonia, Canadá, Finlandia y Japón, padres y profesores están comprometidos con la creencia de que todos los alumnos pueden alcanzar altos niveles.",
         "4"
        ],
        [
         "27",
         "Es esencial garantizar que el acceso a los servicios de salud no se vuelva menos equitativo como resultado de las intervenciones de GHP. Los nuevos GHPS deben introducirse solo cuando respalden estos objetivos. De esta manera, las intervenciones de GHP pueden responder a las características específicas de los sistemas de salud domésticos y sus respectivas necesidades.",
         "3"
        ],
        [
         "28",
         "Se cree que un currículo integrado de este tipo contribuye a una EPI de alta calidad y a un mejor comportamiento social (Tabla 1.2) (Bennett, 2004, Siraj-Blatchford, 2010). Por ejemplo, se considera que Suecia tiene una educación de la primera infancia de alta calidad, en parte porque los contenidos de su currículo conceden el mismo valor al aprendizaje social y cognitivo (Sheridan et al., 2010). ",
         "4"
        ],
        [
         "29",
         "En la mayoría de los países, el ingreso familiar también incluye el valor de alquiler imputado de las viviendas ocupadas por sus propietarios. En Chile, la pobreza disminuyó levemente entre 2006 y 2009, y la tasa de indigencia permaneció básicamente sin cambios.3 Las tasas de pobreza e indigencia en El Salvador no cambiaron entre 2004 y 2009. Para Chile, las cifras aquí presentadas difieren por primera vez de las estimaciones oficiales del país (MIDEPLAN.",
         "1"
        ],
        [
         "30",
         "Según los directores de escuela que participaron en PISA 2015, el estudiante promedio en los países de la OCDE asiste a una escuela donde el 84 % de los docentes han obtenido la certificación completa, pero esta proporción varía ampliamente, desde el 100 % en Macao (China) hasta alrededor del 10 % en Colombia. Los hallazgos muestran que la proporción de docentes que han sido certificados para enseñar se asocia positivamente con el desempeño de los estudiantes en solo unos pocos países seleccionados, tanto antes como después de tener en cuenta el perfil socioeconómico de los estudiantes y las escuelas (Figura 1.9). Este débil impacto general no es sorprendente, dados los diferentes estándares utilizados en diferentes países para certificar a los docentes y el hecho de que la mayoría de los países tienen un alto porcentaje de docentes certificados.",
         "4"
        ],
        [
         "31",
         "La ventaja relativamente pequeña de las mujeres en África en 2010-2015 es principalmente una consecuencia del impacto diferencial de la epidemia de VIH/SIDA en los niveles de mortalidad por sexo, con una prevalencia estimada del VIH mayor entre las mujeres que entre los hombres. En las regiones más desarrolladas, la ventaja femenina es mayor en Europa (7,4 años o 11,3 por ciento) que en América del Norte (4,7 años o 6,1 por ciento) y Oceanía, que incluye Australia y Nueva Zelanda. La tasa de mortalidad infantil, también conocida como \"tasa de mortalidad de menores de cinco años\"1, disminuyó a un ritmo notable de alrededor del 3 por ciento anual entre 1990 y 2015.",
         "3"
        ],
        [
         "32",
         "En el MEP se reconoce que la evaluación reformada debe pasar de evaluar el conocimiento de los contenidos a examinar las habilidades de los estudiantes para aplicar y utilizar los conocimientos de forma que demuestren competencias de orden superior. Esto supondrá una mejora significativa con respecto a la evaluación anterior, que sólo captaba una gama limitada de actividades de aprendizaje. Pero la nueva evaluación debe incluir también otras modificaciones.",
         "4"
        ],
        [
         "33",
         "Un incidente de gran importancia en la historia de la atención de la salud mental en Japón fue el ataque con cuchillo del entonces embajador de EE. UU. en Japón, Edwin Reischauer, por parte de una persona con esquizofrenia en 1964. Este ataque generó una alarma pública significativa y contribuyó a aumentar el estigma de las enfermedades mentales. , impulsado por una campaña en los medios de comunicación, además de los altos niveles existentes de estigma dirigido hacia los trastornos mentales. Este incidente también contribuyó a la revisión de 1965 de la Ley de Higiene Mental discutida anteriormente. En 1993, la Ley de Salud Mental fue enmendada nuevamente, con un enfoque particular en la atención en la comunidad, incluida la autorización de la construcción de hogares grupales en la comunidad para personas con trastornos mentales (Tatara y Okamoto, 2009). La Ley de Atención de Salud Comunitaria introducida en 1994 y apoyó aún más el establecimiento de un sistema de salud mental basado en la comunidad.",
         "3"
        ],
        [
         "34",
         "El liderazgo en particular, factor clave de la eficacia escolar, no parece figurar con fuerza en los marcos de evaluación. El proyecto \"Estrategias de desarrollo del liderazgo escolar\" de la asociación nacional Smarter Schools, que está llevando a cabo la AITSL, pretende desarrollar un enfoque nacional para mejorar la capacidad de liderazgo escolar. Típicamente, una revisión escolar va seguida de la formulación de recomendaciones de mejora que se supone que la escuela debe aplicar tras la preparación de un plan de mejora. Sin embargo, el Equipo de Revisión se formó la opinión de que el grado de seguimiento por parte de las autoridades de revisión escolar era variable, incluso dentro de una misma jurisdicción educativa, dependiendo de la capacidad de las redes regionales.",
         "4"
        ],
        [
         "35",
         "Sin embargo, los resultados empíricos sugieren que se puede obtener un uso de los recursos educativos que aumente la equidad a través de políticas que proporcionen las señales pertinentes a las escuelas y los docentes: por ejemplo, brindar incentivos financieros a los docentes calificados puede resultar una herramienta eficaz para dirigirse a los estudiantes desfavorecidos. o áreas. En tercer lugar, este trabajo llena un vacío en la investigación empírica al proporcionar evidencia entre países (a diferencia de países específicos) sobre la importancia de la política de intervención temprana para atenuar las desigualdades socioeconómicas intergeneracionales en las oportunidades educativas. Sugiere que las políticas de cuidado infantil e intervención temprana podrían ser efectivas para alcanzar este objetivo. Finalmente, el análisis entre países intenta descubrir el papel que juegan las políticas sociales y del mercado laboral para influir en la igualdad de oportunidades educativas, dada la relación positiva entre la desigualdad intergeneracional y transversal (de ingresos).",
         "4"
        ],
        [
         "36",
         "En 2016 se publicó el primer informe del Consejo Asesor para el Desarrollo de Indicadores de Calidad y se estableció un sistema de seguimiento público de los indicadores de calidad. Desde 2002, EHIF ha llevado a cabo cinco auditorías clínicas en colaboración con expertos cada año. Los ejemplos de 2013 sugieren que el 67,5 % de las visitas a especialistas por hipertensión y el 20 % de las visitas a especialistas por diabetes podrían considerarse 'evitables' y manejarse de manera más adecuada en la atención primaria.",
         "3"
        ],
        [
         "37",
         "El sistema educativo tiene una serie de características que promueven la equidad, incluida una alta proporción de estudiantes matriculados en educación de la primera infancia, baja repetición de grado y escolarización integral hasta los 16 años. Las tasas de graduación de la secundaria superior son altas, al igual que las tasas de matriculación en educación y formación profesional. (FP), pero el abandono de la FP también es alto. La educación terciaria es accesible para todos, a través de políticas como un plan de subvenciones y préstamos financiado con fondos públicos. En la Encuesta de habilidades de adultos de la OCDE, los adultos en Dinamarca demuestran habilidades de alfabetización por debajo del promedio y habilidades de aritmética por encima del promedio en comparación con el promedio en los países participantes, y los adultos más jóvenes obtienen puntajes alrededor del promedio.",
         "4"
        ],
        [
         "38",
         "La mayoría de las personas de 25 a 64 años en Alemania (55 %) han obtenido una cualificación profesional en el nivel secundario superior o postsecundario, la cuarta proporción más grande entre los países con datos disponibles (el promedio de la OCDE es del 33 %). Debido a la alta incidencia de cualificaciones profesionales y al hecho de que un título general (principalmente Abitur) se dedica a la educación superior y no a la entrada directa en el mercado laboral, solo el 3 % de los adultos obtienen una cualificación general de secundaria superior o postsecundaria como grado más alto, una de las proporciones más bajas entre los países de la OCDE (el promedio de la OCDE es del 12 %) (Tabla Al. Entre 2005 y 2012, las tasas de desempleo se redujeron en 7 puntos porcentuales entre los adultos sin educación secundaria superior (del 20,1 % al 12,8 %) , en 6 puntos porcentuales entre los que tienen educación secundaria superior o postsecundaria no terciaria (del 11,0 % al 5,3 %) y en 3 puntos porcentuales entre los que tienen un título terciario (del 5,6 % al 2,4 %).",
         "4"
        ],
        [
         "39",
         "Una excelente atención médica será fundamental para lograrlo. Hasta ahora, la atención médica japonesa ha tenido un buen desempeño: la esperanza de vida es larga, 83,2 años en comparación con un promedio de la OCDE de 80,2 años, mientras que el gasto en salud es de USD 3 649 PPA per cápita por año, ligeramente superior a USD 3 484 en promedio. . Una característica llamativa del sistema de salud japonés es su apertura y flexibilidad.",
         "3"
        ],
        [
         "40",
         "Para consolidar aún más el marco de evaluación y evaluación, hay espacio para incorporar enfoques de evaluación y evaluación con objetivos educativos más amplios, continuar construyendo sobre el profesionalismo docente y construir redes y capacidad para una evaluación y evaluación efectivas y con visión de futuro, en particular en las áreas de la evaluación de los alumnos en el aula, la evaluación de los docentes y la autoevaluación de la escuela. Después de esta descripción general, los capítulos siguientes (3-6) analizarán los problemas relacionados con cada componente individual con mayor profundidad. El término \"evaluación\" se utiliza para referirse a los juicios sobre el desempeño individual de los estudiantes y el logro de las metas de aprendizaje.",
         "4"
        ],
        [
         "41",
         "Este capítulo comienza con una descripción general de las reformas de Tailandia relacionadas con el uso de las TIC en la educación, y luego proporciona un análisis de los problemas de política relacionados con esta área, presentando recomendaciones para mejorar para apoyar el uso de las TIC para mejorar la calidad y la equidad de la educación. sistema educativo en su conjunto. El objetivo de estas estrategias ha sido utilizar las TIC para crear una \"Tailandia inteligente\": una sociedad que sea \"inteligente y alfabetizada en información\", donde el conocimiento beneficie a los ciudadanos y a la \"sociedad en su conjunto\" (Ministerio de TIC, 2009a). La educación ha sido un pilar clave en estos esfuerzos.",
         "4"
        ],
        [
         "42",
         "Primero, el programa de Fortalecimiento de la Gestión Escolar, que invertirá MEX 41 millones en 595 escuelas, busca apoyar a los líderes escolares en la gestión de los recursos escolares (Gobiemo de Morelos, 2016a). Con una ambición similar, el programa Escuelas de Calidad (Programa Escuelas de Cualidad) tiene como objetivo fortalecer la autonomía de las instituciones de educación básica en la gestión de los recursos, al tiempo que apoya a cada escuela y su Consejo Técnico Escolar en la adopción de mejores prácticas que pueden ayudarlos a cumplir con la planificación. , evaluación y asignación de responsabilidades presupuestarias de manera efectiva. A través de una inversión de MEX 26.57 millones en 2015-16, un total de 475 escuelas se benefician del programa que, en comparación con el año anterior, representa una expansión a 55 escuelas nuevas (Gobiemo de Morelos, 2016a). Otro componente del programa Escuelas de Calidad implica la evaluación de los maestros en la instrucción de sus salones de clase y de los directores en su capacidad para liderar, así como actividades para aumentar la participación de los padres en el aprendizaje de sus hijos. Es probable que los costos de instrucción de los niños desfavorecidos sean más altos que los de los más acomodados y Morelos está tomando medidas positivas para paliar esas necesidades.",
         "4"
        ],
        [
         "43",
         "Actualmente existen en el país más de 4.500 centros de tratamiento y rehabilitación privados y alrededor de 600 públicos. Según las estadísticas oficiales, en 2014 había un total de 65.216 personas registradas como consumidores de drogas en Kazajstán, Kirguistán, Tayikistán y Uzbekistán, frente a un total de 73.345 personas en 2013. Número de drogodependientes registrados oficialmente en Kazajstán en 2014 se situó en 34.221 personas, lo que representa una disminución significativa en comparación con las 40.224 personas en 2013. En Kirguistán, 9.024 personas se registraron oficialmente como drogodependientes en 2014, lo que representa un 8,8% menos que en 2013.",
         "3"
        ],
        [
         "44",
         "La información contenida en este documento se relaciona con el área bajo el control efectivo del Gobierno de la República de Chipre. Andrade y O.F.A. Bueno (2008), \"Contribución de la Educación, la Ocupación y las Actividades de Estimulación Cognitiva a la Formación de la Reserva Cognitiva\", Dementia and Neuropsychologia, Vo\\. 2, No. Working Paper ROA-RM-2010/1, Centro de Investigación para la Educación y el Mercado Laboral (ROA), Maastricht.",
         "4"
        ],
        [
         "45",
         "El personal docente de Lituania, aunque tiene una formación de grado, muestra habilidades numéricas más bajas que las de otros graduados de educación terciaria y más bajas que el nivel promedio de los docentes en los países miembros de la OCDE que participan en la Encuesta de Habilidades de Adultos (Figura 3.5). Los puntajes competitivos utilizados en las admisiones a la educación superior, que se basan en los puntajes de los exámenes matura, muestran que el puntaje mínimo requerido para ingresar a los programas de formación docente es consistentemente mucho más bajo que el requerido para el campo más popular y selectivo, la medicina (Tabla 3.6). El principal proveedor de programas de formación de docentes, la universidad pedagógica del país, ha recibido una aprobación institucional limitada del organismo de garantía de la calidad de la educación superior del país, y hay debates en curso sobre la forma en que los programas y las instituciones pueden desempeñar mejor sus funciones iniciales. formación docente.",
         "4"
        ],
        [
         "46",
         "La innovación que aproveche estas nuevas oportunidades se beneficiará del intercambio de conocimientos y prácticas sobre cómo implementar reformas con éxito. Esta investigación enfatiza particularmente la necesidad de utilizar diversas estrategias para enseñar y aprender en diferentes circunstancias. Esto significa que incluso si este informe se centra en los REA, es decir, en los recursos educativos y, en particular, en los medios educativos, intentará mantener el foco en la interacción de los procesos y la infraestructura organizativos, los medios para utilizar las redes y la colaboración, y los conocimientos (dados y perdidos). ) de la investigación.",
         "4"
        ],
        [
         "47",
         "El fortalecimiento de la atención primaria pública y comunitaria también daría como resultado menos autorreferencias a los departamentos de emergencia de los hospitales por dolencias y afecciones menores en las que los costos del tratamiento son mucho más altos. Finalmente, un mejor manejo de las condiciones crónicas en los entornos de atención primaria contribuiría a prevenir el deterioro y la necesidad de atención hospitalaria. Por ejemplo, los médicos de cabecera y los médicos de familia privados vinculados al sistema myHealth ahora pueden hacer derivaciones para servicios que antes solo podían solicitar los especialistas del hospital. Además, la gama de servicios prestados en la atención primaria se ha ampliado para incluir, por ejemplo, clínicas de gestión de enfermedades crónicas y clínicas de estilo de vida saludable.",
         "3"
        ],
        [
         "48",
         "Las microrregiones en Hungría son subregiones estadísticas. Hay 149 microrregiones en total y Budapest no está incluida en el sistema. La atención diurna comprende los servicios de atención de la salud que se brindan a los pacientes que ingresan formalmente en hospitales, establecimientos ambulatorios o centros autónomos, pero con la intención de dar de alta al paciente el mismo día.",
         "3"
        ],
        [
         "49",
         "El piloto tuvo tanto éxito que ahora estamos construyendo una plataforma digital permanente para él. Lo mismo ocurre en todos los países: los países con mejor desempeño en PISA, como Japón, Singapur y Corea del Sur en Asia, Estonia y Finlandia en Europa, y Canadá en América del Norte, también obtuvieron los primeros lugares en la evaluación PISA de resolución colaborativa de problemas. Por ejemplo, a los estudiantes japoneses les fue muy bien en esas materias, pero les fue aún mejor en la resolución colaborativa de problemas.",
         "4"
        ]
       ],
       "shape": {
        "columns": 2,
        "rows": 2424
       }
      },
      "text/html": [
       "<div>\n",
       "<style scoped>\n",
       "    .dataframe tbody tr th:only-of-type {\n",
       "        vertical-align: middle;\n",
       "    }\n",
       "\n",
       "    .dataframe tbody tr th {\n",
       "        vertical-align: top;\n",
       "    }\n",
       "\n",
       "    .dataframe thead th {\n",
       "        text-align: right;\n",
       "    }\n",
       "</style>\n",
       "<table border=\"1\" class=\"dataframe\">\n",
       "  <thead>\n",
       "    <tr style=\"text-align: right;\">\n",
       "      <th></th>\n",
       "      <th>textos</th>\n",
       "      <th>labels</th>\n",
       "    </tr>\n",
       "  </thead>\n",
       "  <tbody>\n",
       "    <tr>\n",
       "      <th>0</th>\n",
       "      <td>\"Aprendizaje\" y \"educación\" se consideran sinó...</td>\n",
       "      <td>4</td>\n",
       "    </tr>\n",
       "    <tr>\n",
       "      <th>1</th>\n",
       "      <td>Para los niños más pequeños (bebés y niños peq...</td>\n",
       "      <td>4</td>\n",
       "    </tr>\n",
       "    <tr>\n",
       "      <th>2</th>\n",
       "      <td>Además, la formación de especialistas en medic...</td>\n",
       "      <td>3</td>\n",
       "    </tr>\n",
       "    <tr>\n",
       "      <th>3</th>\n",
       "      <td>En los países de la OCDE se tiende a pasar de ...</td>\n",
       "      <td>4</td>\n",
       "    </tr>\n",
       "    <tr>\n",
       "      <th>4</th>\n",
       "      <td>Este grupo se centró en las personas que padec...</td>\n",
       "      <td>3</td>\n",
       "    </tr>\n",
       "    <tr>\n",
       "      <th>...</th>\n",
       "      <td>...</td>\n",
       "      <td>...</td>\n",
       "    </tr>\n",
       "    <tr>\n",
       "      <th>2419</th>\n",
       "      <td>La tutoría de carrera está diseñada para apoya...</td>\n",
       "      <td>4</td>\n",
       "    </tr>\n",
       "    <tr>\n",
       "      <th>2420</th>\n",
       "      <td>Fuente: Ministerio de Educación. Las Tasas Int...</td>\n",
       "      <td>4</td>\n",
       "    </tr>\n",
       "    <tr>\n",
       "      <th>2421</th>\n",
       "      <td>Y desde 2010, el PNUD ha sido pionero en la pu...</td>\n",
       "      <td>1</td>\n",
       "    </tr>\n",
       "    <tr>\n",
       "      <th>2422</th>\n",
       "      <td>Sin embargo, estas fallas del mercado implican...</td>\n",
       "      <td>3</td>\n",
       "    </tr>\n",
       "    <tr>\n",
       "      <th>2423</th>\n",
       "      <td>Aunque existen programas para convertirse espe...</td>\n",
       "      <td>4</td>\n",
       "    </tr>\n",
       "  </tbody>\n",
       "</table>\n",
       "<p>2424 rows × 2 columns</p>\n",
       "</div>"
      ],
      "text/plain": [
       "                                                 textos  labels\n",
       "0     \"Aprendizaje\" y \"educación\" se consideran sinó...       4\n",
       "1     Para los niños más pequeños (bebés y niños peq...       4\n",
       "2     Además, la formación de especialistas en medic...       3\n",
       "3     En los países de la OCDE se tiende a pasar de ...       4\n",
       "4     Este grupo se centró en las personas que padec...       3\n",
       "...                                                 ...     ...\n",
       "2419  La tutoría de carrera está diseñada para apoya...       4\n",
       "2420  Fuente: Ministerio de Educación. Las Tasas Int...       4\n",
       "2421  Y desde 2010, el PNUD ha sido pionero en la pu...       1\n",
       "2422  Sin embargo, estas fallas del mercado implican...       3\n",
       "2423  Aunque existen programas para convertirse espe...       4\n",
       "\n",
       "[2424 rows x 2 columns]"
      ]
     },
     "execution_count": 68,
     "metadata": {},
     "output_type": "execute_result"
    }
   ],
   "source": [
    "df_textC"
   ]
  },
  {
   "cell_type": "code",
   "execution_count": 69,
   "id": "3e53058f",
   "metadata": {},
   "outputs": [
    {
     "name": "stdout",
     "output_type": "stream",
     "text": [
      "<class 'pandas.core.frame.DataFrame'>\n",
      "RangeIndex: 2424 entries, 0 to 2423\n",
      "Data columns (total 2 columns):\n",
      " #   Column  Non-Null Count  Dtype \n",
      "---  ------  --------------  ----- \n",
      " 0   textos  2424 non-null   object\n",
      " 1   labels  2424 non-null   int64 \n",
      "dtypes: int64(1), object(1)\n",
      "memory usage: 38.0+ KB\n"
     ]
    }
   ],
   "source": [
    "df_textC.info()"
   ]
  },
  {
   "cell_type": "markdown",
   "id": "b709c98c",
   "metadata": {},
   "source": [
    "### 2.2 Estadisticas Descriptivas\n",
    "Vamos a analizar los textos por medio de **maximo** , **minimo** y **moda** "
   ]
  },
  {
   "cell_type": "code",
   "execution_count": 70,
   "id": "7dab7c04",
   "metadata": {},
   "outputs": [],
   "source": [
    "from collections import Counter\n",
    "\n",
    "texts = df_textC.copy()\n",
    "texts['Count'] = [len(x) for x in texts['textos']]\n",
    "texts['Max'] = [[max([len(x) for x in i.split(' ')])][0] for i in texts['textos']]\n",
    "texts['Min'] = [[min([len(x) for x in i.split(' ')])][0] for i in texts['textos']]\n",
    "texts[\"Moda\"] = [Counter(i.split(\" \")).most_common(1)[0][0] for i in texts[\"textos\"] ]\n",
    "#ProfileReport(texts)"
   ]
  },
  {
   "cell_type": "code",
   "execution_count": 71,
   "id": "1fbdfc95",
   "metadata": {},
   "outputs": [
    {
     "data": {
      "application/vnd.microsoft.datawrangler.viewer.v0+json": {
       "columns": [
        {
         "name": "index",
         "rawType": "int64",
         "type": "integer"
        },
        {
         "name": "textos",
         "rawType": "object",
         "type": "string"
        },
        {
         "name": "labels",
         "rawType": "int64",
         "type": "integer"
        },
        {
         "name": "Count",
         "rawType": "int64",
         "type": "integer"
        },
        {
         "name": "Max",
         "rawType": "int64",
         "type": "integer"
        },
        {
         "name": "Min",
         "rawType": "int64",
         "type": "integer"
        },
        {
         "name": "Moda",
         "rawType": "object",
         "type": "string"
        }
       ],
       "ref": "aaad3ab5-21c7-4804-a70b-7f8f91c931e9",
       "rows": [
        [
         "0",
         "\"Aprendizaje\" y \"educación\" se consideran sinónimos de escolarización formal. Las organizaciones auxiliares, como las editoriales de educación, las juntas examinadoras y las organizaciones de formación de docentes, se consideran extensiones de los acuerdos establecidos por los gobiernos. Este marco de comprensión se ha vuelto cada vez más inadecuado.",
         "4",
         "352",
         "14",
         "1",
         "de"
        ],
        [
         "1",
         "Para los niños más pequeños (bebés y niños pequeños), la capacitación especializada y práctica parece estar más fuertemente asociada con la calidad pedagógica y los resultados cognitivos y sociales. Los educadores de la primera infancia se encuentran con entornos sociales cada vez más complejos y se encuentran con una multiplicidad de antecedentes y experiencias familiares. Estos factores crean imperativos para adoptar nuevas pedagogías y prácticas organizacionales para acomodar este pluralismo (Elliott, 2006).",
         "4",
         "516",
         "16",
         "1",
         "y"
        ],
        [
         "2",
         "Además, la formación de especialistas en medicina general también incluye tareas que requieren un conocimiento más profundo de problemas comunes de salud pública, incluida la salud mental (Cuestionario de salud mental de la OCDE, 2013). Dado que no hay control en la atención primaria para limitar el acceso a los servicios de salud (mental) especializados, muchos pacientes que necesitan tratamiento (para trastornos mentales graves en particular) pueden buscar atención de nivel especializado directamente. Los servicios de especialistas en psiquiatría se brindan principalmente en las salas ambulatorias de psiquiatría ubicadas en los hospitales generales.",
         "3",
         "659",
         "15",
         "1",
         "de"
        ],
        [
         "3",
         "En los países de la OCDE se tiende a pasar de los cursos obligatorios a los optativos, abiertos a estudiantes de distintas facultades y escuelas. Este planteamiento facilita la formación de equipos de estudiantes con distintas formaciones e intereses. El trabajo en equipos interdisciplinares permite a los individuos concentrarse en lo que mejor saben y les gusta y, al mismo tiempo, familiarizarse con nuevos conocimientos que pueden asociarse a una nueva forma de resolver un problema o crear un nuevo producto o servicio. No está claro hasta qué punto estos cursos utilizan métodos pedagógicos creativos y se adaptan a las necesidades de los estudiantes de grado, postgrado y licenciatura.",
         "4",
         "693",
         "18",
         "1",
         "de"
        ],
        [
         "4",
         "Este grupo se centró en las personas que padecen trastornos mentales con comorbilidad de abuso de sustancias (mientras que la demencia, la discapacidad intelectual y el abuso de sustancias por sà solos quedaron excluidos del ámbito de análisis). Con 90 millones de euros de financiación, la comisión dispuso de tres años para \"iniciar y apoyar el desarrollo de proyectos a todos los niveles (tratamiento médico, mejora de los servicios, proyectos de vivienda, mejoras legislativas y organizativas) y proponer las medidas necesarias para elevar de forma permanente el nivel de los servicios de salud mental\". ",
         "3",
         "608",
         "14",
         "0",
         "de"
        ],
        [
         "5",
         "Los datos a nivel del sistema que no se derivan del cuestionario para estudiantes o escuelas de PISA 2015 se extraen de la publicación anual de la OCDE. Panorama de la educación, para aquellos países y economías que participan en esa recopilación periódica de datos. Para otros países y economías, se llevó a cabo una recopilación de datos a nivel de sistema especial en colaboración con los miembros de la Junta de Gobierno de PISA y los directores de proyectos nacionales.",
         "4",
         "474",
         "12",
         "1",
         "de"
        ],
        [
         "6",
         "La principal ventaja de las evaluaciones externas es su fiabilidad. Garantizan que todos los estudiantes son evaluados en las mismas tareas y que los resultados se miden con los mismos estándares. Además, las evaluaciones externas suelen realizarse bajo supervisión, lo que garantiza que lo que se evalúa es el propio trabajo de los estudiantes.",
         "4",
         "345",
         "12",
         "1",
         "que"
        ],
        [
         "7",
         "Los pacientes pueden elegir a cualquier médico de cabecera, pero como no hay un sistema de control, también pueden elegir visitar directamente a cualquier especialista médico. Hay pocos contactos ambulatorios por persona (58 en 2015) y una gobernanza de atención primaria débil (por ejemplo, falta de inspección estatal, políticas de atención primaria de apoyo). También existe un relativo subdesarrollo de la fuerza laboral de atención primaria con bajos niveles de ingresos en relación con los especialistas. Más positivamente, se ha juzgado que el sistema de atención primaria es relativamente efectivo y eficiente con respecto a la coordinación y la integralidad de la atención (Ktingos et al, 2015, Kringosetal, 2013).",
         "3",
         "723",
         "14",
         "1",
         "de"
        ],
        [
         "8",
         "De hecho, es probable que la designación de la universidad como universidad APEX aleje aún más a la institución del compromiso regional. Brindan acceso a un gran número de estudiantes y estudiantes graduados de la región, muchos de los cuales permanecen dentro de la región en busca de empleo. A través de la participación de los estudiantes en la región a través de pasantías, actividades de voluntariado y otras formas, las instituciones tienen un impacto en la región. Excepto por la información básica sobre el número de admisiones, matriculación y graduados, no se disponía de información sustantiva sobre la sucursal de UiTM en Penang, los dos politécnicos, los cuatro colegios comunitarios y las instituciones privadas en Penang y sobre las instituciones de educación superior en los otros tres estados. (Perlis, Kedah y Perak) en la Región Económica del Corredor Norte más grande. Por lo tanto, los hallazgos y observaciones se basan en una perspectiva limitada de las instituciones de educación superior en la región.",
         "4",
         "1026",
         "13",
         "1",
         "de"
        ],
        [
         "9",
         "De hecho, aunque Chile y Uruguay tienen índices de pobreza similares, la pobreza infantil en Chile es 1,8 veces mayor que la de la población adulta, mientras que en Uruguay es 3,1 veces mayor. Esto produciría tasas de pobreza infantil artificialmente altas. Esta línea representa el costo de satisfacer las necesidades básicas de una persona. Medir la pobreza de esta manera supone que el costo per cápita de satisfacer las necesidades básicas de un individuo no se ve afectado por el número de personas que viven en un hogar o por las características demográficas del hogar.",
         "1",
         "575",
         "15",
         "1",
         "de"
        ],
        [
         "10",
         "Según el Informe sobre el Consumo de Drogas en las Américas de 2015,3' se informó que la prevalencia anual de cannabis entre los estudiantes de secundaria en América Central fue más alta en Belice, con un 15,8 %, y más baja en Honduras, con un poco más del 1 %. centavo. Se informaron tasas de prevalencia de menos del 5 por ciento en Antigua y Barbuda, Barbados, Dominica, República Dominicana, El Salvador, Guyana, Haití, Honduras, Panamá, Saint Kitts y Nevis y San Vicente y las Granadinas. Según el Informe sobre el Consumo de Drogas en las Américas de 2015, la prevalencia anual del uso indebido de cocaína entre estudiantes de secundaria en el Caribe oscila entre el 0,5 % y un poco más del 2 %.",
         "3",
         "701",
         "11",
         "1",
         "de"
        ],
        [
         "11",
         "El acuerdo de desempeño describe los objetivos clave que la institución debe esforzarse por lograr en el transcurso de un período de tres años. El ministerio se reúne con cada institución durante el año para discutir el progreso hacia el logro de estos objetivos. Se requiere que cada institución al final del año reporte datos a la Base de Datos de Estadísticas de Educación Superior (DBH) y presente un informe anual al ministerio. Esta información es utilizada por el ministerio para desarrollar un informe anual sobre el estado de la educación superior y para desarrollar una carta de retroalimentación anual para las instituciones sobre su desempeño anual (Larsen et al.,",
         "4",
         "676",
         "17",
         "1",
         "de"
        ],
        [
         "12",
         "Los únicos países que exigen un máster para enseñar preescolar son Inglaterra, Francia, Islandia e Italia. Este nivel de formación se exige para enseñar primaria en 11 de los 35 países de los que se dispone de datos, para enseñar estudios generales de primer ciclo de secundaria en 16 países y para enseñar segundo ciclo de secundaria en 22 países (véase la tabla D6.1 a, b, c y d). En cambio, casi el 40% de los profesores se sienten insuficientemente preparados para los aspectos pedagógicos de la enseñanza, que es la proporción más alta en cualquiera de los 34 países que participaron en la encuesta TALIS (véase el gráfico D6.a). En Francia, la proporción era inferior (76%), y aún más baja en los centros privados (sólo el 69%, frente a una media TALIS del 86%).",
         "4",
         "768",
         "17",
         "1",
         "de"
        ],
        [
         "13",
         "Hay una tendencia creciente de una mayor proporción de graduados en artes en comparación con las corrientes técnicas y científicas. Al mismo tiempo, las escuelas técnicas y vocacionales están produciendo un número decreciente de graduados. Hay un reconocimiento creciente de la necesidad de fortalecer estos programas de capacitación en Penang. Por ejemplo, el centro de desarrollo de habilidades de Penang (PSDC) se estableció en 1989.",
         "4",
         "436",
         "14",
         "1",
         "de"
        ],
        [
         "14",
         "Esto podría involucrar un sistema de acreditación para certificar a las escuelas como capaces de administrar un presupuesto para gastos operativos como parte de los procesos de evaluación escolar por medio de inspecciones (ver Capítulo 4). El otorgamiento de autonomía debe entonces estar asociado con un monitoreo relevante y enfocado, especialmente el monitoreo de los resultados (ver también el Capítulo 2). Se les debe exigir que desarrollen un plan de desarrollo escolar que vincule las prioridades educativas de la escuela con sus intenciones de gasto en colaboración con la comunidad escolar.",
         "4",
         "599",
         "13",
         "1",
         "de"
        ],
        [
         "15",
         "Un estudiante pobre en Costa Rica tiene menos de uno en diez posibilidades de llegar a la universidad, una brecha de oportunidades mucho mayor que en la mayoría de los países de la OCDE. Pero los impulsores clave de la mejora en los sistemas educativos que mejoran más rápidamente (un impulso concertado para expandir la educación en los primeros años, altas expectativas profesionales para los maestros, liderazgo para la mejora por parte de las escuelas y sólidos sistemas de información y evaluación que pueden guiar la reforma) aún no se han logrado. ganó el impulso necesario en Costa Rica. Su papel en la nivelación del campo de juego para los niños de las familias más desfavorecidas es particularmente crítico.",
         "4",
         "718",
         "15",
         "1",
         "de"
        ],
        [
         "16",
         "De los gráficos se puede ver que el 73,4 por ciento de los niños no están privados en absoluto en uno de estos tres dominios, mientras que el 1,9 por ciento de los niños están privados simultáneamente en los tres. Aproximadamente el 3,5 por ciento de los niños belgas están privados de ocio y educación solo frente al 11 por ciento en la comunidad únicamente. Existen privaciones superpuestas en ocio y comunidad para el 1,5 por ciento, en educación y comunidad para el 1,3 por ciento, y en ocio y educación para el 3,5 por ciento. En general, podemos concluir que relativamente pocos de los niños que viven en Bélgica se enfrentan a múltiples privaciones superpuestas mientras que, para aquellos que sufren privaciones, predomina la privación en el ámbito comunitario.",
         "1",
         "769",
         "15",
         "1",
         "en"
        ],
        [
         "17",
         "El personal docente está formado por miembros cristianos, judíos y musulmanes. Los programas de estudio integran práctica, educación y teoría. Las tasas de matrícula son altas y los estudiantes pagan USD 2 500. Para 2010, el presupuesto de la universidad es de USD 1,8 millones: el 50 % del presupuesto está cubierto por el consejo de administración (principalmente del estado de Illinois y Austria), el 25 % de las tasas de matrícula, el resto por la comunidad árabe local.",
         "4",
         "474",
         "15",
         "1",
         "de"
        ],
        [
         "18",
         "En Portugal, los indicadores de la experiencia del paciente figuran entre los utilizados para contratar la asistencia sanitaria \"primaria\". Aunque la mayoría de los sistemas sanitarios de la OCDE cuentan al menos con algunas encuestas para recoger las PREM, a menudo no se hace de forma estandarizada (como se observa en Corea y Australia) y se suele recoger con poca frecuencia (en Japón, por ejemplo, las PREM se recogen una vez cada tres años). En un sistema en el que los datos de PROM se hacen públicos, pueden utilizarse para ayudar a los pacientes a tomar decisiones mejor informadas. Lo ideal sería que los datos de PROM se transmitieran a los médicos para ayudarles a mejorar la atención y los resultados de los pacientes.",
         "3",
         "731",
         "13",
         "1",
         "los"
        ],
        [
         "19",
         "Pocos países ya han logrado construir EPR. El proyecto del Reino Unido (Connecting for Health) se ha retrasado varias veces. Uno de los pocos éxitos lo ha logrado la provincia canadiense de Alberta, que tiene una población ligeramente menor que la de Finlandia. La información también podría usarse para promover aún más la medicina basada en la evidencia y comparar a los proveedores, como en el Hospital Benchmarking Project desarrollado desde 1996 (Hakkinen, 2010).",
         "3",
         "468",
         "12",
         "1",
         "la"
        ],
        [
         "20",
         "Por otro lado, aunque el consumo general de alcohol es alto, las tasas de consumo excesivo de alcohol1 en Austria (19 %) están ligeramente por debajo de la media de la UE (20 %) Entre los adolescentes en 2013-14, el 20 % de las niñas de 15 años y el de los chicos de 15 años declararon haberse emborrachado al menos dos veces en su vida, una proporción similar a la media de la UE. Si bien esta proporción sigue siendo más baja que en la mayoría de los demás países de la UE, ha aumentado sustancialmente desde 1999, cuando solo el 9 % de los adultos austriacos eran obesos. Los adultos austriacos se encuentran entre los más activos físicamente de la UE, pero la inactividad física entre los jóvenes de 15 años es relativamente alta.",
         "3",
         "734",
         "15",
         "1",
         "de"
        ],
        [
         "21",
         "Este último tema es particularmente importante cuando el material curricular o las tareas educativas tienen poca relevancia o significado para los grupos dentro de la población estudiantil, incluidos los estudiantes indígenas (Young, 2010). En comparación con otros estudiantes en sus propios países, los tres grupos de bajo rendimiento realizan menos tareas cada semana, y este indicador es particularmente pronunciado entre los alumnos de bajo rendimiento en Australia (Figura 6.3).",
         "4",
         "484",
         "15",
         "1",
         "los"
        ],
        [
         "22",
         "Por lo tanto, la educación y el cuidado de la primera infancia (EAPI) de alta calidad pueden generar mejores resultados en las etapas posteriores de la vida. Por ejemplo, el número de años pasados ​​en la EAPI es un fuerte predictor del nivel de desempeño dentro y fuera de las escuelas alcanzado en etapas posteriores. Del mismo modo, los niños de origen inmigrante y los niños más desfavorecidos a nivel mundial pueden beneficiarse al máximo de asistir a una EAPI de alta calidad. Sin embargo, los beneficios de asistir a ECEC no se limitan a los resultados del aprendizaje.",
         "4",
         "576",
         "14",
         "1",
         "de"
        ],
        [
         "23",
         "Los solicitantes también deben estar buscando trabajo activamente y, en la mayoría de los casos, el desempleo debe ser involuntario, aunque esto puede ser difícil de observar en la práctica y la definición varía según los países. La duración de los beneficios está limitada en la mayoría de los países, pero no en todos. El seguro es obligatorio para la mayoría de los empleados, pero voluntario en algunos países nórdicos. Los buscadores de empleo cuyo derecho a las prestaciones del seguro de desempleo haya expirado, o cuyo historial laboral sea insuficiente para hacerlos elegibles en primer lugar, pueden tener derecho a la asistencia por desempleo. En algunos países, la asistencia por desempleo es la principal prestación por desempleo.",
         "1",
         "743",
         "13",
         "1",
         "la"
        ],
        [
         "24",
         "La Sección 3 investiga estrategias para promover una formación profesional de calidad, incluidos los aprendizajes, mientras que la Sección 4 se centra en el apoyo a los estudiantes en riesgo. Para una descripción más detallada y una evaluación del sistema educativo de Letonia, véase OCDE (2015e). El Ministerio de Educación y Ciencia (MoES) nacional tiene la función de supervisión y, a través del Centro Nacional de Educación subordinado, establece los estándares educativos nacionales y determina los planes de estudio y los procedimientos de examen. Proporciona el marco regulatorio para la provisión de educación vocacional y emplea a los directores de los establecimientos VET.1 También mantiene el registro de estándares ocupacionales y estudia las demandas de habilidades del mercado laboral.",
         "4",
         "800",
         "16",
         "1",
         "de"
        ],
        [
         "25",
         "Las personas con entre siete y nueve años de escolaridad tienen un índice de pobreza similar al promedio. Como era de esperar, el porcentaje de pobres es mayor entre los desempleados que entre los ocupados y los económicamente inactivos. Además, entre los ocupados, la tasa de pobreza es menor para los asalariados que para los trabajadores por cuenta propia, quienes en varios países tienen una tasa de pobreza similar a la de la población económicamente inactiva. Esto plantea la pregunta de si las políticas públicas para el alivio de la pobreza están poniendo suficiente énfasis en el logro de estándares mínimos. Una mirada más amplia a la pobreza, incluidas las deficiencias en esferas como la protección social y los ingresos, explora la relación entre las diferentes dimensiones de la privación. En particular, explora conceptual y empíricamente diferentes dimensiones, umbrales y formas de sumar dimensiones para avanzar hacia la construcción de un índice de pobreza multidimensional relevante y aplicable en toda la región.",
         "1",
         "1033",
         "16",
         "1",
         "de"
        ],
        [
         "26",
         "En algunos países, los alumnos son segregados en diferentes vías a edades tempranas, reflejando la noción de que sólo algunos niños pueden alcanzar niveles de clase mundial. Pero PISA muestra que esa selección está relacionada con grandes disparidades sociales. Por el contrario, en países tan diferentes como Estonia, Canadá, Finlandia y Japón, padres y profesores están comprometidos con la creencia de que todos los alumnos pueden alcanzar altos niveles.",
         "4",
         "457",
         "13",
         "1",
         "de"
        ],
        [
         "27",
         "Es esencial garantizar que el acceso a los servicios de salud no se vuelva menos equitativo como resultado de las intervenciones de GHP. Los nuevos GHPS deben introducirse solo cuando respalden estos objetivos. De esta manera, las intervenciones de GHP pueden responder a las características específicas de los sistemas de salud domésticos y sus respectivas necesidades.",
         "3",
         "370",
         "15",
         "1",
         "de"
        ],
        [
         "28",
         "Se cree que un currículo integrado de este tipo contribuye a una EPI de alta calidad y a un mejor comportamiento social (Tabla 1.2) (Bennett, 2004, Siraj-Blatchford, 2010). Por ejemplo, se considera que Suecia tiene una educación de la primera infancia de alta calidad, en parte porque los contenidos de su currículo conceden el mismo valor al aprendizaje social y cognitivo (Sheridan et al., 2010). ",
         "4",
         "400",
         "17",
         "0",
         "de"
        ],
        [
         "29",
         "En la mayoría de los países, el ingreso familiar también incluye el valor de alquiler imputado de las viviendas ocupadas por sus propietarios. En Chile, la pobreza disminuyó levemente entre 2006 y 2009, y la tasa de indigencia permaneció básicamente sin cambios.3 Las tasas de pobreza e indigencia en El Salvador no cambiaron entre 2004 y 2009. Para Chile, las cifras aquí presentadas difieren por primera vez de las estimaciones oficiales del país (MIDEPLAN.",
         "1",
         "459",
         "13",
         "1",
         "de"
        ],
        [
         "30",
         "Según los directores de escuela que participaron en PISA 2015, el estudiante promedio en los países de la OCDE asiste a una escuela donde el 84 % de los docentes han obtenido la certificación completa, pero esta proporción varía ampliamente, desde el 100 % en Macao (China) hasta alrededor del 10 % en Colombia. Los hallazgos muestran que la proporción de docentes que han sido certificados para enseñar se asocia positivamente con el desempeño de los estudiantes en solo unos pocos países seleccionados, tanto antes como después de tener en cuenta el perfil socioeconómico de los estudiantes y las escuelas (Figura 1.9). Este débil impacto general no es sorprendente, dados los diferentes estándares utilizados en diferentes países para certificar a los docentes y el hecho de que la mayoría de los países tienen un alto porcentaje de docentes certificados.",
         "4",
         "858",
         "14",
         "1",
         "de"
        ],
        [
         "31",
         "La ventaja relativamente pequeña de las mujeres en África en 2010-2015 es principalmente una consecuencia del impacto diferencial de la epidemia de VIH/SIDA en los niveles de mortalidad por sexo, con una prevalencia estimada del VIH mayor entre las mujeres que entre los hombres. En las regiones más desarrolladas, la ventaja femenina es mayor en Europa (7,4 años o 11,3 por ciento) que en América del Norte (4,7 años o 6,1 por ciento) y Oceanía, que incluye Australia y Nueva Zelanda. La tasa de mortalidad infantil, también conocida como \"tasa de mortalidad de menores de cinco años\"1, disminuyó a un ritmo notable de alrededor del 3 por ciento anual entre 1990 y 2015.",
         "3",
         "671",
         "14",
         "1",
         "de"
        ],
        [
         "32",
         "En el MEP se reconoce que la evaluación reformada debe pasar de evaluar el conocimiento de los contenidos a examinar las habilidades de los estudiantes para aplicar y utilizar los conocimientos de forma que demuestren competencias de orden superior. Esto supondrá una mejora significativa con respecto a la evaluación anterior, que sólo captaba una gama limitada de actividades de aprendizaje. Pero la nueva evaluación debe incluir también otras modificaciones.",
         "4",
         "461",
         "15",
         "1",
         "de"
        ],
        [
         "33",
         "Un incidente de gran importancia en la historia de la atención de la salud mental en Japón fue el ataque con cuchillo del entonces embajador de EE. UU. en Japón, Edwin Reischauer, por parte de una persona con esquizofrenia en 1964. Este ataque generó una alarma pública significativa y contribuyó a aumentar el estigma de las enfermedades mentales. , impulsado por una campaña en los medios de comunicación, además de los altos niveles existentes de estigma dirigido hacia los trastornos mentales. Este incidente también contribuyó a la revisión de 1965 de la Ley de Higiene Mental discutida anteriormente. En 1993, la Ley de Salud Mental fue enmendada nuevamente, con un enfoque particular en la atención en la comunidad, incluida la autorización de la construcción de hogares grupales en la comunidad para personas con trastornos mentales (Tatara y Okamoto, 2009). La Ley de Atención de Salud Comunitaria introducida en 1994 y apoyó aún más el establecimiento de un sistema de salud mental basado en la comunidad.",
         "3",
         "1015",
         "15",
         "1",
         "de"
        ],
        [
         "34",
         "El liderazgo en particular, factor clave de la eficacia escolar, no parece figurar con fuerza en los marcos de evaluación. El proyecto \"Estrategias de desarrollo del liderazgo escolar\" de la asociación nacional Smarter Schools, que está llevando a cabo la AITSL, pretende desarrollar un enfoque nacional para mejorar la capacidad de liderazgo escolar. Típicamente, una revisión escolar va seguida de la formulación de recomendaciones de mejora que se supone que la escuela debe aplicar tras la preparación de un plan de mejora. Sin embargo, el Equipo de Revisión se formó la opinión de que el grado de seguimiento por parte de las autoridades de revisión escolar era variable, incluso dentro de una misma jurisdicción educativa, dependiendo de la capacidad de las redes regionales.",
         "4",
         "781",
         "15",
         "1",
         "de"
        ],
        [
         "35",
         "Sin embargo, los resultados empíricos sugieren que se puede obtener un uso de los recursos educativos que aumente la equidad a través de políticas que proporcionen las señales pertinentes a las escuelas y los docentes: por ejemplo, brindar incentivos financieros a los docentes calificados puede resultar una herramienta eficaz para dirigirse a los estudiantes desfavorecidos. o áreas. En tercer lugar, este trabajo llena un vacío en la investigación empírica al proporcionar evidencia entre países (a diferencia de países específicos) sobre la importancia de la política de intervención temprana para atenuar las desigualdades socioeconómicas intergeneracionales en las oportunidades educativas. Sugiere que las políticas de cuidado infantil e intervención temprana podrían ser efectivas para alcanzar este objetivo. Finalmente, el análisis entre países intenta descubrir el papel que juegan las políticas sociales y del mercado laboral para influir en la igualdad de oportunidades educativas, dada la relación positiva entre la desigualdad intergeneracional y transversal (de ingresos).",
         "4",
         "1088",
         "19",
         "1",
         "de"
        ],
        [
         "36",
         "En 2016 se publicó el primer informe del Consejo Asesor para el Desarrollo de Indicadores de Calidad y se estableció un sistema de seguimiento público de los indicadores de calidad. Desde 2002, EHIF ha llevado a cabo cinco auditorías clínicas en colaboración con expertos cada año. Los ejemplos de 2013 sugieren que el 67,5 % de las visitas a especialistas por hipertensión y el 20 % de las visitas a especialistas por diabetes podrían considerarse 'evitables' y manejarse de manera más adecuada en la atención primaria.",
         "3",
         "520",
         "13",
         "1",
         "de"
        ],
        [
         "37",
         "El sistema educativo tiene una serie de características que promueven la equidad, incluida una alta proporción de estudiantes matriculados en educación de la primera infancia, baja repetición de grado y escolarización integral hasta los 16 años. Las tasas de graduación de la secundaria superior son altas, al igual que las tasas de matriculación en educación y formación profesional. (FP), pero el abandono de la FP también es alto. La educación terciaria es accesible para todos, a través de políticas como un plan de subvenciones y préstamos financiado con fondos públicos. En la Encuesta de habilidades de adultos de la OCDE, los adultos en Dinamarca demuestran habilidades de alfabetización por debajo del promedio y habilidades de aritmética por encima del promedio en comparación con el promedio en los países participantes, y los adultos más jóvenes obtienen puntajes alrededor del promedio.",
         "4",
         "899",
         "15",
         "1",
         "de"
        ],
        [
         "38",
         "La mayoría de las personas de 25 a 64 años en Alemania (55 %) han obtenido una cualificación profesional en el nivel secundario superior o postsecundario, la cuarta proporción más grande entre los países con datos disponibles (el promedio de la OCDE es del 33 %). Debido a la alta incidencia de cualificaciones profesionales y al hecho de que un título general (principalmente Abitur) se dedica a la educación superior y no a la entrada directa en el mercado laboral, solo el 3 % de los adultos obtienen una cualificación general de secundaria superior o postsecundaria como grado más alto, una de las proporciones más bajas entre los países de la OCDE (el promedio de la OCDE es del 12 %) (Tabla Al. Entre 2005 y 2012, las tasas de desempleo se redujeron en 7 puntos porcentuales entre los adultos sin educación secundaria superior (del 20,1 % al 12,8 %) , en 6 puntos porcentuales entre los que tienen educación secundaria superior o postsecundaria no terciaria (del 11,0 % al 5,3 %) y en 3 puntos porcentuales entre los que tienen un título terciario (del 5,6 % al 2,4 %).",
         "4",
         "1075",
         "15",
         "1",
         "de"
        ],
        [
         "39",
         "Una excelente atención médica será fundamental para lograrlo. Hasta ahora, la atención médica japonesa ha tenido un buen desempeño: la esperanza de vida es larga, 83,2 años en comparación con un promedio de la OCDE de 80,2 años, mientras que el gasto en salud es de USD 3 649 PPA per cápita por año, ligeramente superior a USD 3 484 en promedio. . Una característica llamativa del sistema de salud japonés es su apertura y flexibilidad.",
         "3",
         "436",
         "14",
         "1",
         "de"
        ],
        [
         "40",
         "Para consolidar aún más el marco de evaluación y evaluación, hay espacio para incorporar enfoques de evaluación y evaluación con objetivos educativos más amplios, continuar construyendo sobre el profesionalismo docente y construir redes y capacidad para una evaluación y evaluación efectivas y con visión de futuro, en particular en las áreas de la evaluación de los alumnos en el aula, la evaluación de los docentes y la autoevaluación de la escuela. Después de esta descripción general, los capítulos siguientes (3-6) analizarán los problemas relacionados con cada componente individual con mayor profundidad. El término \"evaluación\" se utiliza para referirse a los juicios sobre el desempeño individual de los estudiantes y el logro de las metas de aprendizaje.",
         "4",
         "764",
         "15",
         "1",
         "de"
        ],
        [
         "41",
         "Este capítulo comienza con una descripción general de las reformas de Tailandia relacionadas con el uso de las TIC en la educación, y luego proporciona un análisis de los problemas de política relacionados con esta área, presentando recomendaciones para mejorar para apoyar el uso de las TIC para mejorar la calidad y la equidad de la educación. sistema educativo en su conjunto. El objetivo de estas estrategias ha sido utilizar las TIC para crear una \"Tailandia inteligente\": una sociedad que sea \"inteligente y alfabetizada en información\", donde el conocimiento beneficie a los ciudadanos y a la \"sociedad en su conjunto\" (Ministerio de TIC, 2009a). La educación ha sido un pilar clave en estos esfuerzos.",
         "4",
         "709",
         "15",
         "1",
         "de"
        ],
        [
         "42",
         "Primero, el programa de Fortalecimiento de la Gestión Escolar, que invertirá MEX 41 millones en 595 escuelas, busca apoyar a los líderes escolares en la gestión de los recursos escolares (Gobiemo de Morelos, 2016a). Con una ambición similar, el programa Escuelas de Calidad (Programa Escuelas de Cualidad) tiene como objetivo fortalecer la autonomía de las instituciones de educación básica en la gestión de los recursos, al tiempo que apoya a cada escuela y su Consejo Técnico Escolar en la adopción de mejores prácticas que pueden ayudarlos a cumplir con la planificación. , evaluación y asignación de responsabilidades presupuestarias de manera efectiva. A través de una inversión de MEX 26.57 millones en 2015-16, un total de 475 escuelas se benefician del programa que, en comparación con el año anterior, representa una expansión a 55 escuelas nuevas (Gobiemo de Morelos, 2016a). Otro componente del programa Escuelas de Calidad implica la evaluación de los maestros en la instrucción de sus salones de clase y de los directores en su capacidad para liderar, así como actividades para aumentar la participación de los padres en el aprendizaje de sus hijos. Es probable que los costos de instrucción de los niños desfavorecidos sean más altos que los de los más acomodados y Morelos está tomando medidas positivas para paliar esas necesidades.",
         "4",
         "1348",
         "17",
         "1",
         "de"
        ],
        [
         "43",
         "Actualmente existen en el país más de 4.500 centros de tratamiento y rehabilitación privados y alrededor de 600 públicos. Según las estadísticas oficiales, en 2014 había un total de 65.216 personas registradas como consumidores de drogas en Kazajstán, Kirguistán, Tayikistán y Uzbekistán, frente a un total de 73.345 personas en 2013. Número de drogodependientes registrados oficialmente en Kazajstán en 2014 se situó en 34.221 personas, lo que representa una disminución significativa en comparación con las 40.224 personas en 2013. En Kirguistán, 9.024 personas se registraron oficialmente como drogodependientes en 2014, lo que representa un 8,8% menos que en 2013.",
         "3",
         "668",
         "17",
         "1",
         "en"
        ],
        [
         "44",
         "La información contenida en este documento se relaciona con el área bajo el control efectivo del Gobierno de la República de Chipre. Andrade y O.F.A. Bueno (2008), \"Contribución de la Educación, la Ocupación y las Actividades de Estimulación Cognitiva a la Formación de la Reserva Cognitiva\", Dementia and Neuropsychologia, Vo\\. 2, No. Working Paper ROA-RM-2010/1, Centro de Investigación para la Educación y el Mercado Laboral (ROA), Maastricht.",
         "4",
         "446",
         "17",
         "1",
         "de"
        ],
        [
         "45",
         "El personal docente de Lituania, aunque tiene una formación de grado, muestra habilidades numéricas más bajas que las de otros graduados de educación terciaria y más bajas que el nivel promedio de los docentes en los países miembros de la OCDE que participan en la Encuesta de Habilidades de Adultos (Figura 3.5). Los puntajes competitivos utilizados en las admisiones a la educación superior, que se basan en los puntajes de los exámenes matura, muestran que el puntaje mínimo requerido para ingresar a los programas de formación docente es consistentemente mucho más bajo que el requerido para el campo más popular y selectivo, la medicina (Tabla 3.6). El principal proveedor de programas de formación de docentes, la universidad pedagógica del país, ha recibido una aprobación institucional limitada del organismo de garantía de la calidad de la educación superior del país, y hay debates en curso sobre la forma en que los programas y las instituciones pueden desempeñar mejor sus funciones iniciales. formación docente.",
         "4",
         "1024",
         "16",
         "1",
         "de"
        ],
        [
         "46",
         "La innovación que aproveche estas nuevas oportunidades se beneficiará del intercambio de conocimientos y prácticas sobre cómo implementar reformas con éxito. Esta investigación enfatiza particularmente la necesidad de utilizar diversas estrategias para enseñar y aprender en diferentes circunstancias. Esto significa que incluso si este informe se centra en los REA, es decir, en los recursos educativos y, en particular, en los medios educativos, intentará mantener el foco en la interacción de los procesos y la infraestructura organizativos, los medios para utilizar las redes y la colaboración, y los conocimientos (dados y perdidos). ) de la investigación.",
         "4",
         "661",
         "15",
         "1",
         "y"
        ],
        [
         "47",
         "El fortalecimiento de la atención primaria pública y comunitaria también daría como resultado menos autorreferencias a los departamentos de emergencia de los hospitales por dolencias y afecciones menores en las que los costos del tratamiento son mucho más altos. Finalmente, un mejor manejo de las condiciones crónicas en los entornos de atención primaria contribuiría a prevenir el deterioro y la necesidad de atención hospitalaria. Por ejemplo, los médicos de cabecera y los médicos de familia privados vinculados al sistema myHealth ahora pueden hacer derivaciones para servicios que antes solo podían solicitar los especialistas del hospital. Además, la gama de servicios prestados en la atención primaria se ha ampliado para incluir, por ejemplo, clínicas de gestión de enfermedades crónicas y clínicas de estilo de vida saludable.",
         "3",
         "836",
         "16",
         "1",
         "de"
        ],
        [
         "48",
         "Las microrregiones en Hungría son subregiones estadísticas. Hay 149 microrregiones en total y Budapest no está incluida en el sistema. La atención diurna comprende los servicios de atención de la salud que se brindan a los pacientes que ingresan formalmente en hospitales, establecimientos ambulatorios o centros autónomos, pero con la intención de dar de alta al paciente el mismo día.",
         "3",
         "386",
         "16",
         "1",
         "en"
        ],
        [
         "49",
         "El piloto tuvo tanto éxito que ahora estamos construyendo una plataforma digital permanente para él. Lo mismo ocurre en todos los países: los países con mejor desempeño en PISA, como Japón, Singapur y Corea del Sur en Asia, Estonia y Finlandia en Europa, y Canadá en América del Norte, también obtuvieron los primeros lugares en la evaluación PISA de resolución colaborativa de problemas. Por ejemplo, a los estudiantes japoneses les fue muy bien en esas materias, pero les fue aún mejor en la resolución colaborativa de problemas.",
         "4",
         "531",
         "12",
         "1",
         "en"
        ]
       ],
       "shape": {
        "columns": 6,
        "rows": 2424
       }
      },
      "text/html": [
       "<div>\n",
       "<style scoped>\n",
       "    .dataframe tbody tr th:only-of-type {\n",
       "        vertical-align: middle;\n",
       "    }\n",
       "\n",
       "    .dataframe tbody tr th {\n",
       "        vertical-align: top;\n",
       "    }\n",
       "\n",
       "    .dataframe thead th {\n",
       "        text-align: right;\n",
       "    }\n",
       "</style>\n",
       "<table border=\"1\" class=\"dataframe\">\n",
       "  <thead>\n",
       "    <tr style=\"text-align: right;\">\n",
       "      <th></th>\n",
       "      <th>textos</th>\n",
       "      <th>labels</th>\n",
       "      <th>Count</th>\n",
       "      <th>Max</th>\n",
       "      <th>Min</th>\n",
       "      <th>Moda</th>\n",
       "    </tr>\n",
       "  </thead>\n",
       "  <tbody>\n",
       "    <tr>\n",
       "      <th>0</th>\n",
       "      <td>\"Aprendizaje\" y \"educación\" se consideran sinó...</td>\n",
       "      <td>4</td>\n",
       "      <td>352</td>\n",
       "      <td>14</td>\n",
       "      <td>1</td>\n",
       "      <td>de</td>\n",
       "    </tr>\n",
       "    <tr>\n",
       "      <th>1</th>\n",
       "      <td>Para los niños más pequeños (bebés y niños peq...</td>\n",
       "      <td>4</td>\n",
       "      <td>516</td>\n",
       "      <td>16</td>\n",
       "      <td>1</td>\n",
       "      <td>y</td>\n",
       "    </tr>\n",
       "    <tr>\n",
       "      <th>2</th>\n",
       "      <td>Además, la formación de especialistas en medic...</td>\n",
       "      <td>3</td>\n",
       "      <td>659</td>\n",
       "      <td>15</td>\n",
       "      <td>1</td>\n",
       "      <td>de</td>\n",
       "    </tr>\n",
       "    <tr>\n",
       "      <th>3</th>\n",
       "      <td>En los países de la OCDE se tiende a pasar de ...</td>\n",
       "      <td>4</td>\n",
       "      <td>693</td>\n",
       "      <td>18</td>\n",
       "      <td>1</td>\n",
       "      <td>de</td>\n",
       "    </tr>\n",
       "    <tr>\n",
       "      <th>4</th>\n",
       "      <td>Este grupo se centró en las personas que padec...</td>\n",
       "      <td>3</td>\n",
       "      <td>608</td>\n",
       "      <td>14</td>\n",
       "      <td>0</td>\n",
       "      <td>de</td>\n",
       "    </tr>\n",
       "    <tr>\n",
       "      <th>...</th>\n",
       "      <td>...</td>\n",
       "      <td>...</td>\n",
       "      <td>...</td>\n",
       "      <td>...</td>\n",
       "      <td>...</td>\n",
       "      <td>...</td>\n",
       "    </tr>\n",
       "    <tr>\n",
       "      <th>2419</th>\n",
       "      <td>La tutoría de carrera está diseñada para apoya...</td>\n",
       "      <td>4</td>\n",
       "      <td>741</td>\n",
       "      <td>16</td>\n",
       "      <td>1</td>\n",
       "      <td>de</td>\n",
       "    </tr>\n",
       "    <tr>\n",
       "      <th>2420</th>\n",
       "      <td>Fuente: Ministerio de Educación. Las Tasas Int...</td>\n",
       "      <td>4</td>\n",
       "      <td>541</td>\n",
       "      <td>15</td>\n",
       "      <td>1</td>\n",
       "      <td>de</td>\n",
       "    </tr>\n",
       "    <tr>\n",
       "      <th>2421</th>\n",
       "      <td>Y desde 2010, el PNUD ha sido pionero en la pu...</td>\n",
       "      <td>1</td>\n",
       "      <td>352</td>\n",
       "      <td>12</td>\n",
       "      <td>1</td>\n",
       "      <td>el</td>\n",
       "    </tr>\n",
       "    <tr>\n",
       "      <th>2422</th>\n",
       "      <td>Sin embargo, estas fallas del mercado implican...</td>\n",
       "      <td>3</td>\n",
       "      <td>754</td>\n",
       "      <td>15</td>\n",
       "      <td>1</td>\n",
       "      <td>el</td>\n",
       "    </tr>\n",
       "    <tr>\n",
       "      <th>2423</th>\n",
       "      <td>Aunque existen programas para convertirse espe...</td>\n",
       "      <td>4</td>\n",
       "      <td>593</td>\n",
       "      <td>25</td>\n",
       "      <td>1</td>\n",
       "      <td>de</td>\n",
       "    </tr>\n",
       "  </tbody>\n",
       "</table>\n",
       "<p>2424 rows × 6 columns</p>\n",
       "</div>"
      ],
      "text/plain": [
       "                                                 textos  labels  Count  Max  \\\n",
       "0     \"Aprendizaje\" y \"educación\" se consideran sinó...       4    352   14   \n",
       "1     Para los niños más pequeños (bebés y niños peq...       4    516   16   \n",
       "2     Además, la formación de especialistas en medic...       3    659   15   \n",
       "3     En los países de la OCDE se tiende a pasar de ...       4    693   18   \n",
       "4     Este grupo se centró en las personas que padec...       3    608   14   \n",
       "...                                                 ...     ...    ...  ...   \n",
       "2419  La tutoría de carrera está diseñada para apoya...       4    741   16   \n",
       "2420  Fuente: Ministerio de Educación. Las Tasas Int...       4    541   15   \n",
       "2421  Y desde 2010, el PNUD ha sido pionero en la pu...       1    352   12   \n",
       "2422  Sin embargo, estas fallas del mercado implican...       3    754   15   \n",
       "2423  Aunque existen programas para convertirse espe...       4    593   25   \n",
       "\n",
       "      Min Moda  \n",
       "0       1   de  \n",
       "1       1    y  \n",
       "2       1   de  \n",
       "3       1   de  \n",
       "4       0   de  \n",
       "...   ...  ...  \n",
       "2419    1   de  \n",
       "2420    1   de  \n",
       "2421    1   el  \n",
       "2422    1   el  \n",
       "2423    1   de  \n",
       "\n",
       "[2424 rows x 6 columns]"
      ]
     },
     "execution_count": 71,
     "metadata": {},
     "output_type": "execute_result"
    }
   ],
   "source": [
    "texts"
   ]
  },
  {
   "cell_type": "markdown",
   "id": "ae33f5ff",
   "metadata": {},
   "source": [
    "### Distribucion de la variable labels"
   ]
  },
  {
   "cell_type": "code",
   "execution_count": 72,
   "id": "58ce2cb2",
   "metadata": {},
   "outputs": [
    {
     "data": {
      "image/png": "[encoded data removed]",
      "text/plain": [
       "<Figure size 640x480 with 1 Axes>"
      ]
     },
     "metadata": {},
     "output_type": "display_data"
    }
   ],
   "source": [
    "sns.countplot(x=\"labels\", data=df_textC)\n",
    "plt.title(\"Distribución de la variable target (1/3/4) \")\n",
    "plt.show()"
   ]
  },
  {
   "cell_type": "markdown",
   "id": "6df89a00",
   "metadata": {},
   "source": [
    "Como podemos ver hay una diferencia notable del label 1 (\"Fin de la pobreza\") con respecto a las demas . Modelaremos asi para pobrar como se comporta el modelo."
   ]
  },
  {
   "cell_type": "markdown",
   "id": "7faf45f8",
   "metadata": {},
   "source": [
    "### 3. Preparación de datos"
   ]
  },
  {
   "cell_type": "markdown",
   "id": "45d65c43",
   "metadata": {},
   "source": [
    "### 3.1 Limpieza de datos"
   ]
  },
  {
   "cell_type": "code",
   "execution_count": 73,
   "id": "ae3d2a92",
   "metadata": {},
   "outputs": [],
   "source": [
    "\"\"\"Remove non-ASCII characters from list of tokenized words\"\"\"\n",
    "def remove_non_ascii(words):\n",
    "    new_words = []\n",
    "    for word in words:\n",
    "        if word is not None:\n",
    "          new_word = unicodedata.normalize('NFKD', word).encode('ascii', 'ignore').decode('utf-8', 'ignore')\n",
    "          new_words.append(new_word)\n",
    "    return new_words\n",
    "\n",
    "\"\"\"Convert all characters to lowercase from list of tokenized words \"\"\"\n",
    "def to_lowercase(words):\n",
    "    return [ word.lower() for word in words]\n",
    "\n",
    "\"\"\"Remove punctuation from list of tokenized words\"\"\"\n",
    "def remove_punctuation(words):\n",
    "    new_words = []\n",
    "    for word in words:\n",
    "        if word is not None:\n",
    "            new_word = re.sub(r'[^\\w\\s]', '', word)\n",
    "            if new_word != '':\n",
    "                new_words.append(new_word)\n",
    "    return new_words\n",
    "\n",
    "\"\"\"Remove stop words from list of tokenized words\"\"\"\n",
    "def remove_stopwords(words):\n",
    "    stop_words = set(stopwords.words(\"spanish\"))\n",
    "    return [w for w in words if w.lower() not in stop_words]\n",
    "  \n",
    "\"\"\"Make all transformations to text\"\"\"\n",
    "def preprocessing(words):\n",
    "    words = to_lowercase(words)\n",
    "    words = remove_punctuation(words)\n",
    "    words = remove_non_ascii(words)\n",
    "    words = remove_stopwords(words)\n",
    "    return words\n",
    "\n",
    "\n",
    "\n",
    "\n"
   ]
  },
  {
   "cell_type": "markdown",
   "id": "d451f513",
   "metadata": {},
   "source": [
    "### 3.2 Tokenizacion\n",
    "Obtenemos todas las palabras separadas para usarlo en el analisis"
   ]
  },
  {
   "cell_type": "code",
   "execution_count": 74,
   "id": "da18aa79",
   "metadata": {},
   "outputs": [
    {
     "data": {
      "application/vnd.microsoft.datawrangler.viewer.v0+json": {
       "columns": [
        {
         "name": "index",
         "rawType": "int64",
         "type": "integer"
        },
        {
         "name": "textos",
         "rawType": "object",
         "type": "string"
        },
        {
         "name": "labels",
         "rawType": "int64",
         "type": "integer"
        },
        {
         "name": "palabras",
         "rawType": "object",
         "type": "unknown"
        }
       ],
       "ref": "ac39a3fa-8d54-49d5-aaf1-16184c1cad89",
       "rows": [
        [
         "0",
         "\"Aprendizaje\" y \"educación\" se consideran sinónimos de escolarización formal. Las organizaciones auxiliares, como las editoriales de educación, las juntas examinadoras y las organizaciones de formación de docentes, se consideran extensiones de los acuerdos establecidos por los gobiernos. Este marco de comprensión se ha vuelto cada vez más inadecuado.",
         "4",
         "['``', 'Aprendizaje', \"''\", 'y', '``', 'educación', \"''\", 'se', 'consideran', 'sinónimos', 'de', 'escolarización', 'formal', '.', 'Las', 'organizaciones', 'auxiliares', ',', 'como', 'las', 'editoriales', 'de', 'educación', ',', 'las', 'juntas', 'examinadoras', 'y', 'las', 'organizaciones', 'de', 'formación', 'de', 'docentes', ',', 'se', 'consideran', 'extensiones', 'de', 'los', 'acuerdos', 'establecidos', 'por', 'los', 'gobiernos', '.', 'Este', 'marco', 'de', 'comprensión', 'se', 'ha', 'vuelto', 'cada', 'vez', 'más', 'inadecuado', '.']"
        ],
        [
         "1",
         "Para los niños más pequeños (bebés y niños pequeños), la capacitación especializada y práctica parece estar más fuertemente asociada con la calidad pedagógica y los resultados cognitivos y sociales. Los educadores de la primera infancia se encuentran con entornos sociales cada vez más complejos y se encuentran con una multiplicidad de antecedentes y experiencias familiares. Estos factores crean imperativos para adoptar nuevas pedagogías y prácticas organizacionales para acomodar este pluralismo (Elliott, 2006).",
         "4",
         "['Para', 'los', 'niños', 'más', 'pequeños', '(', 'bebés', 'y', 'niños', 'pequeños', ')', ',', 'la', 'capacitación', 'especializada', 'y', 'práctica', 'parece', 'estar', 'más', 'fuertemente', 'asociada', 'con', 'la', 'calidad', 'pedagógica', 'y', 'los', 'resultados', 'cognitivos', 'y', 'sociales', '.', 'Los', 'educadores', 'de', 'la', 'primera', 'infancia', 'se', 'encuentran', 'con', 'entornos', 'sociales', 'cada', 'vez', 'más', 'complejos', 'y', 'se', 'encuentran', 'con', 'una', 'multiplicidad', 'de', 'antecedentes', 'y', 'experiencias', 'familiares', '.', 'Estos', 'factores', 'crean', 'imperativos', 'para', 'adoptar', 'nuevas', 'pedagogías', 'y', 'prácticas', 'organizacionales', 'para', 'acomodar', 'este', 'pluralismo', '(', 'Elliott', ',', '2006', ')', '.']"
        ],
        [
         "2",
         "Además, la formación de especialistas en medicina general también incluye tareas que requieren un conocimiento más profundo de problemas comunes de salud pública, incluida la salud mental (Cuestionario de salud mental de la OCDE, 2013). Dado que no hay control en la atención primaria para limitar el acceso a los servicios de salud (mental) especializados, muchos pacientes que necesitan tratamiento (para trastornos mentales graves en particular) pueden buscar atención de nivel especializado directamente. Los servicios de especialistas en psiquiatría se brindan principalmente en las salas ambulatorias de psiquiatría ubicadas en los hospitales generales.",
         "3",
         "['Además', ',', 'la', 'formación', 'de', 'especialistas', 'en', 'medicina', 'general', 'también', 'incluye', 'tareas', 'que', 'requieren', 'un', 'conocimiento', 'más', 'profundo', 'de', 'problemas', 'comunes', 'de', 'salud', 'pública', ',', 'incluida', 'la', 'salud', 'mental', '(', 'Cuestionario', 'de', 'salud', 'mental', 'de', 'la', 'OCDE', ',', '2013', ')', '.', 'Dado', 'que', 'no', 'hay', 'control', 'en', 'la', 'atención', 'primaria', 'para', 'limitar', 'el', 'acceso', 'a', 'los', 'servicios', 'de', 'salud', '(', 'mental', ')', 'especializados', ',', 'muchos', 'pacientes', 'que', 'necesitan', 'tratamiento', '(', 'para', 'trastornos', 'mentales', 'graves', 'en', 'particular', ')', 'pueden', 'buscar', 'atención', 'de', 'nivel', 'especializado', 'directamente', '.', 'Los', 'servicios', 'de', 'especialistas', 'en', 'psiquiatría', 'se', 'brindan', 'principalmente', 'en', 'las', 'salas', 'ambulatorias', 'de', 'psiquiatría', 'ubicadas', 'en', 'los', 'hospitales', 'generales', '.']"
        ],
        [
         "3",
         "En los países de la OCDE se tiende a pasar de los cursos obligatorios a los optativos, abiertos a estudiantes de distintas facultades y escuelas. Este planteamiento facilita la formación de equipos de estudiantes con distintas formaciones e intereses. El trabajo en equipos interdisciplinares permite a los individuos concentrarse en lo que mejor saben y les gusta y, al mismo tiempo, familiarizarse con nuevos conocimientos que pueden asociarse a una nueva forma de resolver un problema o crear un nuevo producto o servicio. No está claro hasta qué punto estos cursos utilizan métodos pedagógicos creativos y se adaptan a las necesidades de los estudiantes de grado, postgrado y licenciatura.",
         "4",
         "['En', 'los', 'países', 'de', 'la', 'OCDE', 'se', 'tiende', 'a', 'pasar', 'de', 'los', 'cursos', 'obligatorios', 'a', 'los', 'optativos', ',', 'abiertos', 'a', 'estudiantes', 'de', 'distintas', 'facultades', 'y', 'escuelas', '.', 'Este', 'planteamiento', 'facilita', 'la', 'formación', 'de', 'equipos', 'de', 'estudiantes', 'con', 'distintas', 'formaciones', 'e', 'intereses', '.', 'El', 'trabajo', 'en', 'equipos', 'interdisciplinares', 'permite', 'a', 'los', 'individuos', 'concentrarse', 'en', 'lo', 'que', 'mejor', 'saben', 'y', 'les', 'gusta', 'y', ',', 'al', 'mismo', 'tiempo', ',', 'familiarizarse', 'con', 'nuevos', 'conocimientos', 'que', 'pueden', 'asociarse', 'a', 'una', 'nueva', 'forma', 'de', 'resolver', 'un', 'problema', 'o', 'crear', 'un', 'nuevo', 'producto', 'o', 'servicio', '.', 'No', 'está', 'claro', 'hasta', 'qué', 'punto', 'estos', 'cursos', 'utilizan', 'métodos', 'pedagógicos', 'creativos', 'y', 'se', 'adaptan', 'a', 'las', 'necesidades', 'de', 'los', 'estudiantes', 'de', 'grado', ',', 'postgrado', 'y', 'licenciatura', '.']"
        ],
        [
         "4",
         "Este grupo se centró en las personas que padecen trastornos mentales con comorbilidad de abuso de sustancias (mientras que la demencia, la discapacidad intelectual y el abuso de sustancias por sà solos quedaron excluidos del ámbito de análisis). Con 90 millones de euros de financiación, la comisión dispuso de tres años para \"iniciar y apoyar el desarrollo de proyectos a todos los niveles (tratamiento médico, mejora de los servicios, proyectos de vivienda, mejoras legislativas y organizativas) y proponer las medidas necesarias para elevar de forma permanente el nivel de los servicios de salud mental\". ",
         "3",
         "['Este', 'grupo', 'se', 'centró', 'en', 'las', 'personas', 'que', 'padecen', 'trastornos', 'mentales', 'con', 'comorbilidad', 'de', 'abuso', 'de', 'sustancias', '(', 'mientras', 'que', 'la', 'demencia', ',', 'la', 'discapacidad', 'intelectual', 'y', 'el', 'abuso', 'de', 'sustancias', 'por', 'sà', 'solos', 'quedaron', 'excluidos', 'del', 'ámbito', 'de', 'análisis', ')', '.', 'Con', '90', 'millones', 'de', 'euros', 'de', 'financiación', ',', 'la', 'comisión', 'dispuso', 'de', 'tres', 'años', 'para', '``', 'iniciar', 'y', 'apoyar', 'el', 'desarrollo', 'de', 'proyectos', 'a', 'todos', 'los', 'niveles', '(', 'tratamiento', 'médico', ',', 'mejora', 'de', 'los', 'servicios', ',', 'proyectos', 'de', 'vivienda', ',', 'mejoras', 'legislativas', 'y', 'organizativas', ')', 'y', 'proponer', 'las', 'medidas', 'necesarias', 'para', 'elevar', 'de', 'forma', 'permanente', 'el', 'nivel', 'de', 'los', 'servicios', 'de', 'salud', 'mental', \"''\", '.']"
        ]
       ],
       "shape": {
        "columns": 3,
        "rows": 5
       }
      },
      "text/html": [
       "<div>\n",
       "<style scoped>\n",
       "    .dataframe tbody tr th:only-of-type {\n",
       "        vertical-align: middle;\n",
       "    }\n",
       "\n",
       "    .dataframe tbody tr th {\n",
       "        vertical-align: top;\n",
       "    }\n",
       "\n",
       "    .dataframe thead th {\n",
       "        text-align: right;\n",
       "    }\n",
       "</style>\n",
       "<table border=\"1\" class=\"dataframe\">\n",
       "  <thead>\n",
       "    <tr style=\"text-align: right;\">\n",
       "      <th></th>\n",
       "      <th>textos</th>\n",
       "      <th>labels</th>\n",
       "      <th>palabras</th>\n",
       "    </tr>\n",
       "  </thead>\n",
       "  <tbody>\n",
       "    <tr>\n",
       "      <th>0</th>\n",
       "      <td>\"Aprendizaje\" y \"educación\" se consideran sinó...</td>\n",
       "      <td>4</td>\n",
       "      <td>[``, Aprendizaje, '', y, ``, educación, '', se...</td>\n",
       "    </tr>\n",
       "    <tr>\n",
       "      <th>1</th>\n",
       "      <td>Para los niños más pequeños (bebés y niños peq...</td>\n",
       "      <td>4</td>\n",
       "      <td>[Para, los, niños, más, pequeños, (, bebés, y,...</td>\n",
       "    </tr>\n",
       "    <tr>\n",
       "      <th>2</th>\n",
       "      <td>Además, la formación de especialistas en medic...</td>\n",
       "      <td>3</td>\n",
       "      <td>[Además, ,, la, formación, de, especialistas, ...</td>\n",
       "    </tr>\n",
       "    <tr>\n",
       "      <th>3</th>\n",
       "      <td>En los países de la OCDE se tiende a pasar de ...</td>\n",
       "      <td>4</td>\n",
       "      <td>[En, los, países, de, la, OCDE, se, tiende, a,...</td>\n",
       "    </tr>\n",
       "    <tr>\n",
       "      <th>4</th>\n",
       "      <td>Este grupo se centró en las personas que padec...</td>\n",
       "      <td>3</td>\n",
       "      <td>[Este, grupo, se, centró, en, las, personas, q...</td>\n",
       "    </tr>\n",
       "  </tbody>\n",
       "</table>\n",
       "</div>"
      ],
      "text/plain": [
       "                                              textos  labels  \\\n",
       "0  \"Aprendizaje\" y \"educación\" se consideran sinó...       4   \n",
       "1  Para los niños más pequeños (bebés y niños peq...       4   \n",
       "2  Además, la formación de especialistas en medic...       3   \n",
       "3  En los países de la OCDE se tiende a pasar de ...       4   \n",
       "4  Este grupo se centró en las personas que padec...       3   \n",
       "\n",
       "                                            palabras  \n",
       "0  [``, Aprendizaje, '', y, ``, educación, '', se...  \n",
       "1  [Para, los, niños, más, pequeños, (, bebés, y,...  \n",
       "2  [Además, ,, la, formación, de, especialistas, ...  \n",
       "3  [En, los, países, de, la, OCDE, se, tiende, a,...  \n",
       "4  [Este, grupo, se, centró, en, las, personas, q...  "
      ]
     },
     "execution_count": 74,
     "metadata": {},
     "output_type": "execute_result"
    }
   ],
   "source": [
    "df_textC['palabras'] = df_textC['textos'].apply(word_tokenize)\n",
    "\n",
    "df_textC.head()\n"
   ]
  },
  {
   "cell_type": "markdown",
   "id": "f397b4d7",
   "metadata": {},
   "source": [
    "Le aplicamos el procesamiento para quitar puntuaciones , stopwords y pasar todas las palabras a minuscula."
   ]
  },
  {
   "cell_type": "code",
   "execution_count": 75,
   "id": "7d402129",
   "metadata": {},
   "outputs": [
    {
     "data": {
      "application/vnd.microsoft.datawrangler.viewer.v0+json": {
       "columns": [
        {
         "name": "index",
         "rawType": "int64",
         "type": "integer"
        },
        {
         "name": "textos",
         "rawType": "object",
         "type": "string"
        },
        {
         "name": "labels",
         "rawType": "int64",
         "type": "integer"
        },
        {
         "name": "palabras",
         "rawType": "object",
         "type": "unknown"
        },
        {
         "name": "palabrasProces",
         "rawType": "object",
         "type": "unknown"
        }
       ],
       "ref": "f5d9561f-1915-4957-848d-1b2a918a5805",
       "rows": [
        [
         "0",
         "\"Aprendizaje\" y \"educación\" se consideran sinónimos de escolarización formal. Las organizaciones auxiliares, como las editoriales de educación, las juntas examinadoras y las organizaciones de formación de docentes, se consideran extensiones de los acuerdos establecidos por los gobiernos. Este marco de comprensión se ha vuelto cada vez más inadecuado.",
         "4",
         "['``', 'Aprendizaje', \"''\", 'y', '``', 'educación', \"''\", 'se', 'consideran', 'sinónimos', 'de', 'escolarización', 'formal', '.', 'Las', 'organizaciones', 'auxiliares', ',', 'como', 'las', 'editoriales', 'de', 'educación', ',', 'las', 'juntas', 'examinadoras', 'y', 'las', 'organizaciones', 'de', 'formación', 'de', 'docentes', ',', 'se', 'consideran', 'extensiones', 'de', 'los', 'acuerdos', 'establecidos', 'por', 'los', 'gobiernos', '.', 'Este', 'marco', 'de', 'comprensión', 'se', 'ha', 'vuelto', 'cada', 'vez', 'más', 'inadecuado', '.']",
         "['aprendizaje', 'educacion', 'consideran', 'sinonimos', 'escolarizacion', 'formal', 'organizaciones', 'auxiliares', 'editoriales', 'educacion', 'juntas', 'examinadoras', 'organizaciones', 'formacion', 'docentes', 'consideran', 'extensiones', 'acuerdos', 'establecidos', 'gobiernos', 'marco', 'comprension', 'vuelto', 'cada', 'vez', 'mas', 'inadecuado']"
        ],
        [
         "1",
         "Para los niños más pequeños (bebés y niños pequeños), la capacitación especializada y práctica parece estar más fuertemente asociada con la calidad pedagógica y los resultados cognitivos y sociales. Los educadores de la primera infancia se encuentran con entornos sociales cada vez más complejos y se encuentran con una multiplicidad de antecedentes y experiencias familiares. Estos factores crean imperativos para adoptar nuevas pedagogías y prácticas organizacionales para acomodar este pluralismo (Elliott, 2006).",
         "4",
         "['Para', 'los', 'niños', 'más', 'pequeños', '(', 'bebés', 'y', 'niños', 'pequeños', ')', ',', 'la', 'capacitación', 'especializada', 'y', 'práctica', 'parece', 'estar', 'más', 'fuertemente', 'asociada', 'con', 'la', 'calidad', 'pedagógica', 'y', 'los', 'resultados', 'cognitivos', 'y', 'sociales', '.', 'Los', 'educadores', 'de', 'la', 'primera', 'infancia', 'se', 'encuentran', 'con', 'entornos', 'sociales', 'cada', 'vez', 'más', 'complejos', 'y', 'se', 'encuentran', 'con', 'una', 'multiplicidad', 'de', 'antecedentes', 'y', 'experiencias', 'familiares', '.', 'Estos', 'factores', 'crean', 'imperativos', 'para', 'adoptar', 'nuevas', 'pedagogías', 'y', 'prácticas', 'organizacionales', 'para', 'acomodar', 'este', 'pluralismo', '(', 'Elliott', ',', '2006', ')', '.']",
         "['ninos', 'mas', 'pequenos', 'bebes', 'ninos', 'pequenos', 'capacitacion', 'especializada', 'practica', 'parece', 'mas', 'fuertemente', 'asociada', 'calidad', 'pedagogica', 'resultados', 'cognitivos', 'sociales', 'educadores', 'primera', 'infancia', 'encuentran', 'entornos', 'sociales', 'cada', 'vez', 'mas', 'complejos', 'encuentran', 'multiplicidad', 'antecedentes', 'experiencias', 'familiares', 'factores', 'crean', 'imperativos', 'adoptar', 'nuevas', 'pedagogias', 'practicas', 'organizacionales', 'acomodar', 'pluralismo', 'elliott', '2006']"
        ],
        [
         "2",
         "Además, la formación de especialistas en medicina general también incluye tareas que requieren un conocimiento más profundo de problemas comunes de salud pública, incluida la salud mental (Cuestionario de salud mental de la OCDE, 2013). Dado que no hay control en la atención primaria para limitar el acceso a los servicios de salud (mental) especializados, muchos pacientes que necesitan tratamiento (para trastornos mentales graves en particular) pueden buscar atención de nivel especializado directamente. Los servicios de especialistas en psiquiatría se brindan principalmente en las salas ambulatorias de psiquiatría ubicadas en los hospitales generales.",
         "3",
         "['Además', ',', 'la', 'formación', 'de', 'especialistas', 'en', 'medicina', 'general', 'también', 'incluye', 'tareas', 'que', 'requieren', 'un', 'conocimiento', 'más', 'profundo', 'de', 'problemas', 'comunes', 'de', 'salud', 'pública', ',', 'incluida', 'la', 'salud', 'mental', '(', 'Cuestionario', 'de', 'salud', 'mental', 'de', 'la', 'OCDE', ',', '2013', ')', '.', 'Dado', 'que', 'no', 'hay', 'control', 'en', 'la', 'atención', 'primaria', 'para', 'limitar', 'el', 'acceso', 'a', 'los', 'servicios', 'de', 'salud', '(', 'mental', ')', 'especializados', ',', 'muchos', 'pacientes', 'que', 'necesitan', 'tratamiento', '(', 'para', 'trastornos', 'mentales', 'graves', 'en', 'particular', ')', 'pueden', 'buscar', 'atención', 'de', 'nivel', 'especializado', 'directamente', '.', 'Los', 'servicios', 'de', 'especialistas', 'en', 'psiquiatría', 'se', 'brindan', 'principalmente', 'en', 'las', 'salas', 'ambulatorias', 'de', 'psiquiatría', 'ubicadas', 'en', 'los', 'hospitales', 'generales', '.']",
         "['ademas', 'formacion', 'especialistas', 'medicina', 'general', 'tambien', 'incluye', 'tareas', 'requieren', 'conocimiento', 'mas', 'profundo', 'problemas', 'comunes', 'salud', 'publica', 'incluida', 'salud', 'mental', 'cuestionario', 'salud', 'mental', 'ocde', '2013', 'dado', 'control', 'atencion', 'primaria', 'limitar', 'acceso', 'servicios', 'salud', 'mental', 'especializados', 'pacientes', 'necesitan', 'tratamiento', 'trastornos', 'mentales', 'graves', 'particular', 'pueden', 'buscar', 'atencion', 'nivel', 'especializado', 'directamente', 'servicios', 'especialistas', 'psiquiatria', 'brindan', 'principalmente', 'salas', 'ambulatorias', 'psiquiatria', 'ubicadas', 'hospitales', 'generales']"
        ],
        [
         "3",
         "En los países de la OCDE se tiende a pasar de los cursos obligatorios a los optativos, abiertos a estudiantes de distintas facultades y escuelas. Este planteamiento facilita la formación de equipos de estudiantes con distintas formaciones e intereses. El trabajo en equipos interdisciplinares permite a los individuos concentrarse en lo que mejor saben y les gusta y, al mismo tiempo, familiarizarse con nuevos conocimientos que pueden asociarse a una nueva forma de resolver un problema o crear un nuevo producto o servicio. No está claro hasta qué punto estos cursos utilizan métodos pedagógicos creativos y se adaptan a las necesidades de los estudiantes de grado, postgrado y licenciatura.",
         "4",
         "['En', 'los', 'países', 'de', 'la', 'OCDE', 'se', 'tiende', 'a', 'pasar', 'de', 'los', 'cursos', 'obligatorios', 'a', 'los', 'optativos', ',', 'abiertos', 'a', 'estudiantes', 'de', 'distintas', 'facultades', 'y', 'escuelas', '.', 'Este', 'planteamiento', 'facilita', 'la', 'formación', 'de', 'equipos', 'de', 'estudiantes', 'con', 'distintas', 'formaciones', 'e', 'intereses', '.', 'El', 'trabajo', 'en', 'equipos', 'interdisciplinares', 'permite', 'a', 'los', 'individuos', 'concentrarse', 'en', 'lo', 'que', 'mejor', 'saben', 'y', 'les', 'gusta', 'y', ',', 'al', 'mismo', 'tiempo', ',', 'familiarizarse', 'con', 'nuevos', 'conocimientos', 'que', 'pueden', 'asociarse', 'a', 'una', 'nueva', 'forma', 'de', 'resolver', 'un', 'problema', 'o', 'crear', 'un', 'nuevo', 'producto', 'o', 'servicio', '.', 'No', 'está', 'claro', 'hasta', 'qué', 'punto', 'estos', 'cursos', 'utilizan', 'métodos', 'pedagógicos', 'creativos', 'y', 'se', 'adaptan', 'a', 'las', 'necesidades', 'de', 'los', 'estudiantes', 'de', 'grado', ',', 'postgrado', 'y', 'licenciatura', '.']",
         "['paises', 'ocde', 'tiende', 'pasar', 'cursos', 'obligatorios', 'optativos', 'abiertos', 'estudiantes', 'distintas', 'facultades', 'escuelas', 'planteamiento', 'facilita', 'formacion', 'equipos', 'estudiantes', 'distintas', 'formaciones', 'intereses', 'trabajo', 'equipos', 'interdisciplinares', 'permite', 'individuos', 'concentrarse', 'mejor', 'saben', 'gusta', 'mismo', 'tiempo', 'familiarizarse', 'nuevos', 'conocimientos', 'pueden', 'asociarse', 'nueva', 'forma', 'resolver', 'problema', 'crear', 'nuevo', 'producto', 'servicio', 'claro', 'punto', 'cursos', 'utilizan', 'metodos', 'pedagogicos', 'creativos', 'adaptan', 'necesidades', 'estudiantes', 'grado', 'postgrado', 'licenciatura']"
        ],
        [
         "4",
         "Este grupo se centró en las personas que padecen trastornos mentales con comorbilidad de abuso de sustancias (mientras que la demencia, la discapacidad intelectual y el abuso de sustancias por sà solos quedaron excluidos del ámbito de análisis). Con 90 millones de euros de financiación, la comisión dispuso de tres años para \"iniciar y apoyar el desarrollo de proyectos a todos los niveles (tratamiento médico, mejora de los servicios, proyectos de vivienda, mejoras legislativas y organizativas) y proponer las medidas necesarias para elevar de forma permanente el nivel de los servicios de salud mental\". ",
         "3",
         "['Este', 'grupo', 'se', 'centró', 'en', 'las', 'personas', 'que', 'padecen', 'trastornos', 'mentales', 'con', 'comorbilidad', 'de', 'abuso', 'de', 'sustancias', '(', 'mientras', 'que', 'la', 'demencia', ',', 'la', 'discapacidad', 'intelectual', 'y', 'el', 'abuso', 'de', 'sustancias', 'por', 'sà', 'solos', 'quedaron', 'excluidos', 'del', 'ámbito', 'de', 'análisis', ')', '.', 'Con', '90', 'millones', 'de', 'euros', 'de', 'financiación', ',', 'la', 'comisión', 'dispuso', 'de', 'tres', 'años', 'para', '``', 'iniciar', 'y', 'apoyar', 'el', 'desarrollo', 'de', 'proyectos', 'a', 'todos', 'los', 'niveles', '(', 'tratamiento', 'médico', ',', 'mejora', 'de', 'los', 'servicios', ',', 'proyectos', 'de', 'vivienda', ',', 'mejoras', 'legislativas', 'y', 'organizativas', ')', 'y', 'proponer', 'las', 'medidas', 'necesarias', 'para', 'elevar', 'de', 'forma', 'permanente', 'el', 'nivel', 'de', 'los', 'servicios', 'de', 'salud', 'mental', \"''\", '.']",
         "['grupo', 'centro', 'personas', 'padecen', 'trastornos', 'mentales', 'comorbilidad', 'abuso', 'sustancias', 'mientras', 'demencia', 'discapacidad', 'intelectual', 'abuso', 'sustancias', 'sa', 'solos', 'quedaron', 'excluidos', 'ambito', 'analisis', '90', 'millones', 'euros', 'financiacion', 'comision', 'dispuso', 'tres', 'anos', 'iniciar', 'apoyar', 'desarrollo', 'proyectos', 'niveles', 'tratamiento', 'medico', 'mejora', 'servicios', 'proyectos', 'vivienda', 'mejoras', 'legislativas', 'organizativas', 'proponer', 'medidas', 'necesarias', 'elevar', 'forma', 'permanente', 'nivel', 'servicios', 'salud', 'mental']"
        ]
       ],
       "shape": {
        "columns": 4,
        "rows": 5
       }
      },
      "text/html": [
       "<div>\n",
       "<style scoped>\n",
       "    .dataframe tbody tr th:only-of-type {\n",
       "        vertical-align: middle;\n",
       "    }\n",
       "\n",
       "    .dataframe tbody tr th {\n",
       "        vertical-align: top;\n",
       "    }\n",
       "\n",
       "    .dataframe thead th {\n",
       "        text-align: right;\n",
       "    }\n",
       "</style>\n",
       "<table border=\"1\" class=\"dataframe\">\n",
       "  <thead>\n",
       "    <tr style=\"text-align: right;\">\n",
       "      <th></th>\n",
       "      <th>textos</th>\n",
       "      <th>labels</th>\n",
       "      <th>palabras</th>\n",
       "      <th>palabrasProces</th>\n",
       "    </tr>\n",
       "  </thead>\n",
       "  <tbody>\n",
       "    <tr>\n",
       "      <th>0</th>\n",
       "      <td>\"Aprendizaje\" y \"educación\" se consideran sinó...</td>\n",
       "      <td>4</td>\n",
       "      <td>[``, Aprendizaje, '', y, ``, educación, '', se...</td>\n",
       "      <td>[aprendizaje, educacion, consideran, sinonimos...</td>\n",
       "    </tr>\n",
       "    <tr>\n",
       "      <th>1</th>\n",
       "      <td>Para los niños más pequeños (bebés y niños peq...</td>\n",
       "      <td>4</td>\n",
       "      <td>[Para, los, niños, más, pequeños, (, bebés, y,...</td>\n",
       "      <td>[ninos, mas, pequenos, bebes, ninos, pequenos,...</td>\n",
       "    </tr>\n",
       "    <tr>\n",
       "      <th>2</th>\n",
       "      <td>Además, la formación de especialistas en medic...</td>\n",
       "      <td>3</td>\n",
       "      <td>[Además, ,, la, formación, de, especialistas, ...</td>\n",
       "      <td>[ademas, formacion, especialistas, medicina, g...</td>\n",
       "    </tr>\n",
       "    <tr>\n",
       "      <th>3</th>\n",
       "      <td>En los países de la OCDE se tiende a pasar de ...</td>\n",
       "      <td>4</td>\n",
       "      <td>[En, los, países, de, la, OCDE, se, tiende, a,...</td>\n",
       "      <td>[paises, ocde, tiende, pasar, cursos, obligato...</td>\n",
       "    </tr>\n",
       "    <tr>\n",
       "      <th>4</th>\n",
       "      <td>Este grupo se centró en las personas que padec...</td>\n",
       "      <td>3</td>\n",
       "      <td>[Este, grupo, se, centró, en, las, personas, q...</td>\n",
       "      <td>[grupo, centro, personas, padecen, trastornos,...</td>\n",
       "    </tr>\n",
       "  </tbody>\n",
       "</table>\n",
       "</div>"
      ],
      "text/plain": [
       "                                              textos  labels  \\\n",
       "0  \"Aprendizaje\" y \"educación\" se consideran sinó...       4   \n",
       "1  Para los niños más pequeños (bebés y niños peq...       4   \n",
       "2  Además, la formación de especialistas en medic...       3   \n",
       "3  En los países de la OCDE se tiende a pasar de ...       4   \n",
       "4  Este grupo se centró en las personas que padec...       3   \n",
       "\n",
       "                                            palabras  \\\n",
       "0  [``, Aprendizaje, '', y, ``, educación, '', se...   \n",
       "1  [Para, los, niños, más, pequeños, (, bebés, y,...   \n",
       "2  [Además, ,, la, formación, de, especialistas, ...   \n",
       "3  [En, los, países, de, la, OCDE, se, tiende, a,...   \n",
       "4  [Este, grupo, se, centró, en, las, personas, q...   \n",
       "\n",
       "                                      palabrasProces  \n",
       "0  [aprendizaje, educacion, consideran, sinonimos...  \n",
       "1  [ninos, mas, pequenos, bebes, ninos, pequenos,...  \n",
       "2  [ademas, formacion, especialistas, medicina, g...  \n",
       "3  [paises, ocde, tiende, pasar, cursos, obligato...  \n",
       "4  [grupo, centro, personas, padecen, trastornos,...  "
      ]
     },
     "execution_count": 75,
     "metadata": {},
     "output_type": "execute_result"
    }
   ],
   "source": [
    "df_textC['palabrasProces'] = df_textC['palabras'].apply(preprocessing)\n",
    "\n",
    "df_textC.head()"
   ]
  },
  {
   "cell_type": "markdown",
   "id": "c58ec1f1",
   "metadata": {},
   "source": [
    "### 3.2 Normalizacion"
   ]
  },
  {
   "cell_type": "code",
   "execution_count": 76,
   "id": "24c05056",
   "metadata": {},
   "outputs": [
    {
     "data": {
      "application/vnd.microsoft.datawrangler.viewer.v0+json": {
       "columns": [
        {
         "name": "index",
         "rawType": "int64",
         "type": "integer"
        },
        {
         "name": "textos",
         "rawType": "object",
         "type": "string"
        },
        {
         "name": "labels",
         "rawType": "int64",
         "type": "integer"
        },
        {
         "name": "palabras",
         "rawType": "object",
         "type": "unknown"
        },
        {
         "name": "palabrasProces",
         "rawType": "object",
         "type": "unknown"
        }
       ],
       "ref": "e0b9e8c8-bc31-46bb-af1c-04381439a10d",
       "rows": [
        [
         "0",
         "\"Aprendizaje\" y \"educación\" se consideran sinónimos de escolarización formal. Las organizaciones auxiliares, como las editoriales de educación, las juntas examinadoras y las organizaciones de formación de docentes, se consideran extensiones de los acuerdos establecidos por los gobiernos. Este marco de comprensión se ha vuelto cada vez más inadecuado.",
         "4",
         "['aprendizaj', 'educ', 'consider', 'sinon', 'escolariz', 'formal', 'organiz', 'auxiliar', 'editorial', 'educ', 'junt', 'examin', 'organiz', 'formacion', 'docent', 'consider', 'extension', 'acuerd', 'establec', 'gobi', 'marc', 'comprension', 'vuelt', 'cad', 'vez', 'mas', 'inadecu', 'aprendizaje', 'educacion', 'considerar', 'sinonimo', 'escolarizacion', 'formal', 'organización', 'auxiliar', 'editorial', 'educacion', 'junto', 'examinadora', 'organización', 'formacion', 'docente', 'considerar', 'extensión', 'acuerdo', 'establecido', 'gobierno', 'marco', 'comprension', 'vuelto', 'cada', 'vez', 'mas', 'inadecuado']",
         "['aprendizaje', 'educacion', 'consideran', 'sinonimos', 'escolarizacion', 'formal', 'organizaciones', 'auxiliares', 'editoriales', 'educacion', 'juntas', 'examinadoras', 'organizaciones', 'formacion', 'docentes', 'consideran', 'extensiones', 'acuerdos', 'establecidos', 'gobiernos', 'marco', 'comprension', 'vuelto', 'cada', 'vez', 'mas', 'inadecuado']"
        ],
        [
         "1",
         "Para los niños más pequeños (bebés y niños pequeños), la capacitación especializada y práctica parece estar más fuertemente asociada con la calidad pedagógica y los resultados cognitivos y sociales. Los educadores de la primera infancia se encuentran con entornos sociales cada vez más complejos y se encuentran con una multiplicidad de antecedentes y experiencias familiares. Estos factores crean imperativos para adoptar nuevas pedagogías y prácticas organizacionales para acomodar este pluralismo (Elliott, 2006).",
         "4",
         "['nin', 'mas', 'pequen', 'beb', 'nin', 'pequen', 'capacit', 'especializ', 'practic', 'parec', 'mas', 'fuertement', 'asoci', 'calid', 'pedagog', 'result', 'cognit', 'social', 'educ', 'primer', 'infanci', 'encuentr', 'entorn', 'social', 'cad', 'vez', 'mas', 'complej', 'encuentr', 'multipl', 'antecedent', 'experient', 'familiar', 'factor', 'cre', 'imper', 'adopt', 'nuev', 'pedagogi', 'practic', 'organizacional', 'acomod', 'plural', 'elliott', '2006', 'nino', 'mas', 'pequeno', 'beb', 'ninos', 'pequenos', 'capacitacion', 'especializado', 'practica', 'parecer', 'mas', 'fuertemente', 'asociado', 'calidad', 'pedagogico', 'resultado', 'cognitivo', 'social', 'educador', 'primero', 'infancia', 'encontrar', 'entorno', 'social', 'cada', 'vez', 'mas', 'complejo', 'encontrar', 'multiplicidad', 'antecedente', 'experiencia', 'familiar', 'factor', 'crear', 'imperativo', 'adoptar', 'nuevo', 'pedagogia', 'practica', 'organizacional', 'acomodar', 'pluralismo', 'elliott', '2006']",
         "['ninos', 'mas', 'pequenos', 'bebes', 'ninos', 'pequenos', 'capacitacion', 'especializada', 'practica', 'parece', 'mas', 'fuertemente', 'asociada', 'calidad', 'pedagogica', 'resultados', 'cognitivos', 'sociales', 'educadores', 'primera', 'infancia', 'encuentran', 'entornos', 'sociales', 'cada', 'vez', 'mas', 'complejos', 'encuentran', 'multiplicidad', 'antecedentes', 'experiencias', 'familiares', 'factores', 'crean', 'imperativos', 'adoptar', 'nuevas', 'pedagogias', 'practicas', 'organizacionales', 'acomodar', 'pluralismo', 'elliott', '2006']"
        ],
        [
         "2",
         "Además, la formación de especialistas en medicina general también incluye tareas que requieren un conocimiento más profundo de problemas comunes de salud pública, incluida la salud mental (Cuestionario de salud mental de la OCDE, 2013). Dado que no hay control en la atención primaria para limitar el acceso a los servicios de salud (mental) especializados, muchos pacientes que necesitan tratamiento (para trastornos mentales graves en particular) pueden buscar atención de nivel especializado directamente. Los servicios de especialistas en psiquiatría se brindan principalmente en las salas ambulatorias de psiquiatría ubicadas en los hospitales generales.",
         "3",
         "['adem', 'formacion', 'especial', 'medicin', 'general', 'tambi', 'inclu', 'tar', 'requier', 'conoc', 'mas', 'profund', 'problem', 'comun', 'salud', 'public', 'inclu', 'salud', 'mental', 'cuestionari', 'salud', 'mental', 'ocde', '2013', 'dad', 'control', 'atencion', 'primari', 'limit', 'acces', 'servici', 'salud', 'mental', 'especializ', 'pacient', 'necesit', 'tratamient', 'trastorn', 'mental', 'grav', 'particul', 'pued', 'busc', 'atencion', 'nivel', 'especializ', 'direct', 'servici', 'especial', 'psiquiatri', 'brind', 'principal', 'sal', 'ambulatori', 'psiquiatri', 'ubic', 'hospital', 'general', 'adema', 'formacion', 'especialista', 'medicina', 'general', 'tambien', 'incluir', 'tarea', 'requerir', 'conocimiento', 'mas', 'profundo', 'problema', 'común', 'salud', 'publicar', 'incluido', 'salud', 'mental', 'cuestionario', 'salud', 'mental', 'ocde', '2013', 'dado', 'control', 'atencion', 'primario', 'limitar', 'acceso', 'servicio', 'salud', 'mental', 'especializado', 'paciente', 'necesitar', 'tratamiento', 'trastorno', 'mental', 'grave', 'particular', 'poder', 'buscar', 'atencion', 'nivel', 'especializado', 'directamente', 'servicio', 'especialista', 'psiquiatrio', 'brindar', 'principalmente', 'sala', 'ambulatoria', 'psiquiatria', 'ubicado', 'hospital', 'general']",
         "['ademas', 'formacion', 'especialistas', 'medicina', 'general', 'tambien', 'incluye', 'tareas', 'requieren', 'conocimiento', 'mas', 'profundo', 'problemas', 'comunes', 'salud', 'publica', 'incluida', 'salud', 'mental', 'cuestionario', 'salud', 'mental', 'ocde', '2013', 'dado', 'control', 'atencion', 'primaria', 'limitar', 'acceso', 'servicios', 'salud', 'mental', 'especializados', 'pacientes', 'necesitan', 'tratamiento', 'trastornos', 'mentales', 'graves', 'particular', 'pueden', 'buscar', 'atencion', 'nivel', 'especializado', 'directamente', 'servicios', 'especialistas', 'psiquiatria', 'brindan', 'principalmente', 'salas', 'ambulatorias', 'psiquiatria', 'ubicadas', 'hospitales', 'generales']"
        ],
        [
         "3",
         "En los países de la OCDE se tiende a pasar de los cursos obligatorios a los optativos, abiertos a estudiantes de distintas facultades y escuelas. Este planteamiento facilita la formación de equipos de estudiantes con distintas formaciones e intereses. El trabajo en equipos interdisciplinares permite a los individuos concentrarse en lo que mejor saben y les gusta y, al mismo tiempo, familiarizarse con nuevos conocimientos que pueden asociarse a una nueva forma de resolver un problema o crear un nuevo producto o servicio. No está claro hasta qué punto estos cursos utilizan métodos pedagógicos creativos y se adaptan a las necesidades de los estudiantes de grado, postgrado y licenciatura.",
         "4",
         "['pais', 'ocde', 'tiend', 'pas', 'curs', 'obligatori', 'optat', 'abiert', 'estudi', 'distint', 'facultad', 'escuel', 'planteamient', 'facilit', 'formacion', 'equip', 'estudi', 'distint', 'formacion', 'interes', 'trabaj', 'equip', 'interdisciplinar', 'permit', 'individu', 'concentr', 'mejor', 'sab', 'gust', 'mism', 'tiemp', 'familiariz', 'nuev', 'conoc', 'pued', 'asoci', 'nuev', 'form', 'resolv', 'problem', 'cre', 'nuev', 'product', 'servici', 'clar', 'punt', 'curs', 'utiliz', 'metod', 'pedagog', 'creativ', 'adapt', 'neces', 'estudi', 'grad', 'postgr', 'licenciatur', 'país', 'ocde', 'tender', 'pasar', 'curso', 'obligatorio', 'optativo', 'abierto', 'estudiante', 'distinto', 'facultad', 'escuela', 'planteamiento', 'facilitar', 'formacion', 'equipo', 'estudiant', 'distinto', 'formación', 'interés', 'trabajo', 'equipo', 'interdisciplinar', 'permitir', 'individuo', 'concentrar él', 'mejor', 'saber', 'gustar', 'mismo', 'tiempo', 'familiarizar él', 'nuevo', 'conocimiento', 'poder', 'asociar él', 'nuevo', 'forma', 'resolver', 'problema', 'crear', 'nuevo', 'producto', 'servicio', 'claro', 'punto', 'curso', 'utilizar', 'metodo', 'pedagogico', 'creativo', 'adaptar', 'necesidad', 'estudiant', 'grado', 'postgrado', 'licenciatura']",
         "['paises', 'ocde', 'tiende', 'pasar', 'cursos', 'obligatorios', 'optativos', 'abiertos', 'estudiantes', 'distintas', 'facultades', 'escuelas', 'planteamiento', 'facilita', 'formacion', 'equipos', 'estudiantes', 'distintas', 'formaciones', 'intereses', 'trabajo', 'equipos', 'interdisciplinares', 'permite', 'individuos', 'concentrarse', 'mejor', 'saben', 'gusta', 'mismo', 'tiempo', 'familiarizarse', 'nuevos', 'conocimientos', 'pueden', 'asociarse', 'nueva', 'forma', 'resolver', 'problema', 'crear', 'nuevo', 'producto', 'servicio', 'claro', 'punto', 'cursos', 'utilizan', 'metodos', 'pedagogicos', 'creativos', 'adaptan', 'necesidades', 'estudiantes', 'grado', 'postgrado', 'licenciatura']"
        ],
        [
         "4",
         "Este grupo se centró en las personas que padecen trastornos mentales con comorbilidad de abuso de sustancias (mientras que la demencia, la discapacidad intelectual y el abuso de sustancias por sà solos quedaron excluidos del ámbito de análisis). Con 90 millones de euros de financiación, la comisión dispuso de tres años para \"iniciar y apoyar el desarrollo de proyectos a todos los niveles (tratamiento médico, mejora de los servicios, proyectos de vivienda, mejoras legislativas y organizativas) y proponer las medidas necesarias para elevar de forma permanente el nivel de los servicios de salud mental\". ",
         "3",
         "['grup', 'centr', 'person', 'padec', 'trastorn', 'mental', 'comorbil', 'abus', 'sustanci', 'mientr', 'demenci', 'discapac', 'intelectual', 'abus', 'sustanci', 'sa', 'sol', 'qued', 'exclu', 'ambit', 'analisis', '90', 'millon', 'eur', 'financi', 'comision', 'dispus', 'tres', 'anos', 'inici', 'apoy', 'desarroll', 'proyect', 'nivel', 'tratamient', 'medic', 'mejor', 'servici', 'proyect', 'viviend', 'mejor', 'legisl', 'organiz', 'propon', 'med', 'necesari', 'elev', 'form', 'permanent', 'nivel', 'servici', 'salud', 'mental', 'grupo', 'centro', 'persona', 'padecer', 'trastorno', 'mental', 'comorbilidad', 'abuso', 'sustancia', 'mientras', 'demencia', 'discapacidad', 'intelectual', 'abuso', 'sustancia', 'sa', 'solo', 'quedar', 'excluido', 'ambito', 'analisis', '90', 'millón', 'euros', 'financiacion', 'comision', 'disponer', 'tres', 'ano', 'iniciar', 'apoyar', 'desarrollo', 'proyecto', 'nivel', 'tratamiento', 'medico', 'mejorar', 'servicio', 'proyecto', 'viviendar', 'mejora', 'legislativo', 'organizativo', 'proponer', 'medida', 'necesario', 'elevar', 'forma', 'permanente', 'nivel', 'servicio', 'salud', 'mental']",
         "['grupo', 'centro', 'personas', 'padecen', 'trastornos', 'mentales', 'comorbilidad', 'abuso', 'sustancias', 'mientras', 'demencia', 'discapacidad', 'intelectual', 'abuso', 'sustancias', 'sa', 'solos', 'quedaron', 'excluidos', 'ambito', 'analisis', '90', 'millones', 'euros', 'financiacion', 'comision', 'dispuso', 'tres', 'anos', 'iniciar', 'apoyar', 'desarrollo', 'proyectos', 'niveles', 'tratamiento', 'medico', 'mejora', 'servicios', 'proyectos', 'vivienda', 'mejoras', 'legislativas', 'organizativas', 'proponer', 'medidas', 'necesarias', 'elevar', 'forma', 'permanente', 'nivel', 'servicios', 'salud', 'mental']"
        ]
       ],
       "shape": {
        "columns": 4,
        "rows": 5
       }
      },
      "text/html": [
       "<div>\n",
       "<style scoped>\n",
       "    .dataframe tbody tr th:only-of-type {\n",
       "        vertical-align: middle;\n",
       "    }\n",
       "\n",
       "    .dataframe tbody tr th {\n",
       "        vertical-align: top;\n",
       "    }\n",
       "\n",
       "    .dataframe thead th {\n",
       "        text-align: right;\n",
       "    }\n",
       "</style>\n",
       "<table border=\"1\" class=\"dataframe\">\n",
       "  <thead>\n",
       "    <tr style=\"text-align: right;\">\n",
       "      <th></th>\n",
       "      <th>textos</th>\n",
       "      <th>labels</th>\n",
       "      <th>palabras</th>\n",
       "      <th>palabrasProces</th>\n",
       "    </tr>\n",
       "  </thead>\n",
       "  <tbody>\n",
       "    <tr>\n",
       "      <th>0</th>\n",
       "      <td>\"Aprendizaje\" y \"educación\" se consideran sinó...</td>\n",
       "      <td>4</td>\n",
       "      <td>[aprendizaj, educ, consider, sinon, escolariz,...</td>\n",
       "      <td>[aprendizaje, educacion, consideran, sinonimos...</td>\n",
       "    </tr>\n",
       "    <tr>\n",
       "      <th>1</th>\n",
       "      <td>Para los niños más pequeños (bebés y niños peq...</td>\n",
       "      <td>4</td>\n",
       "      <td>[nin, mas, pequen, beb, nin, pequen, capacit, ...</td>\n",
       "      <td>[ninos, mas, pequenos, bebes, ninos, pequenos,...</td>\n",
       "    </tr>\n",
       "    <tr>\n",
       "      <th>2</th>\n",
       "      <td>Además, la formación de especialistas en medic...</td>\n",
       "      <td>3</td>\n",
       "      <td>[adem, formacion, especial, medicin, general, ...</td>\n",
       "      <td>[ademas, formacion, especialistas, medicina, g...</td>\n",
       "    </tr>\n",
       "    <tr>\n",
       "      <th>3</th>\n",
       "      <td>En los países de la OCDE se tiende a pasar de ...</td>\n",
       "      <td>4</td>\n",
       "      <td>[pais, ocde, tiend, pas, curs, obligatori, opt...</td>\n",
       "      <td>[paises, ocde, tiende, pasar, cursos, obligato...</td>\n",
       "    </tr>\n",
       "    <tr>\n",
       "      <th>4</th>\n",
       "      <td>Este grupo se centró en las personas que padec...</td>\n",
       "      <td>3</td>\n",
       "      <td>[grup, centr, person, padec, trastorn, mental,...</td>\n",
       "      <td>[grupo, centro, personas, padecen, trastornos,...</td>\n",
       "    </tr>\n",
       "  </tbody>\n",
       "</table>\n",
       "</div>"
      ],
      "text/plain": [
       "                                              textos  labels  \\\n",
       "0  \"Aprendizaje\" y \"educación\" se consideran sinó...       4   \n",
       "1  Para los niños más pequeños (bebés y niños peq...       4   \n",
       "2  Además, la formación de especialistas en medic...       3   \n",
       "3  En los países de la OCDE se tiende a pasar de ...       4   \n",
       "4  Este grupo se centró en las personas que padec...       3   \n",
       "\n",
       "                                            palabras  \\\n",
       "0  [aprendizaj, educ, consider, sinon, escolariz,...   \n",
       "1  [nin, mas, pequen, beb, nin, pequen, capacit, ...   \n",
       "2  [adem, formacion, especial, medicin, general, ...   \n",
       "3  [pais, ocde, tiend, pas, curs, obligatori, opt...   \n",
       "4  [grup, centr, person, padec, trastorn, mental,...   \n",
       "\n",
       "                                      palabrasProces  \n",
       "0  [aprendizaje, educacion, consideran, sinonimos...  \n",
       "1  [ninos, mas, pequenos, bebes, ninos, pequenos,...  \n",
       "2  [ademas, formacion, especialistas, medicina, g...  \n",
       "3  [paises, ocde, tiende, pasar, cursos, obligato...  \n",
       "4  [grupo, centro, personas, padecen, trastornos,...  "
      ]
     },
     "execution_count": 76,
     "metadata": {},
     "output_type": "execute_result"
    }
   ],
   "source": [
    "import spacy\n",
    "# Stemmer para palabras en español\n",
    "stemmer = SnowballStemmer(\"spanish\")\n",
    "\n",
    "# Load spaCy Spanish model\n",
    "nlp = spacy.load(\"es_core_news_sm\")\n",
    "\n",
    "\n",
    "\n",
    "def stem_words(words):\n",
    "    \"\"\"Stem words in list of tokenized words (Spanish).\"\"\"\n",
    "    return [stemmer.stem(w) for w in words]\n",
    "\n",
    "def lemmatize_verbs(words):\n",
    "    \"\"\"Lemmatize words in list of tokenized words (Spanish).\"\"\"\n",
    "    doc = nlp(\" \".join(words))\n",
    "    # Return lemmas, focusing on verbs (if you want *all words*, remove the if check)\n",
    "    return [token.lemma_ for token in doc]\n",
    "\n",
    "def stem_and_lemmatize(words):\n",
    "    \"\"\"Combine stems and lemmas (verbs) if needed.\"\"\"\n",
    "    stems = stem_words(words)\n",
    "    lemmas = lemmatize_verbs(words)\n",
    "    return stems + lemmas\n",
    "\n",
    "df_textC['palabras']=df_textC['palabrasProces'].apply(stem_and_lemmatize)\n",
    "\n",
    "df_textC.head()"
   ]
  },
  {
   "cell_type": "code",
   "execution_count": 77,
   "id": "6ccd28dd",
   "metadata": {},
   "outputs": [
    {
     "data": {
      "application/vnd.microsoft.datawrangler.viewer.v0+json": {
       "columns": [
        {
         "name": "index",
         "rawType": "int64",
         "type": "integer"
        },
        {
         "name": "textos",
         "rawType": "object",
         "type": "string"
        },
        {
         "name": "labels",
         "rawType": "int64",
         "type": "integer"
        },
        {
         "name": "palabras",
         "rawType": "object",
         "type": "unknown"
        },
        {
         "name": "palabrasProces",
         "rawType": "object",
         "type": "unknown"
        }
       ],
       "ref": "d473c2b5-daa0-41ec-b43b-91eee1734ebb",
       "rows": [
        [
         "291",
         "Los maestros de primaria se especializan en educación y pueden especializarse en la enseñanza de una o varias materias en sus estudios de materias secundarias. Los maestros de grado superior se especializan en materias específicas y realizan sus estudios pedagógicos durante un programa de cinco años o como un módulo separado después de graduarse. Con un fuerte contenido teórico y práctico, la formación docente se basa en la investigación, con énfasis en el desarrollo del conocimiento pedagógico.",
         "4",
         "['maestr', 'primari', 'especializ', 'educ', 'pued', 'especializ', 'ensen', 'vari', 'materi', 'estudi', 'materi', 'secundari', 'maestr', 'grad', 'superior', 'especializ', 'materi', 'especif', 'realiz', 'estudi', 'pedagog', 'program', 'cinc', 'anos', 'modul', 'separ', 'despu', 'gradu', 'fuert', 'conten', 'teoric', 'practic', 'formacion', 'docent', 'bas', 'investig', 'enfasis', 'desarroll', 'conoc', 'pedagog', 'maestros', 'primario', 'especializar', 'educacion', 'poder', 'especializar él', 'ensenanza', 'varios', 'materia', 'estudio', 'materia', 'secundario', 'maestros', 'grado', 'superior', 'especializar', 'materia', 'especifico', 'realizar', 'estudio', 'pedagogico', 'programa', 'cinco', 'ano', 'modulo', 'separado', 'despues', 'graduar él', 'fuerte', 'contenido', 'teorico', 'practico', 'formacion', 'docente', 'bás', 'investigacion', 'enfasis', 'desarrollo', 'conocimiento', 'pedagogico']",
         "['maestros', 'primaria', 'especializan', 'educacion', 'pueden', 'especializarse', 'ensenanza', 'varias', 'materias', 'estudios', 'materias', 'secundarias', 'maestros', 'grado', 'superior', 'especializan', 'materias', 'especificas', 'realizan', 'estudios', 'pedagogicos', 'programa', 'cinco', 'anos', 'modulo', 'separado', 'despues', 'graduarse', 'fuerte', 'contenido', 'teorico', 'practico', 'formacion', 'docente', 'basa', 'investigacion', 'enfasis', 'desarrollo', 'conocimiento', 'pedagogico']"
        ],
        [
         "2412",
         "En cambio, los sistemas educativos que contienen una gran proporción de escuelas selectivas tienden a tener una mayor variación en el rendimiento entre las escuelas (OCDE 2010). Sin embargo, es razonablemente seguro suponer que en países como Serbia, que siguen rezagados en la matriculación terciaria, el sistema terciario podría estar bajo presión para expandirse y absorber (un número creciente) de candidatos\". Las tendencias al alza en la matriculación terciaria indicarían lo mismo (indicadores AE.6).",
         "4",
         "['cambi', 'sistem', 'educ', 'contien', 'gran', 'proporcion', 'escuel', 'select', 'tiend', 'ten', 'mayor', 'variacion', 'rendimient', 'escuel', 'ocde', '2010', 'embarg', 'razon', 'segur', 'supon', 'pais', 'serbi', 'sig', 'rezag', 'matricul', 'terciari', 'sistem', 'terciari', 'podri', 'baj', 'presion', 'expand', 'absorb', 'numer', 'crecient', 'candidat', 'tendenci', 'alza', 'matricul', 'terciari', 'indicari', 'mism', 'indic', 'ae6', 'cambio', 'sistema', 'educativo', 'contener', 'gran', 'proporcion', 'escuela', 'selectivo', 'tender', 'tener', 'mayor', 'variacion', 'rendimiento', 'escuela', 'ocde', '2010', 'embargo', 'razonablemente', 'seguro', 'suponer', 'país', 'serbio', 'seguir', 'rezagado', 'matriculacion', 'terciaria', 'sistema', 'terciario', 'podria', 'bajo', 'presion', 'expandir él', 'absorber', 'numero', 'creciente', 'candidato', 'tendencia', 'alza', 'matriculacion', 'terciaria', 'indicariar', 'mismo', 'indicador', 'ae6']",
         "['cambio', 'sistemas', 'educativos', 'contienen', 'gran', 'proporcion', 'escuelas', 'selectivas', 'tienden', 'tener', 'mayor', 'variacion', 'rendimiento', 'escuelas', 'ocde', '2010', 'embargo', 'razonablemente', 'seguro', 'suponer', 'paises', 'serbia', 'siguen', 'rezagados', 'matriculacion', 'terciaria', 'sistema', 'terciario', 'podria', 'bajo', 'presion', 'expandirse', 'absorber', 'numero', 'creciente', 'candidatos', 'tendencias', 'alza', 'matriculacion', 'terciaria', 'indicarian', 'mismo', 'indicadores', 'ae6']"
        ],
        [
         "347",
         "Sin embargo, debido a una situación presupuestaria favorable en gran medida y a un conjunto de reformas e iniciativas, no se han identificado riesgos importantes para la sostenibilidad financiera de Dinamarca debido principalmente a una situación presupuestaria favorable (Comisión Europea y Comité de Política Económica, 201S). El número comparativamente bajo de camas de hospital de Dinamarca y la duración media de la estancia no se han traducido en una reducción perceptible de la calidad, lo que sugiere que, en general, el sistema hospitalario está funcionando de manera más eficiente. Sin embargo, la sostenibilidad actual de esta reducción anual de fondos está comenzando a ser cuestionada.",
         "3",
         "['embarg', 'deb', 'situacion', 'presupuestari', 'favor', 'gran', 'med', 'conjunt', 'reform', 'inici', 'identific', 'riesg', 'import', 'sostenibil', 'financ', 'dinamarc', 'deb', 'principal', 'situacion', 'presupuestari', 'favor', 'comision', 'europe', 'comit', 'polit', 'econom', '201s', 'numer', 'compar', 'baj', 'cam', 'hospital', 'dinamarc', 'duracion', 'medi', 'estanci', 'traduc', 'reduccion', 'percept', 'calid', 'sugier', 'general', 'sistem', 'hospitalari', 'funcion', 'maner', 'mas', 'eficient', 'embarg', 'sostenibil', 'actual', 'reduccion', 'anual', 'fond', 'comenz', 'ser', 'cuestion', 'embargo', 'debido', 'situacion', 'presupuestaria', 'favorable', 'gran', 'medida', 'conjunto', 'reforma', 'iniciativo', 'identificado', 'riesgo', 'importante', 'sostenibilidad', 'financiero', 'dinamarco', 'debido', 'principalmente', 'situacion', 'presupuestaria', 'favorable', 'comision', 'europeo', 'comite', 'politico', 'economico', '201s', 'numero', 'comparativamente', 'bajo', 'cama', 'hospital', 'dinamarca', 'duracion', 'medio', 'estancia', 'traducido', 'reduccion', 'perceptible', 'calidad', 'sugerir', 'general', 'sistema', 'hospitalario', 'funcionar', 'manera', 'mas', 'eficiente', 'embargo', 'sostenibilidad', 'actual', 'reduccion', 'anual', 'fondo', 'comenzar', 'ser', 'cuestionar']",
         "['embargo', 'debido', 'situacion', 'presupuestaria', 'favorable', 'gran', 'medida', 'conjunto', 'reformas', 'iniciativas', 'identificado', 'riesgos', 'importantes', 'sostenibilidad', 'financiera', 'dinamarca', 'debido', 'principalmente', 'situacion', 'presupuestaria', 'favorable', 'comision', 'europea', 'comite', 'politica', 'economica', '201s', 'numero', 'comparativamente', 'bajo', 'camas', 'hospital', 'dinamarca', 'duracion', 'media', 'estancia', 'traducido', 'reduccion', 'perceptible', 'calidad', 'sugiere', 'general', 'sistema', 'hospitalario', 'funcionando', 'manera', 'mas', 'eficiente', 'embargo', 'sostenibilidad', 'actual', 'reduccion', 'anual', 'fondos', 'comenzando', 'ser', 'cuestionada']"
        ],
        [
         "2153",
         "En el caso de los alumnos procedentes de entornos desfavorecidos de Australia, Canadá y Nueva Zelanda, esta penalización del rendimiento fue superior a la media de la OCDE. Los estudiantes desfavorecidos de Australia, Canadá y Nueva Zelanda también tenían más probabilidades de llegar tarde a la escuela que los estudiantes desfavorecidos de otros países. En Nueva Zelanda, más de uno de cada dos alumnos desfavorecidos socioeconómicamente declaró haber llegado tarde al colegio al menos una vez en las dos semanas anteriores a la prueba PISA. En algunos países, los estudiantes desfavorecidos pueden carecer de medios de transporte privados para ir a la escuela y tener que utilizar el transporte público o ser responsables de llegar por sí mismos a la escuela, incluso a una edad temprana.",
         "4",
         "['cas', 'alumn', 'procedent', 'entorn', 'desfavorec', 'australi', 'can', 'nuev', 'zeland', 'penaliz', 'rendimient', 'superior', 'medi', 'ocde', 'estudi', 'desfavorec', 'australi', 'can', 'nuev', 'zeland', 'tambi', 'teni', 'mas', 'probabil', 'lleg', 'tard', 'escuel', 'estudi', 'desfavorec', 'pais', 'nuev', 'zeland', 'mas', 'cad', 'dos', 'alumn', 'desfavorec', 'socioeconom', 'declar', 'hab', 'lleg', 'tard', 'colegi', 'men', 'vez', 'dos', 'seman', 'anterior', 'prueb', 'pis', 'pais', 'estudi', 'desfavorec', 'pued', 'carec', 'medi', 'transport', 'priv', 'ir', 'escuel', 'ten', 'utiliz', 'transport', 'public', 'ser', 'respons', 'lleg', 'si', 'mism', 'escuel', 'inclus', 'edad', 'tempran', 'caso', 'alumno', 'procedente', 'entorno', 'desfavorecido', 'australia', 'canado', 'nuevo', 'zelanda', 'penalizacion', 'rendimiento', 'superior', 'medio', 'ocde', 'estudiantes', 'desfavorecido', 'australia', 'canado', 'nuevo', 'zelanda', 'tambien', 'teniar', 'mas', 'probabilidad', 'llegar', 'tarde', 'escuela', 'estudiante', 'desfavorecido', 'país', 'nuevo', 'zelanda', 'mas', 'cada', 'dos', 'alumno', 'desfavorecido', 'socioeconomicamente', 'declaro', 'haber', 'llegar', 'tarde', 'colegio', 'menos', 'vez', 'dos', 'semana', 'anterior', 'prueba', 'pisa', 'país', 'estudiante', 'desfavorecido', 'poder', 'carecer', 'medio', 'transporte', 'privado', 'ir', 'escuela', 'tener', 'utilizar', 'transporte', 'publico', 'ser', 'responsable', 'llegar', 'si', 'mismo', 'escuela', 'incluso', 'edad', 'temprano']",
         "['caso', 'alumnos', 'procedentes', 'entornos', 'desfavorecidos', 'australia', 'canada', 'nueva', 'zelanda', 'penalizacion', 'rendimiento', 'superior', 'media', 'ocde', 'estudiantes', 'desfavorecidos', 'australia', 'canada', 'nueva', 'zelanda', 'tambien', 'tenian', 'mas', 'probabilidades', 'llegar', 'tarde', 'escuela', 'estudiantes', 'desfavorecidos', 'paises', 'nueva', 'zelanda', 'mas', 'cada', 'dos', 'alumnos', 'desfavorecidos', 'socioeconomicamente', 'declaro', 'haber', 'llegado', 'tarde', 'colegio', 'menos', 'vez', 'dos', 'semanas', 'anteriores', 'prueba', 'pisa', 'paises', 'estudiantes', 'desfavorecidos', 'pueden', 'carecer', 'medios', 'transporte', 'privados', 'ir', 'escuela', 'tener', 'utilizar', 'transporte', 'publico', 'ser', 'responsables', 'llegar', 'si', 'mismos', 'escuela', 'incluso', 'edad', 'temprana']"
        ],
        [
         "709",
         "La densidad de camas también es marcadamente baja, con 1,6 camas por 1 000 habitantes en 2013, en comparación con 4,8 camas por 1 000 en toda la OCDE: nuevamente, la más baja entre los países de la OCDE. Aunque el gasto total per cápita ahora es bastante similar para las personas con y sin seguridad social (a MXN 3 429 per cápita para las personas sin seguridad social en 2013, en comparación con 3 505 para el IMSS y 3 945 para los afiliados al ISSSTE), las diferencias en los derechos persisten, involucrando algunas enfermedades comunes y devastadoras. Los infartos de miocardio en mayores de 60 años, los accidentes cerebrovasculares, la diálisis tras insuficiencia renal, la esclerosis múltiple y el cáncer de pulmón, por ejemplo, no están cubiertos por el SP. Algunas diferencias en el acceso también son evidentes.",
         "3",
         "['densid', 'cam', 'tambi', 'marcad', 'baj', '16', 'cam', '1', '000', 'habit', '2013', 'compar', '48', 'cam', '1', '000', 'tod', 'ocde', 'nuev', 'mas', 'baj', 'pais', 'ocde', 'aunqu', 'gast', 'total', 'per', 'capit', 'ahor', 'bastant', 'simil', 'person', 'segur', 'social', 'mxn', '3', '429', 'per', 'capit', 'person', 'segur', 'social', '2013', 'compar', '3', '505', 'imss', '3', '945', 'afili', 'issste', 'diferent', 'derech', 'persist', 'involucr', 'enfermedad', 'comun', 'devast', 'infart', 'miocardi', 'mayor', '60', 'anos', 'accident', 'cerebrovascular', 'dialisis', 'tras', 'insuficient', 'renal', 'esclerosis', 'multipl', 'canc', 'pulmon', 'ejempl', 'estan', 'cubiert', 'sp', 'diferent', 'acces', 'tambi', 'evident', 'densidad', 'cama', 'tambien', 'marcadamente', 'bajar', '16', 'cama', '1', '000', 'habitante', '2013', 'comparacion', '48', 'cama', '1', '000', 'todo', 'ocde', 'nuevamente', 'mas', 'bajo', 'país', 'ocde', 'aunque', 'gasto', 'total', 'per', 'capita', 'ahora', 'bastante', 'similar', 'persona', 'seguridad', 'social', 'mxn', '3', '429', 'per', 'capito', 'persona', 'seguridad', 'social', '2013', 'comparacion', '3', '505', 'imss', '3', '945', 'afiliado', 'issstir', 'diferencia', 'derechos', 'persistir', 'involucrar', 'enfermedad', 'común', 'devastador', 'infarto', 'miocardio', 'mayor', '60', 'ano', 'accidente', 'cerebrovascular', 'dialisi', 'tras', 'insuficiencia', 'renal', 'esclerosis', 'multiple', 'cancer', 'pulmon', 'ejemplo', 'estan', 'cubierto', 'sp', 'diferencia', 'acceso', 'tambien', 'evidente']",
         "['densidad', 'camas', 'tambien', 'marcadamente', 'baja', '16', 'camas', '1', '000', 'habitantes', '2013', 'comparacion', '48', 'camas', '1', '000', 'toda', 'ocde', 'nuevamente', 'mas', 'baja', 'paises', 'ocde', 'aunque', 'gasto', 'total', 'per', 'capita', 'ahora', 'bastante', 'similar', 'personas', 'seguridad', 'social', 'mxn', '3', '429', 'per', 'capita', 'personas', 'seguridad', 'social', '2013', 'comparacion', '3', '505', 'imss', '3', '945', 'afiliados', 'issste', 'diferencias', 'derechos', 'persisten', 'involucrando', 'enfermedades', 'comunes', 'devastadoras', 'infartos', 'miocardio', 'mayores', '60', 'anos', 'accidentes', 'cerebrovasculares', 'dialisis', 'tras', 'insuficiencia', 'renal', 'esclerosis', 'multiple', 'cancer', 'pulmon', 'ejemplo', 'estan', 'cubiertos', 'sp', 'diferencias', 'acceso', 'tambien', 'evidentes']"
        ],
        [
         "1829",
         "Los subsidios a la vivienda de los gobiernos regionales representaron la mayor parte del gasto en acceso a los servicios básicos. Las proyecciones del gasto en protección social del Capítulo 3 de este estudio incluyen escenarios en los que la ayuda humanitaria se incluye en el gasto total en protección social, así como un escenario en el que se excluye. El gasto del gobierno federal aumentó a la tasa más rápida entre estas cuatro fuentes entre 2012/13 y 2015/16, con un crecimiento promedio anual del 24 %.",
         "1",
         "['subsidi', 'viviend', 'gobi', 'regional', 'represent', 'mayor', 'part', 'gast', 'acces', 'servici', 'basic', 'proyeccion', 'gast', 'proteccion', 'social', 'capitul', '3', 'estudi', 'inclu', 'escenari', 'ayud', 'humanitari', 'inclu', 'gast', 'total', 'proteccion', 'social', 'asi', 'escenari', 'exclu', 'gast', 'gobiern', 'federal', 'aument', 'tas', 'mas', 'rap', 'cuatr', 'fuent', '201213', '201516', 'crecimient', 'promedi', 'anual', '24', 'subsidio', 'viviendo', 'gobierno', 'regional', 'representar', 'mayor', 'parte', 'gasto', 'acceso', 'servicio', 'basico', 'proyección', 'gasto', 'proteccion', 'social', 'capitulo', '3', 'estudio', 'incluir', 'escenario', 'ayuda', 'humanitario', 'incluir', 'gasto', 'total', 'proteccion', 'social', 'asi', 'escenario', 'excluir', 'gasto', 'gobierno', 'federal', 'aumento', 'tasa', 'mas', 'rapidar', 'cuatro', 'fuente', '201213', '201516', 'crecimiento', 'promedio', 'anual', '24']",
         "['subsidios', 'vivienda', 'gobiernos', 'regionales', 'representaron', 'mayor', 'parte', 'gasto', 'acceso', 'servicios', 'basicos', 'proyecciones', 'gasto', 'proteccion', 'social', 'capitulo', '3', 'estudio', 'incluyen', 'escenarios', 'ayuda', 'humanitaria', 'incluye', 'gasto', 'total', 'proteccion', 'social', 'asi', 'escenario', 'excluye', 'gasto', 'gobierno', 'federal', 'aumento', 'tasa', 'mas', 'rapida', 'cuatro', 'fuentes', '201213', '201516', 'crecimiento', 'promedio', 'anual', '24']"
        ],
        [
         "1667",
         "Este desafío ha sido reconocido por el MoES en su análisis y planificación de políticas. Las características de las escuelas, como la ubicación y el tamaño de la escuela, se tienen en cuenta para el cálculo de la canasta de estudiantes, por lo que las escuelas pequeñas en áreas rurales reciben una mayor financiación por alumno que sus contrapartes urbanas. Sin embargo, la desventaja socioeconómica per se no es un elemento en la metodología de la canasta de estudiantes, y la Revisión de Recursos Escolares de la OCDE para Lituania recomendó asignar pesos en la metodología de la canasta de estudiantes a los estudiantes con desventajas socioeconómicas (Shewbridge et al.,",
         "4",
         "['desafi', 'sid', 'reconoc', 'moes', 'analisis', 'planif', 'polit', 'caracterist', 'escuel', 'ubic', 'taman', 'escuel', 'cuent', 'calcul', 'canast', 'estudi', 'escuel', 'pequen', 'are', 'rural', 'recib', 'mayor', 'financi', 'alumn', 'contrapart', 'urban', 'embarg', 'desventaj', 'socioeconom', 'per', 'element', 'metodologi', 'canast', 'estudi', 'revision', 'recurs', 'escolar', 'ocde', 'lituani', 'recomend', 'asign', 'pes', 'metodologi', 'canast', 'estudi', 'estudi', 'desventaj', 'socioeconom', 'shewbridg', 'et', 'desafio', 'ser', 'reconocer', 'mo', 'analisis', 'planificacion', 'politica', 'caracteristica', 'escuela', 'ubicacion', 'tamano', 'escuela', 'contar', 'calculo', 'canasta', 'estudiante', 'escuelas', 'pequena', 'area', 'rural', 'recibir', 'mayor', 'financiacion', 'alumno', 'contrapart', 'urbano', 'embargo', 'desventaja', 'socioeconomico', 'per', 'elemento', 'metodologia', 'canasta', 'estudiante', 'revision', 'recurso', 'escolar', 'ocde', 'lituania', 'recomendo', 'asignar', 'pesos', 'metodologia', 'canasta', 'estudiante', 'estudiantes', 'desventaja', 'socioeconomica', 'shewbridge', 'et']",
         "['desafio', 'sido', 'reconocido', 'moes', 'analisis', 'planificacion', 'politicas', 'caracteristicas', 'escuelas', 'ubicacion', 'tamano', 'escuela', 'cuenta', 'calculo', 'canasta', 'estudiantes', 'escuelas', 'pequenas', 'areas', 'rurales', 'reciben', 'mayor', 'financiacion', 'alumno', 'contrapartes', 'urbanas', 'embargo', 'desventaja', 'socioeconomica', 'per', 'elemento', 'metodologia', 'canasta', 'estudiantes', 'revision', 'recursos', 'escolares', 'ocde', 'lituania', 'recomendo', 'asignar', 'pesos', 'metodologia', 'canasta', 'estudiantes', 'estudiantes', 'desventajas', 'socioeconomicas', 'shewbridge', 'et']"
        ],
        [
         "197",
         "Use un enfoque diferenciado para llegar a los estudiantes en diferentes etapas de su proceso de estudio. Utilice ejercicios de evaluación del desempeño, incluidas sesiones periódicas de retroalimentación con personas de la comunidad empresarial, ex alumnos empresarios y estudiantes, y realice un seguimiento y encuesta de ex alumnos con carreras empresariales. Construir y ampliar los vínculos entre la investigación y la enseñanza, por ejemplo, haciendo que los estudiantes de doctorado trabajen en temas de investigación relacionados con la educación empresarial. Reconocer que los cursos obligatorios pueden reducir el interés genuino en el espíritu empresarial.",
         "4",
         "['use', 'enfoqu', 'diferenci', 'lleg', 'estudi', 'diferent', 'etap', 'proces', 'estudi', 'utilic', 'ejercici', 'evalu', 'desempen', 'inclu', 'sesion', 'period', 'retroaliment', 'person', 'comun', 'empresarial', 'ex', 'alumn', 'empresari', 'estudi', 'realic', 'seguimient', 'encuest', 'ex', 'alumn', 'carrer', 'empresarial', 'constru', 'ampli', 'vincul', 'investig', 'ensen', 'ejempl', 'hac', 'estudi', 'doctor', 'trabaj', 'tem', 'investig', 'relacion', 'educ', 'empresarial', 'reconoc', 'curs', 'obligatori', 'pued', 'reduc', 'inter', 'genuin', 'espiritu', 'empresarial', 'usar', 'enfoque', 'diferenciado', 'llegar', 'estudiante', 'diferente', 'etapa', 'proceso', 'estudio', 'utilizar', 'ejercicio', 'evaluacion', 'desempeno', 'incluido', 'sesión', 'periodica', 'retroalimentacion', 'persona', 'comunidad', 'empresarial', 'ex', 'alumno', 'empresario', 'estudiant', 'realizar', 'seguimiento', 'encuesta', 'ex', 'alumno', 'carrera', 'empresarial', 'construir', 'ampliar', 'vinculo', 'investigacion', 'ensenanza', 'ejemplo', 'hacer', 'estudiante', 'doctorado', 'trabajar', 'tema', 'investigacion', 'relacionado', 'educacion', 'empresarial', 'reconocer', 'curso', 'obligatorio', 'poder', 'reducir', 'inter', 'genuino', 'espiritu', 'empresarial']",
         "['use', 'enfoque', 'diferenciado', 'llegar', 'estudiantes', 'diferentes', 'etapas', 'proceso', 'estudio', 'utilice', 'ejercicios', 'evaluacion', 'desempeno', 'incluidas', 'sesiones', 'periodicas', 'retroalimentacion', 'personas', 'comunidad', 'empresarial', 'ex', 'alumnos', 'empresarios', 'estudiantes', 'realice', 'seguimiento', 'encuesta', 'ex', 'alumnos', 'carreras', 'empresariales', 'construir', 'ampliar', 'vinculos', 'investigacion', 'ensenanza', 'ejemplo', 'haciendo', 'estudiantes', 'doctorado', 'trabajen', 'temas', 'investigacion', 'relacionados', 'educacion', 'empresarial', 'reconocer', 'cursos', 'obligatorios', 'pueden', 'reducir', 'interes', 'genuino', 'espiritu', 'empresarial']"
        ],
        [
         "1417",
         "Ofrecer más oportunidades de aprendizaje colaborativo informal dentro de las escuelas y a través de redes de compañeros será importante para apoyar el desarrollo profesional continuo. La actual falta de un proceso normalizado para abordar un resultado insatisfactorio en la evaluación periódica significa que los puntos débiles de la enseñanza pueden no abordarse. Rumanía debería establecer una respuesta justa y gradual al bajo rendimiento, que podría incluir la elaboración de un plan de mejora, evaluaciones adicionales y, en última instancia, el despido si el rendimiento no mejora.",
         "4",
         "['ofrec', 'mas', 'oportun', 'aprendizaj', 'colabor', 'informal', 'dentr', 'escuel', 'trav', 'red', 'companer', 'ser', 'import', 'apoy', 'desarroll', 'profesional', 'continu', 'actual', 'falt', 'proces', 'normaliz', 'abord', 'result', 'insatisfactori', 'evalu', 'period', 'signif', 'punt', 'debil', 'ensen', 'pued', 'abord', 'rumani', 'deberi', 'establec', 'respuest', 'just', 'gradual', 'baj', 'rendimient', 'podri', 'inclu', 'elabor', 'plan', 'mejor', 'evalu', 'adicional', 'ultim', 'instanci', 'desp', 'si', 'rendimient', 'mejor', 'ofrecer', 'mas', 'oportunidad', 'aprendizaje', 'colaborativo', 'informal', 'dentro', 'escuela', 'trav', 'red', 'companero', 'sero', 'importante', 'apoyar', 'desarrollo', 'profesional', 'continuo', 'actual', 'faltar', 'proceso', 'normalizado', 'abordar', 'resultado', 'insatisfactorio', 'evaluacion', 'periodico', 'significar', 'punto', 'debil', 'ensenanza', 'poder', 'abordar él', 'rumania', 'deberio', 'establecer', 'respuesta', 'justo', 'gradual', 'bajo', 'rendimiento', 'podrio', 'incluir', 'elaboracion', 'plan', 'mejorar', 'evaluación', 'adicional', 'ultimo', 'instancia', 'despido', 'si', 'rendimientir', 'mejorar']",
         "['ofrecer', 'mas', 'oportunidades', 'aprendizaje', 'colaborativo', 'informal', 'dentro', 'escuelas', 'traves', 'redes', 'companeros', 'sera', 'importante', 'apoyar', 'desarrollo', 'profesional', 'continuo', 'actual', 'falta', 'proceso', 'normalizado', 'abordar', 'resultado', 'insatisfactorio', 'evaluacion', 'periodica', 'significa', 'puntos', 'debiles', 'ensenanza', 'pueden', 'abordarse', 'rumania', 'deberia', 'establecer', 'respuesta', 'justa', 'gradual', 'bajo', 'rendimiento', 'podria', 'incluir', 'elaboracion', 'plan', 'mejora', 'evaluaciones', 'adicionales', 'ultima', 'instancia', 'despido', 'si', 'rendimiento', 'mejora']"
        ],
        [
         "2271",
         "Los hombres fuman relativamente mucho, y entre las mujeres árabes mayores la obesidad es una preocupación. Y, al menos según una encuesta de autoinforme, tanto los hombres como las mujeres árabes hacen mucho menos ejercicio físico en comparación con el resto de la población (Figura 2.14). Por ejemplo, el informe de la OCDE sobre la calidad de la atención médica llama la atención sobre la baja aceptación de las pruebas de detección del cáncer entre las mujeres árabes y judías ultraortodoxas (OCDE, 2012).",
         "3",
         "['hombr', 'fum', 'relat', 'mujer', 'arab', 'mayor', 'obes', 'preocup', 'men', 'segun', 'encuest', 'autoinform', 'hombr', 'mujer', 'arab', 'hac', 'men', 'ejercici', 'fisic', 'compar', 'rest', 'poblacion', 'figur', '214', 'ejempl', 'inform', 'ocde', 'calid', 'atencion', 'medic', 'llam', 'atencion', 'baj', 'acept', 'prueb', 'deteccion', 'canc', 'mujer', 'arab', 'judi', 'ultraortodox', 'ocde', '2012', 'hombre', 'fumar', 'relativamente', 'mujer', 'arabser', 'mayor', 'obesidad', 'preocupacion', 'menos', 'segun', 'encuesta', 'autoinforme', 'hombre', 'mujer', 'arab', 'hacer', 'menos', 'ejercicio', 'fisico', 'comparacion', 'resto', 'poblacion', 'figurar', '214', 'ejemplo', 'informe', 'ocde', 'calidad', 'atencion', 'medica', 'llama', 'atencion', 'bajo', 'aceptacion', 'pruebas', 'deteccion', 'cancer', 'mujer', 'arab', 'judias', 'ultraortodoxas', 'ocde', '2012']",
         "['hombres', 'fuman', 'relativamente', 'mujeres', 'arabes', 'mayores', 'obesidad', 'preocupacion', 'menos', 'segun', 'encuesta', 'autoinforme', 'hombres', 'mujeres', 'arabes', 'hacen', 'menos', 'ejercicio', 'fisico', 'comparacion', 'resto', 'poblacion', 'figura', '214', 'ejemplo', 'informe', 'ocde', 'calidad', 'atencion', 'medica', 'llama', 'atencion', 'baja', 'aceptacion', 'pruebas', 'deteccion', 'cancer', 'mujeres', 'arabes', 'judias', 'ultraortodoxas', 'ocde', '2012']"
        ],
        [
         "690",
         "Mientras tanto, el enfoque en los cambios puede ocultar diferencias importantes en los niveles: la tasa de pobreza más alta para los niños en familias numerosas se observó en Bulgaria (62%), donde prácticamente no hubo cambios entre 2008 y 2012 para ninguno de los dos subgrupos. . Los datos de 2011 se utilizan para Bélgica e Irlanda. Interrupción en la serie para Austria y el Reino Unido en 2012. Los hogares de inmigrantes se definen como aquellos con al menos un adulto nacido fuera de la UE.20 Los países con números de casos insuficientes de niños en hogares de inmigrantes están excluidos del análisis.21 En países como Islandia y Grecia, donde las tasas generales de pobreza infantil aumentaron sustancialmente durante la Gran Recesión, las tasas de pobreza aumentaron mucho más rápido para los niños en hogares de inmigrantes entre 2008 y 2012.",
         "1",
         "['mientr', 'enfoqu', 'cambi', 'pued', 'ocult', 'diferent', 'import', 'nivel', 'tas', 'pobrez', 'mas', 'alta', 'nin', 'famili', 'numer', 'observ', 'bulgari', '62', 'practic', 'cambi', '2008', '2012', 'ningun', 'dos', 'subgrup', 'dat', '2011', 'utiliz', 'belgic', 'irland', 'interrupcion', 'seri', 'austri', 'rein', 'unid', '2012', 'hogar', 'inmigr', 'defin', 'aquell', 'men', 'adult', 'nac', 'ue20', 'pais', 'numer', 'cas', 'insuficient', 'nin', 'hogar', 'inmigr', 'estan', 'exclu', 'analisis21', 'pais', 'islandi', 'greci', 'tas', 'general', 'pobrez', 'infantil', 'aument', 'sustancial', 'gran', 'recesion', 'tas', 'pobrez', 'aument', 'mas', 'rap', 'nin', 'hogar', 'inmigr', '2008', '2012', 'mientras', 'enfocar', 'cambio', 'poder', 'ocultar', 'diferencia', 'importante', 'nivel', 'tasar', 'pobreza', 'mas', 'alto', 'nino', 'familia', 'numeroso', 'observo', 'bulgario', '62', 'practicamente', 'cambio', '2008', '2012', 'ninguno', 'dos', 'subgrupo', 'dato', '2011', 'utilizar', 'belgica', 'irlanda', 'interrupcion', 'serie', 'austria', 'reino', 'unido', '2012', 'hogar', 'inmigrante', 'definir', 'aquel', 'menos', 'adulto', 'nacido', 'ue20', 'país', 'numero', 'caso', 'insuficiente', 'nino', 'hogar', 'inmigrante', 'estar', 'excluido', 'analisis21', 'país', 'islandiar', 'grecia', 'tasa', 'general', 'pobreza', 'infantil', 'aumentar', 'sustancialmente', 'gran', 'recesion', 'tasa', 'pobrezo', 'aumentar', 'mas', 'rapido', 'nino', 'hogar', 'inmigrante', '2008', '2012']",
         "['mientras', 'enfoque', 'cambios', 'puede', 'ocultar', 'diferencias', 'importantes', 'niveles', 'tasa', 'pobreza', 'mas', 'alta', 'ninos', 'familias', 'numerosas', 'observo', 'bulgaria', '62', 'practicamente', 'cambios', '2008', '2012', 'ninguno', 'dos', 'subgrupos', 'datos', '2011', 'utilizan', 'belgica', 'irlanda', 'interrupcion', 'serie', 'austria', 'reino', 'unido', '2012', 'hogares', 'inmigrantes', 'definen', 'aquellos', 'menos', 'adulto', 'nacido', 'ue20', 'paises', 'numeros', 'casos', 'insuficientes', 'ninos', 'hogares', 'inmigrantes', 'estan', 'excluidos', 'analisis21', 'paises', 'islandia', 'grecia', 'tasas', 'generales', 'pobreza', 'infantil', 'aumentaron', 'sustancialmente', 'gran', 'recesion', 'tasas', 'pobreza', 'aumentaron', 'mas', 'rapido', 'ninos', 'hogares', 'inmigrantes', '2008', '2012']"
        ],
        [
         "2155",
         "Esto impulsó una nueva legislación en 2016 que ahora hace que el acceso a la atención médica sea un derecho para todos los ciudadanos griegos y brinda una cobertura integral no solo a ellos, sino también a los inmigrantes irregulares y refugiados (ver también el Cuadro 3). Anteriormente, los diferentes fondos SHI basados ​​en la ocupación tenían sus propias tasas de cotización y paquetes de beneficios, lo que generaba un acceso fragmentado y desigual a los servicios. Hoy, el paquete de beneficios públicos es relativamente amplio y los servicios dentales se han agregado bajo la legislación que establece el nuevo sistema de atención primaria. Solo en 2015, el estado y las organizaciones no gubernamentales se ocuparon de aproximadamente 870 000 recién llegados, brindándoles alojamiento, alimentos y la asistencia médica requerida.",
         "3",
         "['impuls', 'nuev', 'legisl', '2016', 'ahor', 'hac', 'acces', 'atencion', 'medic', 'derech', 'ciudadan', 'grieg', 'brind', 'cobertur', 'integral', 'sol', 'sin', 'tambi', 'inmigr', 'irregular', 'refugi', 'ver', 'tambi', 'cuadr', '3', 'anterior', 'diferent', 'fond', 'shi', 'bas', 'ocup', 'teni', 'propi', 'tas', 'cotiz', 'paquet', 'benefici', 'gener', 'acces', 'fragment', 'desigual', 'servici', 'hoy', 'paquet', 'benefici', 'public', 'relat', 'ampli', 'servici', 'dental', 'agreg', 'baj', 'legisl', 'establec', 'nuev', 'sistem', 'atencion', 'primari', 'sol', '2015', 'organiz', 'gubernamental', 'ocup', 'aproxim', '870', '000', 'reci', 'lleg', 'brind', 'aloj', 'aliment', 'asistent', 'medic', 'requer', 'impulso', 'nuevo', 'legislacion', '2016', 'ahora', 'hacer', 'acceso', 'atencion', 'medica', 'derecho', 'ciudadano', 'griego', 'brindar', 'cobertura', 'integral', 'solo', 'sino', 'tambien', 'inmigrante', 'irregular', 'refugiado', 'ver', 'tambien', 'cuadro', '3', 'anteriormente', 'diferente', 'fondo', 'shi', 'basado', 'ocupacion', 'teniar', 'propio', 'tasa', 'cotizacion', 'paquete', 'beneficio', 'generar', 'acceso', 'fragmentado', 'desigual', 'servicio', 'hoy', 'paquetir', 'beneficio', 'publico', 'relativamente', 'amplio', 'servicio', 'dental', 'agregado', 'bajo', 'legislacion', 'establecer', 'nuevo', 'sistema', 'atencion', 'primaria', 'solo', '2015', 'organización', 'gubernamental', 'ocupar', 'aproximadamente', '870', '000', 'recien', 'llegado', 'brindandol', 'alojamiento', 'alimento', 'asistencia', 'medico', 'requerido']",
         "['impulso', 'nueva', 'legislacion', '2016', 'ahora', 'hace', 'acceso', 'atencion', 'medica', 'derecho', 'ciudadanos', 'griegos', 'brinda', 'cobertura', 'integral', 'solo', 'sino', 'tambien', 'inmigrantes', 'irregulares', 'refugiados', 'ver', 'tambien', 'cuadro', '3', 'anteriormente', 'diferentes', 'fondos', 'shi', 'basados', 'ocupacion', 'tenian', 'propias', 'tasas', 'cotizacion', 'paquetes', 'beneficios', 'generaba', 'acceso', 'fragmentado', 'desigual', 'servicios', 'hoy', 'paquete', 'beneficios', 'publicos', 'relativamente', 'amplio', 'servicios', 'dentales', 'agregado', 'bajo', 'legislacion', 'establece', 'nuevo', 'sistema', 'atencion', 'primaria', 'solo', '2015', 'organizaciones', 'gubernamentales', 'ocuparon', 'aproximadamente', '870', '000', 'recien', 'llegados', 'brindandoles', 'alojamiento', 'alimentos', 'asistencia', 'medica', 'requerida']"
        ],
        [
         "1177",
         "Desde su fundación, la universidad ha realizado grandes avances en la calidad y amplitud de sus programas académicos y de investigación, en la calidad de su personal académico y en las matriculaciones de estudiantes de grado y postgrado. La designación como universidad APEX, una designación para convertirse en una de las instituciones de enseñanza superior con mejores resultados a nivel mundial en la clasificación internacional, es un logro singular (MoHE, 2007). En su visión como universidad APEX, la Universiti Sains Malaysia ha establecido una impresionante agenda, Transformar la educación superior para un mañana sostenible (USM, 2010).",
         "4",
         "['fundacion', 'univers', 'realiz', 'grand', 'avanc', 'calid', 'amplitud', 'program', 'academ', 'investig', 'calid', 'personal', 'academ', 'matricul', 'estudi', 'grad', 'postgr', 'design', 'univers', 'apex', 'design', 'convert', 'institu', 'ensen', 'superior', 'mejor', 'result', 'nivel', 'mundial', 'clasif', 'internacional', 'logr', 'singul', 'moh', '2007', 'vision', 'univers', 'apex', 'universiti', 'sains', 'malaysi', 'establec', 'impresion', 'agend', 'transform', 'educ', 'superior', 'manan', 'sosten', 'usm', '2010', 'fundacion', 'universidad', 'realizado', 'grande', 'avance', 'calidad', 'amplitud', 'programa', 'academico', 'investigacion', 'calidad', 'personal', 'academico', 'matriculación', 'estudiante', 'grado', 'postgrado', 'designacion', 'universidad', 'apex', 'designacion', 'convertir él', 'institución', 'ensenanza', 'superior', 'mejor', 'resultado', 'nivel', 'mundial', 'clasificacion', 'internacional', 'logro', 'singular', 'mohe', '2007', 'vision', 'universidad', 'apex', 'universiti', 'sains', 'malaysia', 'establecido', 'impresionante', 'agenda', 'transformar', 'educacion', 'superior', 'manana', 'sostenible', 'usm', '2010']",
         "['fundacion', 'universidad', 'realizado', 'grandes', 'avances', 'calidad', 'amplitud', 'programas', 'academicos', 'investigacion', 'calidad', 'personal', 'academico', 'matriculaciones', 'estudiantes', 'grado', 'postgrado', 'designacion', 'universidad', 'apex', 'designacion', 'convertirse', 'instituciones', 'ensenanza', 'superior', 'mejores', 'resultados', 'nivel', 'mundial', 'clasificacion', 'internacional', 'logro', 'singular', 'mohe', '2007', 'vision', 'universidad', 'apex', 'universiti', 'sains', 'malaysia', 'establecido', 'impresionante', 'agenda', 'transformar', 'educacion', 'superior', 'manana', 'sostenible', 'usm', '2010']"
        ],
        [
         "1777",
         "Otros países con gran disponibilidad de datos fueron Dinamarca (86%), Finlandia, Islandia y Corea (79% cada uno). Todos los países notificaron datos nacionales sobre mortalidad y prácticamente todos notificaron datos nacionales sobre hospitalizaciones y hospitalizaciones de salud mental, una encuesta nacional de salud de la población y un registro nacional del cáncer. Prácticamente todos cuentan también con un censo o registro nacional de población que proporciona denominadores poblacionales clave y datos contextuales para las estadísticas y la investigación sanitarias.",
         "3",
         "['pais', 'gran', 'disponibil', 'dat', 'dinamarc', '86', 'finlandi', 'islandi', 'core', '79', 'cad', 'pais', 'notific', 'dat', 'nacional', 'mortal', 'practic', 'notific', 'dat', 'nacional', 'hospitaliz', 'hospitaliz', 'salud', 'mental', 'encuest', 'nacional', 'salud', 'poblacion', 'registr', 'nacional', 'canc', 'practic', 'cuent', 'tambi', 'cens', 'registr', 'nacional', 'poblacion', 'proporcion', 'denomin', 'poblacional', 'clav', 'dat', 'contextual', 'estadist', 'investig', 'sanitari', 'país', 'gran', 'disponibilidad', 'dato', 'dinamarca', '86', 'finlandio', 'islandio', 'corea', '79', 'cada', 'país', 'notificar', 'dato', 'nacional', 'mortalidad', 'practicamente', 'notificar', 'dato', 'nacional', 'hospitalización', 'hospitalización', 'salud', 'mental', 'encuesta', 'nacional', 'salud', 'poblacion', 'registro', 'nacional', 'cancer', 'practicamente', 'contar', 'tambien', 'censo', 'registro', 'nacional', 'poblacion', 'proporcionar', 'denominador', 'poblacional', 'clave', 'dato', 'contextual', 'estadistica', 'investigacion', 'sanitario']",
         "['paises', 'gran', 'disponibilidad', 'datos', 'dinamarca', '86', 'finlandia', 'islandia', 'corea', '79', 'cada', 'paises', 'notificaron', 'datos', 'nacionales', 'mortalidad', 'practicamente', 'notificaron', 'datos', 'nacionales', 'hospitalizaciones', 'hospitalizaciones', 'salud', 'mental', 'encuesta', 'nacional', 'salud', 'poblacion', 'registro', 'nacional', 'cancer', 'practicamente', 'cuentan', 'tambien', 'censo', 'registro', 'nacional', 'poblacion', 'proporciona', 'denominadores', 'poblacionales', 'clave', 'datos', 'contextuales', 'estadisticas', 'investigacion', 'sanitarias']"
        ],
        [
         "2188",
         "Los esfuerzos para cambiar la profesión de liderazgo escolar deben seguir el Marco de Buen Liderazgo Escolar junto con el nuevo Sistema de Formación Docente y Desarrollo Profesional. La provisión de capacitación también debe ser más sistemática y debe depender menos de la capacidad individual de los líderes escolares para acceder a las oportunidades de capacitación. Las universidades y otras instituciones de educación superior están posicionadas en el nexo de la creación de conocimiento, la educación, la innovación y el crecimiento económico.",
         "4",
         "['esfuerz', 'cambi', 'profesion', 'liderazg', 'escol', 'deb', 'segu', 'marc', 'buen', 'liderazg', 'escol', 'junt', 'nuev', 'sistem', 'formacion', 'docent', 'desarroll', 'profesional', 'provision', 'capacit', 'tambi', 'deb', 'ser', 'mas', 'sistemat', 'deb', 'depend', 'men', 'capac', 'individual', 'lider', 'escolar', 'acced', 'oportun', 'capacit', 'univers', 'institu', 'educ', 'superior', 'estan', 'posicion', 'nex', 'creacion', 'conoc', 'educ', 'innov', 'crecimient', 'econom', 'esfuerzo', 'cambiar', 'profesion', 'liderazgo', 'escolar', 'deber', 'seguir', 'marco', 'buen', 'liderazgo', 'escolar', 'junto', 'nuevo', 'sistema', 'formacion', 'docente', 'desarrollo', 'profesional', 'provision', 'capacitacion', 'tambien', 'deber', 'ser', 'mas', 'sistematico', 'deber', 'depender', 'menos', 'capacidad', 'individual', 'lider', 'escolar', 'acceder', 'oportunidad', 'capacitacion', 'universidades', 'instituciones', 'educacion', 'superior', 'estar', 'posicionado', 'nexo', 'creacion', 'conocimiento', 'educacion', 'innovacion', 'crecimiento', 'economico']",
         "['esfuerzos', 'cambiar', 'profesion', 'liderazgo', 'escolar', 'deben', 'seguir', 'marco', 'buen', 'liderazgo', 'escolar', 'junto', 'nuevo', 'sistema', 'formacion', 'docente', 'desarrollo', 'profesional', 'provision', 'capacitacion', 'tambien', 'debe', 'ser', 'mas', 'sistematica', 'debe', 'depender', 'menos', 'capacidad', 'individual', 'lideres', 'escolares', 'acceder', 'oportunidades', 'capacitacion', 'universidades', 'instituciones', 'educacion', 'superior', 'estan', 'posicionadas', 'nexo', 'creacion', 'conocimiento', 'educacion', 'innovacion', 'crecimiento', 'economico']"
        ],
        [
         "2192",
         "Involucrar a las partes interesadas clave (por ejemplo, sindicatos de docentes, universidades, asesores pedagógicos) en su desarrollo será fundamental para construir una comprensión compartida de la \"buena enseñanza\" y garantizar que los estándares sean aceptados y utilizados. Costa Rica debería considerar la creación de un organismo profesional para docentes para apoyar este trabajo y proporcionar información para el desarrollo de políticas docentes de manera más amplia. Fortalecer la formación inicial y la contratación de docentes.",
         "4",
         "['involucr', 'part', 'interes', 'clav', 'ejempl', 'sindicat', 'docent', 'univers', 'asesor', 'pedagog', 'desarroll', 'ser', 'fundamental', 'constru', 'comprension', 'compart', 'buen', 'ensen', 'garantiz', 'estandar', 'acept', 'utiliz', 'cost', 'ric', 'deberi', 'consider', 'creacion', 'organ', 'profesional', 'docent', 'apoy', 'trabaj', 'proporcion', 'inform', 'desarroll', 'polit', 'docent', 'maner', 'mas', 'ampli', 'fortalec', 'formacion', 'inicial', 'contrat', 'docent', 'involucrar', 'parte', 'interesado', 'clave', 'ejemplo', 'sindicato', 'docente', 'universidad', 'asesor', 'pedagogico', 'desarrollo', 'sera', 'fundamental', 'construir', 'comprension', 'compartido', 'buen', 'ensenanza', 'garantizar', 'estandar', 'aceptado', 'utilizado', 'costa', 'rico', 'deberio', 'considerar', 'creacion', 'organismo', 'profesional', 'docente', 'apoyar', 'trabajo', 'proporcionar', 'informacion', 'desarrollo', 'politica', 'docente', 'manera', 'mas', 'amplio', 'fortalecer', 'formacion', 'inicial', 'contratacion', 'docente']",
         "['involucrar', 'partes', 'interesadas', 'clave', 'ejemplo', 'sindicatos', 'docentes', 'universidades', 'asesores', 'pedagogicos', 'desarrollo', 'sera', 'fundamental', 'construir', 'comprension', 'compartida', 'buena', 'ensenanza', 'garantizar', 'estandares', 'aceptados', 'utilizados', 'costa', 'rica', 'deberia', 'considerar', 'creacion', 'organismo', 'profesional', 'docentes', 'apoyar', 'trabajo', 'proporcionar', 'informacion', 'desarrollo', 'politicas', 'docentes', 'manera', 'mas', 'amplia', 'fortalecer', 'formacion', 'inicial', 'contratacion', 'docentes']"
        ],
        [
         "994",
         "La supervisión eficaz del personal es fundamental para la mejora continua de los servicios de EAPI, lo que indica la importancia de vincular la supervisión del personal con el desarrollo profesional. Junto con la calidad del servicio, es el área monitoreada con más frecuencia, tanto para mejorar el nivel de calidad del servicio como para informar la formulación de políticas. Además, se monitorea el desempeño del personal para identificar si necesita alguna mejora. Las encuestas para padres, las revisiones por pares y las pruebas del personal son menos populares.",
         "4",
         "['supervision', 'eficaz', 'personal', 'fundamental', 'mejor', 'continu', 'servici', 'eapi', 'indic', 'import', 'vincul', 'supervision', 'personal', 'desarroll', 'profesional', 'junt', 'calid', 'servici', 'are', 'monitor', 'mas', 'frecuenci', 'mejor', 'nivel', 'calid', 'servici', 'inform', 'formul', 'polit', 'adem', 'monitore', 'desempen', 'personal', 'identific', 'si', 'necesit', 'algun', 'mejor', 'encuest', 'padr', 'revision', 'par', 'prueb', 'personal', 'men', 'popular', 'supervision', 'eficaz', 'personal', 'fundamental', 'mejora', 'continuo', 'servicio', 'eapi', 'indicar', 'importancia', 'vincular', 'supervision', 'personal', 'desarrollo', 'profesional', 'junto', 'calidad', 'servicio', 'areo', 'monitoreado', 'mas', 'frecuencia', 'mejorar', 'nivel', 'calidad', 'servicio', 'informar', 'formulacion', 'politica', 'adema', 'monitorea', 'desempeno', 'personal', 'identificar', 'si', 'necesitar', 'alguno', 'mejora', 'encuesta', 'padr', 'revisión', 'pares', 'prueba', 'personal', 'menos', 'popular']",
         "['supervision', 'eficaz', 'personal', 'fundamental', 'mejora', 'continua', 'servicios', 'eapi', 'indica', 'importancia', 'vincular', 'supervision', 'personal', 'desarrollo', 'profesional', 'junto', 'calidad', 'servicio', 'area', 'monitoreada', 'mas', 'frecuencia', 'mejorar', 'nivel', 'calidad', 'servicio', 'informar', 'formulacion', 'politicas', 'ademas', 'monitorea', 'desempeno', 'personal', 'identificar', 'si', 'necesita', 'alguna', 'mejora', 'encuestas', 'padres', 'revisiones', 'pares', 'pruebas', 'personal', 'menos', 'populares']"
        ],
        [
         "1330",
         "Véanse las notas en el Anexo 3 (wtvw.oecd.orgfedu/eag.htm). Los sistemas educativos de los países de la OCDE y de la mayoría de los países del G20 proporcionan actualmente acceso universal a la educación básica, de tal forma que tanto la educación preescolar como la secundaria superior se están convirtiendo en universales en la mayoría de los países (véase el Indicador C2). La expansión de la educación secundaria superior se ha visto impulsada tanto por el aumento de la demanda como por cambios políticos que van desde un plan de estudios más flexible, una remodelación de los estudios de formación profesional y esfuerzos por ampliar el acceso a la educación a toda la población.",
         "4",
         "['veans', 'not', 'anex', '3', 'wtvwoecdorgfedueaghtm', 'sistem', 'educ', 'pais', 'ocde', 'mayori', 'pais', 'g20', 'proporcion', 'actual', 'acces', 'universal', 'educ', 'basic', 'tal', 'form', 'educ', 'preescol', 'secundari', 'superior', 'estan', 'convirt', 'universal', 'mayori', 'pais', 'veas', 'indic', 'c2', 'expansion', 'educ', 'secundari', 'superior', 'vist', 'impuls', 'aument', 'demand', 'cambi', 'polit', 'van', 'plan', 'estudi', 'mas', 'flexibl', 'remodel', 'estudi', 'formacion', 'profesional', 'esfuerz', 'ampli', 'acces', 'educ', 'tod', 'poblacion', 'veanse', 'nota', 'anexo', '3', 'wtvwoecdorgfedueaghtm', 'sistema', 'educativo', 'país', 'ocde', 'mayorio', 'paises', 'g20', 'proporcionar', 'actualmente', 'acceso', 'universal', 'educacion', 'basico', 'tal', 'forma', 'educacion', 'preescolar', 'secundaria', 'superior', 'estar', 'convertir', 'universal', 'mayorio', 'país', 'vear', 'indicador', 'c2', 'expansion', 'educacion', 'secundaria', 'superior', 'visto', 'impulsado', 'aumento', 'demandar', 'cambio', 'politico', 'ir', 'plar', 'estudio', 'mas', 'flexible', 'remodelacion', 'estudios', 'formacion', 'profesional', 'esfuerzo', 'ampliar', 'acceso', 'educacion', 'todo', 'poblacion']",
         "['veanse', 'notas', 'anexo', '3', 'wtvwoecdorgfedueaghtm', 'sistemas', 'educativos', 'paises', 'ocde', 'mayoria', 'paises', 'g20', 'proporcionan', 'actualmente', 'acceso', 'universal', 'educacion', 'basica', 'tal', 'forma', 'educacion', 'preescolar', 'secundaria', 'superior', 'estan', 'convirtiendo', 'universales', 'mayoria', 'paises', 'vease', 'indicador', 'c2', 'expansion', 'educacion', 'secundaria', 'superior', 'visto', 'impulsada', 'aumento', 'demanda', 'cambios', 'politicos', 'van', 'plan', 'estudios', 'mas', 'flexible', 'remodelacion', 'estudios', 'formacion', 'profesional', 'esfuerzos', 'ampliar', 'acceso', 'educacion', 'toda', 'poblacion']"
        ],
        [
         "2053",
         "La iniciativa ha resultado exitosa en términos de que los estudiantes completen los cursos de crédito correspondientes. Estos resultados positivos han llevado a que el ALP sea adoptado por diferentes universidades de los Estados Unidos. Las instituciones son recompensadas con fondos adicionales si registran una mejora significativa en la cantidad de estudiantes que pasan de cursos de recuperación a cursos de crédito, que completan créditos y completan con éxito un título.",
         "4",
         "['inici', 'result', 'exit', 'termin', 'estudi', 'complet', 'curs', 'credit', 'correspondient', 'result', 'posit', 'llev', 'alp', 'adopt', 'diferent', 'univers', 'unid', 'institu', 'recompens', 'fond', 'adicional', 'si', 'registr', 'mejor', 'signific', 'cantid', 'estudi', 'pas', 'curs', 'recuper', 'curs', 'credit', 'complet', 'credit', 'complet', 'exit', 'titul', 'iniciativo', 'resultado', 'exitoso', 'termino', 'estudiant', 'completar', 'curso', 'creditir', 'correspondiente', 'resultado', 'positivo', 'llevado', 'alp', 'adoptado', 'diferente', 'universidad', 'unido', 'institución', 'recompensada', 'fondo', 'adicional', 'si', 'registrar', 'mejora', 'significativo', 'cantidad', 'estudiant', 'pasar', 'curso', 'recuperacion', 'curso', 'credito', 'completar', 'credito', 'completar', 'exito', 'titulo']",
         "['iniciativa', 'resultado', 'exitosa', 'terminos', 'estudiantes', 'completen', 'cursos', 'credito', 'correspondientes', 'resultados', 'positivos', 'llevado', 'alp', 'adoptado', 'diferentes', 'universidades', 'unidos', 'instituciones', 'recompensadas', 'fondos', 'adicionales', 'si', 'registran', 'mejora', 'significativa', 'cantidad', 'estudiantes', 'pasan', 'cursos', 'recuperacion', 'cursos', 'credito', 'completan', 'creditos', 'completan', 'exito', 'titulo']"
        ],
        [
         "909",
         "Otros países, como Australia, preparan la misma formación básica para los profesores de primaria y preescolar, pero hay que elegir una especialización para una de las dos titulaciones. La licencia puede obtenerse demostrando las aptitudes para ejercer la profesión o las funciones en la AEPI. En Finlandia, por ejemplo, no se exige renovación.",
         "4",
         "['pais', 'australi', 'prep', 'mism', 'formacion', 'basic', 'profesor', 'primari', 'preescol', 'eleg', 'especializ', 'dos', 'titul', 'licenci', 'pued', 'obten', 'demostr', 'aptitud', 'ejerc', 'profesion', 'funcion', 'aepi', 'finlandi', 'ejempl', 'exig', 'renov', 'país', 'australia', 'preparar', 'mismo', 'formacion', 'basica', 'profesor', 'primario', 'preescolar', 'elegir', 'especializacion', 'dos', 'titulación', 'licencia', 'poder', 'obtener él', 'demostrar', 'aptitud', 'ejercer', 'profesion', 'funciones', 'aepi', 'finlandia', 'ejemplo', 'exigir', 'renovacion']",
         "['paises', 'australia', 'preparan', 'misma', 'formacion', 'basica', 'profesores', 'primaria', 'preescolar', 'elegir', 'especializacion', 'dos', 'titulaciones', 'licencia', 'puede', 'obtenerse', 'demostrando', 'aptitudes', 'ejercer', 'profesion', 'funciones', 'aepi', 'finlandia', 'ejemplo', 'exige', 'renovacion']"
        ]
       ],
       "shape": {
        "columns": 4,
        "rows": 20
       }
      },
      "text/html": [
       "<div>\n",
       "<style scoped>\n",
       "    .dataframe tbody tr th:only-of-type {\n",
       "        vertical-align: middle;\n",
       "    }\n",
       "\n",
       "    .dataframe tbody tr th {\n",
       "        vertical-align: top;\n",
       "    }\n",
       "\n",
       "    .dataframe thead th {\n",
       "        text-align: right;\n",
       "    }\n",
       "</style>\n",
       "<table border=\"1\" class=\"dataframe\">\n",
       "  <thead>\n",
       "    <tr style=\"text-align: right;\">\n",
       "      <th></th>\n",
       "      <th>textos</th>\n",
       "      <th>labels</th>\n",
       "      <th>palabras</th>\n",
       "      <th>palabrasProces</th>\n",
       "    </tr>\n",
       "  </thead>\n",
       "  <tbody>\n",
       "    <tr>\n",
       "      <th>291</th>\n",
       "      <td>Los maestros de primaria se especializan en ed...</td>\n",
       "      <td>4</td>\n",
       "      <td>[maestr, primari, especializ, educ, pued, espe...</td>\n",
       "      <td>[maestros, primaria, especializan, educacion, ...</td>\n",
       "    </tr>\n",
       "    <tr>\n",
       "      <th>2412</th>\n",
       "      <td>En cambio, los sistemas educativos que contien...</td>\n",
       "      <td>4</td>\n",
       "      <td>[cambi, sistem, educ, contien, gran, proporcio...</td>\n",
       "      <td>[cambio, sistemas, educativos, contienen, gran...</td>\n",
       "    </tr>\n",
       "    <tr>\n",
       "      <th>347</th>\n",
       "      <td>Sin embargo, debido a una situación presupuest...</td>\n",
       "      <td>3</td>\n",
       "      <td>[embarg, deb, situacion, presupuestari, favor,...</td>\n",
       "      <td>[embargo, debido, situacion, presupuestaria, f...</td>\n",
       "    </tr>\n",
       "    <tr>\n",
       "      <th>2153</th>\n",
       "      <td>En el caso de los alumnos procedentes de entor...</td>\n",
       "      <td>4</td>\n",
       "      <td>[cas, alumn, procedent, entorn, desfavorec, au...</td>\n",
       "      <td>[caso, alumnos, procedentes, entornos, desfavo...</td>\n",
       "    </tr>\n",
       "    <tr>\n",
       "      <th>709</th>\n",
       "      <td>La densidad de camas también es marcadamente b...</td>\n",
       "      <td>3</td>\n",
       "      <td>[densid, cam, tambi, marcad, baj, 16, cam, 1, ...</td>\n",
       "      <td>[densidad, camas, tambien, marcadamente, baja,...</td>\n",
       "    </tr>\n",
       "    <tr>\n",
       "      <th>1829</th>\n",
       "      <td>Los subsidios a la vivienda de los gobiernos r...</td>\n",
       "      <td>1</td>\n",
       "      <td>[subsidi, viviend, gobi, regional, represent, ...</td>\n",
       "      <td>[subsidios, vivienda, gobiernos, regionales, r...</td>\n",
       "    </tr>\n",
       "    <tr>\n",
       "      <th>1667</th>\n",
       "      <td>Este desafío ha sido reconocido por el MoES en...</td>\n",
       "      <td>4</td>\n",
       "      <td>[desafi, sid, reconoc, moes, analisis, planif,...</td>\n",
       "      <td>[desafio, sido, reconocido, moes, analisis, pl...</td>\n",
       "    </tr>\n",
       "    <tr>\n",
       "      <th>197</th>\n",
       "      <td>Use un enfoque diferenciado para llegar a los ...</td>\n",
       "      <td>4</td>\n",
       "      <td>[use, enfoqu, diferenci, lleg, estudi, diferen...</td>\n",
       "      <td>[use, enfoque, diferenciado, llegar, estudiant...</td>\n",
       "    </tr>\n",
       "    <tr>\n",
       "      <th>1417</th>\n",
       "      <td>Ofrecer más oportunidades de aprendizaje colab...</td>\n",
       "      <td>4</td>\n",
       "      <td>[ofrec, mas, oportun, aprendizaj, colabor, inf...</td>\n",
       "      <td>[ofrecer, mas, oportunidades, aprendizaje, col...</td>\n",
       "    </tr>\n",
       "    <tr>\n",
       "      <th>2271</th>\n",
       "      <td>Los hombres fuman relativamente mucho, y entre...</td>\n",
       "      <td>3</td>\n",
       "      <td>[hombr, fum, relat, mujer, arab, mayor, obes, ...</td>\n",
       "      <td>[hombres, fuman, relativamente, mujeres, arabe...</td>\n",
       "    </tr>\n",
       "    <tr>\n",
       "      <th>690</th>\n",
       "      <td>Mientras tanto, el enfoque en los cambios pued...</td>\n",
       "      <td>1</td>\n",
       "      <td>[mientr, enfoqu, cambi, pued, ocult, diferent,...</td>\n",
       "      <td>[mientras, enfoque, cambios, puede, ocultar, d...</td>\n",
       "    </tr>\n",
       "    <tr>\n",
       "      <th>2155</th>\n",
       "      <td>Esto impulsó una nueva legislación en 2016 que...</td>\n",
       "      <td>3</td>\n",
       "      <td>[impuls, nuev, legisl, 2016, ahor, hac, acces,...</td>\n",
       "      <td>[impulso, nueva, legislacion, 2016, ahora, hac...</td>\n",
       "    </tr>\n",
       "    <tr>\n",
       "      <th>1177</th>\n",
       "      <td>Desde su fundación, la universidad ha realizad...</td>\n",
       "      <td>4</td>\n",
       "      <td>[fundacion, univers, realiz, grand, avanc, cal...</td>\n",
       "      <td>[fundacion, universidad, realizado, grandes, a...</td>\n",
       "    </tr>\n",
       "    <tr>\n",
       "      <th>1777</th>\n",
       "      <td>Otros países con gran disponibilidad de datos ...</td>\n",
       "      <td>3</td>\n",
       "      <td>[pais, gran, disponibil, dat, dinamarc, 86, fi...</td>\n",
       "      <td>[paises, gran, disponibilidad, datos, dinamarc...</td>\n",
       "    </tr>\n",
       "    <tr>\n",
       "      <th>2188</th>\n",
       "      <td>Los esfuerzos para cambiar la profesión de lid...</td>\n",
       "      <td>4</td>\n",
       "      <td>[esfuerz, cambi, profesion, liderazg, escol, d...</td>\n",
       "      <td>[esfuerzos, cambiar, profesion, liderazgo, esc...</td>\n",
       "    </tr>\n",
       "    <tr>\n",
       "      <th>2192</th>\n",
       "      <td>Involucrar a las partes interesadas clave (por...</td>\n",
       "      <td>4</td>\n",
       "      <td>[involucr, part, interes, clav, ejempl, sindic...</td>\n",
       "      <td>[involucrar, partes, interesadas, clave, ejemp...</td>\n",
       "    </tr>\n",
       "    <tr>\n",
       "      <th>994</th>\n",
       "      <td>La supervisión eficaz del personal es fundamen...</td>\n",
       "      <td>4</td>\n",
       "      <td>[supervision, eficaz, personal, fundamental, m...</td>\n",
       "      <td>[supervision, eficaz, personal, fundamental, m...</td>\n",
       "    </tr>\n",
       "    <tr>\n",
       "      <th>1330</th>\n",
       "      <td>Véanse las notas en el Anexo 3 (wtvw.oecd.orgf...</td>\n",
       "      <td>4</td>\n",
       "      <td>[veans, not, anex, 3, wtvwoecdorgfedueaghtm, s...</td>\n",
       "      <td>[veanse, notas, anexo, 3, wtvwoecdorgfedueaght...</td>\n",
       "    </tr>\n",
       "    <tr>\n",
       "      <th>2053</th>\n",
       "      <td>La iniciativa ha resultado exitosa en términos...</td>\n",
       "      <td>4</td>\n",
       "      <td>[inici, result, exit, termin, estudi, complet,...</td>\n",
       "      <td>[iniciativa, resultado, exitosa, terminos, est...</td>\n",
       "    </tr>\n",
       "    <tr>\n",
       "      <th>909</th>\n",
       "      <td>Otros países, como Australia, preparan la mism...</td>\n",
       "      <td>4</td>\n",
       "      <td>[pais, australi, prep, mism, formacion, basic,...</td>\n",
       "      <td>[paises, australia, preparan, misma, formacion...</td>\n",
       "    </tr>\n",
       "  </tbody>\n",
       "</table>\n",
       "</div>"
      ],
      "text/plain": [
       "                                                 textos  labels  \\\n",
       "291   Los maestros de primaria se especializan en ed...       4   \n",
       "2412  En cambio, los sistemas educativos que contien...       4   \n",
       "347   Sin embargo, debido a una situación presupuest...       3   \n",
       "2153  En el caso de los alumnos procedentes de entor...       4   \n",
       "709   La densidad de camas también es marcadamente b...       3   \n",
       "1829  Los subsidios a la vivienda de los gobiernos r...       1   \n",
       "1667  Este desafío ha sido reconocido por el MoES en...       4   \n",
       "197   Use un enfoque diferenciado para llegar a los ...       4   \n",
       "1417  Ofrecer más oportunidades de aprendizaje colab...       4   \n",
       "2271  Los hombres fuman relativamente mucho, y entre...       3   \n",
       "690   Mientras tanto, el enfoque en los cambios pued...       1   \n",
       "2155  Esto impulsó una nueva legislación en 2016 que...       3   \n",
       "1177  Desde su fundación, la universidad ha realizad...       4   \n",
       "1777  Otros países con gran disponibilidad de datos ...       3   \n",
       "2188  Los esfuerzos para cambiar la profesión de lid...       4   \n",
       "2192  Involucrar a las partes interesadas clave (por...       4   \n",
       "994   La supervisión eficaz del personal es fundamen...       4   \n",
       "1330  Véanse las notas en el Anexo 3 (wtvw.oecd.orgf...       4   \n",
       "2053  La iniciativa ha resultado exitosa en términos...       4   \n",
       "909   Otros países, como Australia, preparan la mism...       4   \n",
       "\n",
       "                                               palabras  \\\n",
       "291   [maestr, primari, especializ, educ, pued, espe...   \n",
       "2412  [cambi, sistem, educ, contien, gran, proporcio...   \n",
       "347   [embarg, deb, situacion, presupuestari, favor,...   \n",
       "2153  [cas, alumn, procedent, entorn, desfavorec, au...   \n",
       "709   [densid, cam, tambi, marcad, baj, 16, cam, 1, ...   \n",
       "1829  [subsidi, viviend, gobi, regional, represent, ...   \n",
       "1667  [desafi, sid, reconoc, moes, analisis, planif,...   \n",
       "197   [use, enfoqu, diferenci, lleg, estudi, diferen...   \n",
       "1417  [ofrec, mas, oportun, aprendizaj, colabor, inf...   \n",
       "2271  [hombr, fum, relat, mujer, arab, mayor, obes, ...   \n",
       "690   [mientr, enfoqu, cambi, pued, ocult, diferent,...   \n",
       "2155  [impuls, nuev, legisl, 2016, ahor, hac, acces,...   \n",
       "1177  [fundacion, univers, realiz, grand, avanc, cal...   \n",
       "1777  [pais, gran, disponibil, dat, dinamarc, 86, fi...   \n",
       "2188  [esfuerz, cambi, profesion, liderazg, escol, d...   \n",
       "2192  [involucr, part, interes, clav, ejempl, sindic...   \n",
       "994   [supervision, eficaz, personal, fundamental, m...   \n",
       "1330  [veans, not, anex, 3, wtvwoecdorgfedueaghtm, s...   \n",
       "2053  [inici, result, exit, termin, estudi, complet,...   \n",
       "909   [pais, australi, prep, mism, formacion, basic,...   \n",
       "\n",
       "                                         palabrasProces  \n",
       "291   [maestros, primaria, especializan, educacion, ...  \n",
       "2412  [cambio, sistemas, educativos, contienen, gran...  \n",
       "347   [embargo, debido, situacion, presupuestaria, f...  \n",
       "2153  [caso, alumnos, procedentes, entornos, desfavo...  \n",
       "709   [densidad, camas, tambien, marcadamente, baja,...  \n",
       "1829  [subsidios, vivienda, gobiernos, regionales, r...  \n",
       "1667  [desafio, sido, reconocido, moes, analisis, pl...  \n",
       "197   [use, enfoque, diferenciado, llegar, estudiant...  \n",
       "1417  [ofrecer, mas, oportunidades, aprendizaje, col...  \n",
       "2271  [hombres, fuman, relativamente, mujeres, arabe...  \n",
       "690   [mientras, enfoque, cambios, puede, ocultar, d...  \n",
       "2155  [impulso, nueva, legislacion, 2016, ahora, hac...  \n",
       "1177  [fundacion, universidad, realizado, grandes, a...  \n",
       "1777  [paises, gran, disponibilidad, datos, dinamarc...  \n",
       "2188  [esfuerzos, cambiar, profesion, liderazgo, esc...  \n",
       "2192  [involucrar, partes, interesadas, clave, ejemp...  \n",
       "994   [supervision, eficaz, personal, fundamental, m...  \n",
       "1330  [veanse, notas, anexo, 3, wtvwoecdorgfedueaght...  \n",
       "2053  [iniciativa, resultado, exitosa, terminos, est...  \n",
       "909   [paises, australia, preparan, misma, formacion...  "
      ]
     },
     "execution_count": 77,
     "metadata": {},
     "output_type": "execute_result"
    }
   ],
   "source": [
    "df_textC.sample(20)"
   ]
  },
  {
   "cell_type": "markdown",
   "id": "543e8ae9",
   "metadata": {},
   "source": [
    "### 3.3 Entrenamiento y split de los datos para testing"
   ]
  },
  {
   "cell_type": "code",
   "execution_count": 78,
   "id": "246b1510",
   "metadata": {},
   "outputs": [],
   "source": [
    "X = df_textC[\"palabras\"]                 # list of tokens per row\n",
    "y = df_textC[\"labels\"].astype(int)     # already numeric; ensure int dtype\n",
    "\n",
    "X_train, X_test, y_train, y_test = train_test_split(\n",
    "    X, y, test_size=0.2, random_state=42, stratify=y\n",
    ")"
   ]
  },
  {
   "cell_type": "markdown",
   "id": "e9118ea6",
   "metadata": {},
   "source": [
    "### 3.4 Vectorizar texto ya tokenizado"
   ]
  },
  {
   "cell_type": "markdown",
   "id": "114e10eb",
   "metadata": {},
   "source": [
    " TF-IDF : Term Frequency-Inverse Document Frequency"
   ]
  },
  {
   "cell_type": "code",
   "execution_count": 79,
   "id": "c021e04f",
   "metadata": {},
   "outputs": [],
   "source": [
    "identity = lambda x: x\n",
    "vec_tfidf = TfidfVectorizer(\n",
    "    tokenizer=identity, preprocessor=identity, token_pattern=None,\n",
    "    # sublinear_tf=True, min_df=2, ngram_range=(1,2)\n",
    ")\n",
    "\n",
    "X_train_tfidf = vec_tfidf.fit_transform(X_train)\n",
    "X_test_tfidf  = vec_tfidf.transform(X_test)\n",
    "\n"
   ]
  },
  {
   "cell_type": "markdown",
   "id": "d5cccf7d",
   "metadata": {},
   "source": [
    "### 4.1 Entrenar primer modelo de clasificacion"
   ]
  },
  {
   "cell_type": "markdown",
   "id": "1bf47025",
   "metadata": {},
   "source": [
    "#### 4.1.1 LinearSVC (David Carrillo)"
   ]
  },
  {
   "cell_type": "markdown",
   "id": "b5a12b08",
   "metadata": {},
   "source": [
    "Para este caso se escogió LinearSVC porque los datos provienen de texto vectorizado con TF-IDF, lo que genera un espacio de alta dimensión y disperso. Los SVM lineales son especialmente adecuados para este tipo de representaciones, ya que encuentran fronteras claras entre clases con buen rendimiento computacional y suelen superar a modelos más simples como la regresión logística en tareas de clasificación de texto."
   ]
  },
  {
   "cell_type": "code",
   "execution_count": 80,
   "id": "ebb979fb",
   "metadata": {},
   "outputs": [
    {
     "name": "stdout",
     "output_type": "stream",
     "text": [
      "=== Resultados en TRAIN ===\n"
     ]
    },
    {
     "data": {
      "application/vnd.microsoft.datawrangler.viewer.v0+json": {
       "columns": [
        {
         "name": "index",
         "rawType": "object",
         "type": "string"
        },
        {
         "name": "precision",
         "rawType": "float64",
         "type": "float"
        },
        {
         "name": "recall",
         "rawType": "float64",
         "type": "float"
        },
        {
         "name": "f1-score",
         "rawType": "float64",
         "type": "float"
        },
        {
         "name": "support",
         "rawType": "float64",
         "type": "float"
        }
       ],
       "ref": "b5493ae0-180a-4391-8913-3e0be2df952b",
       "rows": [
        [
         "1",
         "1.0",
         "1.0",
         "1.0",
         "404.0"
        ],
        [
         "3",
         "1.0",
         "1.0",
         "1.0",
         "715.0"
        ],
        [
         "4",
         "1.0",
         "1.0",
         "1.0",
         "820.0"
        ],
        [
         "accuracy",
         "1.0",
         "1.0",
         "1.0",
         "1.0"
        ],
        [
         "macro avg",
         "1.0",
         "1.0",
         "1.0",
         "1939.0"
        ],
        [
         "weighted avg",
         "1.0",
         "1.0",
         "1.0",
         "1939.0"
        ]
       ],
       "shape": {
        "columns": 4,
        "rows": 6
       }
      },
      "text/html": [
       "<div>\n",
       "<style scoped>\n",
       "    .dataframe tbody tr th:only-of-type {\n",
       "        vertical-align: middle;\n",
       "    }\n",
       "\n",
       "    .dataframe tbody tr th {\n",
       "        vertical-align: top;\n",
       "    }\n",
       "\n",
       "    .dataframe thead th {\n",
       "        text-align: right;\n",
       "    }\n",
       "</style>\n",
       "<table border=\"1\" class=\"dataframe\">\n",
       "  <thead>\n",
       "    <tr style=\"text-align: right;\">\n",
       "      <th></th>\n",
       "      <th>precision</th>\n",
       "      <th>recall</th>\n",
       "      <th>f1-score</th>\n",
       "      <th>support</th>\n",
       "    </tr>\n",
       "  </thead>\n",
       "  <tbody>\n",
       "    <tr>\n",
       "      <th>1</th>\n",
       "      <td>1.0</td>\n",
       "      <td>1.0</td>\n",
       "      <td>1.0</td>\n",
       "      <td>404.0</td>\n",
       "    </tr>\n",
       "    <tr>\n",
       "      <th>3</th>\n",
       "      <td>1.0</td>\n",
       "      <td>1.0</td>\n",
       "      <td>1.0</td>\n",
       "      <td>715.0</td>\n",
       "    </tr>\n",
       "    <tr>\n",
       "      <th>4</th>\n",
       "      <td>1.0</td>\n",
       "      <td>1.0</td>\n",
       "      <td>1.0</td>\n",
       "      <td>820.0</td>\n",
       "    </tr>\n",
       "    <tr>\n",
       "      <th>accuracy</th>\n",
       "      <td>1.0</td>\n",
       "      <td>1.0</td>\n",
       "      <td>1.0</td>\n",
       "      <td>1.0</td>\n",
       "    </tr>\n",
       "    <tr>\n",
       "      <th>macro avg</th>\n",
       "      <td>1.0</td>\n",
       "      <td>1.0</td>\n",
       "      <td>1.0</td>\n",
       "      <td>1939.0</td>\n",
       "    </tr>\n",
       "    <tr>\n",
       "      <th>weighted avg</th>\n",
       "      <td>1.0</td>\n",
       "      <td>1.0</td>\n",
       "      <td>1.0</td>\n",
       "      <td>1939.0</td>\n",
       "    </tr>\n",
       "  </tbody>\n",
       "</table>\n",
       "</div>"
      ],
      "text/plain": [
       "              precision  recall  f1-score  support\n",
       "1                   1.0     1.0       1.0    404.0\n",
       "3                   1.0     1.0       1.0    715.0\n",
       "4                   1.0     1.0       1.0    820.0\n",
       "accuracy            1.0     1.0       1.0      1.0\n",
       "macro avg           1.0     1.0       1.0   1939.0\n",
       "weighted avg        1.0     1.0       1.0   1939.0"
      ]
     },
     "metadata": {},
     "output_type": "display_data"
    },
    {
     "name": "stdout",
     "output_type": "stream",
     "text": [
      "\n",
      "=== Resultados en TEST ===\n"
     ]
    },
    {
     "data": {
      "application/vnd.microsoft.datawrangler.viewer.v0+json": {
       "columns": [
        {
         "name": "index",
         "rawType": "object",
         "type": "string"
        },
        {
         "name": "precision",
         "rawType": "float64",
         "type": "float"
        },
        {
         "name": "recall",
         "rawType": "float64",
         "type": "float"
        },
        {
         "name": "f1-score",
         "rawType": "float64",
         "type": "float"
        },
        {
         "name": "support",
         "rawType": "float64",
         "type": "float"
        }
       ],
       "ref": "8a5045b3-ec7c-401a-bd1d-5f368a6bc3ec",
       "rows": [
        [
         "1",
         "0.9595959595959596",
         "0.9405940594059405",
         "0.95",
         "101.0"
        ],
        [
         "3",
         "0.9562841530054644",
         "0.9776536312849162",
         "0.9668508287292817",
         "179.0"
        ],
        [
         "4",
         "0.9852216748768473",
         "0.975609756097561",
         "0.9803921568627451",
         "205.0"
        ],
        [
         "accuracy",
         "0.9690721649484536",
         "0.9690721649484536",
         "0.9690721649484536",
         "0.9690721649484536"
        ],
        [
         "macro avg",
         "0.9670339291594238",
         "0.9646191489294725",
         "0.965747661864009",
         "485.0"
        ],
        [
         "weighted avg",
         "0.9692051518699459",
         "0.9690721649484536",
         "0.9690653412358848",
         "485.0"
        ]
       ],
       "shape": {
        "columns": 4,
        "rows": 6
       }
      },
      "text/html": [
       "<div>\n",
       "<style scoped>\n",
       "    .dataframe tbody tr th:only-of-type {\n",
       "        vertical-align: middle;\n",
       "    }\n",
       "\n",
       "    .dataframe tbody tr th {\n",
       "        vertical-align: top;\n",
       "    }\n",
       "\n",
       "    .dataframe thead th {\n",
       "        text-align: right;\n",
       "    }\n",
       "</style>\n",
       "<table border=\"1\" class=\"dataframe\">\n",
       "  <thead>\n",
       "    <tr style=\"text-align: right;\">\n",
       "      <th></th>\n",
       "      <th>precision</th>\n",
       "      <th>recall</th>\n",
       "      <th>f1-score</th>\n",
       "      <th>support</th>\n",
       "    </tr>\n",
       "  </thead>\n",
       "  <tbody>\n",
       "    <tr>\n",
       "      <th>1</th>\n",
       "      <td>0.959596</td>\n",
       "      <td>0.940594</td>\n",
       "      <td>0.950000</td>\n",
       "      <td>101.000000</td>\n",
       "    </tr>\n",
       "    <tr>\n",
       "      <th>3</th>\n",
       "      <td>0.956284</td>\n",
       "      <td>0.977654</td>\n",
       "      <td>0.966851</td>\n",
       "      <td>179.000000</td>\n",
       "    </tr>\n",
       "    <tr>\n",
       "      <th>4</th>\n",
       "      <td>0.985222</td>\n",
       "      <td>0.975610</td>\n",
       "      <td>0.980392</td>\n",
       "      <td>205.000000</td>\n",
       "    </tr>\n",
       "    <tr>\n",
       "      <th>accuracy</th>\n",
       "      <td>0.969072</td>\n",
       "      <td>0.969072</td>\n",
       "      <td>0.969072</td>\n",
       "      <td>0.969072</td>\n",
       "    </tr>\n",
       "    <tr>\n",
       "      <th>macro avg</th>\n",
       "      <td>0.967034</td>\n",
       "      <td>0.964619</td>\n",
       "      <td>0.965748</td>\n",
       "      <td>485.000000</td>\n",
       "    </tr>\n",
       "    <tr>\n",
       "      <th>weighted avg</th>\n",
       "      <td>0.969205</td>\n",
       "      <td>0.969072</td>\n",
       "      <td>0.969065</td>\n",
       "      <td>485.000000</td>\n",
       "    </tr>\n",
       "  </tbody>\n",
       "</table>\n",
       "</div>"
      ],
      "text/plain": [
       "              precision    recall  f1-score     support\n",
       "1              0.959596  0.940594  0.950000  101.000000\n",
       "3              0.956284  0.977654  0.966851  179.000000\n",
       "4              0.985222  0.975610  0.980392  205.000000\n",
       "accuracy       0.969072  0.969072  0.969072    0.969072\n",
       "macro avg      0.967034  0.964619  0.965748  485.000000\n",
       "weighted avg   0.969205  0.969072  0.969065  485.000000"
      ]
     },
     "metadata": {},
     "output_type": "display_data"
    }
   ],
   "source": [
    "from sklearn.feature_extraction.text import TfidfVectorizer\n",
    "from sklearn.svm import LinearSVC\n",
    "from sklearn.pipeline import Pipeline\n",
    "from sklearn.metrics import classification_report\n",
    "import pandas as pd\n",
    "\n",
    "# Unimos tokens procesados de nuevo en string (TfidfVectorizer espera texto plano)\n",
    "X_train_text = [\" \".join(tokens) for tokens in X_train]\n",
    "X_test_text  = [\" \".join(tokens) for tokens in X_test]\n",
    "\n",
    "# Definir pipeline: TF-IDF + LinearSVC\n",
    "svm_pipeline = Pipeline([\n",
    "    (\"tfidf\", TfidfVectorizer()),\n",
    "    (\"clf\", LinearSVC(random_state=42))\n",
    "])\n",
    "\n",
    "# Entrenar\n",
    "svm_pipeline.fit(X_train_text, y_train)\n",
    "\n",
    "# Predicciones\n",
    "y_train_pred = svm_pipeline.predict(X_train_text)\n",
    "y_test_pred  = svm_pipeline.predict(X_test_text)\n",
    "\n",
    "# Reportes como DataFrame\n",
    "report_train = classification_report(y_train, y_train_pred, output_dict=True)\n",
    "report_test  = classification_report(y_test, y_test_pred, output_dict=True)\n",
    "\n",
    "df_report_train = pd.DataFrame(report_train).transpose()\n",
    "df_report_test  = pd.DataFrame(report_test).transpose()\n",
    "\n",
    "print(\"=== Resultados en TRAIN ===\")\n",
    "display(df_report_train)\n",
    "\n",
    "print(\"\\n=== Resultados en TEST ===\")\n",
    "display(df_report_test)\n"
   ]
  },
  {
   "cell_type": "markdown",
   "id": "ae01dbf6",
   "metadata": {},
   "source": [
    "- Los resultados muestran que el modelo mantiene una consistencia adecuada: aunque en entrenamiento alcanza valores perfectos (100%), en el conjunto de prueba se conserva un desempeño alto (≈96.9%), lo que indica que no hay una brecha fuerte entre ambos.\n",
    "\n",
    "- Al revisar las métricas por clase, se observa que todas tienen desempeños similares en precisión, recall y f1-score, lo cual confirma que el modelo no se inclina de manera marcada hacia una sola categoría.\n",
    "\n",
    "- El nivel de exactitud es elevado, lo que refuerza la validez del modelo; sin embargo, para confirmar que no depende únicamente de cómo se dividieron los datos, se aplicará validación cruzada como paso adicional.\n",
    "\n",
    "- Finalmente, se planea entrenar una versión del modelo con datos balanceados (usando técnicas como SMOTE), con el fin de mejorar la equidad entre clases y evitar que el algoritmo simplemente memorice los datos disponibles."
   ]
  },
  {
   "cell_type": "code",
   "execution_count": 81,
   "id": "e384310e",
   "metadata": {},
   "outputs": [
    {
     "data": {
      "image/png": "[encoded data removed]",
      "text/plain": [
       "<Figure size 640x480 with 2 Axes>"
      ]
     },
     "metadata": {},
     "output_type": "display_data"
    }
   ],
   "source": [
    "from sklearn.metrics import confusion_matrix, ConfusionMatrixDisplay\n",
    "import matplotlib.pyplot as plt\n",
    "\n",
    "# Matriz de confusión para test\n",
    "cm = confusion_matrix(y_test, y_test_pred)\n",
    "disp = ConfusionMatrixDisplay(confusion_matrix=cm)\n",
    "disp.plot(cmap=plt.cm.Blues)\n",
    "plt.title(\"Matriz de confusión - LinearSVC (Test)\")\n",
    "plt.show()\n"
   ]
  },
  {
   "cell_type": "markdown",
   "id": "0ca642cb",
   "metadata": {},
   "source": [
    "### 4.1.2 Cross Validation"
   ]
  },
  {
   "cell_type": "code",
   "execution_count": 82,
   "id": "6748d2c3",
   "metadata": {},
   "outputs": [
    {
     "name": "stdout",
     "output_type": "stream",
     "text": [
      "Accuracy por fold: [0.96907216 0.98556701 0.96082474 0.98762887 0.97520661]\n",
      "Accuracy promedio: 0.9756598790150806\n"
     ]
    },
    {
     "data": {
      "image/png": "[encoded data removed]",
      "text/plain": [
       "<Figure size 640x480 with 1 Axes>"
      ]
     },
     "metadata": {},
     "output_type": "display_data"
    }
   ],
   "source": [
    "from sklearn.model_selection import cross_val_score\n",
    "import matplotlib.pyplot as plt\n",
    "import seaborn as sns\n",
    "\n",
    "scores = cross_val_score(svm_pipeline, [\" \".join(tokens) for tokens in X], y, cv=5, scoring=\"accuracy\")\n",
    "print(\"Accuracy por fold:\", scores)\n",
    "print(\"Accuracy promedio:\", scores.mean())\n",
    "\n",
    "\n",
    "plt.bar(range(1, len(scores)+1), scores)\n",
    "plt.title(\"Accuracy por fold - Cross Validation\")\n",
    "plt.xlabel(\"Fold\")\n",
    "plt.ylabel(\"Accuracy\")\n",
    "plt.ylim(0.95, 1.0)  # para resaltar pequeñas diferencias\n",
    "plt.show()\n"
   ]
  },
  {
   "cell_type": "markdown",
   "id": "20da7b37",
   "metadata": {},
   "source": [
    "En la Figura se muestra la variación del accuracy obtenida en cada una de las cinco particiones de la validación cruzada. Los valores se mantienen en un rango entre 96% y 98%, lo cual evidencia que el modelo LinearSVC conserva un rendimiento estable y no depende de un corte específico de los datos. El promedio general fue de 97.5%, confirmando la solidez y capacidad de generalización del modelo frente a distintas divisiones del conjunto"
   ]
  },
  {
   "cell_type": "markdown",
   "id": "8d7706a9",
   "metadata": {},
   "source": [
    "#### 4.1.3 SMOTE\n"
   ]
  },
  {
   "cell_type": "markdown",
   "id": "dc032f39",
   "metadata": {},
   "source": [
    "Previo al entrenamiento, los datos fueron vectorizados con TF-IDF, lo que permitió transformar los textos en representaciones numéricas de alta dimensión. Sin embargo, al analizar la distribución de clases se observó cierto desbalance, lo cual puede afectar el desempeño del modelo en categorías con menos ejemplos. Para mitigar este problema se aplicó SMOTE (Synthetic Minority Oversampling Technique), que genera ejemplos sintéticos de las clases minoritarias hasta equilibrar el conjunto de datos."
   ]
  },
  {
   "cell_type": "code",
   "execution_count": 83,
   "id": "ad4c7c8d",
   "metadata": {},
   "outputs": [
    {
     "name": "stdout",
     "output_type": "stream",
     "text": [
      "Tamaño original (sin SMOTE): (2424, 16640)\n"
     ]
    }
   ],
   "source": [
    "from sklearn.feature_extraction.text import TfidfVectorizer\n",
    "\n",
    "# 1. Convertir tokens a string\n",
    "X_text = [\" \".join(tokens) for tokens in X]\n",
    "\n",
    "# 2. Vectorizar con TF-IDF\n",
    "vectorizer = TfidfVectorizer()\n",
    "X_vectorized = vectorizer.fit_transform(X_text)\n",
    "\n",
    "print(\"Tamaño original (sin SMOTE):\", X_vectorized.shape)\n"
   ]
  },
  {
   "cell_type": "markdown",
   "id": "7c061dfd",
   "metadata": {},
   "source": [
    "Con esta técnica el tamaño del dataset pasó de 2424 muestras a 3075 muestras, logrando un balance entre las tres clases. "
   ]
  },
  {
   "cell_type": "code",
   "execution_count": 84,
   "id": "ea131148",
   "metadata": {},
   "outputs": [
    {
     "name": "stdout",
     "output_type": "stream",
     "text": [
      "Tamaño con SMOTE: (3075, 16640)\n",
      "Accuracy por fold con SMOTE: [0.98211382 0.9804878  0.98373984 0.98861789 0.99186992]\n",
      "Accuracy promedio con SMOTE: 0.9853658536585366\n",
      "\n",
      "=== Reporte con SMOTE (Test) ===\n",
      "              precision    recall  f1-score   support\n",
      "\n",
      "           1       0.98      0.98      0.98       205\n",
      "           3       0.98      0.96      0.97       205\n",
      "           4       0.98      0.99      0.98       205\n",
      "\n",
      "    accuracy                           0.98       615\n",
      "   macro avg       0.98      0.98      0.98       615\n",
      "weighted avg       0.98      0.98      0.98       615\n",
      "\n"
     ]
    },
    {
     "data": {
      "image/png": "[encoded data removed]",
      "text/plain": [
       "<Figure size 640x480 with 2 Axes>"
      ]
     },
     "metadata": {},
     "output_type": "display_data"
    }
   ],
   "source": [
    "from sklearn.svm import LinearSVC\n",
    "from sklearn.model_selection import train_test_split, cross_val_score\n",
    "from imblearn.over_sampling import SMOTE\n",
    "from sklearn.metrics import classification_report, confusion_matrix, ConfusionMatrixDisplay\n",
    "import matplotlib.pyplot as plt\n",
    "\n",
    "# 3. Aplicar SMOTE para balancear\n",
    "smote = SMOTE(random_state=42)\n",
    "X_resampled, y_resampled = smote.fit_resample(X_vectorized, y)\n",
    "\n",
    "print(\"Tamaño con SMOTE:\", X_resampled.shape)\n",
    "\n",
    "# 4. Validación cruzada con LinearSVC\n",
    "clf = LinearSVC(random_state=42)\n",
    "scores = cross_val_score(clf, X_resampled, y_resampled, cv=5, scoring=\"accuracy\")\n",
    "print(\"Accuracy por fold con SMOTE:\", scores)\n",
    "print(\"Accuracy promedio con SMOTE:\", scores.mean())\n",
    "\n",
    "# 5. Split train/test\n",
    "X_train, X_test, y_train, y_test = train_test_split(\n",
    "    X_resampled, y_resampled, test_size=0.2, random_state=42, stratify=y_resampled\n",
    ")\n",
    "\n",
    "clf.fit(X_train, y_train)\n",
    "y_pred = clf.predict(X_test)\n",
    "\n",
    "print(\"\\n=== Reporte con SMOTE (Test) ===\")\n",
    "print(classification_report(y_test, y_pred))\n",
    "\n",
    "# 6. Matriz de confusión\n",
    "cm = confusion_matrix(y_test, y_pred)\n",
    "disp = ConfusionMatrixDisplay(confusion_matrix=cm)\n",
    "disp.plot(cmap=plt.cm.Blues)\n",
    "plt.title(\"Matriz de Confusión con SMOTE\")\n",
    "plt.show()\n"
   ]
  },
  {
   "cell_type": "markdown",
   "id": "6dd5700a",
   "metadata": {},
   "source": [
    "Al entrenar nuevamente el modelo LinearSVC con estos datos balanceados y evaluar mediante validación cruzada, se obtuvo un accuracy promedio de aproximadamente 98.5%, superior al alcanzado sin balanceo (≈97.5%). En el conjunto de prueba, los resultados mostraron métricas muy homogéneas entre clases, con valores de precision, recall y f1-score cercanos a 0.98 para todas ellas.\n",
    "\n",
    "#### 4.1.4 Palabras mas usadas\n",
    "\n",
    "Para interpretar el modelo y comprender qué términos influyen más en la clasificación, se extraen los coeficientes del LinearSVC asociados a cada clase. Estos coeficientes reflejan el peso que tiene cada palabra (según la representación TF-IDF) para decidir la pertenencia a una categoría. A continuación, se muestran las 10 palabras más asociadas y las 10 menos asociadas a cada clase en forma de tabla."
   ]
  },
  {
   "cell_type": "code",
   "execution_count": 85,
   "id": "ea417597",
   "metadata": {},
   "outputs": [
    {
     "name": "stdout",
     "output_type": "stream",
     "text": [
      "\n",
      "=== Clase 1 ===\n",
      "Palabras más asociadas:\n",
      "- ipm\n",
      "- pobrezar\n",
      "- hogar\n",
      "- social\n",
      "- proteccion\n",
      "- pobre\n",
      "- pobr\n",
      "- privacion\n",
      "- pobreza\n",
      "- pobrez\n",
      "Palabras menos asociadas:\n",
      "- salud\n",
      "- educ\n",
      "- enfermedad\n",
      "- atencion\n",
      "- escuel\n",
      "- escuela\n",
      "- ocde\n",
      "- estudi\n",
      "- alcohol\n",
      "- educativo\n",
      "\n",
      "=== Clase 3 ===\n",
      "Palabras más asociadas:\n",
      "- medico\n",
      "- mental\n",
      "- sanitario\n",
      "- sanitari\n",
      "- hospital\n",
      "- alcohol\n",
      "- medic\n",
      "- enfermedad\n",
      "- atencion\n",
      "- salud\n",
      "Palabras menos asociadas:\n",
      "- pobrez\n",
      "- educ\n",
      "- pobreza\n",
      "- educacion\n",
      "- estudi\n",
      "- escuel\n",
      "- escolar\n",
      "- escuela\n",
      "- profesor\n",
      "- pobr\n",
      "\n",
      "=== Clase 4 ===\n",
      "Palabras más asociadas:\n",
      "- alumno\n",
      "- estudiante\n",
      "- escolar\n",
      "- profesor\n",
      "- educativo\n",
      "- escuela\n",
      "- educacion\n",
      "- escuel\n",
      "- estudi\n",
      "- educ\n",
      "Palabras menos asociadas:\n",
      "- salud\n",
      "- pobrez\n",
      "- pobreza\n",
      "- medic\n",
      "- atencion\n",
      "- mental\n",
      "- hospital\n",
      "- enfermedad\n",
      "- pobre\n",
      "- pobr\n"
     ]
    }
   ],
   "source": [
    "import numpy as np\n",
    "\n",
    "# 1. Volvemos a entrenar con todo el dataset balanceado\n",
    "clf = LinearSVC(random_state=42)\n",
    "clf.fit(X_resampled, y_resampled)\n",
    "\n",
    "# 2. Recuperamos las palabras del vectorizador\n",
    "feature_names = vectorizer.get_feature_names_out()\n",
    "\n",
    "# 3. Mostrar top palabras por clase\n",
    "def show_words(list_words):\n",
    "    for w in list_words:\n",
    "        print(f\"- {w}\")\n",
    "\n",
    "for i, clase in enumerate(clf.classes_):\n",
    "    coef = clf.coef_[i]\n",
    "\n",
    "    # Top 10 palabras más asociadas a esta clase\n",
    "    top_pos = np.argsort(coef)[-10:]\n",
    "    # Top 10 menos asociadas (indicativas de otras clases)\n",
    "    top_neg = np.argsort(coef)[:10]\n",
    "\n",
    "    print(f\"\\n=== Clase {clase} ===\")\n",
    "    print(\"Palabras más asociadas:\")\n",
    "    show_words(feature_names[top_pos])\n",
    "\n",
    "    print(\"Palabras menos asociadas:\")\n",
    "    show_words(feature_names[top_neg])\n"
   ]
  },
  {
   "cell_type": "code",
   "execution_count": 86,
   "id": "7c40b036",
   "metadata": {},
   "outputs": [
    {
     "name": "stdout",
     "output_type": "stream",
     "text": [
      "\n",
      "=== Clase 1 ===\n"
     ]
    },
    {
     "data": {
      "application/vnd.microsoft.datawrangler.viewer.v0+json": {
       "columns": [
        {
         "name": "index",
         "rawType": "int64",
         "type": "integer"
        },
        {
         "name": "Palabras más asociadas",
         "rawType": "object",
         "type": "string"
        },
        {
         "name": "Peso (+)",
         "rawType": "float64",
         "type": "float"
        },
        {
         "name": "Palabras menos asociadas",
         "rawType": "object",
         "type": "string"
        },
        {
         "name": "Peso (-)",
         "rawType": "float64",
         "type": "float"
        }
       ],
       "ref": "844a42ec-a9ae-4d39-9a87-e37974c17b7f",
       "rows": [
        [
         "0",
         "pobrez",
         "4.128098592972901",
         "salud",
         "-2.0919630383601486"
        ],
        [
         "1",
         "pobreza",
         "2.7324904377872845",
         "educ",
         "-1.3194441404701598"
        ],
        [
         "2",
         "privacion",
         "2.0044934048868046",
         "enfermedad",
         "-1.2774979479379827"
        ],
        [
         "3",
         "pobr",
         "1.8409419586731859",
         "atencion",
         "-1.218214367682385"
        ],
        [
         "4",
         "pobre",
         "1.8409419586731859",
         "escuel",
         "-1.104474036758668"
        ],
        [
         "5",
         "proteccion",
         "1.5366128487607522",
         "escuela",
         "-1.0476566001159449"
        ],
        [
         "6",
         "social",
         "1.3417959327105249",
         "ocde",
         "-0.9660194463019"
        ],
        [
         "7",
         "hogar",
         "1.3355563322592625",
         "estudi",
         "-0.9467474784217866"
        ],
        [
         "8",
         "pobrezar",
         "1.2343906901165425",
         "alcohol",
         "-0.9225687393558456"
        ],
        [
         "9",
         "ipm",
         "1.0862659646795343",
         "educativo",
         "-0.9058894558894994"
        ]
       ],
       "shape": {
        "columns": 4,
        "rows": 10
       }
      },
      "text/html": [
       "<div>\n",
       "<style scoped>\n",
       "    .dataframe tbody tr th:only-of-type {\n",
       "        vertical-align: middle;\n",
       "    }\n",
       "\n",
       "    .dataframe tbody tr th {\n",
       "        vertical-align: top;\n",
       "    }\n",
       "\n",
       "    .dataframe thead th {\n",
       "        text-align: right;\n",
       "    }\n",
       "</style>\n",
       "<table border=\"1\" class=\"dataframe\">\n",
       "  <thead>\n",
       "    <tr style=\"text-align: right;\">\n",
       "      <th></th>\n",
       "      <th>Palabras más asociadas</th>\n",
       "      <th>Peso (+)</th>\n",
       "      <th>Palabras menos asociadas</th>\n",
       "      <th>Peso (-)</th>\n",
       "    </tr>\n",
       "  </thead>\n",
       "  <tbody>\n",
       "    <tr>\n",
       "      <th>0</th>\n",
       "      <td>pobrez</td>\n",
       "      <td>4.128099</td>\n",
       "      <td>salud</td>\n",
       "      <td>-2.091963</td>\n",
       "    </tr>\n",
       "    <tr>\n",
       "      <th>1</th>\n",
       "      <td>pobreza</td>\n",
       "      <td>2.732490</td>\n",
       "      <td>educ</td>\n",
       "      <td>-1.319444</td>\n",
       "    </tr>\n",
       "    <tr>\n",
       "      <th>2</th>\n",
       "      <td>privacion</td>\n",
       "      <td>2.004493</td>\n",
       "      <td>enfermedad</td>\n",
       "      <td>-1.277498</td>\n",
       "    </tr>\n",
       "    <tr>\n",
       "      <th>3</th>\n",
       "      <td>pobr</td>\n",
       "      <td>1.840942</td>\n",
       "      <td>atencion</td>\n",
       "      <td>-1.218214</td>\n",
       "    </tr>\n",
       "    <tr>\n",
       "      <th>4</th>\n",
       "      <td>pobre</td>\n",
       "      <td>1.840942</td>\n",
       "      <td>escuel</td>\n",
       "      <td>-1.104474</td>\n",
       "    </tr>\n",
       "    <tr>\n",
       "      <th>5</th>\n",
       "      <td>proteccion</td>\n",
       "      <td>1.536613</td>\n",
       "      <td>escuela</td>\n",
       "      <td>-1.047657</td>\n",
       "    </tr>\n",
       "    <tr>\n",
       "      <th>6</th>\n",
       "      <td>social</td>\n",
       "      <td>1.341796</td>\n",
       "      <td>ocde</td>\n",
       "      <td>-0.966019</td>\n",
       "    </tr>\n",
       "    <tr>\n",
       "      <th>7</th>\n",
       "      <td>hogar</td>\n",
       "      <td>1.335556</td>\n",
       "      <td>estudi</td>\n",
       "      <td>-0.946747</td>\n",
       "    </tr>\n",
       "    <tr>\n",
       "      <th>8</th>\n",
       "      <td>pobrezar</td>\n",
       "      <td>1.234391</td>\n",
       "      <td>alcohol</td>\n",
       "      <td>-0.922569</td>\n",
       "    </tr>\n",
       "    <tr>\n",
       "      <th>9</th>\n",
       "      <td>ipm</td>\n",
       "      <td>1.086266</td>\n",
       "      <td>educativo</td>\n",
       "      <td>-0.905889</td>\n",
       "    </tr>\n",
       "  </tbody>\n",
       "</table>\n",
       "</div>"
      ],
      "text/plain": [
       "  Palabras más asociadas  Peso (+) Palabras menos asociadas  Peso (-)\n",
       "0                 pobrez  4.128099                    salud -2.091963\n",
       "1                pobreza  2.732490                     educ -1.319444\n",
       "2              privacion  2.004493               enfermedad -1.277498\n",
       "3                   pobr  1.840942                 atencion -1.218214\n",
       "4                  pobre  1.840942                   escuel -1.104474\n",
       "5             proteccion  1.536613                  escuela -1.047657\n",
       "6                 social  1.341796                     ocde -0.966019\n",
       "7                  hogar  1.335556                   estudi -0.946747\n",
       "8               pobrezar  1.234391                  alcohol -0.922569\n",
       "9                    ipm  1.086266                educativo -0.905889"
      ]
     },
     "metadata": {},
     "output_type": "display_data"
    },
    {
     "name": "stdout",
     "output_type": "stream",
     "text": [
      "\n",
      "=== Clase 3 ===\n"
     ]
    },
    {
     "data": {
      "application/vnd.microsoft.datawrangler.viewer.v0+json": {
       "columns": [
        {
         "name": "index",
         "rawType": "int64",
         "type": "integer"
        },
        {
         "name": "Palabras más asociadas",
         "rawType": "object",
         "type": "string"
        },
        {
         "name": "Peso (+)",
         "rawType": "float64",
         "type": "float"
        },
        {
         "name": "Palabras menos asociadas",
         "rawType": "object",
         "type": "string"
        },
        {
         "name": "Peso (-)",
         "rawType": "float64",
         "type": "float"
        }
       ],
       "ref": "a488aae0-8612-4851-b1a5-7b379d30ed61",
       "rows": [
        [
         "0",
         "salud",
         "4.127434652389133",
         "pobrez",
         "-2.6002528530323676"
        ],
        [
         "1",
         "atencion",
         "2.0943720665204184",
         "educ",
         "-2.321096577600053"
        ],
        [
         "2",
         "enfermedad",
         "2.0473891558678528",
         "pobreza",
         "-1.8767604975704053"
        ],
        [
         "3",
         "medic",
         "1.7236412758451707",
         "educacion",
         "-1.780079755320788"
        ],
        [
         "4",
         "alcohol",
         "1.6787664630505723",
         "estudi",
         "-1.4673548275232051"
        ],
        [
         "5",
         "hospital",
         "1.6122232671100931",
         "escuel",
         "-1.3567840622329927"
        ],
        [
         "6",
         "sanitari",
         "1.484237063212179",
         "escolar",
         "-1.3244685418405675"
        ],
        [
         "7",
         "sanitario",
         "1.428125788238675",
         "escuela",
         "-1.1874181110019486"
        ],
        [
         "8",
         "mental",
         "1.4166551338881208",
         "profesor",
         "-1.1821251322997177"
        ],
        [
         "9",
         "medico",
         "1.2737250586709556",
         "pobr",
         "-1.1560518399712283"
        ]
       ],
       "shape": {
        "columns": 4,
        "rows": 10
       }
      },
      "text/html": [
       "<div>\n",
       "<style scoped>\n",
       "    .dataframe tbody tr th:only-of-type {\n",
       "        vertical-align: middle;\n",
       "    }\n",
       "\n",
       "    .dataframe tbody tr th {\n",
       "        vertical-align: top;\n",
       "    }\n",
       "\n",
       "    .dataframe thead th {\n",
       "        text-align: right;\n",
       "    }\n",
       "</style>\n",
       "<table border=\"1\" class=\"dataframe\">\n",
       "  <thead>\n",
       "    <tr style=\"text-align: right;\">\n",
       "      <th></th>\n",
       "      <th>Palabras más asociadas</th>\n",
       "      <th>Peso (+)</th>\n",
       "      <th>Palabras menos asociadas</th>\n",
       "      <th>Peso (-)</th>\n",
       "    </tr>\n",
       "  </thead>\n",
       "  <tbody>\n",
       "    <tr>\n",
       "      <th>0</th>\n",
       "      <td>salud</td>\n",
       "      <td>4.127435</td>\n",
       "      <td>pobrez</td>\n",
       "      <td>-2.600253</td>\n",
       "    </tr>\n",
       "    <tr>\n",
       "      <th>1</th>\n",
       "      <td>atencion</td>\n",
       "      <td>2.094372</td>\n",
       "      <td>educ</td>\n",
       "      <td>-2.321097</td>\n",
       "    </tr>\n",
       "    <tr>\n",
       "      <th>2</th>\n",
       "      <td>enfermedad</td>\n",
       "      <td>2.047389</td>\n",
       "      <td>pobreza</td>\n",
       "      <td>-1.876760</td>\n",
       "    </tr>\n",
       "    <tr>\n",
       "      <th>3</th>\n",
       "      <td>medic</td>\n",
       "      <td>1.723641</td>\n",
       "      <td>educacion</td>\n",
       "      <td>-1.780080</td>\n",
       "    </tr>\n",
       "    <tr>\n",
       "      <th>4</th>\n",
       "      <td>alcohol</td>\n",
       "      <td>1.678766</td>\n",
       "      <td>estudi</td>\n",
       "      <td>-1.467355</td>\n",
       "    </tr>\n",
       "    <tr>\n",
       "      <th>5</th>\n",
       "      <td>hospital</td>\n",
       "      <td>1.612223</td>\n",
       "      <td>escuel</td>\n",
       "      <td>-1.356784</td>\n",
       "    </tr>\n",
       "    <tr>\n",
       "      <th>6</th>\n",
       "      <td>sanitari</td>\n",
       "      <td>1.484237</td>\n",
       "      <td>escolar</td>\n",
       "      <td>-1.324469</td>\n",
       "    </tr>\n",
       "    <tr>\n",
       "      <th>7</th>\n",
       "      <td>sanitario</td>\n",
       "      <td>1.428126</td>\n",
       "      <td>escuela</td>\n",
       "      <td>-1.187418</td>\n",
       "    </tr>\n",
       "    <tr>\n",
       "      <th>8</th>\n",
       "      <td>mental</td>\n",
       "      <td>1.416655</td>\n",
       "      <td>profesor</td>\n",
       "      <td>-1.182125</td>\n",
       "    </tr>\n",
       "    <tr>\n",
       "      <th>9</th>\n",
       "      <td>medico</td>\n",
       "      <td>1.273725</td>\n",
       "      <td>pobr</td>\n",
       "      <td>-1.156052</td>\n",
       "    </tr>\n",
       "  </tbody>\n",
       "</table>\n",
       "</div>"
      ],
      "text/plain": [
       "  Palabras más asociadas  Peso (+) Palabras menos asociadas  Peso (-)\n",
       "0                  salud  4.127435                   pobrez -2.600253\n",
       "1               atencion  2.094372                     educ -2.321097\n",
       "2             enfermedad  2.047389                  pobreza -1.876760\n",
       "3                  medic  1.723641                educacion -1.780080\n",
       "4                alcohol  1.678766                   estudi -1.467355\n",
       "5               hospital  1.612223                   escuel -1.356784\n",
       "6               sanitari  1.484237                  escolar -1.324469\n",
       "7              sanitario  1.428126                  escuela -1.187418\n",
       "8                 mental  1.416655                 profesor -1.182125\n",
       "9                 medico  1.273725                     pobr -1.156052"
      ]
     },
     "metadata": {},
     "output_type": "display_data"
    },
    {
     "name": "stdout",
     "output_type": "stream",
     "text": [
      "\n",
      "=== Clase 4 ===\n"
     ]
    },
    {
     "data": {
      "application/vnd.microsoft.datawrangler.viewer.v0+json": {
       "columns": [
        {
         "name": "index",
         "rawType": "int64",
         "type": "integer"
        },
        {
         "name": "Palabras más asociadas",
         "rawType": "object",
         "type": "string"
        },
        {
         "name": "Peso (+)",
         "rawType": "float64",
         "type": "float"
        },
        {
         "name": "Palabras menos asociadas",
         "rawType": "object",
         "type": "string"
        },
        {
         "name": "Peso (-)",
         "rawType": "float64",
         "type": "float"
        }
       ],
       "ref": "8d03fde4-0056-4a3e-b929-9864e705f670",
       "rows": [
        [
         "0",
         "educ",
         "3.1950780136431023",
         "salud",
         "-2.831599050318301"
        ],
        [
         "1",
         "estudi",
         "2.2013290032900596",
         "pobrez",
         "-2.0925464207348208"
        ],
        [
         "2",
         "escuel",
         "2.136372316369513",
         "pobreza",
         "-1.4202955191679254"
        ],
        [
         "3",
         "educacion",
         "2.0689650897294687",
         "medic",
         "-1.2427456947073918"
        ],
        [
         "4",
         "escuela",
         "1.9235126630958879",
         "atencion",
         "-1.2276747454432377"
        ],
        [
         "5",
         "educativo",
         "1.7536162184735582",
         "mental",
         "-1.1002060162702108"
        ],
        [
         "6",
         "profesor",
         "1.6947617049720725",
         "hospital",
         "-1.0710062912373046"
        ],
        [
         "7",
         "escolar",
         "1.678971788705149",
         "enfermedad",
         "-1.0383375775629042"
        ],
        [
         "8",
         "estudiante",
         "1.476376386288433",
         "pobre",
         "-0.9582932273237639"
        ],
        [
         "9",
         "alumno",
         "1.2806578482888507",
         "pobr",
         "-0.9582932273237639"
        ]
       ],
       "shape": {
        "columns": 4,
        "rows": 10
       }
      },
      "text/html": [
       "<div>\n",
       "<style scoped>\n",
       "    .dataframe tbody tr th:only-of-type {\n",
       "        vertical-align: middle;\n",
       "    }\n",
       "\n",
       "    .dataframe tbody tr th {\n",
       "        vertical-align: top;\n",
       "    }\n",
       "\n",
       "    .dataframe thead th {\n",
       "        text-align: right;\n",
       "    }\n",
       "</style>\n",
       "<table border=\"1\" class=\"dataframe\">\n",
       "  <thead>\n",
       "    <tr style=\"text-align: right;\">\n",
       "      <th></th>\n",
       "      <th>Palabras más asociadas</th>\n",
       "      <th>Peso (+)</th>\n",
       "      <th>Palabras menos asociadas</th>\n",
       "      <th>Peso (-)</th>\n",
       "    </tr>\n",
       "  </thead>\n",
       "  <tbody>\n",
       "    <tr>\n",
       "      <th>0</th>\n",
       "      <td>educ</td>\n",
       "      <td>3.195078</td>\n",
       "      <td>salud</td>\n",
       "      <td>-2.831599</td>\n",
       "    </tr>\n",
       "    <tr>\n",
       "      <th>1</th>\n",
       "      <td>estudi</td>\n",
       "      <td>2.201329</td>\n",
       "      <td>pobrez</td>\n",
       "      <td>-2.092546</td>\n",
       "    </tr>\n",
       "    <tr>\n",
       "      <th>2</th>\n",
       "      <td>escuel</td>\n",
       "      <td>2.136372</td>\n",
       "      <td>pobreza</td>\n",
       "      <td>-1.420296</td>\n",
       "    </tr>\n",
       "    <tr>\n",
       "      <th>3</th>\n",
       "      <td>educacion</td>\n",
       "      <td>2.068965</td>\n",
       "      <td>medic</td>\n",
       "      <td>-1.242746</td>\n",
       "    </tr>\n",
       "    <tr>\n",
       "      <th>4</th>\n",
       "      <td>escuela</td>\n",
       "      <td>1.923513</td>\n",
       "      <td>atencion</td>\n",
       "      <td>-1.227675</td>\n",
       "    </tr>\n",
       "    <tr>\n",
       "      <th>5</th>\n",
       "      <td>educativo</td>\n",
       "      <td>1.753616</td>\n",
       "      <td>mental</td>\n",
       "      <td>-1.100206</td>\n",
       "    </tr>\n",
       "    <tr>\n",
       "      <th>6</th>\n",
       "      <td>profesor</td>\n",
       "      <td>1.694762</td>\n",
       "      <td>hospital</td>\n",
       "      <td>-1.071006</td>\n",
       "    </tr>\n",
       "    <tr>\n",
       "      <th>7</th>\n",
       "      <td>escolar</td>\n",
       "      <td>1.678972</td>\n",
       "      <td>enfermedad</td>\n",
       "      <td>-1.038338</td>\n",
       "    </tr>\n",
       "    <tr>\n",
       "      <th>8</th>\n",
       "      <td>estudiante</td>\n",
       "      <td>1.476376</td>\n",
       "      <td>pobre</td>\n",
       "      <td>-0.958293</td>\n",
       "    </tr>\n",
       "    <tr>\n",
       "      <th>9</th>\n",
       "      <td>alumno</td>\n",
       "      <td>1.280658</td>\n",
       "      <td>pobr</td>\n",
       "      <td>-0.958293</td>\n",
       "    </tr>\n",
       "  </tbody>\n",
       "</table>\n",
       "</div>"
      ],
      "text/plain": [
       "  Palabras más asociadas  Peso (+) Palabras menos asociadas  Peso (-)\n",
       "0                   educ  3.195078                    salud -2.831599\n",
       "1                 estudi  2.201329                   pobrez -2.092546\n",
       "2                 escuel  2.136372                  pobreza -1.420296\n",
       "3              educacion  2.068965                    medic -1.242746\n",
       "4                escuela  1.923513                 atencion -1.227675\n",
       "5              educativo  1.753616                   mental -1.100206\n",
       "6               profesor  1.694762                 hospital -1.071006\n",
       "7                escolar  1.678972               enfermedad -1.038338\n",
       "8             estudiante  1.476376                    pobre -0.958293\n",
       "9                 alumno  1.280658                     pobr -0.958293"
      ]
     },
     "metadata": {},
     "output_type": "display_data"
    }
   ],
   "source": [
    "import pandas as pd\n",
    "import numpy as np\n",
    "\n",
    "# 1. Entrenamos el modelo con todos los datos balanceados\n",
    "clf = LinearSVC(random_state=42)\n",
    "clf.fit(X_resampled, y_resampled)\n",
    "\n",
    "# 2. Obtenemos nombres de las features\n",
    "feature_names = vectorizer.get_feature_names_out()\n",
    "\n",
    "# 3. Construimos una tabla con top palabras por clase\n",
    "tables = {}\n",
    "for i, clase in enumerate(clf.classes_):\n",
    "    coef = clf.coef_[i]\n",
    "    top_pos = np.argsort(coef)[-10:][::-1]   # top 10 positivas\n",
    "    top_neg = np.argsort(coef)[:10]          # top 10 negativas\n",
    "    \n",
    "    df_class = pd.DataFrame({\n",
    "        \"Palabras más asociadas\": feature_names[top_pos],\n",
    "        \"Peso (+)\": coef[top_pos],\n",
    "        \"Palabras menos asociadas\": feature_names[top_neg],\n",
    "        \"Peso (-)\": coef[top_neg]\n",
    "    })\n",
    "    tables[clase] = df_class\n",
    "\n",
    "# 4. Mostramos cada tabla por clase\n",
    "for clase, tabla in tables.items():\n",
    "    print(f\"\\n=== Clase {clase} ===\")\n",
    "    display(tabla)\n"
   ]
  },
  {
   "cell_type": "markdown",
   "id": "f27d5f05",
   "metadata": {},
   "source": [
    "### 4.1.4 Conclusion \n",
    "\n",
    "La aplicación de LinearSVC con datos vectorizados en TF-IDF y balanceados con SMOTE permitió obtener un modelo robusto, consistente y justo entre clases. Los resultados confirman que el modelo no solo generaliza bien, sino que además evita el sesgo hacia categorías mayoritarias, alcanzando un rendimiento global muy alto (≈98%). Este enfoque se valida como una solución adecuada para la clasificación de los textos en el presente caso de estudio."
   ]
  },
  {
   "cell_type": "markdown",
   "id": "84eb60f7",
   "metadata": {},
   "source": [
    "### 4.2 Segundo Modelo Regresión Logistica (Juan Nicolas)\n",
    "\n",
    "#### 4.2.1 Regresión Logistica"
   ]
  },
  {
   "cell_type": "code",
   "execution_count": 87,
   "id": "a08f2bc5",
   "metadata": {},
   "outputs": [],
   "source": [
    "X = df_textC[\"palabras\"]                 # list of tokens per row\n",
    "y = df_textC[\"labels\"].astype(int)     # already numeric; ensure int dtype\n",
    "\n",
    "X_train, X_test, y_train, y_test = train_test_split(\n",
    "    X, y, test_size=0.2, random_state=42, stratify=y\n",
    ")"
   ]
  },
  {
   "cell_type": "code",
   "execution_count": 88,
   "id": "14f35984",
   "metadata": {},
   "outputs": [
    {
     "name": "stdout",
     "output_type": "stream",
     "text": [
      "TRAIN:\n",
      "              precision    recall  f1-score   support\n",
      "\n",
      "           1      1.000     0.990     0.995       404\n",
      "           3      0.997     0.996     0.997       715\n",
      "           4      0.993     0.999     0.996       820\n",
      "\n",
      "    accuracy                          0.996      1939\n",
      "   macro avg      0.997     0.995     0.996      1939\n",
      "weighted avg      0.996     0.996     0.996      1939\n",
      "\n",
      "TEST:\n",
      "              precision    recall  f1-score   support\n",
      "\n",
      "           1      0.969     0.921     0.944       101\n",
      "           3      0.961     0.966     0.964       179\n",
      "           4      0.962     0.980     0.971       205\n",
      "\n",
      "    accuracy                          0.963       485\n",
      "   macro avg      0.964     0.956     0.960       485\n",
      "weighted avg      0.963     0.963     0.963       485\n",
      "\n"
     ]
    }
   ],
   "source": [
    "identity = lambda x: x\n",
    "vec_tfidf = TfidfVectorizer(\n",
    "    tokenizer=identity, preprocessor=identity, token_pattern=None,\n",
    "    # sublinear_tf=True, min_df=2, ngram_range=(1,2)\n",
    ")\n",
    "\n",
    "X_train_tfidf = vec_tfidf.fit_transform(X_train)\n",
    "X_test_tfidf  = vec_tfidf.transform(X_test)\n",
    "\n",
    "\n",
    "clf = LogisticRegression(max_iter=200, n_jobs=None)  \n",
    "clf.fit(X_train_tfidf, y_train)\n",
    "\n",
    "\n",
    "# Evaluación en TRAIN\n",
    "y_train_pred = clf.predict(X_train_tfidf)\n",
    "print(\"TRAIN:\")\n",
    "print(classification_report(y_train, y_train_pred, digits=3))\n",
    "\n",
    "# Evaluación en TEST\n",
    "y_test_pred = clf.predict(X_test_tfidf) \n",
    "print(\"TEST:\")\n",
    "print(classification_report(y_test, y_test_pred, digits=3))\n"
   ]
  },
  {
   "cell_type": "markdown",
   "id": "82d4f409",
   "metadata": {},
   "source": [
    "1. Los resultados muestran que el modelo se desempeña de manera consistente, ya que el accuracy en entrenamiento (99.6%) y en prueba (96.3%) es muy similar, lo que indica que no hay señales evidentes de sobreajuste.\n",
    "2. El rendimiento entre las distintas clases también es equilibrado: las métricas de precisión, recall y f1-score se mantienen altas y sin grandes diferencias entre categorías, lo que evidencia que el modelo no está favoreciendo a una clase en particular.\n",
    "3. El alto nivel de accuracy alcanzado justifica realizar una validación adicional mediante cross-validation, con el fin de confirmar que el buen desempeño no se deba únicamente a la partición específica entre entrenamiento y prueba.\n",
    "4. Finalmente, se propone reforzar el entrenamiento con datos balanceados para reducir posibles sesgos en la distribución de clases y garantizar que el modelo generalice mejor en futuros escenarios."
   ]
  },
  {
   "cell_type": "code",
   "execution_count": 89,
   "id": "d7b9620e",
   "metadata": {},
   "outputs": [
    {
     "data": {
      "image/png": "[encoded data removed]",
      "text/plain": [
       "<Figure size 640x480 with 2 Axes>"
      ]
     },
     "metadata": {},
     "output_type": "display_data"
    }
   ],
   "source": [
    "cm = confusion_matrix(y_test, y_test_pred)\n",
    "disp=ConfusionMatrixDisplay(confusion_matrix=cm)\n",
    "disp.plot(cmap=plt.cm.Blues)\n",
    "plt.show()"
   ]
  },
  {
   "cell_type": "markdown",
   "id": "48075f20",
   "metadata": {},
   "source": [
    "### Mismo modelo (Regresion logistica)"
   ]
  },
  {
   "cell_type": "markdown",
   "id": "ed1c94fd",
   "metadata": {},
   "source": [
    "#### 4.2.2  Regresion logistica con cross validation\n"
   ]
  },
  {
   "cell_type": "code",
   "execution_count": 90,
   "id": "04087a5f",
   "metadata": {},
   "outputs": [
    {
     "name": "stdout",
     "output_type": "stream",
     "text": [
      "Cross-validation scores: [0.96494845 0.97938144 0.95670103 0.97525773 0.9731405 ]\n",
      "Promedio del accuracy (CV): 0.970\n"
     ]
    }
   ],
   "source": [
    "# Define el pipeline\n",
    "pipeline = Pipeline([\n",
    "    ('tfidf', TfidfVectorizer(tokenizer=lambda x: x, preprocessor=lambda x: x, token_pattern=None)),  # Vectorización TF-IDF\n",
    "    ('clf', LogisticRegression(max_iter=200))  # Modelo de regresión logística\n",
    "])\n",
    "\n",
    "# Cross-validation (5 pliegues)\n",
    "cv_scores = cross_val_score(pipeline, X, y, cv=5, scoring='accuracy')  # Cambia 'accuracy' por otra métrica si quieres\n",
    "\n",
    "# Resultados\n",
    "print(f\"Cross-validation scores: {cv_scores}\")\n",
    "print(f\"Promedio del accuracy (CV): {cv_scores.mean():.3f}\")"
   ]
  },
  {
   "cell_type": "markdown",
   "id": "465d3bf2",
   "metadata": {},
   "source": [
    "Como podemos ver los resultados del primer modelo si tienen sentido. el promedio del accurracy no varia mucho.\n",
    "\n",
    "A pesar de que esta dando buenos resultados el modelo , decidimos balancear la clase minoritaria para evitar overfitting del modelo."
   ]
  },
  {
   "cell_type": "markdown",
   "id": "b0b71468",
   "metadata": {},
   "source": [
    "### Mismo modelo (Regresion logistica)"
   ]
  },
  {
   "cell_type": "markdown",
   "id": "99b9d767",
   "metadata": {},
   "source": [
    "#### 4.2.3 Regresion logistica con SMOTE\n",
    "\n"
   ]
  },
  {
   "cell_type": "code",
   "execution_count": 91,
   "id": "480bfafe",
   "metadata": {},
   "outputs": [],
   "source": [
    "X = df_textC[\"palabras\"]\n",
    "y = df_textC[\"labels\"].astype(int)\n",
    "\n",
    "# 1. Definir el pipeline\n",
    "pipelineLogisticReg = ImbPipeline([\n",
    "    ('tfidf', TfidfVectorizer(tokenizer=lambda x: x, preprocessor=lambda x: x, token_pattern=None)),\n",
    "    ('smote', SMOTE(sampling_strategy='minority', random_state=42)),\n",
    "    ('clf', LogisticRegression(max_iter=200))\n",
    "])\n",
    "\n"
   ]
  },
  {
   "cell_type": "code",
   "execution_count": 92,
   "id": "42a53a76",
   "metadata": {},
   "outputs": [],
   "source": [
    "# 2. Dividir en train/test\n",
    "X_train, X_test, y_train, y_test = train_test_split(\n",
    "    X, y, test_size=0.2, random_state=42, stratify=y\n",
    ")"
   ]
  },
  {
   "cell_type": "markdown",
   "id": "ff2f0cb4",
   "metadata": {},
   "source": [
    "#### 4.2.4  Aplicacion de SMOTE\n"
   ]
  },
  {
   "cell_type": "code",
   "execution_count": 93,
   "id": "fa8b775b",
   "metadata": {},
   "outputs": [
    {
     "name": "stdout",
     "output_type": "stream",
     "text": [
      "Antes de SMOTE:\n",
      "labels\n",
      "4    820\n",
      "3    715\n",
      "1    404\n",
      "Name: count, dtype: int64\n",
      "\n",
      "Después de SMOTE:\n",
      "labels\n",
      "1    820\n",
      "4    820\n",
      "3    715\n",
      "Name: count, dtype: int64\n"
     ]
    }
   ],
   "source": [
    "\n",
    "tfidf = pipelineLogisticReg.named_steps['tfidf']\n",
    "smote_step = pipelineLogisticReg.named_steps['smote']\n",
    "\n",
    "X_tfidf = tfidf.fit_transform(X_train)        \n",
    "X_res, y_res = smote_step.fit_resample(X_tfidf, y_train)  # aplicar smote\n",
    "\n",
    "print(\"Antes de SMOTE:\")\n",
    "print(y_train.value_counts())\n",
    "print(\"\\nDespués de SMOTE:\")\n",
    "print(y_res.value_counts())\n",
    "\n"
   ]
  },
  {
   "cell_type": "code",
   "execution_count": 94,
   "id": "a73b3b58",
   "metadata": {},
   "outputs": [
    {
     "name": "stdout",
     "output_type": "stream",
     "text": [
      "TRAIN:\n",
      "              precision    recall  f1-score   support\n",
      "\n",
      "           1      0.985     0.995     0.990       404\n",
      "           3      0.997     0.992     0.994       715\n",
      "           4      0.996     0.996     0.996       820\n",
      "\n",
      "    accuracy                          0.994      1939\n",
      "   macro avg      0.993     0.994     0.994      1939\n",
      "weighted avg      0.994     0.994     0.994      1939\n",
      "\n",
      "TEST:\n",
      "              precision    recall  f1-score   support\n",
      "\n",
      "           1      0.960     0.941     0.950       101\n",
      "           3      0.966     0.966     0.966       179\n",
      "           4      0.966     0.976     0.971       205\n",
      "\n",
      "    accuracy                          0.965       485\n",
      "   macro avg      0.964     0.961     0.962       485\n",
      "weighted avg      0.965     0.965     0.965       485\n",
      "\n"
     ]
    }
   ],
   "source": [
    "# 3. Entrenar pipeline\n",
    "pipelineLogisticReg.fit(X_train, y_train)\n",
    "\n",
    "## Resultados\n",
    "# Evaluación en TRAIN\n",
    "y_train_pred = pipelineLogisticReg.predict(X_train)\n",
    "print(\"TRAIN:\")\n",
    "print(classification_report(y_train, y_train_pred, digits=3))\n",
    "\n",
    "\n",
    "\n",
    "\n",
    "# 4. Evaluación en test\n",
    "y_pred = pipelineLogisticReg.predict(X_test)\n",
    "print(\"TEST:\")\n",
    "print(classification_report(y_test, y_pred, digits=3))"
   ]
  },
  {
   "cell_type": "markdown",
   "id": "d58c7043",
   "metadata": {},
   "source": [
    "Después de aplicar SMOTE para balancear las clases y entrenar un modelo de Regresión Logística con cross validation, los resultados muestran un desempeño sólido y consistente. El modelo alcanza un accuracy del 99.4% en entrenamiento y 96.5% en prueba, con métricas de precisión, recall y f1-score equilibradas entre las clases, lo que indica ausencia de sobreajuste y buena capacidad de generalización; en conjunto."
   ]
  },
  {
   "cell_type": "markdown",
   "id": "a9f80ae3",
   "metadata": {},
   "source": [
    "### Palabras mas utilizadas por el en TF-IDF"
   ]
  },
  {
   "cell_type": "markdown",
   "id": "26f1df1e",
   "metadata": {},
   "source": [
    "Queremos ver que palabras usa el modelo para clasificar la clase."
   ]
  },
  {
   "cell_type": "code",
   "execution_count": 95,
   "id": "a80bc147",
   "metadata": {},
   "outputs": [
    {
     "name": "stdout",
     "output_type": "stream",
     "text": [
      "\n",
      "Clase 1:\n",
      "Palabras más asociadas:\n",
      "- ingres\n",
      "- ingreso\n",
      "- proteccion\n",
      "- privacion\n",
      "- social\n",
      "- hogar\n",
      "- pobr\n",
      "- pobre\n",
      "- pobreza\n",
      "- pobrez\n",
      "Palabras menos asociadas:\n",
      "- salud\n",
      "- atencion\n",
      "- ocde\n",
      "- educ\n",
      "- escuel\n",
      "- escuela\n",
      "- enfermedad\n",
      "- estudi\n",
      "- profesional\n",
      "- personal\n",
      "\n",
      "Clase 3:\n",
      "Palabras más asociadas:\n",
      "- paciente\n",
      "- sanitari\n",
      "- medico\n",
      "- alcohol\n",
      "- hospital\n",
      "- mental\n",
      "- medic\n",
      "- enfermedad\n",
      "- atencion\n",
      "- salud\n",
      "Palabras menos asociadas:\n",
      "- pobrez\n",
      "- educ\n",
      "- pobreza\n",
      "- educacion\n",
      "- escuel\n",
      "- estudi\n",
      "- escolar\n",
      "- pobr\n",
      "- pobre\n",
      "- escuela\n",
      "\n",
      "Clase 4:\n",
      "Palabras más asociadas:\n",
      "- docent\n",
      "- estudiante\n",
      "- educativo\n",
      "- profesor\n",
      "- escolar\n",
      "- escuela\n",
      "- estudi\n",
      "- educacion\n",
      "- escuel\n",
      "- educ\n",
      "Palabras menos asociadas:\n",
      "- salud\n",
      "- pobrez\n",
      "- pobreza\n",
      "- atencion\n",
      "- hogar\n",
      "- social\n",
      "- enfermedad\n",
      "- pobre\n",
      "- pobr\n",
      "- medic\n"
     ]
    }
   ],
   "source": [
    "def show_words(list_words):\n",
    "    \"\"\"Muestra las palabras más y menos asociadas a cada clase.\"\"\"\n",
    "    for i in (list_words):\n",
    "        print(f\"- {i}\")\n",
    "    \n",
    "\n",
    "\n",
    "vectorizer = pipelineLogisticReg.named_steps['tfidf']\n",
    "clf = pipelineLogisticReg.named_steps['clf']\n",
    "\n",
    "\n",
    "feature_names = vectorizer.get_feature_names_out()\n",
    "for i, clase in enumerate(clf.classes_):\n",
    "    coef = clf.coef_[i]\n",
    "    top_pos = np.argsort(coef)[-10:]   # top 10 positivas\n",
    "    top_neg = np.argsort(coef)[:10]    # top 10 negativas\n",
    "    print(f\"\\nClase {clase}:\")\n",
    "    print(\"Palabras más asociadas:\")\n",
    "    show_words(feature_names[top_pos])\n",
    "    print(\"Palabras menos asociadas:\")\n",
    "    show_words(feature_names[top_neg])"
   ]
  },
  {
   "cell_type": "markdown",
   "id": "2357f890",
   "metadata": {},
   "source": [
    "### 4.3 Entrenamiento del tercer modelo de clasificación (KNN)"
   ]
  },
  {
   "cell_type": "markdown",
   "id": "d2c5eea9",
   "metadata": {},
   "source": [
    "#### 4.3.1 Construcción del modelo"
   ]
  },
  {
   "cell_type": "code",
   "execution_count": 96,
   "id": "a36b0682",
   "metadata": {},
   "outputs": [
    {
     "name": "stdout",
     "output_type": "stream",
     "text": [
      "TRAIN:\n",
      "              precision    recall  f1-score   support\n",
      "\n",
      "           1      0.925     0.953     0.939       404\n",
      "           3      0.987     0.961     0.974       715\n",
      "           4      0.966     0.974     0.970       820\n",
      "\n",
      "    accuracy                          0.965      1939\n",
      "   macro avg      0.960     0.963     0.961      1939\n",
      "weighted avg      0.965     0.965     0.965      1939\n",
      "\n",
      "TEST:\n",
      "              precision    recall  f1-score   support\n",
      "\n",
      "           1      0.848     0.941     0.892       101\n",
      "           3      0.949     0.939     0.944       179\n",
      "           4      0.964     0.922     0.943       205\n",
      "\n",
      "    accuracy                          0.932       485\n",
      "   macro avg      0.921     0.934     0.926       485\n",
      "weighted avg      0.935     0.932     0.933       485\n",
      "\n"
     ]
    }
   ],
   "source": [
    "from sklearn.neighbors import KNeighborsClassifier\n",
    "from sklearn.metrics import classification_report\n",
    "\n",
    "clf2=KNeighborsClassifier(n_neighbors=5)\n",
    "clf2.fit(X_train_tfidf, y_train)\n",
    "\n",
    "y_train_pred= clf2.predict(X_train_tfidf)\n",
    "print(\"TRAIN:\")\n",
    "print(classification_report(y_train, y_train_pred, digits=3))\n",
    "\n",
    "y_test_pred= clf2.predict(X_test_tfidf)\n",
    "print(\"TEST:\")\n",
    "print(classification_report(y_test, y_test_pred, digits=3))"
   ]
  },
  {
   "cell_type": "markdown",
   "id": "cff21682",
   "metadata": {},
   "source": [
    "Tanto el de prueba como de entrenamiento cuenta con un % de precisión alto y similares."
   ]
  },
  {
   "cell_type": "code",
   "execution_count": 97,
   "id": "030ef61f",
   "metadata": {},
   "outputs": [
    {
     "data": {
      "image/png": "[encoded data removed]",
      "text/plain": [
       "<Figure size 640x480 with 2 Axes>"
      ]
     },
     "metadata": {},
     "output_type": "display_data"
    }
   ],
   "source": [
    "cm = confusion_matrix(y_test, y_test_pred)\n",
    "disp = ConfusionMatrixDisplay(confusion_matrix=cm)\n",
    "disp.plot(cmap=plt.cm.Blues)\n",
    "plt.show()"
   ]
  },
  {
   "cell_type": "markdown",
   "id": "9911db48",
   "metadata": {},
   "source": [
    "#### 4.3.2 Crossvalidation segun el número de vecinos"
   ]
  },
  {
   "cell_type": "code",
   "execution_count": 98,
   "id": "5be99185",
   "metadata": {},
   "outputs": [
    {
     "data": {
      "image/png": "[encoded data removed]",
      "text/plain": [
       "<Figure size 640x480 with 1 Axes>"
      ]
     },
     "metadata": {},
     "output_type": "display_data"
    }
   ],
   "source": [
    "neighbors = range(1, 21)\n",
    "scores = [cross_val_score(KNeighborsClassifier(n_neighbors=k), X_train_tfidf, y_train, cv=5, scoring=\"f1_macro\").mean() for k in neighbors]\n",
    "plt.plot(neighbors, scores, marker=\"o\")\n",
    "plt.xlabel(\"Número de vecinos (k)\")\n",
    "plt.ylabel(\"F1-macro promedio\")\n",
    "plt.title(\"Selección de K en KNN\")\n",
    "plt.show()"
   ]
  },
  {
   "cell_type": "markdown",
   "id": "c5866481",
   "metadata": {},
   "source": [
    "El anterior gráfico demuestra que se puede mejorar dicho modelo. Para el primer modelo, se llegaron a utilizar 5 vecinos. Al hacer la cross-validation, se llega a ver como al utilizar 19 vecinos se llega a un mejor f1-promedio."
   ]
  },
  {
   "cell_type": "markdown",
   "id": "4749a1db",
   "metadata": {},
   "source": [
    "#### 4.3.3 Balanceo de clases (SMOTE)"
   ]
  },
  {
   "cell_type": "code",
   "execution_count": 99,
   "id": "a4fab444",
   "metadata": {},
   "outputs": [
    {
     "name": "stdout",
     "output_type": "stream",
     "text": [
      "Antes de SMOTE: Counter({4: 820, 3: 715, 1: 404})\n"
     ]
    }
   ],
   "source": [
    "from collections import Counter\n",
    "print(\"Antes de SMOTE:\", Counter(y_train))"
   ]
  },
  {
   "cell_type": "code",
   "execution_count": 100,
   "id": "b1331970",
   "metadata": {},
   "outputs": [],
   "source": [
    "smote = SMOTE(random_state=42)\n",
    "X_train_res, y_train_res = smote.fit_resample(X_train_tfidf, y_train)"
   ]
  },
  {
   "cell_type": "code",
   "execution_count": 101,
   "id": "7f6f3ae1",
   "metadata": {},
   "outputs": [
    {
     "name": "stdout",
     "output_type": "stream",
     "text": [
      "Después de SMOTE: Counter({3: 820, 1: 820, 4: 820})\n"
     ]
    }
   ],
   "source": [
    "print(\"Después de SMOTE:\", Counter(y_train_res))"
   ]
  },
  {
   "cell_type": "code",
   "execution_count": 102,
   "id": "4987976f",
   "metadata": {},
   "outputs": [
    {
     "name": "stdout",
     "output_type": "stream",
     "text": [
      "=== Resultados del modelo con SMOTE ===\n",
      "              precision    recall  f1-score   support\n",
      "\n",
      "           1      0.792     0.980     0.876       101\n",
      "           3      0.964     0.911     0.937       179\n",
      "           4      0.969     0.902     0.934       205\n",
      "\n",
      "    accuracy                          0.922       485\n",
      "   macro avg      0.908     0.931     0.916       485\n",
      "weighted avg      0.930     0.922     0.923       485\n",
      "\n"
     ]
    }
   ],
   "source": [
    "knn_clf = KNeighborsClassifier(n_neighbors=5, weights=\"distance\", metric=\"cosine\", n_jobs=-1)\n",
    "knn_clf.fit(X_train_res, y_train_res)\n",
    "y_pred = knn_clf.predict(X_test_tfidf)\n",
    "# Resultados de clasificación\n",
    "print(\"=== Resultados del modelo con SMOTE ===\")\n",
    "print(classification_report(y_test, y_pred, digits=3))"
   ]
  },
  {
   "cell_type": "markdown",
   "id": "5a102d4c",
   "metadata": {},
   "source": [
    "#### 4.3.4 Optimización de hiperparámetros"
   ]
  },
  {
   "cell_type": "code",
   "execution_count": 103,
   "id": "9a51f747",
   "metadata": {},
   "outputs": [
    {
     "data": {
      "text/html": [
       "<style>#sk-container-id-2 {\n",
       "  /* Definition of color scheme common for light and dark mode */\n",
       "  --sklearn-color-text: black;\n",
       "  --sklearn-color-line: gray;\n",
       "  /* Definition of color scheme for unfitted estimators */\n",
       "  --sklearn-color-unfitted-level-0: #fff5e6;\n",
       "  --sklearn-color-unfitted-level-1: #f6e4d2;\n",
       "  --sklearn-color-unfitted-level-2: #ffe0b3;\n",
       "  --sklearn-color-unfitted-level-3: chocolate;\n",
       "  /* Definition of color scheme for fitted estimators */\n",
       "  --sklearn-color-fitted-level-0: #f0f8ff;\n",
       "  --sklearn-color-fitted-level-1: #d4ebff;\n",
       "  --sklearn-color-fitted-level-2: #b3dbfd;\n",
       "  --sklearn-color-fitted-level-3: cornflowerblue;\n",
       "\n",
       "  /* Specific color for light theme */\n",
       "  --sklearn-color-text-on-default-background: var(--sg-text-color, var(--theme-code-foreground, var(--jp-content-font-color1, black)));\n",
       "  --sklearn-color-background: var(--sg-background-color, var(--theme-background, var(--jp-layout-color0, white)));\n",
       "  --sklearn-color-border-box: var(--sg-text-color, var(--theme-code-foreground, var(--jp-content-font-color1, black)));\n",
       "  --sklearn-color-icon: #696969;\n",
       "\n",
       "  @media (prefers-color-scheme: dark) {\n",
       "    /* Redefinition of color scheme for dark theme */\n",
       "    --sklearn-color-text-on-default-background: var(--sg-text-color, var(--theme-code-foreground, var(--jp-content-font-color1, white)));\n",
       "    --sklearn-color-background: var(--sg-background-color, var(--theme-background, var(--jp-layout-color0, #111)));\n",
       "    --sklearn-color-border-box: var(--sg-text-color, var(--theme-code-foreground, var(--jp-content-font-color1, white)));\n",
       "    --sklearn-color-icon: #878787;\n",
       "  }\n",
       "}\n",
       "\n",
       "#sk-container-id-2 {\n",
       "  color: var(--sklearn-color-text);\n",
       "}\n",
       "\n",
       "#sk-container-id-2 pre {\n",
       "  padding: 0;\n",
       "}\n",
       "\n",
       "#sk-container-id-2 input.sk-hidden--visually {\n",
       "  border: 0;\n",
       "  clip: rect(1px 1px 1px 1px);\n",
       "  clip: rect(1px, 1px, 1px, 1px);\n",
       "  height: 1px;\n",
       "  margin: -1px;\n",
       "  overflow: hidden;\n",
       "  padding: 0;\n",
       "  position: absolute;\n",
       "  width: 1px;\n",
       "}\n",
       "\n",
       "#sk-container-id-2 div.sk-dashed-wrapped {\n",
       "  border: 1px dashed var(--sklearn-color-line);\n",
       "  margin: 0 0.4em 0.5em 0.4em;\n",
       "  box-sizing: border-box;\n",
       "  padding-bottom: 0.4em;\n",
       "  background-color: var(--sklearn-color-background);\n",
       "}\n",
       "\n",
       "#sk-container-id-2 div.sk-container {\n",
       "  /* jupyter's `normalize.less` sets `[hidden] { display: none; }`\n",
       "     but bootstrap.min.css set `[hidden] { display: none !important; }`\n",
       "     so we also need the `!important` here to be able to override the\n",
       "     default hidden behavior on the sphinx rendered scikit-learn.org.\n",
       "     See: https://github.com/scikit-learn/scikit-learn/issues/21755 */\n",
       "  display: inline-block !important;\n",
       "  position: relative;\n",
       "}\n",
       "\n",
       "#sk-container-id-2 div.sk-text-repr-fallback {\n",
       "  display: none;\n",
       "}\n",
       "\n",
       "div.sk-parallel-item,\n",
       "div.sk-serial,\n",
       "div.sk-item {\n",
       "  /* draw centered vertical line to link estimators */\n",
       "  background-image: linear-gradient(var(--sklearn-color-text-on-default-background), var(--sklearn-color-text-on-default-background));\n",
       "  background-size: 2px 100%;\n",
       "  background-repeat: no-repeat;\n",
       "  background-position: center center;\n",
       "}\n",
       "\n",
       "/* Parallel-specific style estimator block */\n",
       "\n",
       "#sk-container-id-2 div.sk-parallel-item::after {\n",
       "  content: \"\";\n",
       "  width: 100%;\n",
       "  border-bottom: 2px solid var(--sklearn-color-text-on-default-background);\n",
       "  flex-grow: 1;\n",
       "}\n",
       "\n",
       "#sk-container-id-2 div.sk-parallel {\n",
       "  display: flex;\n",
       "  align-items: stretch;\n",
       "  justify-content: center;\n",
       "  background-color: var(--sklearn-color-background);\n",
       "  position: relative;\n",
       "}\n",
       "\n",
       "#sk-container-id-2 div.sk-parallel-item {\n",
       "  display: flex;\n",
       "  flex-direction: column;\n",
       "}\n",
       "\n",
       "#sk-container-id-2 div.sk-parallel-item:first-child::after {\n",
       "  align-self: flex-end;\n",
       "  width: 50%;\n",
       "}\n",
       "\n",
       "#sk-container-id-2 div.sk-parallel-item:last-child::after {\n",
       "  align-self: flex-start;\n",
       "  width: 50%;\n",
       "}\n",
       "\n",
       "#sk-container-id-2 div.sk-parallel-item:only-child::after {\n",
       "  width: 0;\n",
       "}\n",
       "\n",
       "/* Serial-specific style estimator block */\n",
       "\n",
       "#sk-container-id-2 div.sk-serial {\n",
       "  display: flex;\n",
       "  flex-direction: column;\n",
       "  align-items: center;\n",
       "  background-color: var(--sklearn-color-background);\n",
       "  padding-right: 1em;\n",
       "  padding-left: 1em;\n",
       "}\n",
       "\n",
       "\n",
       "/* Toggleable style: style used for estimator/Pipeline/ColumnTransformer box that is\n",
       "clickable and can be expanded/collapsed.\n",
       "- Pipeline and ColumnTransformer use this feature and define the default style\n",
       "- Estimators will overwrite some part of the style using the `sk-estimator` class\n",
       "*/\n",
       "\n",
       "/* Pipeline and ColumnTransformer style (default) */\n",
       "\n",
       "#sk-container-id-2 div.sk-toggleable {\n",
       "  /* Default theme specific background. It is overwritten whether we have a\n",
       "  specific estimator or a Pipeline/ColumnTransformer */\n",
       "  background-color: var(--sklearn-color-background);\n",
       "}\n",
       "\n",
       "/* Toggleable label */\n",
       "#sk-container-id-2 label.sk-toggleable__label {\n",
       "  cursor: pointer;\n",
       "  display: block;\n",
       "  width: 100%;\n",
       "  margin-bottom: 0;\n",
       "  padding: 0.5em;\n",
       "  box-sizing: border-box;\n",
       "  text-align: center;\n",
       "}\n",
       "\n",
       "#sk-container-id-2 label.sk-toggleable__label-arrow:before {\n",
       "  /* Arrow on the left of the label */\n",
       "  content: \"▸\";\n",
       "  float: left;\n",
       "  margin-right: 0.25em;\n",
       "  color: var(--sklearn-color-icon);\n",
       "}\n",
       "\n",
       "#sk-container-id-2 label.sk-toggleable__label-arrow:hover:before {\n",
       "  color: var(--sklearn-color-text);\n",
       "}\n",
       "\n",
       "/* Toggleable content - dropdown */\n",
       "\n",
       "#sk-container-id-2 div.sk-toggleable__content {\n",
       "  max-height: 0;\n",
       "  max-width: 0;\n",
       "  overflow: hidden;\n",
       "  text-align: left;\n",
       "  /* unfitted */\n",
       "  background-color: var(--sklearn-color-unfitted-level-0);\n",
       "}\n",
       "\n",
       "#sk-container-id-2 div.sk-toggleable__content.fitted {\n",
       "  /* fitted */\n",
       "  background-color: var(--sklearn-color-fitted-level-0);\n",
       "}\n",
       "\n",
       "#sk-container-id-2 div.sk-toggleable__content pre {\n",
       "  margin: 0.2em;\n",
       "  border-radius: 0.25em;\n",
       "  color: var(--sklearn-color-text);\n",
       "  /* unfitted */\n",
       "  background-color: var(--sklearn-color-unfitted-level-0);\n",
       "}\n",
       "\n",
       "#sk-container-id-2 div.sk-toggleable__content.fitted pre {\n",
       "  /* unfitted */\n",
       "  background-color: var(--sklearn-color-fitted-level-0);\n",
       "}\n",
       "\n",
       "#sk-container-id-2 input.sk-toggleable__control:checked~div.sk-toggleable__content {\n",
       "  /* Expand drop-down */\n",
       "  max-height: 200px;\n",
       "  max-width: 100%;\n",
       "  overflow: auto;\n",
       "}\n",
       "\n",
       "#sk-container-id-2 input.sk-toggleable__control:checked~label.sk-toggleable__label-arrow:before {\n",
       "  content: \"▾\";\n",
       "}\n",
       "\n",
       "/* Pipeline/ColumnTransformer-specific style */\n",
       "\n",
       "#sk-container-id-2 div.sk-label input.sk-toggleable__control:checked~label.sk-toggleable__label {\n",
       "  color: var(--sklearn-color-text);\n",
       "  background-color: var(--sklearn-color-unfitted-level-2);\n",
       "}\n",
       "\n",
       "#sk-container-id-2 div.sk-label.fitted input.sk-toggleable__control:checked~label.sk-toggleable__label {\n",
       "  background-color: var(--sklearn-color-fitted-level-2);\n",
       "}\n",
       "\n",
       "/* Estimator-specific style */\n",
       "\n",
       "/* Colorize estimator box */\n",
       "#sk-container-id-2 div.sk-estimator input.sk-toggleable__control:checked~label.sk-toggleable__label {\n",
       "  /* unfitted */\n",
       "  background-color: var(--sklearn-color-unfitted-level-2);\n",
       "}\n",
       "\n",
       "#sk-container-id-2 div.sk-estimator.fitted input.sk-toggleable__control:checked~label.sk-toggleable__label {\n",
       "  /* fitted */\n",
       "  background-color: var(--sklearn-color-fitted-level-2);\n",
       "}\n",
       "\n",
       "#sk-container-id-2 div.sk-label label.sk-toggleable__label,\n",
       "#sk-container-id-2 div.sk-label label {\n",
       "  /* The background is the default theme color */\n",
       "  color: var(--sklearn-color-text-on-default-background);\n",
       "}\n",
       "\n",
       "/* On hover, darken the color of the background */\n",
       "#sk-container-id-2 div.sk-label:hover label.sk-toggleable__label {\n",
       "  color: var(--sklearn-color-text);\n",
       "  background-color: var(--sklearn-color-unfitted-level-2);\n",
       "}\n",
       "\n",
       "/* Label box, darken color on hover, fitted */\n",
       "#sk-container-id-2 div.sk-label.fitted:hover label.sk-toggleable__label.fitted {\n",
       "  color: var(--sklearn-color-text);\n",
       "  background-color: var(--sklearn-color-fitted-level-2);\n",
       "}\n",
       "\n",
       "/* Estimator label */\n",
       "\n",
       "#sk-container-id-2 div.sk-label label {\n",
       "  font-family: monospace;\n",
       "  font-weight: bold;\n",
       "  display: inline-block;\n",
       "  line-height: 1.2em;\n",
       "}\n",
       "\n",
       "#sk-container-id-2 div.sk-label-container {\n",
       "  text-align: center;\n",
       "}\n",
       "\n",
       "/* Estimator-specific */\n",
       "#sk-container-id-2 div.sk-estimator {\n",
       "  font-family: monospace;\n",
       "  border: 1px dotted var(--sklearn-color-border-box);\n",
       "  border-radius: 0.25em;\n",
       "  box-sizing: border-box;\n",
       "  margin-bottom: 0.5em;\n",
       "  /* unfitted */\n",
       "  background-color: var(--sklearn-color-unfitted-level-0);\n",
       "}\n",
       "\n",
       "#sk-container-id-2 div.sk-estimator.fitted {\n",
       "  /* fitted */\n",
       "  background-color: var(--sklearn-color-fitted-level-0);\n",
       "}\n",
       "\n",
       "/* on hover */\n",
       "#sk-container-id-2 div.sk-estimator:hover {\n",
       "  /* unfitted */\n",
       "  background-color: var(--sklearn-color-unfitted-level-2);\n",
       "}\n",
       "\n",
       "#sk-container-id-2 div.sk-estimator.fitted:hover {\n",
       "  /* fitted */\n",
       "  background-color: var(--sklearn-color-fitted-level-2);\n",
       "}\n",
       "\n",
       "/* Specification for estimator info (e.g. \"i\" and \"?\") */\n",
       "\n",
       "/* Common style for \"i\" and \"?\" */\n",
       "\n",
       ".sk-estimator-doc-link,\n",
       "a:link.sk-estimator-doc-link,\n",
       "a:visited.sk-estimator-doc-link {\n",
       "  float: right;\n",
       "  font-size: smaller;\n",
       "  line-height: 1em;\n",
       "  font-family: monospace;\n",
       "  background-color: var(--sklearn-color-background);\n",
       "  border-radius: 1em;\n",
       "  height: 1em;\n",
       "  width: 1em;\n",
       "  text-decoration: none !important;\n",
       "  margin-left: 1ex;\n",
       "  /* unfitted */\n",
       "  border: var(--sklearn-color-unfitted-level-1) 1pt solid;\n",
       "  color: var(--sklearn-color-unfitted-level-1);\n",
       "}\n",
       "\n",
       ".sk-estimator-doc-link.fitted,\n",
       "a:link.sk-estimator-doc-link.fitted,\n",
       "a:visited.sk-estimator-doc-link.fitted {\n",
       "  /* fitted */\n",
       "  border: var(--sklearn-color-fitted-level-1) 1pt solid;\n",
       "  color: var(--sklearn-color-fitted-level-1);\n",
       "}\n",
       "\n",
       "/* On hover */\n",
       "div.sk-estimator:hover .sk-estimator-doc-link:hover,\n",
       ".sk-estimator-doc-link:hover,\n",
       "div.sk-label-container:hover .sk-estimator-doc-link:hover,\n",
       ".sk-estimator-doc-link:hover {\n",
       "  /* unfitted */\n",
       "  background-color: var(--sklearn-color-unfitted-level-3);\n",
       "  color: var(--sklearn-color-background);\n",
       "  text-decoration: none;\n",
       "}\n",
       "\n",
       "div.sk-estimator.fitted:hover .sk-estimator-doc-link.fitted:hover,\n",
       ".sk-estimator-doc-link.fitted:hover,\n",
       "div.sk-label-container:hover .sk-estimator-doc-link.fitted:hover,\n",
       ".sk-estimator-doc-link.fitted:hover {\n",
       "  /* fitted */\n",
       "  background-color: var(--sklearn-color-fitted-level-3);\n",
       "  color: var(--sklearn-color-background);\n",
       "  text-decoration: none;\n",
       "}\n",
       "\n",
       "/* Span, style for the box shown on hovering the info icon */\n",
       ".sk-estimator-doc-link span {\n",
       "  display: none;\n",
       "  z-index: 9999;\n",
       "  position: relative;\n",
       "  font-weight: normal;\n",
       "  right: .2ex;\n",
       "  padding: .5ex;\n",
       "  margin: .5ex;\n",
       "  width: min-content;\n",
       "  min-width: 20ex;\n",
       "  max-width: 50ex;\n",
       "  color: var(--sklearn-color-text);\n",
       "  box-shadow: 2pt 2pt 4pt #999;\n",
       "  /* unfitted */\n",
       "  background: var(--sklearn-color-unfitted-level-0);\n",
       "  border: .5pt solid var(--sklearn-color-unfitted-level-3);\n",
       "}\n",
       "\n",
       ".sk-estimator-doc-link.fitted span {\n",
       "  /* fitted */\n",
       "  background: var(--sklearn-color-fitted-level-0);\n",
       "  border: var(--sklearn-color-fitted-level-3);\n",
       "}\n",
       "\n",
       ".sk-estimator-doc-link:hover span {\n",
       "  display: block;\n",
       "}\n",
       "\n",
       "/* \"?\"-specific style due to the `<a>` HTML tag */\n",
       "\n",
       "#sk-container-id-2 a.estimator_doc_link {\n",
       "  float: right;\n",
       "  font-size: 1rem;\n",
       "  line-height: 1em;\n",
       "  font-family: monospace;\n",
       "  background-color: var(--sklearn-color-background);\n",
       "  border-radius: 1rem;\n",
       "  height: 1rem;\n",
       "  width: 1rem;\n",
       "  text-decoration: none;\n",
       "  /* unfitted */\n",
       "  color: var(--sklearn-color-unfitted-level-1);\n",
       "  border: var(--sklearn-color-unfitted-level-1) 1pt solid;\n",
       "}\n",
       "\n",
       "#sk-container-id-2 a.estimator_doc_link.fitted {\n",
       "  /* fitted */\n",
       "  border: var(--sklearn-color-fitted-level-1) 1pt solid;\n",
       "  color: var(--sklearn-color-fitted-level-1);\n",
       "}\n",
       "\n",
       "/* On hover */\n",
       "#sk-container-id-2 a.estimator_doc_link:hover {\n",
       "  /* unfitted */\n",
       "  background-color: var(--sklearn-color-unfitted-level-3);\n",
       "  color: var(--sklearn-color-background);\n",
       "  text-decoration: none;\n",
       "}\n",
       "\n",
       "#sk-container-id-2 a.estimator_doc_link.fitted:hover {\n",
       "  /* fitted */\n",
       "  background-color: var(--sklearn-color-fitted-level-3);\n",
       "}\n",
       "</style><div id=\"sk-container-id-2\" class=\"sk-top-container\"><div class=\"sk-text-repr-fallback\"><pre>GridSearchCV(cv=KFold(n_splits=5, random_state=0, shuffle=True),\n",
       "             estimator=KNeighborsClassifier(), n_jobs=-1,\n",
       "             param_grid={&#x27;metric&#x27;: [&#x27;euclidean&#x27;, &#x27;manhattan&#x27;, &#x27;cosine&#x27;],\n",
       "                         &#x27;n_neighbors&#x27;: [3, 5, 7, 9, 11, 13, 17, 19],\n",
       "                         &#x27;weights&#x27;: [&#x27;uniform&#x27;, &#x27;distance&#x27;]},\n",
       "             scoring=&#x27;f1_macro&#x27;)</pre><b>In a Jupyter environment, please rerun this cell to show the HTML representation or trust the notebook. <br />On GitHub, the HTML representation is unable to render, please try loading this page with nbviewer.org.</b></div><div class=\"sk-container\" hidden><div class=\"sk-item sk-dashed-wrapped\"><div class=\"sk-label-container\"><div class=\"sk-label fitted sk-toggleable\"><input class=\"sk-toggleable__control sk-hidden--visually\" id=\"sk-estimator-id-4\" type=\"checkbox\" ><label for=\"sk-estimator-id-4\" class=\"sk-toggleable__label fitted sk-toggleable__label-arrow fitted\">&nbsp;&nbsp;GridSearchCV<a class=\"sk-estimator-doc-link fitted\" rel=\"noreferrer\" target=\"_blank\" href=\"https://scikit-learn.org/1.5/modules/generated/sklearn.model_selection.GridSearchCV.html\">?<span>Documentation for GridSearchCV</span></a><span class=\"sk-estimator-doc-link fitted\">i<span>Fitted</span></span></label><div class=\"sk-toggleable__content fitted\"><pre>GridSearchCV(cv=KFold(n_splits=5, random_state=0, shuffle=True),\n",
       "             estimator=KNeighborsClassifier(), n_jobs=-1,\n",
       "             param_grid={&#x27;metric&#x27;: [&#x27;euclidean&#x27;, &#x27;manhattan&#x27;, &#x27;cosine&#x27;],\n",
       "                         &#x27;n_neighbors&#x27;: [3, 5, 7, 9, 11, 13, 17, 19],\n",
       "                         &#x27;weights&#x27;: [&#x27;uniform&#x27;, &#x27;distance&#x27;]},\n",
       "             scoring=&#x27;f1_macro&#x27;)</pre></div> </div></div><div class=\"sk-parallel\"><div class=\"sk-parallel-item\"><div class=\"sk-item\"><div class=\"sk-label-container\"><div class=\"sk-label fitted sk-toggleable\"><input class=\"sk-toggleable__control sk-hidden--visually\" id=\"sk-estimator-id-5\" type=\"checkbox\" ><label for=\"sk-estimator-id-5\" class=\"sk-toggleable__label fitted sk-toggleable__label-arrow fitted\">best_estimator_: KNeighborsClassifier</label><div class=\"sk-toggleable__content fitted\"><pre>KNeighborsClassifier(metric=&#x27;cosine&#x27;, n_neighbors=13, weights=&#x27;distance&#x27;)</pre></div> </div></div><div class=\"sk-serial\"><div class=\"sk-item\"><div class=\"sk-estimator fitted sk-toggleable\"><input class=\"sk-toggleable__control sk-hidden--visually\" id=\"sk-estimator-id-6\" type=\"checkbox\" ><label for=\"sk-estimator-id-6\" class=\"sk-toggleable__label fitted sk-toggleable__label-arrow fitted\">&nbsp;KNeighborsClassifier<a class=\"sk-estimator-doc-link fitted\" rel=\"noreferrer\" target=\"_blank\" href=\"https://scikit-learn.org/1.5/modules/generated/sklearn.neighbors.KNeighborsClassifier.html\">?<span>Documentation for KNeighborsClassifier</span></a></label><div class=\"sk-toggleable__content fitted\"><pre>KNeighborsClassifier(metric=&#x27;cosine&#x27;, n_neighbors=13, weights=&#x27;distance&#x27;)</pre></div> </div></div></div></div></div></div></div></div></div>"
      ],
      "text/plain": [
       "GridSearchCV(cv=KFold(n_splits=5, random_state=0, shuffle=True),\n",
       "             estimator=KNeighborsClassifier(), n_jobs=-1,\n",
       "             param_grid={'metric': ['euclidean', 'manhattan', 'cosine'],\n",
       "                         'n_neighbors': [3, 5, 7, 9, 11, 13, 17, 19],\n",
       "                         'weights': ['uniform', 'distance']},\n",
       "             scoring='f1_macro')"
      ]
     },
     "execution_count": 103,
     "metadata": {},
     "output_type": "execute_result"
    }
   ],
   "source": [
    "from sklearn.model_selection import KFold\n",
    "# Parametros a probar\n",
    "param_grid = {\n",
    "    \"n_neighbors\": [3, 5, 7, 9, 11, 13, 17, 19],  # número de vecinos\n",
    "    \"weights\": [\"uniform\", \"distance\"],         # todos iguales o ponderados por distancia\n",
    "    \"metric\": [\"euclidean\", \"manhattan\", \"cosine\"]  # diferentes métricas de distancia\n",
    "}\n",
    "particiones = KFold(n_splits=5, shuffle=True, random_state = 0)\n",
    "# GridSearchCV con 5 particiones y F1-macro como métrica\n",
    "mejor_modelo = GridSearchCV(KNeighborsClassifier(), param_grid, cv=particiones, scoring=\"f1_macro\", n_jobs=-1)\n",
    "mejor_modelo.fit(X_train_res, y_train_res)"
   ]
  },
  {
   "cell_type": "code",
   "execution_count": 104,
   "id": "96835a3b",
   "metadata": {},
   "outputs": [
    {
     "data": {
      "text/plain": [
       "{'metric': 'cosine', 'n_neighbors': 13, 'weights': 'distance'}"
      ]
     },
     "execution_count": 104,
     "metadata": {},
     "output_type": "execute_result"
    }
   ],
   "source": [
    "mejor_modelo.best_params_"
   ]
  },
  {
   "cell_type": "code",
   "execution_count": 105,
   "id": "313835bc",
   "metadata": {},
   "outputs": [
    {
     "name": "stdout",
     "output_type": "stream",
     "text": [
      "=== Resultados del mejor modelo ===\n",
      "              precision    recall  f1-score   support\n",
      "\n",
      "           1      0.795     1.000     0.886       101\n",
      "           3      0.964     0.894     0.928       179\n",
      "           4      0.969     0.907     0.937       205\n",
      "\n",
      "    accuracy                          0.922       485\n",
      "   macro avg      0.909     0.934     0.917       485\n",
      "weighted avg      0.931     0.922     0.923       485\n",
      "\n"
     ]
    }
   ],
   "source": [
    "knn_final = mejor_modelo.best_estimator_\n",
    "y_pred = knn_final.predict(X_test_tfidf)\n",
    "print(\"=== Resultados del mejor modelo ===\")\n",
    "print(classification_report(y_test, y_pred, digits=3))\n"
   ]
  },
  {
   "cell_type": "markdown",
   "id": "16175030",
   "metadata": {},
   "source": [
    "### Resultados"
   ]
  },
  {
   "cell_type": "markdown",
   "id": "a23c97ad",
   "metadata": {},
   "source": [
    "Despues de aplicar los 3 modelos se selecciono el de regresion logistica , con cross validation y Smote , ya que es el que da un valor mejor valor de accuracy y es consistente entre clases para clasificar."
   ]
  },
  {
   "cell_type": "code",
   "execution_count": 107,
   "id": "516aa17a",
   "metadata": {},
   "outputs": [],
   "source": [
    "df_test = pd.read_excel('data/Datos de prueba_proyecto.xlsx')\n",
    "df_process = df_test.copy()\n",
    "\n",
    "\"\"\"Remove non-ASCII characters from list of tokenized words\"\"\"\n",
    "def remove_non_ascii(words):\n",
    "    new_words = []\n",
    "    for word in words:\n",
    "        if word is not None:\n",
    "          new_word = unicodedata.normalize('NFKD', word).encode('ascii', 'ignore').decode('utf-8', 'ignore')\n",
    "          new_words.append(new_word)\n",
    "    return new_words\n",
    "\n",
    "\"\"\"Convert all characters to lowercase from list of tokenized words \"\"\"\n",
    "def to_lowercase(words):\n",
    "    return [ word.lower() for word in words]\n",
    "\n",
    "\"\"\"Remove punctuation from list of tokenized words\"\"\"\n",
    "def remove_punctuation(words):\n",
    "    new_words = []\n",
    "    for word in words:\n",
    "        if word is not None:\n",
    "            new_word = re.sub(r'[^\\w\\s]', '', word)\n",
    "            if new_word != '':\n",
    "                new_words.append(new_word)\n",
    "    return new_words\n",
    "\n",
    "\"\"\"Remove stop words from list of tokenized words\"\"\"\n",
    "def remove_stopwords(words):\n",
    "    stop_words = set(stopwords.words(\"spanish\"))\n",
    "    return [w for w in words if w.lower() not in stop_words]\n",
    "  \n",
    "\"\"\"Make all transformations to text\"\"\"\n",
    "def preprocessing(words):\n",
    "    words = to_lowercase(words)\n",
    "    words = remove_punctuation(words)\n",
    "    words = remove_non_ascii(words)\n",
    "    words = remove_stopwords(words)\n",
    "    return words\n",
    "\n",
    "\n",
    "df_process['palabras'] = df_process['Textos_espanol'].apply(word_tokenize)\n",
    "df_process['palabras'] = df_process['palabras'].apply(preprocessing)\n",
    "\n",
    "#Textos es el texto largo\n",
    "df_process['palabrasProces'] = df_process['palabras'].apply(preprocessing)\n",
    "\n",
    "stemmer = SnowballStemmer(\"spanish\")\n",
    "\n",
    "# Load spaCy Spanish model\n",
    "nlp = spacy.load(\"es_core_news_sm\")\n",
    "\n",
    "\n",
    "\n",
    "def stem_words(words):\n",
    "    \"\"\"Stem words in list of tokenized words (Spanish).\"\"\"\n",
    "    return [stemmer.stem(w) for w in words]\n",
    "\n",
    "def lemmatize_verbs(words):\n",
    "    \"\"\"Lemmatize words in list of tokenized words (Spanish).\"\"\"\n",
    "    doc = nlp(\" \".join(words))\n",
    "    # Return lemmas, focusing on verbs (if you want *all words*, remove the if check)\n",
    "    return [token.lemma_ for token in doc]\n",
    "\n",
    "def stem_and_lemmatize(words):\n",
    "    \"\"\"Combine stems and lemmas (verbs) if needed.\"\"\"\n",
    "    stems = stem_words(words)\n",
    "    lemmas = lemmatize_verbs(words)\n",
    "    return stems + lemmas\n",
    "\n",
    "df_process['palabras'] = df_process['palabrasProces'].apply(stem_and_lemmatize)\n",
    "\n",
    "df_test['labels'] = pipelineLogisticReg.predict(df_process['palabras'])\n",
    "df_test.to_excel(\"predicciones_ONU.xlsx\", index=False)\n",
    "\n",
    "\n",
    "\n",
    "\n"
   ]
  },
  {
   "cell_type": "code",
   "execution_count": null,
   "id": "5818093b",
   "metadata": {},
   "outputs": [
    {
     "data": {
      "image/png": "[encoded data removed]",
      "text/plain": [
       "<Figure size 640x480 with 1 Axes>"
      ]
     },
     "metadata": {},
     "output_type": "display_data"
    },
    {
     "data": {
      "application/vnd.microsoft.datawrangler.viewer.v0+json": {
       "columns": [
        {
         "name": "labels",
         "rawType": "int32",
         "type": "integer"
        },
        {
         "name": "count",
         "rawType": "int64",
         "type": "integer"
        }
       ],
       "ref": "b0b4752f-0d5c-490b-ad3e-508d71d5ae9b",
       "rows": [
        [
         "3",
         "52"
        ],
        [
         "4",
         "50"
        ],
        [
         "1",
         "50"
        ]
       ],
       "shape": {
        "columns": 1,
        "rows": 3
       }
      },
      "text/plain": [
       "labels\n",
       "3    52\n",
       "4    50\n",
       "1    50\n",
       "Name: count, dtype: int64"
      ]
     },
     "execution_count": 54,
     "metadata": {},
     "output_type": "execute_result"
    }
   ],
   "source": [
    "sns.countplot(x=\"labels\", data=df_test)\n",
    "plt.title(\"Distribución del label predecido (1/3/4) \")\n",
    "plt.show()\n",
    "\n",
    "df_test['labels'].value_counts()"
   ]
  },
  {
   "cell_type": "markdown",
   "id": "971911ae",
   "metadata": {},
   "source": []
  }
 ],
 "metadata": {
  "kernelspec": {
   "display_name": "Python 3",
   "language": "python",
   "name": "python3"
  },
  "language_info": {
   "codemirror_mode": {
    "name": "ipython",
    "version": 3
   },
   "file_extension": ".py",
   "mimetype": "text/x-python",
   "name": "python",
   "nbconvert_exporter": "python",
   "pygments_lexer": "ipython3",
   "version": "3.11.9"
  }
 },
 "nbformat": 4,
 "nbformat_minor": 5
}
